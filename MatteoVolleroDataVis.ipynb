{
 "cells": [
  {
   "cell_type": "markdown",
   "metadata": {},
   "source": [
    "# Analisi dell'impatto ambientale della produzione di cibi e mangimi\n",
    "### In base ai dati raccolti dall' Organizzazione delle Nazioni Unite capiremo quali sono gli alimenti che richiedono più risorse naturali in modo tale da poter spostare il focus produttivo su alimenti più sostenibili per l'ambiente."
   ]
  },
  {
   "cell_type": "code",
   "execution_count": 281,
   "metadata": {},
   "outputs": [
    {
     "name": "stdout",
     "output_type": "stream",
     "text": [
      "Requirement already satisfied: pip in /Library/Frameworks/Python.framework/Versions/3.10/lib/python3.10/site-packages (22.3.1)\n",
      "##########   ########## numpy installato ed importato\n",
      "##########   ########## pandas installato ed importato\n",
      "##########   ########## matplotlib installato ed importato\n",
      "##########   ########## seaborn installato ed importato\n",
      "##########   ########## plotly installato ed importato\n"
     ]
    }
   ],
   "source": [
    "import sys\n",
    "!{sys.executable} -m pip install --upgrade pip\n",
    "\n",
    "try:\n",
    "     import numpy as np\n",
    "except ModuleNotFoundError as MNF:\n",
    "     print(\"########## numpy non trovato lo installo\")\n",
    "     !{sys.executable} -m pip install numpy\n",
    "finally:\n",
    "     import numpy as np\n",
    "     print(\"##########   ########## numpy installato ed importato\")\n",
    "     \n",
    "try:\n",
    "     import pandas as pd\n",
    "except ModuleNotFoundError:\n",
    "     print(\"########## pandas non trovato lo installo\")\n",
    "     !{sys.executable} -m pip install pandas\n",
    "finally:\n",
    "     import pandas as pd\n",
    "     print(\"##########   ########## pandas installato ed importato\")\n",
    "     \n",
    "try:\n",
    "     import matplotlib.pyplot as plt\n",
    "except ModuleNotFoundError:\n",
    "     print(\"########## matplotlib non trovato lo installo\")\n",
    "     !{sys.executable} -m pip install matplotlib\n",
    "finally:\n",
    "     import matplotlib.pyplot as plt\n",
    "     print(\"##########   ########## matplotlib installato ed importato\")\n",
    "\n",
    "try:\n",
    "     import seaborn as sns\n",
    "except ModuleNotFoundError:\n",
    "     print(\"########## seaborn non trovato lo installo\")\n",
    "     !{sys.executable} -m pip install seaborn\n",
    "finally:\n",
    "     import seaborn as sns\n",
    "     print(\"##########   ########## seaborn installato ed importato\")\n",
    "\n",
    "try:\n",
    "     import plotly.express as px\n",
    "except ModuleNotFoundError:\n",
    "     print(\"########## plotly non trovato lo installo\")\n",
    "     !{sys.executable} -m pip install plotly\n",
    "finally:\n",
    "     import plotly.express as px\n",
    "     print(\"##########   ########## plotly installato ed importato\")\n",
    "\n",
    "\n",
    "FAO_df = pd.read_csv(\"data/FAO.csv\", encoding='latin-1')\n",
    "Food_Production_df = pd.read_csv(\"data/Food_Production.csv\")\n",
    "FAO_df[\"Type\"] = \"\""
   ]
  },
  {
   "cell_type": "markdown",
   "metadata": {},
   "source": [
    "# Datasets"
   ]
  },
  {
   "cell_type": "markdown",
   "metadata": {},
   "source": [
    "#### Visualizzeremo i primi record dei datasets"
   ]
  },
  {
   "cell_type": "code",
   "execution_count": 282,
   "metadata": {},
   "outputs": [
    {
     "data": {
      "text/html": [
       "<div>\n",
       "<style scoped>\n",
       "    .dataframe tbody tr th:only-of-type {\n",
       "        vertical-align: middle;\n",
       "    }\n",
       "\n",
       "    .dataframe tbody tr th {\n",
       "        vertical-align: top;\n",
       "    }\n",
       "\n",
       "    .dataframe thead th {\n",
       "        text-align: right;\n",
       "    }\n",
       "</style>\n",
       "<table border=\"1\" class=\"dataframe\">\n",
       "  <thead>\n",
       "    <tr style=\"text-align: right;\">\n",
       "      <th></th>\n",
       "      <th>Area Abbreviation</th>\n",
       "      <th>Area Code</th>\n",
       "      <th>Area</th>\n",
       "      <th>Item Code</th>\n",
       "      <th>Item</th>\n",
       "      <th>Element Code</th>\n",
       "      <th>Element</th>\n",
       "      <th>Unit</th>\n",
       "      <th>latitude</th>\n",
       "      <th>longitude</th>\n",
       "      <th>...</th>\n",
       "      <th>Y2005</th>\n",
       "      <th>Y2006</th>\n",
       "      <th>Y2007</th>\n",
       "      <th>Y2008</th>\n",
       "      <th>Y2009</th>\n",
       "      <th>Y2010</th>\n",
       "      <th>Y2011</th>\n",
       "      <th>Y2012</th>\n",
       "      <th>Y2013</th>\n",
       "      <th>Type</th>\n",
       "    </tr>\n",
       "  </thead>\n",
       "  <tbody>\n",
       "    <tr>\n",
       "      <th>0</th>\n",
       "      <td>AFG</td>\n",
       "      <td>2</td>\n",
       "      <td>Afghanistan</td>\n",
       "      <td>2511</td>\n",
       "      <td>Wheat and products</td>\n",
       "      <td>5142</td>\n",
       "      <td>Food</td>\n",
       "      <td>1000 tonnes</td>\n",
       "      <td>33.94</td>\n",
       "      <td>67.71</td>\n",
       "      <td>...</td>\n",
       "      <td>3486.0</td>\n",
       "      <td>3704.0</td>\n",
       "      <td>4164.0</td>\n",
       "      <td>4252.0</td>\n",
       "      <td>4538.0</td>\n",
       "      <td>4605.0</td>\n",
       "      <td>4711.0</td>\n",
       "      <td>4810</td>\n",
       "      <td>4895</td>\n",
       "      <td></td>\n",
       "    </tr>\n",
       "    <tr>\n",
       "      <th>1</th>\n",
       "      <td>AFG</td>\n",
       "      <td>2</td>\n",
       "      <td>Afghanistan</td>\n",
       "      <td>2805</td>\n",
       "      <td>Rice (Milled Equivalent)</td>\n",
       "      <td>5142</td>\n",
       "      <td>Food</td>\n",
       "      <td>1000 tonnes</td>\n",
       "      <td>33.94</td>\n",
       "      <td>67.71</td>\n",
       "      <td>...</td>\n",
       "      <td>445.0</td>\n",
       "      <td>546.0</td>\n",
       "      <td>455.0</td>\n",
       "      <td>490.0</td>\n",
       "      <td>415.0</td>\n",
       "      <td>442.0</td>\n",
       "      <td>476.0</td>\n",
       "      <td>425</td>\n",
       "      <td>422</td>\n",
       "      <td></td>\n",
       "    </tr>\n",
       "    <tr>\n",
       "      <th>2</th>\n",
       "      <td>AFG</td>\n",
       "      <td>2</td>\n",
       "      <td>Afghanistan</td>\n",
       "      <td>2513</td>\n",
       "      <td>Barley and products</td>\n",
       "      <td>5521</td>\n",
       "      <td>Feed</td>\n",
       "      <td>1000 tonnes</td>\n",
       "      <td>33.94</td>\n",
       "      <td>67.71</td>\n",
       "      <td>...</td>\n",
       "      <td>236.0</td>\n",
       "      <td>262.0</td>\n",
       "      <td>263.0</td>\n",
       "      <td>230.0</td>\n",
       "      <td>379.0</td>\n",
       "      <td>315.0</td>\n",
       "      <td>203.0</td>\n",
       "      <td>367</td>\n",
       "      <td>360</td>\n",
       "      <td></td>\n",
       "    </tr>\n",
       "    <tr>\n",
       "      <th>3</th>\n",
       "      <td>AFG</td>\n",
       "      <td>2</td>\n",
       "      <td>Afghanistan</td>\n",
       "      <td>2513</td>\n",
       "      <td>Barley and products</td>\n",
       "      <td>5142</td>\n",
       "      <td>Food</td>\n",
       "      <td>1000 tonnes</td>\n",
       "      <td>33.94</td>\n",
       "      <td>67.71</td>\n",
       "      <td>...</td>\n",
       "      <td>43.0</td>\n",
       "      <td>44.0</td>\n",
       "      <td>48.0</td>\n",
       "      <td>62.0</td>\n",
       "      <td>55.0</td>\n",
       "      <td>60.0</td>\n",
       "      <td>72.0</td>\n",
       "      <td>78</td>\n",
       "      <td>89</td>\n",
       "      <td></td>\n",
       "    </tr>\n",
       "    <tr>\n",
       "      <th>4</th>\n",
       "      <td>AFG</td>\n",
       "      <td>2</td>\n",
       "      <td>Afghanistan</td>\n",
       "      <td>2514</td>\n",
       "      <td>Maize and products</td>\n",
       "      <td>5521</td>\n",
       "      <td>Feed</td>\n",
       "      <td>1000 tonnes</td>\n",
       "      <td>33.94</td>\n",
       "      <td>67.71</td>\n",
       "      <td>...</td>\n",
       "      <td>208.0</td>\n",
       "      <td>233.0</td>\n",
       "      <td>249.0</td>\n",
       "      <td>247.0</td>\n",
       "      <td>195.0</td>\n",
       "      <td>178.0</td>\n",
       "      <td>191.0</td>\n",
       "      <td>200</td>\n",
       "      <td>200</td>\n",
       "      <td></td>\n",
       "    </tr>\n",
       "  </tbody>\n",
       "</table>\n",
       "<p>5 rows × 64 columns</p>\n",
       "</div>"
      ],
      "text/plain": [
       "  Area Abbreviation  Area Code         Area  Item Code  \\\n",
       "0               AFG          2  Afghanistan       2511   \n",
       "1               AFG          2  Afghanistan       2805   \n",
       "2               AFG          2  Afghanistan       2513   \n",
       "3               AFG          2  Afghanistan       2513   \n",
       "4               AFG          2  Afghanistan       2514   \n",
       "\n",
       "                       Item  Element Code Element         Unit  latitude  \\\n",
       "0        Wheat and products          5142    Food  1000 tonnes     33.94   \n",
       "1  Rice (Milled Equivalent)          5142    Food  1000 tonnes     33.94   \n",
       "2       Barley and products          5521    Feed  1000 tonnes     33.94   \n",
       "3       Barley and products          5142    Food  1000 tonnes     33.94   \n",
       "4        Maize and products          5521    Feed  1000 tonnes     33.94   \n",
       "\n",
       "   longitude  ...   Y2005   Y2006   Y2007   Y2008   Y2009   Y2010   Y2011  \\\n",
       "0      67.71  ...  3486.0  3704.0  4164.0  4252.0  4538.0  4605.0  4711.0   \n",
       "1      67.71  ...   445.0   546.0   455.0   490.0   415.0   442.0   476.0   \n",
       "2      67.71  ...   236.0   262.0   263.0   230.0   379.0   315.0   203.0   \n",
       "3      67.71  ...    43.0    44.0    48.0    62.0    55.0    60.0    72.0   \n",
       "4      67.71  ...   208.0   233.0   249.0   247.0   195.0   178.0   191.0   \n",
       "\n",
       "   Y2012  Y2013  Type  \n",
       "0   4810   4895        \n",
       "1    425    422        \n",
       "2    367    360        \n",
       "3     78     89        \n",
       "4    200    200        \n",
       "\n",
       "[5 rows x 64 columns]"
      ]
     },
     "execution_count": 282,
     "metadata": {},
     "output_type": "execute_result"
    }
   ],
   "source": [
    "FAO_df.head()"
   ]
  },
  {
   "cell_type": "code",
   "execution_count": 283,
   "metadata": {},
   "outputs": [
    {
     "data": {
      "text/html": [
       "<div>\n",
       "<style scoped>\n",
       "    .dataframe tbody tr th:only-of-type {\n",
       "        vertical-align: middle;\n",
       "    }\n",
       "\n",
       "    .dataframe tbody tr th {\n",
       "        vertical-align: top;\n",
       "    }\n",
       "\n",
       "    .dataframe thead th {\n",
       "        text-align: right;\n",
       "    }\n",
       "</style>\n",
       "<table border=\"1\" class=\"dataframe\">\n",
       "  <thead>\n",
       "    <tr style=\"text-align: right;\">\n",
       "      <th></th>\n",
       "      <th>Food product</th>\n",
       "      <th>Land use change</th>\n",
       "      <th>Animal Feed</th>\n",
       "      <th>Farm</th>\n",
       "      <th>Processing</th>\n",
       "      <th>Transport</th>\n",
       "      <th>Packging</th>\n",
       "      <th>Retail</th>\n",
       "      <th>Total_emissions</th>\n",
       "      <th>Eutrophying emissions per 1000kcal (gPO₄eq per 1000kcal)</th>\n",
       "      <th>...</th>\n",
       "      <th>Freshwater withdrawals per 100g protein (liters per 100g protein)</th>\n",
       "      <th>Freshwater withdrawals per kilogram (liters per kilogram)</th>\n",
       "      <th>Greenhouse gas emissions per 1000kcal (kgCO₂eq per 1000kcal)</th>\n",
       "      <th>Greenhouse gas emissions per 100g protein (kgCO₂eq per 100g protein)</th>\n",
       "      <th>Land use per 1000kcal (m² per 1000kcal)</th>\n",
       "      <th>Land use per kilogram (m² per kilogram)</th>\n",
       "      <th>Land use per 100g protein (m² per 100g protein)</th>\n",
       "      <th>Scarcity-weighted water use per kilogram (liters per kilogram)</th>\n",
       "      <th>Scarcity-weighted water use per 100g protein (liters per 100g protein)</th>\n",
       "      <th>Scarcity-weighted water use per 1000kcal (liters per 1000 kilocalories)</th>\n",
       "    </tr>\n",
       "  </thead>\n",
       "  <tbody>\n",
       "    <tr>\n",
       "      <th>0</th>\n",
       "      <td>Wheat &amp; Rye (Bread)</td>\n",
       "      <td>0.1</td>\n",
       "      <td>0.0</td>\n",
       "      <td>0.8</td>\n",
       "      <td>0.2</td>\n",
       "      <td>0.1</td>\n",
       "      <td>0.1</td>\n",
       "      <td>0.1</td>\n",
       "      <td>1.4</td>\n",
       "      <td>NaN</td>\n",
       "      <td>...</td>\n",
       "      <td>NaN</td>\n",
       "      <td>NaN</td>\n",
       "      <td>NaN</td>\n",
       "      <td>NaN</td>\n",
       "      <td>NaN</td>\n",
       "      <td>NaN</td>\n",
       "      <td>NaN</td>\n",
       "      <td>NaN</td>\n",
       "      <td>NaN</td>\n",
       "      <td>NaN</td>\n",
       "    </tr>\n",
       "    <tr>\n",
       "      <th>1</th>\n",
       "      <td>Maize (Meal)</td>\n",
       "      <td>0.3</td>\n",
       "      <td>0.0</td>\n",
       "      <td>0.5</td>\n",
       "      <td>0.1</td>\n",
       "      <td>0.1</td>\n",
       "      <td>0.1</td>\n",
       "      <td>0.0</td>\n",
       "      <td>1.1</td>\n",
       "      <td>NaN</td>\n",
       "      <td>...</td>\n",
       "      <td>NaN</td>\n",
       "      <td>NaN</td>\n",
       "      <td>NaN</td>\n",
       "      <td>NaN</td>\n",
       "      <td>NaN</td>\n",
       "      <td>NaN</td>\n",
       "      <td>NaN</td>\n",
       "      <td>NaN</td>\n",
       "      <td>NaN</td>\n",
       "      <td>NaN</td>\n",
       "    </tr>\n",
       "    <tr>\n",
       "      <th>2</th>\n",
       "      <td>Barley (Beer)</td>\n",
       "      <td>0.0</td>\n",
       "      <td>0.0</td>\n",
       "      <td>0.2</td>\n",
       "      <td>0.1</td>\n",
       "      <td>0.0</td>\n",
       "      <td>0.5</td>\n",
       "      <td>0.3</td>\n",
       "      <td>1.1</td>\n",
       "      <td>NaN</td>\n",
       "      <td>...</td>\n",
       "      <td>NaN</td>\n",
       "      <td>NaN</td>\n",
       "      <td>NaN</td>\n",
       "      <td>NaN</td>\n",
       "      <td>NaN</td>\n",
       "      <td>NaN</td>\n",
       "      <td>NaN</td>\n",
       "      <td>NaN</td>\n",
       "      <td>NaN</td>\n",
       "      <td>NaN</td>\n",
       "    </tr>\n",
       "    <tr>\n",
       "      <th>3</th>\n",
       "      <td>Oatmeal</td>\n",
       "      <td>0.0</td>\n",
       "      <td>0.0</td>\n",
       "      <td>1.4</td>\n",
       "      <td>0.0</td>\n",
       "      <td>0.1</td>\n",
       "      <td>0.1</td>\n",
       "      <td>0.0</td>\n",
       "      <td>1.6</td>\n",
       "      <td>4.281357</td>\n",
       "      <td>...</td>\n",
       "      <td>371.076923</td>\n",
       "      <td>482.4</td>\n",
       "      <td>0.945482</td>\n",
       "      <td>1.907692</td>\n",
       "      <td>2.897446</td>\n",
       "      <td>7.6</td>\n",
       "      <td>5.846154</td>\n",
       "      <td>18786.2</td>\n",
       "      <td>14450.92308</td>\n",
       "      <td>7162.104461</td>\n",
       "    </tr>\n",
       "    <tr>\n",
       "      <th>4</th>\n",
       "      <td>Rice</td>\n",
       "      <td>0.0</td>\n",
       "      <td>0.0</td>\n",
       "      <td>3.6</td>\n",
       "      <td>0.1</td>\n",
       "      <td>0.1</td>\n",
       "      <td>0.1</td>\n",
       "      <td>0.1</td>\n",
       "      <td>4.0</td>\n",
       "      <td>9.514379</td>\n",
       "      <td>...</td>\n",
       "      <td>3166.760563</td>\n",
       "      <td>2248.4</td>\n",
       "      <td>1.207271</td>\n",
       "      <td>6.267606</td>\n",
       "      <td>0.759631</td>\n",
       "      <td>2.8</td>\n",
       "      <td>3.943662</td>\n",
       "      <td>49576.3</td>\n",
       "      <td>69825.77465</td>\n",
       "      <td>13449.891480</td>\n",
       "    </tr>\n",
       "  </tbody>\n",
       "</table>\n",
       "<p>5 rows × 23 columns</p>\n",
       "</div>"
      ],
      "text/plain": [
       "          Food product  Land use change  Animal Feed  Farm  Processing  \\\n",
       "0  Wheat & Rye (Bread)              0.1          0.0   0.8         0.2   \n",
       "1         Maize (Meal)              0.3          0.0   0.5         0.1   \n",
       "2        Barley (Beer)              0.0          0.0   0.2         0.1   \n",
       "3              Oatmeal              0.0          0.0   1.4         0.0   \n",
       "4                 Rice              0.0          0.0   3.6         0.1   \n",
       "\n",
       "   Transport  Packging  Retail  Total_emissions  \\\n",
       "0        0.1       0.1     0.1              1.4   \n",
       "1        0.1       0.1     0.0              1.1   \n",
       "2        0.0       0.5     0.3              1.1   \n",
       "3        0.1       0.1     0.0              1.6   \n",
       "4        0.1       0.1     0.1              4.0   \n",
       "\n",
       "   Eutrophying emissions per 1000kcal (gPO₄eq per 1000kcal)  ...  \\\n",
       "0                                                NaN         ...   \n",
       "1                                                NaN         ...   \n",
       "2                                                NaN         ...   \n",
       "3                                           4.281357         ...   \n",
       "4                                           9.514379         ...   \n",
       "\n",
       "   Freshwater withdrawals per 100g protein (liters per 100g protein)  \\\n",
       "0                                                NaN                   \n",
       "1                                                NaN                   \n",
       "2                                                NaN                   \n",
       "3                                         371.076923                   \n",
       "4                                        3166.760563                   \n",
       "\n",
       "   Freshwater withdrawals per kilogram (liters per kilogram)  \\\n",
       "0                                                NaN           \n",
       "1                                                NaN           \n",
       "2                                                NaN           \n",
       "3                                              482.4           \n",
       "4                                             2248.4           \n",
       "\n",
       "   Greenhouse gas emissions per 1000kcal (kgCO₂eq per 1000kcal)  \\\n",
       "0                                                NaN              \n",
       "1                                                NaN              \n",
       "2                                                NaN              \n",
       "3                                           0.945482              \n",
       "4                                           1.207271              \n",
       "\n",
       "   Greenhouse gas emissions per 100g protein (kgCO₂eq per 100g protein)  \\\n",
       "0                                                NaN                      \n",
       "1                                                NaN                      \n",
       "2                                                NaN                      \n",
       "3                                           1.907692                      \n",
       "4                                           6.267606                      \n",
       "\n",
       "   Land use per 1000kcal (m² per 1000kcal)  \\\n",
       "0                                      NaN   \n",
       "1                                      NaN   \n",
       "2                                      NaN   \n",
       "3                                 2.897446   \n",
       "4                                 0.759631   \n",
       "\n",
       "   Land use per kilogram (m² per kilogram)  \\\n",
       "0                                      NaN   \n",
       "1                                      NaN   \n",
       "2                                      NaN   \n",
       "3                                      7.6   \n",
       "4                                      2.8   \n",
       "\n",
       "   Land use per 100g protein (m² per 100g protein)  \\\n",
       "0                                              NaN   \n",
       "1                                              NaN   \n",
       "2                                              NaN   \n",
       "3                                         5.846154   \n",
       "4                                         3.943662   \n",
       "\n",
       "   Scarcity-weighted water use per kilogram (liters per kilogram)  \\\n",
       "0                                                NaN                \n",
       "1                                                NaN                \n",
       "2                                                NaN                \n",
       "3                                            18786.2                \n",
       "4                                            49576.3                \n",
       "\n",
       "   Scarcity-weighted water use per 100g protein (liters per 100g protein)  \\\n",
       "0                                                NaN                        \n",
       "1                                                NaN                        \n",
       "2                                                NaN                        \n",
       "3                                        14450.92308                        \n",
       "4                                        69825.77465                        \n",
       "\n",
       "   Scarcity-weighted water use per 1000kcal (liters per 1000 kilocalories)  \n",
       "0                                                NaN                        \n",
       "1                                                NaN                        \n",
       "2                                                NaN                        \n",
       "3                                        7162.104461                        \n",
       "4                                       13449.891480                        \n",
       "\n",
       "[5 rows x 23 columns]"
      ]
     },
     "execution_count": 283,
     "metadata": {},
     "output_type": "execute_result"
    }
   ],
   "source": [
    "Food_Production_df.head()"
   ]
  },
  {
   "cell_type": "markdown",
   "metadata": {},
   "source": [
    "#### Abbiamo rispettivamente un dataset che ci da informazioni sulle quantità prodotte e un datasets che ci da informazioni rigurado l'inquinamento."
   ]
  },
  {
   "cell_type": "markdown",
   "metadata": {},
   "source": [
    "# Colonne del primo dataset\n",
    "#### Del primo dataset andremo a considerare le seguenti colonne:\n",
    "- **Area Abbreviation -> Abbreviazione dell'area**\n",
    "- **Area -> Area scritta per esteso**\n",
    "- **Item -> Prodotto**\n",
    "- **Element -> Mangime o Cibo**\n",
    "- **Unit -> Unità di misura per la produzione**\n",
    "- **Tutte le colonne che iniziano con Y -> Quanto è stato prodotto ogni anno**"
   ]
  },
  {
   "cell_type": "code",
   "execution_count": 284,
   "metadata": {},
   "outputs": [
    {
     "data": {
      "text/html": [
       "<div>\n",
       "<style scoped>\n",
       "    .dataframe tbody tr th:only-of-type {\n",
       "        vertical-align: middle;\n",
       "    }\n",
       "\n",
       "    .dataframe tbody tr th {\n",
       "        vertical-align: top;\n",
       "    }\n",
       "\n",
       "    .dataframe thead th {\n",
       "        text-align: right;\n",
       "    }\n",
       "</style>\n",
       "<table border=\"1\" class=\"dataframe\">\n",
       "  <thead>\n",
       "    <tr style=\"text-align: right;\">\n",
       "      <th></th>\n",
       "      <th>Area Abbreviation</th>\n",
       "      <th>Area Code</th>\n",
       "      <th>Area</th>\n",
       "      <th>Item</th>\n",
       "      <th>Element</th>\n",
       "      <th>Unit</th>\n",
       "      <th>Y1961</th>\n",
       "      <th>Y1962</th>\n",
       "      <th>Y1963</th>\n",
       "      <th>Y1964</th>\n",
       "      <th>...</th>\n",
       "      <th>Y2005</th>\n",
       "      <th>Y2006</th>\n",
       "      <th>Y2007</th>\n",
       "      <th>Y2008</th>\n",
       "      <th>Y2009</th>\n",
       "      <th>Y2010</th>\n",
       "      <th>Y2011</th>\n",
       "      <th>Y2012</th>\n",
       "      <th>Y2013</th>\n",
       "      <th>Type</th>\n",
       "    </tr>\n",
       "  </thead>\n",
       "  <tbody>\n",
       "    <tr>\n",
       "      <th>0</th>\n",
       "      <td>AFG</td>\n",
       "      <td>2</td>\n",
       "      <td>Afghanistan</td>\n",
       "      <td>Wheat and products</td>\n",
       "      <td>Food</td>\n",
       "      <td>1000 tonnes</td>\n",
       "      <td>1928.0</td>\n",
       "      <td>1904.0</td>\n",
       "      <td>1666.0</td>\n",
       "      <td>1950.0</td>\n",
       "      <td>...</td>\n",
       "      <td>3486.0</td>\n",
       "      <td>3704.0</td>\n",
       "      <td>4164.0</td>\n",
       "      <td>4252.0</td>\n",
       "      <td>4538.0</td>\n",
       "      <td>4605.0</td>\n",
       "      <td>4711.0</td>\n",
       "      <td>4810</td>\n",
       "      <td>4895</td>\n",
       "      <td></td>\n",
       "    </tr>\n",
       "    <tr>\n",
       "      <th>1</th>\n",
       "      <td>AFG</td>\n",
       "      <td>2</td>\n",
       "      <td>Afghanistan</td>\n",
       "      <td>Rice (Milled Equivalent)</td>\n",
       "      <td>Food</td>\n",
       "      <td>1000 tonnes</td>\n",
       "      <td>183.0</td>\n",
       "      <td>183.0</td>\n",
       "      <td>182.0</td>\n",
       "      <td>220.0</td>\n",
       "      <td>...</td>\n",
       "      <td>445.0</td>\n",
       "      <td>546.0</td>\n",
       "      <td>455.0</td>\n",
       "      <td>490.0</td>\n",
       "      <td>415.0</td>\n",
       "      <td>442.0</td>\n",
       "      <td>476.0</td>\n",
       "      <td>425</td>\n",
       "      <td>422</td>\n",
       "      <td></td>\n",
       "    </tr>\n",
       "    <tr>\n",
       "      <th>2</th>\n",
       "      <td>AFG</td>\n",
       "      <td>2</td>\n",
       "      <td>Afghanistan</td>\n",
       "      <td>Barley and products</td>\n",
       "      <td>Feed</td>\n",
       "      <td>1000 tonnes</td>\n",
       "      <td>76.0</td>\n",
       "      <td>76.0</td>\n",
       "      <td>76.0</td>\n",
       "      <td>76.0</td>\n",
       "      <td>...</td>\n",
       "      <td>236.0</td>\n",
       "      <td>262.0</td>\n",
       "      <td>263.0</td>\n",
       "      <td>230.0</td>\n",
       "      <td>379.0</td>\n",
       "      <td>315.0</td>\n",
       "      <td>203.0</td>\n",
       "      <td>367</td>\n",
       "      <td>360</td>\n",
       "      <td></td>\n",
       "    </tr>\n",
       "    <tr>\n",
       "      <th>3</th>\n",
       "      <td>AFG</td>\n",
       "      <td>2</td>\n",
       "      <td>Afghanistan</td>\n",
       "      <td>Barley and products</td>\n",
       "      <td>Food</td>\n",
       "      <td>1000 tonnes</td>\n",
       "      <td>237.0</td>\n",
       "      <td>237.0</td>\n",
       "      <td>237.0</td>\n",
       "      <td>238.0</td>\n",
       "      <td>...</td>\n",
       "      <td>43.0</td>\n",
       "      <td>44.0</td>\n",
       "      <td>48.0</td>\n",
       "      <td>62.0</td>\n",
       "      <td>55.0</td>\n",
       "      <td>60.0</td>\n",
       "      <td>72.0</td>\n",
       "      <td>78</td>\n",
       "      <td>89</td>\n",
       "      <td></td>\n",
       "    </tr>\n",
       "    <tr>\n",
       "      <th>4</th>\n",
       "      <td>AFG</td>\n",
       "      <td>2</td>\n",
       "      <td>Afghanistan</td>\n",
       "      <td>Maize and products</td>\n",
       "      <td>Feed</td>\n",
       "      <td>1000 tonnes</td>\n",
       "      <td>210.0</td>\n",
       "      <td>210.0</td>\n",
       "      <td>214.0</td>\n",
       "      <td>216.0</td>\n",
       "      <td>...</td>\n",
       "      <td>208.0</td>\n",
       "      <td>233.0</td>\n",
       "      <td>249.0</td>\n",
       "      <td>247.0</td>\n",
       "      <td>195.0</td>\n",
       "      <td>178.0</td>\n",
       "      <td>191.0</td>\n",
       "      <td>200</td>\n",
       "      <td>200</td>\n",
       "      <td></td>\n",
       "    </tr>\n",
       "  </tbody>\n",
       "</table>\n",
       "<p>5 rows × 60 columns</p>\n",
       "</div>"
      ],
      "text/plain": [
       "  Area Abbreviation  Area Code         Area                      Item Element  \\\n",
       "0               AFG          2  Afghanistan        Wheat and products    Food   \n",
       "1               AFG          2  Afghanistan  Rice (Milled Equivalent)    Food   \n",
       "2               AFG          2  Afghanistan       Barley and products    Feed   \n",
       "3               AFG          2  Afghanistan       Barley and products    Food   \n",
       "4               AFG          2  Afghanistan        Maize and products    Feed   \n",
       "\n",
       "          Unit   Y1961   Y1962   Y1963   Y1964  ...   Y2005   Y2006   Y2007  \\\n",
       "0  1000 tonnes  1928.0  1904.0  1666.0  1950.0  ...  3486.0  3704.0  4164.0   \n",
       "1  1000 tonnes   183.0   183.0   182.0   220.0  ...   445.0   546.0   455.0   \n",
       "2  1000 tonnes    76.0    76.0    76.0    76.0  ...   236.0   262.0   263.0   \n",
       "3  1000 tonnes   237.0   237.0   237.0   238.0  ...    43.0    44.0    48.0   \n",
       "4  1000 tonnes   210.0   210.0   214.0   216.0  ...   208.0   233.0   249.0   \n",
       "\n",
       "    Y2008   Y2009   Y2010   Y2011  Y2012  Y2013  Type  \n",
       "0  4252.0  4538.0  4605.0  4711.0   4810   4895        \n",
       "1   490.0   415.0   442.0   476.0    425    422        \n",
       "2   230.0   379.0   315.0   203.0    367    360        \n",
       "3    62.0    55.0    60.0    72.0     78     89        \n",
       "4   247.0   195.0   178.0   191.0    200    200        \n",
       "\n",
       "[5 rows x 60 columns]"
      ]
     },
     "execution_count": 284,
     "metadata": {},
     "output_type": "execute_result"
    }
   ],
   "source": [
    "# Selezione delle colonne del primo dataset\n",
    "colonne_interessate = [\"Area Abbreviation\", \"Area\", \"Area Code\", \"Item\", \"Element\", \"Unit\", \"Type\"]\n",
    "FAO_df_colonne_interessate = [ colonna for colonna in FAO_df.columns if colonna.startswith(\"Y\") or (colonna in colonne_interessate)]\n",
    "FAO_df[FAO_df_colonne_interessate].head()"
   ]
  },
  {
   "cell_type": "markdown",
   "metadata": {},
   "source": [
    "# Estrapolazione degli alimenti il cui inquinamento è tracciato\n"
   ]
  },
  {
   "cell_type": "markdown",
   "metadata": {},
   "source": [
    "##### Bisogna andare a prendere i cibi ed i mangimi di cui abbiamo informazioni nei datasets e bisogna aggiustare alcune righe poichè ci sono alcuni record che hanno 2 prodotti come ad esempio Wheat & Rye che sono unificati."
   ]
  },
  {
   "cell_type": "code",
   "execution_count": 285,
   "metadata": {},
   "outputs": [],
   "source": [
    "cibi = Food_Production_df[\"Food product\"]\n",
    "# Adattamento per favorire l'incrocio dati\n",
    "cibi_temp = list()\n",
    "for cibo in cibi:\n",
    "     if \"Beef\" not in cibo:\n",
    "          split = cibo.split('&')\n",
    "          cibi_temp.append(str.strip(split[0]))\n",
    "          if len(split) > 1:\n",
    "               cibi_temp.append(str.strip(split[1]))\n",
    "cibi_temp.sort()\n",
    "cibi = pd.Series(cibi_temp)\n"
   ]
  },
  {
   "cell_type": "markdown",
   "metadata": {},
   "source": [
    "# Incorcio dei dati\n",
    "#### L'incrocio dei dati porterà ad una diminuzione del campione il che è naturale poichè non vengono tracciati tutti i cibi che ci sono nel dataset delle Nazioni Unite."
   ]
  },
  {
   "cell_type": "code",
   "execution_count": 286,
   "metadata": {},
   "outputs": [],
   "source": [
    "# Funzione per incrocio dati\n",
    "def incrocio_dati(df, cibi, prodotti_tracciati, colonne) -> None:\n",
    "     for index, record in FAO_df[FAO_df_colonne_interessate].iterrows():\n",
    "          food_type = record[\"Item\"].lower()\n",
    "          # Caso del dizionario\n",
    "          if(isinstance(cibi, dict)):\n",
    "               for key in cibi.keys():\n",
    "                    if food_type.startswith(cibi[key].lower()) and index not in prodotti_tracciati:\n",
    "                         prodotti_tracciati.append(index)\n",
    "                         FAO_df.at[index, \"Type\"] = key\n",
    "          # Caso lista/pd.series.Series\n",
    "          elif(isinstance(cibi, pd.core.series.Series) or isinstance(cibi, list)):\n",
    "               for i in range(len(cibi)):\n",
    "                    if food_type.startswith(cibi[i].lower()) and index not in prodotti_tracciati:\n",
    "                         prodotti_tracciati.append(index)\n",
    "                         FAO_df.at[index, \"Type\"] = cibi[i]\n",
    "          # Caso di un tipo non permesso\n",
    "          else:\n",
    "               print(\"No type encoded\")\n"
   ]
  },
  {
   "cell_type": "code",
   "execution_count": 287,
   "metadata": {},
   "outputs": [
    {
     "name": "stdout",
     "output_type": "stream",
     "text": [
      "Numero di prodotti tracciati:  4369\n"
     ]
    }
   ],
   "source": [
    "# Inserimento nel df in base al tipo di alimento(pt.1)\n",
    "prodotti_tracciati = list()\n",
    "incrocio_dati(FAO_df, cibi, prodotti_tracciati, colonne_interessate)\n",
    "print(\"Numero di prodotti tracciati: \", len(prodotti_tracciati))"
   ]
  },
  {
   "cell_type": "markdown",
   "metadata": {},
   "source": [
    "# Dati non presi\n",
    "#### Alcuni dati non sono stati presi a causa della differente nomenclatura tra i datasets in particolare: \n",
    "- **Beet Sugar**\n",
    "- **Cane Sugar**\n",
    "- **Citrus Fruit**\n",
    "- **Fish (farmed)**\n",
    "- **Other Fruit**\n",
    "- **Other Pulses**\n",
    "- **Other Vegetable**\n",
    "- **Pig Meat**\n",
    "- **Sunflower Oil**\n",
    "\n",
    "#### Effettuerò delle modifiche alle nomenclature al fine di estrapolarli."
   ]
  },
  {
   "cell_type": "code",
   "execution_count": 288,
   "metadata": {},
   "outputs": [
    {
     "name": "stdout",
     "output_type": "stream",
     "text": [
      "Numero di prodotti tracciati:  6483\n"
     ]
    }
   ],
   "source": [
    "colonne_dict = {\n",
    "     'Beet Sugar': 'sugar beet',\n",
    "     'Cane Sugar': 'sugar cane',\n",
    "     'Citrus Fruit': 'citrus',\n",
    "     'Fish (farmed)': 'fish',\n",
    "     'Other Fruit': 'fruits, other',\n",
    "     'Other Pulses': 'pulses, other and product',\n",
    "     'Other Vegetables': 'vegetables, other',\n",
    "     'Pig Meat': 'pigmeat',\n",
    "     'Beef (beef herd)': 'bovine meat'\n",
    "}\n",
    "\n",
    "incrocio_dati(FAO_df, colonne_dict, prodotti_tracciati, colonne_interessate)\n",
    "print(\"Numero di prodotti tracciati: \", len(prodotti_tracciati))\n"
   ]
  },
  {
   "cell_type": "markdown",
   "metadata": {},
   "source": [
    "# Creazione del dataset "
   ]
  },
  {
   "cell_type": "code",
   "execution_count": 289,
   "metadata": {},
   "outputs": [
    {
     "data": {
      "text/html": [
       "<div>\n",
       "<style scoped>\n",
       "    .dataframe tbody tr th:only-of-type {\n",
       "        vertical-align: middle;\n",
       "    }\n",
       "\n",
       "    .dataframe tbody tr th {\n",
       "        vertical-align: top;\n",
       "    }\n",
       "\n",
       "    .dataframe thead th {\n",
       "        text-align: right;\n",
       "    }\n",
       "</style>\n",
       "<table border=\"1\" class=\"dataframe\">\n",
       "  <thead>\n",
       "    <tr style=\"text-align: right;\">\n",
       "      <th></th>\n",
       "      <th>Area Abbreviation</th>\n",
       "      <th>Area Code</th>\n",
       "      <th>Area</th>\n",
       "      <th>Item</th>\n",
       "      <th>Element</th>\n",
       "      <th>Unit</th>\n",
       "      <th>Y1961</th>\n",
       "      <th>Y1962</th>\n",
       "      <th>Y1963</th>\n",
       "      <th>Y1964</th>\n",
       "      <th>...</th>\n",
       "      <th>Y2005</th>\n",
       "      <th>Y2006</th>\n",
       "      <th>Y2007</th>\n",
       "      <th>Y2008</th>\n",
       "      <th>Y2009</th>\n",
       "      <th>Y2010</th>\n",
       "      <th>Y2011</th>\n",
       "      <th>Y2012</th>\n",
       "      <th>Y2013</th>\n",
       "      <th>Type</th>\n",
       "    </tr>\n",
       "  </thead>\n",
       "  <tbody>\n",
       "    <tr>\n",
       "      <th>0</th>\n",
       "      <td>AFG</td>\n",
       "      <td>2</td>\n",
       "      <td>Afghanistan</td>\n",
       "      <td>Wheat and products</td>\n",
       "      <td>Food</td>\n",
       "      <td>1000 tonnes</td>\n",
       "      <td>1928.0</td>\n",
       "      <td>1904.0</td>\n",
       "      <td>1666.0</td>\n",
       "      <td>1950.0</td>\n",
       "      <td>...</td>\n",
       "      <td>3486.0</td>\n",
       "      <td>3704.0</td>\n",
       "      <td>4164.0</td>\n",
       "      <td>4252.0</td>\n",
       "      <td>4538.0</td>\n",
       "      <td>4605.0</td>\n",
       "      <td>4711.0</td>\n",
       "      <td>4810</td>\n",
       "      <td>4895</td>\n",
       "      <td>Wheat</td>\n",
       "    </tr>\n",
       "    <tr>\n",
       "      <th>1</th>\n",
       "      <td>AFG</td>\n",
       "      <td>2</td>\n",
       "      <td>Afghanistan</td>\n",
       "      <td>Rice (Milled Equivalent)</td>\n",
       "      <td>Food</td>\n",
       "      <td>1000 tonnes</td>\n",
       "      <td>183.0</td>\n",
       "      <td>183.0</td>\n",
       "      <td>182.0</td>\n",
       "      <td>220.0</td>\n",
       "      <td>...</td>\n",
       "      <td>445.0</td>\n",
       "      <td>546.0</td>\n",
       "      <td>455.0</td>\n",
       "      <td>490.0</td>\n",
       "      <td>415.0</td>\n",
       "      <td>442.0</td>\n",
       "      <td>476.0</td>\n",
       "      <td>425</td>\n",
       "      <td>422</td>\n",
       "      <td>Rice</td>\n",
       "    </tr>\n",
       "    <tr>\n",
       "      <th>2</th>\n",
       "      <td>AFG</td>\n",
       "      <td>2</td>\n",
       "      <td>Afghanistan</td>\n",
       "      <td>Potatoes and products</td>\n",
       "      <td>Food</td>\n",
       "      <td>1000 tonnes</td>\n",
       "      <td>111.0</td>\n",
       "      <td>97.0</td>\n",
       "      <td>103.0</td>\n",
       "      <td>110.0</td>\n",
       "      <td>...</td>\n",
       "      <td>294.0</td>\n",
       "      <td>294.0</td>\n",
       "      <td>260.0</td>\n",
       "      <td>242.0</td>\n",
       "      <td>250.0</td>\n",
       "      <td>192.0</td>\n",
       "      <td>169.0</td>\n",
       "      <td>196</td>\n",
       "      <td>230</td>\n",
       "      <td>Potatoes</td>\n",
       "    </tr>\n",
       "    <tr>\n",
       "      <th>3</th>\n",
       "      <td>AFG</td>\n",
       "      <td>2</td>\n",
       "      <td>Afghanistan</td>\n",
       "      <td>Nuts and products</td>\n",
       "      <td>Food</td>\n",
       "      <td>1000 tonnes</td>\n",
       "      <td>2.0</td>\n",
       "      <td>3.0</td>\n",
       "      <td>1.0</td>\n",
       "      <td>1.0</td>\n",
       "      <td>...</td>\n",
       "      <td>13.0</td>\n",
       "      <td>24.0</td>\n",
       "      <td>34.0</td>\n",
       "      <td>42.0</td>\n",
       "      <td>28.0</td>\n",
       "      <td>66.0</td>\n",
       "      <td>71.0</td>\n",
       "      <td>70</td>\n",
       "      <td>44</td>\n",
       "      <td>Nuts</td>\n",
       "    </tr>\n",
       "    <tr>\n",
       "      <th>4</th>\n",
       "      <td>AFG</td>\n",
       "      <td>2</td>\n",
       "      <td>Afghanistan</td>\n",
       "      <td>Palm Oil</td>\n",
       "      <td>Food</td>\n",
       "      <td>1000 tonnes</td>\n",
       "      <td>0.0</td>\n",
       "      <td>0.0</td>\n",
       "      <td>0.0</td>\n",
       "      <td>0.0</td>\n",
       "      <td>...</td>\n",
       "      <td>69.0</td>\n",
       "      <td>56.0</td>\n",
       "      <td>51.0</td>\n",
       "      <td>36.0</td>\n",
       "      <td>53.0</td>\n",
       "      <td>59.0</td>\n",
       "      <td>51.0</td>\n",
       "      <td>61</td>\n",
       "      <td>64</td>\n",
       "      <td>Palm Oil</td>\n",
       "    </tr>\n",
       "  </tbody>\n",
       "</table>\n",
       "<p>5 rows × 60 columns</p>\n",
       "</div>"
      ],
      "text/plain": [
       "  Area Abbreviation  Area Code         Area                      Item Element  \\\n",
       "0               AFG          2  Afghanistan        Wheat and products    Food   \n",
       "1               AFG          2  Afghanistan  Rice (Milled Equivalent)    Food   \n",
       "2               AFG          2  Afghanistan     Potatoes and products    Food   \n",
       "3               AFG          2  Afghanistan         Nuts and products    Food   \n",
       "4               AFG          2  Afghanistan                  Palm Oil    Food   \n",
       "\n",
       "          Unit   Y1961   Y1962   Y1963   Y1964  ...   Y2005   Y2006   Y2007  \\\n",
       "0  1000 tonnes  1928.0  1904.0  1666.0  1950.0  ...  3486.0  3704.0  4164.0   \n",
       "1  1000 tonnes   183.0   183.0   182.0   220.0  ...   445.0   546.0   455.0   \n",
       "2  1000 tonnes   111.0    97.0   103.0   110.0  ...   294.0   294.0   260.0   \n",
       "3  1000 tonnes     2.0     3.0     1.0     1.0  ...    13.0    24.0    34.0   \n",
       "4  1000 tonnes     0.0     0.0     0.0     0.0  ...    69.0    56.0    51.0   \n",
       "\n",
       "    Y2008   Y2009   Y2010   Y2011  Y2012  Y2013      Type  \n",
       "0  4252.0  4538.0  4605.0  4711.0   4810   4895     Wheat  \n",
       "1   490.0   415.0   442.0   476.0    425    422      Rice  \n",
       "2   242.0   250.0   192.0   169.0    196    230  Potatoes  \n",
       "3    42.0    28.0    66.0    71.0     70     44      Nuts  \n",
       "4    36.0    53.0    59.0    51.0     61     64  Palm Oil  \n",
       "\n",
       "[5 rows x 60 columns]"
      ]
     },
     "execution_count": 289,
     "metadata": {},
     "output_type": "execute_result"
    }
   ],
   "source": [
    "prodotti_tracciati_df = FAO_df.iloc[prodotti_tracciati]\n",
    "prodotti_tracciati_df = prodotti_tracciati_df[FAO_df_colonne_interessate].reset_index().drop(columns=['index'])\n",
    "prodotti_tracciati_df.head()\n"
   ]
  },
  {
   "cell_type": "markdown",
   "metadata": {},
   "source": [
    "# Pulizia dei dati\n",
    "#### All'interno dei dati incrociati potremmo avere dei valori nulli che sporcano i dati, effettueremo quindi una pulizia dei dati. Verranno prima divisi per categoria e poi puliti."
   ]
  },
  {
   "cell_type": "code",
   "execution_count": 290,
   "metadata": {},
   "outputs": [
    {
     "name": "stdout",
     "output_type": "stream",
     "text": [
      "Totale di alimenti =  6306\n"
     ]
    },
    {
     "data": {
      "application/vnd.plotly.v1+json": {
       "config": {
        "plotlyServerURL": "https://plot.ly"
       },
       "data": [
        {
         "domain": {
          "x": [
           0,
           1
          ],
          "y": [
           0,
           1
          ]
         },
         "hovertemplate": "label=%{label}<br>value=%{value}<extra></extra>",
         "labels": [
          "Apples",
          "Bananas",
          "Sugar beet",
          "Sugar cane",
          "Cassava",
          "Citrus",
          "Coffee",
          "Eggs",
          "Fish",
          "Grapes",
          "Groundnuts",
          "Milk",
          "Mutton",
          "Nuts",
          "Olive Oil",
          "Onions",
          "Fruits, other",
          "Pulses, other and product",
          "Vegetables, other",
          "Palm Oil",
          "Peas",
          "Pigmeat",
          "Potatoes",
          "Poultry Meat",
          "Rice",
          "Tomatoes",
          "Wheat",
          "Wine"
         ],
         "legendgroup": "",
         "name": "",
         "showlegend": true,
         "type": "pie",
         "values": [
          194,
          186,
          66,
          87,
          225,
          155,
          174,
          360,
          762,
          173,
          170,
          558,
          176,
          173,
          174,
          167,
          185,
          255,
          258,
          124,
          196,
          169,
          254,
          175,
          273,
          175,
          273,
          169
         ]
        }
       ],
       "layout": {
        "legend": {
         "tracegroupgap": 0
        },
        "template": {
         "data": {
          "bar": [
           {
            "error_x": {
             "color": "#2a3f5f"
            },
            "error_y": {
             "color": "#2a3f5f"
            },
            "marker": {
             "line": {
              "color": "#E5ECF6",
              "width": 0.5
             },
             "pattern": {
              "fillmode": "overlay",
              "size": 10,
              "solidity": 0.2
             }
            },
            "type": "bar"
           }
          ],
          "barpolar": [
           {
            "marker": {
             "line": {
              "color": "#E5ECF6",
              "width": 0.5
             },
             "pattern": {
              "fillmode": "overlay",
              "size": 10,
              "solidity": 0.2
             }
            },
            "type": "barpolar"
           }
          ],
          "carpet": [
           {
            "aaxis": {
             "endlinecolor": "#2a3f5f",
             "gridcolor": "white",
             "linecolor": "white",
             "minorgridcolor": "white",
             "startlinecolor": "#2a3f5f"
            },
            "baxis": {
             "endlinecolor": "#2a3f5f",
             "gridcolor": "white",
             "linecolor": "white",
             "minorgridcolor": "white",
             "startlinecolor": "#2a3f5f"
            },
            "type": "carpet"
           }
          ],
          "choropleth": [
           {
            "colorbar": {
             "outlinewidth": 0,
             "ticks": ""
            },
            "type": "choropleth"
           }
          ],
          "contour": [
           {
            "colorbar": {
             "outlinewidth": 0,
             "ticks": ""
            },
            "colorscale": [
             [
              0,
              "#0d0887"
             ],
             [
              0.1111111111111111,
              "#46039f"
             ],
             [
              0.2222222222222222,
              "#7201a8"
             ],
             [
              0.3333333333333333,
              "#9c179e"
             ],
             [
              0.4444444444444444,
              "#bd3786"
             ],
             [
              0.5555555555555556,
              "#d8576b"
             ],
             [
              0.6666666666666666,
              "#ed7953"
             ],
             [
              0.7777777777777778,
              "#fb9f3a"
             ],
             [
              0.8888888888888888,
              "#fdca26"
             ],
             [
              1,
              "#f0f921"
             ]
            ],
            "type": "contour"
           }
          ],
          "contourcarpet": [
           {
            "colorbar": {
             "outlinewidth": 0,
             "ticks": ""
            },
            "type": "contourcarpet"
           }
          ],
          "heatmap": [
           {
            "colorbar": {
             "outlinewidth": 0,
             "ticks": ""
            },
            "colorscale": [
             [
              0,
              "#0d0887"
             ],
             [
              0.1111111111111111,
              "#46039f"
             ],
             [
              0.2222222222222222,
              "#7201a8"
             ],
             [
              0.3333333333333333,
              "#9c179e"
             ],
             [
              0.4444444444444444,
              "#bd3786"
             ],
             [
              0.5555555555555556,
              "#d8576b"
             ],
             [
              0.6666666666666666,
              "#ed7953"
             ],
             [
              0.7777777777777778,
              "#fb9f3a"
             ],
             [
              0.8888888888888888,
              "#fdca26"
             ],
             [
              1,
              "#f0f921"
             ]
            ],
            "type": "heatmap"
           }
          ],
          "heatmapgl": [
           {
            "colorbar": {
             "outlinewidth": 0,
             "ticks": ""
            },
            "colorscale": [
             [
              0,
              "#0d0887"
             ],
             [
              0.1111111111111111,
              "#46039f"
             ],
             [
              0.2222222222222222,
              "#7201a8"
             ],
             [
              0.3333333333333333,
              "#9c179e"
             ],
             [
              0.4444444444444444,
              "#bd3786"
             ],
             [
              0.5555555555555556,
              "#d8576b"
             ],
             [
              0.6666666666666666,
              "#ed7953"
             ],
             [
              0.7777777777777778,
              "#fb9f3a"
             ],
             [
              0.8888888888888888,
              "#fdca26"
             ],
             [
              1,
              "#f0f921"
             ]
            ],
            "type": "heatmapgl"
           }
          ],
          "histogram": [
           {
            "marker": {
             "pattern": {
              "fillmode": "overlay",
              "size": 10,
              "solidity": 0.2
             }
            },
            "type": "histogram"
           }
          ],
          "histogram2d": [
           {
            "colorbar": {
             "outlinewidth": 0,
             "ticks": ""
            },
            "colorscale": [
             [
              0,
              "#0d0887"
             ],
             [
              0.1111111111111111,
              "#46039f"
             ],
             [
              0.2222222222222222,
              "#7201a8"
             ],
             [
              0.3333333333333333,
              "#9c179e"
             ],
             [
              0.4444444444444444,
              "#bd3786"
             ],
             [
              0.5555555555555556,
              "#d8576b"
             ],
             [
              0.6666666666666666,
              "#ed7953"
             ],
             [
              0.7777777777777778,
              "#fb9f3a"
             ],
             [
              0.8888888888888888,
              "#fdca26"
             ],
             [
              1,
              "#f0f921"
             ]
            ],
            "type": "histogram2d"
           }
          ],
          "histogram2dcontour": [
           {
            "colorbar": {
             "outlinewidth": 0,
             "ticks": ""
            },
            "colorscale": [
             [
              0,
              "#0d0887"
             ],
             [
              0.1111111111111111,
              "#46039f"
             ],
             [
              0.2222222222222222,
              "#7201a8"
             ],
             [
              0.3333333333333333,
              "#9c179e"
             ],
             [
              0.4444444444444444,
              "#bd3786"
             ],
             [
              0.5555555555555556,
              "#d8576b"
             ],
             [
              0.6666666666666666,
              "#ed7953"
             ],
             [
              0.7777777777777778,
              "#fb9f3a"
             ],
             [
              0.8888888888888888,
              "#fdca26"
             ],
             [
              1,
              "#f0f921"
             ]
            ],
            "type": "histogram2dcontour"
           }
          ],
          "mesh3d": [
           {
            "colorbar": {
             "outlinewidth": 0,
             "ticks": ""
            },
            "type": "mesh3d"
           }
          ],
          "parcoords": [
           {
            "line": {
             "colorbar": {
              "outlinewidth": 0,
              "ticks": ""
             }
            },
            "type": "parcoords"
           }
          ],
          "pie": [
           {
            "automargin": true,
            "type": "pie"
           }
          ],
          "scatter": [
           {
            "fillpattern": {
             "fillmode": "overlay",
             "size": 10,
             "solidity": 0.2
            },
            "type": "scatter"
           }
          ],
          "scatter3d": [
           {
            "line": {
             "colorbar": {
              "outlinewidth": 0,
              "ticks": ""
             }
            },
            "marker": {
             "colorbar": {
              "outlinewidth": 0,
              "ticks": ""
             }
            },
            "type": "scatter3d"
           }
          ],
          "scattercarpet": [
           {
            "marker": {
             "colorbar": {
              "outlinewidth": 0,
              "ticks": ""
             }
            },
            "type": "scattercarpet"
           }
          ],
          "scattergeo": [
           {
            "marker": {
             "colorbar": {
              "outlinewidth": 0,
              "ticks": ""
             }
            },
            "type": "scattergeo"
           }
          ],
          "scattergl": [
           {
            "marker": {
             "colorbar": {
              "outlinewidth": 0,
              "ticks": ""
             }
            },
            "type": "scattergl"
           }
          ],
          "scattermapbox": [
           {
            "marker": {
             "colorbar": {
              "outlinewidth": 0,
              "ticks": ""
             }
            },
            "type": "scattermapbox"
           }
          ],
          "scatterpolar": [
           {
            "marker": {
             "colorbar": {
              "outlinewidth": 0,
              "ticks": ""
             }
            },
            "type": "scatterpolar"
           }
          ],
          "scatterpolargl": [
           {
            "marker": {
             "colorbar": {
              "outlinewidth": 0,
              "ticks": ""
             }
            },
            "type": "scatterpolargl"
           }
          ],
          "scatterternary": [
           {
            "marker": {
             "colorbar": {
              "outlinewidth": 0,
              "ticks": ""
             }
            },
            "type": "scatterternary"
           }
          ],
          "surface": [
           {
            "colorbar": {
             "outlinewidth": 0,
             "ticks": ""
            },
            "colorscale": [
             [
              0,
              "#0d0887"
             ],
             [
              0.1111111111111111,
              "#46039f"
             ],
             [
              0.2222222222222222,
              "#7201a8"
             ],
             [
              0.3333333333333333,
              "#9c179e"
             ],
             [
              0.4444444444444444,
              "#bd3786"
             ],
             [
              0.5555555555555556,
              "#d8576b"
             ],
             [
              0.6666666666666666,
              "#ed7953"
             ],
             [
              0.7777777777777778,
              "#fb9f3a"
             ],
             [
              0.8888888888888888,
              "#fdca26"
             ],
             [
              1,
              "#f0f921"
             ]
            ],
            "type": "surface"
           }
          ],
          "table": [
           {
            "cells": {
             "fill": {
              "color": "#EBF0F8"
             },
             "line": {
              "color": "white"
             }
            },
            "header": {
             "fill": {
              "color": "#C8D4E3"
             },
             "line": {
              "color": "white"
             }
            },
            "type": "table"
           }
          ]
         },
         "layout": {
          "annotationdefaults": {
           "arrowcolor": "#2a3f5f",
           "arrowhead": 0,
           "arrowwidth": 1
          },
          "autotypenumbers": "strict",
          "coloraxis": {
           "colorbar": {
            "outlinewidth": 0,
            "ticks": ""
           }
          },
          "colorscale": {
           "diverging": [
            [
             0,
             "#8e0152"
            ],
            [
             0.1,
             "#c51b7d"
            ],
            [
             0.2,
             "#de77ae"
            ],
            [
             0.3,
             "#f1b6da"
            ],
            [
             0.4,
             "#fde0ef"
            ],
            [
             0.5,
             "#f7f7f7"
            ],
            [
             0.6,
             "#e6f5d0"
            ],
            [
             0.7,
             "#b8e186"
            ],
            [
             0.8,
             "#7fbc41"
            ],
            [
             0.9,
             "#4d9221"
            ],
            [
             1,
             "#276419"
            ]
           ],
           "sequential": [
            [
             0,
             "#0d0887"
            ],
            [
             0.1111111111111111,
             "#46039f"
            ],
            [
             0.2222222222222222,
             "#7201a8"
            ],
            [
             0.3333333333333333,
             "#9c179e"
            ],
            [
             0.4444444444444444,
             "#bd3786"
            ],
            [
             0.5555555555555556,
             "#d8576b"
            ],
            [
             0.6666666666666666,
             "#ed7953"
            ],
            [
             0.7777777777777778,
             "#fb9f3a"
            ],
            [
             0.8888888888888888,
             "#fdca26"
            ],
            [
             1,
             "#f0f921"
            ]
           ],
           "sequentialminus": [
            [
             0,
             "#0d0887"
            ],
            [
             0.1111111111111111,
             "#46039f"
            ],
            [
             0.2222222222222222,
             "#7201a8"
            ],
            [
             0.3333333333333333,
             "#9c179e"
            ],
            [
             0.4444444444444444,
             "#bd3786"
            ],
            [
             0.5555555555555556,
             "#d8576b"
            ],
            [
             0.6666666666666666,
             "#ed7953"
            ],
            [
             0.7777777777777778,
             "#fb9f3a"
            ],
            [
             0.8888888888888888,
             "#fdca26"
            ],
            [
             1,
             "#f0f921"
            ]
           ]
          },
          "colorway": [
           "#636efa",
           "#EF553B",
           "#00cc96",
           "#ab63fa",
           "#FFA15A",
           "#19d3f3",
           "#FF6692",
           "#B6E880",
           "#FF97FF",
           "#FECB52"
          ],
          "font": {
           "color": "#2a3f5f"
          },
          "geo": {
           "bgcolor": "white",
           "lakecolor": "white",
           "landcolor": "#E5ECF6",
           "showlakes": true,
           "showland": true,
           "subunitcolor": "white"
          },
          "hoverlabel": {
           "align": "left"
          },
          "hovermode": "closest",
          "mapbox": {
           "style": "light"
          },
          "paper_bgcolor": "white",
          "plot_bgcolor": "#E5ECF6",
          "polar": {
           "angularaxis": {
            "gridcolor": "white",
            "linecolor": "white",
            "ticks": ""
           },
           "bgcolor": "#E5ECF6",
           "radialaxis": {
            "gridcolor": "white",
            "linecolor": "white",
            "ticks": ""
           }
          },
          "scene": {
           "xaxis": {
            "backgroundcolor": "#E5ECF6",
            "gridcolor": "white",
            "gridwidth": 2,
            "linecolor": "white",
            "showbackground": true,
            "ticks": "",
            "zerolinecolor": "white"
           },
           "yaxis": {
            "backgroundcolor": "#E5ECF6",
            "gridcolor": "white",
            "gridwidth": 2,
            "linecolor": "white",
            "showbackground": true,
            "ticks": "",
            "zerolinecolor": "white"
           },
           "zaxis": {
            "backgroundcolor": "#E5ECF6",
            "gridcolor": "white",
            "gridwidth": 2,
            "linecolor": "white",
            "showbackground": true,
            "ticks": "",
            "zerolinecolor": "white"
           }
          },
          "shapedefaults": {
           "line": {
            "color": "#2a3f5f"
           }
          },
          "ternary": {
           "aaxis": {
            "gridcolor": "white",
            "linecolor": "white",
            "ticks": ""
           },
           "baxis": {
            "gridcolor": "white",
            "linecolor": "white",
            "ticks": ""
           },
           "bgcolor": "#E5ECF6",
           "caxis": {
            "gridcolor": "white",
            "linecolor": "white",
            "ticks": ""
           }
          },
          "title": {
           "x": 0.05
          },
          "xaxis": {
           "automargin": true,
           "gridcolor": "white",
           "linecolor": "white",
           "ticks": "",
           "title": {
            "standoff": 15
           },
           "zerolinecolor": "white",
           "zerolinewidth": 2
          },
          "yaxis": {
           "automargin": true,
           "gridcolor": "white",
           "linecolor": "white",
           "ticks": "",
           "title": {
            "standoff": 15
           },
           "zerolinecolor": "white",
           "zerolinewidth": 2
          }
         }
        },
        "title": {
         "text": "Alimenti tracciati"
        }
       }
      }
     },
     "metadata": {},
     "output_type": "display_data"
    }
   ],
   "source": [
    "# Dizionario alimento => sub_df\n",
    "alimenti_dict = dict()\n",
    "keys = cibi.to_list()\n",
    "\n",
    "for i in range(len(keys)):\n",
    "     if keys[i] in colonne_dict.keys():\n",
    "          keys[i] = colonne_dict[keys[i]].capitalize()\n",
    "\n",
    "# Assegnazione delle chiavi a delle liste vuote\n",
    "for key in keys:\n",
    "     alimenti_dict[key] = list()\n",
    "\n",
    "# Divisione dei record in base all'alimento\n",
    "for index, record in prodotti_tracciati_df.iterrows():\n",
    "     for key in keys:\n",
    "          if record[\"Item\"].lower().startswith(key.lower()) and index not in alimenti_dict[key]:\n",
    "               alimenti_dict[key].append(index)\n",
    "\n",
    "# Cerco le categorie vuote\n",
    "prodotti_vuoti = []\n",
    "for key in alimenti_dict.keys():\n",
    "     if len(alimenti_dict[key]) == 0:\n",
    "          prodotti_vuoti.append(key)\n",
    "\n",
    "# Elimino le categorie di prodotto che hanno una lista di lunghezza 0\n",
    "for prodotto_vuoto in prodotti_vuoti:\n",
    "     alimenti_dict.pop(prodotto_vuoto, None)\n",
    "alimenti_dict.keys()\n",
    "\n",
    "alimenti_trovati = list(alimenti_dict.keys())\n",
    "alimenti_quantita = [len(alimenti_dict[alimenti]) for alimenti in alimenti_trovati]\n",
    "color_palette = sns.color_palette('bright')[0:len(alimenti_trovati) - 1]\n",
    "\n",
    "print(\"Totale di alimenti = \", sum(alimenti_quantita))\n",
    "fig = px.pie(values=alimenti_quantita, names=alimenti_trovati, title='Alimenti tracciati')\n",
    "fig.show()"
   ]
  },
  {
   "cell_type": "markdown",
   "metadata": {},
   "source": [
    "# Effettuo la pulizia dati\n",
    "### Elimino le righe cha hanno valori nulli.  "
   ]
  },
  {
   "cell_type": "code",
   "execution_count": 291,
   "metadata": {},
   "outputs": [],
   "source": [
    "indici_da_eliminare = list()\n",
    "\n",
    "for key in alimenti_dict.keys():\n",
    "     for index in alimenti_dict[key]:\n",
    "          if not prodotti_tracciati_df.iloc[index][\"Item\"].lower().startswith(key.lower()):\n",
    "               indici_da_eliminare.append(int(index))\n",
    "\n",
    "# Pulizia degli indici\n",
    "for indice_da_eliminare in indici_da_eliminare:\n",
    "     if indice_da_eliminare in prodotti_tracciati:\n",
    "          prodotti_tracciati.remove(indice_da_eliminare)\n",
    "\n",
    "prodotti_tracciati_df = FAO_df.iloc[prodotti_tracciati]\n",
    "prodotti_tracciati_df = prodotti_tracciati_df[FAO_df_colonne_interessate].reset_index()\n",
    "prodotti_tracciati_df = prodotti_tracciati_df.dropna().reset_index()\n",
    "prodotti_tracciati_df.drop(columns=[\"level_0\", \"index\"], inplace=True)\n",
    "prodotti_tracciati_df[\"Prod. 1961 - 2013\"] = prodotti_tracciati_df[[f\"Y{i}\" for i in range(1961, 2014)]].sum(axis=1) * 1000 # Trasformazione in tonnellate\n",
    "cond = prodotti_tracciati_df[\"Prod. 1961 - 2013\"] != 0\n",
    "prodotti_tracciati_df = prodotti_tracciati_df[cond]"
   ]
  },
  {
   "cell_type": "markdown",
   "metadata": {},
   "source": [
    "# Esplorazione dei dati\n",
    "#### Come primo step esplorativo andremo a vedere cosa viene prodotto in quantita' maggiore tra mangimi(Feed) e cibo(Food) in media dal 1961 al 2013."
   ]
  },
  {
   "cell_type": "code",
   "execution_count": 292,
   "metadata": {},
   "outputs": [
    {
     "name": "stdout",
     "output_type": "stream",
     "text": [
      "Cibo prodotto dal 1960 al 2013:  31890.85144464331\n",
      "Mangime prodotto dal 1960 al 2013:  20897.416164053076\n"
     ]
    },
    {
     "data": {
      "text/html": [
       "<div>\n",
       "<style scoped>\n",
       "    .dataframe tbody tr th:only-of-type {\n",
       "        vertical-align: middle;\n",
       "    }\n",
       "\n",
       "    .dataframe tbody tr th {\n",
       "        vertical-align: top;\n",
       "    }\n",
       "\n",
       "    .dataframe thead th {\n",
       "        text-align: right;\n",
       "    }\n",
       "</style>\n",
       "<table border=\"1\" class=\"dataframe\">\n",
       "  <thead>\n",
       "    <tr style=\"text-align: right;\">\n",
       "      <th></th>\n",
       "      <th>Y1961</th>\n",
       "      <th>Y1962</th>\n",
       "      <th>Y1963</th>\n",
       "      <th>Y1964</th>\n",
       "      <th>Y1965</th>\n",
       "      <th>Y1966</th>\n",
       "      <th>Y1967</th>\n",
       "      <th>Y1968</th>\n",
       "      <th>Y1969</th>\n",
       "      <th>Y1970</th>\n",
       "      <th>...</th>\n",
       "      <th>Y2004</th>\n",
       "      <th>Y2005</th>\n",
       "      <th>Y2006</th>\n",
       "      <th>Y2007</th>\n",
       "      <th>Y2008</th>\n",
       "      <th>Y2009</th>\n",
       "      <th>Y2010</th>\n",
       "      <th>Y2011</th>\n",
       "      <th>Y2012</th>\n",
       "      <th>Y2013</th>\n",
       "    </tr>\n",
       "    <tr>\n",
       "      <th>Element</th>\n",
       "      <th></th>\n",
       "      <th></th>\n",
       "      <th></th>\n",
       "      <th></th>\n",
       "      <th></th>\n",
       "      <th></th>\n",
       "      <th></th>\n",
       "      <th></th>\n",
       "      <th></th>\n",
       "      <th></th>\n",
       "      <th></th>\n",
       "      <th></th>\n",
       "      <th></th>\n",
       "      <th></th>\n",
       "      <th></th>\n",
       "      <th></th>\n",
       "      <th></th>\n",
       "      <th></th>\n",
       "      <th></th>\n",
       "      <th></th>\n",
       "      <th></th>\n",
       "    </tr>\n",
       "  </thead>\n",
       "  <tbody>\n",
       "    <tr>\n",
       "      <th>Feed</th>\n",
       "      <td>306.495778</td>\n",
       "      <td>312.610374</td>\n",
       "      <td>322.412545</td>\n",
       "      <td>329.761158</td>\n",
       "      <td>328.675513</td>\n",
       "      <td>342.454765</td>\n",
       "      <td>338.193004</td>\n",
       "      <td>365.063932</td>\n",
       "      <td>362.295537</td>\n",
       "      <td>352.369119</td>\n",
       "      <td>...</td>\n",
       "      <td>457.699638</td>\n",
       "      <td>454.934861</td>\n",
       "      <td>468.605549</td>\n",
       "      <td>467.661037</td>\n",
       "      <td>490.710495</td>\n",
       "      <td>501.890229</td>\n",
       "      <td>505.241255</td>\n",
       "      <td>553.435464</td>\n",
       "      <td>557.232811</td>\n",
       "      <td>568.977081</td>\n",
       "    </tr>\n",
       "    <tr>\n",
       "      <th>Food</th>\n",
       "      <td>292.129890</td>\n",
       "      <td>297.916134</td>\n",
       "      <td>305.809512</td>\n",
       "      <td>313.248018</td>\n",
       "      <td>321.925339</td>\n",
       "      <td>329.274866</td>\n",
       "      <td>334.969573</td>\n",
       "      <td>347.122475</td>\n",
       "      <td>353.654053</td>\n",
       "      <td>361.072360</td>\n",
       "      <td>...</td>\n",
       "      <td>865.456405</td>\n",
       "      <td>886.113782</td>\n",
       "      <td>907.593710</td>\n",
       "      <td>935.982102</td>\n",
       "      <td>957.513168</td>\n",
       "      <td>975.363334</td>\n",
       "      <td>1000.261059</td>\n",
       "      <td>1025.631041</td>\n",
       "      <td>1050.720020</td>\n",
       "      <td>1064.981335</td>\n",
       "    </tr>\n",
       "  </tbody>\n",
       "</table>\n",
       "<p>2 rows × 53 columns</p>\n",
       "</div>"
      ],
      "text/plain": [
       "              Y1961       Y1962       Y1963       Y1964       Y1965  \\\n",
       "Element                                                               \n",
       "Feed     306.495778  312.610374  322.412545  329.761158  328.675513   \n",
       "Food     292.129890  297.916134  305.809512  313.248018  321.925339   \n",
       "\n",
       "              Y1966       Y1967       Y1968       Y1969       Y1970  ...  \\\n",
       "Element                                                              ...   \n",
       "Feed     342.454765  338.193004  365.063932  362.295537  352.369119  ...   \n",
       "Food     329.274866  334.969573  347.122475  353.654053  361.072360  ...   \n",
       "\n",
       "              Y2004       Y2005       Y2006       Y2007       Y2008  \\\n",
       "Element                                                               \n",
       "Feed     457.699638  454.934861  468.605549  467.661037  490.710495   \n",
       "Food     865.456405  886.113782  907.593710  935.982102  957.513168   \n",
       "\n",
       "              Y2009        Y2010        Y2011        Y2012        Y2013  \n",
       "Element                                                                  \n",
       "Feed     501.890229   505.241255   553.435464   557.232811   568.977081  \n",
       "Food     975.363334  1000.261059  1025.631041  1050.720020  1064.981335  \n",
       "\n",
       "[2 rows x 53 columns]"
      ]
     },
     "execution_count": 292,
     "metadata": {},
     "output_type": "execute_result"
    }
   ],
   "source": [
    "cibi_mangimi = prodotti_tracciati_df.groupby(\"Element\")[[f\"Y{i}\" for i in range(1961, 2014)]].mean()\n",
    "print(\"Cibo prodotto dal 1960 al 2013: \", cibi_mangimi.iloc[1].sum())\n",
    "print(\"Mangime prodotto dal 1960 al 2013: \", cibi_mangimi.iloc[0].sum())\n",
    "cibi_mangimi\n"
   ]
  },
  {
   "cell_type": "markdown",
   "metadata": {},
   "source": [
    "# Anno di maggiore produzione di cibi e mangimi\n",
    "#### Tutti i valori vanno moltiplicati per 1000"
   ]
  },
  {
   "cell_type": "code",
   "execution_count": 293,
   "metadata": {},
   "outputs": [
    {
     "name": "stdout",
     "output_type": "stream",
     "text": [
      "568977.0808202655  tonnellate di mangime nell'anno 2013\n",
      "1064981.3346970084 tonnellate di cibo nell'anno 2013\n"
     ]
    }
   ],
   "source": [
    "magimi_max_produzione = cibi_mangimi.loc[\"Feed\"].max()\n",
    "cibo_max_produzione = cibi_mangimi.loc[\"Food\"].max()\n",
    "print(cibi_mangimi.loc[\"Feed\"].max() * 1000, \" tonnellate di mangime nell'anno\", cibi_mangimi.idxmax(axis=1)[0].split(\"Y\")[1])\n",
    "print(cibi_mangimi.loc[\"Food\"].max() * 1000, \"tonnellate di cibo nell'anno\", cibi_mangimi.idxmax(axis=1)[1].split(\"Y\")[1])"
   ]
  },
  {
   "cell_type": "markdown",
   "metadata": {},
   "source": [
    "#### I valori più elevati corrispondono con il 2013 che è anche l'ultimo anno a disposizione.\n",
    "# Cibi\n",
    "#### Vedremo l'aumento della produzione di cibi anno per anno, ogni colonna ci dice di quanto è aumentata la produzione rispetto all'anno precedente."
   ]
  },
  {
   "cell_type": "code",
   "execution_count": 294,
   "metadata": {},
   "outputs": [
    {
     "name": "stdout",
     "output_type": "stream",
     "text": [
      "Incremento annuo medio della produzione di cibo = 14862.527781602186 tonnellate\n"
     ]
    },
    {
     "data": {
      "text/html": [
       "<div>\n",
       "<style scoped>\n",
       "    .dataframe tbody tr th:only-of-type {\n",
       "        vertical-align: middle;\n",
       "    }\n",
       "\n",
       "    .dataframe tbody tr th {\n",
       "        vertical-align: top;\n",
       "    }\n",
       "\n",
       "    .dataframe thead th {\n",
       "        text-align: right;\n",
       "    }\n",
       "</style>\n",
       "<table border=\"1\" class=\"dataframe\">\n",
       "  <thead>\n",
       "    <tr style=\"text-align: right;\">\n",
       "      <th></th>\n",
       "      <th>Y1961/Y1962</th>\n",
       "      <th>Y1962/Y1963</th>\n",
       "      <th>Y1963/Y1964</th>\n",
       "      <th>Y1964/Y1965</th>\n",
       "      <th>Y1965/Y1966</th>\n",
       "      <th>Y1966/Y1967</th>\n",
       "      <th>Y1967/Y1968</th>\n",
       "      <th>Y1968/Y1969</th>\n",
       "      <th>Y1969/Y1970</th>\n",
       "      <th>Y1970/Y1971</th>\n",
       "      <th>...</th>\n",
       "      <th>Y2003/Y2004</th>\n",
       "      <th>Y2004/Y2005</th>\n",
       "      <th>Y2005/Y2006</th>\n",
       "      <th>Y2006/Y2007</th>\n",
       "      <th>Y2007/Y2008</th>\n",
       "      <th>Y2008/Y2009</th>\n",
       "      <th>Y2009/Y2010</th>\n",
       "      <th>Y2010/Y2011</th>\n",
       "      <th>Y2011/Y2012</th>\n",
       "      <th>Y2012/Y2013</th>\n",
       "    </tr>\n",
       "  </thead>\n",
       "  <tbody>\n",
       "    <tr>\n",
       "      <th>0</th>\n",
       "      <td>5786.243927</td>\n",
       "      <td>7893.377653</td>\n",
       "      <td>7438.506776</td>\n",
       "      <td>8677.320378</td>\n",
       "      <td>7349.526975</td>\n",
       "      <td>5694.707236</td>\n",
       "      <td>12152.902071</td>\n",
       "      <td>6531.577602</td>\n",
       "      <td>7418.307338</td>\n",
       "      <td>7535.157249</td>\n",
       "      <td>...</td>\n",
       "      <td>19188.954232</td>\n",
       "      <td>20657.37663</td>\n",
       "      <td>21479.928407</td>\n",
       "      <td>28388.391716</td>\n",
       "      <td>21531.066223</td>\n",
       "      <td>17850.166198</td>\n",
       "      <td>24897.724367</td>\n",
       "      <td>25369.982102</td>\n",
       "      <td>25088.979801</td>\n",
       "      <td>14261.314242</td>\n",
       "    </tr>\n",
       "  </tbody>\n",
       "</table>\n",
       "<p>1 rows × 52 columns</p>\n",
       "</div>"
      ],
      "text/plain": [
       "   Y1961/Y1962  Y1962/Y1963  Y1963/Y1964  Y1964/Y1965  Y1965/Y1966  \\\n",
       "0  5786.243927  7893.377653  7438.506776  8677.320378  7349.526975   \n",
       "\n",
       "   Y1966/Y1967   Y1967/Y1968  Y1968/Y1969  Y1969/Y1970  Y1970/Y1971  ...  \\\n",
       "0  5694.707236  12152.902071  6531.577602  7418.307338  7535.157249  ...   \n",
       "\n",
       "    Y2003/Y2004  Y2004/Y2005   Y2005/Y2006   Y2006/Y2007   Y2007/Y2008  \\\n",
       "0  19188.954232  20657.37663  21479.928407  28388.391716  21531.066223   \n",
       "\n",
       "    Y2008/Y2009   Y2009/Y2010   Y2010/Y2011   Y2011/Y2012   Y2012/Y2013  \n",
       "0  17850.166198  24897.724367  25369.982102  25088.979801  14261.314242  \n",
       "\n",
       "[1 rows x 52 columns]"
      ]
     },
     "execution_count": 294,
     "metadata": {},
     "output_type": "execute_result"
    }
   ],
   "source": [
    "Food = cibi_mangimi.loc[\"Food\"]\n",
    "\n",
    "Food_yearly_increment = [abs(Food[f\"Y{i}\"] - Food[f\"Y{i+1}\"]) for i in range(1961, 2014) if i + 1 < 2014]\n",
    "Food_yearly_increment_df = pd.DataFrame()\n",
    "for i in range(1961, 2014):\n",
    "     if i+1 < 2014:\n",
    "          Food_yearly_increment_df[f\"Y{i}/Y{i+1}\"] = pd.Series(Food_yearly_increment[abs(1961 - i)])\n",
    "\n",
    "print(f\"Incremento annuo medio della produzione di cibo = {Food_yearly_increment_df.iloc[0].mean() * 1000} tonnellate\")\n",
    "Food_yearly_increment_df = Food_yearly_increment_df * 1000\n",
    "Food_yearly_increment_df"
   ]
  },
  {
   "cell_type": "markdown",
   "metadata": {},
   "source": [
    "# Mangimi\n",
    "#### Ogni colonna ci dice di quanto è aumentata la produzione rispetto all'anno precedente"
   ]
  },
  {
   "cell_type": "code",
   "execution_count": 295,
   "metadata": {},
   "outputs": [
    {
     "name": "stdout",
     "output_type": "stream",
     "text": [
      "Incremento annuo medio della produzione di mangimi = 11787.02329034054 tonnellate\n"
     ]
    },
    {
     "data": {
      "text/html": [
       "<div>\n",
       "<style scoped>\n",
       "    .dataframe tbody tr th:only-of-type {\n",
       "        vertical-align: middle;\n",
       "    }\n",
       "\n",
       "    .dataframe tbody tr th {\n",
       "        vertical-align: top;\n",
       "    }\n",
       "\n",
       "    .dataframe thead th {\n",
       "        text-align: right;\n",
       "    }\n",
       "</style>\n",
       "<table border=\"1\" class=\"dataframe\">\n",
       "  <thead>\n",
       "    <tr style=\"text-align: right;\">\n",
       "      <th></th>\n",
       "      <th>Area Abbreviation</th>\n",
       "      <th>Area Code</th>\n",
       "      <th>Area</th>\n",
       "      <th>Item</th>\n",
       "      <th>Element</th>\n",
       "      <th>Unit</th>\n",
       "      <th>Y1961</th>\n",
       "      <th>Y1962</th>\n",
       "      <th>Y1963</th>\n",
       "      <th>Y1964</th>\n",
       "      <th>...</th>\n",
       "      <th>Y2006</th>\n",
       "      <th>Y2007</th>\n",
       "      <th>Y2008</th>\n",
       "      <th>Y2009</th>\n",
       "      <th>Y2010</th>\n",
       "      <th>Y2011</th>\n",
       "      <th>Y2012</th>\n",
       "      <th>Y2013</th>\n",
       "      <th>Type</th>\n",
       "      <th>Prod. 1961 - 2013</th>\n",
       "    </tr>\n",
       "  </thead>\n",
       "  <tbody>\n",
       "    <tr>\n",
       "      <th>0</th>\n",
       "      <td>AFG</td>\n",
       "      <td>2</td>\n",
       "      <td>Afghanistan</td>\n",
       "      <td>Wheat and products</td>\n",
       "      <td>Food</td>\n",
       "      <td>1000 tonnes</td>\n",
       "      <td>1928.0</td>\n",
       "      <td>1904.0</td>\n",
       "      <td>1666.0</td>\n",
       "      <td>1950.0</td>\n",
       "      <td>...</td>\n",
       "      <td>3704.0</td>\n",
       "      <td>4164.0</td>\n",
       "      <td>4252.0</td>\n",
       "      <td>4538.0</td>\n",
       "      <td>4605.0</td>\n",
       "      <td>4711.0</td>\n",
       "      <td>4810</td>\n",
       "      <td>4895</td>\n",
       "      <td>Wheat</td>\n",
       "      <td>132926000.0</td>\n",
       "    </tr>\n",
       "    <tr>\n",
       "      <th>1</th>\n",
       "      <td>AFG</td>\n",
       "      <td>2</td>\n",
       "      <td>Afghanistan</td>\n",
       "      <td>Rice (Milled Equivalent)</td>\n",
       "      <td>Food</td>\n",
       "      <td>1000 tonnes</td>\n",
       "      <td>183.0</td>\n",
       "      <td>183.0</td>\n",
       "      <td>182.0</td>\n",
       "      <td>220.0</td>\n",
       "      <td>...</td>\n",
       "      <td>546.0</td>\n",
       "      <td>455.0</td>\n",
       "      <td>490.0</td>\n",
       "      <td>415.0</td>\n",
       "      <td>442.0</td>\n",
       "      <td>476.0</td>\n",
       "      <td>425</td>\n",
       "      <td>422</td>\n",
       "      <td>Rice</td>\n",
       "      <td>15282000.0</td>\n",
       "    </tr>\n",
       "    <tr>\n",
       "      <th>2</th>\n",
       "      <td>AFG</td>\n",
       "      <td>2</td>\n",
       "      <td>Afghanistan</td>\n",
       "      <td>Potatoes and products</td>\n",
       "      <td>Food</td>\n",
       "      <td>1000 tonnes</td>\n",
       "      <td>111.0</td>\n",
       "      <td>97.0</td>\n",
       "      <td>103.0</td>\n",
       "      <td>110.0</td>\n",
       "      <td>...</td>\n",
       "      <td>294.0</td>\n",
       "      <td>260.0</td>\n",
       "      <td>242.0</td>\n",
       "      <td>250.0</td>\n",
       "      <td>192.0</td>\n",
       "      <td>169.0</td>\n",
       "      <td>196</td>\n",
       "      <td>230</td>\n",
       "      <td>Potatoes</td>\n",
       "      <td>10625000.0</td>\n",
       "    </tr>\n",
       "    <tr>\n",
       "      <th>3</th>\n",
       "      <td>AFG</td>\n",
       "      <td>2</td>\n",
       "      <td>Afghanistan</td>\n",
       "      <td>Nuts and products</td>\n",
       "      <td>Food</td>\n",
       "      <td>1000 tonnes</td>\n",
       "      <td>2.0</td>\n",
       "      <td>3.0</td>\n",
       "      <td>1.0</td>\n",
       "      <td>1.0</td>\n",
       "      <td>...</td>\n",
       "      <td>24.0</td>\n",
       "      <td>34.0</td>\n",
       "      <td>42.0</td>\n",
       "      <td>28.0</td>\n",
       "      <td>66.0</td>\n",
       "      <td>71.0</td>\n",
       "      <td>70</td>\n",
       "      <td>44</td>\n",
       "      <td>Nuts</td>\n",
       "      <td>808000.0</td>\n",
       "    </tr>\n",
       "    <tr>\n",
       "      <th>4</th>\n",
       "      <td>AFG</td>\n",
       "      <td>2</td>\n",
       "      <td>Afghanistan</td>\n",
       "      <td>Palm Oil</td>\n",
       "      <td>Food</td>\n",
       "      <td>1000 tonnes</td>\n",
       "      <td>0.0</td>\n",
       "      <td>0.0</td>\n",
       "      <td>0.0</td>\n",
       "      <td>0.0</td>\n",
       "      <td>...</td>\n",
       "      <td>56.0</td>\n",
       "      <td>51.0</td>\n",
       "      <td>36.0</td>\n",
       "      <td>53.0</td>\n",
       "      <td>59.0</td>\n",
       "      <td>51.0</td>\n",
       "      <td>61</td>\n",
       "      <td>64</td>\n",
       "      <td>Palm Oil</td>\n",
       "      <td>704000.0</td>\n",
       "    </tr>\n",
       "    <tr>\n",
       "      <th>...</th>\n",
       "      <td>...</td>\n",
       "      <td>...</td>\n",
       "      <td>...</td>\n",
       "      <td>...</td>\n",
       "      <td>...</td>\n",
       "      <td>...</td>\n",
       "      <td>...</td>\n",
       "      <td>...</td>\n",
       "      <td>...</td>\n",
       "      <td>...</td>\n",
       "      <td>...</td>\n",
       "      <td>...</td>\n",
       "      <td>...</td>\n",
       "      <td>...</td>\n",
       "      <td>...</td>\n",
       "      <td>...</td>\n",
       "      <td>...</td>\n",
       "      <td>...</td>\n",
       "      <td>...</td>\n",
       "      <td>...</td>\n",
       "      <td>...</td>\n",
       "    </tr>\n",
       "    <tr>\n",
       "      <th>5389</th>\n",
       "      <td>ZWE</td>\n",
       "      <td>181</td>\n",
       "      <td>Zimbabwe</td>\n",
       "      <td>Fruits, Other</td>\n",
       "      <td>Food</td>\n",
       "      <td>1000 tonnes</td>\n",
       "      <td>1.0</td>\n",
       "      <td>1.0</td>\n",
       "      <td>1.0</td>\n",
       "      <td>1.0</td>\n",
       "      <td>...</td>\n",
       "      <td>6.0</td>\n",
       "      <td>8.0</td>\n",
       "      <td>8.0</td>\n",
       "      <td>9.0</td>\n",
       "      <td>10.0</td>\n",
       "      <td>10.0</td>\n",
       "      <td>12</td>\n",
       "      <td>9</td>\n",
       "      <td>Other Fruit</td>\n",
       "      <td>214000.0</td>\n",
       "    </tr>\n",
       "    <tr>\n",
       "      <th>5390</th>\n",
       "      <td>ZWE</td>\n",
       "      <td>181</td>\n",
       "      <td>Zimbabwe</td>\n",
       "      <td>Bovine Meat</td>\n",
       "      <td>Food</td>\n",
       "      <td>1000 tonnes</td>\n",
       "      <td>43.0</td>\n",
       "      <td>42.0</td>\n",
       "      <td>42.0</td>\n",
       "      <td>31.0</td>\n",
       "      <td>...</td>\n",
       "      <td>104.0</td>\n",
       "      <td>104.0</td>\n",
       "      <td>104.0</td>\n",
       "      <td>105.0</td>\n",
       "      <td>100.0</td>\n",
       "      <td>102.0</td>\n",
       "      <td>103</td>\n",
       "      <td>104</td>\n",
       "      <td>Beef (beef herd)</td>\n",
       "      <td>3414000.0</td>\n",
       "    </tr>\n",
       "    <tr>\n",
       "      <th>5391</th>\n",
       "      <td>ZWE</td>\n",
       "      <td>181</td>\n",
       "      <td>Zimbabwe</td>\n",
       "      <td>Pigmeat</td>\n",
       "      <td>Food</td>\n",
       "      <td>1000 tonnes</td>\n",
       "      <td>5.0</td>\n",
       "      <td>6.0</td>\n",
       "      <td>6.0</td>\n",
       "      <td>6.0</td>\n",
       "      <td>...</td>\n",
       "      <td>28.0</td>\n",
       "      <td>28.0</td>\n",
       "      <td>28.0</td>\n",
       "      <td>33.0</td>\n",
       "      <td>34.0</td>\n",
       "      <td>37.0</td>\n",
       "      <td>40</td>\n",
       "      <td>37</td>\n",
       "      <td>Pig Meat</td>\n",
       "      <td>781000.0</td>\n",
       "    </tr>\n",
       "    <tr>\n",
       "      <th>5394</th>\n",
       "      <td>ZWE</td>\n",
       "      <td>181</td>\n",
       "      <td>Zimbabwe</td>\n",
       "      <td>Fish, Seafood</td>\n",
       "      <td>Feed</td>\n",
       "      <td>1000 tonnes</td>\n",
       "      <td>27.0</td>\n",
       "      <td>25.0</td>\n",
       "      <td>27.0</td>\n",
       "      <td>23.0</td>\n",
       "      <td>...</td>\n",
       "      <td>9.0</td>\n",
       "      <td>6.0</td>\n",
       "      <td>9.0</td>\n",
       "      <td>5.0</td>\n",
       "      <td>15.0</td>\n",
       "      <td>15.0</td>\n",
       "      <td>15</td>\n",
       "      <td>15</td>\n",
       "      <td>Fish (farmed)</td>\n",
       "      <td>607000.0</td>\n",
       "    </tr>\n",
       "    <tr>\n",
       "      <th>5395</th>\n",
       "      <td>ZWE</td>\n",
       "      <td>181</td>\n",
       "      <td>Zimbabwe</td>\n",
       "      <td>Fish, Seafood</td>\n",
       "      <td>Food</td>\n",
       "      <td>1000 tonnes</td>\n",
       "      <td>6.0</td>\n",
       "      <td>6.0</td>\n",
       "      <td>6.0</td>\n",
       "      <td>8.0</td>\n",
       "      <td>...</td>\n",
       "      <td>17.0</td>\n",
       "      <td>14.0</td>\n",
       "      <td>15.0</td>\n",
       "      <td>18.0</td>\n",
       "      <td>29.0</td>\n",
       "      <td>40.0</td>\n",
       "      <td>40</td>\n",
       "      <td>40</td>\n",
       "      <td>Fish (farmed)</td>\n",
       "      <td>997000.0</td>\n",
       "    </tr>\n",
       "  </tbody>\n",
       "</table>\n",
       "<p>4740 rows × 61 columns</p>\n",
       "</div>"
      ],
      "text/plain": [
       "     Area Abbreviation  Area Code         Area                      Item  \\\n",
       "0                  AFG          2  Afghanistan        Wheat and products   \n",
       "1                  AFG          2  Afghanistan  Rice (Milled Equivalent)   \n",
       "2                  AFG          2  Afghanistan     Potatoes and products   \n",
       "3                  AFG          2  Afghanistan         Nuts and products   \n",
       "4                  AFG          2  Afghanistan                  Palm Oil   \n",
       "...                ...        ...          ...                       ...   \n",
       "5389               ZWE        181     Zimbabwe             Fruits, Other   \n",
       "5390               ZWE        181     Zimbabwe               Bovine Meat   \n",
       "5391               ZWE        181     Zimbabwe                   Pigmeat   \n",
       "5394               ZWE        181     Zimbabwe             Fish, Seafood   \n",
       "5395               ZWE        181     Zimbabwe             Fish, Seafood   \n",
       "\n",
       "     Element         Unit   Y1961   Y1962   Y1963   Y1964  ...   Y2006  \\\n",
       "0       Food  1000 tonnes  1928.0  1904.0  1666.0  1950.0  ...  3704.0   \n",
       "1       Food  1000 tonnes   183.0   183.0   182.0   220.0  ...   546.0   \n",
       "2       Food  1000 tonnes   111.0    97.0   103.0   110.0  ...   294.0   \n",
       "3       Food  1000 tonnes     2.0     3.0     1.0     1.0  ...    24.0   \n",
       "4       Food  1000 tonnes     0.0     0.0     0.0     0.0  ...    56.0   \n",
       "...      ...          ...     ...     ...     ...     ...  ...     ...   \n",
       "5389    Food  1000 tonnes     1.0     1.0     1.0     1.0  ...     6.0   \n",
       "5390    Food  1000 tonnes    43.0    42.0    42.0    31.0  ...   104.0   \n",
       "5391    Food  1000 tonnes     5.0     6.0     6.0     6.0  ...    28.0   \n",
       "5394    Feed  1000 tonnes    27.0    25.0    27.0    23.0  ...     9.0   \n",
       "5395    Food  1000 tonnes     6.0     6.0     6.0     8.0  ...    17.0   \n",
       "\n",
       "       Y2007   Y2008   Y2009   Y2010   Y2011  Y2012  Y2013              Type  \\\n",
       "0     4164.0  4252.0  4538.0  4605.0  4711.0   4810   4895             Wheat   \n",
       "1      455.0   490.0   415.0   442.0   476.0    425    422              Rice   \n",
       "2      260.0   242.0   250.0   192.0   169.0    196    230          Potatoes   \n",
       "3       34.0    42.0    28.0    66.0    71.0     70     44              Nuts   \n",
       "4       51.0    36.0    53.0    59.0    51.0     61     64          Palm Oil   \n",
       "...      ...     ...     ...     ...     ...    ...    ...               ...   \n",
       "5389     8.0     8.0     9.0    10.0    10.0     12      9       Other Fruit   \n",
       "5390   104.0   104.0   105.0   100.0   102.0    103    104  Beef (beef herd)   \n",
       "5391    28.0    28.0    33.0    34.0    37.0     40     37          Pig Meat   \n",
       "5394     6.0     9.0     5.0    15.0    15.0     15     15     Fish (farmed)   \n",
       "5395    14.0    15.0    18.0    29.0    40.0     40     40     Fish (farmed)   \n",
       "\n",
       "      Prod. 1961 - 2013  \n",
       "0           132926000.0  \n",
       "1            15282000.0  \n",
       "2            10625000.0  \n",
       "3              808000.0  \n",
       "4              704000.0  \n",
       "...                 ...  \n",
       "5389           214000.0  \n",
       "5390          3414000.0  \n",
       "5391           781000.0  \n",
       "5394           607000.0  \n",
       "5395           997000.0  \n",
       "\n",
       "[4740 rows x 61 columns]"
      ]
     },
     "execution_count": 295,
     "metadata": {},
     "output_type": "execute_result"
    }
   ],
   "source": [
    "Feed = cibi_mangimi.loc[\"Feed\"]\n",
    "\n",
    "Feed_yearly_increment = [abs(Feed[f\"Y{i}\"] - Feed[f\"Y{i+1}\"]) for i in range(1961, 2014) if i + 1 < 2014]\n",
    "Feed_yearly_increment_df = pd.DataFrame()\n",
    "for i in range(1961, 2014):\n",
    "     if i+1 < 2014:\n",
    "          Feed_yearly_increment_df[f\"Y{i}/Y{i+1}\"] = pd.Series(Feed_yearly_increment[abs(1961 - i)])\n",
    "\n",
    "print(f\"Incremento annuo medio della produzione di mangimi = {Feed_yearly_increment_df.iloc[0].mean() * 1000} tonnellate\")\n",
    "prodotti_tracciati_df"
   ]
  },
  {
   "cell_type": "markdown",
   "metadata": {},
   "source": [
    "# Cibi piu' e meno prodotti dal 1961 al 2013\n",
    "#### Vedremo quali sono stati i cibi più prodotti e quali meno."
   ]
  },
  {
   "cell_type": "code",
   "execution_count": 296,
   "metadata": {},
   "outputs": [
    {
     "data": {
      "application/vnd.plotly.v1+json": {
       "config": {
        "plotlyServerURL": "https://plot.ly"
       },
       "data": [
        {
         "alignmentgroup": "True",
         "hovertemplate": "Type=%{x}<br>Tonnes=%{marker.color}<extra></extra>",
         "legendgroup": "",
         "marker": {
          "color": [
           17904347000,
           17755357000,
           14780040000,
           13498424000,
           6353554000,
           4348591000,
           3465370000,
           3463336000,
           3219400000,
           3037100000,
           2268633000,
           2198028000,
           2118056000,
           1685738000,
           1622053000,
           1574190000,
           1139982000,
           1047375000,
           819820000,
           788599000,
           397627000,
           329054000,
           311984000,
           300036000,
           272799000,
           226660000,
           174386000,
           96287000,
           1894000
          ],
          "coloraxis": "coloraxis",
          "pattern": {
           "shape": ""
          }
         },
         "name": "",
         "offsetgroup": "",
         "orientation": "v",
         "showlegend": false,
         "textposition": "auto",
         "type": "bar",
         "x": [
          "Milk",
          "Other Vegetables",
          "Wheat",
          "Rice",
          "Potatoes",
          "Other Fruit",
          "Cassava",
          "Fish (farmed)",
          "Tomatoes",
          "Pig Meat",
          "Beef (beef herd)",
          "Bananas",
          "Poultry Meat",
          "Apples",
          "Eggs",
          "Onions",
          "Wine",
          "Cane Sugar",
          "Other Pulses",
          "Grapes",
          "Mutton",
          "Nuts",
          "Palm Oil",
          "Groundnuts",
          "Coffee",
          "Citrus Fruit",
          "Peas",
          "Olive Oil",
          "Beet Sugar"
         ],
         "xaxis": "x",
         "y": [
          17904347000,
          17755357000,
          14780040000,
          13498424000,
          6353554000,
          4348591000,
          3465370000,
          3463336000,
          3219400000,
          3037100000,
          2268633000,
          2198028000,
          2118056000,
          1685738000,
          1622053000,
          1574190000,
          1139982000,
          1047375000,
          819820000,
          788599000,
          397627000,
          329054000,
          311984000,
          300036000,
          272799000,
          226660000,
          174386000,
          96287000,
          1894000
         ],
         "yaxis": "y"
        }
       ],
       "layout": {
        "barmode": "relative",
        "coloraxis": {
         "colorbar": {
          "title": {
           "text": "Tonnes"
          }
         },
         "colorscale": [
          [
           0,
           "#0d0887"
          ],
          [
           0.1111111111111111,
           "#46039f"
          ],
          [
           0.2222222222222222,
           "#7201a8"
          ],
          [
           0.3333333333333333,
           "#9c179e"
          ],
          [
           0.4444444444444444,
           "#bd3786"
          ],
          [
           0.5555555555555556,
           "#d8576b"
          ],
          [
           0.6666666666666666,
           "#ed7953"
          ],
          [
           0.7777777777777778,
           "#fb9f3a"
          ],
          [
           0.8888888888888888,
           "#fdca26"
          ],
          [
           1,
           "#f0f921"
          ]
         ]
        },
        "height": 600,
        "legend": {
         "tracegroupgap": 0
        },
        "template": {
         "data": {
          "bar": [
           {
            "error_x": {
             "color": "#2a3f5f"
            },
            "error_y": {
             "color": "#2a3f5f"
            },
            "marker": {
             "line": {
              "color": "#E5ECF6",
              "width": 0.5
             },
             "pattern": {
              "fillmode": "overlay",
              "size": 10,
              "solidity": 0.2
             }
            },
            "type": "bar"
           }
          ],
          "barpolar": [
           {
            "marker": {
             "line": {
              "color": "#E5ECF6",
              "width": 0.5
             },
             "pattern": {
              "fillmode": "overlay",
              "size": 10,
              "solidity": 0.2
             }
            },
            "type": "barpolar"
           }
          ],
          "carpet": [
           {
            "aaxis": {
             "endlinecolor": "#2a3f5f",
             "gridcolor": "white",
             "linecolor": "white",
             "minorgridcolor": "white",
             "startlinecolor": "#2a3f5f"
            },
            "baxis": {
             "endlinecolor": "#2a3f5f",
             "gridcolor": "white",
             "linecolor": "white",
             "minorgridcolor": "white",
             "startlinecolor": "#2a3f5f"
            },
            "type": "carpet"
           }
          ],
          "choropleth": [
           {
            "colorbar": {
             "outlinewidth": 0,
             "ticks": ""
            },
            "type": "choropleth"
           }
          ],
          "contour": [
           {
            "colorbar": {
             "outlinewidth": 0,
             "ticks": ""
            },
            "colorscale": [
             [
              0,
              "#0d0887"
             ],
             [
              0.1111111111111111,
              "#46039f"
             ],
             [
              0.2222222222222222,
              "#7201a8"
             ],
             [
              0.3333333333333333,
              "#9c179e"
             ],
             [
              0.4444444444444444,
              "#bd3786"
             ],
             [
              0.5555555555555556,
              "#d8576b"
             ],
             [
              0.6666666666666666,
              "#ed7953"
             ],
             [
              0.7777777777777778,
              "#fb9f3a"
             ],
             [
              0.8888888888888888,
              "#fdca26"
             ],
             [
              1,
              "#f0f921"
             ]
            ],
            "type": "contour"
           }
          ],
          "contourcarpet": [
           {
            "colorbar": {
             "outlinewidth": 0,
             "ticks": ""
            },
            "type": "contourcarpet"
           }
          ],
          "heatmap": [
           {
            "colorbar": {
             "outlinewidth": 0,
             "ticks": ""
            },
            "colorscale": [
             [
              0,
              "#0d0887"
             ],
             [
              0.1111111111111111,
              "#46039f"
             ],
             [
              0.2222222222222222,
              "#7201a8"
             ],
             [
              0.3333333333333333,
              "#9c179e"
             ],
             [
              0.4444444444444444,
              "#bd3786"
             ],
             [
              0.5555555555555556,
              "#d8576b"
             ],
             [
              0.6666666666666666,
              "#ed7953"
             ],
             [
              0.7777777777777778,
              "#fb9f3a"
             ],
             [
              0.8888888888888888,
              "#fdca26"
             ],
             [
              1,
              "#f0f921"
             ]
            ],
            "type": "heatmap"
           }
          ],
          "heatmapgl": [
           {
            "colorbar": {
             "outlinewidth": 0,
             "ticks": ""
            },
            "colorscale": [
             [
              0,
              "#0d0887"
             ],
             [
              0.1111111111111111,
              "#46039f"
             ],
             [
              0.2222222222222222,
              "#7201a8"
             ],
             [
              0.3333333333333333,
              "#9c179e"
             ],
             [
              0.4444444444444444,
              "#bd3786"
             ],
             [
              0.5555555555555556,
              "#d8576b"
             ],
             [
              0.6666666666666666,
              "#ed7953"
             ],
             [
              0.7777777777777778,
              "#fb9f3a"
             ],
             [
              0.8888888888888888,
              "#fdca26"
             ],
             [
              1,
              "#f0f921"
             ]
            ],
            "type": "heatmapgl"
           }
          ],
          "histogram": [
           {
            "marker": {
             "pattern": {
              "fillmode": "overlay",
              "size": 10,
              "solidity": 0.2
             }
            },
            "type": "histogram"
           }
          ],
          "histogram2d": [
           {
            "colorbar": {
             "outlinewidth": 0,
             "ticks": ""
            },
            "colorscale": [
             [
              0,
              "#0d0887"
             ],
             [
              0.1111111111111111,
              "#46039f"
             ],
             [
              0.2222222222222222,
              "#7201a8"
             ],
             [
              0.3333333333333333,
              "#9c179e"
             ],
             [
              0.4444444444444444,
              "#bd3786"
             ],
             [
              0.5555555555555556,
              "#d8576b"
             ],
             [
              0.6666666666666666,
              "#ed7953"
             ],
             [
              0.7777777777777778,
              "#fb9f3a"
             ],
             [
              0.8888888888888888,
              "#fdca26"
             ],
             [
              1,
              "#f0f921"
             ]
            ],
            "type": "histogram2d"
           }
          ],
          "histogram2dcontour": [
           {
            "colorbar": {
             "outlinewidth": 0,
             "ticks": ""
            },
            "colorscale": [
             [
              0,
              "#0d0887"
             ],
             [
              0.1111111111111111,
              "#46039f"
             ],
             [
              0.2222222222222222,
              "#7201a8"
             ],
             [
              0.3333333333333333,
              "#9c179e"
             ],
             [
              0.4444444444444444,
              "#bd3786"
             ],
             [
              0.5555555555555556,
              "#d8576b"
             ],
             [
              0.6666666666666666,
              "#ed7953"
             ],
             [
              0.7777777777777778,
              "#fb9f3a"
             ],
             [
              0.8888888888888888,
              "#fdca26"
             ],
             [
              1,
              "#f0f921"
             ]
            ],
            "type": "histogram2dcontour"
           }
          ],
          "mesh3d": [
           {
            "colorbar": {
             "outlinewidth": 0,
             "ticks": ""
            },
            "type": "mesh3d"
           }
          ],
          "parcoords": [
           {
            "line": {
             "colorbar": {
              "outlinewidth": 0,
              "ticks": ""
             }
            },
            "type": "parcoords"
           }
          ],
          "pie": [
           {
            "automargin": true,
            "type": "pie"
           }
          ],
          "scatter": [
           {
            "fillpattern": {
             "fillmode": "overlay",
             "size": 10,
             "solidity": 0.2
            },
            "type": "scatter"
           }
          ],
          "scatter3d": [
           {
            "line": {
             "colorbar": {
              "outlinewidth": 0,
              "ticks": ""
             }
            },
            "marker": {
             "colorbar": {
              "outlinewidth": 0,
              "ticks": ""
             }
            },
            "type": "scatter3d"
           }
          ],
          "scattercarpet": [
           {
            "marker": {
             "colorbar": {
              "outlinewidth": 0,
              "ticks": ""
             }
            },
            "type": "scattercarpet"
           }
          ],
          "scattergeo": [
           {
            "marker": {
             "colorbar": {
              "outlinewidth": 0,
              "ticks": ""
             }
            },
            "type": "scattergeo"
           }
          ],
          "scattergl": [
           {
            "marker": {
             "colorbar": {
              "outlinewidth": 0,
              "ticks": ""
             }
            },
            "type": "scattergl"
           }
          ],
          "scattermapbox": [
           {
            "marker": {
             "colorbar": {
              "outlinewidth": 0,
              "ticks": ""
             }
            },
            "type": "scattermapbox"
           }
          ],
          "scatterpolar": [
           {
            "marker": {
             "colorbar": {
              "outlinewidth": 0,
              "ticks": ""
             }
            },
            "type": "scatterpolar"
           }
          ],
          "scatterpolargl": [
           {
            "marker": {
             "colorbar": {
              "outlinewidth": 0,
              "ticks": ""
             }
            },
            "type": "scatterpolargl"
           }
          ],
          "scatterternary": [
           {
            "marker": {
             "colorbar": {
              "outlinewidth": 0,
              "ticks": ""
             }
            },
            "type": "scatterternary"
           }
          ],
          "surface": [
           {
            "colorbar": {
             "outlinewidth": 0,
             "ticks": ""
            },
            "colorscale": [
             [
              0,
              "#0d0887"
             ],
             [
              0.1111111111111111,
              "#46039f"
             ],
             [
              0.2222222222222222,
              "#7201a8"
             ],
             [
              0.3333333333333333,
              "#9c179e"
             ],
             [
              0.4444444444444444,
              "#bd3786"
             ],
             [
              0.5555555555555556,
              "#d8576b"
             ],
             [
              0.6666666666666666,
              "#ed7953"
             ],
             [
              0.7777777777777778,
              "#fb9f3a"
             ],
             [
              0.8888888888888888,
              "#fdca26"
             ],
             [
              1,
              "#f0f921"
             ]
            ],
            "type": "surface"
           }
          ],
          "table": [
           {
            "cells": {
             "fill": {
              "color": "#EBF0F8"
             },
             "line": {
              "color": "white"
             }
            },
            "header": {
             "fill": {
              "color": "#C8D4E3"
             },
             "line": {
              "color": "white"
             }
            },
            "type": "table"
           }
          ]
         },
         "layout": {
          "annotationdefaults": {
           "arrowcolor": "#2a3f5f",
           "arrowhead": 0,
           "arrowwidth": 1
          },
          "autotypenumbers": "strict",
          "coloraxis": {
           "colorbar": {
            "outlinewidth": 0,
            "ticks": ""
           }
          },
          "colorscale": {
           "diverging": [
            [
             0,
             "#8e0152"
            ],
            [
             0.1,
             "#c51b7d"
            ],
            [
             0.2,
             "#de77ae"
            ],
            [
             0.3,
             "#f1b6da"
            ],
            [
             0.4,
             "#fde0ef"
            ],
            [
             0.5,
             "#f7f7f7"
            ],
            [
             0.6,
             "#e6f5d0"
            ],
            [
             0.7,
             "#b8e186"
            ],
            [
             0.8,
             "#7fbc41"
            ],
            [
             0.9,
             "#4d9221"
            ],
            [
             1,
             "#276419"
            ]
           ],
           "sequential": [
            [
             0,
             "#0d0887"
            ],
            [
             0.1111111111111111,
             "#46039f"
            ],
            [
             0.2222222222222222,
             "#7201a8"
            ],
            [
             0.3333333333333333,
             "#9c179e"
            ],
            [
             0.4444444444444444,
             "#bd3786"
            ],
            [
             0.5555555555555556,
             "#d8576b"
            ],
            [
             0.6666666666666666,
             "#ed7953"
            ],
            [
             0.7777777777777778,
             "#fb9f3a"
            ],
            [
             0.8888888888888888,
             "#fdca26"
            ],
            [
             1,
             "#f0f921"
            ]
           ],
           "sequentialminus": [
            [
             0,
             "#0d0887"
            ],
            [
             0.1111111111111111,
             "#46039f"
            ],
            [
             0.2222222222222222,
             "#7201a8"
            ],
            [
             0.3333333333333333,
             "#9c179e"
            ],
            [
             0.4444444444444444,
             "#bd3786"
            ],
            [
             0.5555555555555556,
             "#d8576b"
            ],
            [
             0.6666666666666666,
             "#ed7953"
            ],
            [
             0.7777777777777778,
             "#fb9f3a"
            ],
            [
             0.8888888888888888,
             "#fdca26"
            ],
            [
             1,
             "#f0f921"
            ]
           ]
          },
          "colorway": [
           "#636efa",
           "#EF553B",
           "#00cc96",
           "#ab63fa",
           "#FFA15A",
           "#19d3f3",
           "#FF6692",
           "#B6E880",
           "#FF97FF",
           "#FECB52"
          ],
          "font": {
           "color": "#2a3f5f"
          },
          "geo": {
           "bgcolor": "white",
           "lakecolor": "white",
           "landcolor": "#E5ECF6",
           "showlakes": true,
           "showland": true,
           "subunitcolor": "white"
          },
          "hoverlabel": {
           "align": "left"
          },
          "hovermode": "closest",
          "mapbox": {
           "style": "light"
          },
          "paper_bgcolor": "white",
          "plot_bgcolor": "#E5ECF6",
          "polar": {
           "angularaxis": {
            "gridcolor": "white",
            "linecolor": "white",
            "ticks": ""
           },
           "bgcolor": "#E5ECF6",
           "radialaxis": {
            "gridcolor": "white",
            "linecolor": "white",
            "ticks": ""
           }
          },
          "scene": {
           "xaxis": {
            "backgroundcolor": "#E5ECF6",
            "gridcolor": "white",
            "gridwidth": 2,
            "linecolor": "white",
            "showbackground": true,
            "ticks": "",
            "zerolinecolor": "white"
           },
           "yaxis": {
            "backgroundcolor": "#E5ECF6",
            "gridcolor": "white",
            "gridwidth": 2,
            "linecolor": "white",
            "showbackground": true,
            "ticks": "",
            "zerolinecolor": "white"
           },
           "zaxis": {
            "backgroundcolor": "#E5ECF6",
            "gridcolor": "white",
            "gridwidth": 2,
            "linecolor": "white",
            "showbackground": true,
            "ticks": "",
            "zerolinecolor": "white"
           }
          },
          "shapedefaults": {
           "line": {
            "color": "#2a3f5f"
           }
          },
          "ternary": {
           "aaxis": {
            "gridcolor": "white",
            "linecolor": "white",
            "ticks": ""
           },
           "baxis": {
            "gridcolor": "white",
            "linecolor": "white",
            "ticks": ""
           },
           "bgcolor": "#E5ECF6",
           "caxis": {
            "gridcolor": "white",
            "linecolor": "white",
            "ticks": ""
           }
          },
          "title": {
           "x": 0.05
          },
          "xaxis": {
           "automargin": true,
           "gridcolor": "white",
           "linecolor": "white",
           "ticks": "",
           "title": {
            "standoff": 15
           },
           "zerolinecolor": "white",
           "zerolinewidth": 2
          },
          "yaxis": {
           "automargin": true,
           "gridcolor": "white",
           "linecolor": "white",
           "ticks": "",
           "title": {
            "standoff": 15
           },
           "zerolinecolor": "white",
           "zerolinewidth": 2
          }
         }
        },
        "title": {
         "text": "Cibi più e meno prodotti dal 1961 al 2013(Tonnellate)"
        },
        "xaxis": {
         "anchor": "y",
         "domain": [
          0,
          1
         ],
         "title": {
          "text": "Type"
         }
        },
        "yaxis": {
         "anchor": "x",
         "domain": [
          0,
          1
         ],
         "title": {
          "text": "Tonnes"
         }
        }
       }
      }
     },
     "metadata": {},
     "output_type": "display_data"
    }
   ],
   "source": [
    "columns_interested = [\"Item\", \"Element\", \"Area\", \"Prod. 1961 - 2013\", \"Type\"]\n",
    "Food_feed_df = prodotti_tracciati_df[columns_interested]\n",
    "Food_feed_df = Food_feed_df[Food_feed_df[\"Element\"] == \"Food\"]\n",
    "Food_feed_df = Food_feed_df.sort_values(by=[\"Prod. 1961 - 2013\"], ascending=False).reset_index().drop(columns=[\"index\"]).drop_duplicates().reset_index().drop(columns=[\"index\"])\n",
    "Food_feed_df[\"Tonnes\"] = Food_feed_df[\"Prod. 1961 - 2013\"]\n",
    "temp_df = Food_feed_df.groupby(\"Type\").sum(numeric_only=True).sort_values(by=\"Tonnes\", ascending=False)\n",
    "\n",
    "# prodotti_tracciati_df[\"Tonnes\"] = prodotti_tracciati_df[\"Prod. 1961 - 2013\"] * 1000\n",
    "# Food_items[\"Tonnes\"] = prodotti_tracciati_df[\"Tonnes\"]\n",
    "\n",
    "fig = px.bar(\n",
    "     temp_df,\n",
    "     x=temp_df.index,\n",
    "     y=\"Tonnes\",\n",
    "     color=\"Tonnes\",\n",
    "     title='Cibi più e meno prodotti dal 1961 al 2013(Tonnellate)',\n",
    "     height=600\n",
    ")\n",
    "\n",
    "fig.show()"
   ]
  },
  {
   "cell_type": "markdown",
   "metadata": {},
   "source": [
    "# Mangimi più e meno prodotti dal 1961 al 2013\n",
    "#### Vediamo la produzione di mangimi quali categorie di cibo va a colpire maggiormente"
   ]
  },
  {
   "cell_type": "code",
   "execution_count": 297,
   "metadata": {},
   "outputs": [
    {
     "data": {
      "application/vnd.plotly.v1+json": {
       "config": {
        "plotlyServerURL": "https://plot.ly"
       },
       "data": [
        {
         "alignmentgroup": "True",
         "hovertemplate": "Type=%{x}<br>Tonnes=%{marker.color}<extra></extra>",
         "legendgroup": "",
         "marker": {
          "color": [
           2839405000000,
           2837106000000,
           2350240000000,
           2021093000000,
           1146278000000,
           1075008000000,
           962161000000,
           672160000000,
           238262000000,
           120795000000,
           118535000000,
           50311000000,
           40771000000,
           6486000000,
           4966000000,
           261000000,
           219000000,
           197000000,
           52000000,
           27000000,
           1000000
          ],
          "coloraxis": "coloraxis",
          "pattern": {
           "shape": ""
          }
         },
         "name": "",
         "offsetgroup": "",
         "orientation": "v",
         "showlegend": false,
         "textposition": "auto",
         "type": "bar",
         "x": [
          "Milk",
          "Wheat",
          "Cassava",
          "Potatoes",
          "Cane Sugar",
          "Fish (farmed)",
          "Rice",
          "Other Vegetables",
          "Other Pulses",
          "Peas",
          "Beet Sugar",
          "Tomatoes",
          "Bananas",
          "Apples",
          "Other Fruit",
          "Groundnuts",
          "Eggs",
          "Mutton",
          "Onions",
          "Poultry Meat",
          "Olive Oil"
         ],
         "xaxis": "x",
         "y": [
          2839405000000,
          2837106000000,
          2350240000000,
          2021093000000,
          1146278000000,
          1075008000000,
          962161000000,
          672160000000,
          238262000000,
          120795000000,
          118535000000,
          50311000000,
          40771000000,
          6486000000,
          4966000000,
          261000000,
          219000000,
          197000000,
          52000000,
          27000000,
          1000000
         ],
         "yaxis": "y"
        }
       ],
       "layout": {
        "barmode": "relative",
        "coloraxis": {
         "colorbar": {
          "title": {
           "text": "Tonnes"
          }
         },
         "colorscale": [
          [
           0,
           "#0d0887"
          ],
          [
           0.1111111111111111,
           "#46039f"
          ],
          [
           0.2222222222222222,
           "#7201a8"
          ],
          [
           0.3333333333333333,
           "#9c179e"
          ],
          [
           0.4444444444444444,
           "#bd3786"
          ],
          [
           0.5555555555555556,
           "#d8576b"
          ],
          [
           0.6666666666666666,
           "#ed7953"
          ],
          [
           0.7777777777777778,
           "#fb9f3a"
          ],
          [
           0.8888888888888888,
           "#fdca26"
          ],
          [
           1,
           "#f0f921"
          ]
         ]
        },
        "height": 600,
        "legend": {
         "tracegroupgap": 0
        },
        "template": {
         "data": {
          "bar": [
           {
            "error_x": {
             "color": "#2a3f5f"
            },
            "error_y": {
             "color": "#2a3f5f"
            },
            "marker": {
             "line": {
              "color": "#E5ECF6",
              "width": 0.5
             },
             "pattern": {
              "fillmode": "overlay",
              "size": 10,
              "solidity": 0.2
             }
            },
            "type": "bar"
           }
          ],
          "barpolar": [
           {
            "marker": {
             "line": {
              "color": "#E5ECF6",
              "width": 0.5
             },
             "pattern": {
              "fillmode": "overlay",
              "size": 10,
              "solidity": 0.2
             }
            },
            "type": "barpolar"
           }
          ],
          "carpet": [
           {
            "aaxis": {
             "endlinecolor": "#2a3f5f",
             "gridcolor": "white",
             "linecolor": "white",
             "minorgridcolor": "white",
             "startlinecolor": "#2a3f5f"
            },
            "baxis": {
             "endlinecolor": "#2a3f5f",
             "gridcolor": "white",
             "linecolor": "white",
             "minorgridcolor": "white",
             "startlinecolor": "#2a3f5f"
            },
            "type": "carpet"
           }
          ],
          "choropleth": [
           {
            "colorbar": {
             "outlinewidth": 0,
             "ticks": ""
            },
            "type": "choropleth"
           }
          ],
          "contour": [
           {
            "colorbar": {
             "outlinewidth": 0,
             "ticks": ""
            },
            "colorscale": [
             [
              0,
              "#0d0887"
             ],
             [
              0.1111111111111111,
              "#46039f"
             ],
             [
              0.2222222222222222,
              "#7201a8"
             ],
             [
              0.3333333333333333,
              "#9c179e"
             ],
             [
              0.4444444444444444,
              "#bd3786"
             ],
             [
              0.5555555555555556,
              "#d8576b"
             ],
             [
              0.6666666666666666,
              "#ed7953"
             ],
             [
              0.7777777777777778,
              "#fb9f3a"
             ],
             [
              0.8888888888888888,
              "#fdca26"
             ],
             [
              1,
              "#f0f921"
             ]
            ],
            "type": "contour"
           }
          ],
          "contourcarpet": [
           {
            "colorbar": {
             "outlinewidth": 0,
             "ticks": ""
            },
            "type": "contourcarpet"
           }
          ],
          "heatmap": [
           {
            "colorbar": {
             "outlinewidth": 0,
             "ticks": ""
            },
            "colorscale": [
             [
              0,
              "#0d0887"
             ],
             [
              0.1111111111111111,
              "#46039f"
             ],
             [
              0.2222222222222222,
              "#7201a8"
             ],
             [
              0.3333333333333333,
              "#9c179e"
             ],
             [
              0.4444444444444444,
              "#bd3786"
             ],
             [
              0.5555555555555556,
              "#d8576b"
             ],
             [
              0.6666666666666666,
              "#ed7953"
             ],
             [
              0.7777777777777778,
              "#fb9f3a"
             ],
             [
              0.8888888888888888,
              "#fdca26"
             ],
             [
              1,
              "#f0f921"
             ]
            ],
            "type": "heatmap"
           }
          ],
          "heatmapgl": [
           {
            "colorbar": {
             "outlinewidth": 0,
             "ticks": ""
            },
            "colorscale": [
             [
              0,
              "#0d0887"
             ],
             [
              0.1111111111111111,
              "#46039f"
             ],
             [
              0.2222222222222222,
              "#7201a8"
             ],
             [
              0.3333333333333333,
              "#9c179e"
             ],
             [
              0.4444444444444444,
              "#bd3786"
             ],
             [
              0.5555555555555556,
              "#d8576b"
             ],
             [
              0.6666666666666666,
              "#ed7953"
             ],
             [
              0.7777777777777778,
              "#fb9f3a"
             ],
             [
              0.8888888888888888,
              "#fdca26"
             ],
             [
              1,
              "#f0f921"
             ]
            ],
            "type": "heatmapgl"
           }
          ],
          "histogram": [
           {
            "marker": {
             "pattern": {
              "fillmode": "overlay",
              "size": 10,
              "solidity": 0.2
             }
            },
            "type": "histogram"
           }
          ],
          "histogram2d": [
           {
            "colorbar": {
             "outlinewidth": 0,
             "ticks": ""
            },
            "colorscale": [
             [
              0,
              "#0d0887"
             ],
             [
              0.1111111111111111,
              "#46039f"
             ],
             [
              0.2222222222222222,
              "#7201a8"
             ],
             [
              0.3333333333333333,
              "#9c179e"
             ],
             [
              0.4444444444444444,
              "#bd3786"
             ],
             [
              0.5555555555555556,
              "#d8576b"
             ],
             [
              0.6666666666666666,
              "#ed7953"
             ],
             [
              0.7777777777777778,
              "#fb9f3a"
             ],
             [
              0.8888888888888888,
              "#fdca26"
             ],
             [
              1,
              "#f0f921"
             ]
            ],
            "type": "histogram2d"
           }
          ],
          "histogram2dcontour": [
           {
            "colorbar": {
             "outlinewidth": 0,
             "ticks": ""
            },
            "colorscale": [
             [
              0,
              "#0d0887"
             ],
             [
              0.1111111111111111,
              "#46039f"
             ],
             [
              0.2222222222222222,
              "#7201a8"
             ],
             [
              0.3333333333333333,
              "#9c179e"
             ],
             [
              0.4444444444444444,
              "#bd3786"
             ],
             [
              0.5555555555555556,
              "#d8576b"
             ],
             [
              0.6666666666666666,
              "#ed7953"
             ],
             [
              0.7777777777777778,
              "#fb9f3a"
             ],
             [
              0.8888888888888888,
              "#fdca26"
             ],
             [
              1,
              "#f0f921"
             ]
            ],
            "type": "histogram2dcontour"
           }
          ],
          "mesh3d": [
           {
            "colorbar": {
             "outlinewidth": 0,
             "ticks": ""
            },
            "type": "mesh3d"
           }
          ],
          "parcoords": [
           {
            "line": {
             "colorbar": {
              "outlinewidth": 0,
              "ticks": ""
             }
            },
            "type": "parcoords"
           }
          ],
          "pie": [
           {
            "automargin": true,
            "type": "pie"
           }
          ],
          "scatter": [
           {
            "fillpattern": {
             "fillmode": "overlay",
             "size": 10,
             "solidity": 0.2
            },
            "type": "scatter"
           }
          ],
          "scatter3d": [
           {
            "line": {
             "colorbar": {
              "outlinewidth": 0,
              "ticks": ""
             }
            },
            "marker": {
             "colorbar": {
              "outlinewidth": 0,
              "ticks": ""
             }
            },
            "type": "scatter3d"
           }
          ],
          "scattercarpet": [
           {
            "marker": {
             "colorbar": {
              "outlinewidth": 0,
              "ticks": ""
             }
            },
            "type": "scattercarpet"
           }
          ],
          "scattergeo": [
           {
            "marker": {
             "colorbar": {
              "outlinewidth": 0,
              "ticks": ""
             }
            },
            "type": "scattergeo"
           }
          ],
          "scattergl": [
           {
            "marker": {
             "colorbar": {
              "outlinewidth": 0,
              "ticks": ""
             }
            },
            "type": "scattergl"
           }
          ],
          "scattermapbox": [
           {
            "marker": {
             "colorbar": {
              "outlinewidth": 0,
              "ticks": ""
             }
            },
            "type": "scattermapbox"
           }
          ],
          "scatterpolar": [
           {
            "marker": {
             "colorbar": {
              "outlinewidth": 0,
              "ticks": ""
             }
            },
            "type": "scatterpolar"
           }
          ],
          "scatterpolargl": [
           {
            "marker": {
             "colorbar": {
              "outlinewidth": 0,
              "ticks": ""
             }
            },
            "type": "scatterpolargl"
           }
          ],
          "scatterternary": [
           {
            "marker": {
             "colorbar": {
              "outlinewidth": 0,
              "ticks": ""
             }
            },
            "type": "scatterternary"
           }
          ],
          "surface": [
           {
            "colorbar": {
             "outlinewidth": 0,
             "ticks": ""
            },
            "colorscale": [
             [
              0,
              "#0d0887"
             ],
             [
              0.1111111111111111,
              "#46039f"
             ],
             [
              0.2222222222222222,
              "#7201a8"
             ],
             [
              0.3333333333333333,
              "#9c179e"
             ],
             [
              0.4444444444444444,
              "#bd3786"
             ],
             [
              0.5555555555555556,
              "#d8576b"
             ],
             [
              0.6666666666666666,
              "#ed7953"
             ],
             [
              0.7777777777777778,
              "#fb9f3a"
             ],
             [
              0.8888888888888888,
              "#fdca26"
             ],
             [
              1,
              "#f0f921"
             ]
            ],
            "type": "surface"
           }
          ],
          "table": [
           {
            "cells": {
             "fill": {
              "color": "#EBF0F8"
             },
             "line": {
              "color": "white"
             }
            },
            "header": {
             "fill": {
              "color": "#C8D4E3"
             },
             "line": {
              "color": "white"
             }
            },
            "type": "table"
           }
          ]
         },
         "layout": {
          "annotationdefaults": {
           "arrowcolor": "#2a3f5f",
           "arrowhead": 0,
           "arrowwidth": 1
          },
          "autotypenumbers": "strict",
          "coloraxis": {
           "colorbar": {
            "outlinewidth": 0,
            "ticks": ""
           }
          },
          "colorscale": {
           "diverging": [
            [
             0,
             "#8e0152"
            ],
            [
             0.1,
             "#c51b7d"
            ],
            [
             0.2,
             "#de77ae"
            ],
            [
             0.3,
             "#f1b6da"
            ],
            [
             0.4,
             "#fde0ef"
            ],
            [
             0.5,
             "#f7f7f7"
            ],
            [
             0.6,
             "#e6f5d0"
            ],
            [
             0.7,
             "#b8e186"
            ],
            [
             0.8,
             "#7fbc41"
            ],
            [
             0.9,
             "#4d9221"
            ],
            [
             1,
             "#276419"
            ]
           ],
           "sequential": [
            [
             0,
             "#0d0887"
            ],
            [
             0.1111111111111111,
             "#46039f"
            ],
            [
             0.2222222222222222,
             "#7201a8"
            ],
            [
             0.3333333333333333,
             "#9c179e"
            ],
            [
             0.4444444444444444,
             "#bd3786"
            ],
            [
             0.5555555555555556,
             "#d8576b"
            ],
            [
             0.6666666666666666,
             "#ed7953"
            ],
            [
             0.7777777777777778,
             "#fb9f3a"
            ],
            [
             0.8888888888888888,
             "#fdca26"
            ],
            [
             1,
             "#f0f921"
            ]
           ],
           "sequentialminus": [
            [
             0,
             "#0d0887"
            ],
            [
             0.1111111111111111,
             "#46039f"
            ],
            [
             0.2222222222222222,
             "#7201a8"
            ],
            [
             0.3333333333333333,
             "#9c179e"
            ],
            [
             0.4444444444444444,
             "#bd3786"
            ],
            [
             0.5555555555555556,
             "#d8576b"
            ],
            [
             0.6666666666666666,
             "#ed7953"
            ],
            [
             0.7777777777777778,
             "#fb9f3a"
            ],
            [
             0.8888888888888888,
             "#fdca26"
            ],
            [
             1,
             "#f0f921"
            ]
           ]
          },
          "colorway": [
           "#636efa",
           "#EF553B",
           "#00cc96",
           "#ab63fa",
           "#FFA15A",
           "#19d3f3",
           "#FF6692",
           "#B6E880",
           "#FF97FF",
           "#FECB52"
          ],
          "font": {
           "color": "#2a3f5f"
          },
          "geo": {
           "bgcolor": "white",
           "lakecolor": "white",
           "landcolor": "#E5ECF6",
           "showlakes": true,
           "showland": true,
           "subunitcolor": "white"
          },
          "hoverlabel": {
           "align": "left"
          },
          "hovermode": "closest",
          "mapbox": {
           "style": "light"
          },
          "paper_bgcolor": "white",
          "plot_bgcolor": "#E5ECF6",
          "polar": {
           "angularaxis": {
            "gridcolor": "white",
            "linecolor": "white",
            "ticks": ""
           },
           "bgcolor": "#E5ECF6",
           "radialaxis": {
            "gridcolor": "white",
            "linecolor": "white",
            "ticks": ""
           }
          },
          "scene": {
           "xaxis": {
            "backgroundcolor": "#E5ECF6",
            "gridcolor": "white",
            "gridwidth": 2,
            "linecolor": "white",
            "showbackground": true,
            "ticks": "",
            "zerolinecolor": "white"
           },
           "yaxis": {
            "backgroundcolor": "#E5ECF6",
            "gridcolor": "white",
            "gridwidth": 2,
            "linecolor": "white",
            "showbackground": true,
            "ticks": "",
            "zerolinecolor": "white"
           },
           "zaxis": {
            "backgroundcolor": "#E5ECF6",
            "gridcolor": "white",
            "gridwidth": 2,
            "linecolor": "white",
            "showbackground": true,
            "ticks": "",
            "zerolinecolor": "white"
           }
          },
          "shapedefaults": {
           "line": {
            "color": "#2a3f5f"
           }
          },
          "ternary": {
           "aaxis": {
            "gridcolor": "white",
            "linecolor": "white",
            "ticks": ""
           },
           "baxis": {
            "gridcolor": "white",
            "linecolor": "white",
            "ticks": ""
           },
           "bgcolor": "#E5ECF6",
           "caxis": {
            "gridcolor": "white",
            "linecolor": "white",
            "ticks": ""
           }
          },
          "title": {
           "x": 0.05
          },
          "xaxis": {
           "automargin": true,
           "gridcolor": "white",
           "linecolor": "white",
           "ticks": "",
           "title": {
            "standoff": 15
           },
           "zerolinecolor": "white",
           "zerolinewidth": 2
          },
          "yaxis": {
           "automargin": true,
           "gridcolor": "white",
           "linecolor": "white",
           "ticks": "",
           "title": {
            "standoff": 15
           },
           "zerolinecolor": "white",
           "zerolinewidth": 2
          }
         }
        },
        "title": {
         "text": "Magimi più e meno prodotti dal 1961 al 2013(Tonnellate)"
        },
        "xaxis": {
         "anchor": "y",
         "domain": [
          0,
          1
         ],
         "title": {
          "text": "Type"
         }
        },
        "yaxis": {
         "anchor": "x",
         "domain": [
          0,
          1
         ],
         "title": {
          "text": "Tonnes"
         }
        }
       }
      }
     },
     "metadata": {},
     "output_type": "display_data"
    }
   ],
   "source": [
    "Feed_items = prodotti_tracciati_df[columns_interested]\n",
    "Feed_items = Feed_items[Feed_items[\"Element\"] == \"Feed\"]\n",
    "Feed_items = Feed_items.sort_values(by=[\"Prod. 1961 - 2013\"], ascending=False).reset_index().drop(columns=[\"index\"]).drop_duplicates().reset_index().drop(columns=[\"index\"])\n",
    "Feed_items[\"Tonnes\"] = Feed_items[\"Prod. 1961 - 2013\"]\n",
    "\n",
    "temp_df = Feed_items.groupby(\"Type\").sum(numeric_only=True).sort_values(by=\"Tonnes\", ascending=False)\n",
    "\n",
    "fig = px.bar(\n",
    "     temp_df,\n",
    "     x=temp_df.index,\n",
    "     y=\"Tonnes\",\n",
    "     color=\"Tonnes\",\n",
    "     title='Magimi più e meno prodotti dal 1961 al 2013(Tonnellate)',\n",
    "     height=600\n",
    ")\n",
    "fig.show()"
   ]
  },
  {
   "cell_type": "markdown",
   "metadata": {},
   "source": [
    "# Calcolo l'inquinamento da CO2 di tutti i cibi e mangimi"
   ]
  },
  {
   "cell_type": "code",
   "execution_count": 298,
   "metadata": {},
   "outputs": [
    {
     "data": {
      "application/vnd.plotly.v1+json": {
       "config": {
        "plotlyServerURL": "https://plot.ly"
       },
       "data": [
        {
         "alignmentgroup": "True",
         "hovertemplate": "Type=%{x}<br>KGCO2=%{marker.color}<extra></extra>",
         "legendgroup": "",
         "marker": {
          "color": [
           8000466171600001,
           5500203813600000,
           3902637696000000,
           2983045975000000,
           2118334833000000,
           608233966200000,
           382530912000000,
           344957678500000,
           165951651600000,
           135210526800000,
           96775508800000,
           74942560000000,
           34375222400000,
           21867120000000,
           13084841600000.002,
           8284738500000,
           6520213700000,
           4501183500000.001,
           2451521400000,
           2371078400000,
           1595974800000,
           1346486400000,
           583722000000,
           67998000000,
           65810800000,
           0,
           0,
           0,
           0
          ],
          "coloraxis": "coloraxis",
          "pattern": {
           "shape": ""
          }
         },
         "name": "",
         "offsetgroup": "",
         "orientation": "v",
         "showlegend": false,
         "textposition": "auto",
         "type": "bar",
         "x": [
          "Milk",
          "Fish (farmed)",
          "Rice",
          "Cane Sugar",
          "Cassava",
          "Potatoes",
          "Other Pulses",
          "Other Vegetables",
          "Beet Sugar",
          "Beef (beef herd)",
          "Peas",
          "Tomatoes",
          "Bananas",
          "Pig Meat",
          "Poultry Meat",
          "Eggs",
          "Other Fruit",
          "Coffee",
          "Apples",
          "Palm Oil",
          "Wine",
          "Groundnuts",
          "Olive Oil",
          "Citrus Fruit",
          "Nuts",
          "Onions",
          "Mutton",
          "Grapes",
          "Wheat"
         ],
         "xaxis": "x",
         "y": [
          8000466171600001,
          5500203813600000,
          3902637696000000,
          2983045975000000,
          2118334833000000,
          608233966200000,
          382530912000000,
          344957678500000,
          165951651600000,
          135210526800000,
          96775508800000,
          74942560000000,
          34375222400000,
          21867120000000,
          13084841600000.002,
          8284738500000,
          6520213700000,
          4501183500000.001,
          2451521400000,
          2371078400000,
          1595974800000,
          1346486400000,
          583722000000,
          67998000000,
          65810800000,
          0,
          0,
          0,
          0
         ],
         "yaxis": "y"
        }
       ],
       "layout": {
        "barmode": "relative",
        "coloraxis": {
         "colorbar": {
          "title": {
           "text": "KGCO2"
          }
         },
         "colorscale": [
          [
           0,
           "#0d0887"
          ],
          [
           0.1111111111111111,
           "#46039f"
          ],
          [
           0.2222222222222222,
           "#7201a8"
          ],
          [
           0.3333333333333333,
           "#9c179e"
          ],
          [
           0.4444444444444444,
           "#bd3786"
          ],
          [
           0.5555555555555556,
           "#d8576b"
          ],
          [
           0.6666666666666666,
           "#ed7953"
          ],
          [
           0.7777777777777778,
           "#fb9f3a"
          ],
          [
           0.8888888888888888,
           "#fdca26"
          ],
          [
           1,
           "#f0f921"
          ]
         ]
        },
        "height": 600,
        "legend": {
         "tracegroupgap": 0
        },
        "template": {
         "data": {
          "bar": [
           {
            "error_x": {
             "color": "#2a3f5f"
            },
            "error_y": {
             "color": "#2a3f5f"
            },
            "marker": {
             "line": {
              "color": "#E5ECF6",
              "width": 0.5
             },
             "pattern": {
              "fillmode": "overlay",
              "size": 10,
              "solidity": 0.2
             }
            },
            "type": "bar"
           }
          ],
          "barpolar": [
           {
            "marker": {
             "line": {
              "color": "#E5ECF6",
              "width": 0.5
             },
             "pattern": {
              "fillmode": "overlay",
              "size": 10,
              "solidity": 0.2
             }
            },
            "type": "barpolar"
           }
          ],
          "carpet": [
           {
            "aaxis": {
             "endlinecolor": "#2a3f5f",
             "gridcolor": "white",
             "linecolor": "white",
             "minorgridcolor": "white",
             "startlinecolor": "#2a3f5f"
            },
            "baxis": {
             "endlinecolor": "#2a3f5f",
             "gridcolor": "white",
             "linecolor": "white",
             "minorgridcolor": "white",
             "startlinecolor": "#2a3f5f"
            },
            "type": "carpet"
           }
          ],
          "choropleth": [
           {
            "colorbar": {
             "outlinewidth": 0,
             "ticks": ""
            },
            "type": "choropleth"
           }
          ],
          "contour": [
           {
            "colorbar": {
             "outlinewidth": 0,
             "ticks": ""
            },
            "colorscale": [
             [
              0,
              "#0d0887"
             ],
             [
              0.1111111111111111,
              "#46039f"
             ],
             [
              0.2222222222222222,
              "#7201a8"
             ],
             [
              0.3333333333333333,
              "#9c179e"
             ],
             [
              0.4444444444444444,
              "#bd3786"
             ],
             [
              0.5555555555555556,
              "#d8576b"
             ],
             [
              0.6666666666666666,
              "#ed7953"
             ],
             [
              0.7777777777777778,
              "#fb9f3a"
             ],
             [
              0.8888888888888888,
              "#fdca26"
             ],
             [
              1,
              "#f0f921"
             ]
            ],
            "type": "contour"
           }
          ],
          "contourcarpet": [
           {
            "colorbar": {
             "outlinewidth": 0,
             "ticks": ""
            },
            "type": "contourcarpet"
           }
          ],
          "heatmap": [
           {
            "colorbar": {
             "outlinewidth": 0,
             "ticks": ""
            },
            "colorscale": [
             [
              0,
              "#0d0887"
             ],
             [
              0.1111111111111111,
              "#46039f"
             ],
             [
              0.2222222222222222,
              "#7201a8"
             ],
             [
              0.3333333333333333,
              "#9c179e"
             ],
             [
              0.4444444444444444,
              "#bd3786"
             ],
             [
              0.5555555555555556,
              "#d8576b"
             ],
             [
              0.6666666666666666,
              "#ed7953"
             ],
             [
              0.7777777777777778,
              "#fb9f3a"
             ],
             [
              0.8888888888888888,
              "#fdca26"
             ],
             [
              1,
              "#f0f921"
             ]
            ],
            "type": "heatmap"
           }
          ],
          "heatmapgl": [
           {
            "colorbar": {
             "outlinewidth": 0,
             "ticks": ""
            },
            "colorscale": [
             [
              0,
              "#0d0887"
             ],
             [
              0.1111111111111111,
              "#46039f"
             ],
             [
              0.2222222222222222,
              "#7201a8"
             ],
             [
              0.3333333333333333,
              "#9c179e"
             ],
             [
              0.4444444444444444,
              "#bd3786"
             ],
             [
              0.5555555555555556,
              "#d8576b"
             ],
             [
              0.6666666666666666,
              "#ed7953"
             ],
             [
              0.7777777777777778,
              "#fb9f3a"
             ],
             [
              0.8888888888888888,
              "#fdca26"
             ],
             [
              1,
              "#f0f921"
             ]
            ],
            "type": "heatmapgl"
           }
          ],
          "histogram": [
           {
            "marker": {
             "pattern": {
              "fillmode": "overlay",
              "size": 10,
              "solidity": 0.2
             }
            },
            "type": "histogram"
           }
          ],
          "histogram2d": [
           {
            "colorbar": {
             "outlinewidth": 0,
             "ticks": ""
            },
            "colorscale": [
             [
              0,
              "#0d0887"
             ],
             [
              0.1111111111111111,
              "#46039f"
             ],
             [
              0.2222222222222222,
              "#7201a8"
             ],
             [
              0.3333333333333333,
              "#9c179e"
             ],
             [
              0.4444444444444444,
              "#bd3786"
             ],
             [
              0.5555555555555556,
              "#d8576b"
             ],
             [
              0.6666666666666666,
              "#ed7953"
             ],
             [
              0.7777777777777778,
              "#fb9f3a"
             ],
             [
              0.8888888888888888,
              "#fdca26"
             ],
             [
              1,
              "#f0f921"
             ]
            ],
            "type": "histogram2d"
           }
          ],
          "histogram2dcontour": [
           {
            "colorbar": {
             "outlinewidth": 0,
             "ticks": ""
            },
            "colorscale": [
             [
              0,
              "#0d0887"
             ],
             [
              0.1111111111111111,
              "#46039f"
             ],
             [
              0.2222222222222222,
              "#7201a8"
             ],
             [
              0.3333333333333333,
              "#9c179e"
             ],
             [
              0.4444444444444444,
              "#bd3786"
             ],
             [
              0.5555555555555556,
              "#d8576b"
             ],
             [
              0.6666666666666666,
              "#ed7953"
             ],
             [
              0.7777777777777778,
              "#fb9f3a"
             ],
             [
              0.8888888888888888,
              "#fdca26"
             ],
             [
              1,
              "#f0f921"
             ]
            ],
            "type": "histogram2dcontour"
           }
          ],
          "mesh3d": [
           {
            "colorbar": {
             "outlinewidth": 0,
             "ticks": ""
            },
            "type": "mesh3d"
           }
          ],
          "parcoords": [
           {
            "line": {
             "colorbar": {
              "outlinewidth": 0,
              "ticks": ""
             }
            },
            "type": "parcoords"
           }
          ],
          "pie": [
           {
            "automargin": true,
            "type": "pie"
           }
          ],
          "scatter": [
           {
            "fillpattern": {
             "fillmode": "overlay",
             "size": 10,
             "solidity": 0.2
            },
            "type": "scatter"
           }
          ],
          "scatter3d": [
           {
            "line": {
             "colorbar": {
              "outlinewidth": 0,
              "ticks": ""
             }
            },
            "marker": {
             "colorbar": {
              "outlinewidth": 0,
              "ticks": ""
             }
            },
            "type": "scatter3d"
           }
          ],
          "scattercarpet": [
           {
            "marker": {
             "colorbar": {
              "outlinewidth": 0,
              "ticks": ""
             }
            },
            "type": "scattercarpet"
           }
          ],
          "scattergeo": [
           {
            "marker": {
             "colorbar": {
              "outlinewidth": 0,
              "ticks": ""
             }
            },
            "type": "scattergeo"
           }
          ],
          "scattergl": [
           {
            "marker": {
             "colorbar": {
              "outlinewidth": 0,
              "ticks": ""
             }
            },
            "type": "scattergl"
           }
          ],
          "scattermapbox": [
           {
            "marker": {
             "colorbar": {
              "outlinewidth": 0,
              "ticks": ""
             }
            },
            "type": "scattermapbox"
           }
          ],
          "scatterpolar": [
           {
            "marker": {
             "colorbar": {
              "outlinewidth": 0,
              "ticks": ""
             }
            },
            "type": "scatterpolar"
           }
          ],
          "scatterpolargl": [
           {
            "marker": {
             "colorbar": {
              "outlinewidth": 0,
              "ticks": ""
             }
            },
            "type": "scatterpolargl"
           }
          ],
          "scatterternary": [
           {
            "marker": {
             "colorbar": {
              "outlinewidth": 0,
              "ticks": ""
             }
            },
            "type": "scatterternary"
           }
          ],
          "surface": [
           {
            "colorbar": {
             "outlinewidth": 0,
             "ticks": ""
            },
            "colorscale": [
             [
              0,
              "#0d0887"
             ],
             [
              0.1111111111111111,
              "#46039f"
             ],
             [
              0.2222222222222222,
              "#7201a8"
             ],
             [
              0.3333333333333333,
              "#9c179e"
             ],
             [
              0.4444444444444444,
              "#bd3786"
             ],
             [
              0.5555555555555556,
              "#d8576b"
             ],
             [
              0.6666666666666666,
              "#ed7953"
             ],
             [
              0.7777777777777778,
              "#fb9f3a"
             ],
             [
              0.8888888888888888,
              "#fdca26"
             ],
             [
              1,
              "#f0f921"
             ]
            ],
            "type": "surface"
           }
          ],
          "table": [
           {
            "cells": {
             "fill": {
              "color": "#EBF0F8"
             },
             "line": {
              "color": "white"
             }
            },
            "header": {
             "fill": {
              "color": "#C8D4E3"
             },
             "line": {
              "color": "white"
             }
            },
            "type": "table"
           }
          ]
         },
         "layout": {
          "annotationdefaults": {
           "arrowcolor": "#2a3f5f",
           "arrowhead": 0,
           "arrowwidth": 1
          },
          "autotypenumbers": "strict",
          "coloraxis": {
           "colorbar": {
            "outlinewidth": 0,
            "ticks": ""
           }
          },
          "colorscale": {
           "diverging": [
            [
             0,
             "#8e0152"
            ],
            [
             0.1,
             "#c51b7d"
            ],
            [
             0.2,
             "#de77ae"
            ],
            [
             0.3,
             "#f1b6da"
            ],
            [
             0.4,
             "#fde0ef"
            ],
            [
             0.5,
             "#f7f7f7"
            ],
            [
             0.6,
             "#e6f5d0"
            ],
            [
             0.7,
             "#b8e186"
            ],
            [
             0.8,
             "#7fbc41"
            ],
            [
             0.9,
             "#4d9221"
            ],
            [
             1,
             "#276419"
            ]
           ],
           "sequential": [
            [
             0,
             "#0d0887"
            ],
            [
             0.1111111111111111,
             "#46039f"
            ],
            [
             0.2222222222222222,
             "#7201a8"
            ],
            [
             0.3333333333333333,
             "#9c179e"
            ],
            [
             0.4444444444444444,
             "#bd3786"
            ],
            [
             0.5555555555555556,
             "#d8576b"
            ],
            [
             0.6666666666666666,
             "#ed7953"
            ],
            [
             0.7777777777777778,
             "#fb9f3a"
            ],
            [
             0.8888888888888888,
             "#fdca26"
            ],
            [
             1,
             "#f0f921"
            ]
           ],
           "sequentialminus": [
            [
             0,
             "#0d0887"
            ],
            [
             0.1111111111111111,
             "#46039f"
            ],
            [
             0.2222222222222222,
             "#7201a8"
            ],
            [
             0.3333333333333333,
             "#9c179e"
            ],
            [
             0.4444444444444444,
             "#bd3786"
            ],
            [
             0.5555555555555556,
             "#d8576b"
            ],
            [
             0.6666666666666666,
             "#ed7953"
            ],
            [
             0.7777777777777778,
             "#fb9f3a"
            ],
            [
             0.8888888888888888,
             "#fdca26"
            ],
            [
             1,
             "#f0f921"
            ]
           ]
          },
          "colorway": [
           "#636efa",
           "#EF553B",
           "#00cc96",
           "#ab63fa",
           "#FFA15A",
           "#19d3f3",
           "#FF6692",
           "#B6E880",
           "#FF97FF",
           "#FECB52"
          ],
          "font": {
           "color": "#2a3f5f"
          },
          "geo": {
           "bgcolor": "white",
           "lakecolor": "white",
           "landcolor": "#E5ECF6",
           "showlakes": true,
           "showland": true,
           "subunitcolor": "white"
          },
          "hoverlabel": {
           "align": "left"
          },
          "hovermode": "closest",
          "mapbox": {
           "style": "light"
          },
          "paper_bgcolor": "white",
          "plot_bgcolor": "#E5ECF6",
          "polar": {
           "angularaxis": {
            "gridcolor": "white",
            "linecolor": "white",
            "ticks": ""
           },
           "bgcolor": "#E5ECF6",
           "radialaxis": {
            "gridcolor": "white",
            "linecolor": "white",
            "ticks": ""
           }
          },
          "scene": {
           "xaxis": {
            "backgroundcolor": "#E5ECF6",
            "gridcolor": "white",
            "gridwidth": 2,
            "linecolor": "white",
            "showbackground": true,
            "ticks": "",
            "zerolinecolor": "white"
           },
           "yaxis": {
            "backgroundcolor": "#E5ECF6",
            "gridcolor": "white",
            "gridwidth": 2,
            "linecolor": "white",
            "showbackground": true,
            "ticks": "",
            "zerolinecolor": "white"
           },
           "zaxis": {
            "backgroundcolor": "#E5ECF6",
            "gridcolor": "white",
            "gridwidth": 2,
            "linecolor": "white",
            "showbackground": true,
            "ticks": "",
            "zerolinecolor": "white"
           }
          },
          "shapedefaults": {
           "line": {
            "color": "#2a3f5f"
           }
          },
          "ternary": {
           "aaxis": {
            "gridcolor": "white",
            "linecolor": "white",
            "ticks": ""
           },
           "baxis": {
            "gridcolor": "white",
            "linecolor": "white",
            "ticks": ""
           },
           "bgcolor": "#E5ECF6",
           "caxis": {
            "gridcolor": "white",
            "linecolor": "white",
            "ticks": ""
           }
          },
          "title": {
           "x": 0.05
          },
          "xaxis": {
           "automargin": true,
           "gridcolor": "white",
           "linecolor": "white",
           "ticks": "",
           "title": {
            "standoff": 15
           },
           "zerolinecolor": "white",
           "zerolinewidth": 2
          },
          "yaxis": {
           "automargin": true,
           "gridcolor": "white",
           "linecolor": "white",
           "ticks": "",
           "title": {
            "standoff": 15
           },
           "zerolinecolor": "white",
           "zerolinewidth": 2
          }
         }
        },
        "title": {
         "text": "Inquinamento da CO2 dal 1961 al 2013 causato dalla produzione di cibi e mangimi(KGCO2)"
        },
        "xaxis": {
         "anchor": "y",
         "domain": [
          0,
          1
         ],
         "title": {
          "text": "Type"
         }
        },
        "yaxis": {
         "anchor": "x",
         "domain": [
          0,
          1
         ],
         "title": {
          "text": "KGCO2"
         }
        }
       }
      }
     },
     "metadata": {},
     "output_type": "display_data"
    }
   ],
   "source": [
    "# Estrazione dei tipi di alimento\n",
    "Food_types = Food_feed_df[\"Type\"].drop_duplicates().to_list()\n",
    "Food_types_CO2KG = [Food_Production_df[Food_Production_df[\"Food product\"] == food_type][\"Total_emissions\"].to_list() for food_type in Food_types]\n",
    "\n",
    "Feed_types = Feed_items[\"Type\"].drop_duplicates().to_list()\n",
    "Feed_types_CO2KG = [Food_Production_df[Food_Production_df[\"Food product\"] == feed_type][\"Total_emissions\"].to_list() for feed_type in Feed_types]\n",
    "\n",
    "# Creazione del dizionario\n",
    "Food_types_CO2KG_dict = dict()\n",
    "Feed_types_CO2KG_dict = dict()\n",
    "\n",
    "# Creazione del dizionario\n",
    "for i in range(len(Food_types)):\n",
    "     Food_types_CO2KG_dict[Food_types[i]] = 0\n",
    "\n",
    "     if len(Food_types_CO2KG[i]) != 0:\n",
    "          Food_types_CO2KG_dict[Food_types[i]] = Food_types_CO2KG[i][0]\n",
    "\n",
    "for index, record in Food_feed_df.iterrows():\n",
    "     Food_type = record[\"Type\"]\n",
    "     if Food_type in Food_types_CO2KG_dict.keys():\n",
    "          Food_feed_df.at[index, \"KGCO2\"] =  Food_feed_df.at[index, \"Tonnes\"] * Food_types_CO2KG_dict[Food_type] * 1000\n",
    "          Food_feed_df.at[index, \"TonnesCO2\"] = Food_feed_df.at[index, \"Tonnes\"] * Food_types_CO2KG_dict[Food_type]\n",
    "\n",
    "for i in range(len(Feed_types)):\n",
    "     Feed_types_CO2KG_dict[Feed_types[i]] = 0\n",
    "\n",
    "     if len(Feed_types_CO2KG[i]) != 0:\n",
    "          Feed_types_CO2KG_dict[Feed_types[i]] = Feed_types_CO2KG[i][0]\n",
    "\n",
    "for index, record in Feed_items.iterrows():\n",
    "     Feed_type = record[\"Type\"]\n",
    "     if Feed_type in Feed_types_CO2KG_dict.keys():\n",
    "          Feed_items.at[index, \"KGCO2\"] =  Feed_items.at[index, \"Tonnes\"] * Feed_types_CO2KG_dict[Feed_type] * 1000\n",
    "          Feed_items.at[index, \"TonnesCO2\"] = Feed_items.at[index, \"Tonnes\"] * Feed_types_CO2KG_dict[Feed_type]\n",
    "\n",
    "Food_feed_df = pd.concat([Food_feed_df, Feed_items], ignore_index=True)\n",
    "\n",
    "temp_df = Food_feed_df.groupby(\"Type\").sum(numeric_only=True).sort_values(by=\"KGCO2\", ascending=False)\n",
    "\n",
    "fig = px.bar(\n",
    "     temp_df,\n",
    "     x=temp_df.index,\n",
    "     y=\"KGCO2\",\n",
    "     color=\"KGCO2\",\n",
    "     title='Inquinamento da CO2 dal 1961 al 2013 causato dalla produzione di cibi e mangimi(KGCO2)',\n",
    "     height=600\n",
    ")\n",
    "\n",
    "fig.show()"
   ]
  },
  {
   "cell_type": "markdown",
   "metadata": {},
   "source": [
    "# Calcolo eutrofizzazione dei cibi e mangimi prodotti dal 1961 al 2013"
   ]
  },
  {
   "cell_type": "markdown",
   "metadata": {},
   "source": [
    "#### L'eutrofizzazione è un fenomeno dato dal rilascio della sostanza PO4, creerò una colonna che calcola i grammi di PO4 per ogni kilo di cibo/mangime prodotto"
   ]
  },
  {
   "cell_type": "code",
   "execution_count": 299,
   "metadata": {},
   "outputs": [
    {
     "data": {
      "application/vnd.plotly.v1+json": {
       "config": {
        "plotlyServerURL": "https://plot.ly"
       },
       "data": [
        {
         "alignmentgroup": "True",
         "hovertemplate": "Type=%{x}<br>Total gPO4 producted=%{marker.color}<extra></extra>",
         "legendgroup": "",
         "marker": {
          "color": [
           30717689691420000000,
           30643364982530000000,
           25090429767610000000,
           21715520284190000000,
           12231701127880000000,
           11513543764050000000,
           10422739373640000000,
           7576407625220000000,
           2538602516560000000,
           1300988911460000000,
           1262397750000000000,
           756541303040000000,
           654706559520000000,
           225374107500000000,
           170441487260000000,
           127924560130000000,
           114853845580000000,
           83854118390000000,
           65817956060000000,
           59455703080000000,
           51267251460000000,
           44216648750000000,
           25269275760000000,
           16801345180000000,
           14930598990000000,
           12917210570000000,
           12266628200000000,
           3933764180000000,
           447524610000000
          ],
          "coloraxis": "coloraxis",
          "pattern": {
           "shape": ""
          }
         },
         "name": "",
         "offsetgroup": "",
         "orientation": "v",
         "showlegend": false,
         "textposition": "auto",
         "type": "bar",
         "x": [
          "Milk",
          "Wheat",
          "Cassava",
          "Potatoes",
          "Cane Sugar",
          "Fish (farmed)",
          "Rice",
          "Other Vegetables",
          "Other Pulses",
          "Peas",
          "Beet Sugar",
          "Tomatoes",
          "Bananas",
          "Other Fruit",
          "Apples",
          "Wine",
          "Beef (beef herd)",
          "Poultry Meat",
          "Pig Meat",
          "Grapes",
          "Eggs",
          "Onions",
          "Citrus Fruit",
          "Mutton",
          "Groundnuts",
          "Nuts",
          "Palm Oil",
          "Coffee",
          "Olive Oil"
         ],
         "xaxis": "x",
         "y": [
          30717689691420000000,
          30643364982530000000,
          25090429767610000000,
          21715520284190000000,
          12231701127880000000,
          11513543764050000000,
          10422739373640000000,
          7576407625220000000,
          2538602516560000000,
          1300988911460000000,
          1262397750000000000,
          756541303040000000,
          654706559520000000,
          225374107500000000,
          170441487260000000,
          127924560130000000,
          114853845580000000,
          83854118390000000,
          65817956060000000,
          59455703080000000,
          51267251460000000,
          44216648750000000,
          25269275760000000,
          16801345180000000,
          14930598990000000,
          12917210570000000,
          12266628200000000,
          3933764180000000,
          447524610000000
         ],
         "yaxis": "y"
        }
       ],
       "layout": {
        "barmode": "relative",
        "coloraxis": {
         "colorbar": {
          "title": {
           "text": "Total gPO4 producted"
          }
         },
         "colorscale": [
          [
           0,
           "#0d0887"
          ],
          [
           0.1111111111111111,
           "#46039f"
          ],
          [
           0.2222222222222222,
           "#7201a8"
          ],
          [
           0.3333333333333333,
           "#9c179e"
          ],
          [
           0.4444444444444444,
           "#bd3786"
          ],
          [
           0.5555555555555556,
           "#d8576b"
          ],
          [
           0.6666666666666666,
           "#ed7953"
          ],
          [
           0.7777777777777778,
           "#fb9f3a"
          ],
          [
           0.8888888888888888,
           "#fdca26"
          ],
          [
           1,
           "#f0f921"
          ]
         ]
        },
        "height": 600,
        "legend": {
         "tracegroupgap": 0
        },
        "margin": {
         "t": 60
        },
        "template": {
         "data": {
          "bar": [
           {
            "error_x": {
             "color": "#2a3f5f"
            },
            "error_y": {
             "color": "#2a3f5f"
            },
            "marker": {
             "line": {
              "color": "#E5ECF6",
              "width": 0.5
             },
             "pattern": {
              "fillmode": "overlay",
              "size": 10,
              "solidity": 0.2
             }
            },
            "type": "bar"
           }
          ],
          "barpolar": [
           {
            "marker": {
             "line": {
              "color": "#E5ECF6",
              "width": 0.5
             },
             "pattern": {
              "fillmode": "overlay",
              "size": 10,
              "solidity": 0.2
             }
            },
            "type": "barpolar"
           }
          ],
          "carpet": [
           {
            "aaxis": {
             "endlinecolor": "#2a3f5f",
             "gridcolor": "white",
             "linecolor": "white",
             "minorgridcolor": "white",
             "startlinecolor": "#2a3f5f"
            },
            "baxis": {
             "endlinecolor": "#2a3f5f",
             "gridcolor": "white",
             "linecolor": "white",
             "minorgridcolor": "white",
             "startlinecolor": "#2a3f5f"
            },
            "type": "carpet"
           }
          ],
          "choropleth": [
           {
            "colorbar": {
             "outlinewidth": 0,
             "ticks": ""
            },
            "type": "choropleth"
           }
          ],
          "contour": [
           {
            "colorbar": {
             "outlinewidth": 0,
             "ticks": ""
            },
            "colorscale": [
             [
              0,
              "#0d0887"
             ],
             [
              0.1111111111111111,
              "#46039f"
             ],
             [
              0.2222222222222222,
              "#7201a8"
             ],
             [
              0.3333333333333333,
              "#9c179e"
             ],
             [
              0.4444444444444444,
              "#bd3786"
             ],
             [
              0.5555555555555556,
              "#d8576b"
             ],
             [
              0.6666666666666666,
              "#ed7953"
             ],
             [
              0.7777777777777778,
              "#fb9f3a"
             ],
             [
              0.8888888888888888,
              "#fdca26"
             ],
             [
              1,
              "#f0f921"
             ]
            ],
            "type": "contour"
           }
          ],
          "contourcarpet": [
           {
            "colorbar": {
             "outlinewidth": 0,
             "ticks": ""
            },
            "type": "contourcarpet"
           }
          ],
          "heatmap": [
           {
            "colorbar": {
             "outlinewidth": 0,
             "ticks": ""
            },
            "colorscale": [
             [
              0,
              "#0d0887"
             ],
             [
              0.1111111111111111,
              "#46039f"
             ],
             [
              0.2222222222222222,
              "#7201a8"
             ],
             [
              0.3333333333333333,
              "#9c179e"
             ],
             [
              0.4444444444444444,
              "#bd3786"
             ],
             [
              0.5555555555555556,
              "#d8576b"
             ],
             [
              0.6666666666666666,
              "#ed7953"
             ],
             [
              0.7777777777777778,
              "#fb9f3a"
             ],
             [
              0.8888888888888888,
              "#fdca26"
             ],
             [
              1,
              "#f0f921"
             ]
            ],
            "type": "heatmap"
           }
          ],
          "heatmapgl": [
           {
            "colorbar": {
             "outlinewidth": 0,
             "ticks": ""
            },
            "colorscale": [
             [
              0,
              "#0d0887"
             ],
             [
              0.1111111111111111,
              "#46039f"
             ],
             [
              0.2222222222222222,
              "#7201a8"
             ],
             [
              0.3333333333333333,
              "#9c179e"
             ],
             [
              0.4444444444444444,
              "#bd3786"
             ],
             [
              0.5555555555555556,
              "#d8576b"
             ],
             [
              0.6666666666666666,
              "#ed7953"
             ],
             [
              0.7777777777777778,
              "#fb9f3a"
             ],
             [
              0.8888888888888888,
              "#fdca26"
             ],
             [
              1,
              "#f0f921"
             ]
            ],
            "type": "heatmapgl"
           }
          ],
          "histogram": [
           {
            "marker": {
             "pattern": {
              "fillmode": "overlay",
              "size": 10,
              "solidity": 0.2
             }
            },
            "type": "histogram"
           }
          ],
          "histogram2d": [
           {
            "colorbar": {
             "outlinewidth": 0,
             "ticks": ""
            },
            "colorscale": [
             [
              0,
              "#0d0887"
             ],
             [
              0.1111111111111111,
              "#46039f"
             ],
             [
              0.2222222222222222,
              "#7201a8"
             ],
             [
              0.3333333333333333,
              "#9c179e"
             ],
             [
              0.4444444444444444,
              "#bd3786"
             ],
             [
              0.5555555555555556,
              "#d8576b"
             ],
             [
              0.6666666666666666,
              "#ed7953"
             ],
             [
              0.7777777777777778,
              "#fb9f3a"
             ],
             [
              0.8888888888888888,
              "#fdca26"
             ],
             [
              1,
              "#f0f921"
             ]
            ],
            "type": "histogram2d"
           }
          ],
          "histogram2dcontour": [
           {
            "colorbar": {
             "outlinewidth": 0,
             "ticks": ""
            },
            "colorscale": [
             [
              0,
              "#0d0887"
             ],
             [
              0.1111111111111111,
              "#46039f"
             ],
             [
              0.2222222222222222,
              "#7201a8"
             ],
             [
              0.3333333333333333,
              "#9c179e"
             ],
             [
              0.4444444444444444,
              "#bd3786"
             ],
             [
              0.5555555555555556,
              "#d8576b"
             ],
             [
              0.6666666666666666,
              "#ed7953"
             ],
             [
              0.7777777777777778,
              "#fb9f3a"
             ],
             [
              0.8888888888888888,
              "#fdca26"
             ],
             [
              1,
              "#f0f921"
             ]
            ],
            "type": "histogram2dcontour"
           }
          ],
          "mesh3d": [
           {
            "colorbar": {
             "outlinewidth": 0,
             "ticks": ""
            },
            "type": "mesh3d"
           }
          ],
          "parcoords": [
           {
            "line": {
             "colorbar": {
              "outlinewidth": 0,
              "ticks": ""
             }
            },
            "type": "parcoords"
           }
          ],
          "pie": [
           {
            "automargin": true,
            "type": "pie"
           }
          ],
          "scatter": [
           {
            "fillpattern": {
             "fillmode": "overlay",
             "size": 10,
             "solidity": 0.2
            },
            "type": "scatter"
           }
          ],
          "scatter3d": [
           {
            "line": {
             "colorbar": {
              "outlinewidth": 0,
              "ticks": ""
             }
            },
            "marker": {
             "colorbar": {
              "outlinewidth": 0,
              "ticks": ""
             }
            },
            "type": "scatter3d"
           }
          ],
          "scattercarpet": [
           {
            "marker": {
             "colorbar": {
              "outlinewidth": 0,
              "ticks": ""
             }
            },
            "type": "scattercarpet"
           }
          ],
          "scattergeo": [
           {
            "marker": {
             "colorbar": {
              "outlinewidth": 0,
              "ticks": ""
             }
            },
            "type": "scattergeo"
           }
          ],
          "scattergl": [
           {
            "marker": {
             "colorbar": {
              "outlinewidth": 0,
              "ticks": ""
             }
            },
            "type": "scattergl"
           }
          ],
          "scattermapbox": [
           {
            "marker": {
             "colorbar": {
              "outlinewidth": 0,
              "ticks": ""
             }
            },
            "type": "scattermapbox"
           }
          ],
          "scatterpolar": [
           {
            "marker": {
             "colorbar": {
              "outlinewidth": 0,
              "ticks": ""
             }
            },
            "type": "scatterpolar"
           }
          ],
          "scatterpolargl": [
           {
            "marker": {
             "colorbar": {
              "outlinewidth": 0,
              "ticks": ""
             }
            },
            "type": "scatterpolargl"
           }
          ],
          "scatterternary": [
           {
            "marker": {
             "colorbar": {
              "outlinewidth": 0,
              "ticks": ""
             }
            },
            "type": "scatterternary"
           }
          ],
          "surface": [
           {
            "colorbar": {
             "outlinewidth": 0,
             "ticks": ""
            },
            "colorscale": [
             [
              0,
              "#0d0887"
             ],
             [
              0.1111111111111111,
              "#46039f"
             ],
             [
              0.2222222222222222,
              "#7201a8"
             ],
             [
              0.3333333333333333,
              "#9c179e"
             ],
             [
              0.4444444444444444,
              "#bd3786"
             ],
             [
              0.5555555555555556,
              "#d8576b"
             ],
             [
              0.6666666666666666,
              "#ed7953"
             ],
             [
              0.7777777777777778,
              "#fb9f3a"
             ],
             [
              0.8888888888888888,
              "#fdca26"
             ],
             [
              1,
              "#f0f921"
             ]
            ],
            "type": "surface"
           }
          ],
          "table": [
           {
            "cells": {
             "fill": {
              "color": "#EBF0F8"
             },
             "line": {
              "color": "white"
             }
            },
            "header": {
             "fill": {
              "color": "#C8D4E3"
             },
             "line": {
              "color": "white"
             }
            },
            "type": "table"
           }
          ]
         },
         "layout": {
          "annotationdefaults": {
           "arrowcolor": "#2a3f5f",
           "arrowhead": 0,
           "arrowwidth": 1
          },
          "autotypenumbers": "strict",
          "coloraxis": {
           "colorbar": {
            "outlinewidth": 0,
            "ticks": ""
           }
          },
          "colorscale": {
           "diverging": [
            [
             0,
             "#8e0152"
            ],
            [
             0.1,
             "#c51b7d"
            ],
            [
             0.2,
             "#de77ae"
            ],
            [
             0.3,
             "#f1b6da"
            ],
            [
             0.4,
             "#fde0ef"
            ],
            [
             0.5,
             "#f7f7f7"
            ],
            [
             0.6,
             "#e6f5d0"
            ],
            [
             0.7,
             "#b8e186"
            ],
            [
             0.8,
             "#7fbc41"
            ],
            [
             0.9,
             "#4d9221"
            ],
            [
             1,
             "#276419"
            ]
           ],
           "sequential": [
            [
             0,
             "#0d0887"
            ],
            [
             0.1111111111111111,
             "#46039f"
            ],
            [
             0.2222222222222222,
             "#7201a8"
            ],
            [
             0.3333333333333333,
             "#9c179e"
            ],
            [
             0.4444444444444444,
             "#bd3786"
            ],
            [
             0.5555555555555556,
             "#d8576b"
            ],
            [
             0.6666666666666666,
             "#ed7953"
            ],
            [
             0.7777777777777778,
             "#fb9f3a"
            ],
            [
             0.8888888888888888,
             "#fdca26"
            ],
            [
             1,
             "#f0f921"
            ]
           ],
           "sequentialminus": [
            [
             0,
             "#0d0887"
            ],
            [
             0.1111111111111111,
             "#46039f"
            ],
            [
             0.2222222222222222,
             "#7201a8"
            ],
            [
             0.3333333333333333,
             "#9c179e"
            ],
            [
             0.4444444444444444,
             "#bd3786"
            ],
            [
             0.5555555555555556,
             "#d8576b"
            ],
            [
             0.6666666666666666,
             "#ed7953"
            ],
            [
             0.7777777777777778,
             "#fb9f3a"
            ],
            [
             0.8888888888888888,
             "#fdca26"
            ],
            [
             1,
             "#f0f921"
            ]
           ]
          },
          "colorway": [
           "#636efa",
           "#EF553B",
           "#00cc96",
           "#ab63fa",
           "#FFA15A",
           "#19d3f3",
           "#FF6692",
           "#B6E880",
           "#FF97FF",
           "#FECB52"
          ],
          "font": {
           "color": "#2a3f5f"
          },
          "geo": {
           "bgcolor": "white",
           "lakecolor": "white",
           "landcolor": "#E5ECF6",
           "showlakes": true,
           "showland": true,
           "subunitcolor": "white"
          },
          "hoverlabel": {
           "align": "left"
          },
          "hovermode": "closest",
          "mapbox": {
           "style": "light"
          },
          "paper_bgcolor": "white",
          "plot_bgcolor": "#E5ECF6",
          "polar": {
           "angularaxis": {
            "gridcolor": "white",
            "linecolor": "white",
            "ticks": ""
           },
           "bgcolor": "#E5ECF6",
           "radialaxis": {
            "gridcolor": "white",
            "linecolor": "white",
            "ticks": ""
           }
          },
          "scene": {
           "xaxis": {
            "backgroundcolor": "#E5ECF6",
            "gridcolor": "white",
            "gridwidth": 2,
            "linecolor": "white",
            "showbackground": true,
            "ticks": "",
            "zerolinecolor": "white"
           },
           "yaxis": {
            "backgroundcolor": "#E5ECF6",
            "gridcolor": "white",
            "gridwidth": 2,
            "linecolor": "white",
            "showbackground": true,
            "ticks": "",
            "zerolinecolor": "white"
           },
           "zaxis": {
            "backgroundcolor": "#E5ECF6",
            "gridcolor": "white",
            "gridwidth": 2,
            "linecolor": "white",
            "showbackground": true,
            "ticks": "",
            "zerolinecolor": "white"
           }
          },
          "shapedefaults": {
           "line": {
            "color": "#2a3f5f"
           }
          },
          "ternary": {
           "aaxis": {
            "gridcolor": "white",
            "linecolor": "white",
            "ticks": ""
           },
           "baxis": {
            "gridcolor": "white",
            "linecolor": "white",
            "ticks": ""
           },
           "bgcolor": "#E5ECF6",
           "caxis": {
            "gridcolor": "white",
            "linecolor": "white",
            "ticks": ""
           }
          },
          "title": {
           "x": 0.05
          },
          "xaxis": {
           "automargin": true,
           "gridcolor": "white",
           "linecolor": "white",
           "ticks": "",
           "title": {
            "standoff": 15
           },
           "zerolinecolor": "white",
           "zerolinewidth": 2
          },
          "yaxis": {
           "automargin": true,
           "gridcolor": "white",
           "linecolor": "white",
           "ticks": "",
           "title": {
            "standoff": 15
           },
           "zerolinecolor": "white",
           "zerolinewidth": 2
          }
         }
        },
        "xaxis": {
         "anchor": "y",
         "domain": [
          0,
          1
         ],
         "title": {
          "text": "Type"
         }
        },
        "yaxis": {
         "anchor": "x",
         "domain": [
          0,
          1
         ],
         "title": {
          "text": "Total gPO4 producted"
         }
        }
       }
      }
     },
     "metadata": {},
     "output_type": "display_data"
    }
   ],
   "source": [
    "# Creare una funzione troppo codice\n",
    "Food_types_PO4_emissions = [Food_Production_df[Food_Production_df[\"Food product\"] == food_type][\"Eutrophying emissions per kilogram (gPO₄eq per kilogram)\"].to_list() for food_type in Food_types]\n",
    "Food_types_PO4_dict = dict()\n",
    "\n",
    "Feed_types_PO4_emissions = [Food_Production_df[Food_Production_df[\"Food product\"] == food_type][\"Eutrophying emissions per kilogram (gPO₄eq per kilogram)\"].to_list() for food_type in Food_types]\n",
    "Feed_types_PO4_dict = dict()\n",
    "\n",
    "for i in range(len(Food_types)):\n",
    "     Food_types_PO4_dict[Food_types[i]] = 0\n",
    "\n",
    "     if len(Food_types_PO4_emissions[i]) != 0:\n",
    "          Food_types_PO4_dict[Food_types[i]] = Food_types_PO4_emissions[i][0]\n",
    "\n",
    "for index, record in Feed_items.iterrows():\n",
    "     Food_type = record[\"Type\"]\n",
    "     if Food_type in Food_types_PO4_dict.keys():\n",
    "          Food_feed_df.at[index, \"Total gPO4 producted\"] =  Food_feed_df.at[index, \"Tonnes\"] * 1000000 * Food_types_PO4_dict[Food_type]\n",
    "\n",
    "for i in range(len(Feed_types)):\n",
    "     Feed_types_PO4_dict[Feed_types[i]] = 0\n",
    "\n",
    "     if len(Feed_types_PO4_emissions[i]) != 0:\n",
    "          Feed_types_PO4_dict[Feed_types[i]] = Feed_types_PO4_emissions[i][0]\n",
    "\n",
    "for index, record in Feed_items.iterrows():\n",
    "     Feed_type = record[\"Type\"]\n",
    "     if Feed_type in Feed_types_PO4_dict.keys():\n",
    "          Feed_items.at[index, \"Total gPO4 producted\"] =  Feed_items.at[index, \"Tonnes\"] * 1000000 * Feed_types_PO4_dict[Food_type]\n",
    "\n",
    "\n",
    "Food_feed_df = pd.concat([Food_feed_df, Feed_items], ignore_index=True)\n",
    "temp_df = Food_feed_df.groupby(\"Type\").sum(numeric_only=True).sort_values(by=\"Total gPO4 producted\", ascending=False)\n",
    "\n",
    "fig = px.bar(\n",
    "     temp_df,\n",
    "     x=temp_df.index,\n",
    "     y=\"Total gPO4 producted\",\n",
    "     color=\"Total gPO4 producted\",\n",
    "     height=600\n",
    ")\n",
    "\n",
    "fig.show()"
   ]
  },
  {
   "cell_type": "markdown",
   "metadata": {},
   "source": [
    "# Calcolo acqua usata per i cibi/mangimi prodotti a livello mondiale"
   ]
  },
  {
   "cell_type": "code",
   "execution_count": 300,
   "metadata": {},
   "outputs": [
    {
     "data": {
      "application/vnd.plotly.v1+json": {
       "config": {
        "plotlyServerURL": "https://plot.ly"
       },
       "data": [
        {
         "alignmentgroup": "True",
         "hovertemplate": "Type=%{x}<br>Total water(lt) used=%{marker.color}<extra></extra>",
         "legendgroup": "",
         "marker": {
          "color": [
           8059326592976800000,
           4455616943821600000,
           3869714965285400000,
           1539756947837500000,
           446430720141400000,
           290803365000000000,
           240899600000000000,
           232400557374000000,
           208509124092500000,
           108265242987600000,
           63760388823800000,
           43557427220000000,
           13767260706000000,
           5454024180000000,
           3304673613800000,
           3292240209600000,
           2701085718500000,
           1549409782800000,
           1436324460000000,
           1360243425200000,
           1212540118100000,
           210613596600000,
           89944579800000,
           20192500000000,
           18744782000000,
           7065494100000,
           5330000000000,
           1996697600000,
           0
          ],
          "coloraxis": "coloraxis",
          "pattern": {
           "shape": ""
          }
         },
         "name": "",
         "offsetgroup": "",
         "orientation": "v",
         "showlegend": false,
         "textposition": "auto",
         "type": "bar",
         "x": [
          "Fish (farmed)",
          "Rice",
          "Milk",
          "Cane Sugar",
          "Potatoes",
          "Wheat",
          "Cassava",
          "Other Pulses",
          "Other Vegetables",
          "Peas",
          "Beet Sugar",
          "Tomatoes",
          "Bananas",
          "Pig Meat",
          "Apples",
          "Beef (beef herd)",
          "Other Fruit",
          "Groundnuts",
          "Poultry Meat",
          "Nuts",
          "Eggs",
          "Olive Oil",
          "Wine",
          "Mutton",
          "Citrus Fruit",
          "Coffee",
          "Onions",
          "Palm Oil",
          "Grapes"
         ],
         "xaxis": "x",
         "y": [
          8059326592976800000,
          4455616943821600000,
          3869714965285400000,
          1539756947837500000,
          446430720141400000,
          290803365000000000,
          240899600000000000,
          232400557374000000,
          208509124092500000,
          108265242987600000,
          63760388823800000,
          43557427220000000,
          13767260706000000,
          5454024180000000,
          3304673613800000,
          3292240209600000,
          2701085718500000,
          1549409782800000,
          1436324460000000,
          1360243425200000,
          1212540118100000,
          210613596600000,
          89944579800000,
          20192500000000,
          18744782000000,
          7065494100000,
          5330000000000,
          1996697600000,
          0
         ],
         "yaxis": "y"
        }
       ],
       "layout": {
        "barmode": "relative",
        "coloraxis": {
         "colorbar": {
          "title": {
           "text": "Total water(lt) used"
          }
         },
         "colorscale": [
          [
           0,
           "#0d0887"
          ],
          [
           0.1111111111111111,
           "#46039f"
          ],
          [
           0.2222222222222222,
           "#7201a8"
          ],
          [
           0.3333333333333333,
           "#9c179e"
          ],
          [
           0.4444444444444444,
           "#bd3786"
          ],
          [
           0.5555555555555556,
           "#d8576b"
          ],
          [
           0.6666666666666666,
           "#ed7953"
          ],
          [
           0.7777777777777778,
           "#fb9f3a"
          ],
          [
           0.8888888888888888,
           "#fdca26"
          ],
          [
           1,
           "#f0f921"
          ]
         ]
        },
        "height": 600,
        "legend": {
         "tracegroupgap": 0
        },
        "template": {
         "data": {
          "bar": [
           {
            "error_x": {
             "color": "#2a3f5f"
            },
            "error_y": {
             "color": "#2a3f5f"
            },
            "marker": {
             "line": {
              "color": "#E5ECF6",
              "width": 0.5
             },
             "pattern": {
              "fillmode": "overlay",
              "size": 10,
              "solidity": 0.2
             }
            },
            "type": "bar"
           }
          ],
          "barpolar": [
           {
            "marker": {
             "line": {
              "color": "#E5ECF6",
              "width": 0.5
             },
             "pattern": {
              "fillmode": "overlay",
              "size": 10,
              "solidity": 0.2
             }
            },
            "type": "barpolar"
           }
          ],
          "carpet": [
           {
            "aaxis": {
             "endlinecolor": "#2a3f5f",
             "gridcolor": "white",
             "linecolor": "white",
             "minorgridcolor": "white",
             "startlinecolor": "#2a3f5f"
            },
            "baxis": {
             "endlinecolor": "#2a3f5f",
             "gridcolor": "white",
             "linecolor": "white",
             "minorgridcolor": "white",
             "startlinecolor": "#2a3f5f"
            },
            "type": "carpet"
           }
          ],
          "choropleth": [
           {
            "colorbar": {
             "outlinewidth": 0,
             "ticks": ""
            },
            "type": "choropleth"
           }
          ],
          "contour": [
           {
            "colorbar": {
             "outlinewidth": 0,
             "ticks": ""
            },
            "colorscale": [
             [
              0,
              "#0d0887"
             ],
             [
              0.1111111111111111,
              "#46039f"
             ],
             [
              0.2222222222222222,
              "#7201a8"
             ],
             [
              0.3333333333333333,
              "#9c179e"
             ],
             [
              0.4444444444444444,
              "#bd3786"
             ],
             [
              0.5555555555555556,
              "#d8576b"
             ],
             [
              0.6666666666666666,
              "#ed7953"
             ],
             [
              0.7777777777777778,
              "#fb9f3a"
             ],
             [
              0.8888888888888888,
              "#fdca26"
             ],
             [
              1,
              "#f0f921"
             ]
            ],
            "type": "contour"
           }
          ],
          "contourcarpet": [
           {
            "colorbar": {
             "outlinewidth": 0,
             "ticks": ""
            },
            "type": "contourcarpet"
           }
          ],
          "heatmap": [
           {
            "colorbar": {
             "outlinewidth": 0,
             "ticks": ""
            },
            "colorscale": [
             [
              0,
              "#0d0887"
             ],
             [
              0.1111111111111111,
              "#46039f"
             ],
             [
              0.2222222222222222,
              "#7201a8"
             ],
             [
              0.3333333333333333,
              "#9c179e"
             ],
             [
              0.4444444444444444,
              "#bd3786"
             ],
             [
              0.5555555555555556,
              "#d8576b"
             ],
             [
              0.6666666666666666,
              "#ed7953"
             ],
             [
              0.7777777777777778,
              "#fb9f3a"
             ],
             [
              0.8888888888888888,
              "#fdca26"
             ],
             [
              1,
              "#f0f921"
             ]
            ],
            "type": "heatmap"
           }
          ],
          "heatmapgl": [
           {
            "colorbar": {
             "outlinewidth": 0,
             "ticks": ""
            },
            "colorscale": [
             [
              0,
              "#0d0887"
             ],
             [
              0.1111111111111111,
              "#46039f"
             ],
             [
              0.2222222222222222,
              "#7201a8"
             ],
             [
              0.3333333333333333,
              "#9c179e"
             ],
             [
              0.4444444444444444,
              "#bd3786"
             ],
             [
              0.5555555555555556,
              "#d8576b"
             ],
             [
              0.6666666666666666,
              "#ed7953"
             ],
             [
              0.7777777777777778,
              "#fb9f3a"
             ],
             [
              0.8888888888888888,
              "#fdca26"
             ],
             [
              1,
              "#f0f921"
             ]
            ],
            "type": "heatmapgl"
           }
          ],
          "histogram": [
           {
            "marker": {
             "pattern": {
              "fillmode": "overlay",
              "size": 10,
              "solidity": 0.2
             }
            },
            "type": "histogram"
           }
          ],
          "histogram2d": [
           {
            "colorbar": {
             "outlinewidth": 0,
             "ticks": ""
            },
            "colorscale": [
             [
              0,
              "#0d0887"
             ],
             [
              0.1111111111111111,
              "#46039f"
             ],
             [
              0.2222222222222222,
              "#7201a8"
             ],
             [
              0.3333333333333333,
              "#9c179e"
             ],
             [
              0.4444444444444444,
              "#bd3786"
             ],
             [
              0.5555555555555556,
              "#d8576b"
             ],
             [
              0.6666666666666666,
              "#ed7953"
             ],
             [
              0.7777777777777778,
              "#fb9f3a"
             ],
             [
              0.8888888888888888,
              "#fdca26"
             ],
             [
              1,
              "#f0f921"
             ]
            ],
            "type": "histogram2d"
           }
          ],
          "histogram2dcontour": [
           {
            "colorbar": {
             "outlinewidth": 0,
             "ticks": ""
            },
            "colorscale": [
             [
              0,
              "#0d0887"
             ],
             [
              0.1111111111111111,
              "#46039f"
             ],
             [
              0.2222222222222222,
              "#7201a8"
             ],
             [
              0.3333333333333333,
              "#9c179e"
             ],
             [
              0.4444444444444444,
              "#bd3786"
             ],
             [
              0.5555555555555556,
              "#d8576b"
             ],
             [
              0.6666666666666666,
              "#ed7953"
             ],
             [
              0.7777777777777778,
              "#fb9f3a"
             ],
             [
              0.8888888888888888,
              "#fdca26"
             ],
             [
              1,
              "#f0f921"
             ]
            ],
            "type": "histogram2dcontour"
           }
          ],
          "mesh3d": [
           {
            "colorbar": {
             "outlinewidth": 0,
             "ticks": ""
            },
            "type": "mesh3d"
           }
          ],
          "parcoords": [
           {
            "line": {
             "colorbar": {
              "outlinewidth": 0,
              "ticks": ""
             }
            },
            "type": "parcoords"
           }
          ],
          "pie": [
           {
            "automargin": true,
            "type": "pie"
           }
          ],
          "scatter": [
           {
            "fillpattern": {
             "fillmode": "overlay",
             "size": 10,
             "solidity": 0.2
            },
            "type": "scatter"
           }
          ],
          "scatter3d": [
           {
            "line": {
             "colorbar": {
              "outlinewidth": 0,
              "ticks": ""
             }
            },
            "marker": {
             "colorbar": {
              "outlinewidth": 0,
              "ticks": ""
             }
            },
            "type": "scatter3d"
           }
          ],
          "scattercarpet": [
           {
            "marker": {
             "colorbar": {
              "outlinewidth": 0,
              "ticks": ""
             }
            },
            "type": "scattercarpet"
           }
          ],
          "scattergeo": [
           {
            "marker": {
             "colorbar": {
              "outlinewidth": 0,
              "ticks": ""
             }
            },
            "type": "scattergeo"
           }
          ],
          "scattergl": [
           {
            "marker": {
             "colorbar": {
              "outlinewidth": 0,
              "ticks": ""
             }
            },
            "type": "scattergl"
           }
          ],
          "scattermapbox": [
           {
            "marker": {
             "colorbar": {
              "outlinewidth": 0,
              "ticks": ""
             }
            },
            "type": "scattermapbox"
           }
          ],
          "scatterpolar": [
           {
            "marker": {
             "colorbar": {
              "outlinewidth": 0,
              "ticks": ""
             }
            },
            "type": "scatterpolar"
           }
          ],
          "scatterpolargl": [
           {
            "marker": {
             "colorbar": {
              "outlinewidth": 0,
              "ticks": ""
             }
            },
            "type": "scatterpolargl"
           }
          ],
          "scatterternary": [
           {
            "marker": {
             "colorbar": {
              "outlinewidth": 0,
              "ticks": ""
             }
            },
            "type": "scatterternary"
           }
          ],
          "surface": [
           {
            "colorbar": {
             "outlinewidth": 0,
             "ticks": ""
            },
            "colorscale": [
             [
              0,
              "#0d0887"
             ],
             [
              0.1111111111111111,
              "#46039f"
             ],
             [
              0.2222222222222222,
              "#7201a8"
             ],
             [
              0.3333333333333333,
              "#9c179e"
             ],
             [
              0.4444444444444444,
              "#bd3786"
             ],
             [
              0.5555555555555556,
              "#d8576b"
             ],
             [
              0.6666666666666666,
              "#ed7953"
             ],
             [
              0.7777777777777778,
              "#fb9f3a"
             ],
             [
              0.8888888888888888,
              "#fdca26"
             ],
             [
              1,
              "#f0f921"
             ]
            ],
            "type": "surface"
           }
          ],
          "table": [
           {
            "cells": {
             "fill": {
              "color": "#EBF0F8"
             },
             "line": {
              "color": "white"
             }
            },
            "header": {
             "fill": {
              "color": "#C8D4E3"
             },
             "line": {
              "color": "white"
             }
            },
            "type": "table"
           }
          ]
         },
         "layout": {
          "annotationdefaults": {
           "arrowcolor": "#2a3f5f",
           "arrowhead": 0,
           "arrowwidth": 1
          },
          "autotypenumbers": "strict",
          "coloraxis": {
           "colorbar": {
            "outlinewidth": 0,
            "ticks": ""
           }
          },
          "colorscale": {
           "diverging": [
            [
             0,
             "#8e0152"
            ],
            [
             0.1,
             "#c51b7d"
            ],
            [
             0.2,
             "#de77ae"
            ],
            [
             0.3,
             "#f1b6da"
            ],
            [
             0.4,
             "#fde0ef"
            ],
            [
             0.5,
             "#f7f7f7"
            ],
            [
             0.6,
             "#e6f5d0"
            ],
            [
             0.7,
             "#b8e186"
            ],
            [
             0.8,
             "#7fbc41"
            ],
            [
             0.9,
             "#4d9221"
            ],
            [
             1,
             "#276419"
            ]
           ],
           "sequential": [
            [
             0,
             "#0d0887"
            ],
            [
             0.1111111111111111,
             "#46039f"
            ],
            [
             0.2222222222222222,
             "#7201a8"
            ],
            [
             0.3333333333333333,
             "#9c179e"
            ],
            [
             0.4444444444444444,
             "#bd3786"
            ],
            [
             0.5555555555555556,
             "#d8576b"
            ],
            [
             0.6666666666666666,
             "#ed7953"
            ],
            [
             0.7777777777777778,
             "#fb9f3a"
            ],
            [
             0.8888888888888888,
             "#fdca26"
            ],
            [
             1,
             "#f0f921"
            ]
           ],
           "sequentialminus": [
            [
             0,
             "#0d0887"
            ],
            [
             0.1111111111111111,
             "#46039f"
            ],
            [
             0.2222222222222222,
             "#7201a8"
            ],
            [
             0.3333333333333333,
             "#9c179e"
            ],
            [
             0.4444444444444444,
             "#bd3786"
            ],
            [
             0.5555555555555556,
             "#d8576b"
            ],
            [
             0.6666666666666666,
             "#ed7953"
            ],
            [
             0.7777777777777778,
             "#fb9f3a"
            ],
            [
             0.8888888888888888,
             "#fdca26"
            ],
            [
             1,
             "#f0f921"
            ]
           ]
          },
          "colorway": [
           "#636efa",
           "#EF553B",
           "#00cc96",
           "#ab63fa",
           "#FFA15A",
           "#19d3f3",
           "#FF6692",
           "#B6E880",
           "#FF97FF",
           "#FECB52"
          ],
          "font": {
           "color": "#2a3f5f"
          },
          "geo": {
           "bgcolor": "white",
           "lakecolor": "white",
           "landcolor": "#E5ECF6",
           "showlakes": true,
           "showland": true,
           "subunitcolor": "white"
          },
          "hoverlabel": {
           "align": "left"
          },
          "hovermode": "closest",
          "mapbox": {
           "style": "light"
          },
          "paper_bgcolor": "white",
          "plot_bgcolor": "#E5ECF6",
          "polar": {
           "angularaxis": {
            "gridcolor": "white",
            "linecolor": "white",
            "ticks": ""
           },
           "bgcolor": "#E5ECF6",
           "radialaxis": {
            "gridcolor": "white",
            "linecolor": "white",
            "ticks": ""
           }
          },
          "scene": {
           "xaxis": {
            "backgroundcolor": "#E5ECF6",
            "gridcolor": "white",
            "gridwidth": 2,
            "linecolor": "white",
            "showbackground": true,
            "ticks": "",
            "zerolinecolor": "white"
           },
           "yaxis": {
            "backgroundcolor": "#E5ECF6",
            "gridcolor": "white",
            "gridwidth": 2,
            "linecolor": "white",
            "showbackground": true,
            "ticks": "",
            "zerolinecolor": "white"
           },
           "zaxis": {
            "backgroundcolor": "#E5ECF6",
            "gridcolor": "white",
            "gridwidth": 2,
            "linecolor": "white",
            "showbackground": true,
            "ticks": "",
            "zerolinecolor": "white"
           }
          },
          "shapedefaults": {
           "line": {
            "color": "#2a3f5f"
           }
          },
          "ternary": {
           "aaxis": {
            "gridcolor": "white",
            "linecolor": "white",
            "ticks": ""
           },
           "baxis": {
            "gridcolor": "white",
            "linecolor": "white",
            "ticks": ""
           },
           "bgcolor": "#E5ECF6",
           "caxis": {
            "gridcolor": "white",
            "linecolor": "white",
            "ticks": ""
           }
          },
          "title": {
           "x": 0.05
          },
          "xaxis": {
           "automargin": true,
           "gridcolor": "white",
           "linecolor": "white",
           "ticks": "",
           "title": {
            "standoff": 15
           },
           "zerolinecolor": "white",
           "zerolinewidth": 2
          },
          "yaxis": {
           "automargin": true,
           "gridcolor": "white",
           "linecolor": "white",
           "ticks": "",
           "title": {
            "standoff": 15
           },
           "zerolinecolor": "white",
           "zerolinewidth": 2
          }
         }
        },
        "title": {
         "text": "Acqua totale utilizzata per la produzione dei cibi"
        },
        "xaxis": {
         "anchor": "y",
         "domain": [
          0,
          1
         ],
         "title": {
          "text": "Type"
         }
        },
        "yaxis": {
         "anchor": "x",
         "domain": [
          0,
          1
         ],
         "title": {
          "text": "Total water(lt) used"
         }
        }
       }
      }
     },
     "metadata": {},
     "output_type": "display_data"
    }
   ],
   "source": [
    "Food_types_water_liters_per_kilogram = [Food_Production_df[Food_Production_df[\"Food product\"] == food_type][\"Freshwater withdrawals per kilogram (liters per kilogram)\"].to_list() for food_type in Food_types]\n",
    "Food_types_water_liters_per_kilogram_dict = dict()\n",
    "\n",
    "Feed_types_water_liters_per_kilogram = [Food_Production_df[Food_Production_df[\"Food product\"] == food_type][\"Freshwater withdrawals per kilogram (liters per kilogram)\"].to_list() for food_type in Feed_types]\n",
    "Feed_types_water_liters_per_kilogram_dict = dict()\n",
    "\n",
    "for i in range(len(Food_types)):\n",
    "     Food_types_water_liters_per_kilogram_dict[Food_types[i]] = 0\n",
    "\n",
    "     if len(Food_types_water_liters_per_kilogram[i]) != 0:\n",
    "          Food_types_water_liters_per_kilogram_dict[Food_types[i]] = Food_types_water_liters_per_kilogram[i][0]\n",
    "\n",
    "for index, record in Food_feed_df.iterrows():\n",
    "     Food_type = record[\"Type\"]\n",
    "     if Food_type in Food_types_water_liters_per_kilogram_dict.keys():\n",
    "          Food_feed_df.at[index, \"Total water(lt) used\"] =  Food_feed_df.at[index, \"Tonnes\"] * 1000 * Food_types_water_liters_per_kilogram_dict[Food_type]\n",
    "\n",
    "for i in range(len(Feed_types)):\n",
    "     Feed_types_water_liters_per_kilogram_dict[Feed_types[i]] = 0\n",
    "\n",
    "     if len(Feed_types_water_liters_per_kilogram[i]) != 0:\n",
    "          Feed_types_water_liters_per_kilogram_dict[Feed_types[i]] = Feed_types_water_liters_per_kilogram[i][0]\n",
    "\n",
    "for index, record in Feed_items.iterrows():\n",
    "     Feed_type = record[\"Type\"]\n",
    "     if Feed_type in Feed_types_water_liters_per_kilogram_dict.keys():\n",
    "          Feed_items.at[index, \"Total water(lt) used\"] =  Feed_items.at[index, \"Tonnes\"] * 1000 * Feed_types_water_liters_per_kilogram_dict[Food_type]\n",
    "\n",
    "Food_feed_df = pd.concat([Food_feed_df, Feed_items], ignore_index=True)\n",
    "temp_df = Food_feed_df.groupby(\"Type\").sum(numeric_only=True).sort_values(by=\"Total water(lt) used\", ascending=False)\n",
    "\n",
    "fig = px.bar(\n",
    "     temp_df,\n",
    "     x=temp_df.index,\n",
    "     y=\"Total water(lt) used\",\n",
    "     color=\"Total water(lt) used\",\n",
    "     title='Acqua totale utilizzata per la produzione dei cibi',\n",
    "     height=600,\n",
    ")\n",
    "\n",
    "fig.show()"
   ]
  },
  {
   "cell_type": "markdown",
   "metadata": {},
   "source": [
    "# Calcolo emissione gas serra prodotti dal 1961 al 2013"
   ]
  },
  {
   "cell_type": "markdown",
   "metadata": {},
   "source": [
    "#### Per questo calcolo andrò a inserire per ogni prodotto tracciato il numero di kcal presenti in 100gr di cibo/mangime uso google come fonte per i miei dati.\n",
    "#### Verrà create una nuova colonna chiamata \"Kg producted x 1000kcal\" che ci dirà quanti chili devono essere prodotti per generare 1000kcal.\n",
    "#### Subito dopo mostrerò un istogramma in orizzontale per mostrare quali sono i cibi che emettono più gas serra"
   ]
  },
  {
   "cell_type": "code",
   "execution_count": 482,
   "metadata": {},
   "outputs": [
    {
     "data": {
      "application/vnd.plotly.v1+json": {
       "config": {
        "plotlyServerURL": "https://plot.ly"
       },
       "data": [
        {
         "alignmentgroup": "True",
         "hovertemplate": "Item=%{x}<br>CO2eqTonnes=%{marker.color}<extra></extra>",
         "legendgroup": "",
         "marker": {
          "color": [
           1232624158916.349,
           1004780528265.5032,
           445635356936.8072,
           418678195392.00446,
           337724450677.2518,
           321171490311.3693,
           129018626181.36807,
           118451829597.90407,
           116032501978.90845,
           26308215436.8359,
           11087572187.457726,
           9927160499.556171,
           2485707449.0750856,
           1379339021.1534243,
           984945794.8001753,
           674729264.498938,
           658417970.5883406,
           550114598.0453062,
           535836645.13395226,
           316456004.9864156,
           247065329.24140206,
           242549055.36808252,
           178929967.7250881,
           84762411.5934605,
           78627030.05407676,
           14619569.99456016,
           2552533.74905022,
           0,
           0,
           0,
           0,
           0
          ],
          "coloraxis": "coloraxis",
          "pattern": {
           "shape": ""
          }
         },
         "name": "",
         "offsetgroup": "",
         "orientation": "v",
         "showlegend": false,
         "textposition": "auto",
         "type": "bar",
         "x": [
          "Sugar cane",
          "Cassava and products",
          "Fish, Seafood",
          "Potatoes and products",
          "Rice (Milled Equivalent)",
          "Milk - Excluding Butter",
          "Sugar beet",
          "Vegetables, Other",
          "Pulses, Other and products",
          "Peas",
          "Fish, Body Oil",
          "Bananas",
          "Tomatoes and products",
          "Fruits, Other",
          "Apples and products",
          "Bovine Meat",
          "Pigmeat",
          "Groundnuts (Shelled Eq)",
          "Poultry Meat",
          "Eggs",
          "Palm Oil",
          "Fish, Liver Oil",
          "Nuts and products",
          "Wine",
          "Olive Oil",
          "Citrus, Other",
          "Ricebran Oil",
          "Onions",
          "Mutton & Goat Meat",
          "Grapes and products (excl wine)",
          "Coffee and products",
          "Wheat and products"
         ],
         "xaxis": "x",
         "y": [
          1232624158916.349,
          1004780528265.5032,
          445635356936.8072,
          418678195392.00446,
          337724450677.2518,
          321171490311.3693,
          129018626181.36807,
          118451829597.90407,
          116032501978.90845,
          26308215436.8359,
          11087572187.457726,
          9927160499.556171,
          2485707449.0750856,
          1379339021.1534243,
          984945794.8001753,
          674729264.498938,
          658417970.5883406,
          550114598.0453062,
          535836645.13395226,
          316456004.9864156,
          247065329.24140206,
          242549055.36808252,
          178929967.7250881,
          84762411.5934605,
          78627030.05407676,
          14619569.99456016,
          2552533.74905022,
          0,
          0,
          0,
          0,
          0
         ],
         "yaxis": "y"
        }
       ],
       "layout": {
        "barmode": "relative",
        "coloraxis": {
         "colorbar": {
          "title": {
           "text": "CO2eqTonnes"
          }
         },
         "colorscale": [
          [
           0,
           "#0d0887"
          ],
          [
           0.1111111111111111,
           "#46039f"
          ],
          [
           0.2222222222222222,
           "#7201a8"
          ],
          [
           0.3333333333333333,
           "#9c179e"
          ],
          [
           0.4444444444444444,
           "#bd3786"
          ],
          [
           0.5555555555555556,
           "#d8576b"
          ],
          [
           0.6666666666666666,
           "#ed7953"
          ],
          [
           0.7777777777777778,
           "#fb9f3a"
          ],
          [
           0.8888888888888888,
           "#fdca26"
          ],
          [
           1,
           "#f0f921"
          ]
         ]
        },
        "height": 600,
        "legend": {
         "tracegroupgap": 0
        },
        "template": {
         "data": {
          "bar": [
           {
            "error_x": {
             "color": "#2a3f5f"
            },
            "error_y": {
             "color": "#2a3f5f"
            },
            "marker": {
             "line": {
              "color": "#E5ECF6",
              "width": 0.5
             },
             "pattern": {
              "fillmode": "overlay",
              "size": 10,
              "solidity": 0.2
             }
            },
            "type": "bar"
           }
          ],
          "barpolar": [
           {
            "marker": {
             "line": {
              "color": "#E5ECF6",
              "width": 0.5
             },
             "pattern": {
              "fillmode": "overlay",
              "size": 10,
              "solidity": 0.2
             }
            },
            "type": "barpolar"
           }
          ],
          "carpet": [
           {
            "aaxis": {
             "endlinecolor": "#2a3f5f",
             "gridcolor": "white",
             "linecolor": "white",
             "minorgridcolor": "white",
             "startlinecolor": "#2a3f5f"
            },
            "baxis": {
             "endlinecolor": "#2a3f5f",
             "gridcolor": "white",
             "linecolor": "white",
             "minorgridcolor": "white",
             "startlinecolor": "#2a3f5f"
            },
            "type": "carpet"
           }
          ],
          "choropleth": [
           {
            "colorbar": {
             "outlinewidth": 0,
             "ticks": ""
            },
            "type": "choropleth"
           }
          ],
          "contour": [
           {
            "colorbar": {
             "outlinewidth": 0,
             "ticks": ""
            },
            "colorscale": [
             [
              0,
              "#0d0887"
             ],
             [
              0.1111111111111111,
              "#46039f"
             ],
             [
              0.2222222222222222,
              "#7201a8"
             ],
             [
              0.3333333333333333,
              "#9c179e"
             ],
             [
              0.4444444444444444,
              "#bd3786"
             ],
             [
              0.5555555555555556,
              "#d8576b"
             ],
             [
              0.6666666666666666,
              "#ed7953"
             ],
             [
              0.7777777777777778,
              "#fb9f3a"
             ],
             [
              0.8888888888888888,
              "#fdca26"
             ],
             [
              1,
              "#f0f921"
             ]
            ],
            "type": "contour"
           }
          ],
          "contourcarpet": [
           {
            "colorbar": {
             "outlinewidth": 0,
             "ticks": ""
            },
            "type": "contourcarpet"
           }
          ],
          "heatmap": [
           {
            "colorbar": {
             "outlinewidth": 0,
             "ticks": ""
            },
            "colorscale": [
             [
              0,
              "#0d0887"
             ],
             [
              0.1111111111111111,
              "#46039f"
             ],
             [
              0.2222222222222222,
              "#7201a8"
             ],
             [
              0.3333333333333333,
              "#9c179e"
             ],
             [
              0.4444444444444444,
              "#bd3786"
             ],
             [
              0.5555555555555556,
              "#d8576b"
             ],
             [
              0.6666666666666666,
              "#ed7953"
             ],
             [
              0.7777777777777778,
              "#fb9f3a"
             ],
             [
              0.8888888888888888,
              "#fdca26"
             ],
             [
              1,
              "#f0f921"
             ]
            ],
            "type": "heatmap"
           }
          ],
          "heatmapgl": [
           {
            "colorbar": {
             "outlinewidth": 0,
             "ticks": ""
            },
            "colorscale": [
             [
              0,
              "#0d0887"
             ],
             [
              0.1111111111111111,
              "#46039f"
             ],
             [
              0.2222222222222222,
              "#7201a8"
             ],
             [
              0.3333333333333333,
              "#9c179e"
             ],
             [
              0.4444444444444444,
              "#bd3786"
             ],
             [
              0.5555555555555556,
              "#d8576b"
             ],
             [
              0.6666666666666666,
              "#ed7953"
             ],
             [
              0.7777777777777778,
              "#fb9f3a"
             ],
             [
              0.8888888888888888,
              "#fdca26"
             ],
             [
              1,
              "#f0f921"
             ]
            ],
            "type": "heatmapgl"
           }
          ],
          "histogram": [
           {
            "marker": {
             "pattern": {
              "fillmode": "overlay",
              "size": 10,
              "solidity": 0.2
             }
            },
            "type": "histogram"
           }
          ],
          "histogram2d": [
           {
            "colorbar": {
             "outlinewidth": 0,
             "ticks": ""
            },
            "colorscale": [
             [
              0,
              "#0d0887"
             ],
             [
              0.1111111111111111,
              "#46039f"
             ],
             [
              0.2222222222222222,
              "#7201a8"
             ],
             [
              0.3333333333333333,
              "#9c179e"
             ],
             [
              0.4444444444444444,
              "#bd3786"
             ],
             [
              0.5555555555555556,
              "#d8576b"
             ],
             [
              0.6666666666666666,
              "#ed7953"
             ],
             [
              0.7777777777777778,
              "#fb9f3a"
             ],
             [
              0.8888888888888888,
              "#fdca26"
             ],
             [
              1,
              "#f0f921"
             ]
            ],
            "type": "histogram2d"
           }
          ],
          "histogram2dcontour": [
           {
            "colorbar": {
             "outlinewidth": 0,
             "ticks": ""
            },
            "colorscale": [
             [
              0,
              "#0d0887"
             ],
             [
              0.1111111111111111,
              "#46039f"
             ],
             [
              0.2222222222222222,
              "#7201a8"
             ],
             [
              0.3333333333333333,
              "#9c179e"
             ],
             [
              0.4444444444444444,
              "#bd3786"
             ],
             [
              0.5555555555555556,
              "#d8576b"
             ],
             [
              0.6666666666666666,
              "#ed7953"
             ],
             [
              0.7777777777777778,
              "#fb9f3a"
             ],
             [
              0.8888888888888888,
              "#fdca26"
             ],
             [
              1,
              "#f0f921"
             ]
            ],
            "type": "histogram2dcontour"
           }
          ],
          "mesh3d": [
           {
            "colorbar": {
             "outlinewidth": 0,
             "ticks": ""
            },
            "type": "mesh3d"
           }
          ],
          "parcoords": [
           {
            "line": {
             "colorbar": {
              "outlinewidth": 0,
              "ticks": ""
             }
            },
            "type": "parcoords"
           }
          ],
          "pie": [
           {
            "automargin": true,
            "type": "pie"
           }
          ],
          "scatter": [
           {
            "fillpattern": {
             "fillmode": "overlay",
             "size": 10,
             "solidity": 0.2
            },
            "type": "scatter"
           }
          ],
          "scatter3d": [
           {
            "line": {
             "colorbar": {
              "outlinewidth": 0,
              "ticks": ""
             }
            },
            "marker": {
             "colorbar": {
              "outlinewidth": 0,
              "ticks": ""
             }
            },
            "type": "scatter3d"
           }
          ],
          "scattercarpet": [
           {
            "marker": {
             "colorbar": {
              "outlinewidth": 0,
              "ticks": ""
             }
            },
            "type": "scattercarpet"
           }
          ],
          "scattergeo": [
           {
            "marker": {
             "colorbar": {
              "outlinewidth": 0,
              "ticks": ""
             }
            },
            "type": "scattergeo"
           }
          ],
          "scattergl": [
           {
            "marker": {
             "colorbar": {
              "outlinewidth": 0,
              "ticks": ""
             }
            },
            "type": "scattergl"
           }
          ],
          "scattermapbox": [
           {
            "marker": {
             "colorbar": {
              "outlinewidth": 0,
              "ticks": ""
             }
            },
            "type": "scattermapbox"
           }
          ],
          "scatterpolar": [
           {
            "marker": {
             "colorbar": {
              "outlinewidth": 0,
              "ticks": ""
             }
            },
            "type": "scatterpolar"
           }
          ],
          "scatterpolargl": [
           {
            "marker": {
             "colorbar": {
              "outlinewidth": 0,
              "ticks": ""
             }
            },
            "type": "scatterpolargl"
           }
          ],
          "scatterternary": [
           {
            "marker": {
             "colorbar": {
              "outlinewidth": 0,
              "ticks": ""
             }
            },
            "type": "scatterternary"
           }
          ],
          "surface": [
           {
            "colorbar": {
             "outlinewidth": 0,
             "ticks": ""
            },
            "colorscale": [
             [
              0,
              "#0d0887"
             ],
             [
              0.1111111111111111,
              "#46039f"
             ],
             [
              0.2222222222222222,
              "#7201a8"
             ],
             [
              0.3333333333333333,
              "#9c179e"
             ],
             [
              0.4444444444444444,
              "#bd3786"
             ],
             [
              0.5555555555555556,
              "#d8576b"
             ],
             [
              0.6666666666666666,
              "#ed7953"
             ],
             [
              0.7777777777777778,
              "#fb9f3a"
             ],
             [
              0.8888888888888888,
              "#fdca26"
             ],
             [
              1,
              "#f0f921"
             ]
            ],
            "type": "surface"
           }
          ],
          "table": [
           {
            "cells": {
             "fill": {
              "color": "#EBF0F8"
             },
             "line": {
              "color": "white"
             }
            },
            "header": {
             "fill": {
              "color": "#C8D4E3"
             },
             "line": {
              "color": "white"
             }
            },
            "type": "table"
           }
          ]
         },
         "layout": {
          "annotationdefaults": {
           "arrowcolor": "#2a3f5f",
           "arrowhead": 0,
           "arrowwidth": 1
          },
          "autotypenumbers": "strict",
          "coloraxis": {
           "colorbar": {
            "outlinewidth": 0,
            "ticks": ""
           }
          },
          "colorscale": {
           "diverging": [
            [
             0,
             "#8e0152"
            ],
            [
             0.1,
             "#c51b7d"
            ],
            [
             0.2,
             "#de77ae"
            ],
            [
             0.3,
             "#f1b6da"
            ],
            [
             0.4,
             "#fde0ef"
            ],
            [
             0.5,
             "#f7f7f7"
            ],
            [
             0.6,
             "#e6f5d0"
            ],
            [
             0.7,
             "#b8e186"
            ],
            [
             0.8,
             "#7fbc41"
            ],
            [
             0.9,
             "#4d9221"
            ],
            [
             1,
             "#276419"
            ]
           ],
           "sequential": [
            [
             0,
             "#0d0887"
            ],
            [
             0.1111111111111111,
             "#46039f"
            ],
            [
             0.2222222222222222,
             "#7201a8"
            ],
            [
             0.3333333333333333,
             "#9c179e"
            ],
            [
             0.4444444444444444,
             "#bd3786"
            ],
            [
             0.5555555555555556,
             "#d8576b"
            ],
            [
             0.6666666666666666,
             "#ed7953"
            ],
            [
             0.7777777777777778,
             "#fb9f3a"
            ],
            [
             0.8888888888888888,
             "#fdca26"
            ],
            [
             1,
             "#f0f921"
            ]
           ],
           "sequentialminus": [
            [
             0,
             "#0d0887"
            ],
            [
             0.1111111111111111,
             "#46039f"
            ],
            [
             0.2222222222222222,
             "#7201a8"
            ],
            [
             0.3333333333333333,
             "#9c179e"
            ],
            [
             0.4444444444444444,
             "#bd3786"
            ],
            [
             0.5555555555555556,
             "#d8576b"
            ],
            [
             0.6666666666666666,
             "#ed7953"
            ],
            [
             0.7777777777777778,
             "#fb9f3a"
            ],
            [
             0.8888888888888888,
             "#fdca26"
            ],
            [
             1,
             "#f0f921"
            ]
           ]
          },
          "colorway": [
           "#636efa",
           "#EF553B",
           "#00cc96",
           "#ab63fa",
           "#FFA15A",
           "#19d3f3",
           "#FF6692",
           "#B6E880",
           "#FF97FF",
           "#FECB52"
          ],
          "font": {
           "color": "#2a3f5f"
          },
          "geo": {
           "bgcolor": "white",
           "lakecolor": "white",
           "landcolor": "#E5ECF6",
           "showlakes": true,
           "showland": true,
           "subunitcolor": "white"
          },
          "hoverlabel": {
           "align": "left"
          },
          "hovermode": "closest",
          "mapbox": {
           "style": "light"
          },
          "paper_bgcolor": "white",
          "plot_bgcolor": "#E5ECF6",
          "polar": {
           "angularaxis": {
            "gridcolor": "white",
            "linecolor": "white",
            "ticks": ""
           },
           "bgcolor": "#E5ECF6",
           "radialaxis": {
            "gridcolor": "white",
            "linecolor": "white",
            "ticks": ""
           }
          },
          "scene": {
           "xaxis": {
            "backgroundcolor": "#E5ECF6",
            "gridcolor": "white",
            "gridwidth": 2,
            "linecolor": "white",
            "showbackground": true,
            "ticks": "",
            "zerolinecolor": "white"
           },
           "yaxis": {
            "backgroundcolor": "#E5ECF6",
            "gridcolor": "white",
            "gridwidth": 2,
            "linecolor": "white",
            "showbackground": true,
            "ticks": "",
            "zerolinecolor": "white"
           },
           "zaxis": {
            "backgroundcolor": "#E5ECF6",
            "gridcolor": "white",
            "gridwidth": 2,
            "linecolor": "white",
            "showbackground": true,
            "ticks": "",
            "zerolinecolor": "white"
           }
          },
          "shapedefaults": {
           "line": {
            "color": "#2a3f5f"
           }
          },
          "ternary": {
           "aaxis": {
            "gridcolor": "white",
            "linecolor": "white",
            "ticks": ""
           },
           "baxis": {
            "gridcolor": "white",
            "linecolor": "white",
            "ticks": ""
           },
           "bgcolor": "#E5ECF6",
           "caxis": {
            "gridcolor": "white",
            "linecolor": "white",
            "ticks": ""
           }
          },
          "title": {
           "x": 0.05
          },
          "xaxis": {
           "automargin": true,
           "gridcolor": "white",
           "linecolor": "white",
           "ticks": "",
           "title": {
            "standoff": 15
           },
           "zerolinecolor": "white",
           "zerolinewidth": 2
          },
          "yaxis": {
           "automargin": true,
           "gridcolor": "white",
           "linecolor": "white",
           "ticks": "",
           "title": {
            "standoff": 15
           },
           "zerolinecolor": "white",
           "zerolinewidth": 2
          }
         }
        },
        "title": {
         "text": "Emissioni gas serra dovuti alla produzione di cibi e mangimi dal 1961 al 2013"
        },
        "xaxis": {
         "anchor": "y",
         "domain": [
          0,
          1
         ],
         "title": {
          "text": "Item"
         }
        },
        "yaxis": {
         "anchor": "x",
         "domain": [
          0,
          1
         ],
         "title": {
          "text": "CO2eqTonnes"
         }
        }
       }
      }
     },
     "metadata": {},
     "output_type": "display_data"
    },
    {
     "data": {
      "text/html": [
       "<div>\n",
       "<style scoped>\n",
       "    .dataframe tbody tr th:only-of-type {\n",
       "        vertical-align: middle;\n",
       "    }\n",
       "\n",
       "    .dataframe tbody tr th {\n",
       "        vertical-align: top;\n",
       "    }\n",
       "\n",
       "    .dataframe thead th {\n",
       "        text-align: right;\n",
       "    }\n",
       "</style>\n",
       "<table border=\"1\" class=\"dataframe\">\n",
       "  <thead>\n",
       "    <tr style=\"text-align: right;\">\n",
       "      <th></th>\n",
       "      <th>Item</th>\n",
       "      <th>Element</th>\n",
       "      <th>Area</th>\n",
       "      <th>Prod. 1961 - 2013</th>\n",
       "      <th>Type</th>\n",
       "      <th>Tonnes</th>\n",
       "      <th>KGCO2</th>\n",
       "      <th>TonnesCO2</th>\n",
       "      <th>Total gPO4 producted</th>\n",
       "      <th>Total water(lt) used</th>\n",
       "      <th>...</th>\n",
       "      <th>Y2004</th>\n",
       "      <th>Y2005</th>\n",
       "      <th>Y2006</th>\n",
       "      <th>Y2007</th>\n",
       "      <th>Y2008</th>\n",
       "      <th>Y2009</th>\n",
       "      <th>Y2010</th>\n",
       "      <th>Y2011</th>\n",
       "      <th>Y2012</th>\n",
       "      <th>Y2013</th>\n",
       "    </tr>\n",
       "  </thead>\n",
       "  <tbody>\n",
       "    <tr>\n",
       "      <th>0</th>\n",
       "      <td>Vegetables, Other</td>\n",
       "      <td>Food</td>\n",
       "      <td>China, mainland</td>\n",
       "      <td>7.962498e+09</td>\n",
       "      <td>Other Vegetables</td>\n",
       "      <td>7.962498e+09</td>\n",
       "      <td>3.981249e+12</td>\n",
       "      <td>3.981249e+09</td>\n",
       "      <td>2.770949e+16</td>\n",
       "      <td>8.161560e+14</td>\n",
       "      <td>...</td>\n",
       "      <td>0</td>\n",
       "      <td>0</td>\n",
       "      <td>0</td>\n",
       "      <td>0</td>\n",
       "      <td>0</td>\n",
       "      <td>0</td>\n",
       "      <td>0</td>\n",
       "      <td>0</td>\n",
       "      <td>0</td>\n",
       "      <td>0</td>\n",
       "    </tr>\n",
       "    <tr>\n",
       "      <th>1</th>\n",
       "      <td>Rice (Milled Equivalent)</td>\n",
       "      <td>Food</td>\n",
       "      <td>China, mainland</td>\n",
       "      <td>4.271067e+09</td>\n",
       "      <td>Rice</td>\n",
       "      <td>4.271067e+09</td>\n",
       "      <td>1.708427e+13</td>\n",
       "      <td>1.708427e+10</td>\n",
       "      <td>2.947036e+15</td>\n",
       "      <td>9.603067e+15</td>\n",
       "      <td>...</td>\n",
       "      <td>0</td>\n",
       "      <td>0</td>\n",
       "      <td>0</td>\n",
       "      <td>0</td>\n",
       "      <td>0</td>\n",
       "      <td>0</td>\n",
       "      <td>0</td>\n",
       "      <td>0</td>\n",
       "      <td>0</td>\n",
       "      <td>0</td>\n",
       "    </tr>\n",
       "    <tr>\n",
       "      <th>2</th>\n",
       "      <td>Wheat and products</td>\n",
       "      <td>Food</td>\n",
       "      <td>China, mainland</td>\n",
       "      <td>3.521951e+09</td>\n",
       "      <td>Wheat</td>\n",
       "      <td>3.521951e+09</td>\n",
       "      <td>0.000000e+00</td>\n",
       "      <td>0.000000e+00</td>\n",
       "      <td>1.235148e+17</td>\n",
       "      <td>0.000000e+00</td>\n",
       "      <td>...</td>\n",
       "      <td>0</td>\n",
       "      <td>0</td>\n",
       "      <td>0</td>\n",
       "      <td>0</td>\n",
       "      <td>0</td>\n",
       "      <td>0</td>\n",
       "      <td>0</td>\n",
       "      <td>0</td>\n",
       "      <td>0</td>\n",
       "      <td>0</td>\n",
       "    </tr>\n",
       "    <tr>\n",
       "      <th>3</th>\n",
       "      <td>Milk - Excluding Butter</td>\n",
       "      <td>Food</td>\n",
       "      <td>United States of America</td>\n",
       "      <td>3.353075e+09</td>\n",
       "      <td>Milk</td>\n",
       "      <td>3.353075e+09</td>\n",
       "      <td>9.388610e+12</td>\n",
       "      <td>9.388610e+09</td>\n",
       "      <td>2.313622e+15</td>\n",
       "      <td>2.106402e+15</td>\n",
       "      <td>...</td>\n",
       "      <td>0</td>\n",
       "      <td>0</td>\n",
       "      <td>0</td>\n",
       "      <td>0</td>\n",
       "      <td>0</td>\n",
       "      <td>0</td>\n",
       "      <td>0</td>\n",
       "      <td>0</td>\n",
       "      <td>0</td>\n",
       "      <td>0</td>\n",
       "    </tr>\n",
       "    <tr>\n",
       "      <th>4</th>\n",
       "      <td>Rice (Milled Equivalent)</td>\n",
       "      <td>Food</td>\n",
       "      <td>India</td>\n",
       "      <td>3.096326e+09</td>\n",
       "      <td>Rice</td>\n",
       "      <td>3.096326e+09</td>\n",
       "      <td>1.238530e+13</td>\n",
       "      <td>1.238530e+10</td>\n",
       "      <td>1.077521e+16</td>\n",
       "      <td>6.961779e+15</td>\n",
       "      <td>...</td>\n",
       "      <td>0</td>\n",
       "      <td>0</td>\n",
       "      <td>0</td>\n",
       "      <td>0</td>\n",
       "      <td>0</td>\n",
       "      <td>0</td>\n",
       "      <td>0</td>\n",
       "      <td>0</td>\n",
       "      <td>0</td>\n",
       "      <td>0</td>\n",
       "    </tr>\n",
       "    <tr>\n",
       "      <th>...</th>\n",
       "      <td>...</td>\n",
       "      <td>...</td>\n",
       "      <td>...</td>\n",
       "      <td>...</td>\n",
       "      <td>...</td>\n",
       "      <td>...</td>\n",
       "      <td>...</td>\n",
       "      <td>...</td>\n",
       "      <td>...</td>\n",
       "      <td>...</td>\n",
       "      <td>...</td>\n",
       "      <td>...</td>\n",
       "      <td>...</td>\n",
       "      <td>...</td>\n",
       "      <td>...</td>\n",
       "      <td>...</td>\n",
       "      <td>...</td>\n",
       "      <td>...</td>\n",
       "      <td>...</td>\n",
       "      <td>...</td>\n",
       "      <td>...</td>\n",
       "    </tr>\n",
       "    <tr>\n",
       "      <th>5867</th>\n",
       "      <td>Rice (Milled Equivalent)</td>\n",
       "      <td>Feed</td>\n",
       "      <td>Vanuatu</td>\n",
       "      <td>1.000000e+03</td>\n",
       "      <td>Rice</td>\n",
       "      <td>1.000000e+06</td>\n",
       "      <td>4.000000e+09</td>\n",
       "      <td>4.000000e+06</td>\n",
       "      <td>1.065000e+13</td>\n",
       "      <td>1.025000e+11</td>\n",
       "      <td>...</td>\n",
       "      <td>0</td>\n",
       "      <td>0</td>\n",
       "      <td>0</td>\n",
       "      <td>0</td>\n",
       "      <td>0</td>\n",
       "      <td>0</td>\n",
       "      <td>0</td>\n",
       "      <td>0</td>\n",
       "      <td>0</td>\n",
       "      <td>0</td>\n",
       "    </tr>\n",
       "    <tr>\n",
       "      <th>5868</th>\n",
       "      <td>Fish, Seafood</td>\n",
       "      <td>Feed</td>\n",
       "      <td>China, Macao SAR</td>\n",
       "      <td>1.000000e+03</td>\n",
       "      <td>Fish (farmed)</td>\n",
       "      <td>1.000000e+06</td>\n",
       "      <td>5.100000e+09</td>\n",
       "      <td>5.100000e+06</td>\n",
       "      <td>1.065000e+13</td>\n",
       "      <td>1.025000e+11</td>\n",
       "      <td>...</td>\n",
       "      <td>0</td>\n",
       "      <td>0</td>\n",
       "      <td>0</td>\n",
       "      <td>0</td>\n",
       "      <td>0</td>\n",
       "      <td>0</td>\n",
       "      <td>0</td>\n",
       "      <td>0</td>\n",
       "      <td>0</td>\n",
       "      <td>0</td>\n",
       "    </tr>\n",
       "    <tr>\n",
       "      <th>5869</th>\n",
       "      <td>Milk - Excluding Butter</td>\n",
       "      <td>Feed</td>\n",
       "      <td>Antigua and Barbuda</td>\n",
       "      <td>1.000000e+03</td>\n",
       "      <td>Milk</td>\n",
       "      <td>1.000000e+06</td>\n",
       "      <td>2.800000e+09</td>\n",
       "      <td>2.800000e+06</td>\n",
       "      <td>1.065000e+13</td>\n",
       "      <td>1.025000e+11</td>\n",
       "      <td>...</td>\n",
       "      <td>0</td>\n",
       "      <td>0</td>\n",
       "      <td>0</td>\n",
       "      <td>0</td>\n",
       "      <td>0</td>\n",
       "      <td>0</td>\n",
       "      <td>0</td>\n",
       "      <td>0</td>\n",
       "      <td>0</td>\n",
       "      <td>0</td>\n",
       "    </tr>\n",
       "    <tr>\n",
       "      <th>5870</th>\n",
       "      <td>Fish, Seafood</td>\n",
       "      <td>Feed</td>\n",
       "      <td>Uganda</td>\n",
       "      <td>1.000000e+03</td>\n",
       "      <td>Fish (farmed)</td>\n",
       "      <td>1.000000e+06</td>\n",
       "      <td>5.100000e+09</td>\n",
       "      <td>5.100000e+06</td>\n",
       "      <td>1.065000e+13</td>\n",
       "      <td>1.025000e+11</td>\n",
       "      <td>...</td>\n",
       "      <td>0</td>\n",
       "      <td>0</td>\n",
       "      <td>0</td>\n",
       "      <td>0</td>\n",
       "      <td>0</td>\n",
       "      <td>0</td>\n",
       "      <td>0</td>\n",
       "      <td>0</td>\n",
       "      <td>0</td>\n",
       "      <td>0</td>\n",
       "    </tr>\n",
       "    <tr>\n",
       "      <th>5871</th>\n",
       "      <td>Vegetables, Other</td>\n",
       "      <td>Feed</td>\n",
       "      <td>United Arab Emirates</td>\n",
       "      <td>1.000000e+03</td>\n",
       "      <td>Other Vegetables</td>\n",
       "      <td>1.000000e+06</td>\n",
       "      <td>5.000000e+08</td>\n",
       "      <td>5.000000e+05</td>\n",
       "      <td>1.065000e+13</td>\n",
       "      <td>1.025000e+11</td>\n",
       "      <td>...</td>\n",
       "      <td>0</td>\n",
       "      <td>0</td>\n",
       "      <td>0</td>\n",
       "      <td>0</td>\n",
       "      <td>0</td>\n",
       "      <td>0</td>\n",
       "      <td>0</td>\n",
       "      <td>0</td>\n",
       "      <td>0</td>\n",
       "      <td>0</td>\n",
       "    </tr>\n",
       "  </tbody>\n",
       "</table>\n",
       "<p>5872 rows × 65 columns</p>\n",
       "</div>"
      ],
      "text/plain": [
       "                          Item Element                      Area  \\\n",
       "0            Vegetables, Other    Food           China, mainland   \n",
       "1     Rice (Milled Equivalent)    Food           China, mainland   \n",
       "2           Wheat and products    Food           China, mainland   \n",
       "3      Milk - Excluding Butter    Food  United States of America   \n",
       "4     Rice (Milled Equivalent)    Food                     India   \n",
       "...                        ...     ...                       ...   \n",
       "5867  Rice (Milled Equivalent)    Feed                   Vanuatu   \n",
       "5868             Fish, Seafood    Feed          China, Macao SAR   \n",
       "5869   Milk - Excluding Butter    Feed       Antigua and Barbuda   \n",
       "5870             Fish, Seafood    Feed                    Uganda   \n",
       "5871         Vegetables, Other    Feed      United Arab Emirates   \n",
       "\n",
       "      Prod. 1961 - 2013              Type        Tonnes         KGCO2  \\\n",
       "0          7.962498e+09  Other Vegetables  7.962498e+09  3.981249e+12   \n",
       "1          4.271067e+09              Rice  4.271067e+09  1.708427e+13   \n",
       "2          3.521951e+09             Wheat  3.521951e+09  0.000000e+00   \n",
       "3          3.353075e+09              Milk  3.353075e+09  9.388610e+12   \n",
       "4          3.096326e+09              Rice  3.096326e+09  1.238530e+13   \n",
       "...                 ...               ...           ...           ...   \n",
       "5867       1.000000e+03              Rice  1.000000e+06  4.000000e+09   \n",
       "5868       1.000000e+03     Fish (farmed)  1.000000e+06  5.100000e+09   \n",
       "5869       1.000000e+03              Milk  1.000000e+06  2.800000e+09   \n",
       "5870       1.000000e+03     Fish (farmed)  1.000000e+06  5.100000e+09   \n",
       "5871       1.000000e+03  Other Vegetables  1.000000e+06  5.000000e+08   \n",
       "\n",
       "         TonnesCO2  Total gPO4 producted  Total water(lt) used  ...  Y2004  \\\n",
       "0     3.981249e+09          2.770949e+16          8.161560e+14  ...      0   \n",
       "1     1.708427e+10          2.947036e+15          9.603067e+15  ...      0   \n",
       "2     0.000000e+00          1.235148e+17          0.000000e+00  ...      0   \n",
       "3     9.388610e+09          2.313622e+15          2.106402e+15  ...      0   \n",
       "4     1.238530e+10          1.077521e+16          6.961779e+15  ...      0   \n",
       "...            ...                   ...                   ...  ...    ...   \n",
       "5867  4.000000e+06          1.065000e+13          1.025000e+11  ...      0   \n",
       "5868  5.100000e+06          1.065000e+13          1.025000e+11  ...      0   \n",
       "5869  2.800000e+06          1.065000e+13          1.025000e+11  ...      0   \n",
       "5870  5.100000e+06          1.065000e+13          1.025000e+11  ...      0   \n",
       "5871  5.000000e+05          1.065000e+13          1.025000e+11  ...      0   \n",
       "\n",
       "      Y2005  Y2006  Y2007  Y2008  Y2009  Y2010  Y2011  Y2012  Y2013  \n",
       "0         0      0      0      0      0      0      0      0      0  \n",
       "1         0      0      0      0      0      0      0      0      0  \n",
       "2         0      0      0      0      0      0      0      0      0  \n",
       "3         0      0      0      0      0      0      0      0      0  \n",
       "4         0      0      0      0      0      0      0      0      0  \n",
       "...     ...    ...    ...    ...    ...    ...    ...    ...    ...  \n",
       "5867      0      0      0      0      0      0      0      0      0  \n",
       "5868      0      0      0      0      0      0      0      0      0  \n",
       "5869      0      0      0      0      0      0      0      0      0  \n",
       "5870      0      0      0      0      0      0      0      0      0  \n",
       "5871      0      0      0      0      0      0      0      0      0  \n",
       "\n",
       "[5872 rows x 65 columns]"
      ]
     },
     "execution_count": 482,
     "metadata": {},
     "output_type": "execute_result"
    }
   ],
   "source": [
    "Food_feed_kcalories_100gr = {\n",
    "\n",
    "     \"Other Vegetables\": 65,\n",
    "     \"Rice\": 130,\n",
    "     \"Wheat\": 329,\n",
    "     \"Milk\": 42,\n",
    "     \"Potatoes\": 77,\n",
    "     \"Pig Meat\": 242,\n",
    "     \"Fish (farmed)\": 158,\n",
    "     \"Other Fruit\": 80,\n",
    "     \"Tomatoes\": 18,\n",
    "     \"Beef (beef herd)\": 332,\n",
    "     \"Cassava\": 159,\n",
    "     \"Eggs\": 155,\n",
    "     \"Poultry Meat\": 272,\n",
    "     \"Cane Sugar\": 400,\n",
    "     \"Bananas\": 89,\n",
    "     \"Apples\": 52,\n",
    "     \"Other Pulses\": 181,\n",
    "     \"Onions\": 40,\n",
    "     \"Wine\": 83,\n",
    "     \"Grapes\": 67,\n",
    "     \"Citrus Fruit\": 72,\n",
    "     \"Groundnuts\": 567,\n",
    "     \"Mutton\": 294,\n",
    "     \"Coffee\": 0,\n",
    "     \"Peas\": 81,\n",
    "     \"Palm Oil\": 884,\n",
    "     \"Nuts\": 607,\n",
    "     \"Olive Oil\": 884,\n",
    "     \"Beet Sugar\": 405,\n",
    "\n",
    "}\n",
    "\n",
    "# Aggiungo la colonna a Food_Production_df\n",
    "for index, record in Food_Production_df.iterrows():\n",
    "     Type = record[\"Food product\"]\n",
    "     if Type in Food_feed_kcalories_100gr.keys():\n",
    "          if Food_feed_kcalories_100gr[Type] != 0 and Food_feed_kcalories_100gr[Type] != np.NAN:\n",
    "               Food_Production_df.at[index, \"Kg producted x 1000kcal\"] = (1000 / (Food_feed_kcalories_100gr[Type]))\n",
    "\n",
    "\n",
    "for index, record in Food_feed_df.iterrows():\n",
    "     Type = record[\"Type\"]\n",
    "     if Type in Food_feed_kcalories_100gr.keys():  \n",
    "          if len(Food_Production_df[Food_Production_df[\"Food product\"] == Type][\"Greenhouse gas emissions per 1000kcal (kgCO₂eq per 1000kcal)\"].values) != 0:\n",
    "               Food_feed_df.at[index, \"KGCO2eq tot\"] = ((record[\"Tonnes\"] * 1000)/(Food_Production_df[Food_Production_df[\"Food product\"] == Type][\"Kg producted x 1000kcal\"].to_list()[0])) * Food_Production_df.loc[Food_Production_df[\"Food product\"] == \"Apples\", \"Greenhouse gas emissions per 1000kcal (kgCO₂eq per 1000kcal)\"].to_list()[0]\n",
    "          else:\n",
    "               Food_feed_df.at[index, \"KGCO2eq tot\"] = 0\n",
    "\n",
    "Food_feed_df = Food_feed_df.assign(CO2eqTonnes=Food_feed_df[\"KGCO2eq tot\"]/1000)\n",
    "temp_df = Food_feed_df.groupby(\"Item\").sum(numeric_only=True).sort_values(by=\"KGCO2eq tot\", ascending=False)\n",
    "\n",
    "fig = px.bar(\n",
    "     temp_df,\n",
    "     x=temp_df.index,\n",
    "     y=\"CO2eqTonnes\",\n",
    "     color=\"CO2eqTonnes\",\n",
    "     height=600,\n",
    "     title='Emissioni gas serra dovuti alla produzione di cibi e mangimi dal 1961 al 2013'\n",
    ")\n",
    "\n",
    "fig.show()\n",
    "# Devi ricavare l'inquinamento del mangime e metterlo insieme a quello del cibo"
   ]
  },
  {
   "cell_type": "markdown",
   "metadata": {},
   "source": [
    "# Dizionari utili\n",
    "#### Creo dei dizionario per facillitarmi l'accesso ad informazioni che riguardano l'inquinamento."
   ]
  },
  {
   "cell_type": "code",
   "execution_count": 498,
   "metadata": {},
   "outputs": [],
   "source": [
    "# Funzione che unisce dizionari pensato per unire le informazioni dei cibi e dei mangimi\n",
    "def dict_completer(dict1, dict2):\n",
    "     ret = dict1\n",
    "     for key in dict2:\n",
    "          if key not in ret:\n",
    "               ret[key] = dict2[key]\n",
    "\n",
    "     return ret\n",
    "\n",
    "def CO2eq_dict():\n",
    "     greenhouse_emissions = Food_Production_df[\"Greenhouse gas emissions per 1000kcal (kgCO₂eq per 1000kcal)\"].dropna()\n",
    "     unit = Food_Production_df.iloc[greenhouse_emissions.index]\n",
    "     unit = unit[[\"Kg producted x 1000kcal\", \"Food product\"]]\n",
    "     \n",
    "     temp = dict()\n",
    "     ret = dict()\n",
    "\n",
    "     for index, record in unit.iterrows():\n",
    "          temp[record[\"Food product\"]] = greenhouse_emissions.at[index] / record[\"Kg producted x 1000kcal\"]\n",
    "\n",
    "     for key in temp.keys():\n",
    "          splitted_key = key.split('&')\n",
    "          if len(splitted_key) > 1:\n",
    "               key1, value1 = splitted_key[0].strip(), temp[key]\n",
    "               key2, value2 = splitted_key[1].strip(), temp[key]\n",
    "               ret[key1] = value1\n",
    "               ret[key2] = value2\n",
    "          else:\n",
    "               ret[key] = temp[key]\n",
    "\n",
    "     return ret\n",
    "     \n",
    "\n",
    "CO2_KG_dict = dict()\n",
    "gPO4_dict = dict()\n",
    "water_usage_KG = dict()\n",
    "CO2eq_KG_dict = dict()\n",
    "\n",
    "CO2_KG_dict = dict_completer(Food_types_CO2KG_dict, Feed_types_CO2KG_dict)\n",
    "gPO4_dict = dict_completer(Food_types_PO4_dict, Feed_types_PO4_dict)\n",
    "water_usage_KG = dict_completer(Food_types_water_liters_per_kilogram_dict, Feed_types_water_liters_per_kilogram_dict)\n",
    "CO2eq_KG_dict = CO2eq_dict()"
   ]
  },
  {
   "cell_type": "markdown",
   "metadata": {},
   "source": [
    "# Unificazione di tutte le informazioni\n",
    "#### Adattamento dei dati per le rappresentazioni usando i dati creati sopra traccerò:\n",
    "- **Area:** Corrisponde all'Area.\n",
    "- **Item:** Il cibo/mangime che è stato prodotto.\n",
    "- **Element:** Cibo o mangime.\n",
    "- **Year:** L'anno in cui è stata generata quella quantità di prodotto.\n",
    "- **Quantity:** Quantità prodotta.\n",
    "- **Yearly gas serra emissions:** Gas serra emessi in un anno.\n",
    "- **Yearly KGCO2:** Chili di CO2 rilasciati in quel anno.\n",
    "- **Yearly gPO4 producted:** Quantità in grammi di gPO4 rilasciata annualmente.\n",
    "- **Yearly water usage(lt):** Quantità di acqua usata per la produzione. "
   ]
  },
  {
   "cell_type": "code",
   "execution_count": 500,
   "metadata": {},
   "outputs": [
    {
     "data": {
      "text/plain": [
       "<AxesSubplot: >"
      ]
     },
     "execution_count": 500,
     "metadata": {},
     "output_type": "execute_result"
    },
    {
     "data": {
      "image/png": "[encoded data removed]",
      "text/plain": [
       "<Figure size 432x288 with 1 Axes>"
      ]
     },
     "metadata": {
      "needs_background": "light"
     },
     "output_type": "display_data"
    }
   ],
   "source": [
    "columns = [\"Area\", \"Item\", \"Element\", \"Year\", \"Quantity(Tonnes)\", \"Yearly gas serra emissions(KG)\", \"Yearly KGCO2\", \"Yearly gPO4 producted\", \"Yearly water usage(lt)\"]\n",
    "type_sorted_df = prodotti_tracciati_df.sort_values(by=\"Type\").reset_index()\n",
    "\n",
    "years_productions = type_sorted_df[[f\"Y{i}\" for i in range(1961, 2014)]] * 1000\n",
    "types = type_sorted_df[\"Type\"].to_list() # ordinato in base a come si trova\n",
    "areas = type_sorted_df[\"Area\"].to_list() # ordinato in base a come si trova\n",
    "element = type_sorted_df[\"Element\"].to_list() # ordinato in base a come si trova\n",
    "\n",
    "years_to_add = [f\"{i}\" for i in range(1961, 2014)]\n",
    "record_for_df = list()\n",
    "\n",
    "# Creazione di un nuovo df anche con lo stesso nome che gli hai dato che poi andrò man mano riempito\n",
    "for i in range(len(types)):\n",
    "     for j in range(53):\n",
    "          year_production =  years_productions.iloc[i, j]\n",
    "          year = 1961 + j\n",
    "          yearly_gas_serra_emission = 0\n",
    "          yearly_KGCO2 = 0\n",
    "          yearly_gPO4 = 0\n",
    "          yearly_water_usage = 0\n",
    "\n",
    "          if types[i] in CO2eq_KG_dict:\n",
    "               yearly_gas_serra_emission = (year_production * 1000) * CO2eq_KG_dict[types[i]]\n",
    "          if types[i] in CO2_KG_dict:\n",
    "               yearly_KGCO2 = (year_production * 1000) * CO2_KG_dict[types[i]]\n",
    "          if types[i] in gPO4_dict:\n",
    "               yearly_gPO4 = (year_production * 1000) * gPO4_dict[types[i]]\n",
    "          if types[i] in water_usage_KG:\n",
    "               yearly_water_usage = (year_production * 1000) * water_usage_KG[types[i]]\n",
    "          \n",
    "          record_for_df.append([areas[i], types[i], element[i], year, year_production, yearly_gas_serra_emission, yearly_KGCO2, yearly_gPO4, yearly_water_usage])\n",
    "\n",
    "graphics_df = pd.DataFrame(record_for_df, columns=columns)\n",
    "graphics_df = graphics_df.sort_values(by=\"Area\").reset_index().drop(columns=[\"index\"])\n"
   ]
  },
  {
   "cell_type": "markdown",
   "metadata": {},
   "source": [
    "# Trasformazione dei dati\n",
    "#### I dati per essere rappresentati correttamente hanno bisogno di essere fatti un certo andremo creerò un Dataframe che ha le seguenti colonne:\n",
    "- **Area:** Corrisponde all'Area.\n",
    "- **Item:** Il cibo/mangime che è stato prodotto.\n",
    "- **Element:** Cibo o mangime.\n",
    "- **Year:** L'anno in cui è stata generata quella quantità di prodotto.\n",
    "- **Quantity:** Quantità prodotta.\n",
    "- **Yearly gas serra emissions:** Gas serra emessi in un anno.\n",
    "- **Yearly KGCO2:** Chili di CO2 rilasciati in quel anno.\n",
    "- **Yearly gPO4 producted:** Quantità in grammi di gPO4 rilasciata annualmente.\n",
    "- **Yearly water usage(lt):** Quantità di acqua usata per la produzione. "
   ]
  },
  {
   "cell_type": "code",
   "execution_count": null,
   "metadata": {},
   "outputs": [
    {
     "data": {
      "text/html": [
       "<div>\n",
       "<style scoped>\n",
       "    .dataframe tbody tr th:only-of-type {\n",
       "        vertical-align: middle;\n",
       "    }\n",
       "\n",
       "    .dataframe tbody tr th {\n",
       "        vertical-align: top;\n",
       "    }\n",
       "\n",
       "    .dataframe thead th {\n",
       "        text-align: right;\n",
       "    }\n",
       "</style>\n",
       "<table border=\"1\" class=\"dataframe\">\n",
       "  <thead>\n",
       "    <tr style=\"text-align: right;\">\n",
       "      <th></th>\n",
       "      <th>index</th>\n",
       "      <th>Area</th>\n",
       "      <th>Item</th>\n",
       "      <th>Element</th>\n",
       "      <th>Year</th>\n",
       "      <th>Quantity(Tonnes)</th>\n",
       "      <th>Yearly gas serra emissions(KG)</th>\n",
       "      <th>Yearly KGCO2</th>\n",
       "      <th>Yearly gPO4 producted</th>\n",
       "      <th>Yearly water usage(lt)</th>\n",
       "    </tr>\n",
       "  </thead>\n",
       "  <tbody>\n",
       "    <tr>\n",
       "      <th>0</th>\n",
       "      <td>152671</td>\n",
       "      <td>French Polynesia</td>\n",
       "      <td>Apples</td>\n",
       "      <td>Food</td>\n",
       "      <td>2012</td>\n",
       "      <td>3</td>\n",
       "      <td>139.75</td>\n",
       "      <td>0</td>\n",
       "      <td>0</td>\n",
       "      <td>0</td>\n",
       "    </tr>\n",
       "    <tr>\n",
       "      <th>1</th>\n",
       "      <td>150925</td>\n",
       "      <td>Zambia</td>\n",
       "      <td>Apples</td>\n",
       "      <td>Food</td>\n",
       "      <td>1982</td>\n",
       "      <td>0</td>\n",
       "      <td>0.00</td>\n",
       "      <td>0</td>\n",
       "      <td>0</td>\n",
       "      <td>0</td>\n",
       "    </tr>\n",
       "    <tr>\n",
       "      <th>2</th>\n",
       "      <td>150924</td>\n",
       "      <td>Zambia</td>\n",
       "      <td>Apples</td>\n",
       "      <td>Food</td>\n",
       "      <td>1981</td>\n",
       "      <td>0</td>\n",
       "      <td>0.00</td>\n",
       "      <td>0</td>\n",
       "      <td>0</td>\n",
       "      <td>0</td>\n",
       "    </tr>\n",
       "    <tr>\n",
       "      <th>3</th>\n",
       "      <td>150923</td>\n",
       "      <td>Zambia</td>\n",
       "      <td>Apples</td>\n",
       "      <td>Food</td>\n",
       "      <td>1980</td>\n",
       "      <td>0</td>\n",
       "      <td>0.00</td>\n",
       "      <td>0</td>\n",
       "      <td>0</td>\n",
       "      <td>0</td>\n",
       "    </tr>\n",
       "    <tr>\n",
       "      <th>4</th>\n",
       "      <td>150922</td>\n",
       "      <td>Zambia</td>\n",
       "      <td>Apples</td>\n",
       "      <td>Food</td>\n",
       "      <td>1979</td>\n",
       "      <td>0</td>\n",
       "      <td>0.00</td>\n",
       "      <td>0</td>\n",
       "      <td>0</td>\n",
       "      <td>0</td>\n",
       "    </tr>\n",
       "    <tr>\n",
       "      <th>...</th>\n",
       "      <td>...</td>\n",
       "      <td>...</td>\n",
       "      <td>...</td>\n",
       "      <td>...</td>\n",
       "      <td>...</td>\n",
       "      <td>...</td>\n",
       "      <td>...</td>\n",
       "      <td>...</td>\n",
       "      <td>...</td>\n",
       "      <td>...</td>\n",
       "    </tr>\n",
       "    <tr>\n",
       "      <th>305339</th>\n",
       "      <td>49579</td>\n",
       "      <td>Japan</td>\n",
       "      <td>Wine</td>\n",
       "      <td>Food</td>\n",
       "      <td>1984</td>\n",
       "      <td>95</td>\n",
       "      <td>NaN</td>\n",
       "      <td>0</td>\n",
       "      <td>0</td>\n",
       "      <td>0</td>\n",
       "    </tr>\n",
       "    <tr>\n",
       "      <th>305340</th>\n",
       "      <td>49578</td>\n",
       "      <td>Japan</td>\n",
       "      <td>Wine</td>\n",
       "      <td>Food</td>\n",
       "      <td>1983</td>\n",
       "      <td>107</td>\n",
       "      <td>NaN</td>\n",
       "      <td>0</td>\n",
       "      <td>0</td>\n",
       "      <td>0</td>\n",
       "    </tr>\n",
       "    <tr>\n",
       "      <th>305341</th>\n",
       "      <td>49577</td>\n",
       "      <td>Japan</td>\n",
       "      <td>Wine</td>\n",
       "      <td>Food</td>\n",
       "      <td>1982</td>\n",
       "      <td>98</td>\n",
       "      <td>NaN</td>\n",
       "      <td>0</td>\n",
       "      <td>0</td>\n",
       "      <td>0</td>\n",
       "    </tr>\n",
       "    <tr>\n",
       "      <th>305342</th>\n",
       "      <td>49588</td>\n",
       "      <td>Japan</td>\n",
       "      <td>Wine</td>\n",
       "      <td>Food</td>\n",
       "      <td>1993</td>\n",
       "      <td>117</td>\n",
       "      <td>NaN</td>\n",
       "      <td>0</td>\n",
       "      <td>0</td>\n",
       "      <td>0</td>\n",
       "    </tr>\n",
       "    <tr>\n",
       "      <th>305343</th>\n",
       "      <td>166646</td>\n",
       "      <td>Djibouti</td>\n",
       "      <td>Wine</td>\n",
       "      <td>Food</td>\n",
       "      <td>1999</td>\n",
       "      <td>0</td>\n",
       "      <td>NaN</td>\n",
       "      <td>0</td>\n",
       "      <td>0</td>\n",
       "      <td>0</td>\n",
       "    </tr>\n",
       "  </tbody>\n",
       "</table>\n",
       "<p>305344 rows × 10 columns</p>\n",
       "</div>"
      ],
      "text/plain": [
       "         index              Area    Item Element  Year  Quantity(Tonnes)  \\\n",
       "0       152671  French Polynesia  Apples    Food  2012                 3   \n",
       "1       150925            Zambia  Apples    Food  1982                 0   \n",
       "2       150924            Zambia  Apples    Food  1981                 0   \n",
       "3       150923            Zambia  Apples    Food  1980                 0   \n",
       "4       150922            Zambia  Apples    Food  1979                 0   \n",
       "...        ...               ...     ...     ...   ...               ...   \n",
       "305339   49579             Japan    Wine    Food  1984                95   \n",
       "305340   49578             Japan    Wine    Food  1983               107   \n",
       "305341   49577             Japan    Wine    Food  1982                98   \n",
       "305342   49588             Japan    Wine    Food  1993               117   \n",
       "305343  166646          Djibouti    Wine    Food  1999                 0   \n",
       "\n",
       "        Yearly gas serra emissions(KG)  Yearly KGCO2  Yearly gPO4 producted  \\\n",
       "0                               139.75             0                      0   \n",
       "1                                 0.00             0                      0   \n",
       "2                                 0.00             0                      0   \n",
       "3                                 0.00             0                      0   \n",
       "4                                 0.00             0                      0   \n",
       "...                                ...           ...                    ...   \n",
       "305339                             NaN             0                      0   \n",
       "305340                             NaN             0                      0   \n",
       "305341                             NaN             0                      0   \n",
       "305342                             NaN             0                      0   \n",
       "305343                             NaN             0                      0   \n",
       "\n",
       "        Yearly water usage(lt)  \n",
       "0                            0  \n",
       "1                            0  \n",
       "2                            0  \n",
       "3                            0  \n",
       "4                            0  \n",
       "...                        ...  \n",
       "305339                       0  \n",
       "305340                       0  \n",
       "305341                       0  \n",
       "305342                       0  \n",
       "305343                       0  \n",
       "\n",
       "[305344 rows x 10 columns]"
      ]
     },
     "execution_count": 251,
     "metadata": {},
     "output_type": "execute_result"
    }
   ],
   "source": [
    "columns = [\"Area\", \"Item\", \"Element\", \"Year\", \"Quantity(Tonnes)\", \"Yearly gas serra emissions(KG)\", \"Yearly KGCO2\", \"Yearly gPO4 producted\", \"Yearly water usage(lt)\"]\n",
    "record_for_df = list()\n",
    "for index, record in Food_feed_df.iterrows():\n",
    "     for i in range(1961, 2013):\n",
    "          record_for_df.append([record[\"Area\"], record[\"Type\"], record[\"Element\"], f\"{i}\", record[f\"Y{i}\"], 0, 0, 0, 0 ])\n",
    "\n",
    "graphics_df = pd.DataFrame(record_for_df, columns=columns)\n",
    "types = graphics_df[\"Item\"].drop_duplicates().to_list()\n",
    "serra_emissions_dict = dict()\n",
    "\n",
    "emissioni_gas_serra = list() # Lista che conterrà le emissioni di gas serra in maniera ordinata\n",
    "emissioni_CO2 = list() # Lista che conterrà tutte le emissioni di CO2 in maniera ordinata\n",
    "eutrofizzazione = list() # Lista che conterrà informazioni relativa al rilascio di PO4\n",
    "utilizzo_acqua = list() # Lista che conterrà quanta acqua viene usata per la produzione in maniera ordinata\n",
    "\n",
    "\n",
    "# Velocizzare questa parte puoi creare una lista/serire che contiene gli elementi nella stessa posizione di dove si trovano normalmente cosi puoi andare semplicemente a moltiplicare vettore per vettore e velocizzare il tutto\n",
    "def get_gas_serra_factor(_food_type):\n",
    "\n",
    "     gas_serra = None\n",
    "\n",
    "\n",
    "     if _food_type == \"Wheat\" or _food_type == \"Rye\":\n",
    "          gas_serra = Food_Production_df.loc[Food_Production_df[\"Food product\"] == \"Wheat & Rye (Bread)\", \"Greenhouse gas emissions per 1000kcal (kgCO₂eq per 1000kcal)\"]\n",
    "     elif _food_type == \"Berries\" or _food_type == \"Grapes\":\n",
    "          gas_serra = Food_Production_df.loc[Food_Production_df[\"Food product\"] == \"Berries & Grape (Bread)\", \"Greenhouse gas emissions per 1000kcal (kgCO₂eq per 1000kcal)\"]\n",
    "     elif _food_type == \"Onions\" or _food_type == \"Leeks\":\n",
    "          gas_serra = Food_Production_df.loc[Food_Production_df[\"Food product\"] == \"Onions & Leeks\", \"Greenhouse gas emissions per 1000kcal (kgCO₂eq per 1000kcal)\"]\n",
    "     elif _food_type == \"Lamb\" or _food_type == \"Mutton\":\n",
    "          gas_serra = Food_Production_df.loc[Food_Production_df[\"Food product\"] == \"Lamb & Mutton\", \"Greenhouse gas emissions per 1000kcal (kgCO₂eq per 1000kcal)\"]\n",
    "     else:\n",
    "          gas_serra = Food_Production_df.loc[Food_Production_df[\"Food product\"] == _food_type, \"Greenhouse gas emissions per 1000kcal (kgCO₂eq per 1000kcal)\"]\n",
    "\n",
    "     if len(gas_serra) == 0:\n",
    "          gas_serra = 0\n",
    "     else:\n",
    "          gas_serra = gas_serra.to_list()[0]\n",
    "\n",
    "     return gas_serra\n",
    "\n",
    "\n",
    "for _food_type in types:  \n",
    "     if _food_type not in serra_emissions_dict.keys():\n",
    "          if len(Food_Production_df.loc[Food_Production_df[\"Food product\"] == _food_type, \"Kg producted x 1000kcal\"]) == 0:\n",
    "               serra_emissions_dict[_food_type] = (get_gas_serra_factor(_food_type), 0)\n",
    "          else:\n",
    "               serra_emissions_dict[_food_type] = (get_gas_serra_factor(_food_type), Food_Production_df.loc[Food_Production_df[\"Food product\"] == _food_type, \"Kg producted x 1000kcal\"].to_list()[0])\n",
    "\n",
    "# Provare ad implementare con un modo più rapido\n",
    "for index, record in graphics_df.iterrows():\n",
    "     _food_type = record[\"Item\"]\n",
    "     if _food_type in serra_emissions_dict:\n",
    "          if serra_emissions_dict[_food_type][1] != 0:\n",
    "               emissioni_gas_serra.append(((record[\"Quantity(Tonnes)\"] * 1000)) * (serra_emissions_dict[_food_type][0]/serra_emissions_dict[_food_type][1]))\n",
    "          else: \n",
    "               emissioni_gas_serra.append(np.NaN)\n",
    "          \n",
    "graphics_df[\"Yearly gas serra emissions(KG)\"] = emissioni_gas_serra\n",
    "graphics_df = graphics_df.sort_values(by=\"Item\", ascending=True) # Ovviamente non droppa i nan inplace\n",
    "graphics_df = graphics_df.reset_index()\n",
    "graphics_df\n",
    "\n",
    "\n"
   ]
  },
  {
   "cell_type": "markdown",
   "metadata": {},
   "source": [
    "#### Inserimento inquinamento da CO2 in KG"
   ]
  },
  {
   "cell_type": "code",
   "execution_count": null,
   "metadata": {},
   "outputs": [
    {
     "data": {
      "text/html": [
       "<div>\n",
       "<style scoped>\n",
       "    .dataframe tbody tr th:only-of-type {\n",
       "        vertical-align: middle;\n",
       "    }\n",
       "\n",
       "    .dataframe tbody tr th {\n",
       "        vertical-align: top;\n",
       "    }\n",
       "\n",
       "    .dataframe thead th {\n",
       "        text-align: right;\n",
       "    }\n",
       "</style>\n",
       "<table border=\"1\" class=\"dataframe\">\n",
       "  <thead>\n",
       "    <tr style=\"text-align: right;\">\n",
       "      <th></th>\n",
       "      <th>index</th>\n",
       "      <th>Area</th>\n",
       "      <th>Item</th>\n",
       "      <th>Element</th>\n",
       "      <th>Year</th>\n",
       "      <th>Quantity(Tonnes)</th>\n",
       "      <th>Yearly gas serra emissions(KG)</th>\n",
       "      <th>Yearly KGCO2</th>\n",
       "      <th>Yearly gPO4 producted</th>\n",
       "      <th>Yearly water usage(lt)</th>\n",
       "    </tr>\n",
       "  </thead>\n",
       "  <tbody>\n",
       "    <tr>\n",
       "      <th>0</th>\n",
       "      <td>152671</td>\n",
       "      <td>French Polynesia</td>\n",
       "      <td>Apples</td>\n",
       "      <td>Food</td>\n",
       "      <td>2012</td>\n",
       "      <td>3</td>\n",
       "      <td>3000.0</td>\n",
       "      <td>900.0</td>\n",
       "      <td>4350.0</td>\n",
       "      <td>540300.0</td>\n",
       "    </tr>\n",
       "    <tr>\n",
       "      <th>1</th>\n",
       "      <td>150925</td>\n",
       "      <td>Zambia</td>\n",
       "      <td>Apples</td>\n",
       "      <td>Food</td>\n",
       "      <td>1982</td>\n",
       "      <td>0</td>\n",
       "      <td>0.0</td>\n",
       "      <td>0.0</td>\n",
       "      <td>0.0</td>\n",
       "      <td>0.0</td>\n",
       "    </tr>\n",
       "    <tr>\n",
       "      <th>2</th>\n",
       "      <td>150924</td>\n",
       "      <td>Zambia</td>\n",
       "      <td>Apples</td>\n",
       "      <td>Food</td>\n",
       "      <td>1981</td>\n",
       "      <td>0</td>\n",
       "      <td>0.0</td>\n",
       "      <td>0.0</td>\n",
       "      <td>0.0</td>\n",
       "      <td>0.0</td>\n",
       "    </tr>\n",
       "    <tr>\n",
       "      <th>3</th>\n",
       "      <td>150923</td>\n",
       "      <td>Zambia</td>\n",
       "      <td>Apples</td>\n",
       "      <td>Food</td>\n",
       "      <td>1980</td>\n",
       "      <td>0</td>\n",
       "      <td>0.0</td>\n",
       "      <td>0.0</td>\n",
       "      <td>0.0</td>\n",
       "      <td>0.0</td>\n",
       "    </tr>\n",
       "    <tr>\n",
       "      <th>4</th>\n",
       "      <td>150922</td>\n",
       "      <td>Zambia</td>\n",
       "      <td>Apples</td>\n",
       "      <td>Food</td>\n",
       "      <td>1979</td>\n",
       "      <td>0</td>\n",
       "      <td>0.0</td>\n",
       "      <td>0.0</td>\n",
       "      <td>0.0</td>\n",
       "      <td>0.0</td>\n",
       "    </tr>\n",
       "    <tr>\n",
       "      <th>...</th>\n",
       "      <td>...</td>\n",
       "      <td>...</td>\n",
       "      <td>...</td>\n",
       "      <td>...</td>\n",
       "      <td>...</td>\n",
       "      <td>...</td>\n",
       "      <td>...</td>\n",
       "      <td>...</td>\n",
       "      <td>...</td>\n",
       "      <td>...</td>\n",
       "    </tr>\n",
       "    <tr>\n",
       "      <th>305339</th>\n",
       "      <td>49579</td>\n",
       "      <td>Japan</td>\n",
       "      <td>Wine</td>\n",
       "      <td>Food</td>\n",
       "      <td>1984</td>\n",
       "      <td>95</td>\n",
       "      <td>NaN</td>\n",
       "      <td>133000.0</td>\n",
       "      <td>434150.0</td>\n",
       "      <td>7495500.0</td>\n",
       "    </tr>\n",
       "    <tr>\n",
       "      <th>305340</th>\n",
       "      <td>49578</td>\n",
       "      <td>Japan</td>\n",
       "      <td>Wine</td>\n",
       "      <td>Food</td>\n",
       "      <td>1983</td>\n",
       "      <td>107</td>\n",
       "      <td>NaN</td>\n",
       "      <td>149800.0</td>\n",
       "      <td>488990.0</td>\n",
       "      <td>8442300.0</td>\n",
       "    </tr>\n",
       "    <tr>\n",
       "      <th>305341</th>\n",
       "      <td>49577</td>\n",
       "      <td>Japan</td>\n",
       "      <td>Wine</td>\n",
       "      <td>Food</td>\n",
       "      <td>1982</td>\n",
       "      <td>98</td>\n",
       "      <td>NaN</td>\n",
       "      <td>137200.0</td>\n",
       "      <td>447860.0</td>\n",
       "      <td>7732200.0</td>\n",
       "    </tr>\n",
       "    <tr>\n",
       "      <th>305342</th>\n",
       "      <td>49588</td>\n",
       "      <td>Japan</td>\n",
       "      <td>Wine</td>\n",
       "      <td>Food</td>\n",
       "      <td>1993</td>\n",
       "      <td>117</td>\n",
       "      <td>NaN</td>\n",
       "      <td>163800.0</td>\n",
       "      <td>534690.0</td>\n",
       "      <td>9231300.0</td>\n",
       "    </tr>\n",
       "    <tr>\n",
       "      <th>305343</th>\n",
       "      <td>166646</td>\n",
       "      <td>Djibouti</td>\n",
       "      <td>Wine</td>\n",
       "      <td>Food</td>\n",
       "      <td>1999</td>\n",
       "      <td>0</td>\n",
       "      <td>NaN</td>\n",
       "      <td>0.0</td>\n",
       "      <td>0.0</td>\n",
       "      <td>0.0</td>\n",
       "    </tr>\n",
       "  </tbody>\n",
       "</table>\n",
       "<p>305344 rows × 10 columns</p>\n",
       "</div>"
      ],
      "text/plain": [
       "         index              Area    Item Element  Year  Quantity(Tonnes)  \\\n",
       "0       152671  French Polynesia  Apples    Food  2012                 3   \n",
       "1       150925            Zambia  Apples    Food  1982                 0   \n",
       "2       150924            Zambia  Apples    Food  1981                 0   \n",
       "3       150923            Zambia  Apples    Food  1980                 0   \n",
       "4       150922            Zambia  Apples    Food  1979                 0   \n",
       "...        ...               ...     ...     ...   ...               ...   \n",
       "305339   49579             Japan    Wine    Food  1984                95   \n",
       "305340   49578             Japan    Wine    Food  1983               107   \n",
       "305341   49577             Japan    Wine    Food  1982                98   \n",
       "305342   49588             Japan    Wine    Food  1993               117   \n",
       "305343  166646          Djibouti    Wine    Food  1999                 0   \n",
       "\n",
       "        Yearly gas serra emissions(KG)  Yearly KGCO2  Yearly gPO4 producted  \\\n",
       "0                               3000.0         900.0                 4350.0   \n",
       "1                                  0.0           0.0                    0.0   \n",
       "2                                  0.0           0.0                    0.0   \n",
       "3                                  0.0           0.0                    0.0   \n",
       "4                                  0.0           0.0                    0.0   \n",
       "...                                ...           ...                    ...   \n",
       "305339                             NaN      133000.0               434150.0   \n",
       "305340                             NaN      149800.0               488990.0   \n",
       "305341                             NaN      137200.0               447860.0   \n",
       "305342                             NaN      163800.0               534690.0   \n",
       "305343                             NaN           0.0                    0.0   \n",
       "\n",
       "        Yearly water usage(lt)  \n",
       "0                     540300.0  \n",
       "1                          0.0  \n",
       "2                          0.0  \n",
       "3                          0.0  \n",
       "4                          0.0  \n",
       "...                        ...  \n",
       "305339               7495500.0  \n",
       "305340               8442300.0  \n",
       "305341               7732200.0  \n",
       "305342               9231300.0  \n",
       "305343                     0.0  \n",
       "\n",
       "[305344 rows x 10 columns]"
      ]
     },
     "execution_count": 243,
     "metadata": {},
     "output_type": "execute_result"
    }
   ],
   "source": [
    "Food_feed_CO2_dict = dict()\n",
    "for key in Food_types_CO2KG_dict.keys():\n",
    "     Food_feed_CO2_dict[key] = Food_types_CO2KG_dict[key]\n",
    "for key in Feed_types_CO2KG_dict.keys():\n",
    "     Food_feed_CO2_dict[key] = Feed_types_CO2KG_dict[key]\n",
    "\n",
    "def get_CO2_producted():\n",
    "     ret = list()\n",
    "     value_needed = graphics_df.groupby(\"Item\").count().reset_index()[[\"Item\", \"Area\"]]\n",
    "     # Questo lo devi migliorare perche non va a considerare che ci possono essere dei valori che vanno in accoppiata tipo \"Wheat & Rye\"\n",
    "     for index, value in value_needed.iterrows():\n",
    "          CO2_multiplier = 0\n",
    "          if len(Food_Production_df.loc[Food_Production_df[\"Food product\"] == value[\"Item\"], \"Total_emissions\"]) != 0:\n",
    "               CO2_multiplier = Food_Production_df.loc[Food_Production_df[\"Food product\"] == value[\"Item\"], \"Total_emissions\"].to_list()[0]\n",
    "          else:\n",
    "               CO2_multiplier = 0\n",
    "\n",
    "          for i in range(value[\"Area\"]):\n",
    "               ret.append(CO2_multiplier)\n",
    "     return ret\n",
    "\n",
    "def get_gPO4_producted():\n",
    "     ret = list()\n",
    "     value_needed = graphics_df.groupby(\"Item\").count().reset_index()[[\"Item\", \"Area\"]]\n",
    "\n",
    "     for index, value in value_needed.iterrows():\n",
    "          gPO4_multiplier = 0\n",
    "          if len(Food_Production_df.loc[Food_Production_df[\"Food product\"] == value[\"Item\"], \"Eutrophying emissions per kilogram (gPO₄eq per kilogram)\"]) != 0:\n",
    "               gPO4_multiplier = Food_Production_df.loc[Food_Production_df[\"Food product\"] == value[\"Item\"], \"Eutrophying emissions per kilogram (gPO₄eq per kilogram)\"].to_list()[0]\n",
    "          else:\n",
    "               gPO4_multiplier = 0\n",
    "\n",
    "          for i in range(value[\"Area\"]):\n",
    "               ret.append(gPO4_multiplier)\n",
    "\n",
    "     return ret\n",
    "\n",
    "def get_yearly_water_usage():\n",
    "     ret = list()\n",
    "     value_needed = graphics_df.groupby(\"Item\").count().reset_index()[[\"Item\", \"Area\"]]\n",
    "\n",
    "     for index, value in value_needed.iterrows():\n",
    "          gPO4_multiplier = 0\n",
    "          if len(Food_Production_df.loc[Food_Production_df[\"Food product\"] == value[\"Item\"], \"Freshwater withdrawals per kilogram (liters per kilogram)\"]) != 0:\n",
    "               gPO4_multiplier = Food_Production_df.loc[Food_Production_df[\"Food product\"] == value[\"Item\"], \"Freshwater withdrawals per kilogram (liters per kilogram)\"].to_list()[0]\n",
    "          else:\n",
    "               gPO4_multiplier = 0\n",
    "\n",
    "          for i in range(value[\"Area\"]):\n",
    "               ret.append(gPO4_multiplier)\n",
    "\n",
    "     return ret     \n",
    "\n",
    "     \n",
    "\n",
    "graphics_df[\"Yearly KGCO2\"] = (graphics_df[\"Quantity(Tonnes)\"] * 1000) * get_CO2_producted()\n",
    "graphics_df[\"Yearly gPO4 producted\"] = (graphics_df[\"Quantity(Tonnes)\"] * 1000) * get_gPO4_producted()\n",
    "graphics_df[\"Yearly water usage(lt)\"] = (graphics_df[\"Quantity(Tonnes)\"] * 1000) * get_yearly_water_usage()\n",
    "graphics_df"
   ]
  },
  {
   "cell_type": "markdown",
   "metadata": {},
   "source": [
    "# Produzione anno per anno\n",
    "#### Grafico che mostra l'incremento della produzione mondiale anno per anno di cibi e mangimi."
   ]
  },
  {
   "cell_type": "code",
   "execution_count": null,
   "metadata": {},
   "outputs": [],
   "source": [
    "# Addattare i dati per mostrare l'incremento della produzione anno per anno\n"
   ]
  },
  {
   "cell_type": "markdown",
   "metadata": {},
   "source": [
    "# Grafico della produzione di CO2 prodotta anno per anno\n",
    "#### Grafico che mostra l'incremento della produzione di CO2 anno per anno"
   ]
  },
  {
   "cell_type": "code",
   "execution_count": null,
   "metadata": {},
   "outputs": [],
   "source": [
    "# Adattare df per mostrare la produzione di CO2 anno per anno"
   ]
  },
  {
   "cell_type": "markdown",
   "metadata": {},
   "source": [
    "# Grafico eutrofizzazione anno per anno\n",
    "#### Grafico che mostra l'incremento di eutrofizzazione anno per anno"
   ]
  },
  {
   "cell_type": "code",
   "execution_count": null,
   "metadata": {},
   "outputs": [],
   "source": [
    "# Adattare i dati per mostrare il grafico dell'eutrofizzazione"
   ]
  },
  {
   "cell_type": "markdown",
   "metadata": {},
   "source": [
    "# Grafico aumento gas serra\n",
    "#### Grafico che mostra l'aumento dei gas serra anno per anno"
   ]
  },
  {
   "cell_type": "code",
   "execution_count": null,
   "metadata": {},
   "outputs": [],
   "source": [
    "# Adattare i dati per mostrare il gafico dei gas serra"
   ]
  },
  {
   "cell_type": "markdown",
   "metadata": {},
   "source": [
    "# Grafico con l'estrapolazione delle risorse d'aqua anno per anno\n",
    "#### Grafico che mostra l'aumento delle risorse d'acqua richieste anno per anno"
   ]
  },
  {
   "cell_type": "code",
   "execution_count": null,
   "metadata": {},
   "outputs": [],
   "source": [
    "# Adattare i dati per mostrare l'aumento delle risorse d'acqua anno per anno"
   ]
  },
  {
   "cell_type": "markdown",
   "metadata": {},
   "source": [
    "# Confronto carni - vegetali\n",
    "#### Grafico che mostra l'inquinamento di un tipo di alimento rispetto all'altro in relazione alla quantità che ne viene prodotta."
   ]
  },
  {
   "cell_type": "code",
   "execution_count": null,
   "metadata": {},
   "outputs": [],
   "source": [
    "# Adattare i dati per creare un grafico che mostri le differenze a livello di inquinamento tra prodotti animali e vegetali."
   ]
  }
 ],
 "metadata": {
  "kernelspec": {
   "display_name": "Python 3.10.1 64-bit",
   "language": "python",
   "name": "python3"
  },
  "language_info": {
   "codemirror_mode": {
    "name": "ipython",
    "version": 3
   },
   "file_extension": ".py",
   "mimetype": "text/x-python",
   "name": "python",
   "nbconvert_exporter": "python",
   "pygments_lexer": "ipython3",
   "version": "3.10.1"
  },
  "vscode": {
   "interpreter": {
    "hash": "aee8b7b246df8f9039afb4144a1f6fd8d2ca17a180786b69acc140d282b71a49"
   }
  }
 },
 "nbformat": 4,
 "nbformat_minor": 2
}
