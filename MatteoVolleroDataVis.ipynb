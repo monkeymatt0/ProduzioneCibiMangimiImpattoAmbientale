{
 "cells": [
  {
   "cell_type": "markdown",
   "metadata": {},
   "source": [
    "# Analisi dell'impatto ambientale della produzione di cibi e mangimi\n",
    "### In base ai dati raccolti dall' Organizzazione delle Nazioni Unite capiremo quali sono gli alimenti che richiedono più risorse naturali in modo tale da poter spostare il focus produttivo su alimenti più sostenibili per l'ambiente."
   ]
  },
  {
   "cell_type": "code",
   "execution_count": 784,
   "metadata": {},
   "outputs": [
    {
     "name": "stdout",
     "output_type": "stream",
     "text": [
      "Requirement already satisfied: pip in /Library/Frameworks/Python.framework/Versions/3.10/lib/python3.10/site-packages (22.3.1)\n",
      "##########   ########## numpy installato ed importato\n",
      "##########   ########## pandas installato ed importato\n",
      "##########   ########## matplotlib installato ed importato\n",
      "##########   ########## seaborn installato ed importato\n",
      "##########   ########## plotly installato ed importato\n"
     ]
    }
   ],
   "source": [
    "import sys\n",
    "!{sys.executable} -m pip install --upgrade pip\n",
    "\n",
    "try:\n",
    "     import numpy as np\n",
    "except ModuleNotFoundError as MNF:\n",
    "     print(\"########## numpy non trovato lo installo\")\n",
    "     !{sys.executable} -m pip install numpy\n",
    "finally:\n",
    "     import numpy as np\n",
    "     print(\"##########   ########## numpy installato ed importato\")\n",
    "     \n",
    "try:\n",
    "     import pandas as pd\n",
    "except ModuleNotFoundError:\n",
    "     print(\"########## pandas non trovato lo installo\")\n",
    "     !{sys.executable} -m pip install pandas\n",
    "finally:\n",
    "     import pandas as pd\n",
    "     print(\"##########   ########## pandas installato ed importato\")\n",
    "     \n",
    "try:\n",
    "     import matplotlib.pyplot as plt\n",
    "except ModuleNotFoundError:\n",
    "     print(\"########## matplotlib non trovato lo installo\")\n",
    "     !{sys.executable} -m pip install matplotlib\n",
    "finally:\n",
    "     import matplotlib.pyplot as plt\n",
    "     print(\"##########   ########## matplotlib installato ed importato\")\n",
    "\n",
    "try:\n",
    "     import seaborn as sns\n",
    "except ModuleNotFoundError:\n",
    "     print(\"########## seaborn non trovato lo installo\")\n",
    "     !{sys.executable} -m pip install seaborn\n",
    "finally:\n",
    "     import seaborn as sns\n",
    "     print(\"##########   ########## seaborn installato ed importato\")\n",
    "\n",
    "try:\n",
    "     import plotly.express as px\n",
    "except ModuleNotFoundError:\n",
    "     print(\"########## plotly non trovato lo installo\")\n",
    "     !{sys.executable} -m pip install plotly\n",
    "finally:\n",
    "     import plotly.express as px\n",
    "     print(\"##########   ########## plotly installato ed importato\")\n",
    "\n",
    "\n",
    "FAO_df = pd.read_csv(\"data/FAO.csv\", encoding='latin-1')\n",
    "Food_Production_df = pd.read_csv(\"data/Food_Production.csv\")\n",
    "FAO_df[\"Type\"] = \"\""
   ]
  },
  {
   "cell_type": "markdown",
   "metadata": {},
   "source": [
    "# Datasets"
   ]
  },
  {
   "cell_type": "markdown",
   "metadata": {},
   "source": [
    "#### Visualizzeremo i primi record dei datasets"
   ]
  },
  {
   "cell_type": "code",
   "execution_count": 785,
   "metadata": {},
   "outputs": [
    {
     "data": {
      "text/html": [
       "<div>\n",
       "<style scoped>\n",
       "    .dataframe tbody tr th:only-of-type {\n",
       "        vertical-align: middle;\n",
       "    }\n",
       "\n",
       "    .dataframe tbody tr th {\n",
       "        vertical-align: top;\n",
       "    }\n",
       "\n",
       "    .dataframe thead th {\n",
       "        text-align: right;\n",
       "    }\n",
       "</style>\n",
       "<table border=\"1\" class=\"dataframe\">\n",
       "  <thead>\n",
       "    <tr style=\"text-align: right;\">\n",
       "      <th></th>\n",
       "      <th>Area Abbreviation</th>\n",
       "      <th>Area Code</th>\n",
       "      <th>Area</th>\n",
       "      <th>Item Code</th>\n",
       "      <th>Item</th>\n",
       "      <th>Element Code</th>\n",
       "      <th>Element</th>\n",
       "      <th>Unit</th>\n",
       "      <th>latitude</th>\n",
       "      <th>longitude</th>\n",
       "      <th>...</th>\n",
       "      <th>Y2005</th>\n",
       "      <th>Y2006</th>\n",
       "      <th>Y2007</th>\n",
       "      <th>Y2008</th>\n",
       "      <th>Y2009</th>\n",
       "      <th>Y2010</th>\n",
       "      <th>Y2011</th>\n",
       "      <th>Y2012</th>\n",
       "      <th>Y2013</th>\n",
       "      <th>Type</th>\n",
       "    </tr>\n",
       "  </thead>\n",
       "  <tbody>\n",
       "    <tr>\n",
       "      <th>0</th>\n",
       "      <td>AFG</td>\n",
       "      <td>2</td>\n",
       "      <td>Afghanistan</td>\n",
       "      <td>2511</td>\n",
       "      <td>Wheat and products</td>\n",
       "      <td>5142</td>\n",
       "      <td>Food</td>\n",
       "      <td>1000 tonnes</td>\n",
       "      <td>33.94</td>\n",
       "      <td>67.71</td>\n",
       "      <td>...</td>\n",
       "      <td>3486.0</td>\n",
       "      <td>3704.0</td>\n",
       "      <td>4164.0</td>\n",
       "      <td>4252.0</td>\n",
       "      <td>4538.0</td>\n",
       "      <td>4605.0</td>\n",
       "      <td>4711.0</td>\n",
       "      <td>4810</td>\n",
       "      <td>4895</td>\n",
       "      <td></td>\n",
       "    </tr>\n",
       "    <tr>\n",
       "      <th>1</th>\n",
       "      <td>AFG</td>\n",
       "      <td>2</td>\n",
       "      <td>Afghanistan</td>\n",
       "      <td>2805</td>\n",
       "      <td>Rice (Milled Equivalent)</td>\n",
       "      <td>5142</td>\n",
       "      <td>Food</td>\n",
       "      <td>1000 tonnes</td>\n",
       "      <td>33.94</td>\n",
       "      <td>67.71</td>\n",
       "      <td>...</td>\n",
       "      <td>445.0</td>\n",
       "      <td>546.0</td>\n",
       "      <td>455.0</td>\n",
       "      <td>490.0</td>\n",
       "      <td>415.0</td>\n",
       "      <td>442.0</td>\n",
       "      <td>476.0</td>\n",
       "      <td>425</td>\n",
       "      <td>422</td>\n",
       "      <td></td>\n",
       "    </tr>\n",
       "    <tr>\n",
       "      <th>2</th>\n",
       "      <td>AFG</td>\n",
       "      <td>2</td>\n",
       "      <td>Afghanistan</td>\n",
       "      <td>2513</td>\n",
       "      <td>Barley and products</td>\n",
       "      <td>5521</td>\n",
       "      <td>Feed</td>\n",
       "      <td>1000 tonnes</td>\n",
       "      <td>33.94</td>\n",
       "      <td>67.71</td>\n",
       "      <td>...</td>\n",
       "      <td>236.0</td>\n",
       "      <td>262.0</td>\n",
       "      <td>263.0</td>\n",
       "      <td>230.0</td>\n",
       "      <td>379.0</td>\n",
       "      <td>315.0</td>\n",
       "      <td>203.0</td>\n",
       "      <td>367</td>\n",
       "      <td>360</td>\n",
       "      <td></td>\n",
       "    </tr>\n",
       "    <tr>\n",
       "      <th>3</th>\n",
       "      <td>AFG</td>\n",
       "      <td>2</td>\n",
       "      <td>Afghanistan</td>\n",
       "      <td>2513</td>\n",
       "      <td>Barley and products</td>\n",
       "      <td>5142</td>\n",
       "      <td>Food</td>\n",
       "      <td>1000 tonnes</td>\n",
       "      <td>33.94</td>\n",
       "      <td>67.71</td>\n",
       "      <td>...</td>\n",
       "      <td>43.0</td>\n",
       "      <td>44.0</td>\n",
       "      <td>48.0</td>\n",
       "      <td>62.0</td>\n",
       "      <td>55.0</td>\n",
       "      <td>60.0</td>\n",
       "      <td>72.0</td>\n",
       "      <td>78</td>\n",
       "      <td>89</td>\n",
       "      <td></td>\n",
       "    </tr>\n",
       "    <tr>\n",
       "      <th>4</th>\n",
       "      <td>AFG</td>\n",
       "      <td>2</td>\n",
       "      <td>Afghanistan</td>\n",
       "      <td>2514</td>\n",
       "      <td>Maize and products</td>\n",
       "      <td>5521</td>\n",
       "      <td>Feed</td>\n",
       "      <td>1000 tonnes</td>\n",
       "      <td>33.94</td>\n",
       "      <td>67.71</td>\n",
       "      <td>...</td>\n",
       "      <td>208.0</td>\n",
       "      <td>233.0</td>\n",
       "      <td>249.0</td>\n",
       "      <td>247.0</td>\n",
       "      <td>195.0</td>\n",
       "      <td>178.0</td>\n",
       "      <td>191.0</td>\n",
       "      <td>200</td>\n",
       "      <td>200</td>\n",
       "      <td></td>\n",
       "    </tr>\n",
       "  </tbody>\n",
       "</table>\n",
       "<p>5 rows × 64 columns</p>\n",
       "</div>"
      ],
      "text/plain": [
       "  Area Abbreviation  Area Code         Area  Item Code  \\\n",
       "0               AFG          2  Afghanistan       2511   \n",
       "1               AFG          2  Afghanistan       2805   \n",
       "2               AFG          2  Afghanistan       2513   \n",
       "3               AFG          2  Afghanistan       2513   \n",
       "4               AFG          2  Afghanistan       2514   \n",
       "\n",
       "                       Item  Element Code Element         Unit  latitude  \\\n",
       "0        Wheat and products          5142    Food  1000 tonnes     33.94   \n",
       "1  Rice (Milled Equivalent)          5142    Food  1000 tonnes     33.94   \n",
       "2       Barley and products          5521    Feed  1000 tonnes     33.94   \n",
       "3       Barley and products          5142    Food  1000 tonnes     33.94   \n",
       "4        Maize and products          5521    Feed  1000 tonnes     33.94   \n",
       "\n",
       "   longitude  ...   Y2005   Y2006   Y2007   Y2008   Y2009   Y2010   Y2011  \\\n",
       "0      67.71  ...  3486.0  3704.0  4164.0  4252.0  4538.0  4605.0  4711.0   \n",
       "1      67.71  ...   445.0   546.0   455.0   490.0   415.0   442.0   476.0   \n",
       "2      67.71  ...   236.0   262.0   263.0   230.0   379.0   315.0   203.0   \n",
       "3      67.71  ...    43.0    44.0    48.0    62.0    55.0    60.0    72.0   \n",
       "4      67.71  ...   208.0   233.0   249.0   247.0   195.0   178.0   191.0   \n",
       "\n",
       "   Y2012  Y2013  Type  \n",
       "0   4810   4895        \n",
       "1    425    422        \n",
       "2    367    360        \n",
       "3     78     89        \n",
       "4    200    200        \n",
       "\n",
       "[5 rows x 64 columns]"
      ]
     },
     "execution_count": 785,
     "metadata": {},
     "output_type": "execute_result"
    }
   ],
   "source": [
    "FAO_df.head()"
   ]
  },
  {
   "cell_type": "code",
   "execution_count": 786,
   "metadata": {},
   "outputs": [
    {
     "data": {
      "text/html": [
       "<div>\n",
       "<style scoped>\n",
       "    .dataframe tbody tr th:only-of-type {\n",
       "        vertical-align: middle;\n",
       "    }\n",
       "\n",
       "    .dataframe tbody tr th {\n",
       "        vertical-align: top;\n",
       "    }\n",
       "\n",
       "    .dataframe thead th {\n",
       "        text-align: right;\n",
       "    }\n",
       "</style>\n",
       "<table border=\"1\" class=\"dataframe\">\n",
       "  <thead>\n",
       "    <tr style=\"text-align: right;\">\n",
       "      <th></th>\n",
       "      <th>Food product</th>\n",
       "      <th>Land use change</th>\n",
       "      <th>Animal Feed</th>\n",
       "      <th>Farm</th>\n",
       "      <th>Processing</th>\n",
       "      <th>Transport</th>\n",
       "      <th>Packging</th>\n",
       "      <th>Retail</th>\n",
       "      <th>Total_emissions</th>\n",
       "      <th>Eutrophying emissions per 1000kcal (gPO₄eq per 1000kcal)</th>\n",
       "      <th>...</th>\n",
       "      <th>Freshwater withdrawals per 100g protein (liters per 100g protein)</th>\n",
       "      <th>Freshwater withdrawals per kilogram (liters per kilogram)</th>\n",
       "      <th>Greenhouse gas emissions per 1000kcal (kgCO₂eq per 1000kcal)</th>\n",
       "      <th>Greenhouse gas emissions per 100g protein (kgCO₂eq per 100g protein)</th>\n",
       "      <th>Land use per 1000kcal (m² per 1000kcal)</th>\n",
       "      <th>Land use per kilogram (m² per kilogram)</th>\n",
       "      <th>Land use per 100g protein (m² per 100g protein)</th>\n",
       "      <th>Scarcity-weighted water use per kilogram (liters per kilogram)</th>\n",
       "      <th>Scarcity-weighted water use per 100g protein (liters per 100g protein)</th>\n",
       "      <th>Scarcity-weighted water use per 1000kcal (liters per 1000 kilocalories)</th>\n",
       "    </tr>\n",
       "  </thead>\n",
       "  <tbody>\n",
       "    <tr>\n",
       "      <th>0</th>\n",
       "      <td>Wheat &amp; Rye (Bread)</td>\n",
       "      <td>0.1</td>\n",
       "      <td>0.0</td>\n",
       "      <td>0.8</td>\n",
       "      <td>0.2</td>\n",
       "      <td>0.1</td>\n",
       "      <td>0.1</td>\n",
       "      <td>0.1</td>\n",
       "      <td>1.4</td>\n",
       "      <td>NaN</td>\n",
       "      <td>...</td>\n",
       "      <td>NaN</td>\n",
       "      <td>NaN</td>\n",
       "      <td>NaN</td>\n",
       "      <td>NaN</td>\n",
       "      <td>NaN</td>\n",
       "      <td>NaN</td>\n",
       "      <td>NaN</td>\n",
       "      <td>NaN</td>\n",
       "      <td>NaN</td>\n",
       "      <td>NaN</td>\n",
       "    </tr>\n",
       "    <tr>\n",
       "      <th>1</th>\n",
       "      <td>Maize (Meal)</td>\n",
       "      <td>0.3</td>\n",
       "      <td>0.0</td>\n",
       "      <td>0.5</td>\n",
       "      <td>0.1</td>\n",
       "      <td>0.1</td>\n",
       "      <td>0.1</td>\n",
       "      <td>0.0</td>\n",
       "      <td>1.1</td>\n",
       "      <td>NaN</td>\n",
       "      <td>...</td>\n",
       "      <td>NaN</td>\n",
       "      <td>NaN</td>\n",
       "      <td>NaN</td>\n",
       "      <td>NaN</td>\n",
       "      <td>NaN</td>\n",
       "      <td>NaN</td>\n",
       "      <td>NaN</td>\n",
       "      <td>NaN</td>\n",
       "      <td>NaN</td>\n",
       "      <td>NaN</td>\n",
       "    </tr>\n",
       "    <tr>\n",
       "      <th>2</th>\n",
       "      <td>Barley (Beer)</td>\n",
       "      <td>0.0</td>\n",
       "      <td>0.0</td>\n",
       "      <td>0.2</td>\n",
       "      <td>0.1</td>\n",
       "      <td>0.0</td>\n",
       "      <td>0.5</td>\n",
       "      <td>0.3</td>\n",
       "      <td>1.1</td>\n",
       "      <td>NaN</td>\n",
       "      <td>...</td>\n",
       "      <td>NaN</td>\n",
       "      <td>NaN</td>\n",
       "      <td>NaN</td>\n",
       "      <td>NaN</td>\n",
       "      <td>NaN</td>\n",
       "      <td>NaN</td>\n",
       "      <td>NaN</td>\n",
       "      <td>NaN</td>\n",
       "      <td>NaN</td>\n",
       "      <td>NaN</td>\n",
       "    </tr>\n",
       "    <tr>\n",
       "      <th>3</th>\n",
       "      <td>Oatmeal</td>\n",
       "      <td>0.0</td>\n",
       "      <td>0.0</td>\n",
       "      <td>1.4</td>\n",
       "      <td>0.0</td>\n",
       "      <td>0.1</td>\n",
       "      <td>0.1</td>\n",
       "      <td>0.0</td>\n",
       "      <td>1.6</td>\n",
       "      <td>4.281357</td>\n",
       "      <td>...</td>\n",
       "      <td>371.076923</td>\n",
       "      <td>482.4</td>\n",
       "      <td>0.945482</td>\n",
       "      <td>1.907692</td>\n",
       "      <td>2.897446</td>\n",
       "      <td>7.6</td>\n",
       "      <td>5.846154</td>\n",
       "      <td>18786.2</td>\n",
       "      <td>14450.92308</td>\n",
       "      <td>7162.104461</td>\n",
       "    </tr>\n",
       "    <tr>\n",
       "      <th>4</th>\n",
       "      <td>Rice</td>\n",
       "      <td>0.0</td>\n",
       "      <td>0.0</td>\n",
       "      <td>3.6</td>\n",
       "      <td>0.1</td>\n",
       "      <td>0.1</td>\n",
       "      <td>0.1</td>\n",
       "      <td>0.1</td>\n",
       "      <td>4.0</td>\n",
       "      <td>9.514379</td>\n",
       "      <td>...</td>\n",
       "      <td>3166.760563</td>\n",
       "      <td>2248.4</td>\n",
       "      <td>1.207271</td>\n",
       "      <td>6.267606</td>\n",
       "      <td>0.759631</td>\n",
       "      <td>2.8</td>\n",
       "      <td>3.943662</td>\n",
       "      <td>49576.3</td>\n",
       "      <td>69825.77465</td>\n",
       "      <td>13449.891480</td>\n",
       "    </tr>\n",
       "  </tbody>\n",
       "</table>\n",
       "<p>5 rows × 23 columns</p>\n",
       "</div>"
      ],
      "text/plain": [
       "          Food product  Land use change  Animal Feed  Farm  Processing  \\\n",
       "0  Wheat & Rye (Bread)              0.1          0.0   0.8         0.2   \n",
       "1         Maize (Meal)              0.3          0.0   0.5         0.1   \n",
       "2        Barley (Beer)              0.0          0.0   0.2         0.1   \n",
       "3              Oatmeal              0.0          0.0   1.4         0.0   \n",
       "4                 Rice              0.0          0.0   3.6         0.1   \n",
       "\n",
       "   Transport  Packging  Retail  Total_emissions  \\\n",
       "0        0.1       0.1     0.1              1.4   \n",
       "1        0.1       0.1     0.0              1.1   \n",
       "2        0.0       0.5     0.3              1.1   \n",
       "3        0.1       0.1     0.0              1.6   \n",
       "4        0.1       0.1     0.1              4.0   \n",
       "\n",
       "   Eutrophying emissions per 1000kcal (gPO₄eq per 1000kcal)  ...  \\\n",
       "0                                                NaN         ...   \n",
       "1                                                NaN         ...   \n",
       "2                                                NaN         ...   \n",
       "3                                           4.281357         ...   \n",
       "4                                           9.514379         ...   \n",
       "\n",
       "   Freshwater withdrawals per 100g protein (liters per 100g protein)  \\\n",
       "0                                                NaN                   \n",
       "1                                                NaN                   \n",
       "2                                                NaN                   \n",
       "3                                         371.076923                   \n",
       "4                                        3166.760563                   \n",
       "\n",
       "   Freshwater withdrawals per kilogram (liters per kilogram)  \\\n",
       "0                                                NaN           \n",
       "1                                                NaN           \n",
       "2                                                NaN           \n",
       "3                                              482.4           \n",
       "4                                             2248.4           \n",
       "\n",
       "   Greenhouse gas emissions per 1000kcal (kgCO₂eq per 1000kcal)  \\\n",
       "0                                                NaN              \n",
       "1                                                NaN              \n",
       "2                                                NaN              \n",
       "3                                           0.945482              \n",
       "4                                           1.207271              \n",
       "\n",
       "   Greenhouse gas emissions per 100g protein (kgCO₂eq per 100g protein)  \\\n",
       "0                                                NaN                      \n",
       "1                                                NaN                      \n",
       "2                                                NaN                      \n",
       "3                                           1.907692                      \n",
       "4                                           6.267606                      \n",
       "\n",
       "   Land use per 1000kcal (m² per 1000kcal)  \\\n",
       "0                                      NaN   \n",
       "1                                      NaN   \n",
       "2                                      NaN   \n",
       "3                                 2.897446   \n",
       "4                                 0.759631   \n",
       "\n",
       "   Land use per kilogram (m² per kilogram)  \\\n",
       "0                                      NaN   \n",
       "1                                      NaN   \n",
       "2                                      NaN   \n",
       "3                                      7.6   \n",
       "4                                      2.8   \n",
       "\n",
       "   Land use per 100g protein (m² per 100g protein)  \\\n",
       "0                                              NaN   \n",
       "1                                              NaN   \n",
       "2                                              NaN   \n",
       "3                                         5.846154   \n",
       "4                                         3.943662   \n",
       "\n",
       "   Scarcity-weighted water use per kilogram (liters per kilogram)  \\\n",
       "0                                                NaN                \n",
       "1                                                NaN                \n",
       "2                                                NaN                \n",
       "3                                            18786.2                \n",
       "4                                            49576.3                \n",
       "\n",
       "   Scarcity-weighted water use per 100g protein (liters per 100g protein)  \\\n",
       "0                                                NaN                        \n",
       "1                                                NaN                        \n",
       "2                                                NaN                        \n",
       "3                                        14450.92308                        \n",
       "4                                        69825.77465                        \n",
       "\n",
       "   Scarcity-weighted water use per 1000kcal (liters per 1000 kilocalories)  \n",
       "0                                                NaN                        \n",
       "1                                                NaN                        \n",
       "2                                                NaN                        \n",
       "3                                        7162.104461                        \n",
       "4                                       13449.891480                        \n",
       "\n",
       "[5 rows x 23 columns]"
      ]
     },
     "execution_count": 786,
     "metadata": {},
     "output_type": "execute_result"
    }
   ],
   "source": [
    "Food_Production_df.head()"
   ]
  },
  {
   "cell_type": "markdown",
   "metadata": {},
   "source": [
    "#### Abbiamo rispettivamente un dataset che ci da informazioni sulle quantità prodotte e un datasets che ci da informazioni rigurado l'inquinamento."
   ]
  },
  {
   "cell_type": "markdown",
   "metadata": {},
   "source": [
    "# Colonne del primo dataset\n",
    "#### Del primo dataset andremo a considerare le seguenti colonne:\n",
    "- **Area Abbreviation -> Abbreviazione dell'area**\n",
    "- **Area -> Area scritta per esteso**\n",
    "- **Item -> Prodotto**\n",
    "- **Element -> Mangime o Cibo**\n",
    "- **Unit -> Unità di misura per la produzione**\n",
    "- **Tutte le colonne che iniziano con Y -> Quanto è stato prodotto ogni anno**"
   ]
  },
  {
   "cell_type": "code",
   "execution_count": 787,
   "metadata": {},
   "outputs": [
    {
     "data": {
      "text/html": [
       "<div>\n",
       "<style scoped>\n",
       "    .dataframe tbody tr th:only-of-type {\n",
       "        vertical-align: middle;\n",
       "    }\n",
       "\n",
       "    .dataframe tbody tr th {\n",
       "        vertical-align: top;\n",
       "    }\n",
       "\n",
       "    .dataframe thead th {\n",
       "        text-align: right;\n",
       "    }\n",
       "</style>\n",
       "<table border=\"1\" class=\"dataframe\">\n",
       "  <thead>\n",
       "    <tr style=\"text-align: right;\">\n",
       "      <th></th>\n",
       "      <th>Area Abbreviation</th>\n",
       "      <th>Area Code</th>\n",
       "      <th>Area</th>\n",
       "      <th>Item</th>\n",
       "      <th>Element</th>\n",
       "      <th>Unit</th>\n",
       "      <th>Y1961</th>\n",
       "      <th>Y1962</th>\n",
       "      <th>Y1963</th>\n",
       "      <th>Y1964</th>\n",
       "      <th>...</th>\n",
       "      <th>Y2005</th>\n",
       "      <th>Y2006</th>\n",
       "      <th>Y2007</th>\n",
       "      <th>Y2008</th>\n",
       "      <th>Y2009</th>\n",
       "      <th>Y2010</th>\n",
       "      <th>Y2011</th>\n",
       "      <th>Y2012</th>\n",
       "      <th>Y2013</th>\n",
       "      <th>Type</th>\n",
       "    </tr>\n",
       "  </thead>\n",
       "  <tbody>\n",
       "    <tr>\n",
       "      <th>0</th>\n",
       "      <td>AFG</td>\n",
       "      <td>2</td>\n",
       "      <td>Afghanistan</td>\n",
       "      <td>Wheat and products</td>\n",
       "      <td>Food</td>\n",
       "      <td>1000 tonnes</td>\n",
       "      <td>1928.0</td>\n",
       "      <td>1904.0</td>\n",
       "      <td>1666.0</td>\n",
       "      <td>1950.0</td>\n",
       "      <td>...</td>\n",
       "      <td>3486.0</td>\n",
       "      <td>3704.0</td>\n",
       "      <td>4164.0</td>\n",
       "      <td>4252.0</td>\n",
       "      <td>4538.0</td>\n",
       "      <td>4605.0</td>\n",
       "      <td>4711.0</td>\n",
       "      <td>4810</td>\n",
       "      <td>4895</td>\n",
       "      <td></td>\n",
       "    </tr>\n",
       "    <tr>\n",
       "      <th>1</th>\n",
       "      <td>AFG</td>\n",
       "      <td>2</td>\n",
       "      <td>Afghanistan</td>\n",
       "      <td>Rice (Milled Equivalent)</td>\n",
       "      <td>Food</td>\n",
       "      <td>1000 tonnes</td>\n",
       "      <td>183.0</td>\n",
       "      <td>183.0</td>\n",
       "      <td>182.0</td>\n",
       "      <td>220.0</td>\n",
       "      <td>...</td>\n",
       "      <td>445.0</td>\n",
       "      <td>546.0</td>\n",
       "      <td>455.0</td>\n",
       "      <td>490.0</td>\n",
       "      <td>415.0</td>\n",
       "      <td>442.0</td>\n",
       "      <td>476.0</td>\n",
       "      <td>425</td>\n",
       "      <td>422</td>\n",
       "      <td></td>\n",
       "    </tr>\n",
       "    <tr>\n",
       "      <th>2</th>\n",
       "      <td>AFG</td>\n",
       "      <td>2</td>\n",
       "      <td>Afghanistan</td>\n",
       "      <td>Barley and products</td>\n",
       "      <td>Feed</td>\n",
       "      <td>1000 tonnes</td>\n",
       "      <td>76.0</td>\n",
       "      <td>76.0</td>\n",
       "      <td>76.0</td>\n",
       "      <td>76.0</td>\n",
       "      <td>...</td>\n",
       "      <td>236.0</td>\n",
       "      <td>262.0</td>\n",
       "      <td>263.0</td>\n",
       "      <td>230.0</td>\n",
       "      <td>379.0</td>\n",
       "      <td>315.0</td>\n",
       "      <td>203.0</td>\n",
       "      <td>367</td>\n",
       "      <td>360</td>\n",
       "      <td></td>\n",
       "    </tr>\n",
       "    <tr>\n",
       "      <th>3</th>\n",
       "      <td>AFG</td>\n",
       "      <td>2</td>\n",
       "      <td>Afghanistan</td>\n",
       "      <td>Barley and products</td>\n",
       "      <td>Food</td>\n",
       "      <td>1000 tonnes</td>\n",
       "      <td>237.0</td>\n",
       "      <td>237.0</td>\n",
       "      <td>237.0</td>\n",
       "      <td>238.0</td>\n",
       "      <td>...</td>\n",
       "      <td>43.0</td>\n",
       "      <td>44.0</td>\n",
       "      <td>48.0</td>\n",
       "      <td>62.0</td>\n",
       "      <td>55.0</td>\n",
       "      <td>60.0</td>\n",
       "      <td>72.0</td>\n",
       "      <td>78</td>\n",
       "      <td>89</td>\n",
       "      <td></td>\n",
       "    </tr>\n",
       "    <tr>\n",
       "      <th>4</th>\n",
       "      <td>AFG</td>\n",
       "      <td>2</td>\n",
       "      <td>Afghanistan</td>\n",
       "      <td>Maize and products</td>\n",
       "      <td>Feed</td>\n",
       "      <td>1000 tonnes</td>\n",
       "      <td>210.0</td>\n",
       "      <td>210.0</td>\n",
       "      <td>214.0</td>\n",
       "      <td>216.0</td>\n",
       "      <td>...</td>\n",
       "      <td>208.0</td>\n",
       "      <td>233.0</td>\n",
       "      <td>249.0</td>\n",
       "      <td>247.0</td>\n",
       "      <td>195.0</td>\n",
       "      <td>178.0</td>\n",
       "      <td>191.0</td>\n",
       "      <td>200</td>\n",
       "      <td>200</td>\n",
       "      <td></td>\n",
       "    </tr>\n",
       "  </tbody>\n",
       "</table>\n",
       "<p>5 rows × 60 columns</p>\n",
       "</div>"
      ],
      "text/plain": [
       "  Area Abbreviation  Area Code         Area                      Item Element  \\\n",
       "0               AFG          2  Afghanistan        Wheat and products    Food   \n",
       "1               AFG          2  Afghanistan  Rice (Milled Equivalent)    Food   \n",
       "2               AFG          2  Afghanistan       Barley and products    Feed   \n",
       "3               AFG          2  Afghanistan       Barley and products    Food   \n",
       "4               AFG          2  Afghanistan        Maize and products    Feed   \n",
       "\n",
       "          Unit   Y1961   Y1962   Y1963   Y1964  ...   Y2005   Y2006   Y2007  \\\n",
       "0  1000 tonnes  1928.0  1904.0  1666.0  1950.0  ...  3486.0  3704.0  4164.0   \n",
       "1  1000 tonnes   183.0   183.0   182.0   220.0  ...   445.0   546.0   455.0   \n",
       "2  1000 tonnes    76.0    76.0    76.0    76.0  ...   236.0   262.0   263.0   \n",
       "3  1000 tonnes   237.0   237.0   237.0   238.0  ...    43.0    44.0    48.0   \n",
       "4  1000 tonnes   210.0   210.0   214.0   216.0  ...   208.0   233.0   249.0   \n",
       "\n",
       "    Y2008   Y2009   Y2010   Y2011  Y2012  Y2013  Type  \n",
       "0  4252.0  4538.0  4605.0  4711.0   4810   4895        \n",
       "1   490.0   415.0   442.0   476.0    425    422        \n",
       "2   230.0   379.0   315.0   203.0    367    360        \n",
       "3    62.0    55.0    60.0    72.0     78     89        \n",
       "4   247.0   195.0   178.0   191.0    200    200        \n",
       "\n",
       "[5 rows x 60 columns]"
      ]
     },
     "execution_count": 787,
     "metadata": {},
     "output_type": "execute_result"
    }
   ],
   "source": [
    "# Selezione delle colonne del primo dataset\n",
    "colonne_interessate = [\"Area Abbreviation\", \"Area\", \"Area Code\", \"Item\", \"Element\", \"Unit\", \"Type\"]\n",
    "FAO_df_colonne_interessate = [ colonna for colonna in FAO_df.columns if colonna.startswith(\"Y\") or (colonna in colonne_interessate)]\n",
    "FAO_df[FAO_df_colonne_interessate].head()"
   ]
  },
  {
   "cell_type": "markdown",
   "metadata": {},
   "source": [
    "# Estrapolazione degli alimenti il cui inquinamento è tracciato\n"
   ]
  },
  {
   "cell_type": "markdown",
   "metadata": {},
   "source": [
    "##### Bisogna andare a prendere i cibi ed i mangimi di cui abbiamo informazioni nei datasets e bisogna aggiustare alcune righe poichè ci sono alcuni record che hanno 2 prodotti come ad esempio Wheat & Rye che sono unificati."
   ]
  },
  {
   "cell_type": "code",
   "execution_count": 788,
   "metadata": {},
   "outputs": [],
   "source": [
    "cibi = Food_Production_df[\"Food product\"]\n",
    "# Adattamento per favorire l'incrocio dati\n",
    "cibi_temp = list()\n",
    "for cibo in cibi:\n",
    "     if \"Beef\" not in cibo:\n",
    "          split = cibo.split('&')\n",
    "          cibi_temp.append(str.strip(split[0]))\n",
    "          if len(split) > 1:\n",
    "               cibi_temp.append(str.strip(split[1]))\n",
    "cibi_temp.sort()\n",
    "cibi = pd.Series(cibi_temp)\n"
   ]
  },
  {
   "cell_type": "markdown",
   "metadata": {},
   "source": [
    "# Incorcio dei dati\n",
    "#### L'incrocio dei dati porterà ad una diminuzione del campione il che è naturale poichè non vengono tracciati tutti i cibi che ci sono nel dataset delle Nazioni Unite."
   ]
  },
  {
   "cell_type": "code",
   "execution_count": 789,
   "metadata": {},
   "outputs": [],
   "source": [
    "# Funzione per incrocio dati\n",
    "def incrocio_dati(df, cibi, prodotti_tracciati, colonne) -> None:\n",
    "     for index, record in FAO_df[FAO_df_colonne_interessate].iterrows():\n",
    "          food_type = record[\"Item\"].lower()\n",
    "          # Caso del dizionario\n",
    "          if(isinstance(cibi, dict)):\n",
    "               for key in cibi.keys():\n",
    "                    if food_type.startswith(cibi[key].lower()) and index not in prodotti_tracciati:\n",
    "                         prodotti_tracciati.append(index)\n",
    "                         FAO_df.at[index, \"Type\"] = key\n",
    "          # Caso lista/pd.series.Series\n",
    "          elif(isinstance(cibi, pd.core.series.Series) or isinstance(cibi, list)):\n",
    "               for i in range(len(cibi)):\n",
    "                    if food_type.startswith(cibi[i].lower()) and index not in prodotti_tracciati:\n",
    "                         prodotti_tracciati.append(index)\n",
    "                         FAO_df.at[index, \"Type\"] = cibi[i]\n",
    "          # Caso di un tipo non permesso\n",
    "          else:\n",
    "               print(\"No type encoded\")\n"
   ]
  },
  {
   "cell_type": "code",
   "execution_count": 790,
   "metadata": {},
   "outputs": [
    {
     "name": "stdout",
     "output_type": "stream",
     "text": [
      "Numero di prodotti tracciati:  4369\n"
     ]
    }
   ],
   "source": [
    "# Inserimento nel df in base al tipo di alimento(pt.1)\n",
    "prodotti_tracciati = list()\n",
    "incrocio_dati(FAO_df, cibi, prodotti_tracciati, colonne_interessate)\n",
    "print(\"Numero di prodotti tracciati: \", len(prodotti_tracciati))"
   ]
  },
  {
   "cell_type": "markdown",
   "metadata": {},
   "source": [
    "# Dati non presi\n",
    "#### Alcuni dati non sono stati presi a causa della differente nomenclatura tra i datasets in particolare: \n",
    "- **Beet Sugar**\n",
    "- **Cane Sugar**\n",
    "- **Citrus Fruit**\n",
    "- **Fish (farmed)**\n",
    "- **Other Fruit**\n",
    "- **Other Pulses**\n",
    "- **Other Vegetable**\n",
    "- **Pig Meat**\n",
    "- **Sunflower Oil**\n",
    "\n",
    "#### Effettuerò delle modifiche alle nomenclature al fine di estrapolarli."
   ]
  },
  {
   "cell_type": "code",
   "execution_count": 791,
   "metadata": {},
   "outputs": [
    {
     "name": "stdout",
     "output_type": "stream",
     "text": [
      "Numero di prodotti tracciati:  6483\n"
     ]
    }
   ],
   "source": [
    "colonne_dict = {\n",
    "     'Beet Sugar': 'sugar beet',\n",
    "     'Cane Sugar': 'sugar cane',\n",
    "     'Citrus Fruit': 'citrus',\n",
    "     'Fish (farmed)': 'fish',\n",
    "     'Other Fruit': 'fruits, other',\n",
    "     'Other Pulses': 'pulses, other and product',\n",
    "     'Other Vegetables': 'vegetables, other',\n",
    "     'Pig Meat': 'pigmeat',\n",
    "     'Beef (beef herd)': 'bovine meat'\n",
    "}\n",
    "\n",
    "incrocio_dati(FAO_df, colonne_dict, prodotti_tracciati, colonne_interessate)\n",
    "print(\"Numero di prodotti tracciati: \", len(prodotti_tracciati))\n"
   ]
  },
  {
   "cell_type": "markdown",
   "metadata": {},
   "source": [
    "# Creazione del dataset "
   ]
  },
  {
   "cell_type": "code",
   "execution_count": 792,
   "metadata": {},
   "outputs": [
    {
     "data": {
      "text/html": [
       "<div>\n",
       "<style scoped>\n",
       "    .dataframe tbody tr th:only-of-type {\n",
       "        vertical-align: middle;\n",
       "    }\n",
       "\n",
       "    .dataframe tbody tr th {\n",
       "        vertical-align: top;\n",
       "    }\n",
       "\n",
       "    .dataframe thead th {\n",
       "        text-align: right;\n",
       "    }\n",
       "</style>\n",
       "<table border=\"1\" class=\"dataframe\">\n",
       "  <thead>\n",
       "    <tr style=\"text-align: right;\">\n",
       "      <th></th>\n",
       "      <th>Area Abbreviation</th>\n",
       "      <th>Area Code</th>\n",
       "      <th>Area</th>\n",
       "      <th>Item</th>\n",
       "      <th>Element</th>\n",
       "      <th>Unit</th>\n",
       "      <th>Y1961</th>\n",
       "      <th>Y1962</th>\n",
       "      <th>Y1963</th>\n",
       "      <th>Y1964</th>\n",
       "      <th>...</th>\n",
       "      <th>Y2005</th>\n",
       "      <th>Y2006</th>\n",
       "      <th>Y2007</th>\n",
       "      <th>Y2008</th>\n",
       "      <th>Y2009</th>\n",
       "      <th>Y2010</th>\n",
       "      <th>Y2011</th>\n",
       "      <th>Y2012</th>\n",
       "      <th>Y2013</th>\n",
       "      <th>Type</th>\n",
       "    </tr>\n",
       "  </thead>\n",
       "  <tbody>\n",
       "    <tr>\n",
       "      <th>0</th>\n",
       "      <td>AFG</td>\n",
       "      <td>2</td>\n",
       "      <td>Afghanistan</td>\n",
       "      <td>Wheat and products</td>\n",
       "      <td>Food</td>\n",
       "      <td>1000 tonnes</td>\n",
       "      <td>1928.0</td>\n",
       "      <td>1904.0</td>\n",
       "      <td>1666.0</td>\n",
       "      <td>1950.0</td>\n",
       "      <td>...</td>\n",
       "      <td>3486.0</td>\n",
       "      <td>3704.0</td>\n",
       "      <td>4164.0</td>\n",
       "      <td>4252.0</td>\n",
       "      <td>4538.0</td>\n",
       "      <td>4605.0</td>\n",
       "      <td>4711.0</td>\n",
       "      <td>4810</td>\n",
       "      <td>4895</td>\n",
       "      <td>Wheat</td>\n",
       "    </tr>\n",
       "    <tr>\n",
       "      <th>1</th>\n",
       "      <td>AFG</td>\n",
       "      <td>2</td>\n",
       "      <td>Afghanistan</td>\n",
       "      <td>Rice (Milled Equivalent)</td>\n",
       "      <td>Food</td>\n",
       "      <td>1000 tonnes</td>\n",
       "      <td>183.0</td>\n",
       "      <td>183.0</td>\n",
       "      <td>182.0</td>\n",
       "      <td>220.0</td>\n",
       "      <td>...</td>\n",
       "      <td>445.0</td>\n",
       "      <td>546.0</td>\n",
       "      <td>455.0</td>\n",
       "      <td>490.0</td>\n",
       "      <td>415.0</td>\n",
       "      <td>442.0</td>\n",
       "      <td>476.0</td>\n",
       "      <td>425</td>\n",
       "      <td>422</td>\n",
       "      <td>Rice</td>\n",
       "    </tr>\n",
       "    <tr>\n",
       "      <th>2</th>\n",
       "      <td>AFG</td>\n",
       "      <td>2</td>\n",
       "      <td>Afghanistan</td>\n",
       "      <td>Potatoes and products</td>\n",
       "      <td>Food</td>\n",
       "      <td>1000 tonnes</td>\n",
       "      <td>111.0</td>\n",
       "      <td>97.0</td>\n",
       "      <td>103.0</td>\n",
       "      <td>110.0</td>\n",
       "      <td>...</td>\n",
       "      <td>294.0</td>\n",
       "      <td>294.0</td>\n",
       "      <td>260.0</td>\n",
       "      <td>242.0</td>\n",
       "      <td>250.0</td>\n",
       "      <td>192.0</td>\n",
       "      <td>169.0</td>\n",
       "      <td>196</td>\n",
       "      <td>230</td>\n",
       "      <td>Potatoes</td>\n",
       "    </tr>\n",
       "    <tr>\n",
       "      <th>3</th>\n",
       "      <td>AFG</td>\n",
       "      <td>2</td>\n",
       "      <td>Afghanistan</td>\n",
       "      <td>Nuts and products</td>\n",
       "      <td>Food</td>\n",
       "      <td>1000 tonnes</td>\n",
       "      <td>2.0</td>\n",
       "      <td>3.0</td>\n",
       "      <td>1.0</td>\n",
       "      <td>1.0</td>\n",
       "      <td>...</td>\n",
       "      <td>13.0</td>\n",
       "      <td>24.0</td>\n",
       "      <td>34.0</td>\n",
       "      <td>42.0</td>\n",
       "      <td>28.0</td>\n",
       "      <td>66.0</td>\n",
       "      <td>71.0</td>\n",
       "      <td>70</td>\n",
       "      <td>44</td>\n",
       "      <td>Nuts</td>\n",
       "    </tr>\n",
       "    <tr>\n",
       "      <th>4</th>\n",
       "      <td>AFG</td>\n",
       "      <td>2</td>\n",
       "      <td>Afghanistan</td>\n",
       "      <td>Palm Oil</td>\n",
       "      <td>Food</td>\n",
       "      <td>1000 tonnes</td>\n",
       "      <td>0.0</td>\n",
       "      <td>0.0</td>\n",
       "      <td>0.0</td>\n",
       "      <td>0.0</td>\n",
       "      <td>...</td>\n",
       "      <td>69.0</td>\n",
       "      <td>56.0</td>\n",
       "      <td>51.0</td>\n",
       "      <td>36.0</td>\n",
       "      <td>53.0</td>\n",
       "      <td>59.0</td>\n",
       "      <td>51.0</td>\n",
       "      <td>61</td>\n",
       "      <td>64</td>\n",
       "      <td>Palm Oil</td>\n",
       "    </tr>\n",
       "  </tbody>\n",
       "</table>\n",
       "<p>5 rows × 60 columns</p>\n",
       "</div>"
      ],
      "text/plain": [
       "  Area Abbreviation  Area Code         Area                      Item Element  \\\n",
       "0               AFG          2  Afghanistan        Wheat and products    Food   \n",
       "1               AFG          2  Afghanistan  Rice (Milled Equivalent)    Food   \n",
       "2               AFG          2  Afghanistan     Potatoes and products    Food   \n",
       "3               AFG          2  Afghanistan         Nuts and products    Food   \n",
       "4               AFG          2  Afghanistan                  Palm Oil    Food   \n",
       "\n",
       "          Unit   Y1961   Y1962   Y1963   Y1964  ...   Y2005   Y2006   Y2007  \\\n",
       "0  1000 tonnes  1928.0  1904.0  1666.0  1950.0  ...  3486.0  3704.0  4164.0   \n",
       "1  1000 tonnes   183.0   183.0   182.0   220.0  ...   445.0   546.0   455.0   \n",
       "2  1000 tonnes   111.0    97.0   103.0   110.0  ...   294.0   294.0   260.0   \n",
       "3  1000 tonnes     2.0     3.0     1.0     1.0  ...    13.0    24.0    34.0   \n",
       "4  1000 tonnes     0.0     0.0     0.0     0.0  ...    69.0    56.0    51.0   \n",
       "\n",
       "    Y2008   Y2009   Y2010   Y2011  Y2012  Y2013      Type  \n",
       "0  4252.0  4538.0  4605.0  4711.0   4810   4895     Wheat  \n",
       "1   490.0   415.0   442.0   476.0    425    422      Rice  \n",
       "2   242.0   250.0   192.0   169.0    196    230  Potatoes  \n",
       "3    42.0    28.0    66.0    71.0     70     44      Nuts  \n",
       "4    36.0    53.0    59.0    51.0     61     64  Palm Oil  \n",
       "\n",
       "[5 rows x 60 columns]"
      ]
     },
     "execution_count": 792,
     "metadata": {},
     "output_type": "execute_result"
    }
   ],
   "source": [
    "prodotti_tracciati_df = FAO_df.iloc[prodotti_tracciati]\n",
    "prodotti_tracciati_df = prodotti_tracciati_df[FAO_df_colonne_interessate].reset_index().drop(columns=['index'])\n",
    "prodotti_tracciati_df.head()\n"
   ]
  },
  {
   "cell_type": "markdown",
   "metadata": {},
   "source": [
    "# Pulizia dei dati\n",
    "#### All'interno dei dati incrociati potremmo avere dei valori nulli che sporcano i dati, effettueremo quindi una pulizia dei dati. Verranno prima divisi per categoria e poi puliti."
   ]
  },
  {
   "cell_type": "code",
   "execution_count": 793,
   "metadata": {},
   "outputs": [
    {
     "name": "stdout",
     "output_type": "stream",
     "text": [
      "Totale di alimenti =  6306\n"
     ]
    },
    {
     "data": {
      "application/vnd.plotly.v1+json": {
       "config": {
        "plotlyServerURL": "https://plot.ly"
       },
       "data": [
        {
         "domain": {
          "x": [
           0,
           1
          ],
          "y": [
           0,
           1
          ]
         },
         "hovertemplate": "label=%{label}<br>value=%{value}<extra></extra>",
         "labels": [
          "Apples",
          "Bananas",
          "Sugar beet",
          "Sugar cane",
          "Cassava",
          "Citrus",
          "Coffee",
          "Eggs",
          "Fish",
          "Grapes",
          "Groundnuts",
          "Milk",
          "Mutton",
          "Nuts",
          "Olive Oil",
          "Onions",
          "Fruits, other",
          "Pulses, other and product",
          "Vegetables, other",
          "Palm Oil",
          "Peas",
          "Pigmeat",
          "Potatoes",
          "Poultry Meat",
          "Rice",
          "Tomatoes",
          "Wheat",
          "Wine"
         ],
         "legendgroup": "",
         "name": "",
         "showlegend": true,
         "type": "pie",
         "values": [
          194,
          186,
          66,
          87,
          225,
          155,
          174,
          360,
          762,
          173,
          170,
          558,
          176,
          173,
          174,
          167,
          185,
          255,
          258,
          124,
          196,
          169,
          254,
          175,
          273,
          175,
          273,
          169
         ]
        }
       ],
       "layout": {
        "legend": {
         "tracegroupgap": 0
        },
        "template": {
         "data": {
          "bar": [
           {
            "error_x": {
             "color": "#2a3f5f"
            },
            "error_y": {
             "color": "#2a3f5f"
            },
            "marker": {
             "line": {
              "color": "#E5ECF6",
              "width": 0.5
             },
             "pattern": {
              "fillmode": "overlay",
              "size": 10,
              "solidity": 0.2
             }
            },
            "type": "bar"
           }
          ],
          "barpolar": [
           {
            "marker": {
             "line": {
              "color": "#E5ECF6",
              "width": 0.5
             },
             "pattern": {
              "fillmode": "overlay",
              "size": 10,
              "solidity": 0.2
             }
            },
            "type": "barpolar"
           }
          ],
          "carpet": [
           {
            "aaxis": {
             "endlinecolor": "#2a3f5f",
             "gridcolor": "white",
             "linecolor": "white",
             "minorgridcolor": "white",
             "startlinecolor": "#2a3f5f"
            },
            "baxis": {
             "endlinecolor": "#2a3f5f",
             "gridcolor": "white",
             "linecolor": "white",
             "minorgridcolor": "white",
             "startlinecolor": "#2a3f5f"
            },
            "type": "carpet"
           }
          ],
          "choropleth": [
           {
            "colorbar": {
             "outlinewidth": 0,
             "ticks": ""
            },
            "type": "choropleth"
           }
          ],
          "contour": [
           {
            "colorbar": {
             "outlinewidth": 0,
             "ticks": ""
            },
            "colorscale": [
             [
              0,
              "#0d0887"
             ],
             [
              0.1111111111111111,
              "#46039f"
             ],
             [
              0.2222222222222222,
              "#7201a8"
             ],
             [
              0.3333333333333333,
              "#9c179e"
             ],
             [
              0.4444444444444444,
              "#bd3786"
             ],
             [
              0.5555555555555556,
              "#d8576b"
             ],
             [
              0.6666666666666666,
              "#ed7953"
             ],
             [
              0.7777777777777778,
              "#fb9f3a"
             ],
             [
              0.8888888888888888,
              "#fdca26"
             ],
             [
              1,
              "#f0f921"
             ]
            ],
            "type": "contour"
           }
          ],
          "contourcarpet": [
           {
            "colorbar": {
             "outlinewidth": 0,
             "ticks": ""
            },
            "type": "contourcarpet"
           }
          ],
          "heatmap": [
           {
            "colorbar": {
             "outlinewidth": 0,
             "ticks": ""
            },
            "colorscale": [
             [
              0,
              "#0d0887"
             ],
             [
              0.1111111111111111,
              "#46039f"
             ],
             [
              0.2222222222222222,
              "#7201a8"
             ],
             [
              0.3333333333333333,
              "#9c179e"
             ],
             [
              0.4444444444444444,
              "#bd3786"
             ],
             [
              0.5555555555555556,
              "#d8576b"
             ],
             [
              0.6666666666666666,
              "#ed7953"
             ],
             [
              0.7777777777777778,
              "#fb9f3a"
             ],
             [
              0.8888888888888888,
              "#fdca26"
             ],
             [
              1,
              "#f0f921"
             ]
            ],
            "type": "heatmap"
           }
          ],
          "heatmapgl": [
           {
            "colorbar": {
             "outlinewidth": 0,
             "ticks": ""
            },
            "colorscale": [
             [
              0,
              "#0d0887"
             ],
             [
              0.1111111111111111,
              "#46039f"
             ],
             [
              0.2222222222222222,
              "#7201a8"
             ],
             [
              0.3333333333333333,
              "#9c179e"
             ],
             [
              0.4444444444444444,
              "#bd3786"
             ],
             [
              0.5555555555555556,
              "#d8576b"
             ],
             [
              0.6666666666666666,
              "#ed7953"
             ],
             [
              0.7777777777777778,
              "#fb9f3a"
             ],
             [
              0.8888888888888888,
              "#fdca26"
             ],
             [
              1,
              "#f0f921"
             ]
            ],
            "type": "heatmapgl"
           }
          ],
          "histogram": [
           {
            "marker": {
             "pattern": {
              "fillmode": "overlay",
              "size": 10,
              "solidity": 0.2
             }
            },
            "type": "histogram"
           }
          ],
          "histogram2d": [
           {
            "colorbar": {
             "outlinewidth": 0,
             "ticks": ""
            },
            "colorscale": [
             [
              0,
              "#0d0887"
             ],
             [
              0.1111111111111111,
              "#46039f"
             ],
             [
              0.2222222222222222,
              "#7201a8"
             ],
             [
              0.3333333333333333,
              "#9c179e"
             ],
             [
              0.4444444444444444,
              "#bd3786"
             ],
             [
              0.5555555555555556,
              "#d8576b"
             ],
             [
              0.6666666666666666,
              "#ed7953"
             ],
             [
              0.7777777777777778,
              "#fb9f3a"
             ],
             [
              0.8888888888888888,
              "#fdca26"
             ],
             [
              1,
              "#f0f921"
             ]
            ],
            "type": "histogram2d"
           }
          ],
          "histogram2dcontour": [
           {
            "colorbar": {
             "outlinewidth": 0,
             "ticks": ""
            },
            "colorscale": [
             [
              0,
              "#0d0887"
             ],
             [
              0.1111111111111111,
              "#46039f"
             ],
             [
              0.2222222222222222,
              "#7201a8"
             ],
             [
              0.3333333333333333,
              "#9c179e"
             ],
             [
              0.4444444444444444,
              "#bd3786"
             ],
             [
              0.5555555555555556,
              "#d8576b"
             ],
             [
              0.6666666666666666,
              "#ed7953"
             ],
             [
              0.7777777777777778,
              "#fb9f3a"
             ],
             [
              0.8888888888888888,
              "#fdca26"
             ],
             [
              1,
              "#f0f921"
             ]
            ],
            "type": "histogram2dcontour"
           }
          ],
          "mesh3d": [
           {
            "colorbar": {
             "outlinewidth": 0,
             "ticks": ""
            },
            "type": "mesh3d"
           }
          ],
          "parcoords": [
           {
            "line": {
             "colorbar": {
              "outlinewidth": 0,
              "ticks": ""
             }
            },
            "type": "parcoords"
           }
          ],
          "pie": [
           {
            "automargin": true,
            "type": "pie"
           }
          ],
          "scatter": [
           {
            "fillpattern": {
             "fillmode": "overlay",
             "size": 10,
             "solidity": 0.2
            },
            "type": "scatter"
           }
          ],
          "scatter3d": [
           {
            "line": {
             "colorbar": {
              "outlinewidth": 0,
              "ticks": ""
             }
            },
            "marker": {
             "colorbar": {
              "outlinewidth": 0,
              "ticks": ""
             }
            },
            "type": "scatter3d"
           }
          ],
          "scattercarpet": [
           {
            "marker": {
             "colorbar": {
              "outlinewidth": 0,
              "ticks": ""
             }
            },
            "type": "scattercarpet"
           }
          ],
          "scattergeo": [
           {
            "marker": {
             "colorbar": {
              "outlinewidth": 0,
              "ticks": ""
             }
            },
            "type": "scattergeo"
           }
          ],
          "scattergl": [
           {
            "marker": {
             "colorbar": {
              "outlinewidth": 0,
              "ticks": ""
             }
            },
            "type": "scattergl"
           }
          ],
          "scattermapbox": [
           {
            "marker": {
             "colorbar": {
              "outlinewidth": 0,
              "ticks": ""
             }
            },
            "type": "scattermapbox"
           }
          ],
          "scatterpolar": [
           {
            "marker": {
             "colorbar": {
              "outlinewidth": 0,
              "ticks": ""
             }
            },
            "type": "scatterpolar"
           }
          ],
          "scatterpolargl": [
           {
            "marker": {
             "colorbar": {
              "outlinewidth": 0,
              "ticks": ""
             }
            },
            "type": "scatterpolargl"
           }
          ],
          "scatterternary": [
           {
            "marker": {
             "colorbar": {
              "outlinewidth": 0,
              "ticks": ""
             }
            },
            "type": "scatterternary"
           }
          ],
          "surface": [
           {
            "colorbar": {
             "outlinewidth": 0,
             "ticks": ""
            },
            "colorscale": [
             [
              0,
              "#0d0887"
             ],
             [
              0.1111111111111111,
              "#46039f"
             ],
             [
              0.2222222222222222,
              "#7201a8"
             ],
             [
              0.3333333333333333,
              "#9c179e"
             ],
             [
              0.4444444444444444,
              "#bd3786"
             ],
             [
              0.5555555555555556,
              "#d8576b"
             ],
             [
              0.6666666666666666,
              "#ed7953"
             ],
             [
              0.7777777777777778,
              "#fb9f3a"
             ],
             [
              0.8888888888888888,
              "#fdca26"
             ],
             [
              1,
              "#f0f921"
             ]
            ],
            "type": "surface"
           }
          ],
          "table": [
           {
            "cells": {
             "fill": {
              "color": "#EBF0F8"
             },
             "line": {
              "color": "white"
             }
            },
            "header": {
             "fill": {
              "color": "#C8D4E3"
             },
             "line": {
              "color": "white"
             }
            },
            "type": "table"
           }
          ]
         },
         "layout": {
          "annotationdefaults": {
           "arrowcolor": "#2a3f5f",
           "arrowhead": 0,
           "arrowwidth": 1
          },
          "autotypenumbers": "strict",
          "coloraxis": {
           "colorbar": {
            "outlinewidth": 0,
            "ticks": ""
           }
          },
          "colorscale": {
           "diverging": [
            [
             0,
             "#8e0152"
            ],
            [
             0.1,
             "#c51b7d"
            ],
            [
             0.2,
             "#de77ae"
            ],
            [
             0.3,
             "#f1b6da"
            ],
            [
             0.4,
             "#fde0ef"
            ],
            [
             0.5,
             "#f7f7f7"
            ],
            [
             0.6,
             "#e6f5d0"
            ],
            [
             0.7,
             "#b8e186"
            ],
            [
             0.8,
             "#7fbc41"
            ],
            [
             0.9,
             "#4d9221"
            ],
            [
             1,
             "#276419"
            ]
           ],
           "sequential": [
            [
             0,
             "#0d0887"
            ],
            [
             0.1111111111111111,
             "#46039f"
            ],
            [
             0.2222222222222222,
             "#7201a8"
            ],
            [
             0.3333333333333333,
             "#9c179e"
            ],
            [
             0.4444444444444444,
             "#bd3786"
            ],
            [
             0.5555555555555556,
             "#d8576b"
            ],
            [
             0.6666666666666666,
             "#ed7953"
            ],
            [
             0.7777777777777778,
             "#fb9f3a"
            ],
            [
             0.8888888888888888,
             "#fdca26"
            ],
            [
             1,
             "#f0f921"
            ]
           ],
           "sequentialminus": [
            [
             0,
             "#0d0887"
            ],
            [
             0.1111111111111111,
             "#46039f"
            ],
            [
             0.2222222222222222,
             "#7201a8"
            ],
            [
             0.3333333333333333,
             "#9c179e"
            ],
            [
             0.4444444444444444,
             "#bd3786"
            ],
            [
             0.5555555555555556,
             "#d8576b"
            ],
            [
             0.6666666666666666,
             "#ed7953"
            ],
            [
             0.7777777777777778,
             "#fb9f3a"
            ],
            [
             0.8888888888888888,
             "#fdca26"
            ],
            [
             1,
             "#f0f921"
            ]
           ]
          },
          "colorway": [
           "#636efa",
           "#EF553B",
           "#00cc96",
           "#ab63fa",
           "#FFA15A",
           "#19d3f3",
           "#FF6692",
           "#B6E880",
           "#FF97FF",
           "#FECB52"
          ],
          "font": {
           "color": "#2a3f5f"
          },
          "geo": {
           "bgcolor": "white",
           "lakecolor": "white",
           "landcolor": "#E5ECF6",
           "showlakes": true,
           "showland": true,
           "subunitcolor": "white"
          },
          "hoverlabel": {
           "align": "left"
          },
          "hovermode": "closest",
          "mapbox": {
           "style": "light"
          },
          "paper_bgcolor": "white",
          "plot_bgcolor": "#E5ECF6",
          "polar": {
           "angularaxis": {
            "gridcolor": "white",
            "linecolor": "white",
            "ticks": ""
           },
           "bgcolor": "#E5ECF6",
           "radialaxis": {
            "gridcolor": "white",
            "linecolor": "white",
            "ticks": ""
           }
          },
          "scene": {
           "xaxis": {
            "backgroundcolor": "#E5ECF6",
            "gridcolor": "white",
            "gridwidth": 2,
            "linecolor": "white",
            "showbackground": true,
            "ticks": "",
            "zerolinecolor": "white"
           },
           "yaxis": {
            "backgroundcolor": "#E5ECF6",
            "gridcolor": "white",
            "gridwidth": 2,
            "linecolor": "white",
            "showbackground": true,
            "ticks": "",
            "zerolinecolor": "white"
           },
           "zaxis": {
            "backgroundcolor": "#E5ECF6",
            "gridcolor": "white",
            "gridwidth": 2,
            "linecolor": "white",
            "showbackground": true,
            "ticks": "",
            "zerolinecolor": "white"
           }
          },
          "shapedefaults": {
           "line": {
            "color": "#2a3f5f"
           }
          },
          "ternary": {
           "aaxis": {
            "gridcolor": "white",
            "linecolor": "white",
            "ticks": ""
           },
           "baxis": {
            "gridcolor": "white",
            "linecolor": "white",
            "ticks": ""
           },
           "bgcolor": "#E5ECF6",
           "caxis": {
            "gridcolor": "white",
            "linecolor": "white",
            "ticks": ""
           }
          },
          "title": {
           "x": 0.05
          },
          "xaxis": {
           "automargin": true,
           "gridcolor": "white",
           "linecolor": "white",
           "ticks": "",
           "title": {
            "standoff": 15
           },
           "zerolinecolor": "white",
           "zerolinewidth": 2
          },
          "yaxis": {
           "automargin": true,
           "gridcolor": "white",
           "linecolor": "white",
           "ticks": "",
           "title": {
            "standoff": 15
           },
           "zerolinecolor": "white",
           "zerolinewidth": 2
          }
         }
        },
        "title": {
         "text": "Alimenti tracciati"
        }
       }
      }
     },
     "metadata": {},
     "output_type": "display_data"
    }
   ],
   "source": [
    "# Dizionario alimento => sub_df\n",
    "alimenti_dict = dict()\n",
    "keys = cibi.to_list()\n",
    "\n",
    "for i in range(len(keys)):\n",
    "     if keys[i] in colonne_dict.keys():\n",
    "          keys[i] = colonne_dict[keys[i]].capitalize()\n",
    "\n",
    "# Assegnazione delle chiavi a delle liste vuote\n",
    "for key in keys:\n",
    "     alimenti_dict[key] = list()\n",
    "\n",
    "# Divisione dei record in base all'alimento\n",
    "for index, record in prodotti_tracciati_df.iterrows():\n",
    "     for key in keys:\n",
    "          if record[\"Item\"].lower().startswith(key.lower()) and index not in alimenti_dict[key]:\n",
    "               alimenti_dict[key].append(index)\n",
    "\n",
    "# Cerco le categorie vuote\n",
    "prodotti_vuoti = []\n",
    "for key in alimenti_dict.keys():\n",
    "     if len(alimenti_dict[key]) == 0:\n",
    "          prodotti_vuoti.append(key)\n",
    "\n",
    "# Elimino le categorie di prodotto che hanno una lista di lunghezza 0\n",
    "for prodotto_vuoto in prodotti_vuoti:\n",
    "     alimenti_dict.pop(prodotto_vuoto, None)\n",
    "alimenti_dict.keys()\n",
    "\n",
    "alimenti_trovati = list(alimenti_dict.keys())\n",
    "alimenti_quantita = [len(alimenti_dict[alimenti]) for alimenti in alimenti_trovati]\n",
    "color_palette = sns.color_palette('bright')[0:len(alimenti_trovati) - 1]\n",
    "\n",
    "print(\"Totale di alimenti = \", sum(alimenti_quantita))\n",
    "fig = px.pie(values=alimenti_quantita, names=alimenti_trovati, title='Alimenti tracciati')\n",
    "fig.show()"
   ]
  },
  {
   "cell_type": "markdown",
   "metadata": {},
   "source": [
    "# Effettuo la pulizia dati\n",
    "### Elimino le righe cha hanno valori nulli.  "
   ]
  },
  {
   "cell_type": "code",
   "execution_count": 794,
   "metadata": {},
   "outputs": [],
   "source": [
    "indici_da_eliminare = list()\n",
    "\n",
    "for key in alimenti_dict.keys():\n",
    "     for index in alimenti_dict[key]:\n",
    "          if not prodotti_tracciati_df.iloc[index][\"Item\"].lower().startswith(key.lower()):\n",
    "               indici_da_eliminare.append(int(index))\n",
    "\n",
    "# Pulizia degli indici\n",
    "for indice_da_eliminare in indici_da_eliminare:\n",
    "     if indice_da_eliminare in prodotti_tracciati:\n",
    "          prodotti_tracciati.remove(indice_da_eliminare)\n",
    "\n",
    "prodotti_tracciati_df = FAO_df.iloc[prodotti_tracciati]\n",
    "prodotti_tracciati_df = prodotti_tracciati_df[FAO_df_colonne_interessate].reset_index()\n",
    "prodotti_tracciati_df = prodotti_tracciati_df.dropna().reset_index()\n",
    "prodotti_tracciati_df.drop(columns=[\"level_0\", \"index\"], inplace=True)\n",
    "prodotti_tracciati_df[\"Prod. 1961 - 2013\"] = prodotti_tracciati_df[[f\"Y{i}\" for i in range(1961, 2014)]].sum(axis=1) * 1000 # Trasformazione in tonnellate\n",
    "cond = prodotti_tracciati_df[\"Prod. 1961 - 2013\"] != 0\n",
    "prodotti_tracciati_df = prodotti_tracciati_df[cond]"
   ]
  },
  {
   "cell_type": "markdown",
   "metadata": {},
   "source": [
    "# Esplorazione dei dati\n",
    "#### Come primo step esplorativo andremo a vedere cosa viene prodotto in quantita' maggiore tra mangimi(Feed) e cibo(Food) in media dal 1961 al 2013."
   ]
  },
  {
   "cell_type": "code",
   "execution_count": 795,
   "metadata": {},
   "outputs": [
    {
     "name": "stdout",
     "output_type": "stream",
     "text": [
      "Cibo prodotto dal 1960 al 2013:  31890.85144464331\n",
      "Mangime prodotto dal 1960 al 2013:  20897.416164053076\n"
     ]
    },
    {
     "data": {
      "text/html": [
       "<div>\n",
       "<style scoped>\n",
       "    .dataframe tbody tr th:only-of-type {\n",
       "        vertical-align: middle;\n",
       "    }\n",
       "\n",
       "    .dataframe tbody tr th {\n",
       "        vertical-align: top;\n",
       "    }\n",
       "\n",
       "    .dataframe thead th {\n",
       "        text-align: right;\n",
       "    }\n",
       "</style>\n",
       "<table border=\"1\" class=\"dataframe\">\n",
       "  <thead>\n",
       "    <tr style=\"text-align: right;\">\n",
       "      <th></th>\n",
       "      <th>Y1961</th>\n",
       "      <th>Y1962</th>\n",
       "      <th>Y1963</th>\n",
       "      <th>Y1964</th>\n",
       "      <th>Y1965</th>\n",
       "      <th>Y1966</th>\n",
       "      <th>Y1967</th>\n",
       "      <th>Y1968</th>\n",
       "      <th>Y1969</th>\n",
       "      <th>Y1970</th>\n",
       "      <th>...</th>\n",
       "      <th>Y2004</th>\n",
       "      <th>Y2005</th>\n",
       "      <th>Y2006</th>\n",
       "      <th>Y2007</th>\n",
       "      <th>Y2008</th>\n",
       "      <th>Y2009</th>\n",
       "      <th>Y2010</th>\n",
       "      <th>Y2011</th>\n",
       "      <th>Y2012</th>\n",
       "      <th>Y2013</th>\n",
       "    </tr>\n",
       "    <tr>\n",
       "      <th>Element</th>\n",
       "      <th></th>\n",
       "      <th></th>\n",
       "      <th></th>\n",
       "      <th></th>\n",
       "      <th></th>\n",
       "      <th></th>\n",
       "      <th></th>\n",
       "      <th></th>\n",
       "      <th></th>\n",
       "      <th></th>\n",
       "      <th></th>\n",
       "      <th></th>\n",
       "      <th></th>\n",
       "      <th></th>\n",
       "      <th></th>\n",
       "      <th></th>\n",
       "      <th></th>\n",
       "      <th></th>\n",
       "      <th></th>\n",
       "      <th></th>\n",
       "      <th></th>\n",
       "    </tr>\n",
       "  </thead>\n",
       "  <tbody>\n",
       "    <tr>\n",
       "      <th>Feed</th>\n",
       "      <td>306.495778</td>\n",
       "      <td>312.610374</td>\n",
       "      <td>322.412545</td>\n",
       "      <td>329.761158</td>\n",
       "      <td>328.675513</td>\n",
       "      <td>342.454765</td>\n",
       "      <td>338.193004</td>\n",
       "      <td>365.063932</td>\n",
       "      <td>362.295537</td>\n",
       "      <td>352.369119</td>\n",
       "      <td>...</td>\n",
       "      <td>457.699638</td>\n",
       "      <td>454.934861</td>\n",
       "      <td>468.605549</td>\n",
       "      <td>467.661037</td>\n",
       "      <td>490.710495</td>\n",
       "      <td>501.890229</td>\n",
       "      <td>505.241255</td>\n",
       "      <td>553.435464</td>\n",
       "      <td>557.232811</td>\n",
       "      <td>568.977081</td>\n",
       "    </tr>\n",
       "    <tr>\n",
       "      <th>Food</th>\n",
       "      <td>292.129890</td>\n",
       "      <td>297.916134</td>\n",
       "      <td>305.809512</td>\n",
       "      <td>313.248018</td>\n",
       "      <td>321.925339</td>\n",
       "      <td>329.274866</td>\n",
       "      <td>334.969573</td>\n",
       "      <td>347.122475</td>\n",
       "      <td>353.654053</td>\n",
       "      <td>361.072360</td>\n",
       "      <td>...</td>\n",
       "      <td>865.456405</td>\n",
       "      <td>886.113782</td>\n",
       "      <td>907.593710</td>\n",
       "      <td>935.982102</td>\n",
       "      <td>957.513168</td>\n",
       "      <td>975.363334</td>\n",
       "      <td>1000.261059</td>\n",
       "      <td>1025.631041</td>\n",
       "      <td>1050.720020</td>\n",
       "      <td>1064.981335</td>\n",
       "    </tr>\n",
       "  </tbody>\n",
       "</table>\n",
       "<p>2 rows × 53 columns</p>\n",
       "</div>"
      ],
      "text/plain": [
       "              Y1961       Y1962       Y1963       Y1964       Y1965  \\\n",
       "Element                                                               \n",
       "Feed     306.495778  312.610374  322.412545  329.761158  328.675513   \n",
       "Food     292.129890  297.916134  305.809512  313.248018  321.925339   \n",
       "\n",
       "              Y1966       Y1967       Y1968       Y1969       Y1970  ...  \\\n",
       "Element                                                              ...   \n",
       "Feed     342.454765  338.193004  365.063932  362.295537  352.369119  ...   \n",
       "Food     329.274866  334.969573  347.122475  353.654053  361.072360  ...   \n",
       "\n",
       "              Y2004       Y2005       Y2006       Y2007       Y2008  \\\n",
       "Element                                                               \n",
       "Feed     457.699638  454.934861  468.605549  467.661037  490.710495   \n",
       "Food     865.456405  886.113782  907.593710  935.982102  957.513168   \n",
       "\n",
       "              Y2009        Y2010        Y2011        Y2012        Y2013  \n",
       "Element                                                                  \n",
       "Feed     501.890229   505.241255   553.435464   557.232811   568.977081  \n",
       "Food     975.363334  1000.261059  1025.631041  1050.720020  1064.981335  \n",
       "\n",
       "[2 rows x 53 columns]"
      ]
     },
     "execution_count": 795,
     "metadata": {},
     "output_type": "execute_result"
    }
   ],
   "source": [
    "cibi_mangimi = prodotti_tracciati_df.groupby(\"Element\")[[f\"Y{i}\" for i in range(1961, 2014)]].mean()\n",
    "print(\"Cibo prodotto dal 1960 al 2013: \", cibi_mangimi.iloc[1].sum())\n",
    "print(\"Mangime prodotto dal 1960 al 2013: \", cibi_mangimi.iloc[0].sum())\n",
    "cibi_mangimi\n"
   ]
  },
  {
   "cell_type": "markdown",
   "metadata": {},
   "source": [
    "# Anno di maggiore produzione di cibi e mangimi\n",
    "#### Tutti i valori vanno moltiplicati per 1000"
   ]
  },
  {
   "cell_type": "code",
   "execution_count": 796,
   "metadata": {},
   "outputs": [
    {
     "name": "stdout",
     "output_type": "stream",
     "text": [
      "568977.0808202655  tonnellate di mangime nell'anno 2013\n",
      "1064981.3346970084 tonnellate di cibo nell'anno 2013\n"
     ]
    }
   ],
   "source": [
    "magimi_max_produzione = cibi_mangimi.loc[\"Feed\"].max()\n",
    "cibo_max_produzione = cibi_mangimi.loc[\"Food\"].max()\n",
    "print(cibi_mangimi.loc[\"Feed\"].max() * 1000, \" tonnellate di mangime nell'anno\", cibi_mangimi.idxmax(axis=1)[0].split(\"Y\")[1])\n",
    "print(cibi_mangimi.loc[\"Food\"].max() * 1000, \"tonnellate di cibo nell'anno\", cibi_mangimi.idxmax(axis=1)[1].split(\"Y\")[1])"
   ]
  },
  {
   "cell_type": "markdown",
   "metadata": {},
   "source": [
    "#### I valori più elevati corrispondono con il 2013 che è anche l'ultimo anno a disposizione.\n",
    "# Cibi\n",
    "#### Vedremo l'aumento della produzione di cibi anno per anno, ogni colonna ci dice di quanto è aumentata la produzione rispetto all'anno precedente."
   ]
  },
  {
   "cell_type": "code",
   "execution_count": 797,
   "metadata": {},
   "outputs": [
    {
     "name": "stdout",
     "output_type": "stream",
     "text": [
      "Incremento annuo medio della produzione di cibo = 14862.527781602186 tonnellate\n"
     ]
    },
    {
     "data": {
      "text/html": [
       "<div>\n",
       "<style scoped>\n",
       "    .dataframe tbody tr th:only-of-type {\n",
       "        vertical-align: middle;\n",
       "    }\n",
       "\n",
       "    .dataframe tbody tr th {\n",
       "        vertical-align: top;\n",
       "    }\n",
       "\n",
       "    .dataframe thead th {\n",
       "        text-align: right;\n",
       "    }\n",
       "</style>\n",
       "<table border=\"1\" class=\"dataframe\">\n",
       "  <thead>\n",
       "    <tr style=\"text-align: right;\">\n",
       "      <th></th>\n",
       "      <th>Y1961/Y1962</th>\n",
       "      <th>Y1962/Y1963</th>\n",
       "      <th>Y1963/Y1964</th>\n",
       "      <th>Y1964/Y1965</th>\n",
       "      <th>Y1965/Y1966</th>\n",
       "      <th>Y1966/Y1967</th>\n",
       "      <th>Y1967/Y1968</th>\n",
       "      <th>Y1968/Y1969</th>\n",
       "      <th>Y1969/Y1970</th>\n",
       "      <th>Y1970/Y1971</th>\n",
       "      <th>...</th>\n",
       "      <th>Y2003/Y2004</th>\n",
       "      <th>Y2004/Y2005</th>\n",
       "      <th>Y2005/Y2006</th>\n",
       "      <th>Y2006/Y2007</th>\n",
       "      <th>Y2007/Y2008</th>\n",
       "      <th>Y2008/Y2009</th>\n",
       "      <th>Y2009/Y2010</th>\n",
       "      <th>Y2010/Y2011</th>\n",
       "      <th>Y2011/Y2012</th>\n",
       "      <th>Y2012/Y2013</th>\n",
       "    </tr>\n",
       "  </thead>\n",
       "  <tbody>\n",
       "    <tr>\n",
       "      <th>0</th>\n",
       "      <td>5786.243927</td>\n",
       "      <td>7893.377653</td>\n",
       "      <td>7438.506776</td>\n",
       "      <td>8677.320378</td>\n",
       "      <td>7349.526975</td>\n",
       "      <td>5694.707236</td>\n",
       "      <td>12152.902071</td>\n",
       "      <td>6531.577602</td>\n",
       "      <td>7418.307338</td>\n",
       "      <td>7535.157249</td>\n",
       "      <td>...</td>\n",
       "      <td>19188.954232</td>\n",
       "      <td>20657.37663</td>\n",
       "      <td>21479.928407</td>\n",
       "      <td>28388.391716</td>\n",
       "      <td>21531.066223</td>\n",
       "      <td>17850.166198</td>\n",
       "      <td>24897.724367</td>\n",
       "      <td>25369.982102</td>\n",
       "      <td>25088.979801</td>\n",
       "      <td>14261.314242</td>\n",
       "    </tr>\n",
       "  </tbody>\n",
       "</table>\n",
       "<p>1 rows × 52 columns</p>\n",
       "</div>"
      ],
      "text/plain": [
       "   Y1961/Y1962  Y1962/Y1963  Y1963/Y1964  Y1964/Y1965  Y1965/Y1966  \\\n",
       "0  5786.243927  7893.377653  7438.506776  8677.320378  7349.526975   \n",
       "\n",
       "   Y1966/Y1967   Y1967/Y1968  Y1968/Y1969  Y1969/Y1970  Y1970/Y1971  ...  \\\n",
       "0  5694.707236  12152.902071  6531.577602  7418.307338  7535.157249  ...   \n",
       "\n",
       "    Y2003/Y2004  Y2004/Y2005   Y2005/Y2006   Y2006/Y2007   Y2007/Y2008  \\\n",
       "0  19188.954232  20657.37663  21479.928407  28388.391716  21531.066223   \n",
       "\n",
       "    Y2008/Y2009   Y2009/Y2010   Y2010/Y2011   Y2011/Y2012   Y2012/Y2013  \n",
       "0  17850.166198  24897.724367  25369.982102  25088.979801  14261.314242  \n",
       "\n",
       "[1 rows x 52 columns]"
      ]
     },
     "execution_count": 797,
     "metadata": {},
     "output_type": "execute_result"
    }
   ],
   "source": [
    "Food = cibi_mangimi.loc[\"Food\"]\n",
    "\n",
    "Food_yearly_increment = [abs(Food[f\"Y{i}\"] - Food[f\"Y{i+1}\"]) for i in range(1961, 2014) if i + 1 < 2014]\n",
    "Food_yearly_increment_df = pd.DataFrame()\n",
    "for i in range(1961, 2014):\n",
    "     if i+1 < 2014:\n",
    "          Food_yearly_increment_df[f\"Y{i}/Y{i+1}\"] = pd.Series(Food_yearly_increment[abs(1961 - i)])\n",
    "\n",
    "print(f\"Incremento annuo medio della produzione di cibo = {Food_yearly_increment_df.iloc[0].mean() * 1000} tonnellate\")\n",
    "Food_yearly_increment_df = Food_yearly_increment_df * 1000\n",
    "Food_yearly_increment_df"
   ]
  },
  {
   "cell_type": "markdown",
   "metadata": {},
   "source": [
    "# Mangimi\n",
    "#### Ogni colonna ci dice di quanto è aumentata la produzione rispetto all'anno precedente"
   ]
  },
  {
   "cell_type": "code",
   "execution_count": 798,
   "metadata": {},
   "outputs": [
    {
     "name": "stdout",
     "output_type": "stream",
     "text": [
      "Incremento annuo medio della produzione di mangimi = 11787.02329034054 tonnellate\n"
     ]
    },
    {
     "data": {
      "text/html": [
       "<div>\n",
       "<style scoped>\n",
       "    .dataframe tbody tr th:only-of-type {\n",
       "        vertical-align: middle;\n",
       "    }\n",
       "\n",
       "    .dataframe tbody tr th {\n",
       "        vertical-align: top;\n",
       "    }\n",
       "\n",
       "    .dataframe thead th {\n",
       "        text-align: right;\n",
       "    }\n",
       "</style>\n",
       "<table border=\"1\" class=\"dataframe\">\n",
       "  <thead>\n",
       "    <tr style=\"text-align: right;\">\n",
       "      <th></th>\n",
       "      <th>Area Abbreviation</th>\n",
       "      <th>Area Code</th>\n",
       "      <th>Area</th>\n",
       "      <th>Item</th>\n",
       "      <th>Element</th>\n",
       "      <th>Unit</th>\n",
       "      <th>Y1961</th>\n",
       "      <th>Y1962</th>\n",
       "      <th>Y1963</th>\n",
       "      <th>Y1964</th>\n",
       "      <th>...</th>\n",
       "      <th>Y2006</th>\n",
       "      <th>Y2007</th>\n",
       "      <th>Y2008</th>\n",
       "      <th>Y2009</th>\n",
       "      <th>Y2010</th>\n",
       "      <th>Y2011</th>\n",
       "      <th>Y2012</th>\n",
       "      <th>Y2013</th>\n",
       "      <th>Type</th>\n",
       "      <th>Prod. 1961 - 2013</th>\n",
       "    </tr>\n",
       "  </thead>\n",
       "  <tbody>\n",
       "    <tr>\n",
       "      <th>0</th>\n",
       "      <td>AFG</td>\n",
       "      <td>2</td>\n",
       "      <td>Afghanistan</td>\n",
       "      <td>Wheat and products</td>\n",
       "      <td>Food</td>\n",
       "      <td>1000 tonnes</td>\n",
       "      <td>1928.0</td>\n",
       "      <td>1904.0</td>\n",
       "      <td>1666.0</td>\n",
       "      <td>1950.0</td>\n",
       "      <td>...</td>\n",
       "      <td>3704.0</td>\n",
       "      <td>4164.0</td>\n",
       "      <td>4252.0</td>\n",
       "      <td>4538.0</td>\n",
       "      <td>4605.0</td>\n",
       "      <td>4711.0</td>\n",
       "      <td>4810</td>\n",
       "      <td>4895</td>\n",
       "      <td>Wheat</td>\n",
       "      <td>132926000.0</td>\n",
       "    </tr>\n",
       "    <tr>\n",
       "      <th>1</th>\n",
       "      <td>AFG</td>\n",
       "      <td>2</td>\n",
       "      <td>Afghanistan</td>\n",
       "      <td>Rice (Milled Equivalent)</td>\n",
       "      <td>Food</td>\n",
       "      <td>1000 tonnes</td>\n",
       "      <td>183.0</td>\n",
       "      <td>183.0</td>\n",
       "      <td>182.0</td>\n",
       "      <td>220.0</td>\n",
       "      <td>...</td>\n",
       "      <td>546.0</td>\n",
       "      <td>455.0</td>\n",
       "      <td>490.0</td>\n",
       "      <td>415.0</td>\n",
       "      <td>442.0</td>\n",
       "      <td>476.0</td>\n",
       "      <td>425</td>\n",
       "      <td>422</td>\n",
       "      <td>Rice</td>\n",
       "      <td>15282000.0</td>\n",
       "    </tr>\n",
       "    <tr>\n",
       "      <th>2</th>\n",
       "      <td>AFG</td>\n",
       "      <td>2</td>\n",
       "      <td>Afghanistan</td>\n",
       "      <td>Potatoes and products</td>\n",
       "      <td>Food</td>\n",
       "      <td>1000 tonnes</td>\n",
       "      <td>111.0</td>\n",
       "      <td>97.0</td>\n",
       "      <td>103.0</td>\n",
       "      <td>110.0</td>\n",
       "      <td>...</td>\n",
       "      <td>294.0</td>\n",
       "      <td>260.0</td>\n",
       "      <td>242.0</td>\n",
       "      <td>250.0</td>\n",
       "      <td>192.0</td>\n",
       "      <td>169.0</td>\n",
       "      <td>196</td>\n",
       "      <td>230</td>\n",
       "      <td>Potatoes</td>\n",
       "      <td>10625000.0</td>\n",
       "    </tr>\n",
       "    <tr>\n",
       "      <th>3</th>\n",
       "      <td>AFG</td>\n",
       "      <td>2</td>\n",
       "      <td>Afghanistan</td>\n",
       "      <td>Nuts and products</td>\n",
       "      <td>Food</td>\n",
       "      <td>1000 tonnes</td>\n",
       "      <td>2.0</td>\n",
       "      <td>3.0</td>\n",
       "      <td>1.0</td>\n",
       "      <td>1.0</td>\n",
       "      <td>...</td>\n",
       "      <td>24.0</td>\n",
       "      <td>34.0</td>\n",
       "      <td>42.0</td>\n",
       "      <td>28.0</td>\n",
       "      <td>66.0</td>\n",
       "      <td>71.0</td>\n",
       "      <td>70</td>\n",
       "      <td>44</td>\n",
       "      <td>Nuts</td>\n",
       "      <td>808000.0</td>\n",
       "    </tr>\n",
       "    <tr>\n",
       "      <th>4</th>\n",
       "      <td>AFG</td>\n",
       "      <td>2</td>\n",
       "      <td>Afghanistan</td>\n",
       "      <td>Palm Oil</td>\n",
       "      <td>Food</td>\n",
       "      <td>1000 tonnes</td>\n",
       "      <td>0.0</td>\n",
       "      <td>0.0</td>\n",
       "      <td>0.0</td>\n",
       "      <td>0.0</td>\n",
       "      <td>...</td>\n",
       "      <td>56.0</td>\n",
       "      <td>51.0</td>\n",
       "      <td>36.0</td>\n",
       "      <td>53.0</td>\n",
       "      <td>59.0</td>\n",
       "      <td>51.0</td>\n",
       "      <td>61</td>\n",
       "      <td>64</td>\n",
       "      <td>Palm Oil</td>\n",
       "      <td>704000.0</td>\n",
       "    </tr>\n",
       "    <tr>\n",
       "      <th>...</th>\n",
       "      <td>...</td>\n",
       "      <td>...</td>\n",
       "      <td>...</td>\n",
       "      <td>...</td>\n",
       "      <td>...</td>\n",
       "      <td>...</td>\n",
       "      <td>...</td>\n",
       "      <td>...</td>\n",
       "      <td>...</td>\n",
       "      <td>...</td>\n",
       "      <td>...</td>\n",
       "      <td>...</td>\n",
       "      <td>...</td>\n",
       "      <td>...</td>\n",
       "      <td>...</td>\n",
       "      <td>...</td>\n",
       "      <td>...</td>\n",
       "      <td>...</td>\n",
       "      <td>...</td>\n",
       "      <td>...</td>\n",
       "      <td>...</td>\n",
       "    </tr>\n",
       "    <tr>\n",
       "      <th>5389</th>\n",
       "      <td>ZWE</td>\n",
       "      <td>181</td>\n",
       "      <td>Zimbabwe</td>\n",
       "      <td>Fruits, Other</td>\n",
       "      <td>Food</td>\n",
       "      <td>1000 tonnes</td>\n",
       "      <td>1.0</td>\n",
       "      <td>1.0</td>\n",
       "      <td>1.0</td>\n",
       "      <td>1.0</td>\n",
       "      <td>...</td>\n",
       "      <td>6.0</td>\n",
       "      <td>8.0</td>\n",
       "      <td>8.0</td>\n",
       "      <td>9.0</td>\n",
       "      <td>10.0</td>\n",
       "      <td>10.0</td>\n",
       "      <td>12</td>\n",
       "      <td>9</td>\n",
       "      <td>Other Fruit</td>\n",
       "      <td>214000.0</td>\n",
       "    </tr>\n",
       "    <tr>\n",
       "      <th>5390</th>\n",
       "      <td>ZWE</td>\n",
       "      <td>181</td>\n",
       "      <td>Zimbabwe</td>\n",
       "      <td>Bovine Meat</td>\n",
       "      <td>Food</td>\n",
       "      <td>1000 tonnes</td>\n",
       "      <td>43.0</td>\n",
       "      <td>42.0</td>\n",
       "      <td>42.0</td>\n",
       "      <td>31.0</td>\n",
       "      <td>...</td>\n",
       "      <td>104.0</td>\n",
       "      <td>104.0</td>\n",
       "      <td>104.0</td>\n",
       "      <td>105.0</td>\n",
       "      <td>100.0</td>\n",
       "      <td>102.0</td>\n",
       "      <td>103</td>\n",
       "      <td>104</td>\n",
       "      <td>Beef (beef herd)</td>\n",
       "      <td>3414000.0</td>\n",
       "    </tr>\n",
       "    <tr>\n",
       "      <th>5391</th>\n",
       "      <td>ZWE</td>\n",
       "      <td>181</td>\n",
       "      <td>Zimbabwe</td>\n",
       "      <td>Pigmeat</td>\n",
       "      <td>Food</td>\n",
       "      <td>1000 tonnes</td>\n",
       "      <td>5.0</td>\n",
       "      <td>6.0</td>\n",
       "      <td>6.0</td>\n",
       "      <td>6.0</td>\n",
       "      <td>...</td>\n",
       "      <td>28.0</td>\n",
       "      <td>28.0</td>\n",
       "      <td>28.0</td>\n",
       "      <td>33.0</td>\n",
       "      <td>34.0</td>\n",
       "      <td>37.0</td>\n",
       "      <td>40</td>\n",
       "      <td>37</td>\n",
       "      <td>Pig Meat</td>\n",
       "      <td>781000.0</td>\n",
       "    </tr>\n",
       "    <tr>\n",
       "      <th>5394</th>\n",
       "      <td>ZWE</td>\n",
       "      <td>181</td>\n",
       "      <td>Zimbabwe</td>\n",
       "      <td>Fish, Seafood</td>\n",
       "      <td>Feed</td>\n",
       "      <td>1000 tonnes</td>\n",
       "      <td>27.0</td>\n",
       "      <td>25.0</td>\n",
       "      <td>27.0</td>\n",
       "      <td>23.0</td>\n",
       "      <td>...</td>\n",
       "      <td>9.0</td>\n",
       "      <td>6.0</td>\n",
       "      <td>9.0</td>\n",
       "      <td>5.0</td>\n",
       "      <td>15.0</td>\n",
       "      <td>15.0</td>\n",
       "      <td>15</td>\n",
       "      <td>15</td>\n",
       "      <td>Fish (farmed)</td>\n",
       "      <td>607000.0</td>\n",
       "    </tr>\n",
       "    <tr>\n",
       "      <th>5395</th>\n",
       "      <td>ZWE</td>\n",
       "      <td>181</td>\n",
       "      <td>Zimbabwe</td>\n",
       "      <td>Fish, Seafood</td>\n",
       "      <td>Food</td>\n",
       "      <td>1000 tonnes</td>\n",
       "      <td>6.0</td>\n",
       "      <td>6.0</td>\n",
       "      <td>6.0</td>\n",
       "      <td>8.0</td>\n",
       "      <td>...</td>\n",
       "      <td>17.0</td>\n",
       "      <td>14.0</td>\n",
       "      <td>15.0</td>\n",
       "      <td>18.0</td>\n",
       "      <td>29.0</td>\n",
       "      <td>40.0</td>\n",
       "      <td>40</td>\n",
       "      <td>40</td>\n",
       "      <td>Fish (farmed)</td>\n",
       "      <td>997000.0</td>\n",
       "    </tr>\n",
       "  </tbody>\n",
       "</table>\n",
       "<p>4740 rows × 61 columns</p>\n",
       "</div>"
      ],
      "text/plain": [
       "     Area Abbreviation  Area Code         Area                      Item  \\\n",
       "0                  AFG          2  Afghanistan        Wheat and products   \n",
       "1                  AFG          2  Afghanistan  Rice (Milled Equivalent)   \n",
       "2                  AFG          2  Afghanistan     Potatoes and products   \n",
       "3                  AFG          2  Afghanistan         Nuts and products   \n",
       "4                  AFG          2  Afghanistan                  Palm Oil   \n",
       "...                ...        ...          ...                       ...   \n",
       "5389               ZWE        181     Zimbabwe             Fruits, Other   \n",
       "5390               ZWE        181     Zimbabwe               Bovine Meat   \n",
       "5391               ZWE        181     Zimbabwe                   Pigmeat   \n",
       "5394               ZWE        181     Zimbabwe             Fish, Seafood   \n",
       "5395               ZWE        181     Zimbabwe             Fish, Seafood   \n",
       "\n",
       "     Element         Unit   Y1961   Y1962   Y1963   Y1964  ...   Y2006  \\\n",
       "0       Food  1000 tonnes  1928.0  1904.0  1666.0  1950.0  ...  3704.0   \n",
       "1       Food  1000 tonnes   183.0   183.0   182.0   220.0  ...   546.0   \n",
       "2       Food  1000 tonnes   111.0    97.0   103.0   110.0  ...   294.0   \n",
       "3       Food  1000 tonnes     2.0     3.0     1.0     1.0  ...    24.0   \n",
       "4       Food  1000 tonnes     0.0     0.0     0.0     0.0  ...    56.0   \n",
       "...      ...          ...     ...     ...     ...     ...  ...     ...   \n",
       "5389    Food  1000 tonnes     1.0     1.0     1.0     1.0  ...     6.0   \n",
       "5390    Food  1000 tonnes    43.0    42.0    42.0    31.0  ...   104.0   \n",
       "5391    Food  1000 tonnes     5.0     6.0     6.0     6.0  ...    28.0   \n",
       "5394    Feed  1000 tonnes    27.0    25.0    27.0    23.0  ...     9.0   \n",
       "5395    Food  1000 tonnes     6.0     6.0     6.0     8.0  ...    17.0   \n",
       "\n",
       "       Y2007   Y2008   Y2009   Y2010   Y2011  Y2012  Y2013              Type  \\\n",
       "0     4164.0  4252.0  4538.0  4605.0  4711.0   4810   4895             Wheat   \n",
       "1      455.0   490.0   415.0   442.0   476.0    425    422              Rice   \n",
       "2      260.0   242.0   250.0   192.0   169.0    196    230          Potatoes   \n",
       "3       34.0    42.0    28.0    66.0    71.0     70     44              Nuts   \n",
       "4       51.0    36.0    53.0    59.0    51.0     61     64          Palm Oil   \n",
       "...      ...     ...     ...     ...     ...    ...    ...               ...   \n",
       "5389     8.0     8.0     9.0    10.0    10.0     12      9       Other Fruit   \n",
       "5390   104.0   104.0   105.0   100.0   102.0    103    104  Beef (beef herd)   \n",
       "5391    28.0    28.0    33.0    34.0    37.0     40     37          Pig Meat   \n",
       "5394     6.0     9.0     5.0    15.0    15.0     15     15     Fish (farmed)   \n",
       "5395    14.0    15.0    18.0    29.0    40.0     40     40     Fish (farmed)   \n",
       "\n",
       "      Prod. 1961 - 2013  \n",
       "0           132926000.0  \n",
       "1            15282000.0  \n",
       "2            10625000.0  \n",
       "3              808000.0  \n",
       "4              704000.0  \n",
       "...                 ...  \n",
       "5389           214000.0  \n",
       "5390          3414000.0  \n",
       "5391           781000.0  \n",
       "5394           607000.0  \n",
       "5395           997000.0  \n",
       "\n",
       "[4740 rows x 61 columns]"
      ]
     },
     "execution_count": 798,
     "metadata": {},
     "output_type": "execute_result"
    }
   ],
   "source": [
    "Feed = cibi_mangimi.loc[\"Feed\"]\n",
    "\n",
    "Feed_yearly_increment = [abs(Feed[f\"Y{i}\"] - Feed[f\"Y{i+1}\"]) for i in range(1961, 2014) if i + 1 < 2014]\n",
    "Feed_yearly_increment_df = pd.DataFrame()\n",
    "for i in range(1961, 2014):\n",
    "     if i+1 < 2014:\n",
    "          Feed_yearly_increment_df[f\"Y{i}/Y{i+1}\"] = pd.Series(Feed_yearly_increment[abs(1961 - i)])\n",
    "\n",
    "print(f\"Incremento annuo medio della produzione di mangimi = {Feed_yearly_increment_df.iloc[0].mean() * 1000} tonnellate\")\n",
    "prodotti_tracciati_df"
   ]
  },
  {
   "cell_type": "markdown",
   "metadata": {},
   "source": [
    "# Cibi piu' e meno prodotti dal 1961 al 2013\n",
    "#### Vedremo quali sono stati i cibi più prodotti e quali meno."
   ]
  },
  {
   "cell_type": "code",
   "execution_count": 799,
   "metadata": {},
   "outputs": [
    {
     "data": {
      "application/vnd.plotly.v1+json": {
       "config": {
        "plotlyServerURL": "https://plot.ly"
       },
       "data": [
        {
         "alignmentgroup": "True",
         "hovertemplate": "Type=%{x}<br>Tonnes=%{marker.color}<extra></extra>",
         "legendgroup": "",
         "marker": {
          "color": [
           17904347000,
           17755357000,
           14780040000,
           13498424000,
           6353554000,
           4348591000,
           3465370000,
           3463336000,
           3219400000,
           3037100000,
           2268633000,
           2198028000,
           2118056000,
           1685738000,
           1622053000,
           1574190000,
           1139982000,
           1047375000,
           819820000,
           788599000,
           397627000,
           329054000,
           311984000,
           300036000,
           272799000,
           226660000,
           174386000,
           96287000,
           1894000
          ],
          "coloraxis": "coloraxis",
          "pattern": {
           "shape": ""
          }
         },
         "name": "",
         "offsetgroup": "",
         "orientation": "v",
         "showlegend": false,
         "textposition": "auto",
         "type": "bar",
         "x": [
          "Milk",
          "Other Vegetables",
          "Wheat",
          "Rice",
          "Potatoes",
          "Other Fruit",
          "Cassava",
          "Fish (farmed)",
          "Tomatoes",
          "Pig Meat",
          "Beef (beef herd)",
          "Bananas",
          "Poultry Meat",
          "Apples",
          "Eggs",
          "Onions",
          "Wine",
          "Cane Sugar",
          "Other Pulses",
          "Grapes",
          "Mutton",
          "Nuts",
          "Palm Oil",
          "Groundnuts",
          "Coffee",
          "Citrus Fruit",
          "Peas",
          "Olive Oil",
          "Beet Sugar"
         ],
         "xaxis": "x",
         "y": [
          17904347000,
          17755357000,
          14780040000,
          13498424000,
          6353554000,
          4348591000,
          3465370000,
          3463336000,
          3219400000,
          3037100000,
          2268633000,
          2198028000,
          2118056000,
          1685738000,
          1622053000,
          1574190000,
          1139982000,
          1047375000,
          819820000,
          788599000,
          397627000,
          329054000,
          311984000,
          300036000,
          272799000,
          226660000,
          174386000,
          96287000,
          1894000
         ],
         "yaxis": "y"
        }
       ],
       "layout": {
        "barmode": "relative",
        "coloraxis": {
         "colorbar": {
          "title": {
           "text": "Tonnes"
          }
         },
         "colorscale": [
          [
           0,
           "#0d0887"
          ],
          [
           0.1111111111111111,
           "#46039f"
          ],
          [
           0.2222222222222222,
           "#7201a8"
          ],
          [
           0.3333333333333333,
           "#9c179e"
          ],
          [
           0.4444444444444444,
           "#bd3786"
          ],
          [
           0.5555555555555556,
           "#d8576b"
          ],
          [
           0.6666666666666666,
           "#ed7953"
          ],
          [
           0.7777777777777778,
           "#fb9f3a"
          ],
          [
           0.8888888888888888,
           "#fdca26"
          ],
          [
           1,
           "#f0f921"
          ]
         ]
        },
        "height": 600,
        "legend": {
         "tracegroupgap": 0
        },
        "template": {
         "data": {
          "bar": [
           {
            "error_x": {
             "color": "#2a3f5f"
            },
            "error_y": {
             "color": "#2a3f5f"
            },
            "marker": {
             "line": {
              "color": "#E5ECF6",
              "width": 0.5
             },
             "pattern": {
              "fillmode": "overlay",
              "size": 10,
              "solidity": 0.2
             }
            },
            "type": "bar"
           }
          ],
          "barpolar": [
           {
            "marker": {
             "line": {
              "color": "#E5ECF6",
              "width": 0.5
             },
             "pattern": {
              "fillmode": "overlay",
              "size": 10,
              "solidity": 0.2
             }
            },
            "type": "barpolar"
           }
          ],
          "carpet": [
           {
            "aaxis": {
             "endlinecolor": "#2a3f5f",
             "gridcolor": "white",
             "linecolor": "white",
             "minorgridcolor": "white",
             "startlinecolor": "#2a3f5f"
            },
            "baxis": {
             "endlinecolor": "#2a3f5f",
             "gridcolor": "white",
             "linecolor": "white",
             "minorgridcolor": "white",
             "startlinecolor": "#2a3f5f"
            },
            "type": "carpet"
           }
          ],
          "choropleth": [
           {
            "colorbar": {
             "outlinewidth": 0,
             "ticks": ""
            },
            "type": "choropleth"
           }
          ],
          "contour": [
           {
            "colorbar": {
             "outlinewidth": 0,
             "ticks": ""
            },
            "colorscale": [
             [
              0,
              "#0d0887"
             ],
             [
              0.1111111111111111,
              "#46039f"
             ],
             [
              0.2222222222222222,
              "#7201a8"
             ],
             [
              0.3333333333333333,
              "#9c179e"
             ],
             [
              0.4444444444444444,
              "#bd3786"
             ],
             [
              0.5555555555555556,
              "#d8576b"
             ],
             [
              0.6666666666666666,
              "#ed7953"
             ],
             [
              0.7777777777777778,
              "#fb9f3a"
             ],
             [
              0.8888888888888888,
              "#fdca26"
             ],
             [
              1,
              "#f0f921"
             ]
            ],
            "type": "contour"
           }
          ],
          "contourcarpet": [
           {
            "colorbar": {
             "outlinewidth": 0,
             "ticks": ""
            },
            "type": "contourcarpet"
           }
          ],
          "heatmap": [
           {
            "colorbar": {
             "outlinewidth": 0,
             "ticks": ""
            },
            "colorscale": [
             [
              0,
              "#0d0887"
             ],
             [
              0.1111111111111111,
              "#46039f"
             ],
             [
              0.2222222222222222,
              "#7201a8"
             ],
             [
              0.3333333333333333,
              "#9c179e"
             ],
             [
              0.4444444444444444,
              "#bd3786"
             ],
             [
              0.5555555555555556,
              "#d8576b"
             ],
             [
              0.6666666666666666,
              "#ed7953"
             ],
             [
              0.7777777777777778,
              "#fb9f3a"
             ],
             [
              0.8888888888888888,
              "#fdca26"
             ],
             [
              1,
              "#f0f921"
             ]
            ],
            "type": "heatmap"
           }
          ],
          "heatmapgl": [
           {
            "colorbar": {
             "outlinewidth": 0,
             "ticks": ""
            },
            "colorscale": [
             [
              0,
              "#0d0887"
             ],
             [
              0.1111111111111111,
              "#46039f"
             ],
             [
              0.2222222222222222,
              "#7201a8"
             ],
             [
              0.3333333333333333,
              "#9c179e"
             ],
             [
              0.4444444444444444,
              "#bd3786"
             ],
             [
              0.5555555555555556,
              "#d8576b"
             ],
             [
              0.6666666666666666,
              "#ed7953"
             ],
             [
              0.7777777777777778,
              "#fb9f3a"
             ],
             [
              0.8888888888888888,
              "#fdca26"
             ],
             [
              1,
              "#f0f921"
             ]
            ],
            "type": "heatmapgl"
           }
          ],
          "histogram": [
           {
            "marker": {
             "pattern": {
              "fillmode": "overlay",
              "size": 10,
              "solidity": 0.2
             }
            },
            "type": "histogram"
           }
          ],
          "histogram2d": [
           {
            "colorbar": {
             "outlinewidth": 0,
             "ticks": ""
            },
            "colorscale": [
             [
              0,
              "#0d0887"
             ],
             [
              0.1111111111111111,
              "#46039f"
             ],
             [
              0.2222222222222222,
              "#7201a8"
             ],
             [
              0.3333333333333333,
              "#9c179e"
             ],
             [
              0.4444444444444444,
              "#bd3786"
             ],
             [
              0.5555555555555556,
              "#d8576b"
             ],
             [
              0.6666666666666666,
              "#ed7953"
             ],
             [
              0.7777777777777778,
              "#fb9f3a"
             ],
             [
              0.8888888888888888,
              "#fdca26"
             ],
             [
              1,
              "#f0f921"
             ]
            ],
            "type": "histogram2d"
           }
          ],
          "histogram2dcontour": [
           {
            "colorbar": {
             "outlinewidth": 0,
             "ticks": ""
            },
            "colorscale": [
             [
              0,
              "#0d0887"
             ],
             [
              0.1111111111111111,
              "#46039f"
             ],
             [
              0.2222222222222222,
              "#7201a8"
             ],
             [
              0.3333333333333333,
              "#9c179e"
             ],
             [
              0.4444444444444444,
              "#bd3786"
             ],
             [
              0.5555555555555556,
              "#d8576b"
             ],
             [
              0.6666666666666666,
              "#ed7953"
             ],
             [
              0.7777777777777778,
              "#fb9f3a"
             ],
             [
              0.8888888888888888,
              "#fdca26"
             ],
             [
              1,
              "#f0f921"
             ]
            ],
            "type": "histogram2dcontour"
           }
          ],
          "mesh3d": [
           {
            "colorbar": {
             "outlinewidth": 0,
             "ticks": ""
            },
            "type": "mesh3d"
           }
          ],
          "parcoords": [
           {
            "line": {
             "colorbar": {
              "outlinewidth": 0,
              "ticks": ""
             }
            },
            "type": "parcoords"
           }
          ],
          "pie": [
           {
            "automargin": true,
            "type": "pie"
           }
          ],
          "scatter": [
           {
            "fillpattern": {
             "fillmode": "overlay",
             "size": 10,
             "solidity": 0.2
            },
            "type": "scatter"
           }
          ],
          "scatter3d": [
           {
            "line": {
             "colorbar": {
              "outlinewidth": 0,
              "ticks": ""
             }
            },
            "marker": {
             "colorbar": {
              "outlinewidth": 0,
              "ticks": ""
             }
            },
            "type": "scatter3d"
           }
          ],
          "scattercarpet": [
           {
            "marker": {
             "colorbar": {
              "outlinewidth": 0,
              "ticks": ""
             }
            },
            "type": "scattercarpet"
           }
          ],
          "scattergeo": [
           {
            "marker": {
             "colorbar": {
              "outlinewidth": 0,
              "ticks": ""
             }
            },
            "type": "scattergeo"
           }
          ],
          "scattergl": [
           {
            "marker": {
             "colorbar": {
              "outlinewidth": 0,
              "ticks": ""
             }
            },
            "type": "scattergl"
           }
          ],
          "scattermapbox": [
           {
            "marker": {
             "colorbar": {
              "outlinewidth": 0,
              "ticks": ""
             }
            },
            "type": "scattermapbox"
           }
          ],
          "scatterpolar": [
           {
            "marker": {
             "colorbar": {
              "outlinewidth": 0,
              "ticks": ""
             }
            },
            "type": "scatterpolar"
           }
          ],
          "scatterpolargl": [
           {
            "marker": {
             "colorbar": {
              "outlinewidth": 0,
              "ticks": ""
             }
            },
            "type": "scatterpolargl"
           }
          ],
          "scatterternary": [
           {
            "marker": {
             "colorbar": {
              "outlinewidth": 0,
              "ticks": ""
             }
            },
            "type": "scatterternary"
           }
          ],
          "surface": [
           {
            "colorbar": {
             "outlinewidth": 0,
             "ticks": ""
            },
            "colorscale": [
             [
              0,
              "#0d0887"
             ],
             [
              0.1111111111111111,
              "#46039f"
             ],
             [
              0.2222222222222222,
              "#7201a8"
             ],
             [
              0.3333333333333333,
              "#9c179e"
             ],
             [
              0.4444444444444444,
              "#bd3786"
             ],
             [
              0.5555555555555556,
              "#d8576b"
             ],
             [
              0.6666666666666666,
              "#ed7953"
             ],
             [
              0.7777777777777778,
              "#fb9f3a"
             ],
             [
              0.8888888888888888,
              "#fdca26"
             ],
             [
              1,
              "#f0f921"
             ]
            ],
            "type": "surface"
           }
          ],
          "table": [
           {
            "cells": {
             "fill": {
              "color": "#EBF0F8"
             },
             "line": {
              "color": "white"
             }
            },
            "header": {
             "fill": {
              "color": "#C8D4E3"
             },
             "line": {
              "color": "white"
             }
            },
            "type": "table"
           }
          ]
         },
         "layout": {
          "annotationdefaults": {
           "arrowcolor": "#2a3f5f",
           "arrowhead": 0,
           "arrowwidth": 1
          },
          "autotypenumbers": "strict",
          "coloraxis": {
           "colorbar": {
            "outlinewidth": 0,
            "ticks": ""
           }
          },
          "colorscale": {
           "diverging": [
            [
             0,
             "#8e0152"
            ],
            [
             0.1,
             "#c51b7d"
            ],
            [
             0.2,
             "#de77ae"
            ],
            [
             0.3,
             "#f1b6da"
            ],
            [
             0.4,
             "#fde0ef"
            ],
            [
             0.5,
             "#f7f7f7"
            ],
            [
             0.6,
             "#e6f5d0"
            ],
            [
             0.7,
             "#b8e186"
            ],
            [
             0.8,
             "#7fbc41"
            ],
            [
             0.9,
             "#4d9221"
            ],
            [
             1,
             "#276419"
            ]
           ],
           "sequential": [
            [
             0,
             "#0d0887"
            ],
            [
             0.1111111111111111,
             "#46039f"
            ],
            [
             0.2222222222222222,
             "#7201a8"
            ],
            [
             0.3333333333333333,
             "#9c179e"
            ],
            [
             0.4444444444444444,
             "#bd3786"
            ],
            [
             0.5555555555555556,
             "#d8576b"
            ],
            [
             0.6666666666666666,
             "#ed7953"
            ],
            [
             0.7777777777777778,
             "#fb9f3a"
            ],
            [
             0.8888888888888888,
             "#fdca26"
            ],
            [
             1,
             "#f0f921"
            ]
           ],
           "sequentialminus": [
            [
             0,
             "#0d0887"
            ],
            [
             0.1111111111111111,
             "#46039f"
            ],
            [
             0.2222222222222222,
             "#7201a8"
            ],
            [
             0.3333333333333333,
             "#9c179e"
            ],
            [
             0.4444444444444444,
             "#bd3786"
            ],
            [
             0.5555555555555556,
             "#d8576b"
            ],
            [
             0.6666666666666666,
             "#ed7953"
            ],
            [
             0.7777777777777778,
             "#fb9f3a"
            ],
            [
             0.8888888888888888,
             "#fdca26"
            ],
            [
             1,
             "#f0f921"
            ]
           ]
          },
          "colorway": [
           "#636efa",
           "#EF553B",
           "#00cc96",
           "#ab63fa",
           "#FFA15A",
           "#19d3f3",
           "#FF6692",
           "#B6E880",
           "#FF97FF",
           "#FECB52"
          ],
          "font": {
           "color": "#2a3f5f"
          },
          "geo": {
           "bgcolor": "white",
           "lakecolor": "white",
           "landcolor": "#E5ECF6",
           "showlakes": true,
           "showland": true,
           "subunitcolor": "white"
          },
          "hoverlabel": {
           "align": "left"
          },
          "hovermode": "closest",
          "mapbox": {
           "style": "light"
          },
          "paper_bgcolor": "white",
          "plot_bgcolor": "#E5ECF6",
          "polar": {
           "angularaxis": {
            "gridcolor": "white",
            "linecolor": "white",
            "ticks": ""
           },
           "bgcolor": "#E5ECF6",
           "radialaxis": {
            "gridcolor": "white",
            "linecolor": "white",
            "ticks": ""
           }
          },
          "scene": {
           "xaxis": {
            "backgroundcolor": "#E5ECF6",
            "gridcolor": "white",
            "gridwidth": 2,
            "linecolor": "white",
            "showbackground": true,
            "ticks": "",
            "zerolinecolor": "white"
           },
           "yaxis": {
            "backgroundcolor": "#E5ECF6",
            "gridcolor": "white",
            "gridwidth": 2,
            "linecolor": "white",
            "showbackground": true,
            "ticks": "",
            "zerolinecolor": "white"
           },
           "zaxis": {
            "backgroundcolor": "#E5ECF6",
            "gridcolor": "white",
            "gridwidth": 2,
            "linecolor": "white",
            "showbackground": true,
            "ticks": "",
            "zerolinecolor": "white"
           }
          },
          "shapedefaults": {
           "line": {
            "color": "#2a3f5f"
           }
          },
          "ternary": {
           "aaxis": {
            "gridcolor": "white",
            "linecolor": "white",
            "ticks": ""
           },
           "baxis": {
            "gridcolor": "white",
            "linecolor": "white",
            "ticks": ""
           },
           "bgcolor": "#E5ECF6",
           "caxis": {
            "gridcolor": "white",
            "linecolor": "white",
            "ticks": ""
           }
          },
          "title": {
           "x": 0.05
          },
          "xaxis": {
           "automargin": true,
           "gridcolor": "white",
           "linecolor": "white",
           "ticks": "",
           "title": {
            "standoff": 15
           },
           "zerolinecolor": "white",
           "zerolinewidth": 2
          },
          "yaxis": {
           "automargin": true,
           "gridcolor": "white",
           "linecolor": "white",
           "ticks": "",
           "title": {
            "standoff": 15
           },
           "zerolinecolor": "white",
           "zerolinewidth": 2
          }
         }
        },
        "title": {
         "text": "Cibi più e meno prodotti dal 1961 al 2013(Tonnellate)"
        },
        "xaxis": {
         "anchor": "y",
         "domain": [
          0,
          1
         ],
         "title": {
          "text": "Type"
         }
        },
        "yaxis": {
         "anchor": "x",
         "domain": [
          0,
          1
         ],
         "title": {
          "text": "Tonnes"
         }
        }
       }
      }
     },
     "metadata": {},
     "output_type": "display_data"
    }
   ],
   "source": [
    "columns_interested = [\"Item\", \"Element\", \"Area\", \"Prod. 1961 - 2013\", \"Type\"]\n",
    "Food_feed_df = prodotti_tracciati_df[columns_interested]\n",
    "Food_feed_df = Food_feed_df[Food_feed_df[\"Element\"] == \"Food\"]\n",
    "Food_feed_df = Food_feed_df.sort_values(by=[\"Prod. 1961 - 2013\"], ascending=False).reset_index().drop(columns=[\"index\"]).drop_duplicates().reset_index().drop(columns=[\"index\"])\n",
    "Food_feed_df[\"Tonnes\"] = Food_feed_df[\"Prod. 1961 - 2013\"]\n",
    "temp_df = Food_feed_df.groupby(\"Type\").sum(numeric_only=True).sort_values(by=\"Tonnes\", ascending=False)\n",
    "\n",
    "# prodotti_tracciati_df[\"Tonnes\"] = prodotti_tracciati_df[\"Prod. 1961 - 2013\"] * 1000\n",
    "# Food_items[\"Tonnes\"] = prodotti_tracciati_df[\"Tonnes\"]\n",
    "\n",
    "fig = px.bar(\n",
    "     temp_df,\n",
    "     x=temp_df.index,\n",
    "     y=\"Tonnes\",\n",
    "     color=\"Tonnes\",\n",
    "     title='Cibi più e meno prodotti dal 1961 al 2013(Tonnellate)',\n",
    "     height=600\n",
    ")\n",
    "\n",
    "fig.show()"
   ]
  },
  {
   "cell_type": "markdown",
   "metadata": {},
   "source": [
    "# Mangimi più e meno prodotti dal 1961 al 2013\n",
    "#### Vediamo la produzione di mangimi quali categorie di cibo va a colpire maggiormente"
   ]
  },
  {
   "cell_type": "code",
   "execution_count": 800,
   "metadata": {},
   "outputs": [
    {
     "data": {
      "application/vnd.plotly.v1+json": {
       "config": {
        "plotlyServerURL": "https://plot.ly"
       },
       "data": [
        {
         "alignmentgroup": "True",
         "hovertemplate": "Type=%{x}<br>Tonnes=%{marker.color}<extra></extra>",
         "legendgroup": "",
         "marker": {
          "color": [
           2839405000,
           2837106000,
           2350240000,
           2021093000,
           1146278000,
           1075008000,
           962161000,
           672160000,
           238262000,
           120795000,
           118535000,
           50311000,
           40771000,
           6486000,
           4966000,
           261000,
           219000,
           197000,
           52000,
           27000,
           1000
          ],
          "coloraxis": "coloraxis",
          "pattern": {
           "shape": ""
          }
         },
         "name": "",
         "offsetgroup": "",
         "orientation": "v",
         "showlegend": false,
         "textposition": "auto",
         "type": "bar",
         "x": [
          "Milk",
          "Wheat",
          "Cassava",
          "Potatoes",
          "Cane Sugar",
          "Fish (farmed)",
          "Rice",
          "Other Vegetables",
          "Other Pulses",
          "Peas",
          "Beet Sugar",
          "Tomatoes",
          "Bananas",
          "Apples",
          "Other Fruit",
          "Groundnuts",
          "Eggs",
          "Mutton",
          "Onions",
          "Poultry Meat",
          "Olive Oil"
         ],
         "xaxis": "x",
         "y": [
          2839405000,
          2837106000,
          2350240000,
          2021093000,
          1146278000,
          1075008000,
          962161000,
          672160000,
          238262000,
          120795000,
          118535000,
          50311000,
          40771000,
          6486000,
          4966000,
          261000,
          219000,
          197000,
          52000,
          27000,
          1000
         ],
         "yaxis": "y"
        }
       ],
       "layout": {
        "barmode": "relative",
        "coloraxis": {
         "colorbar": {
          "title": {
           "text": "Tonnes"
          }
         },
         "colorscale": [
          [
           0,
           "#0d0887"
          ],
          [
           0.1111111111111111,
           "#46039f"
          ],
          [
           0.2222222222222222,
           "#7201a8"
          ],
          [
           0.3333333333333333,
           "#9c179e"
          ],
          [
           0.4444444444444444,
           "#bd3786"
          ],
          [
           0.5555555555555556,
           "#d8576b"
          ],
          [
           0.6666666666666666,
           "#ed7953"
          ],
          [
           0.7777777777777778,
           "#fb9f3a"
          ],
          [
           0.8888888888888888,
           "#fdca26"
          ],
          [
           1,
           "#f0f921"
          ]
         ]
        },
        "height": 600,
        "legend": {
         "tracegroupgap": 0
        },
        "template": {
         "data": {
          "bar": [
           {
            "error_x": {
             "color": "#2a3f5f"
            },
            "error_y": {
             "color": "#2a3f5f"
            },
            "marker": {
             "line": {
              "color": "#E5ECF6",
              "width": 0.5
             },
             "pattern": {
              "fillmode": "overlay",
              "size": 10,
              "solidity": 0.2
             }
            },
            "type": "bar"
           }
          ],
          "barpolar": [
           {
            "marker": {
             "line": {
              "color": "#E5ECF6",
              "width": 0.5
             },
             "pattern": {
              "fillmode": "overlay",
              "size": 10,
              "solidity": 0.2
             }
            },
            "type": "barpolar"
           }
          ],
          "carpet": [
           {
            "aaxis": {
             "endlinecolor": "#2a3f5f",
             "gridcolor": "white",
             "linecolor": "white",
             "minorgridcolor": "white",
             "startlinecolor": "#2a3f5f"
            },
            "baxis": {
             "endlinecolor": "#2a3f5f",
             "gridcolor": "white",
             "linecolor": "white",
             "minorgridcolor": "white",
             "startlinecolor": "#2a3f5f"
            },
            "type": "carpet"
           }
          ],
          "choropleth": [
           {
            "colorbar": {
             "outlinewidth": 0,
             "ticks": ""
            },
            "type": "choropleth"
           }
          ],
          "contour": [
           {
            "colorbar": {
             "outlinewidth": 0,
             "ticks": ""
            },
            "colorscale": [
             [
              0,
              "#0d0887"
             ],
             [
              0.1111111111111111,
              "#46039f"
             ],
             [
              0.2222222222222222,
              "#7201a8"
             ],
             [
              0.3333333333333333,
              "#9c179e"
             ],
             [
              0.4444444444444444,
              "#bd3786"
             ],
             [
              0.5555555555555556,
              "#d8576b"
             ],
             [
              0.6666666666666666,
              "#ed7953"
             ],
             [
              0.7777777777777778,
              "#fb9f3a"
             ],
             [
              0.8888888888888888,
              "#fdca26"
             ],
             [
              1,
              "#f0f921"
             ]
            ],
            "type": "contour"
           }
          ],
          "contourcarpet": [
           {
            "colorbar": {
             "outlinewidth": 0,
             "ticks": ""
            },
            "type": "contourcarpet"
           }
          ],
          "heatmap": [
           {
            "colorbar": {
             "outlinewidth": 0,
             "ticks": ""
            },
            "colorscale": [
             [
              0,
              "#0d0887"
             ],
             [
              0.1111111111111111,
              "#46039f"
             ],
             [
              0.2222222222222222,
              "#7201a8"
             ],
             [
              0.3333333333333333,
              "#9c179e"
             ],
             [
              0.4444444444444444,
              "#bd3786"
             ],
             [
              0.5555555555555556,
              "#d8576b"
             ],
             [
              0.6666666666666666,
              "#ed7953"
             ],
             [
              0.7777777777777778,
              "#fb9f3a"
             ],
             [
              0.8888888888888888,
              "#fdca26"
             ],
             [
              1,
              "#f0f921"
             ]
            ],
            "type": "heatmap"
           }
          ],
          "heatmapgl": [
           {
            "colorbar": {
             "outlinewidth": 0,
             "ticks": ""
            },
            "colorscale": [
             [
              0,
              "#0d0887"
             ],
             [
              0.1111111111111111,
              "#46039f"
             ],
             [
              0.2222222222222222,
              "#7201a8"
             ],
             [
              0.3333333333333333,
              "#9c179e"
             ],
             [
              0.4444444444444444,
              "#bd3786"
             ],
             [
              0.5555555555555556,
              "#d8576b"
             ],
             [
              0.6666666666666666,
              "#ed7953"
             ],
             [
              0.7777777777777778,
              "#fb9f3a"
             ],
             [
              0.8888888888888888,
              "#fdca26"
             ],
             [
              1,
              "#f0f921"
             ]
            ],
            "type": "heatmapgl"
           }
          ],
          "histogram": [
           {
            "marker": {
             "pattern": {
              "fillmode": "overlay",
              "size": 10,
              "solidity": 0.2
             }
            },
            "type": "histogram"
           }
          ],
          "histogram2d": [
           {
            "colorbar": {
             "outlinewidth": 0,
             "ticks": ""
            },
            "colorscale": [
             [
              0,
              "#0d0887"
             ],
             [
              0.1111111111111111,
              "#46039f"
             ],
             [
              0.2222222222222222,
              "#7201a8"
             ],
             [
              0.3333333333333333,
              "#9c179e"
             ],
             [
              0.4444444444444444,
              "#bd3786"
             ],
             [
              0.5555555555555556,
              "#d8576b"
             ],
             [
              0.6666666666666666,
              "#ed7953"
             ],
             [
              0.7777777777777778,
              "#fb9f3a"
             ],
             [
              0.8888888888888888,
              "#fdca26"
             ],
             [
              1,
              "#f0f921"
             ]
            ],
            "type": "histogram2d"
           }
          ],
          "histogram2dcontour": [
           {
            "colorbar": {
             "outlinewidth": 0,
             "ticks": ""
            },
            "colorscale": [
             [
              0,
              "#0d0887"
             ],
             [
              0.1111111111111111,
              "#46039f"
             ],
             [
              0.2222222222222222,
              "#7201a8"
             ],
             [
              0.3333333333333333,
              "#9c179e"
             ],
             [
              0.4444444444444444,
              "#bd3786"
             ],
             [
              0.5555555555555556,
              "#d8576b"
             ],
             [
              0.6666666666666666,
              "#ed7953"
             ],
             [
              0.7777777777777778,
              "#fb9f3a"
             ],
             [
              0.8888888888888888,
              "#fdca26"
             ],
             [
              1,
              "#f0f921"
             ]
            ],
            "type": "histogram2dcontour"
           }
          ],
          "mesh3d": [
           {
            "colorbar": {
             "outlinewidth": 0,
             "ticks": ""
            },
            "type": "mesh3d"
           }
          ],
          "parcoords": [
           {
            "line": {
             "colorbar": {
              "outlinewidth": 0,
              "ticks": ""
             }
            },
            "type": "parcoords"
           }
          ],
          "pie": [
           {
            "automargin": true,
            "type": "pie"
           }
          ],
          "scatter": [
           {
            "fillpattern": {
             "fillmode": "overlay",
             "size": 10,
             "solidity": 0.2
            },
            "type": "scatter"
           }
          ],
          "scatter3d": [
           {
            "line": {
             "colorbar": {
              "outlinewidth": 0,
              "ticks": ""
             }
            },
            "marker": {
             "colorbar": {
              "outlinewidth": 0,
              "ticks": ""
             }
            },
            "type": "scatter3d"
           }
          ],
          "scattercarpet": [
           {
            "marker": {
             "colorbar": {
              "outlinewidth": 0,
              "ticks": ""
             }
            },
            "type": "scattercarpet"
           }
          ],
          "scattergeo": [
           {
            "marker": {
             "colorbar": {
              "outlinewidth": 0,
              "ticks": ""
             }
            },
            "type": "scattergeo"
           }
          ],
          "scattergl": [
           {
            "marker": {
             "colorbar": {
              "outlinewidth": 0,
              "ticks": ""
             }
            },
            "type": "scattergl"
           }
          ],
          "scattermapbox": [
           {
            "marker": {
             "colorbar": {
              "outlinewidth": 0,
              "ticks": ""
             }
            },
            "type": "scattermapbox"
           }
          ],
          "scatterpolar": [
           {
            "marker": {
             "colorbar": {
              "outlinewidth": 0,
              "ticks": ""
             }
            },
            "type": "scatterpolar"
           }
          ],
          "scatterpolargl": [
           {
            "marker": {
             "colorbar": {
              "outlinewidth": 0,
              "ticks": ""
             }
            },
            "type": "scatterpolargl"
           }
          ],
          "scatterternary": [
           {
            "marker": {
             "colorbar": {
              "outlinewidth": 0,
              "ticks": ""
             }
            },
            "type": "scatterternary"
           }
          ],
          "surface": [
           {
            "colorbar": {
             "outlinewidth": 0,
             "ticks": ""
            },
            "colorscale": [
             [
              0,
              "#0d0887"
             ],
             [
              0.1111111111111111,
              "#46039f"
             ],
             [
              0.2222222222222222,
              "#7201a8"
             ],
             [
              0.3333333333333333,
              "#9c179e"
             ],
             [
              0.4444444444444444,
              "#bd3786"
             ],
             [
              0.5555555555555556,
              "#d8576b"
             ],
             [
              0.6666666666666666,
              "#ed7953"
             ],
             [
              0.7777777777777778,
              "#fb9f3a"
             ],
             [
              0.8888888888888888,
              "#fdca26"
             ],
             [
              1,
              "#f0f921"
             ]
            ],
            "type": "surface"
           }
          ],
          "table": [
           {
            "cells": {
             "fill": {
              "color": "#EBF0F8"
             },
             "line": {
              "color": "white"
             }
            },
            "header": {
             "fill": {
              "color": "#C8D4E3"
             },
             "line": {
              "color": "white"
             }
            },
            "type": "table"
           }
          ]
         },
         "layout": {
          "annotationdefaults": {
           "arrowcolor": "#2a3f5f",
           "arrowhead": 0,
           "arrowwidth": 1
          },
          "autotypenumbers": "strict",
          "coloraxis": {
           "colorbar": {
            "outlinewidth": 0,
            "ticks": ""
           }
          },
          "colorscale": {
           "diverging": [
            [
             0,
             "#8e0152"
            ],
            [
             0.1,
             "#c51b7d"
            ],
            [
             0.2,
             "#de77ae"
            ],
            [
             0.3,
             "#f1b6da"
            ],
            [
             0.4,
             "#fde0ef"
            ],
            [
             0.5,
             "#f7f7f7"
            ],
            [
             0.6,
             "#e6f5d0"
            ],
            [
             0.7,
             "#b8e186"
            ],
            [
             0.8,
             "#7fbc41"
            ],
            [
             0.9,
             "#4d9221"
            ],
            [
             1,
             "#276419"
            ]
           ],
           "sequential": [
            [
             0,
             "#0d0887"
            ],
            [
             0.1111111111111111,
             "#46039f"
            ],
            [
             0.2222222222222222,
             "#7201a8"
            ],
            [
             0.3333333333333333,
             "#9c179e"
            ],
            [
             0.4444444444444444,
             "#bd3786"
            ],
            [
             0.5555555555555556,
             "#d8576b"
            ],
            [
             0.6666666666666666,
             "#ed7953"
            ],
            [
             0.7777777777777778,
             "#fb9f3a"
            ],
            [
             0.8888888888888888,
             "#fdca26"
            ],
            [
             1,
             "#f0f921"
            ]
           ],
           "sequentialminus": [
            [
             0,
             "#0d0887"
            ],
            [
             0.1111111111111111,
             "#46039f"
            ],
            [
             0.2222222222222222,
             "#7201a8"
            ],
            [
             0.3333333333333333,
             "#9c179e"
            ],
            [
             0.4444444444444444,
             "#bd3786"
            ],
            [
             0.5555555555555556,
             "#d8576b"
            ],
            [
             0.6666666666666666,
             "#ed7953"
            ],
            [
             0.7777777777777778,
             "#fb9f3a"
            ],
            [
             0.8888888888888888,
             "#fdca26"
            ],
            [
             1,
             "#f0f921"
            ]
           ]
          },
          "colorway": [
           "#636efa",
           "#EF553B",
           "#00cc96",
           "#ab63fa",
           "#FFA15A",
           "#19d3f3",
           "#FF6692",
           "#B6E880",
           "#FF97FF",
           "#FECB52"
          ],
          "font": {
           "color": "#2a3f5f"
          },
          "geo": {
           "bgcolor": "white",
           "lakecolor": "white",
           "landcolor": "#E5ECF6",
           "showlakes": true,
           "showland": true,
           "subunitcolor": "white"
          },
          "hoverlabel": {
           "align": "left"
          },
          "hovermode": "closest",
          "mapbox": {
           "style": "light"
          },
          "paper_bgcolor": "white",
          "plot_bgcolor": "#E5ECF6",
          "polar": {
           "angularaxis": {
            "gridcolor": "white",
            "linecolor": "white",
            "ticks": ""
           },
           "bgcolor": "#E5ECF6",
           "radialaxis": {
            "gridcolor": "white",
            "linecolor": "white",
            "ticks": ""
           }
          },
          "scene": {
           "xaxis": {
            "backgroundcolor": "#E5ECF6",
            "gridcolor": "white",
            "gridwidth": 2,
            "linecolor": "white",
            "showbackground": true,
            "ticks": "",
            "zerolinecolor": "white"
           },
           "yaxis": {
            "backgroundcolor": "#E5ECF6",
            "gridcolor": "white",
            "gridwidth": 2,
            "linecolor": "white",
            "showbackground": true,
            "ticks": "",
            "zerolinecolor": "white"
           },
           "zaxis": {
            "backgroundcolor": "#E5ECF6",
            "gridcolor": "white",
            "gridwidth": 2,
            "linecolor": "white",
            "showbackground": true,
            "ticks": "",
            "zerolinecolor": "white"
           }
          },
          "shapedefaults": {
           "line": {
            "color": "#2a3f5f"
           }
          },
          "ternary": {
           "aaxis": {
            "gridcolor": "white",
            "linecolor": "white",
            "ticks": ""
           },
           "baxis": {
            "gridcolor": "white",
            "linecolor": "white",
            "ticks": ""
           },
           "bgcolor": "#E5ECF6",
           "caxis": {
            "gridcolor": "white",
            "linecolor": "white",
            "ticks": ""
           }
          },
          "title": {
           "x": 0.05
          },
          "xaxis": {
           "automargin": true,
           "gridcolor": "white",
           "linecolor": "white",
           "ticks": "",
           "title": {
            "standoff": 15
           },
           "zerolinecolor": "white",
           "zerolinewidth": 2
          },
          "yaxis": {
           "automargin": true,
           "gridcolor": "white",
           "linecolor": "white",
           "ticks": "",
           "title": {
            "standoff": 15
           },
           "zerolinecolor": "white",
           "zerolinewidth": 2
          }
         }
        },
        "title": {
         "text": "Magimi più e meno prodotti dal 1961 al 2013(Tonnellate)"
        },
        "xaxis": {
         "anchor": "y",
         "domain": [
          0,
          1
         ],
         "title": {
          "text": "Type"
         }
        },
        "yaxis": {
         "anchor": "x",
         "domain": [
          0,
          1
         ],
         "title": {
          "text": "Tonnes"
         }
        }
       }
      }
     },
     "metadata": {},
     "output_type": "display_data"
    }
   ],
   "source": [
    "Feed_items = prodotti_tracciati_df[columns_interested]\n",
    "Feed_items = Feed_items[Feed_items[\"Element\"] == \"Feed\"]\n",
    "Feed_items = Feed_items.sort_values(by=[\"Prod. 1961 - 2013\"], ascending=False).reset_index().drop(columns=[\"index\"]).drop_duplicates().reset_index().drop(columns=[\"index\"])\n",
    "Feed_items[\"Tonnes\"] = Feed_items[\"Prod. 1961 - 2013\"]\n",
    "\n",
    "temp_df = Feed_items.groupby(\"Type\").sum(numeric_only=True).sort_values(by=\"Tonnes\", ascending=False)\n",
    "\n",
    "fig = px.bar(\n",
    "     temp_df,\n",
    "     x=temp_df.index,\n",
    "     y=\"Tonnes\",\n",
    "     color=\"Tonnes\",\n",
    "     title='Magimi più e meno prodotti dal 1961 al 2013(Tonnellate)',\n",
    "     height=600\n",
    ")\n",
    "fig.show()"
   ]
  },
  {
   "cell_type": "markdown",
   "metadata": {},
   "source": [
    "# Calcolo l'inquinamento da CO2 di tutti i cibi e mangimi"
   ]
  },
  {
   "cell_type": "code",
   "execution_count": 801,
   "metadata": {},
   "outputs": [
    {
     "data": {
      "application/vnd.plotly.v1+json": {
       "config": {
        "plotlyServerURL": "https://plot.ly"
       },
       "data": [
        {
         "alignmentgroup": "True",
         "hovertemplate": "Type=%{x}<br>KGCO2=%{marker.color}<extra></extra>",
         "legendgroup": "",
         "marker": {
          "color": [
           135210526800000,
           58082505600000.01,
           57842340000000,
           23145554400000,
           21867120000000,
           12920306300000.002,
           9213758500000,
           7300224000000,
           5703497800000,
           5234049000000,
           4577595400000,
           4501183500000.001,
           3047489900000,
           2512394100000,
           2371078400000,
           1791039199999.9998,
           1692931200000,
           1595974800000,
           720712800000,
           577728000000,
           507667200000,
           236144799999.99997,
           168600600000,
           67998000000,
           65810800000,
           0,
           0,
           0,
           0
          ],
          "coloraxis": "coloraxis",
          "pattern": {
           "shape": ""
          }
         },
         "name": "",
         "offsetgroup": "",
         "orientation": "v",
         "showlegend": false,
         "textposition": "auto",
         "type": "bar",
         "x": [
          "Beef (beef herd)",
          "Milk",
          "Rice",
          "Fish (farmed)",
          "Pig Meat",
          "Poultry Meat",
          "Other Vegetables",
          "Eggs",
          "Cane Sugar",
          "Cassava",
          "Tomatoes",
          "Coffee",
          "Other Fruit",
          "Potatoes",
          "Palm Oil",
          "Bananas",
          "Other Pulses",
          "Wine",
          "Groundnuts",
          "Olive Oil",
          "Apples",
          "Peas",
          "Beet Sugar",
          "Citrus Fruit",
          "Nuts",
          "Onions",
          "Mutton",
          "Grapes",
          "Wheat"
         ],
         "xaxis": "x",
         "y": [
          135210526800000,
          58082505600000.01,
          57842340000000,
          23145554400000,
          21867120000000,
          12920306300000.002,
          9213758500000,
          7300224000000,
          5703497800000,
          5234049000000,
          4577595400000,
          4501183500000.001,
          3047489900000,
          2512394100000,
          2371078400000,
          1791039199999.9998,
          1692931200000,
          1595974800000,
          720712800000,
          577728000000,
          507667200000,
          236144799999.99997,
          168600600000,
          67998000000,
          65810800000,
          0,
          0,
          0,
          0
         ],
         "yaxis": "y"
        }
       ],
       "layout": {
        "barmode": "relative",
        "coloraxis": {
         "colorbar": {
          "title": {
           "text": "KGCO2"
          }
         },
         "colorscale": [
          [
           0,
           "#0d0887"
          ],
          [
           0.1111111111111111,
           "#46039f"
          ],
          [
           0.2222222222222222,
           "#7201a8"
          ],
          [
           0.3333333333333333,
           "#9c179e"
          ],
          [
           0.4444444444444444,
           "#bd3786"
          ],
          [
           0.5555555555555556,
           "#d8576b"
          ],
          [
           0.6666666666666666,
           "#ed7953"
          ],
          [
           0.7777777777777778,
           "#fb9f3a"
          ],
          [
           0.8888888888888888,
           "#fdca26"
          ],
          [
           1,
           "#f0f921"
          ]
         ]
        },
        "height": 600,
        "legend": {
         "tracegroupgap": 0
        },
        "template": {
         "data": {
          "bar": [
           {
            "error_x": {
             "color": "#2a3f5f"
            },
            "error_y": {
             "color": "#2a3f5f"
            },
            "marker": {
             "line": {
              "color": "#E5ECF6",
              "width": 0.5
             },
             "pattern": {
              "fillmode": "overlay",
              "size": 10,
              "solidity": 0.2
             }
            },
            "type": "bar"
           }
          ],
          "barpolar": [
           {
            "marker": {
             "line": {
              "color": "#E5ECF6",
              "width": 0.5
             },
             "pattern": {
              "fillmode": "overlay",
              "size": 10,
              "solidity": 0.2
             }
            },
            "type": "barpolar"
           }
          ],
          "carpet": [
           {
            "aaxis": {
             "endlinecolor": "#2a3f5f",
             "gridcolor": "white",
             "linecolor": "white",
             "minorgridcolor": "white",
             "startlinecolor": "#2a3f5f"
            },
            "baxis": {
             "endlinecolor": "#2a3f5f",
             "gridcolor": "white",
             "linecolor": "white",
             "minorgridcolor": "white",
             "startlinecolor": "#2a3f5f"
            },
            "type": "carpet"
           }
          ],
          "choropleth": [
           {
            "colorbar": {
             "outlinewidth": 0,
             "ticks": ""
            },
            "type": "choropleth"
           }
          ],
          "contour": [
           {
            "colorbar": {
             "outlinewidth": 0,
             "ticks": ""
            },
            "colorscale": [
             [
              0,
              "#0d0887"
             ],
             [
              0.1111111111111111,
              "#46039f"
             ],
             [
              0.2222222222222222,
              "#7201a8"
             ],
             [
              0.3333333333333333,
              "#9c179e"
             ],
             [
              0.4444444444444444,
              "#bd3786"
             ],
             [
              0.5555555555555556,
              "#d8576b"
             ],
             [
              0.6666666666666666,
              "#ed7953"
             ],
             [
              0.7777777777777778,
              "#fb9f3a"
             ],
             [
              0.8888888888888888,
              "#fdca26"
             ],
             [
              1,
              "#f0f921"
             ]
            ],
            "type": "contour"
           }
          ],
          "contourcarpet": [
           {
            "colorbar": {
             "outlinewidth": 0,
             "ticks": ""
            },
            "type": "contourcarpet"
           }
          ],
          "heatmap": [
           {
            "colorbar": {
             "outlinewidth": 0,
             "ticks": ""
            },
            "colorscale": [
             [
              0,
              "#0d0887"
             ],
             [
              0.1111111111111111,
              "#46039f"
             ],
             [
              0.2222222222222222,
              "#7201a8"
             ],
             [
              0.3333333333333333,
              "#9c179e"
             ],
             [
              0.4444444444444444,
              "#bd3786"
             ],
             [
              0.5555555555555556,
              "#d8576b"
             ],
             [
              0.6666666666666666,
              "#ed7953"
             ],
             [
              0.7777777777777778,
              "#fb9f3a"
             ],
             [
              0.8888888888888888,
              "#fdca26"
             ],
             [
              1,
              "#f0f921"
             ]
            ],
            "type": "heatmap"
           }
          ],
          "heatmapgl": [
           {
            "colorbar": {
             "outlinewidth": 0,
             "ticks": ""
            },
            "colorscale": [
             [
              0,
              "#0d0887"
             ],
             [
              0.1111111111111111,
              "#46039f"
             ],
             [
              0.2222222222222222,
              "#7201a8"
             ],
             [
              0.3333333333333333,
              "#9c179e"
             ],
             [
              0.4444444444444444,
              "#bd3786"
             ],
             [
              0.5555555555555556,
              "#d8576b"
             ],
             [
              0.6666666666666666,
              "#ed7953"
             ],
             [
              0.7777777777777778,
              "#fb9f3a"
             ],
             [
              0.8888888888888888,
              "#fdca26"
             ],
             [
              1,
              "#f0f921"
             ]
            ],
            "type": "heatmapgl"
           }
          ],
          "histogram": [
           {
            "marker": {
             "pattern": {
              "fillmode": "overlay",
              "size": 10,
              "solidity": 0.2
             }
            },
            "type": "histogram"
           }
          ],
          "histogram2d": [
           {
            "colorbar": {
             "outlinewidth": 0,
             "ticks": ""
            },
            "colorscale": [
             [
              0,
              "#0d0887"
             ],
             [
              0.1111111111111111,
              "#46039f"
             ],
             [
              0.2222222222222222,
              "#7201a8"
             ],
             [
              0.3333333333333333,
              "#9c179e"
             ],
             [
              0.4444444444444444,
              "#bd3786"
             ],
             [
              0.5555555555555556,
              "#d8576b"
             ],
             [
              0.6666666666666666,
              "#ed7953"
             ],
             [
              0.7777777777777778,
              "#fb9f3a"
             ],
             [
              0.8888888888888888,
              "#fdca26"
             ],
             [
              1,
              "#f0f921"
             ]
            ],
            "type": "histogram2d"
           }
          ],
          "histogram2dcontour": [
           {
            "colorbar": {
             "outlinewidth": 0,
             "ticks": ""
            },
            "colorscale": [
             [
              0,
              "#0d0887"
             ],
             [
              0.1111111111111111,
              "#46039f"
             ],
             [
              0.2222222222222222,
              "#7201a8"
             ],
             [
              0.3333333333333333,
              "#9c179e"
             ],
             [
              0.4444444444444444,
              "#bd3786"
             ],
             [
              0.5555555555555556,
              "#d8576b"
             ],
             [
              0.6666666666666666,
              "#ed7953"
             ],
             [
              0.7777777777777778,
              "#fb9f3a"
             ],
             [
              0.8888888888888888,
              "#fdca26"
             ],
             [
              1,
              "#f0f921"
             ]
            ],
            "type": "histogram2dcontour"
           }
          ],
          "mesh3d": [
           {
            "colorbar": {
             "outlinewidth": 0,
             "ticks": ""
            },
            "type": "mesh3d"
           }
          ],
          "parcoords": [
           {
            "line": {
             "colorbar": {
              "outlinewidth": 0,
              "ticks": ""
             }
            },
            "type": "parcoords"
           }
          ],
          "pie": [
           {
            "automargin": true,
            "type": "pie"
           }
          ],
          "scatter": [
           {
            "fillpattern": {
             "fillmode": "overlay",
             "size": 10,
             "solidity": 0.2
            },
            "type": "scatter"
           }
          ],
          "scatter3d": [
           {
            "line": {
             "colorbar": {
              "outlinewidth": 0,
              "ticks": ""
             }
            },
            "marker": {
             "colorbar": {
              "outlinewidth": 0,
              "ticks": ""
             }
            },
            "type": "scatter3d"
           }
          ],
          "scattercarpet": [
           {
            "marker": {
             "colorbar": {
              "outlinewidth": 0,
              "ticks": ""
             }
            },
            "type": "scattercarpet"
           }
          ],
          "scattergeo": [
           {
            "marker": {
             "colorbar": {
              "outlinewidth": 0,
              "ticks": ""
             }
            },
            "type": "scattergeo"
           }
          ],
          "scattergl": [
           {
            "marker": {
             "colorbar": {
              "outlinewidth": 0,
              "ticks": ""
             }
            },
            "type": "scattergl"
           }
          ],
          "scattermapbox": [
           {
            "marker": {
             "colorbar": {
              "outlinewidth": 0,
              "ticks": ""
             }
            },
            "type": "scattermapbox"
           }
          ],
          "scatterpolar": [
           {
            "marker": {
             "colorbar": {
              "outlinewidth": 0,
              "ticks": ""
             }
            },
            "type": "scatterpolar"
           }
          ],
          "scatterpolargl": [
           {
            "marker": {
             "colorbar": {
              "outlinewidth": 0,
              "ticks": ""
             }
            },
            "type": "scatterpolargl"
           }
          ],
          "scatterternary": [
           {
            "marker": {
             "colorbar": {
              "outlinewidth": 0,
              "ticks": ""
             }
            },
            "type": "scatterternary"
           }
          ],
          "surface": [
           {
            "colorbar": {
             "outlinewidth": 0,
             "ticks": ""
            },
            "colorscale": [
             [
              0,
              "#0d0887"
             ],
             [
              0.1111111111111111,
              "#46039f"
             ],
             [
              0.2222222222222222,
              "#7201a8"
             ],
             [
              0.3333333333333333,
              "#9c179e"
             ],
             [
              0.4444444444444444,
              "#bd3786"
             ],
             [
              0.5555555555555556,
              "#d8576b"
             ],
             [
              0.6666666666666666,
              "#ed7953"
             ],
             [
              0.7777777777777778,
              "#fb9f3a"
             ],
             [
              0.8888888888888888,
              "#fdca26"
             ],
             [
              1,
              "#f0f921"
             ]
            ],
            "type": "surface"
           }
          ],
          "table": [
           {
            "cells": {
             "fill": {
              "color": "#EBF0F8"
             },
             "line": {
              "color": "white"
             }
            },
            "header": {
             "fill": {
              "color": "#C8D4E3"
             },
             "line": {
              "color": "white"
             }
            },
            "type": "table"
           }
          ]
         },
         "layout": {
          "annotationdefaults": {
           "arrowcolor": "#2a3f5f",
           "arrowhead": 0,
           "arrowwidth": 1
          },
          "autotypenumbers": "strict",
          "coloraxis": {
           "colorbar": {
            "outlinewidth": 0,
            "ticks": ""
           }
          },
          "colorscale": {
           "diverging": [
            [
             0,
             "#8e0152"
            ],
            [
             0.1,
             "#c51b7d"
            ],
            [
             0.2,
             "#de77ae"
            ],
            [
             0.3,
             "#f1b6da"
            ],
            [
             0.4,
             "#fde0ef"
            ],
            [
             0.5,
             "#f7f7f7"
            ],
            [
             0.6,
             "#e6f5d0"
            ],
            [
             0.7,
             "#b8e186"
            ],
            [
             0.8,
             "#7fbc41"
            ],
            [
             0.9,
             "#4d9221"
            ],
            [
             1,
             "#276419"
            ]
           ],
           "sequential": [
            [
             0,
             "#0d0887"
            ],
            [
             0.1111111111111111,
             "#46039f"
            ],
            [
             0.2222222222222222,
             "#7201a8"
            ],
            [
             0.3333333333333333,
             "#9c179e"
            ],
            [
             0.4444444444444444,
             "#bd3786"
            ],
            [
             0.5555555555555556,
             "#d8576b"
            ],
            [
             0.6666666666666666,
             "#ed7953"
            ],
            [
             0.7777777777777778,
             "#fb9f3a"
            ],
            [
             0.8888888888888888,
             "#fdca26"
            ],
            [
             1,
             "#f0f921"
            ]
           ],
           "sequentialminus": [
            [
             0,
             "#0d0887"
            ],
            [
             0.1111111111111111,
             "#46039f"
            ],
            [
             0.2222222222222222,
             "#7201a8"
            ],
            [
             0.3333333333333333,
             "#9c179e"
            ],
            [
             0.4444444444444444,
             "#bd3786"
            ],
            [
             0.5555555555555556,
             "#d8576b"
            ],
            [
             0.6666666666666666,
             "#ed7953"
            ],
            [
             0.7777777777777778,
             "#fb9f3a"
            ],
            [
             0.8888888888888888,
             "#fdca26"
            ],
            [
             1,
             "#f0f921"
            ]
           ]
          },
          "colorway": [
           "#636efa",
           "#EF553B",
           "#00cc96",
           "#ab63fa",
           "#FFA15A",
           "#19d3f3",
           "#FF6692",
           "#B6E880",
           "#FF97FF",
           "#FECB52"
          ],
          "font": {
           "color": "#2a3f5f"
          },
          "geo": {
           "bgcolor": "white",
           "lakecolor": "white",
           "landcolor": "#E5ECF6",
           "showlakes": true,
           "showland": true,
           "subunitcolor": "white"
          },
          "hoverlabel": {
           "align": "left"
          },
          "hovermode": "closest",
          "mapbox": {
           "style": "light"
          },
          "paper_bgcolor": "white",
          "plot_bgcolor": "#E5ECF6",
          "polar": {
           "angularaxis": {
            "gridcolor": "white",
            "linecolor": "white",
            "ticks": ""
           },
           "bgcolor": "#E5ECF6",
           "radialaxis": {
            "gridcolor": "white",
            "linecolor": "white",
            "ticks": ""
           }
          },
          "scene": {
           "xaxis": {
            "backgroundcolor": "#E5ECF6",
            "gridcolor": "white",
            "gridwidth": 2,
            "linecolor": "white",
            "showbackground": true,
            "ticks": "",
            "zerolinecolor": "white"
           },
           "yaxis": {
            "backgroundcolor": "#E5ECF6",
            "gridcolor": "white",
            "gridwidth": 2,
            "linecolor": "white",
            "showbackground": true,
            "ticks": "",
            "zerolinecolor": "white"
           },
           "zaxis": {
            "backgroundcolor": "#E5ECF6",
            "gridcolor": "white",
            "gridwidth": 2,
            "linecolor": "white",
            "showbackground": true,
            "ticks": "",
            "zerolinecolor": "white"
           }
          },
          "shapedefaults": {
           "line": {
            "color": "#2a3f5f"
           }
          },
          "ternary": {
           "aaxis": {
            "gridcolor": "white",
            "linecolor": "white",
            "ticks": ""
           },
           "baxis": {
            "gridcolor": "white",
            "linecolor": "white",
            "ticks": ""
           },
           "bgcolor": "#E5ECF6",
           "caxis": {
            "gridcolor": "white",
            "linecolor": "white",
            "ticks": ""
           }
          },
          "title": {
           "x": 0.05
          },
          "xaxis": {
           "automargin": true,
           "gridcolor": "white",
           "linecolor": "white",
           "ticks": "",
           "title": {
            "standoff": 15
           },
           "zerolinecolor": "white",
           "zerolinewidth": 2
          },
          "yaxis": {
           "automargin": true,
           "gridcolor": "white",
           "linecolor": "white",
           "ticks": "",
           "title": {
            "standoff": 15
           },
           "zerolinecolor": "white",
           "zerolinewidth": 2
          }
         }
        },
        "title": {
         "text": "Inquinamento da CO2 dal 1961 al 2013 causato dalla produzione di cibi e mangimi(KGCO2)"
        },
        "xaxis": {
         "anchor": "y",
         "domain": [
          0,
          1
         ],
         "title": {
          "text": "Type"
         }
        },
        "yaxis": {
         "anchor": "x",
         "domain": [
          0,
          1
         ],
         "title": {
          "text": "KGCO2"
         }
        }
       }
      }
     },
     "metadata": {},
     "output_type": "display_data"
    }
   ],
   "source": [
    "# Estrazione dei tipi di alimento\n",
    "Food_types = Food_feed_df[\"Type\"].drop_duplicates().to_list()\n",
    "Food_types_CO2KG = [Food_Production_df[Food_Production_df[\"Food product\"] == food_type][\"Total_emissions\"].to_list() for food_type in Food_types]\n",
    "\n",
    "Feed_types = Feed_items[\"Type\"].drop_duplicates().to_list()\n",
    "Feed_types_CO2KG = [Food_Production_df[Food_Production_df[\"Food product\"] == feed_type][\"Total_emissions\"].to_list() for feed_type in Feed_types]\n",
    "\n",
    "# Creazione del dizionario\n",
    "Food_types_CO2KG_dict = dict()\n",
    "Feed_types_CO2KG_dict = dict()\n",
    "\n",
    "# Creazione del dizionario\n",
    "for i in range(len(Food_types)):\n",
    "     Food_types_CO2KG_dict[Food_types[i]] = 0\n",
    "\n",
    "     if len(Food_types_CO2KG[i]) != 0:\n",
    "          Food_types_CO2KG_dict[Food_types[i]] = Food_types_CO2KG[i][0]\n",
    "\n",
    "for index, record in Food_feed_df.iterrows():\n",
    "     Food_type = record[\"Type\"]\n",
    "     if Food_type in Food_types_CO2KG_dict.keys():\n",
    "          Food_feed_df.at[index, \"KGCO2\"] =  Food_feed_df.at[index, \"Tonnes\"] * Food_types_CO2KG_dict[Food_type] * 1000\n",
    "          Food_feed_df.at[index, \"TonnesCO2\"] = Food_feed_df.at[index, \"Tonnes\"] * Food_types_CO2KG_dict[Food_type]\n",
    "\n",
    "for i in range(len(Feed_types)):\n",
    "     Feed_types_CO2KG_dict[Feed_types[i]] = 0\n",
    "\n",
    "     if len(Feed_types_CO2KG[i]) != 0:\n",
    "          Feed_types_CO2KG_dict[Feed_types[i]] = Feed_types_CO2KG[i][0]\n",
    "\n",
    "for index, record in Feed_items.iterrows():\n",
    "     Feed_type = record[\"Type\"]\n",
    "     if Feed_type in Feed_types_CO2KG_dict.keys():\n",
    "          Feed_items.at[index, \"KGCO2\"] =  Feed_items.at[index, \"Tonnes\"] * Feed_types_CO2KG_dict[Feed_type] * 1000\n",
    "          Feed_items.at[index, \"TonnesCO2\"] = Feed_items.at[index, \"Tonnes\"] * Feed_types_CO2KG_dict[Feed_type]\n",
    "\n",
    "Food_feed_df = pd.concat([Food_feed_df, Feed_items], ignore_index=True)\n",
    "\n",
    "temp_df = Food_feed_df.groupby(\"Type\").sum(numeric_only=True).sort_values(by=\"KGCO2\", ascending=False)\n",
    "\n",
    "fig = px.bar(\n",
    "     temp_df,\n",
    "     x=temp_df.index,\n",
    "     y=\"KGCO2\",\n",
    "     color=\"KGCO2\",\n",
    "     title='Inquinamento da CO2 dal 1961 al 2013 causato dalla produzione di cibi e mangimi(KGCO2)',\n",
    "     height=600\n",
    ")\n",
    "\n",
    "fig.show()"
   ]
  },
  {
   "cell_type": "markdown",
   "metadata": {},
   "source": [
    "# Calcolo eutrofizzazione dei cibi e mangimi prodotti dal 1961 al 2013"
   ]
  },
  {
   "cell_type": "markdown",
   "metadata": {},
   "source": [
    "#### L'eutrofizzazione è un fenomeno dato dal rilascio della sostanza PO4, creerò una colonna che calcola i grammi di PO4 per ogni kilo di cibo/mangime prodotto"
   ]
  },
  {
   "cell_type": "code",
   "execution_count": 802,
   "metadata": {},
   "outputs": [
    {
     "data": {
      "application/vnd.plotly.v1+json": {
       "config": {
        "plotlyServerURL": "https://plot.ly"
       },
       "data": [
        {
         "alignmentgroup": "True",
         "hovertemplate": "Type=%{x}<br>Total gPO4 producted=%{marker.color}<extra></extra>",
         "legendgroup": "",
         "marker": {
          "color": [
           508266104670000000,
           458401261430000000,
           425062129220000000,
           221264965190000000,
           220929620670000000,
           212404474640000000,
           185971738290000000,
           172539095400000000,
           127924560130000000,
           114853845580000000,
           101434663160000000,
           85403823610000000,
           83566855940000000,
           76157399250000000,
           65817956060000000,
           59455703080000000,
           48937233810000000,
           43663402550000000,
           36048288580000000,
           25269275760000000,
           15808628210000000,
           14705393230000000,
           12917210570000000,
           12266628200000000,
           12153728640000000,
           3933764180000000,
           3649706860000000,
           1262397750000000,
           436885260000000
          ],
          "coloraxis": "coloraxis",
          "pattern": {
           "shape": ""
          }
         },
         "name": "",
         "offsetgroup": "",
         "orientation": "v",
         "showlegend": false,
         "textposition": "auto",
         "type": "bar",
         "x": [
          "Milk",
          "Wheat",
          "Other Vegetables",
          "Tomatoes",
          "Bananas",
          "Potatoes",
          "Rice",
          "Other Fruit",
          "Wine",
          "Beef (beef herd)",
          "Apples",
          "Cassava",
          "Poultry Meat",
          "Fish (farmed)",
          "Pig Meat",
          "Grapes",
          "Eggs",
          "Onions",
          "Cane Sugar",
          "Citrus Fruit",
          "Peas",
          "Mutton",
          "Nuts",
          "Palm Oil",
          "Groundnuts",
          "Coffee",
          "Other Pulses",
          "Beet Sugar",
          "Olive Oil"
         ],
         "xaxis": "x",
         "y": [
          508266104670000000,
          458401261430000000,
          425062129220000000,
          221264965190000000,
          220929620670000000,
          212404474640000000,
          185971738290000000,
          172539095400000000,
          127924560130000000,
          114853845580000000,
          101434663160000000,
          85403823610000000,
          83566855940000000,
          76157399250000000,
          65817956060000000,
          59455703080000000,
          48937233810000000,
          43663402550000000,
          36048288580000000,
          25269275760000000,
          15808628210000000,
          14705393230000000,
          12917210570000000,
          12266628200000000,
          12153728640000000,
          3933764180000000,
          3649706860000000,
          1262397750000000,
          436885260000000
         ],
         "yaxis": "y"
        }
       ],
       "layout": {
        "barmode": "relative",
        "coloraxis": {
         "colorbar": {
          "title": {
           "text": "Total gPO4 producted"
          }
         },
         "colorscale": [
          [
           0,
           "#0d0887"
          ],
          [
           0.1111111111111111,
           "#46039f"
          ],
          [
           0.2222222222222222,
           "#7201a8"
          ],
          [
           0.3333333333333333,
           "#9c179e"
          ],
          [
           0.4444444444444444,
           "#bd3786"
          ],
          [
           0.5555555555555556,
           "#d8576b"
          ],
          [
           0.6666666666666666,
           "#ed7953"
          ],
          [
           0.7777777777777778,
           "#fb9f3a"
          ],
          [
           0.8888888888888888,
           "#fdca26"
          ],
          [
           1,
           "#f0f921"
          ]
         ]
        },
        "height": 600,
        "legend": {
         "tracegroupgap": 0
        },
        "margin": {
         "t": 60
        },
        "template": {
         "data": {
          "bar": [
           {
            "error_x": {
             "color": "#2a3f5f"
            },
            "error_y": {
             "color": "#2a3f5f"
            },
            "marker": {
             "line": {
              "color": "#E5ECF6",
              "width": 0.5
             },
             "pattern": {
              "fillmode": "overlay",
              "size": 10,
              "solidity": 0.2
             }
            },
            "type": "bar"
           }
          ],
          "barpolar": [
           {
            "marker": {
             "line": {
              "color": "#E5ECF6",
              "width": 0.5
             },
             "pattern": {
              "fillmode": "overlay",
              "size": 10,
              "solidity": 0.2
             }
            },
            "type": "barpolar"
           }
          ],
          "carpet": [
           {
            "aaxis": {
             "endlinecolor": "#2a3f5f",
             "gridcolor": "white",
             "linecolor": "white",
             "minorgridcolor": "white",
             "startlinecolor": "#2a3f5f"
            },
            "baxis": {
             "endlinecolor": "#2a3f5f",
             "gridcolor": "white",
             "linecolor": "white",
             "minorgridcolor": "white",
             "startlinecolor": "#2a3f5f"
            },
            "type": "carpet"
           }
          ],
          "choropleth": [
           {
            "colorbar": {
             "outlinewidth": 0,
             "ticks": ""
            },
            "type": "choropleth"
           }
          ],
          "contour": [
           {
            "colorbar": {
             "outlinewidth": 0,
             "ticks": ""
            },
            "colorscale": [
             [
              0,
              "#0d0887"
             ],
             [
              0.1111111111111111,
              "#46039f"
             ],
             [
              0.2222222222222222,
              "#7201a8"
             ],
             [
              0.3333333333333333,
              "#9c179e"
             ],
             [
              0.4444444444444444,
              "#bd3786"
             ],
             [
              0.5555555555555556,
              "#d8576b"
             ],
             [
              0.6666666666666666,
              "#ed7953"
             ],
             [
              0.7777777777777778,
              "#fb9f3a"
             ],
             [
              0.8888888888888888,
              "#fdca26"
             ],
             [
              1,
              "#f0f921"
             ]
            ],
            "type": "contour"
           }
          ],
          "contourcarpet": [
           {
            "colorbar": {
             "outlinewidth": 0,
             "ticks": ""
            },
            "type": "contourcarpet"
           }
          ],
          "heatmap": [
           {
            "colorbar": {
             "outlinewidth": 0,
             "ticks": ""
            },
            "colorscale": [
             [
              0,
              "#0d0887"
             ],
             [
              0.1111111111111111,
              "#46039f"
             ],
             [
              0.2222222222222222,
              "#7201a8"
             ],
             [
              0.3333333333333333,
              "#9c179e"
             ],
             [
              0.4444444444444444,
              "#bd3786"
             ],
             [
              0.5555555555555556,
              "#d8576b"
             ],
             [
              0.6666666666666666,
              "#ed7953"
             ],
             [
              0.7777777777777778,
              "#fb9f3a"
             ],
             [
              0.8888888888888888,
              "#fdca26"
             ],
             [
              1,
              "#f0f921"
             ]
            ],
            "type": "heatmap"
           }
          ],
          "heatmapgl": [
           {
            "colorbar": {
             "outlinewidth": 0,
             "ticks": ""
            },
            "colorscale": [
             [
              0,
              "#0d0887"
             ],
             [
              0.1111111111111111,
              "#46039f"
             ],
             [
              0.2222222222222222,
              "#7201a8"
             ],
             [
              0.3333333333333333,
              "#9c179e"
             ],
             [
              0.4444444444444444,
              "#bd3786"
             ],
             [
              0.5555555555555556,
              "#d8576b"
             ],
             [
              0.6666666666666666,
              "#ed7953"
             ],
             [
              0.7777777777777778,
              "#fb9f3a"
             ],
             [
              0.8888888888888888,
              "#fdca26"
             ],
             [
              1,
              "#f0f921"
             ]
            ],
            "type": "heatmapgl"
           }
          ],
          "histogram": [
           {
            "marker": {
             "pattern": {
              "fillmode": "overlay",
              "size": 10,
              "solidity": 0.2
             }
            },
            "type": "histogram"
           }
          ],
          "histogram2d": [
           {
            "colorbar": {
             "outlinewidth": 0,
             "ticks": ""
            },
            "colorscale": [
             [
              0,
              "#0d0887"
             ],
             [
              0.1111111111111111,
              "#46039f"
             ],
             [
              0.2222222222222222,
              "#7201a8"
             ],
             [
              0.3333333333333333,
              "#9c179e"
             ],
             [
              0.4444444444444444,
              "#bd3786"
             ],
             [
              0.5555555555555556,
              "#d8576b"
             ],
             [
              0.6666666666666666,
              "#ed7953"
             ],
             [
              0.7777777777777778,
              "#fb9f3a"
             ],
             [
              0.8888888888888888,
              "#fdca26"
             ],
             [
              1,
              "#f0f921"
             ]
            ],
            "type": "histogram2d"
           }
          ],
          "histogram2dcontour": [
           {
            "colorbar": {
             "outlinewidth": 0,
             "ticks": ""
            },
            "colorscale": [
             [
              0,
              "#0d0887"
             ],
             [
              0.1111111111111111,
              "#46039f"
             ],
             [
              0.2222222222222222,
              "#7201a8"
             ],
             [
              0.3333333333333333,
              "#9c179e"
             ],
             [
              0.4444444444444444,
              "#bd3786"
             ],
             [
              0.5555555555555556,
              "#d8576b"
             ],
             [
              0.6666666666666666,
              "#ed7953"
             ],
             [
              0.7777777777777778,
              "#fb9f3a"
             ],
             [
              0.8888888888888888,
              "#fdca26"
             ],
             [
              1,
              "#f0f921"
             ]
            ],
            "type": "histogram2dcontour"
           }
          ],
          "mesh3d": [
           {
            "colorbar": {
             "outlinewidth": 0,
             "ticks": ""
            },
            "type": "mesh3d"
           }
          ],
          "parcoords": [
           {
            "line": {
             "colorbar": {
              "outlinewidth": 0,
              "ticks": ""
             }
            },
            "type": "parcoords"
           }
          ],
          "pie": [
           {
            "automargin": true,
            "type": "pie"
           }
          ],
          "scatter": [
           {
            "fillpattern": {
             "fillmode": "overlay",
             "size": 10,
             "solidity": 0.2
            },
            "type": "scatter"
           }
          ],
          "scatter3d": [
           {
            "line": {
             "colorbar": {
              "outlinewidth": 0,
              "ticks": ""
             }
            },
            "marker": {
             "colorbar": {
              "outlinewidth": 0,
              "ticks": ""
             }
            },
            "type": "scatter3d"
           }
          ],
          "scattercarpet": [
           {
            "marker": {
             "colorbar": {
              "outlinewidth": 0,
              "ticks": ""
             }
            },
            "type": "scattercarpet"
           }
          ],
          "scattergeo": [
           {
            "marker": {
             "colorbar": {
              "outlinewidth": 0,
              "ticks": ""
             }
            },
            "type": "scattergeo"
           }
          ],
          "scattergl": [
           {
            "marker": {
             "colorbar": {
              "outlinewidth": 0,
              "ticks": ""
             }
            },
            "type": "scattergl"
           }
          ],
          "scattermapbox": [
           {
            "marker": {
             "colorbar": {
              "outlinewidth": 0,
              "ticks": ""
             }
            },
            "type": "scattermapbox"
           }
          ],
          "scatterpolar": [
           {
            "marker": {
             "colorbar": {
              "outlinewidth": 0,
              "ticks": ""
             }
            },
            "type": "scatterpolar"
           }
          ],
          "scatterpolargl": [
           {
            "marker": {
             "colorbar": {
              "outlinewidth": 0,
              "ticks": ""
             }
            },
            "type": "scatterpolargl"
           }
          ],
          "scatterternary": [
           {
            "marker": {
             "colorbar": {
              "outlinewidth": 0,
              "ticks": ""
             }
            },
            "type": "scatterternary"
           }
          ],
          "surface": [
           {
            "colorbar": {
             "outlinewidth": 0,
             "ticks": ""
            },
            "colorscale": [
             [
              0,
              "#0d0887"
             ],
             [
              0.1111111111111111,
              "#46039f"
             ],
             [
              0.2222222222222222,
              "#7201a8"
             ],
             [
              0.3333333333333333,
              "#9c179e"
             ],
             [
              0.4444444444444444,
              "#bd3786"
             ],
             [
              0.5555555555555556,
              "#d8576b"
             ],
             [
              0.6666666666666666,
              "#ed7953"
             ],
             [
              0.7777777777777778,
              "#fb9f3a"
             ],
             [
              0.8888888888888888,
              "#fdca26"
             ],
             [
              1,
              "#f0f921"
             ]
            ],
            "type": "surface"
           }
          ],
          "table": [
           {
            "cells": {
             "fill": {
              "color": "#EBF0F8"
             },
             "line": {
              "color": "white"
             }
            },
            "header": {
             "fill": {
              "color": "#C8D4E3"
             },
             "line": {
              "color": "white"
             }
            },
            "type": "table"
           }
          ]
         },
         "layout": {
          "annotationdefaults": {
           "arrowcolor": "#2a3f5f",
           "arrowhead": 0,
           "arrowwidth": 1
          },
          "autotypenumbers": "strict",
          "coloraxis": {
           "colorbar": {
            "outlinewidth": 0,
            "ticks": ""
           }
          },
          "colorscale": {
           "diverging": [
            [
             0,
             "#8e0152"
            ],
            [
             0.1,
             "#c51b7d"
            ],
            [
             0.2,
             "#de77ae"
            ],
            [
             0.3,
             "#f1b6da"
            ],
            [
             0.4,
             "#fde0ef"
            ],
            [
             0.5,
             "#f7f7f7"
            ],
            [
             0.6,
             "#e6f5d0"
            ],
            [
             0.7,
             "#b8e186"
            ],
            [
             0.8,
             "#7fbc41"
            ],
            [
             0.9,
             "#4d9221"
            ],
            [
             1,
             "#276419"
            ]
           ],
           "sequential": [
            [
             0,
             "#0d0887"
            ],
            [
             0.1111111111111111,
             "#46039f"
            ],
            [
             0.2222222222222222,
             "#7201a8"
            ],
            [
             0.3333333333333333,
             "#9c179e"
            ],
            [
             0.4444444444444444,
             "#bd3786"
            ],
            [
             0.5555555555555556,
             "#d8576b"
            ],
            [
             0.6666666666666666,
             "#ed7953"
            ],
            [
             0.7777777777777778,
             "#fb9f3a"
            ],
            [
             0.8888888888888888,
             "#fdca26"
            ],
            [
             1,
             "#f0f921"
            ]
           ],
           "sequentialminus": [
            [
             0,
             "#0d0887"
            ],
            [
             0.1111111111111111,
             "#46039f"
            ],
            [
             0.2222222222222222,
             "#7201a8"
            ],
            [
             0.3333333333333333,
             "#9c179e"
            ],
            [
             0.4444444444444444,
             "#bd3786"
            ],
            [
             0.5555555555555556,
             "#d8576b"
            ],
            [
             0.6666666666666666,
             "#ed7953"
            ],
            [
             0.7777777777777778,
             "#fb9f3a"
            ],
            [
             0.8888888888888888,
             "#fdca26"
            ],
            [
             1,
             "#f0f921"
            ]
           ]
          },
          "colorway": [
           "#636efa",
           "#EF553B",
           "#00cc96",
           "#ab63fa",
           "#FFA15A",
           "#19d3f3",
           "#FF6692",
           "#B6E880",
           "#FF97FF",
           "#FECB52"
          ],
          "font": {
           "color": "#2a3f5f"
          },
          "geo": {
           "bgcolor": "white",
           "lakecolor": "white",
           "landcolor": "#E5ECF6",
           "showlakes": true,
           "showland": true,
           "subunitcolor": "white"
          },
          "hoverlabel": {
           "align": "left"
          },
          "hovermode": "closest",
          "mapbox": {
           "style": "light"
          },
          "paper_bgcolor": "white",
          "plot_bgcolor": "#E5ECF6",
          "polar": {
           "angularaxis": {
            "gridcolor": "white",
            "linecolor": "white",
            "ticks": ""
           },
           "bgcolor": "#E5ECF6",
           "radialaxis": {
            "gridcolor": "white",
            "linecolor": "white",
            "ticks": ""
           }
          },
          "scene": {
           "xaxis": {
            "backgroundcolor": "#E5ECF6",
            "gridcolor": "white",
            "gridwidth": 2,
            "linecolor": "white",
            "showbackground": true,
            "ticks": "",
            "zerolinecolor": "white"
           },
           "yaxis": {
            "backgroundcolor": "#E5ECF6",
            "gridcolor": "white",
            "gridwidth": 2,
            "linecolor": "white",
            "showbackground": true,
            "ticks": "",
            "zerolinecolor": "white"
           },
           "zaxis": {
            "backgroundcolor": "#E5ECF6",
            "gridcolor": "white",
            "gridwidth": 2,
            "linecolor": "white",
            "showbackground": true,
            "ticks": "",
            "zerolinecolor": "white"
           }
          },
          "shapedefaults": {
           "line": {
            "color": "#2a3f5f"
           }
          },
          "ternary": {
           "aaxis": {
            "gridcolor": "white",
            "linecolor": "white",
            "ticks": ""
           },
           "baxis": {
            "gridcolor": "white",
            "linecolor": "white",
            "ticks": ""
           },
           "bgcolor": "#E5ECF6",
           "caxis": {
            "gridcolor": "white",
            "linecolor": "white",
            "ticks": ""
           }
          },
          "title": {
           "x": 0.05
          },
          "xaxis": {
           "automargin": true,
           "gridcolor": "white",
           "linecolor": "white",
           "ticks": "",
           "title": {
            "standoff": 15
           },
           "zerolinecolor": "white",
           "zerolinewidth": 2
          },
          "yaxis": {
           "automargin": true,
           "gridcolor": "white",
           "linecolor": "white",
           "ticks": "",
           "title": {
            "standoff": 15
           },
           "zerolinecolor": "white",
           "zerolinewidth": 2
          }
         }
        },
        "xaxis": {
         "anchor": "y",
         "domain": [
          0,
          1
         ],
         "title": {
          "text": "Type"
         }
        },
        "yaxis": {
         "anchor": "x",
         "domain": [
          0,
          1
         ],
         "title": {
          "text": "Total gPO4 producted"
         }
        }
       }
      }
     },
     "metadata": {},
     "output_type": "display_data"
    }
   ],
   "source": [
    "# Creare una funzione troppo codice\n",
    "Food_types_PO4_emissions = [Food_Production_df[Food_Production_df[\"Food product\"] == food_type][\"Eutrophying emissions per kilogram (gPO₄eq per kilogram)\"].to_list() for food_type in Food_types]\n",
    "Food_types_PO4_dict = dict()\n",
    "\n",
    "Feed_types_PO4_emissions = [Food_Production_df[Food_Production_df[\"Food product\"] == food_type][\"Eutrophying emissions per kilogram (gPO₄eq per kilogram)\"].to_list() for food_type in Food_types]\n",
    "Feed_types_PO4_dict = dict()\n",
    "\n",
    "for i in range(len(Food_types)):\n",
    "     Food_types_PO4_dict[Food_types[i]] = 0\n",
    "\n",
    "     if len(Food_types_PO4_emissions[i]) != 0:\n",
    "          Food_types_PO4_dict[Food_types[i]] = Food_types_PO4_emissions[i][0]\n",
    "\n",
    "for index, record in Feed_items.iterrows():\n",
    "     Food_type = record[\"Type\"]\n",
    "     if Food_type in Food_types_PO4_dict.keys():\n",
    "          Food_feed_df.at[index, \"Total gPO4 producted\"] =  Food_feed_df.at[index, \"Tonnes\"] * 1000000 * Food_types_PO4_dict[Food_type]\n",
    "\n",
    "for i in range(len(Feed_types)):\n",
    "     Feed_types_PO4_dict[Feed_types[i]] = 0\n",
    "\n",
    "     if len(Feed_types_PO4_emissions[i]) != 0:\n",
    "          Feed_types_PO4_dict[Feed_types[i]] = Feed_types_PO4_emissions[i][0]\n",
    "\n",
    "for index, record in Feed_items.iterrows():\n",
    "     Feed_type = record[\"Type\"]\n",
    "     if Feed_type in Feed_types_PO4_dict.keys():\n",
    "          Feed_items.at[index, \"Total gPO4 producted\"] =  Feed_items.at[index, \"Tonnes\"] * 1000000 * Feed_types_PO4_dict[Food_type]\n",
    "\n",
    "\n",
    "Food_feed_df = pd.concat([Food_feed_df, Feed_items], ignore_index=True)\n",
    "temp_df = Food_feed_df.groupby(\"Type\").sum(numeric_only=True).sort_values(by=\"Total gPO4 producted\", ascending=False)\n",
    "\n",
    "fig = px.bar(\n",
    "     temp_df,\n",
    "     x=temp_df.index,\n",
    "     y=\"Total gPO4 producted\",\n",
    "     color=\"Total gPO4 producted\",\n",
    "     height=600\n",
    ")\n",
    "\n",
    "fig.show()"
   ]
  },
  {
   "cell_type": "markdown",
   "metadata": {},
   "source": [
    "# Calcolo acqua usata per i cibi/mangimi prodotti a livello mondiale"
   ]
  },
  {
   "cell_type": "code",
   "execution_count": 803,
   "metadata": {},
   "outputs": [
    {
     "data": {
      "application/vnd.plotly.v1+json": {
       "config": {
        "plotlyServerURL": "https://plot.ly"
       },
       "data": [
        {
         "alignmentgroup": "True",
         "hovertemplate": "Type=%{x}<br>Total water(lt) used=%{marker.color}<extra></extra>",
         "legendgroup": "",
         "marker": {
          "color": [
           34775123608900000,
           20830754557600000,
           15105978239900002,
           5454024180000000,
           3292240209600000,
           2188584708100000,
           2026613292500000,
           1397955367500000,
           1360243425200000,
           1232901013100000,
           937335498200000,
           821550266500000,
           669542295500000,
           589238935800000,
           556750335900000,
           306602486000000,
           290803365000000,
           265189792500000,
           240899600000000,
           206231882700000,
           177357569100000,
           89944579800000,
           64172300300000,
           18744782000000,
           7065494100000,
           1996697600000,
           20192500000,
           5330000000,
           0
          ],
          "coloraxis": "coloraxis",
          "pattern": {
           "shape": ""
          }
         },
         "name": "",
         "offsetgroup": "",
         "orientation": "v",
         "showlegend": false,
         "textposition": "auto",
         "type": "bar",
         "x": [
          "Rice",
          "Fish (farmed)",
          "Milk",
          "Pig Meat",
          "Beef (beef herd)",
          "Cane Sugar",
          "Other Vegetables",
          "Poultry Meat",
          "Nuts",
          "Tomatoes",
          "Eggs",
          "Potatoes",
          "Other Fruit",
          "Other Pulses",
          "Groundnuts",
          "Apples",
          "Wheat",
          "Bananas",
          "Cassava",
          "Olive Oil",
          "Peas",
          "Wine",
          "Beet Sugar",
          "Citrus Fruit",
          "Coffee",
          "Palm Oil",
          "Mutton",
          "Onions",
          "Grapes"
         ],
         "xaxis": "x",
         "y": [
          34775123608900000,
          20830754557600000,
          15105978239900002,
          5454024180000000,
          3292240209600000,
          2188584708100000,
          2026613292500000,
          1397955367500000,
          1360243425200000,
          1232901013100000,
          937335498200000,
          821550266500000,
          669542295500000,
          589238935800000,
          556750335900000,
          306602486000000,
          290803365000000,
          265189792500000,
          240899600000000,
          206231882700000,
          177357569100000,
          89944579800000,
          64172300300000,
          18744782000000,
          7065494100000,
          1996697600000,
          20192500000,
          5330000000,
          0
         ],
         "yaxis": "y"
        }
       ],
       "layout": {
        "barmode": "relative",
        "coloraxis": {
         "colorbar": {
          "title": {
           "text": "Total water(lt) used"
          }
         },
         "colorscale": [
          [
           0,
           "#0d0887"
          ],
          [
           0.1111111111111111,
           "#46039f"
          ],
          [
           0.2222222222222222,
           "#7201a8"
          ],
          [
           0.3333333333333333,
           "#9c179e"
          ],
          [
           0.4444444444444444,
           "#bd3786"
          ],
          [
           0.5555555555555556,
           "#d8576b"
          ],
          [
           0.6666666666666666,
           "#ed7953"
          ],
          [
           0.7777777777777778,
           "#fb9f3a"
          ],
          [
           0.8888888888888888,
           "#fdca26"
          ],
          [
           1,
           "#f0f921"
          ]
         ]
        },
        "height": 600,
        "legend": {
         "tracegroupgap": 0
        },
        "template": {
         "data": {
          "bar": [
           {
            "error_x": {
             "color": "#2a3f5f"
            },
            "error_y": {
             "color": "#2a3f5f"
            },
            "marker": {
             "line": {
              "color": "#E5ECF6",
              "width": 0.5
             },
             "pattern": {
              "fillmode": "overlay",
              "size": 10,
              "solidity": 0.2
             }
            },
            "type": "bar"
           }
          ],
          "barpolar": [
           {
            "marker": {
             "line": {
              "color": "#E5ECF6",
              "width": 0.5
             },
             "pattern": {
              "fillmode": "overlay",
              "size": 10,
              "solidity": 0.2
             }
            },
            "type": "barpolar"
           }
          ],
          "carpet": [
           {
            "aaxis": {
             "endlinecolor": "#2a3f5f",
             "gridcolor": "white",
             "linecolor": "white",
             "minorgridcolor": "white",
             "startlinecolor": "#2a3f5f"
            },
            "baxis": {
             "endlinecolor": "#2a3f5f",
             "gridcolor": "white",
             "linecolor": "white",
             "minorgridcolor": "white",
             "startlinecolor": "#2a3f5f"
            },
            "type": "carpet"
           }
          ],
          "choropleth": [
           {
            "colorbar": {
             "outlinewidth": 0,
             "ticks": ""
            },
            "type": "choropleth"
           }
          ],
          "contour": [
           {
            "colorbar": {
             "outlinewidth": 0,
             "ticks": ""
            },
            "colorscale": [
             [
              0,
              "#0d0887"
             ],
             [
              0.1111111111111111,
              "#46039f"
             ],
             [
              0.2222222222222222,
              "#7201a8"
             ],
             [
              0.3333333333333333,
              "#9c179e"
             ],
             [
              0.4444444444444444,
              "#bd3786"
             ],
             [
              0.5555555555555556,
              "#d8576b"
             ],
             [
              0.6666666666666666,
              "#ed7953"
             ],
             [
              0.7777777777777778,
              "#fb9f3a"
             ],
             [
              0.8888888888888888,
              "#fdca26"
             ],
             [
              1,
              "#f0f921"
             ]
            ],
            "type": "contour"
           }
          ],
          "contourcarpet": [
           {
            "colorbar": {
             "outlinewidth": 0,
             "ticks": ""
            },
            "type": "contourcarpet"
           }
          ],
          "heatmap": [
           {
            "colorbar": {
             "outlinewidth": 0,
             "ticks": ""
            },
            "colorscale": [
             [
              0,
              "#0d0887"
             ],
             [
              0.1111111111111111,
              "#46039f"
             ],
             [
              0.2222222222222222,
              "#7201a8"
             ],
             [
              0.3333333333333333,
              "#9c179e"
             ],
             [
              0.4444444444444444,
              "#bd3786"
             ],
             [
              0.5555555555555556,
              "#d8576b"
             ],
             [
              0.6666666666666666,
              "#ed7953"
             ],
             [
              0.7777777777777778,
              "#fb9f3a"
             ],
             [
              0.8888888888888888,
              "#fdca26"
             ],
             [
              1,
              "#f0f921"
             ]
            ],
            "type": "heatmap"
           }
          ],
          "heatmapgl": [
           {
            "colorbar": {
             "outlinewidth": 0,
             "ticks": ""
            },
            "colorscale": [
             [
              0,
              "#0d0887"
             ],
             [
              0.1111111111111111,
              "#46039f"
             ],
             [
              0.2222222222222222,
              "#7201a8"
             ],
             [
              0.3333333333333333,
              "#9c179e"
             ],
             [
              0.4444444444444444,
              "#bd3786"
             ],
             [
              0.5555555555555556,
              "#d8576b"
             ],
             [
              0.6666666666666666,
              "#ed7953"
             ],
             [
              0.7777777777777778,
              "#fb9f3a"
             ],
             [
              0.8888888888888888,
              "#fdca26"
             ],
             [
              1,
              "#f0f921"
             ]
            ],
            "type": "heatmapgl"
           }
          ],
          "histogram": [
           {
            "marker": {
             "pattern": {
              "fillmode": "overlay",
              "size": 10,
              "solidity": 0.2
             }
            },
            "type": "histogram"
           }
          ],
          "histogram2d": [
           {
            "colorbar": {
             "outlinewidth": 0,
             "ticks": ""
            },
            "colorscale": [
             [
              0,
              "#0d0887"
             ],
             [
              0.1111111111111111,
              "#46039f"
             ],
             [
              0.2222222222222222,
              "#7201a8"
             ],
             [
              0.3333333333333333,
              "#9c179e"
             ],
             [
              0.4444444444444444,
              "#bd3786"
             ],
             [
              0.5555555555555556,
              "#d8576b"
             ],
             [
              0.6666666666666666,
              "#ed7953"
             ],
             [
              0.7777777777777778,
              "#fb9f3a"
             ],
             [
              0.8888888888888888,
              "#fdca26"
             ],
             [
              1,
              "#f0f921"
             ]
            ],
            "type": "histogram2d"
           }
          ],
          "histogram2dcontour": [
           {
            "colorbar": {
             "outlinewidth": 0,
             "ticks": ""
            },
            "colorscale": [
             [
              0,
              "#0d0887"
             ],
             [
              0.1111111111111111,
              "#46039f"
             ],
             [
              0.2222222222222222,
              "#7201a8"
             ],
             [
              0.3333333333333333,
              "#9c179e"
             ],
             [
              0.4444444444444444,
              "#bd3786"
             ],
             [
              0.5555555555555556,
              "#d8576b"
             ],
             [
              0.6666666666666666,
              "#ed7953"
             ],
             [
              0.7777777777777778,
              "#fb9f3a"
             ],
             [
              0.8888888888888888,
              "#fdca26"
             ],
             [
              1,
              "#f0f921"
             ]
            ],
            "type": "histogram2dcontour"
           }
          ],
          "mesh3d": [
           {
            "colorbar": {
             "outlinewidth": 0,
             "ticks": ""
            },
            "type": "mesh3d"
           }
          ],
          "parcoords": [
           {
            "line": {
             "colorbar": {
              "outlinewidth": 0,
              "ticks": ""
             }
            },
            "type": "parcoords"
           }
          ],
          "pie": [
           {
            "automargin": true,
            "type": "pie"
           }
          ],
          "scatter": [
           {
            "fillpattern": {
             "fillmode": "overlay",
             "size": 10,
             "solidity": 0.2
            },
            "type": "scatter"
           }
          ],
          "scatter3d": [
           {
            "line": {
             "colorbar": {
              "outlinewidth": 0,
              "ticks": ""
             }
            },
            "marker": {
             "colorbar": {
              "outlinewidth": 0,
              "ticks": ""
             }
            },
            "type": "scatter3d"
           }
          ],
          "scattercarpet": [
           {
            "marker": {
             "colorbar": {
              "outlinewidth": 0,
              "ticks": ""
             }
            },
            "type": "scattercarpet"
           }
          ],
          "scattergeo": [
           {
            "marker": {
             "colorbar": {
              "outlinewidth": 0,
              "ticks": ""
             }
            },
            "type": "scattergeo"
           }
          ],
          "scattergl": [
           {
            "marker": {
             "colorbar": {
              "outlinewidth": 0,
              "ticks": ""
             }
            },
            "type": "scattergl"
           }
          ],
          "scattermapbox": [
           {
            "marker": {
             "colorbar": {
              "outlinewidth": 0,
              "ticks": ""
             }
            },
            "type": "scattermapbox"
           }
          ],
          "scatterpolar": [
           {
            "marker": {
             "colorbar": {
              "outlinewidth": 0,
              "ticks": ""
             }
            },
            "type": "scatterpolar"
           }
          ],
          "scatterpolargl": [
           {
            "marker": {
             "colorbar": {
              "outlinewidth": 0,
              "ticks": ""
             }
            },
            "type": "scatterpolargl"
           }
          ],
          "scatterternary": [
           {
            "marker": {
             "colorbar": {
              "outlinewidth": 0,
              "ticks": ""
             }
            },
            "type": "scatterternary"
           }
          ],
          "surface": [
           {
            "colorbar": {
             "outlinewidth": 0,
             "ticks": ""
            },
            "colorscale": [
             [
              0,
              "#0d0887"
             ],
             [
              0.1111111111111111,
              "#46039f"
             ],
             [
              0.2222222222222222,
              "#7201a8"
             ],
             [
              0.3333333333333333,
              "#9c179e"
             ],
             [
              0.4444444444444444,
              "#bd3786"
             ],
             [
              0.5555555555555556,
              "#d8576b"
             ],
             [
              0.6666666666666666,
              "#ed7953"
             ],
             [
              0.7777777777777778,
              "#fb9f3a"
             ],
             [
              0.8888888888888888,
              "#fdca26"
             ],
             [
              1,
              "#f0f921"
             ]
            ],
            "type": "surface"
           }
          ],
          "table": [
           {
            "cells": {
             "fill": {
              "color": "#EBF0F8"
             },
             "line": {
              "color": "white"
             }
            },
            "header": {
             "fill": {
              "color": "#C8D4E3"
             },
             "line": {
              "color": "white"
             }
            },
            "type": "table"
           }
          ]
         },
         "layout": {
          "annotationdefaults": {
           "arrowcolor": "#2a3f5f",
           "arrowhead": 0,
           "arrowwidth": 1
          },
          "autotypenumbers": "strict",
          "coloraxis": {
           "colorbar": {
            "outlinewidth": 0,
            "ticks": ""
           }
          },
          "colorscale": {
           "diverging": [
            [
             0,
             "#8e0152"
            ],
            [
             0.1,
             "#c51b7d"
            ],
            [
             0.2,
             "#de77ae"
            ],
            [
             0.3,
             "#f1b6da"
            ],
            [
             0.4,
             "#fde0ef"
            ],
            [
             0.5,
             "#f7f7f7"
            ],
            [
             0.6,
             "#e6f5d0"
            ],
            [
             0.7,
             "#b8e186"
            ],
            [
             0.8,
             "#7fbc41"
            ],
            [
             0.9,
             "#4d9221"
            ],
            [
             1,
             "#276419"
            ]
           ],
           "sequential": [
            [
             0,
             "#0d0887"
            ],
            [
             0.1111111111111111,
             "#46039f"
            ],
            [
             0.2222222222222222,
             "#7201a8"
            ],
            [
             0.3333333333333333,
             "#9c179e"
            ],
            [
             0.4444444444444444,
             "#bd3786"
            ],
            [
             0.5555555555555556,
             "#d8576b"
            ],
            [
             0.6666666666666666,
             "#ed7953"
            ],
            [
             0.7777777777777778,
             "#fb9f3a"
            ],
            [
             0.8888888888888888,
             "#fdca26"
            ],
            [
             1,
             "#f0f921"
            ]
           ],
           "sequentialminus": [
            [
             0,
             "#0d0887"
            ],
            [
             0.1111111111111111,
             "#46039f"
            ],
            [
             0.2222222222222222,
             "#7201a8"
            ],
            [
             0.3333333333333333,
             "#9c179e"
            ],
            [
             0.4444444444444444,
             "#bd3786"
            ],
            [
             0.5555555555555556,
             "#d8576b"
            ],
            [
             0.6666666666666666,
             "#ed7953"
            ],
            [
             0.7777777777777778,
             "#fb9f3a"
            ],
            [
             0.8888888888888888,
             "#fdca26"
            ],
            [
             1,
             "#f0f921"
            ]
           ]
          },
          "colorway": [
           "#636efa",
           "#EF553B",
           "#00cc96",
           "#ab63fa",
           "#FFA15A",
           "#19d3f3",
           "#FF6692",
           "#B6E880",
           "#FF97FF",
           "#FECB52"
          ],
          "font": {
           "color": "#2a3f5f"
          },
          "geo": {
           "bgcolor": "white",
           "lakecolor": "white",
           "landcolor": "#E5ECF6",
           "showlakes": true,
           "showland": true,
           "subunitcolor": "white"
          },
          "hoverlabel": {
           "align": "left"
          },
          "hovermode": "closest",
          "mapbox": {
           "style": "light"
          },
          "paper_bgcolor": "white",
          "plot_bgcolor": "#E5ECF6",
          "polar": {
           "angularaxis": {
            "gridcolor": "white",
            "linecolor": "white",
            "ticks": ""
           },
           "bgcolor": "#E5ECF6",
           "radialaxis": {
            "gridcolor": "white",
            "linecolor": "white",
            "ticks": ""
           }
          },
          "scene": {
           "xaxis": {
            "backgroundcolor": "#E5ECF6",
            "gridcolor": "white",
            "gridwidth": 2,
            "linecolor": "white",
            "showbackground": true,
            "ticks": "",
            "zerolinecolor": "white"
           },
           "yaxis": {
            "backgroundcolor": "#E5ECF6",
            "gridcolor": "white",
            "gridwidth": 2,
            "linecolor": "white",
            "showbackground": true,
            "ticks": "",
            "zerolinecolor": "white"
           },
           "zaxis": {
            "backgroundcolor": "#E5ECF6",
            "gridcolor": "white",
            "gridwidth": 2,
            "linecolor": "white",
            "showbackground": true,
            "ticks": "",
            "zerolinecolor": "white"
           }
          },
          "shapedefaults": {
           "line": {
            "color": "#2a3f5f"
           }
          },
          "ternary": {
           "aaxis": {
            "gridcolor": "white",
            "linecolor": "white",
            "ticks": ""
           },
           "baxis": {
            "gridcolor": "white",
            "linecolor": "white",
            "ticks": ""
           },
           "bgcolor": "#E5ECF6",
           "caxis": {
            "gridcolor": "white",
            "linecolor": "white",
            "ticks": ""
           }
          },
          "title": {
           "x": 0.05
          },
          "xaxis": {
           "automargin": true,
           "gridcolor": "white",
           "linecolor": "white",
           "ticks": "",
           "title": {
            "standoff": 15
           },
           "zerolinecolor": "white",
           "zerolinewidth": 2
          },
          "yaxis": {
           "automargin": true,
           "gridcolor": "white",
           "linecolor": "white",
           "ticks": "",
           "title": {
            "standoff": 15
           },
           "zerolinecolor": "white",
           "zerolinewidth": 2
          }
         }
        },
        "title": {
         "text": "Acqua totale utilizzata per la produzione dei cibi"
        },
        "xaxis": {
         "anchor": "y",
         "domain": [
          0,
          1
         ],
         "title": {
          "text": "Type"
         }
        },
        "yaxis": {
         "anchor": "x",
         "domain": [
          0,
          1
         ],
         "title": {
          "text": "Total water(lt) used"
         }
        }
       }
      }
     },
     "metadata": {},
     "output_type": "display_data"
    }
   ],
   "source": [
    "Food_types_water_liters_per_kilogram = [Food_Production_df[Food_Production_df[\"Food product\"] == food_type][\"Freshwater withdrawals per kilogram (liters per kilogram)\"].to_list() for food_type in Food_types]\n",
    "Food_types_water_liters_per_kilogram_dict = dict()\n",
    "\n",
    "Feed_types_water_liters_per_kilogram = [Food_Production_df[Food_Production_df[\"Food product\"] == food_type][\"Freshwater withdrawals per kilogram (liters per kilogram)\"].to_list() for food_type in Feed_types]\n",
    "Feed_types_water_liters_per_kilogram_dict = dict()\n",
    "\n",
    "for i in range(len(Food_types)):\n",
    "     Food_types_water_liters_per_kilogram_dict[Food_types[i]] = 0\n",
    "\n",
    "     if len(Food_types_water_liters_per_kilogram[i]) != 0:\n",
    "          Food_types_water_liters_per_kilogram_dict[Food_types[i]] = Food_types_water_liters_per_kilogram[i][0]\n",
    "\n",
    "for index, record in Food_feed_df.iterrows():\n",
    "     Food_type = record[\"Type\"]\n",
    "     if Food_type in Food_types_water_liters_per_kilogram_dict.keys():\n",
    "          Food_feed_df.at[index, \"Total water(lt) used\"] =  Food_feed_df.at[index, \"Tonnes\"] * 1000 * Food_types_water_liters_per_kilogram_dict[Food_type]\n",
    "\n",
    "for i in range(len(Feed_types)):\n",
    "     Feed_types_water_liters_per_kilogram_dict[Feed_types[i]] = 0\n",
    "\n",
    "     if len(Feed_types_water_liters_per_kilogram[i]) != 0:\n",
    "          Feed_types_water_liters_per_kilogram_dict[Feed_types[i]] = Feed_types_water_liters_per_kilogram[i][0]\n",
    "\n",
    "for index, record in Feed_items.iterrows():\n",
    "     Feed_type = record[\"Type\"]\n",
    "     if Feed_type in Feed_types_water_liters_per_kilogram_dict.keys():\n",
    "          Feed_items.at[index, \"Total water(lt) used\"] =  Feed_items.at[index, \"Tonnes\"] * 1000 * Feed_types_water_liters_per_kilogram_dict[Food_type]\n",
    "\n",
    "Food_feed_df = pd.concat([Food_feed_df, Feed_items], ignore_index=True)\n",
    "temp_df = Food_feed_df.groupby(\"Type\").sum(numeric_only=True).sort_values(by=\"Total water(lt) used\", ascending=False)\n",
    "\n",
    "fig = px.bar(\n",
    "     temp_df,\n",
    "     x=temp_df.index,\n",
    "     y=\"Total water(lt) used\",\n",
    "     color=\"Total water(lt) used\",\n",
    "     title='Acqua totale utilizzata per la produzione dei cibi',\n",
    "     height=600,\n",
    ")\n",
    "\n",
    "fig.show()"
   ]
  },
  {
   "cell_type": "markdown",
   "metadata": {},
   "source": [
    "# Calcolo emissione gas serra prodotti dal 1961 al 2013"
   ]
  },
  {
   "cell_type": "markdown",
   "metadata": {},
   "source": [
    "#### Per questo calcolo andrò a inserire per ogni prodotto tracciato il numero di kcal presenti in 100gr di cibo/mangime uso google come fonte per i miei dati.\n",
    "#### Verrà create una nuova colonna chiamata \"Kg producted x 1000kcal\" che ci dirà quanti chili devono essere prodotti per generare 1000kcal.\n",
    "#### Subito dopo mostrerò un istogramma in orizzontale per mostrare quali sono i cibi che emettono più gas serra"
   ]
  },
  {
   "cell_type": "code",
   "execution_count": 804,
   "metadata": {},
   "outputs": [
    {
     "data": {
      "application/vnd.plotly.v1+json": {
       "config": {
        "plotlyServerURL": "https://plot.ly"
       },
       "data": [
        {
         "alignmentgroup": "True",
         "hovertemplate": "Item=%{x}<br>CO2eqTonnes=%{marker.color}<extra></extra>",
         "legendgroup": "",
         "marker": {
          "color": [
           1905606426.582604,
           1607558224.4018388,
           1497885568.8176472,
           1151297591.550777,
           994148894.8800842,
           934226379.277381,
           856502792.660468,
           674729264.498938,
           658417970.5883406,
           516119382.14128894,
           312716711.550307,
           248829968.61574543,
           247065329.24140206,
           225320044.70782667,
           184998854.24366322,
           178929967.7250881,
           152797250.75564522,
           129705105.88923764,
           84762411.5934605,
           79433713.63710994,
           76253655.80495988,
           54346619.604778,
           38949445.67300718,
           14619569.99456016,
           12124600.703821855,
           2552533.74905022,
           330641.33321030403,
           0,
           0,
           0,
           0,
           0
          ],
          "coloraxis": "coloraxis",
          "pattern": {
           "shape": ""
          }
         },
         "name": "",
         "offsetgroup": "",
         "orientation": "v",
         "showlegend": false,
         "textposition": "auto",
         "type": "bar",
         "x": [
          "Rice (Milled Equivalent)",
          "Sugar cane",
          "Cassava and products",
          "Vegetables, Other",
          "Milk - Excluding Butter",
          "Fish, Seafood",
          "Potatoes and products",
          "Bovine Meat",
          "Pigmeat",
          "Poultry Meat",
          "Fruits, Other",
          "Pulses, Other and products",
          "Palm Oil",
          "Eggs",
          "Bananas",
          "Nuts and products",
          "Groundnuts (Shelled Eq)",
          "Sugar beet",
          "Wine",
          "Apples and products",
          "Olive Oil",
          "Tomatoes and products",
          "Peas",
          "Citrus, Other",
          "Fish, Body Oil",
          "Ricebran Oil",
          "Fish, Liver Oil",
          "Onions",
          "Mutton & Goat Meat",
          "Grapes and products (excl wine)",
          "Coffee and products",
          "Wheat and products"
         ],
         "xaxis": "x",
         "y": [
          1905606426.582604,
          1607558224.4018388,
          1497885568.8176472,
          1151297591.550777,
          994148894.8800842,
          934226379.277381,
          856502792.660468,
          674729264.498938,
          658417970.5883406,
          516119382.14128894,
          312716711.550307,
          248829968.61574543,
          247065329.24140206,
          225320044.70782667,
          184998854.24366322,
          178929967.7250881,
          152797250.75564522,
          129705105.88923764,
          84762411.5934605,
          79433713.63710994,
          76253655.80495988,
          54346619.604778,
          38949445.67300718,
          14619569.99456016,
          12124600.703821855,
          2552533.74905022,
          330641.33321030403,
          0,
          0,
          0,
          0,
          0
         ],
         "yaxis": "y"
        }
       ],
       "layout": {
        "barmode": "relative",
        "coloraxis": {
         "colorbar": {
          "title": {
           "text": "CO2eqTonnes"
          }
         },
         "colorscale": [
          [
           0,
           "#0d0887"
          ],
          [
           0.1111111111111111,
           "#46039f"
          ],
          [
           0.2222222222222222,
           "#7201a8"
          ],
          [
           0.3333333333333333,
           "#9c179e"
          ],
          [
           0.4444444444444444,
           "#bd3786"
          ],
          [
           0.5555555555555556,
           "#d8576b"
          ],
          [
           0.6666666666666666,
           "#ed7953"
          ],
          [
           0.7777777777777778,
           "#fb9f3a"
          ],
          [
           0.8888888888888888,
           "#fdca26"
          ],
          [
           1,
           "#f0f921"
          ]
         ]
        },
        "height": 600,
        "legend": {
         "tracegroupgap": 0
        },
        "template": {
         "data": {
          "bar": [
           {
            "error_x": {
             "color": "#2a3f5f"
            },
            "error_y": {
             "color": "#2a3f5f"
            },
            "marker": {
             "line": {
              "color": "#E5ECF6",
              "width": 0.5
             },
             "pattern": {
              "fillmode": "overlay",
              "size": 10,
              "solidity": 0.2
             }
            },
            "type": "bar"
           }
          ],
          "barpolar": [
           {
            "marker": {
             "line": {
              "color": "#E5ECF6",
              "width": 0.5
             },
             "pattern": {
              "fillmode": "overlay",
              "size": 10,
              "solidity": 0.2
             }
            },
            "type": "barpolar"
           }
          ],
          "carpet": [
           {
            "aaxis": {
             "endlinecolor": "#2a3f5f",
             "gridcolor": "white",
             "linecolor": "white",
             "minorgridcolor": "white",
             "startlinecolor": "#2a3f5f"
            },
            "baxis": {
             "endlinecolor": "#2a3f5f",
             "gridcolor": "white",
             "linecolor": "white",
             "minorgridcolor": "white",
             "startlinecolor": "#2a3f5f"
            },
            "type": "carpet"
           }
          ],
          "choropleth": [
           {
            "colorbar": {
             "outlinewidth": 0,
             "ticks": ""
            },
            "type": "choropleth"
           }
          ],
          "contour": [
           {
            "colorbar": {
             "outlinewidth": 0,
             "ticks": ""
            },
            "colorscale": [
             [
              0,
              "#0d0887"
             ],
             [
              0.1111111111111111,
              "#46039f"
             ],
             [
              0.2222222222222222,
              "#7201a8"
             ],
             [
              0.3333333333333333,
              "#9c179e"
             ],
             [
              0.4444444444444444,
              "#bd3786"
             ],
             [
              0.5555555555555556,
              "#d8576b"
             ],
             [
              0.6666666666666666,
              "#ed7953"
             ],
             [
              0.7777777777777778,
              "#fb9f3a"
             ],
             [
              0.8888888888888888,
              "#fdca26"
             ],
             [
              1,
              "#f0f921"
             ]
            ],
            "type": "contour"
           }
          ],
          "contourcarpet": [
           {
            "colorbar": {
             "outlinewidth": 0,
             "ticks": ""
            },
            "type": "contourcarpet"
           }
          ],
          "heatmap": [
           {
            "colorbar": {
             "outlinewidth": 0,
             "ticks": ""
            },
            "colorscale": [
             [
              0,
              "#0d0887"
             ],
             [
              0.1111111111111111,
              "#46039f"
             ],
             [
              0.2222222222222222,
              "#7201a8"
             ],
             [
              0.3333333333333333,
              "#9c179e"
             ],
             [
              0.4444444444444444,
              "#bd3786"
             ],
             [
              0.5555555555555556,
              "#d8576b"
             ],
             [
              0.6666666666666666,
              "#ed7953"
             ],
             [
              0.7777777777777778,
              "#fb9f3a"
             ],
             [
              0.8888888888888888,
              "#fdca26"
             ],
             [
              1,
              "#f0f921"
             ]
            ],
            "type": "heatmap"
           }
          ],
          "heatmapgl": [
           {
            "colorbar": {
             "outlinewidth": 0,
             "ticks": ""
            },
            "colorscale": [
             [
              0,
              "#0d0887"
             ],
             [
              0.1111111111111111,
              "#46039f"
             ],
             [
              0.2222222222222222,
              "#7201a8"
             ],
             [
              0.3333333333333333,
              "#9c179e"
             ],
             [
              0.4444444444444444,
              "#bd3786"
             ],
             [
              0.5555555555555556,
              "#d8576b"
             ],
             [
              0.6666666666666666,
              "#ed7953"
             ],
             [
              0.7777777777777778,
              "#fb9f3a"
             ],
             [
              0.8888888888888888,
              "#fdca26"
             ],
             [
              1,
              "#f0f921"
             ]
            ],
            "type": "heatmapgl"
           }
          ],
          "histogram": [
           {
            "marker": {
             "pattern": {
              "fillmode": "overlay",
              "size": 10,
              "solidity": 0.2
             }
            },
            "type": "histogram"
           }
          ],
          "histogram2d": [
           {
            "colorbar": {
             "outlinewidth": 0,
             "ticks": ""
            },
            "colorscale": [
             [
              0,
              "#0d0887"
             ],
             [
              0.1111111111111111,
              "#46039f"
             ],
             [
              0.2222222222222222,
              "#7201a8"
             ],
             [
              0.3333333333333333,
              "#9c179e"
             ],
             [
              0.4444444444444444,
              "#bd3786"
             ],
             [
              0.5555555555555556,
              "#d8576b"
             ],
             [
              0.6666666666666666,
              "#ed7953"
             ],
             [
              0.7777777777777778,
              "#fb9f3a"
             ],
             [
              0.8888888888888888,
              "#fdca26"
             ],
             [
              1,
              "#f0f921"
             ]
            ],
            "type": "histogram2d"
           }
          ],
          "histogram2dcontour": [
           {
            "colorbar": {
             "outlinewidth": 0,
             "ticks": ""
            },
            "colorscale": [
             [
              0,
              "#0d0887"
             ],
             [
              0.1111111111111111,
              "#46039f"
             ],
             [
              0.2222222222222222,
              "#7201a8"
             ],
             [
              0.3333333333333333,
              "#9c179e"
             ],
             [
              0.4444444444444444,
              "#bd3786"
             ],
             [
              0.5555555555555556,
              "#d8576b"
             ],
             [
              0.6666666666666666,
              "#ed7953"
             ],
             [
              0.7777777777777778,
              "#fb9f3a"
             ],
             [
              0.8888888888888888,
              "#fdca26"
             ],
             [
              1,
              "#f0f921"
             ]
            ],
            "type": "histogram2dcontour"
           }
          ],
          "mesh3d": [
           {
            "colorbar": {
             "outlinewidth": 0,
             "ticks": ""
            },
            "type": "mesh3d"
           }
          ],
          "parcoords": [
           {
            "line": {
             "colorbar": {
              "outlinewidth": 0,
              "ticks": ""
             }
            },
            "type": "parcoords"
           }
          ],
          "pie": [
           {
            "automargin": true,
            "type": "pie"
           }
          ],
          "scatter": [
           {
            "fillpattern": {
             "fillmode": "overlay",
             "size": 10,
             "solidity": 0.2
            },
            "type": "scatter"
           }
          ],
          "scatter3d": [
           {
            "line": {
             "colorbar": {
              "outlinewidth": 0,
              "ticks": ""
             }
            },
            "marker": {
             "colorbar": {
              "outlinewidth": 0,
              "ticks": ""
             }
            },
            "type": "scatter3d"
           }
          ],
          "scattercarpet": [
           {
            "marker": {
             "colorbar": {
              "outlinewidth": 0,
              "ticks": ""
             }
            },
            "type": "scattercarpet"
           }
          ],
          "scattergeo": [
           {
            "marker": {
             "colorbar": {
              "outlinewidth": 0,
              "ticks": ""
             }
            },
            "type": "scattergeo"
           }
          ],
          "scattergl": [
           {
            "marker": {
             "colorbar": {
              "outlinewidth": 0,
              "ticks": ""
             }
            },
            "type": "scattergl"
           }
          ],
          "scattermapbox": [
           {
            "marker": {
             "colorbar": {
              "outlinewidth": 0,
              "ticks": ""
             }
            },
            "type": "scattermapbox"
           }
          ],
          "scatterpolar": [
           {
            "marker": {
             "colorbar": {
              "outlinewidth": 0,
              "ticks": ""
             }
            },
            "type": "scatterpolar"
           }
          ],
          "scatterpolargl": [
           {
            "marker": {
             "colorbar": {
              "outlinewidth": 0,
              "ticks": ""
             }
            },
            "type": "scatterpolargl"
           }
          ],
          "scatterternary": [
           {
            "marker": {
             "colorbar": {
              "outlinewidth": 0,
              "ticks": ""
             }
            },
            "type": "scatterternary"
           }
          ],
          "surface": [
           {
            "colorbar": {
             "outlinewidth": 0,
             "ticks": ""
            },
            "colorscale": [
             [
              0,
              "#0d0887"
             ],
             [
              0.1111111111111111,
              "#46039f"
             ],
             [
              0.2222222222222222,
              "#7201a8"
             ],
             [
              0.3333333333333333,
              "#9c179e"
             ],
             [
              0.4444444444444444,
              "#bd3786"
             ],
             [
              0.5555555555555556,
              "#d8576b"
             ],
             [
              0.6666666666666666,
              "#ed7953"
             ],
             [
              0.7777777777777778,
              "#fb9f3a"
             ],
             [
              0.8888888888888888,
              "#fdca26"
             ],
             [
              1,
              "#f0f921"
             ]
            ],
            "type": "surface"
           }
          ],
          "table": [
           {
            "cells": {
             "fill": {
              "color": "#EBF0F8"
             },
             "line": {
              "color": "white"
             }
            },
            "header": {
             "fill": {
              "color": "#C8D4E3"
             },
             "line": {
              "color": "white"
             }
            },
            "type": "table"
           }
          ]
         },
         "layout": {
          "annotationdefaults": {
           "arrowcolor": "#2a3f5f",
           "arrowhead": 0,
           "arrowwidth": 1
          },
          "autotypenumbers": "strict",
          "coloraxis": {
           "colorbar": {
            "outlinewidth": 0,
            "ticks": ""
           }
          },
          "colorscale": {
           "diverging": [
            [
             0,
             "#8e0152"
            ],
            [
             0.1,
             "#c51b7d"
            ],
            [
             0.2,
             "#de77ae"
            ],
            [
             0.3,
             "#f1b6da"
            ],
            [
             0.4,
             "#fde0ef"
            ],
            [
             0.5,
             "#f7f7f7"
            ],
            [
             0.6,
             "#e6f5d0"
            ],
            [
             0.7,
             "#b8e186"
            ],
            [
             0.8,
             "#7fbc41"
            ],
            [
             0.9,
             "#4d9221"
            ],
            [
             1,
             "#276419"
            ]
           ],
           "sequential": [
            [
             0,
             "#0d0887"
            ],
            [
             0.1111111111111111,
             "#46039f"
            ],
            [
             0.2222222222222222,
             "#7201a8"
            ],
            [
             0.3333333333333333,
             "#9c179e"
            ],
            [
             0.4444444444444444,
             "#bd3786"
            ],
            [
             0.5555555555555556,
             "#d8576b"
            ],
            [
             0.6666666666666666,
             "#ed7953"
            ],
            [
             0.7777777777777778,
             "#fb9f3a"
            ],
            [
             0.8888888888888888,
             "#fdca26"
            ],
            [
             1,
             "#f0f921"
            ]
           ],
           "sequentialminus": [
            [
             0,
             "#0d0887"
            ],
            [
             0.1111111111111111,
             "#46039f"
            ],
            [
             0.2222222222222222,
             "#7201a8"
            ],
            [
             0.3333333333333333,
             "#9c179e"
            ],
            [
             0.4444444444444444,
             "#bd3786"
            ],
            [
             0.5555555555555556,
             "#d8576b"
            ],
            [
             0.6666666666666666,
             "#ed7953"
            ],
            [
             0.7777777777777778,
             "#fb9f3a"
            ],
            [
             0.8888888888888888,
             "#fdca26"
            ],
            [
             1,
             "#f0f921"
            ]
           ]
          },
          "colorway": [
           "#636efa",
           "#EF553B",
           "#00cc96",
           "#ab63fa",
           "#FFA15A",
           "#19d3f3",
           "#FF6692",
           "#B6E880",
           "#FF97FF",
           "#FECB52"
          ],
          "font": {
           "color": "#2a3f5f"
          },
          "geo": {
           "bgcolor": "white",
           "lakecolor": "white",
           "landcolor": "#E5ECF6",
           "showlakes": true,
           "showland": true,
           "subunitcolor": "white"
          },
          "hoverlabel": {
           "align": "left"
          },
          "hovermode": "closest",
          "mapbox": {
           "style": "light"
          },
          "paper_bgcolor": "white",
          "plot_bgcolor": "#E5ECF6",
          "polar": {
           "angularaxis": {
            "gridcolor": "white",
            "linecolor": "white",
            "ticks": ""
           },
           "bgcolor": "#E5ECF6",
           "radialaxis": {
            "gridcolor": "white",
            "linecolor": "white",
            "ticks": ""
           }
          },
          "scene": {
           "xaxis": {
            "backgroundcolor": "#E5ECF6",
            "gridcolor": "white",
            "gridwidth": 2,
            "linecolor": "white",
            "showbackground": true,
            "ticks": "",
            "zerolinecolor": "white"
           },
           "yaxis": {
            "backgroundcolor": "#E5ECF6",
            "gridcolor": "white",
            "gridwidth": 2,
            "linecolor": "white",
            "showbackground": true,
            "ticks": "",
            "zerolinecolor": "white"
           },
           "zaxis": {
            "backgroundcolor": "#E5ECF6",
            "gridcolor": "white",
            "gridwidth": 2,
            "linecolor": "white",
            "showbackground": true,
            "ticks": "",
            "zerolinecolor": "white"
           }
          },
          "shapedefaults": {
           "line": {
            "color": "#2a3f5f"
           }
          },
          "ternary": {
           "aaxis": {
            "gridcolor": "white",
            "linecolor": "white",
            "ticks": ""
           },
           "baxis": {
            "gridcolor": "white",
            "linecolor": "white",
            "ticks": ""
           },
           "bgcolor": "#E5ECF6",
           "caxis": {
            "gridcolor": "white",
            "linecolor": "white",
            "ticks": ""
           }
          },
          "title": {
           "x": 0.05
          },
          "xaxis": {
           "automargin": true,
           "gridcolor": "white",
           "linecolor": "white",
           "ticks": "",
           "title": {
            "standoff": 15
           },
           "zerolinecolor": "white",
           "zerolinewidth": 2
          },
          "yaxis": {
           "automargin": true,
           "gridcolor": "white",
           "linecolor": "white",
           "ticks": "",
           "title": {
            "standoff": 15
           },
           "zerolinecolor": "white",
           "zerolinewidth": 2
          }
         }
        },
        "title": {
         "text": "Emissioni gas serra dovuti alla produzione di cibi e mangimi dal 1961 al 2013"
        },
        "xaxis": {
         "anchor": "y",
         "domain": [
          0,
          1
         ],
         "title": {
          "text": "Item"
         }
        },
        "yaxis": {
         "anchor": "x",
         "domain": [
          0,
          1
         ],
         "title": {
          "text": "CO2eqTonnes"
         }
        }
       }
      }
     },
     "metadata": {},
     "output_type": "display_data"
    }
   ],
   "source": [
    "Food_feed_kcalories_100gr = {\n",
    "\n",
    "     \"Other Vegetables\": 65,\n",
    "     \"Rice\": 130,\n",
    "     \"Wheat\": 329,\n",
    "     \"Milk\": 42,\n",
    "     \"Potatoes\": 77,\n",
    "     \"Pig Meat\": 242,\n",
    "     \"Fish (farmed)\": 158,\n",
    "     \"Other Fruit\": 80,\n",
    "     \"Tomatoes\": 18,\n",
    "     \"Beef (beef herd)\": 332,\n",
    "     \"Cassava\": 159,\n",
    "     \"Eggs\": 155,\n",
    "     \"Poultry Meat\": 272,\n",
    "     \"Cane Sugar\": 400,\n",
    "     \"Bananas\": 89,\n",
    "     \"Apples\": 52,\n",
    "     \"Other Pulses\": 181,\n",
    "     \"Onions\": 40,\n",
    "     \"Wine\": 83,\n",
    "     \"Grapes\": 67,\n",
    "     \"Citrus Fruit\": 72,\n",
    "     \"Groundnuts\": 567,\n",
    "     \"Mutton\": 294,\n",
    "     \"Coffee\": 0,\n",
    "     \"Peas\": 81,\n",
    "     \"Palm Oil\": 884,\n",
    "     \"Nuts\": 607,\n",
    "     \"Olive Oil\": 884,\n",
    "     \"Beet Sugar\": 405,\n",
    "\n",
    "}\n",
    "\n",
    "# Aggiungo la colonna a Food_Production_df\n",
    "for index, record in Food_Production_df.iterrows():\n",
    "     Type = record[\"Food product\"]\n",
    "     if Type in Food_feed_kcalories_100gr.keys():\n",
    "          if Food_feed_kcalories_100gr[Type] != 0 and Food_feed_kcalories_100gr[Type] != np.NAN:\n",
    "               Food_Production_df.at[index, \"Kg producted x 1000kcal\"] = (1000 / (Food_feed_kcalories_100gr[Type]))\n",
    "\n",
    "\n",
    "for index, record in Food_feed_df.iterrows():\n",
    "     Type = record[\"Type\"]\n",
    "     if Type in Food_feed_kcalories_100gr.keys():  \n",
    "          if len(Food_Production_df[Food_Production_df[\"Food product\"] == Type][\"Greenhouse gas emissions per 1000kcal (kgCO₂eq per 1000kcal)\"].values) != 0:\n",
    "               Food_feed_df.at[index, \"KGCO2eq tot\"] = ((record[\"Tonnes\"] * 1000)/(Food_Production_df[Food_Production_df[\"Food product\"] == Type][\"Kg producted x 1000kcal\"].to_list()[0])) * Food_Production_df.loc[Food_Production_df[\"Food product\"] == \"Apples\", \"Greenhouse gas emissions per 1000kcal (kgCO₂eq per 1000kcal)\"].to_list()[0]\n",
    "          else:\n",
    "               Food_feed_df.at[index, \"KGCO2eq tot\"] = 0\n",
    "\n",
    "Food_feed_df = Food_feed_df.assign(CO2eqTonnes=Food_feed_df[\"KGCO2eq tot\"]/1000)\n",
    "temp_df = Food_feed_df.groupby(\"Item\").sum(numeric_only=True).sort_values(by=\"KGCO2eq tot\", ascending=False)\n",
    "\n",
    "fig = px.bar(\n",
    "     temp_df,\n",
    "     x=temp_df.index,\n",
    "     y=\"CO2eqTonnes\",\n",
    "     color=\"CO2eqTonnes\",\n",
    "     height=600,\n",
    "     title='Emissioni gas serra dovuti alla produzione di cibi e mangimi dal 1961 al 2013'\n",
    ")\n",
    "\n",
    "fig.show()"
   ]
  },
  {
   "cell_type": "markdown",
   "metadata": {},
   "source": [
    "# Dizionari utili\n",
    "#### Creo dei dizionario per facillitarmi l'accesso ad informazioni che riguardano l'inquinamento."
   ]
  },
  {
   "cell_type": "code",
   "execution_count": 805,
   "metadata": {},
   "outputs": [],
   "source": [
    "# Funzione che unisce dizionari pensato per unire le informazioni dei cibi e dei mangimi\n",
    "def dict_completer(dict1, dict2):\n",
    "     ret = dict1\n",
    "     for key in dict2:\n",
    "          if key not in ret:\n",
    "               ret[key] = dict2[key]\n",
    "\n",
    "     return ret\n",
    "\n",
    "def CO2eq_dict():\n",
    "     greenhouse_emissions = Food_Production_df[\"Greenhouse gas emissions per 1000kcal (kgCO₂eq per 1000kcal)\"].dropna()\n",
    "     unit = Food_Production_df.iloc[greenhouse_emissions.index]\n",
    "     unit = unit[[\"Kg producted x 1000kcal\", \"Food product\"]]\n",
    "     \n",
    "     temp = dict()\n",
    "     ret = dict()\n",
    "\n",
    "     for index, record in unit.iterrows():\n",
    "          temp[record[\"Food product\"]] = greenhouse_emissions.at[index] / record[\"Kg producted x 1000kcal\"]\n",
    "\n",
    "     for key in temp.keys():\n",
    "          splitted_key = key.split('&')\n",
    "          if len(splitted_key) > 1:\n",
    "               key1, value1 = splitted_key[0].strip(), temp[key]\n",
    "               key2, value2 = splitted_key[1].strip(), temp[key]\n",
    "               ret[key1] = value1\n",
    "               ret[key2] = value2\n",
    "          else:\n",
    "               ret[key] = temp[key]\n",
    "\n",
    "     return ret\n",
    "     \n",
    "\n",
    "CO2_KG_dict = dict()\n",
    "gPO4_dict = dict()\n",
    "water_usage_KG = dict()\n",
    "CO2eq_KG_dict = dict()\n",
    "\n",
    "CO2_KG_dict = dict_completer(Food_types_CO2KG_dict, Feed_types_CO2KG_dict)\n",
    "gPO4_dict = dict_completer(Food_types_PO4_dict, Feed_types_PO4_dict)\n",
    "water_usage_KG = dict_completer(Food_types_water_liters_per_kilogram_dict, Feed_types_water_liters_per_kilogram_dict)\n",
    "CO2eq_KG_dict = CO2eq_dict()"
   ]
  },
  {
   "cell_type": "markdown",
   "metadata": {},
   "source": [
    "# Unificazione di tutte le informazioni\n",
    "#### Adattamento dei dati per le rappresentazioni usando i dati creati sopra traccerò:\n",
    "- **Area:** Corrisponde al continente.\n",
    "- **Item:** Il cibo/mangime che è stato prodotto.\n",
    "- **Element:** Cibo o mangime.\n",
    "- **Year:** L'anno in cui è stata generata quella quantità di prodotto.\n",
    "- **Quantity:** Quantità prodotta.\n",
    "- **Yearly gas serra emissions:** Gas serra emessi in un anno.\n",
    "- **Yearly KGCO2:** Chili di CO2 rilasciati in quel anno.\n",
    "- **Yearly gPO4 producted:** Quantità in grammi di gPO4 rilasciata annualmente.\n",
    "- **Yearly water usage(lt):** Quantità di acqua usata per la produzione. "
   ]
  },
  {
   "cell_type": "code",
   "execution_count": 806,
   "metadata": {},
   "outputs": [],
   "source": [
    "columns = [\"Area\", \"Area Abbreviation\", \"Item\", \"Element\", \"Year\", \"Quantity(Tonnes)\", \"Yearly gas serra emissions(Tonnes)\", \"Yearly TonnesCO2\", \"Yearly Tonnes PO4 producted\", \"Yearly water usage(Tonnes)\"]\n",
    "type_sorted_df = prodotti_tracciati_df.sort_values(by=\"Type\").reset_index()\n",
    "\n",
    "years_productions = type_sorted_df[[f\"Y{i}\" for i in range(1961, 2014)]] * 1000\n",
    "types = type_sorted_df[\"Type\"].to_list() # ordinato in base a come si trova\n",
    "areas = type_sorted_df[\"Area\"].to_list() # ordinato in base a come si trova\n",
    "areas_abbreviations = type_sorted_df[\"Area Abbreviation\"].to_list() # ordinato in base a come si trova\n",
    "element = type_sorted_df[\"Element\"].to_list() # ordinato in base a come si trova\n",
    "\n",
    "years_to_add = [f\"{i}\" for i in range(1961, 2014)]\n",
    "record_for_df = list()\n",
    "\n",
    "# Creazione di un nuovo df anche con lo stesso nome che gli hai dato che poi andrò man mano riempito\n",
    "for i in range(len(types)):\n",
    "     for j in range(53):\n",
    "          year_production =  years_productions.iloc[i, j]\n",
    "          year = 1961 + j\n",
    "          yearly_gas_serra_emission = 0\n",
    "          yearly_KGCO2 = 0\n",
    "          yearly_gPO4 = 0\n",
    "          yearly_water_usage = 0\n",
    "\n",
    "          if types[i] in CO2eq_KG_dict:\n",
    "               yearly_gas_serra_emission = ((year_production) * CO2eq_KG_dict[types[i]])\n",
    "          if types[i] in CO2_KG_dict:\n",
    "               yearly_KGCO2 = (year_production) * CO2_KG_dict[types[i]]\n",
    "          if types[i] in gPO4_dict:\n",
    "               yearly_gPO4 = ((year_production) * gPO4_dict[types[i]]) / 1000\n",
    "          if types[i] in water_usage_KG:\n",
    "               yearly_water_usage = (year_production) * water_usage_KG[types[i]] / 1000\n",
    "          \n",
    "          record_for_df.append([areas[i], areas_abbreviations[i], types[i], element[i], year, year_production, yearly_gas_serra_emission, yearly_KGCO2, yearly_gPO4, yearly_water_usage])\n",
    "\n",
    "graphics_df = pd.DataFrame(record_for_df, columns=columns)\n",
    "graphics_df = graphics_df.sort_values(by=\"Area\").reset_index().drop(columns=[\"index\"])"
   ]
  },
  {
   "cell_type": "markdown",
   "metadata": {},
   "source": [
    "# Produzione anno per anno\n",
    "#### Grafico che mostra l'incremento della produzione mondiale anno per anno di cibi e mangimi."
   ]
  },
  {
   "cell_type": "code",
   "execution_count": 807,
   "metadata": {},
   "outputs": [
    {
     "data": {
      "application/vnd.plotly.v1+json": {
       "config": {
        "plotlyServerURL": "https://plot.ly"
       },
       "data": [
        {
         "alignmentgroup": "True",
         "hovertemplate": "Year=%{x}<br>Quantity(Tonnes)=%{marker.color}<extra></extra>",
         "legendgroup": "",
         "marker": {
          "color": [
           1396605000,
           1424304000,
           1463301000,
           1498485000,
           1531522000,
           1571689000,
           1590428000,
           1660234000,
           1683484000,
           1704268000,
           1722195000,
           1758287000,
           1787946000,
           1810819000,
           1850933000,
           1883343000,
           1943393000,
           2022969000,
           2071684000,
           2069735000,
           2128485000,
           2194206000,
           2253208000,
           2354028000,
           2416051000,
           2463186000,
           2528016000,
           2565593000,
           2603257000,
           2657125000,
           2677940000,
           2749448000,
           2843099000,
           2930844000,
           3016038000,
           3094896000,
           3169105000,
           3257567000,
           3380523000,
           3501576000,
           3543707000,
           3621171000,
           3669641000,
           3764233000,
           3842732000,
           3938073000,
           4048317000,
           4151633000,
           4230713000,
           4330866000,
           4470041000,
           4571312000,
           4636824000
          ],
          "coloraxis": "coloraxis",
          "pattern": {
           "shape": ""
          }
         },
         "name": "",
         "offsetgroup": "",
         "orientation": "v",
         "showlegend": false,
         "textposition": "auto",
         "type": "bar",
         "x": [
          1961,
          1962,
          1963,
          1964,
          1965,
          1966,
          1967,
          1968,
          1969,
          1970,
          1971,
          1972,
          1973,
          1974,
          1975,
          1976,
          1977,
          1978,
          1979,
          1980,
          1981,
          1982,
          1983,
          1984,
          1985,
          1986,
          1987,
          1988,
          1989,
          1990,
          1991,
          1992,
          1993,
          1994,
          1995,
          1996,
          1997,
          1998,
          1999,
          2000,
          2001,
          2002,
          2003,
          2004,
          2005,
          2006,
          2007,
          2008,
          2009,
          2010,
          2011,
          2012,
          2013
         ],
         "xaxis": "x",
         "y": [
          1396605000,
          1424304000,
          1463301000,
          1498485000,
          1531522000,
          1571689000,
          1590428000,
          1660234000,
          1683484000,
          1704268000,
          1722195000,
          1758287000,
          1787946000,
          1810819000,
          1850933000,
          1883343000,
          1943393000,
          2022969000,
          2071684000,
          2069735000,
          2128485000,
          2194206000,
          2253208000,
          2354028000,
          2416051000,
          2463186000,
          2528016000,
          2565593000,
          2603257000,
          2657125000,
          2677940000,
          2749448000,
          2843099000,
          2930844000,
          3016038000,
          3094896000,
          3169105000,
          3257567000,
          3380523000,
          3501576000,
          3543707000,
          3621171000,
          3669641000,
          3764233000,
          3842732000,
          3938073000,
          4048317000,
          4151633000,
          4230713000,
          4330866000,
          4470041000,
          4571312000,
          4636824000
         ],
         "yaxis": "y"
        }
       ],
       "layout": {
        "barmode": "relative",
        "coloraxis": {
         "colorbar": {
          "title": {
           "text": "Quantity(Tonnes)"
          }
         },
         "colorscale": [
          [
           0,
           "#0d0887"
          ],
          [
           0.1111111111111111,
           "#46039f"
          ],
          [
           0.2222222222222222,
           "#7201a8"
          ],
          [
           0.3333333333333333,
           "#9c179e"
          ],
          [
           0.4444444444444444,
           "#bd3786"
          ],
          [
           0.5555555555555556,
           "#d8576b"
          ],
          [
           0.6666666666666666,
           "#ed7953"
          ],
          [
           0.7777777777777778,
           "#fb9f3a"
          ],
          [
           0.8888888888888888,
           "#fdca26"
          ],
          [
           1,
           "#f0f921"
          ]
         ]
        },
        "height": 500,
        "legend": {
         "tracegroupgap": 0
        },
        "template": {
         "data": {
          "bar": [
           {
            "error_x": {
             "color": "#2a3f5f"
            },
            "error_y": {
             "color": "#2a3f5f"
            },
            "marker": {
             "line": {
              "color": "#E5ECF6",
              "width": 0.5
             },
             "pattern": {
              "fillmode": "overlay",
              "size": 10,
              "solidity": 0.2
             }
            },
            "type": "bar"
           }
          ],
          "barpolar": [
           {
            "marker": {
             "line": {
              "color": "#E5ECF6",
              "width": 0.5
             },
             "pattern": {
              "fillmode": "overlay",
              "size": 10,
              "solidity": 0.2
             }
            },
            "type": "barpolar"
           }
          ],
          "carpet": [
           {
            "aaxis": {
             "endlinecolor": "#2a3f5f",
             "gridcolor": "white",
             "linecolor": "white",
             "minorgridcolor": "white",
             "startlinecolor": "#2a3f5f"
            },
            "baxis": {
             "endlinecolor": "#2a3f5f",
             "gridcolor": "white",
             "linecolor": "white",
             "minorgridcolor": "white",
             "startlinecolor": "#2a3f5f"
            },
            "type": "carpet"
           }
          ],
          "choropleth": [
           {
            "colorbar": {
             "outlinewidth": 0,
             "ticks": ""
            },
            "type": "choropleth"
           }
          ],
          "contour": [
           {
            "colorbar": {
             "outlinewidth": 0,
             "ticks": ""
            },
            "colorscale": [
             [
              0,
              "#0d0887"
             ],
             [
              0.1111111111111111,
              "#46039f"
             ],
             [
              0.2222222222222222,
              "#7201a8"
             ],
             [
              0.3333333333333333,
              "#9c179e"
             ],
             [
              0.4444444444444444,
              "#bd3786"
             ],
             [
              0.5555555555555556,
              "#d8576b"
             ],
             [
              0.6666666666666666,
              "#ed7953"
             ],
             [
              0.7777777777777778,
              "#fb9f3a"
             ],
             [
              0.8888888888888888,
              "#fdca26"
             ],
             [
              1,
              "#f0f921"
             ]
            ],
            "type": "contour"
           }
          ],
          "contourcarpet": [
           {
            "colorbar": {
             "outlinewidth": 0,
             "ticks": ""
            },
            "type": "contourcarpet"
           }
          ],
          "heatmap": [
           {
            "colorbar": {
             "outlinewidth": 0,
             "ticks": ""
            },
            "colorscale": [
             [
              0,
              "#0d0887"
             ],
             [
              0.1111111111111111,
              "#46039f"
             ],
             [
              0.2222222222222222,
              "#7201a8"
             ],
             [
              0.3333333333333333,
              "#9c179e"
             ],
             [
              0.4444444444444444,
              "#bd3786"
             ],
             [
              0.5555555555555556,
              "#d8576b"
             ],
             [
              0.6666666666666666,
              "#ed7953"
             ],
             [
              0.7777777777777778,
              "#fb9f3a"
             ],
             [
              0.8888888888888888,
              "#fdca26"
             ],
             [
              1,
              "#f0f921"
             ]
            ],
            "type": "heatmap"
           }
          ],
          "heatmapgl": [
           {
            "colorbar": {
             "outlinewidth": 0,
             "ticks": ""
            },
            "colorscale": [
             [
              0,
              "#0d0887"
             ],
             [
              0.1111111111111111,
              "#46039f"
             ],
             [
              0.2222222222222222,
              "#7201a8"
             ],
             [
              0.3333333333333333,
              "#9c179e"
             ],
             [
              0.4444444444444444,
              "#bd3786"
             ],
             [
              0.5555555555555556,
              "#d8576b"
             ],
             [
              0.6666666666666666,
              "#ed7953"
             ],
             [
              0.7777777777777778,
              "#fb9f3a"
             ],
             [
              0.8888888888888888,
              "#fdca26"
             ],
             [
              1,
              "#f0f921"
             ]
            ],
            "type": "heatmapgl"
           }
          ],
          "histogram": [
           {
            "marker": {
             "pattern": {
              "fillmode": "overlay",
              "size": 10,
              "solidity": 0.2
             }
            },
            "type": "histogram"
           }
          ],
          "histogram2d": [
           {
            "colorbar": {
             "outlinewidth": 0,
             "ticks": ""
            },
            "colorscale": [
             [
              0,
              "#0d0887"
             ],
             [
              0.1111111111111111,
              "#46039f"
             ],
             [
              0.2222222222222222,
              "#7201a8"
             ],
             [
              0.3333333333333333,
              "#9c179e"
             ],
             [
              0.4444444444444444,
              "#bd3786"
             ],
             [
              0.5555555555555556,
              "#d8576b"
             ],
             [
              0.6666666666666666,
              "#ed7953"
             ],
             [
              0.7777777777777778,
              "#fb9f3a"
             ],
             [
              0.8888888888888888,
              "#fdca26"
             ],
             [
              1,
              "#f0f921"
             ]
            ],
            "type": "histogram2d"
           }
          ],
          "histogram2dcontour": [
           {
            "colorbar": {
             "outlinewidth": 0,
             "ticks": ""
            },
            "colorscale": [
             [
              0,
              "#0d0887"
             ],
             [
              0.1111111111111111,
              "#46039f"
             ],
             [
              0.2222222222222222,
              "#7201a8"
             ],
             [
              0.3333333333333333,
              "#9c179e"
             ],
             [
              0.4444444444444444,
              "#bd3786"
             ],
             [
              0.5555555555555556,
              "#d8576b"
             ],
             [
              0.6666666666666666,
              "#ed7953"
             ],
             [
              0.7777777777777778,
              "#fb9f3a"
             ],
             [
              0.8888888888888888,
              "#fdca26"
             ],
             [
              1,
              "#f0f921"
             ]
            ],
            "type": "histogram2dcontour"
           }
          ],
          "mesh3d": [
           {
            "colorbar": {
             "outlinewidth": 0,
             "ticks": ""
            },
            "type": "mesh3d"
           }
          ],
          "parcoords": [
           {
            "line": {
             "colorbar": {
              "outlinewidth": 0,
              "ticks": ""
             }
            },
            "type": "parcoords"
           }
          ],
          "pie": [
           {
            "automargin": true,
            "type": "pie"
           }
          ],
          "scatter": [
           {
            "fillpattern": {
             "fillmode": "overlay",
             "size": 10,
             "solidity": 0.2
            },
            "type": "scatter"
           }
          ],
          "scatter3d": [
           {
            "line": {
             "colorbar": {
              "outlinewidth": 0,
              "ticks": ""
             }
            },
            "marker": {
             "colorbar": {
              "outlinewidth": 0,
              "ticks": ""
             }
            },
            "type": "scatter3d"
           }
          ],
          "scattercarpet": [
           {
            "marker": {
             "colorbar": {
              "outlinewidth": 0,
              "ticks": ""
             }
            },
            "type": "scattercarpet"
           }
          ],
          "scattergeo": [
           {
            "marker": {
             "colorbar": {
              "outlinewidth": 0,
              "ticks": ""
             }
            },
            "type": "scattergeo"
           }
          ],
          "scattergl": [
           {
            "marker": {
             "colorbar": {
              "outlinewidth": 0,
              "ticks": ""
             }
            },
            "type": "scattergl"
           }
          ],
          "scattermapbox": [
           {
            "marker": {
             "colorbar": {
              "outlinewidth": 0,
              "ticks": ""
             }
            },
            "type": "scattermapbox"
           }
          ],
          "scatterpolar": [
           {
            "marker": {
             "colorbar": {
              "outlinewidth": 0,
              "ticks": ""
             }
            },
            "type": "scatterpolar"
           }
          ],
          "scatterpolargl": [
           {
            "marker": {
             "colorbar": {
              "outlinewidth": 0,
              "ticks": ""
             }
            },
            "type": "scatterpolargl"
           }
          ],
          "scatterternary": [
           {
            "marker": {
             "colorbar": {
              "outlinewidth": 0,
              "ticks": ""
             }
            },
            "type": "scatterternary"
           }
          ],
          "surface": [
           {
            "colorbar": {
             "outlinewidth": 0,
             "ticks": ""
            },
            "colorscale": [
             [
              0,
              "#0d0887"
             ],
             [
              0.1111111111111111,
              "#46039f"
             ],
             [
              0.2222222222222222,
              "#7201a8"
             ],
             [
              0.3333333333333333,
              "#9c179e"
             ],
             [
              0.4444444444444444,
              "#bd3786"
             ],
             [
              0.5555555555555556,
              "#d8576b"
             ],
             [
              0.6666666666666666,
              "#ed7953"
             ],
             [
              0.7777777777777778,
              "#fb9f3a"
             ],
             [
              0.8888888888888888,
              "#fdca26"
             ],
             [
              1,
              "#f0f921"
             ]
            ],
            "type": "surface"
           }
          ],
          "table": [
           {
            "cells": {
             "fill": {
              "color": "#EBF0F8"
             },
             "line": {
              "color": "white"
             }
            },
            "header": {
             "fill": {
              "color": "#C8D4E3"
             },
             "line": {
              "color": "white"
             }
            },
            "type": "table"
           }
          ]
         },
         "layout": {
          "annotationdefaults": {
           "arrowcolor": "#2a3f5f",
           "arrowhead": 0,
           "arrowwidth": 1
          },
          "autotypenumbers": "strict",
          "coloraxis": {
           "colorbar": {
            "outlinewidth": 0,
            "ticks": ""
           }
          },
          "colorscale": {
           "diverging": [
            [
             0,
             "#8e0152"
            ],
            [
             0.1,
             "#c51b7d"
            ],
            [
             0.2,
             "#de77ae"
            ],
            [
             0.3,
             "#f1b6da"
            ],
            [
             0.4,
             "#fde0ef"
            ],
            [
             0.5,
             "#f7f7f7"
            ],
            [
             0.6,
             "#e6f5d0"
            ],
            [
             0.7,
             "#b8e186"
            ],
            [
             0.8,
             "#7fbc41"
            ],
            [
             0.9,
             "#4d9221"
            ],
            [
             1,
             "#276419"
            ]
           ],
           "sequential": [
            [
             0,
             "#0d0887"
            ],
            [
             0.1111111111111111,
             "#46039f"
            ],
            [
             0.2222222222222222,
             "#7201a8"
            ],
            [
             0.3333333333333333,
             "#9c179e"
            ],
            [
             0.4444444444444444,
             "#bd3786"
            ],
            [
             0.5555555555555556,
             "#d8576b"
            ],
            [
             0.6666666666666666,
             "#ed7953"
            ],
            [
             0.7777777777777778,
             "#fb9f3a"
            ],
            [
             0.8888888888888888,
             "#fdca26"
            ],
            [
             1,
             "#f0f921"
            ]
           ],
           "sequentialminus": [
            [
             0,
             "#0d0887"
            ],
            [
             0.1111111111111111,
             "#46039f"
            ],
            [
             0.2222222222222222,
             "#7201a8"
            ],
            [
             0.3333333333333333,
             "#9c179e"
            ],
            [
             0.4444444444444444,
             "#bd3786"
            ],
            [
             0.5555555555555556,
             "#d8576b"
            ],
            [
             0.6666666666666666,
             "#ed7953"
            ],
            [
             0.7777777777777778,
             "#fb9f3a"
            ],
            [
             0.8888888888888888,
             "#fdca26"
            ],
            [
             1,
             "#f0f921"
            ]
           ]
          },
          "colorway": [
           "#636efa",
           "#EF553B",
           "#00cc96",
           "#ab63fa",
           "#FFA15A",
           "#19d3f3",
           "#FF6692",
           "#B6E880",
           "#FF97FF",
           "#FECB52"
          ],
          "font": {
           "color": "#2a3f5f"
          },
          "geo": {
           "bgcolor": "white",
           "lakecolor": "white",
           "landcolor": "#E5ECF6",
           "showlakes": true,
           "showland": true,
           "subunitcolor": "white"
          },
          "hoverlabel": {
           "align": "left"
          },
          "hovermode": "closest",
          "mapbox": {
           "style": "light"
          },
          "paper_bgcolor": "white",
          "plot_bgcolor": "#E5ECF6",
          "polar": {
           "angularaxis": {
            "gridcolor": "white",
            "linecolor": "white",
            "ticks": ""
           },
           "bgcolor": "#E5ECF6",
           "radialaxis": {
            "gridcolor": "white",
            "linecolor": "white",
            "ticks": ""
           }
          },
          "scene": {
           "xaxis": {
            "backgroundcolor": "#E5ECF6",
            "gridcolor": "white",
            "gridwidth": 2,
            "linecolor": "white",
            "showbackground": true,
            "ticks": "",
            "zerolinecolor": "white"
           },
           "yaxis": {
            "backgroundcolor": "#E5ECF6",
            "gridcolor": "white",
            "gridwidth": 2,
            "linecolor": "white",
            "showbackground": true,
            "ticks": "",
            "zerolinecolor": "white"
           },
           "zaxis": {
            "backgroundcolor": "#E5ECF6",
            "gridcolor": "white",
            "gridwidth": 2,
            "linecolor": "white",
            "showbackground": true,
            "ticks": "",
            "zerolinecolor": "white"
           }
          },
          "shapedefaults": {
           "line": {
            "color": "#2a3f5f"
           }
          },
          "ternary": {
           "aaxis": {
            "gridcolor": "white",
            "linecolor": "white",
            "ticks": ""
           },
           "baxis": {
            "gridcolor": "white",
            "linecolor": "white",
            "ticks": ""
           },
           "bgcolor": "#E5ECF6",
           "caxis": {
            "gridcolor": "white",
            "linecolor": "white",
            "ticks": ""
           }
          },
          "title": {
           "x": 0.05
          },
          "xaxis": {
           "automargin": true,
           "gridcolor": "white",
           "linecolor": "white",
           "ticks": "",
           "title": {
            "standoff": 15
           },
           "zerolinecolor": "white",
           "zerolinewidth": 2
          },
          "yaxis": {
           "automargin": true,
           "gridcolor": "white",
           "linecolor": "white",
           "ticks": "",
           "title": {
            "standoff": 15
           },
           "zerolinecolor": "white",
           "zerolinewidth": 2
          }
         }
        },
        "title": {
         "text": "Aumento della produzione di cibo mondiale"
        },
        "xaxis": {
         "anchor": "y",
         "domain": [
          0,
          1
         ],
         "title": {
          "text": "Year"
         }
        },
        "yaxis": {
         "anchor": "x",
         "domain": [
          0,
          1
         ],
         "title": {
          "text": "Quantity(Tonnes)"
         }
        }
       }
      }
     },
     "metadata": {},
     "output_type": "display_data"
    }
   ],
   "source": [
    "# Addattare i dati per mostrare l'incremento della produzione anno per anno\n",
    "temp_df = graphics_df.groupby(\"Year\").sum(numeric_only=True)\n",
    "fig = px.bar(\n",
    "     temp_df,\n",
    "     x=temp_df.index,\n",
    "     y=\"Quantity(Tonnes)\",\n",
    "     color=\"Quantity(Tonnes)\",\n",
    "     height=500,\n",
    "     title=\"Aumento della produzione di cibo mondiale\"\n",
    ")\n",
    "fig.show()\n"
   ]
  },
  {
   "cell_type": "markdown",
   "metadata": {},
   "source": [
    "# Grafico della produzione di CO2 prodotta anno per anno\n",
    "#### Grafico che mostra l'incremento della produzione di CO2 anno per anno"
   ]
  },
  {
   "cell_type": "code",
   "execution_count": 808,
   "metadata": {},
   "outputs": [
    {
     "data": {
      "application/vnd.plotly.v1+json": {
       "config": {
        "plotlyServerURL": "https://plot.ly"
       },
       "data": [
        {
         "alignmentgroup": "True",
         "hovertemplate": "Year=%{x}<br>Yearly TonnesCO2=%{marker.color}<extra></extra>",
         "legendgroup": "",
         "marker": {
          "color": [
           4279575500,
           4423833200,
           4581846100,
           4713669400,
           4773614000,
           4951036800,
           5047642400,
           5270276200,
           5367976500,
           5467389500,
           5496616500,
           5594512000,
           5640405100,
           5805848200,
           6014920400,
           6233898300,
           6328957100,
           6499693900,
           6544462000,
           6618411800,
           6726790500,
           6864618600,
           7031137500,
           7245873600,
           7443973100,
           7597547700,
           7760426600,
           7877749100,
           7988718600,
           8145203400,
           8227225600,
           8395242000,
           8541868300,
           8833594800,
           9098398100,
           9292137100,
           9479511300,
           9654637000,
           9980570400,
           10184783600,
           10201656600,
           10439752300,
           10576532100,
           10803871500,
           11030645100,
           11333003300,
           11671425700,
           11870668300,
           12056332600,
           12271822200,
           12509640400,
           12711303100,
           12835715700
          ],
          "coloraxis": "coloraxis",
          "pattern": {
           "shape": ""
          }
         },
         "name": "",
         "offsetgroup": "",
         "orientation": "v",
         "showlegend": false,
         "textposition": "auto",
         "type": "bar",
         "x": [
          1961,
          1962,
          1963,
          1964,
          1965,
          1966,
          1967,
          1968,
          1969,
          1970,
          1971,
          1972,
          1973,
          1974,
          1975,
          1976,
          1977,
          1978,
          1979,
          1980,
          1981,
          1982,
          1983,
          1984,
          1985,
          1986,
          1987,
          1988,
          1989,
          1990,
          1991,
          1992,
          1993,
          1994,
          1995,
          1996,
          1997,
          1998,
          1999,
          2000,
          2001,
          2002,
          2003,
          2004,
          2005,
          2006,
          2007,
          2008,
          2009,
          2010,
          2011,
          2012,
          2013
         ],
         "xaxis": "x",
         "y": [
          4279575500,
          4423833200,
          4581846100,
          4713669400,
          4773614000,
          4951036800,
          5047642400,
          5270276200,
          5367976500,
          5467389500,
          5496616500,
          5594512000,
          5640405100,
          5805848200,
          6014920400,
          6233898300,
          6328957100,
          6499693900,
          6544462000,
          6618411800,
          6726790500,
          6864618600,
          7031137500,
          7245873600,
          7443973100,
          7597547700,
          7760426600,
          7877749100,
          7988718600,
          8145203400,
          8227225600,
          8395242000,
          8541868300,
          8833594800,
          9098398100,
          9292137100,
          9479511300,
          9654637000,
          9980570400,
          10184783600,
          10201656600,
          10439752300,
          10576532100,
          10803871500,
          11030645100,
          11333003300,
          11671425700,
          11870668300,
          12056332600,
          12271822200,
          12509640400,
          12711303100,
          12835715700
         ],
         "yaxis": "y"
        }
       ],
       "layout": {
        "barmode": "relative",
        "coloraxis": {
         "colorbar": {
          "title": {
           "text": "Yearly TonnesCO2"
          }
         },
         "colorscale": [
          [
           0,
           "#0d0887"
          ],
          [
           0.1111111111111111,
           "#46039f"
          ],
          [
           0.2222222222222222,
           "#7201a8"
          ],
          [
           0.3333333333333333,
           "#9c179e"
          ],
          [
           0.4444444444444444,
           "#bd3786"
          ],
          [
           0.5555555555555556,
           "#d8576b"
          ],
          [
           0.6666666666666666,
           "#ed7953"
          ],
          [
           0.7777777777777778,
           "#fb9f3a"
          ],
          [
           0.8888888888888888,
           "#fdca26"
          ],
          [
           1,
           "#f0f921"
          ]
         ]
        },
        "height": 500,
        "legend": {
         "tracegroupgap": 0
        },
        "template": {
         "data": {
          "bar": [
           {
            "error_x": {
             "color": "#2a3f5f"
            },
            "error_y": {
             "color": "#2a3f5f"
            },
            "marker": {
             "line": {
              "color": "#E5ECF6",
              "width": 0.5
             },
             "pattern": {
              "fillmode": "overlay",
              "size": 10,
              "solidity": 0.2
             }
            },
            "type": "bar"
           }
          ],
          "barpolar": [
           {
            "marker": {
             "line": {
              "color": "#E5ECF6",
              "width": 0.5
             },
             "pattern": {
              "fillmode": "overlay",
              "size": 10,
              "solidity": 0.2
             }
            },
            "type": "barpolar"
           }
          ],
          "carpet": [
           {
            "aaxis": {
             "endlinecolor": "#2a3f5f",
             "gridcolor": "white",
             "linecolor": "white",
             "minorgridcolor": "white",
             "startlinecolor": "#2a3f5f"
            },
            "baxis": {
             "endlinecolor": "#2a3f5f",
             "gridcolor": "white",
             "linecolor": "white",
             "minorgridcolor": "white",
             "startlinecolor": "#2a3f5f"
            },
            "type": "carpet"
           }
          ],
          "choropleth": [
           {
            "colorbar": {
             "outlinewidth": 0,
             "ticks": ""
            },
            "type": "choropleth"
           }
          ],
          "contour": [
           {
            "colorbar": {
             "outlinewidth": 0,
             "ticks": ""
            },
            "colorscale": [
             [
              0,
              "#0d0887"
             ],
             [
              0.1111111111111111,
              "#46039f"
             ],
             [
              0.2222222222222222,
              "#7201a8"
             ],
             [
              0.3333333333333333,
              "#9c179e"
             ],
             [
              0.4444444444444444,
              "#bd3786"
             ],
             [
              0.5555555555555556,
              "#d8576b"
             ],
             [
              0.6666666666666666,
              "#ed7953"
             ],
             [
              0.7777777777777778,
              "#fb9f3a"
             ],
             [
              0.8888888888888888,
              "#fdca26"
             ],
             [
              1,
              "#f0f921"
             ]
            ],
            "type": "contour"
           }
          ],
          "contourcarpet": [
           {
            "colorbar": {
             "outlinewidth": 0,
             "ticks": ""
            },
            "type": "contourcarpet"
           }
          ],
          "heatmap": [
           {
            "colorbar": {
             "outlinewidth": 0,
             "ticks": ""
            },
            "colorscale": [
             [
              0,
              "#0d0887"
             ],
             [
              0.1111111111111111,
              "#46039f"
             ],
             [
              0.2222222222222222,
              "#7201a8"
             ],
             [
              0.3333333333333333,
              "#9c179e"
             ],
             [
              0.4444444444444444,
              "#bd3786"
             ],
             [
              0.5555555555555556,
              "#d8576b"
             ],
             [
              0.6666666666666666,
              "#ed7953"
             ],
             [
              0.7777777777777778,
              "#fb9f3a"
             ],
             [
              0.8888888888888888,
              "#fdca26"
             ],
             [
              1,
              "#f0f921"
             ]
            ],
            "type": "heatmap"
           }
          ],
          "heatmapgl": [
           {
            "colorbar": {
             "outlinewidth": 0,
             "ticks": ""
            },
            "colorscale": [
             [
              0,
              "#0d0887"
             ],
             [
              0.1111111111111111,
              "#46039f"
             ],
             [
              0.2222222222222222,
              "#7201a8"
             ],
             [
              0.3333333333333333,
              "#9c179e"
             ],
             [
              0.4444444444444444,
              "#bd3786"
             ],
             [
              0.5555555555555556,
              "#d8576b"
             ],
             [
              0.6666666666666666,
              "#ed7953"
             ],
             [
              0.7777777777777778,
              "#fb9f3a"
             ],
             [
              0.8888888888888888,
              "#fdca26"
             ],
             [
              1,
              "#f0f921"
             ]
            ],
            "type": "heatmapgl"
           }
          ],
          "histogram": [
           {
            "marker": {
             "pattern": {
              "fillmode": "overlay",
              "size": 10,
              "solidity": 0.2
             }
            },
            "type": "histogram"
           }
          ],
          "histogram2d": [
           {
            "colorbar": {
             "outlinewidth": 0,
             "ticks": ""
            },
            "colorscale": [
             [
              0,
              "#0d0887"
             ],
             [
              0.1111111111111111,
              "#46039f"
             ],
             [
              0.2222222222222222,
              "#7201a8"
             ],
             [
              0.3333333333333333,
              "#9c179e"
             ],
             [
              0.4444444444444444,
              "#bd3786"
             ],
             [
              0.5555555555555556,
              "#d8576b"
             ],
             [
              0.6666666666666666,
              "#ed7953"
             ],
             [
              0.7777777777777778,
              "#fb9f3a"
             ],
             [
              0.8888888888888888,
              "#fdca26"
             ],
             [
              1,
              "#f0f921"
             ]
            ],
            "type": "histogram2d"
           }
          ],
          "histogram2dcontour": [
           {
            "colorbar": {
             "outlinewidth": 0,
             "ticks": ""
            },
            "colorscale": [
             [
              0,
              "#0d0887"
             ],
             [
              0.1111111111111111,
              "#46039f"
             ],
             [
              0.2222222222222222,
              "#7201a8"
             ],
             [
              0.3333333333333333,
              "#9c179e"
             ],
             [
              0.4444444444444444,
              "#bd3786"
             ],
             [
              0.5555555555555556,
              "#d8576b"
             ],
             [
              0.6666666666666666,
              "#ed7953"
             ],
             [
              0.7777777777777778,
              "#fb9f3a"
             ],
             [
              0.8888888888888888,
              "#fdca26"
             ],
             [
              1,
              "#f0f921"
             ]
            ],
            "type": "histogram2dcontour"
           }
          ],
          "mesh3d": [
           {
            "colorbar": {
             "outlinewidth": 0,
             "ticks": ""
            },
            "type": "mesh3d"
           }
          ],
          "parcoords": [
           {
            "line": {
             "colorbar": {
              "outlinewidth": 0,
              "ticks": ""
             }
            },
            "type": "parcoords"
           }
          ],
          "pie": [
           {
            "automargin": true,
            "type": "pie"
           }
          ],
          "scatter": [
           {
            "fillpattern": {
             "fillmode": "overlay",
             "size": 10,
             "solidity": 0.2
            },
            "type": "scatter"
           }
          ],
          "scatter3d": [
           {
            "line": {
             "colorbar": {
              "outlinewidth": 0,
              "ticks": ""
             }
            },
            "marker": {
             "colorbar": {
              "outlinewidth": 0,
              "ticks": ""
             }
            },
            "type": "scatter3d"
           }
          ],
          "scattercarpet": [
           {
            "marker": {
             "colorbar": {
              "outlinewidth": 0,
              "ticks": ""
             }
            },
            "type": "scattercarpet"
           }
          ],
          "scattergeo": [
           {
            "marker": {
             "colorbar": {
              "outlinewidth": 0,
              "ticks": ""
             }
            },
            "type": "scattergeo"
           }
          ],
          "scattergl": [
           {
            "marker": {
             "colorbar": {
              "outlinewidth": 0,
              "ticks": ""
             }
            },
            "type": "scattergl"
           }
          ],
          "scattermapbox": [
           {
            "marker": {
             "colorbar": {
              "outlinewidth": 0,
              "ticks": ""
             }
            },
            "type": "scattermapbox"
           }
          ],
          "scatterpolar": [
           {
            "marker": {
             "colorbar": {
              "outlinewidth": 0,
              "ticks": ""
             }
            },
            "type": "scatterpolar"
           }
          ],
          "scatterpolargl": [
           {
            "marker": {
             "colorbar": {
              "outlinewidth": 0,
              "ticks": ""
             }
            },
            "type": "scatterpolargl"
           }
          ],
          "scatterternary": [
           {
            "marker": {
             "colorbar": {
              "outlinewidth": 0,
              "ticks": ""
             }
            },
            "type": "scatterternary"
           }
          ],
          "surface": [
           {
            "colorbar": {
             "outlinewidth": 0,
             "ticks": ""
            },
            "colorscale": [
             [
              0,
              "#0d0887"
             ],
             [
              0.1111111111111111,
              "#46039f"
             ],
             [
              0.2222222222222222,
              "#7201a8"
             ],
             [
              0.3333333333333333,
              "#9c179e"
             ],
             [
              0.4444444444444444,
              "#bd3786"
             ],
             [
              0.5555555555555556,
              "#d8576b"
             ],
             [
              0.6666666666666666,
              "#ed7953"
             ],
             [
              0.7777777777777778,
              "#fb9f3a"
             ],
             [
              0.8888888888888888,
              "#fdca26"
             ],
             [
              1,
              "#f0f921"
             ]
            ],
            "type": "surface"
           }
          ],
          "table": [
           {
            "cells": {
             "fill": {
              "color": "#EBF0F8"
             },
             "line": {
              "color": "white"
             }
            },
            "header": {
             "fill": {
              "color": "#C8D4E3"
             },
             "line": {
              "color": "white"
             }
            },
            "type": "table"
           }
          ]
         },
         "layout": {
          "annotationdefaults": {
           "arrowcolor": "#2a3f5f",
           "arrowhead": 0,
           "arrowwidth": 1
          },
          "autotypenumbers": "strict",
          "coloraxis": {
           "colorbar": {
            "outlinewidth": 0,
            "ticks": ""
           }
          },
          "colorscale": {
           "diverging": [
            [
             0,
             "#8e0152"
            ],
            [
             0.1,
             "#c51b7d"
            ],
            [
             0.2,
             "#de77ae"
            ],
            [
             0.3,
             "#f1b6da"
            ],
            [
             0.4,
             "#fde0ef"
            ],
            [
             0.5,
             "#f7f7f7"
            ],
            [
             0.6,
             "#e6f5d0"
            ],
            [
             0.7,
             "#b8e186"
            ],
            [
             0.8,
             "#7fbc41"
            ],
            [
             0.9,
             "#4d9221"
            ],
            [
             1,
             "#276419"
            ]
           ],
           "sequential": [
            [
             0,
             "#0d0887"
            ],
            [
             0.1111111111111111,
             "#46039f"
            ],
            [
             0.2222222222222222,
             "#7201a8"
            ],
            [
             0.3333333333333333,
             "#9c179e"
            ],
            [
             0.4444444444444444,
             "#bd3786"
            ],
            [
             0.5555555555555556,
             "#d8576b"
            ],
            [
             0.6666666666666666,
             "#ed7953"
            ],
            [
             0.7777777777777778,
             "#fb9f3a"
            ],
            [
             0.8888888888888888,
             "#fdca26"
            ],
            [
             1,
             "#f0f921"
            ]
           ],
           "sequentialminus": [
            [
             0,
             "#0d0887"
            ],
            [
             0.1111111111111111,
             "#46039f"
            ],
            [
             0.2222222222222222,
             "#7201a8"
            ],
            [
             0.3333333333333333,
             "#9c179e"
            ],
            [
             0.4444444444444444,
             "#bd3786"
            ],
            [
             0.5555555555555556,
             "#d8576b"
            ],
            [
             0.6666666666666666,
             "#ed7953"
            ],
            [
             0.7777777777777778,
             "#fb9f3a"
            ],
            [
             0.8888888888888888,
             "#fdca26"
            ],
            [
             1,
             "#f0f921"
            ]
           ]
          },
          "colorway": [
           "#636efa",
           "#EF553B",
           "#00cc96",
           "#ab63fa",
           "#FFA15A",
           "#19d3f3",
           "#FF6692",
           "#B6E880",
           "#FF97FF",
           "#FECB52"
          ],
          "font": {
           "color": "#2a3f5f"
          },
          "geo": {
           "bgcolor": "white",
           "lakecolor": "white",
           "landcolor": "#E5ECF6",
           "showlakes": true,
           "showland": true,
           "subunitcolor": "white"
          },
          "hoverlabel": {
           "align": "left"
          },
          "hovermode": "closest",
          "mapbox": {
           "style": "light"
          },
          "paper_bgcolor": "white",
          "plot_bgcolor": "#E5ECF6",
          "polar": {
           "angularaxis": {
            "gridcolor": "white",
            "linecolor": "white",
            "ticks": ""
           },
           "bgcolor": "#E5ECF6",
           "radialaxis": {
            "gridcolor": "white",
            "linecolor": "white",
            "ticks": ""
           }
          },
          "scene": {
           "xaxis": {
            "backgroundcolor": "#E5ECF6",
            "gridcolor": "white",
            "gridwidth": 2,
            "linecolor": "white",
            "showbackground": true,
            "ticks": "",
            "zerolinecolor": "white"
           },
           "yaxis": {
            "backgroundcolor": "#E5ECF6",
            "gridcolor": "white",
            "gridwidth": 2,
            "linecolor": "white",
            "showbackground": true,
            "ticks": "",
            "zerolinecolor": "white"
           },
           "zaxis": {
            "backgroundcolor": "#E5ECF6",
            "gridcolor": "white",
            "gridwidth": 2,
            "linecolor": "white",
            "showbackground": true,
            "ticks": "",
            "zerolinecolor": "white"
           }
          },
          "shapedefaults": {
           "line": {
            "color": "#2a3f5f"
           }
          },
          "ternary": {
           "aaxis": {
            "gridcolor": "white",
            "linecolor": "white",
            "ticks": ""
           },
           "baxis": {
            "gridcolor": "white",
            "linecolor": "white",
            "ticks": ""
           },
           "bgcolor": "#E5ECF6",
           "caxis": {
            "gridcolor": "white",
            "linecolor": "white",
            "ticks": ""
           }
          },
          "title": {
           "x": 0.05
          },
          "xaxis": {
           "automargin": true,
           "gridcolor": "white",
           "linecolor": "white",
           "ticks": "",
           "title": {
            "standoff": 15
           },
           "zerolinecolor": "white",
           "zerolinewidth": 2
          },
          "yaxis": {
           "automargin": true,
           "gridcolor": "white",
           "linecolor": "white",
           "ticks": "",
           "title": {
            "standoff": 15
           },
           "zerolinecolor": "white",
           "zerolinewidth": 2
          }
         }
        },
        "title": {
         "text": "Tonnellate CO2 annue"
        },
        "xaxis": {
         "anchor": "y",
         "domain": [
          0,
          1
         ],
         "title": {
          "text": "Year"
         }
        },
        "yaxis": {
         "anchor": "x",
         "domain": [
          0,
          1
         ],
         "title": {
          "text": "Yearly TonnesCO2"
         }
        }
       }
      }
     },
     "metadata": {},
     "output_type": "display_data"
    }
   ],
   "source": [
    "fig = px.bar(\n",
    "     temp_df,\n",
    "     x=temp_df.index,\n",
    "     y=\"Yearly TonnesCO2\",\n",
    "     color=\"Yearly TonnesCO2\",\n",
    "     height=500,\n",
    "     title=\"Tonnellate CO2 annue\"\n",
    ")\n",
    "fig.show()"
   ]
  },
  {
   "cell_type": "markdown",
   "metadata": {},
   "source": [
    "# Grafico eutrofizzazione anno per anno\n",
    "#### Grafico che mostra l'incremento di eutrofizzazione anno per anno"
   ]
  },
  {
   "cell_type": "code",
   "execution_count": 809,
   "metadata": {},
   "outputs": [
    {
     "data": {
      "application/vnd.plotly.v1+json": {
       "config": {
        "plotlyServerURL": "https://plot.ly"
       },
       "data": [
        {
         "alignmentgroup": "True",
         "hovertemplate": "Year=%{x}<br>Yearly Tonnes PO4 producted=%{marker.color}<extra></extra>",
         "legendgroup": "",
         "marker": {
          "color": [
           29896968.31,
           31243470.77,
           32563017.12,
           33909811.45,
           34609579.94,
           35857638.89,
           36959861.050000004,
           39379841.65,
           39744481.230000004,
           40508908.51,
           41103899.410000004,
           42186501.15,
           41797696.92,
           43018102.58,
           44599432.1,
           45987886.37,
           46754834.26,
           48000173.88,
           48899509.85,
           49278843.97,
           50397772.89,
           52036759.5,
           53132779.800000004,
           55193381.72,
           57214706.550000004,
           58800422.1,
           60915877.42,
           62296111.61,
           63575711.910000004,
           64246391.56,
           64735642.62,
           66346084.59,
           68293090.91,
           71990142.92,
           74298429.68,
           75812413.18,
           77516242.64,
           77222536.08,
           80158570.03,
           82606090.27,
           82727086.73,
           84030167.11,
           84819991.14,
           87276664.95,
           89466044.17,
           91206695.71000001,
           93493710.13,
           95727372.38,
           97473724.11,
           99282076.63,
           101428903.49,
           103173647.79,
           103680972.64
          ],
          "coloraxis": "coloraxis",
          "pattern": {
           "shape": ""
          }
         },
         "name": "",
         "offsetgroup": "",
         "orientation": "v",
         "showlegend": false,
         "textposition": "auto",
         "type": "bar",
         "x": [
          1961,
          1962,
          1963,
          1964,
          1965,
          1966,
          1967,
          1968,
          1969,
          1970,
          1971,
          1972,
          1973,
          1974,
          1975,
          1976,
          1977,
          1978,
          1979,
          1980,
          1981,
          1982,
          1983,
          1984,
          1985,
          1986,
          1987,
          1988,
          1989,
          1990,
          1991,
          1992,
          1993,
          1994,
          1995,
          1996,
          1997,
          1998,
          1999,
          2000,
          2001,
          2002,
          2003,
          2004,
          2005,
          2006,
          2007,
          2008,
          2009,
          2010,
          2011,
          2012,
          2013
         ],
         "xaxis": "x",
         "y": [
          29896968.31,
          31243470.77,
          32563017.12,
          33909811.45,
          34609579.94,
          35857638.89,
          36959861.050000004,
          39379841.65,
          39744481.230000004,
          40508908.51,
          41103899.410000004,
          42186501.15,
          41797696.92,
          43018102.58,
          44599432.1,
          45987886.37,
          46754834.26,
          48000173.88,
          48899509.85,
          49278843.97,
          50397772.89,
          52036759.5,
          53132779.800000004,
          55193381.72,
          57214706.550000004,
          58800422.1,
          60915877.42,
          62296111.61,
          63575711.910000004,
          64246391.56,
          64735642.62,
          66346084.59,
          68293090.91,
          71990142.92,
          74298429.68,
          75812413.18,
          77516242.64,
          77222536.08,
          80158570.03,
          82606090.27,
          82727086.73,
          84030167.11,
          84819991.14,
          87276664.95,
          89466044.17,
          91206695.71000001,
          93493710.13,
          95727372.38,
          97473724.11,
          99282076.63,
          101428903.49,
          103173647.79,
          103680972.64
         ],
         "yaxis": "y"
        }
       ],
       "layout": {
        "barmode": "relative",
        "coloraxis": {
         "colorbar": {
          "title": {
           "text": "Yearly Tonnes PO4 producted"
          }
         },
         "colorscale": [
          [
           0,
           "#0d0887"
          ],
          [
           0.1111111111111111,
           "#46039f"
          ],
          [
           0.2222222222222222,
           "#7201a8"
          ],
          [
           0.3333333333333333,
           "#9c179e"
          ],
          [
           0.4444444444444444,
           "#bd3786"
          ],
          [
           0.5555555555555556,
           "#d8576b"
          ],
          [
           0.6666666666666666,
           "#ed7953"
          ],
          [
           0.7777777777777778,
           "#fb9f3a"
          ],
          [
           0.8888888888888888,
           "#fdca26"
          ],
          [
           1,
           "#f0f921"
          ]
         ]
        },
        "height": 500,
        "legend": {
         "tracegroupgap": 0
        },
        "template": {
         "data": {
          "bar": [
           {
            "error_x": {
             "color": "#2a3f5f"
            },
            "error_y": {
             "color": "#2a3f5f"
            },
            "marker": {
             "line": {
              "color": "#E5ECF6",
              "width": 0.5
             },
             "pattern": {
              "fillmode": "overlay",
              "size": 10,
              "solidity": 0.2
             }
            },
            "type": "bar"
           }
          ],
          "barpolar": [
           {
            "marker": {
             "line": {
              "color": "#E5ECF6",
              "width": 0.5
             },
             "pattern": {
              "fillmode": "overlay",
              "size": 10,
              "solidity": 0.2
             }
            },
            "type": "barpolar"
           }
          ],
          "carpet": [
           {
            "aaxis": {
             "endlinecolor": "#2a3f5f",
             "gridcolor": "white",
             "linecolor": "white",
             "minorgridcolor": "white",
             "startlinecolor": "#2a3f5f"
            },
            "baxis": {
             "endlinecolor": "#2a3f5f",
             "gridcolor": "white",
             "linecolor": "white",
             "minorgridcolor": "white",
             "startlinecolor": "#2a3f5f"
            },
            "type": "carpet"
           }
          ],
          "choropleth": [
           {
            "colorbar": {
             "outlinewidth": 0,
             "ticks": ""
            },
            "type": "choropleth"
           }
          ],
          "contour": [
           {
            "colorbar": {
             "outlinewidth": 0,
             "ticks": ""
            },
            "colorscale": [
             [
              0,
              "#0d0887"
             ],
             [
              0.1111111111111111,
              "#46039f"
             ],
             [
              0.2222222222222222,
              "#7201a8"
             ],
             [
              0.3333333333333333,
              "#9c179e"
             ],
             [
              0.4444444444444444,
              "#bd3786"
             ],
             [
              0.5555555555555556,
              "#d8576b"
             ],
             [
              0.6666666666666666,
              "#ed7953"
             ],
             [
              0.7777777777777778,
              "#fb9f3a"
             ],
             [
              0.8888888888888888,
              "#fdca26"
             ],
             [
              1,
              "#f0f921"
             ]
            ],
            "type": "contour"
           }
          ],
          "contourcarpet": [
           {
            "colorbar": {
             "outlinewidth": 0,
             "ticks": ""
            },
            "type": "contourcarpet"
           }
          ],
          "heatmap": [
           {
            "colorbar": {
             "outlinewidth": 0,
             "ticks": ""
            },
            "colorscale": [
             [
              0,
              "#0d0887"
             ],
             [
              0.1111111111111111,
              "#46039f"
             ],
             [
              0.2222222222222222,
              "#7201a8"
             ],
             [
              0.3333333333333333,
              "#9c179e"
             ],
             [
              0.4444444444444444,
              "#bd3786"
             ],
             [
              0.5555555555555556,
              "#d8576b"
             ],
             [
              0.6666666666666666,
              "#ed7953"
             ],
             [
              0.7777777777777778,
              "#fb9f3a"
             ],
             [
              0.8888888888888888,
              "#fdca26"
             ],
             [
              1,
              "#f0f921"
             ]
            ],
            "type": "heatmap"
           }
          ],
          "heatmapgl": [
           {
            "colorbar": {
             "outlinewidth": 0,
             "ticks": ""
            },
            "colorscale": [
             [
              0,
              "#0d0887"
             ],
             [
              0.1111111111111111,
              "#46039f"
             ],
             [
              0.2222222222222222,
              "#7201a8"
             ],
             [
              0.3333333333333333,
              "#9c179e"
             ],
             [
              0.4444444444444444,
              "#bd3786"
             ],
             [
              0.5555555555555556,
              "#d8576b"
             ],
             [
              0.6666666666666666,
              "#ed7953"
             ],
             [
              0.7777777777777778,
              "#fb9f3a"
             ],
             [
              0.8888888888888888,
              "#fdca26"
             ],
             [
              1,
              "#f0f921"
             ]
            ],
            "type": "heatmapgl"
           }
          ],
          "histogram": [
           {
            "marker": {
             "pattern": {
              "fillmode": "overlay",
              "size": 10,
              "solidity": 0.2
             }
            },
            "type": "histogram"
           }
          ],
          "histogram2d": [
           {
            "colorbar": {
             "outlinewidth": 0,
             "ticks": ""
            },
            "colorscale": [
             [
              0,
              "#0d0887"
             ],
             [
              0.1111111111111111,
              "#46039f"
             ],
             [
              0.2222222222222222,
              "#7201a8"
             ],
             [
              0.3333333333333333,
              "#9c179e"
             ],
             [
              0.4444444444444444,
              "#bd3786"
             ],
             [
              0.5555555555555556,
              "#d8576b"
             ],
             [
              0.6666666666666666,
              "#ed7953"
             ],
             [
              0.7777777777777778,
              "#fb9f3a"
             ],
             [
              0.8888888888888888,
              "#fdca26"
             ],
             [
              1,
              "#f0f921"
             ]
            ],
            "type": "histogram2d"
           }
          ],
          "histogram2dcontour": [
           {
            "colorbar": {
             "outlinewidth": 0,
             "ticks": ""
            },
            "colorscale": [
             [
              0,
              "#0d0887"
             ],
             [
              0.1111111111111111,
              "#46039f"
             ],
             [
              0.2222222222222222,
              "#7201a8"
             ],
             [
              0.3333333333333333,
              "#9c179e"
             ],
             [
              0.4444444444444444,
              "#bd3786"
             ],
             [
              0.5555555555555556,
              "#d8576b"
             ],
             [
              0.6666666666666666,
              "#ed7953"
             ],
             [
              0.7777777777777778,
              "#fb9f3a"
             ],
             [
              0.8888888888888888,
              "#fdca26"
             ],
             [
              1,
              "#f0f921"
             ]
            ],
            "type": "histogram2dcontour"
           }
          ],
          "mesh3d": [
           {
            "colorbar": {
             "outlinewidth": 0,
             "ticks": ""
            },
            "type": "mesh3d"
           }
          ],
          "parcoords": [
           {
            "line": {
             "colorbar": {
              "outlinewidth": 0,
              "ticks": ""
             }
            },
            "type": "parcoords"
           }
          ],
          "pie": [
           {
            "automargin": true,
            "type": "pie"
           }
          ],
          "scatter": [
           {
            "fillpattern": {
             "fillmode": "overlay",
             "size": 10,
             "solidity": 0.2
            },
            "type": "scatter"
           }
          ],
          "scatter3d": [
           {
            "line": {
             "colorbar": {
              "outlinewidth": 0,
              "ticks": ""
             }
            },
            "marker": {
             "colorbar": {
              "outlinewidth": 0,
              "ticks": ""
             }
            },
            "type": "scatter3d"
           }
          ],
          "scattercarpet": [
           {
            "marker": {
             "colorbar": {
              "outlinewidth": 0,
              "ticks": ""
             }
            },
            "type": "scattercarpet"
           }
          ],
          "scattergeo": [
           {
            "marker": {
             "colorbar": {
              "outlinewidth": 0,
              "ticks": ""
             }
            },
            "type": "scattergeo"
           }
          ],
          "scattergl": [
           {
            "marker": {
             "colorbar": {
              "outlinewidth": 0,
              "ticks": ""
             }
            },
            "type": "scattergl"
           }
          ],
          "scattermapbox": [
           {
            "marker": {
             "colorbar": {
              "outlinewidth": 0,
              "ticks": ""
             }
            },
            "type": "scattermapbox"
           }
          ],
          "scatterpolar": [
           {
            "marker": {
             "colorbar": {
              "outlinewidth": 0,
              "ticks": ""
             }
            },
            "type": "scatterpolar"
           }
          ],
          "scatterpolargl": [
           {
            "marker": {
             "colorbar": {
              "outlinewidth": 0,
              "ticks": ""
             }
            },
            "type": "scatterpolargl"
           }
          ],
          "scatterternary": [
           {
            "marker": {
             "colorbar": {
              "outlinewidth": 0,
              "ticks": ""
             }
            },
            "type": "scatterternary"
           }
          ],
          "surface": [
           {
            "colorbar": {
             "outlinewidth": 0,
             "ticks": ""
            },
            "colorscale": [
             [
              0,
              "#0d0887"
             ],
             [
              0.1111111111111111,
              "#46039f"
             ],
             [
              0.2222222222222222,
              "#7201a8"
             ],
             [
              0.3333333333333333,
              "#9c179e"
             ],
             [
              0.4444444444444444,
              "#bd3786"
             ],
             [
              0.5555555555555556,
              "#d8576b"
             ],
             [
              0.6666666666666666,
              "#ed7953"
             ],
             [
              0.7777777777777778,
              "#fb9f3a"
             ],
             [
              0.8888888888888888,
              "#fdca26"
             ],
             [
              1,
              "#f0f921"
             ]
            ],
            "type": "surface"
           }
          ],
          "table": [
           {
            "cells": {
             "fill": {
              "color": "#EBF0F8"
             },
             "line": {
              "color": "white"
             }
            },
            "header": {
             "fill": {
              "color": "#C8D4E3"
             },
             "line": {
              "color": "white"
             }
            },
            "type": "table"
           }
          ]
         },
         "layout": {
          "annotationdefaults": {
           "arrowcolor": "#2a3f5f",
           "arrowhead": 0,
           "arrowwidth": 1
          },
          "autotypenumbers": "strict",
          "coloraxis": {
           "colorbar": {
            "outlinewidth": 0,
            "ticks": ""
           }
          },
          "colorscale": {
           "diverging": [
            [
             0,
             "#8e0152"
            ],
            [
             0.1,
             "#c51b7d"
            ],
            [
             0.2,
             "#de77ae"
            ],
            [
             0.3,
             "#f1b6da"
            ],
            [
             0.4,
             "#fde0ef"
            ],
            [
             0.5,
             "#f7f7f7"
            ],
            [
             0.6,
             "#e6f5d0"
            ],
            [
             0.7,
             "#b8e186"
            ],
            [
             0.8,
             "#7fbc41"
            ],
            [
             0.9,
             "#4d9221"
            ],
            [
             1,
             "#276419"
            ]
           ],
           "sequential": [
            [
             0,
             "#0d0887"
            ],
            [
             0.1111111111111111,
             "#46039f"
            ],
            [
             0.2222222222222222,
             "#7201a8"
            ],
            [
             0.3333333333333333,
             "#9c179e"
            ],
            [
             0.4444444444444444,
             "#bd3786"
            ],
            [
             0.5555555555555556,
             "#d8576b"
            ],
            [
             0.6666666666666666,
             "#ed7953"
            ],
            [
             0.7777777777777778,
             "#fb9f3a"
            ],
            [
             0.8888888888888888,
             "#fdca26"
            ],
            [
             1,
             "#f0f921"
            ]
           ],
           "sequentialminus": [
            [
             0,
             "#0d0887"
            ],
            [
             0.1111111111111111,
             "#46039f"
            ],
            [
             0.2222222222222222,
             "#7201a8"
            ],
            [
             0.3333333333333333,
             "#9c179e"
            ],
            [
             0.4444444444444444,
             "#bd3786"
            ],
            [
             0.5555555555555556,
             "#d8576b"
            ],
            [
             0.6666666666666666,
             "#ed7953"
            ],
            [
             0.7777777777777778,
             "#fb9f3a"
            ],
            [
             0.8888888888888888,
             "#fdca26"
            ],
            [
             1,
             "#f0f921"
            ]
           ]
          },
          "colorway": [
           "#636efa",
           "#EF553B",
           "#00cc96",
           "#ab63fa",
           "#FFA15A",
           "#19d3f3",
           "#FF6692",
           "#B6E880",
           "#FF97FF",
           "#FECB52"
          ],
          "font": {
           "color": "#2a3f5f"
          },
          "geo": {
           "bgcolor": "white",
           "lakecolor": "white",
           "landcolor": "#E5ECF6",
           "showlakes": true,
           "showland": true,
           "subunitcolor": "white"
          },
          "hoverlabel": {
           "align": "left"
          },
          "hovermode": "closest",
          "mapbox": {
           "style": "light"
          },
          "paper_bgcolor": "white",
          "plot_bgcolor": "#E5ECF6",
          "polar": {
           "angularaxis": {
            "gridcolor": "white",
            "linecolor": "white",
            "ticks": ""
           },
           "bgcolor": "#E5ECF6",
           "radialaxis": {
            "gridcolor": "white",
            "linecolor": "white",
            "ticks": ""
           }
          },
          "scene": {
           "xaxis": {
            "backgroundcolor": "#E5ECF6",
            "gridcolor": "white",
            "gridwidth": 2,
            "linecolor": "white",
            "showbackground": true,
            "ticks": "",
            "zerolinecolor": "white"
           },
           "yaxis": {
            "backgroundcolor": "#E5ECF6",
            "gridcolor": "white",
            "gridwidth": 2,
            "linecolor": "white",
            "showbackground": true,
            "ticks": "",
            "zerolinecolor": "white"
           },
           "zaxis": {
            "backgroundcolor": "#E5ECF6",
            "gridcolor": "white",
            "gridwidth": 2,
            "linecolor": "white",
            "showbackground": true,
            "ticks": "",
            "zerolinecolor": "white"
           }
          },
          "shapedefaults": {
           "line": {
            "color": "#2a3f5f"
           }
          },
          "ternary": {
           "aaxis": {
            "gridcolor": "white",
            "linecolor": "white",
            "ticks": ""
           },
           "baxis": {
            "gridcolor": "white",
            "linecolor": "white",
            "ticks": ""
           },
           "bgcolor": "#E5ECF6",
           "caxis": {
            "gridcolor": "white",
            "linecolor": "white",
            "ticks": ""
           }
          },
          "title": {
           "x": 0.05
          },
          "xaxis": {
           "automargin": true,
           "gridcolor": "white",
           "linecolor": "white",
           "ticks": "",
           "title": {
            "standoff": 15
           },
           "zerolinecolor": "white",
           "zerolinewidth": 2
          },
          "yaxis": {
           "automargin": true,
           "gridcolor": "white",
           "linecolor": "white",
           "ticks": "",
           "title": {
            "standoff": 15
           },
           "zerolinecolor": "white",
           "zerolinewidth": 2
          }
         }
        },
        "title": {
         "text": "Grafico eutrofizzazione"
        },
        "xaxis": {
         "anchor": "y",
         "domain": [
          0,
          1
         ],
         "title": {
          "text": "Year"
         }
        },
        "yaxis": {
         "anchor": "x",
         "domain": [
          0,
          1
         ],
         "title": {
          "text": "Yearly Tonnes PO4 producted"
         }
        }
       }
      }
     },
     "metadata": {},
     "output_type": "display_data"
    }
   ],
   "source": [
    "fig = px.bar(\n",
    "     temp_df,\n",
    "     x=temp_df.index,\n",
    "     y=\"Yearly Tonnes PO4 producted\",\n",
    "     color=\"Yearly Tonnes PO4 producted\",\n",
    "     height=500,\n",
    "     title=\"Grafico eutrofizzazione\"\n",
    ")\n",
    "fig.show()"
   ]
  },
  {
   "cell_type": "markdown",
   "metadata": {},
   "source": [
    "# Grafico aumento gas serra\n",
    "#### Grafico che mostra l'aumento dei gas serra anno per anno"
   ]
  },
  {
   "cell_type": "code",
   "execution_count": 810,
   "metadata": {},
   "outputs": [
    {
     "data": {
      "application/vnd.plotly.v1+json": {
       "config": {
        "plotlyServerURL": "https://plot.ly"
       },
       "data": [
        {
         "alignmentgroup": "True",
         "hovertemplate": "Year=%{x}<br>Yearly gas serra emissions(Tonnes)=%{marker.color}<extra></extra>",
         "legendgroup": "",
         "marker": {
          "color": [
           556988152.9610323,
           578037705.3725194,
           601238724.3631494,
           619381968.8572903,
           627727949.8367726,
           654148838.1612967,
           670719386.0388314,
           703408528.4682128,
           717599967.0570375,
           729955423.5813625,
           731313017.0241454,
           745899581.1324885,
           747621180.538516,
           775880683.3391384,
           809071321.7549015,
           844783385.0685006,
           854714251.4129837,
           874639330.1557797,
           872602788.5955001,
           881945852.0239756,
           896104271.8240356,
           908699639.0914711,
           924876295.8727396,
           954675752.9691463,
           983927341.1615016,
           1010576814.7734677,
           1030677526.8336458,
           1047811747.4977388,
           1061651181.54496,
           1082962271.0917108,
           1102326585.5723772,
           1125976376.9802728,
           1142250433.8928099,
           1186703493.658432,
           1222216378.9243598,
           1245683838.5083015,
           1273682467.8435795,
           1293865101.8663962,
           1337690085.436431,
           1367299377.4724963,
           1360657706.8793442,
           1393395534.5204556,
           1409838183.7223654,
           1442727019.1281133,
           1472875946.495648,
           1513716176.70215,
           1560981423.8771148,
           1582697959.90208,
           1606740168.5062487,
           1635164883.3296509,
           1662065417.4145892,
           1685940518.093787,
           1701303509.818725
          ],
          "coloraxis": "coloraxis",
          "pattern": {
           "shape": ""
          }
         },
         "name": "",
         "offsetgroup": "",
         "orientation": "v",
         "showlegend": false,
         "textposition": "auto",
         "type": "bar",
         "x": [
          1961,
          1962,
          1963,
          1964,
          1965,
          1966,
          1967,
          1968,
          1969,
          1970,
          1971,
          1972,
          1973,
          1974,
          1975,
          1976,
          1977,
          1978,
          1979,
          1980,
          1981,
          1982,
          1983,
          1984,
          1985,
          1986,
          1987,
          1988,
          1989,
          1990,
          1991,
          1992,
          1993,
          1994,
          1995,
          1996,
          1997,
          1998,
          1999,
          2000,
          2001,
          2002,
          2003,
          2004,
          2005,
          2006,
          2007,
          2008,
          2009,
          2010,
          2011,
          2012,
          2013
         ],
         "xaxis": "x",
         "y": [
          556988152.9610323,
          578037705.3725194,
          601238724.3631494,
          619381968.8572903,
          627727949.8367726,
          654148838.1612967,
          670719386.0388314,
          703408528.4682128,
          717599967.0570375,
          729955423.5813625,
          731313017.0241454,
          745899581.1324885,
          747621180.538516,
          775880683.3391384,
          809071321.7549015,
          844783385.0685006,
          854714251.4129837,
          874639330.1557797,
          872602788.5955001,
          881945852.0239756,
          896104271.8240356,
          908699639.0914711,
          924876295.8727396,
          954675752.9691463,
          983927341.1615016,
          1010576814.7734677,
          1030677526.8336458,
          1047811747.4977388,
          1061651181.54496,
          1082962271.0917108,
          1102326585.5723772,
          1125976376.9802728,
          1142250433.8928099,
          1186703493.658432,
          1222216378.9243598,
          1245683838.5083015,
          1273682467.8435795,
          1293865101.8663962,
          1337690085.436431,
          1367299377.4724963,
          1360657706.8793442,
          1393395534.5204556,
          1409838183.7223654,
          1442727019.1281133,
          1472875946.495648,
          1513716176.70215,
          1560981423.8771148,
          1582697959.90208,
          1606740168.5062487,
          1635164883.3296509,
          1662065417.4145892,
          1685940518.093787,
          1701303509.818725
         ],
         "yaxis": "y"
        }
       ],
       "layout": {
        "barmode": "relative",
        "coloraxis": {
         "colorbar": {
          "title": {
           "text": "Yearly gas serra emissions(Tonnes)"
          }
         },
         "colorscale": [
          [
           0,
           "#0d0887"
          ],
          [
           0.1111111111111111,
           "#46039f"
          ],
          [
           0.2222222222222222,
           "#7201a8"
          ],
          [
           0.3333333333333333,
           "#9c179e"
          ],
          [
           0.4444444444444444,
           "#bd3786"
          ],
          [
           0.5555555555555556,
           "#d8576b"
          ],
          [
           0.6666666666666666,
           "#ed7953"
          ],
          [
           0.7777777777777778,
           "#fb9f3a"
          ],
          [
           0.8888888888888888,
           "#fdca26"
          ],
          [
           1,
           "#f0f921"
          ]
         ]
        },
        "height": 500,
        "legend": {
         "tracegroupgap": 0
        },
        "template": {
         "data": {
          "bar": [
           {
            "error_x": {
             "color": "#2a3f5f"
            },
            "error_y": {
             "color": "#2a3f5f"
            },
            "marker": {
             "line": {
              "color": "#E5ECF6",
              "width": 0.5
             },
             "pattern": {
              "fillmode": "overlay",
              "size": 10,
              "solidity": 0.2
             }
            },
            "type": "bar"
           }
          ],
          "barpolar": [
           {
            "marker": {
             "line": {
              "color": "#E5ECF6",
              "width": 0.5
             },
             "pattern": {
              "fillmode": "overlay",
              "size": 10,
              "solidity": 0.2
             }
            },
            "type": "barpolar"
           }
          ],
          "carpet": [
           {
            "aaxis": {
             "endlinecolor": "#2a3f5f",
             "gridcolor": "white",
             "linecolor": "white",
             "minorgridcolor": "white",
             "startlinecolor": "#2a3f5f"
            },
            "baxis": {
             "endlinecolor": "#2a3f5f",
             "gridcolor": "white",
             "linecolor": "white",
             "minorgridcolor": "white",
             "startlinecolor": "#2a3f5f"
            },
            "type": "carpet"
           }
          ],
          "choropleth": [
           {
            "colorbar": {
             "outlinewidth": 0,
             "ticks": ""
            },
            "type": "choropleth"
           }
          ],
          "contour": [
           {
            "colorbar": {
             "outlinewidth": 0,
             "ticks": ""
            },
            "colorscale": [
             [
              0,
              "#0d0887"
             ],
             [
              0.1111111111111111,
              "#46039f"
             ],
             [
              0.2222222222222222,
              "#7201a8"
             ],
             [
              0.3333333333333333,
              "#9c179e"
             ],
             [
              0.4444444444444444,
              "#bd3786"
             ],
             [
              0.5555555555555556,
              "#d8576b"
             ],
             [
              0.6666666666666666,
              "#ed7953"
             ],
             [
              0.7777777777777778,
              "#fb9f3a"
             ],
             [
              0.8888888888888888,
              "#fdca26"
             ],
             [
              1,
              "#f0f921"
             ]
            ],
            "type": "contour"
           }
          ],
          "contourcarpet": [
           {
            "colorbar": {
             "outlinewidth": 0,
             "ticks": ""
            },
            "type": "contourcarpet"
           }
          ],
          "heatmap": [
           {
            "colorbar": {
             "outlinewidth": 0,
             "ticks": ""
            },
            "colorscale": [
             [
              0,
              "#0d0887"
             ],
             [
              0.1111111111111111,
              "#46039f"
             ],
             [
              0.2222222222222222,
              "#7201a8"
             ],
             [
              0.3333333333333333,
              "#9c179e"
             ],
             [
              0.4444444444444444,
              "#bd3786"
             ],
             [
              0.5555555555555556,
              "#d8576b"
             ],
             [
              0.6666666666666666,
              "#ed7953"
             ],
             [
              0.7777777777777778,
              "#fb9f3a"
             ],
             [
              0.8888888888888888,
              "#fdca26"
             ],
             [
              1,
              "#f0f921"
             ]
            ],
            "type": "heatmap"
           }
          ],
          "heatmapgl": [
           {
            "colorbar": {
             "outlinewidth": 0,
             "ticks": ""
            },
            "colorscale": [
             [
              0,
              "#0d0887"
             ],
             [
              0.1111111111111111,
              "#46039f"
             ],
             [
              0.2222222222222222,
              "#7201a8"
             ],
             [
              0.3333333333333333,
              "#9c179e"
             ],
             [
              0.4444444444444444,
              "#bd3786"
             ],
             [
              0.5555555555555556,
              "#d8576b"
             ],
             [
              0.6666666666666666,
              "#ed7953"
             ],
             [
              0.7777777777777778,
              "#fb9f3a"
             ],
             [
              0.8888888888888888,
              "#fdca26"
             ],
             [
              1,
              "#f0f921"
             ]
            ],
            "type": "heatmapgl"
           }
          ],
          "histogram": [
           {
            "marker": {
             "pattern": {
              "fillmode": "overlay",
              "size": 10,
              "solidity": 0.2
             }
            },
            "type": "histogram"
           }
          ],
          "histogram2d": [
           {
            "colorbar": {
             "outlinewidth": 0,
             "ticks": ""
            },
            "colorscale": [
             [
              0,
              "#0d0887"
             ],
             [
              0.1111111111111111,
              "#46039f"
             ],
             [
              0.2222222222222222,
              "#7201a8"
             ],
             [
              0.3333333333333333,
              "#9c179e"
             ],
             [
              0.4444444444444444,
              "#bd3786"
             ],
             [
              0.5555555555555556,
              "#d8576b"
             ],
             [
              0.6666666666666666,
              "#ed7953"
             ],
             [
              0.7777777777777778,
              "#fb9f3a"
             ],
             [
              0.8888888888888888,
              "#fdca26"
             ],
             [
              1,
              "#f0f921"
             ]
            ],
            "type": "histogram2d"
           }
          ],
          "histogram2dcontour": [
           {
            "colorbar": {
             "outlinewidth": 0,
             "ticks": ""
            },
            "colorscale": [
             [
              0,
              "#0d0887"
             ],
             [
              0.1111111111111111,
              "#46039f"
             ],
             [
              0.2222222222222222,
              "#7201a8"
             ],
             [
              0.3333333333333333,
              "#9c179e"
             ],
             [
              0.4444444444444444,
              "#bd3786"
             ],
             [
              0.5555555555555556,
              "#d8576b"
             ],
             [
              0.6666666666666666,
              "#ed7953"
             ],
             [
              0.7777777777777778,
              "#fb9f3a"
             ],
             [
              0.8888888888888888,
              "#fdca26"
             ],
             [
              1,
              "#f0f921"
             ]
            ],
            "type": "histogram2dcontour"
           }
          ],
          "mesh3d": [
           {
            "colorbar": {
             "outlinewidth": 0,
             "ticks": ""
            },
            "type": "mesh3d"
           }
          ],
          "parcoords": [
           {
            "line": {
             "colorbar": {
              "outlinewidth": 0,
              "ticks": ""
             }
            },
            "type": "parcoords"
           }
          ],
          "pie": [
           {
            "automargin": true,
            "type": "pie"
           }
          ],
          "scatter": [
           {
            "fillpattern": {
             "fillmode": "overlay",
             "size": 10,
             "solidity": 0.2
            },
            "type": "scatter"
           }
          ],
          "scatter3d": [
           {
            "line": {
             "colorbar": {
              "outlinewidth": 0,
              "ticks": ""
             }
            },
            "marker": {
             "colorbar": {
              "outlinewidth": 0,
              "ticks": ""
             }
            },
            "type": "scatter3d"
           }
          ],
          "scattercarpet": [
           {
            "marker": {
             "colorbar": {
              "outlinewidth": 0,
              "ticks": ""
             }
            },
            "type": "scattercarpet"
           }
          ],
          "scattergeo": [
           {
            "marker": {
             "colorbar": {
              "outlinewidth": 0,
              "ticks": ""
             }
            },
            "type": "scattergeo"
           }
          ],
          "scattergl": [
           {
            "marker": {
             "colorbar": {
              "outlinewidth": 0,
              "ticks": ""
             }
            },
            "type": "scattergl"
           }
          ],
          "scattermapbox": [
           {
            "marker": {
             "colorbar": {
              "outlinewidth": 0,
              "ticks": ""
             }
            },
            "type": "scattermapbox"
           }
          ],
          "scatterpolar": [
           {
            "marker": {
             "colorbar": {
              "outlinewidth": 0,
              "ticks": ""
             }
            },
            "type": "scatterpolar"
           }
          ],
          "scatterpolargl": [
           {
            "marker": {
             "colorbar": {
              "outlinewidth": 0,
              "ticks": ""
             }
            },
            "type": "scatterpolargl"
           }
          ],
          "scatterternary": [
           {
            "marker": {
             "colorbar": {
              "outlinewidth": 0,
              "ticks": ""
             }
            },
            "type": "scatterternary"
           }
          ],
          "surface": [
           {
            "colorbar": {
             "outlinewidth": 0,
             "ticks": ""
            },
            "colorscale": [
             [
              0,
              "#0d0887"
             ],
             [
              0.1111111111111111,
              "#46039f"
             ],
             [
              0.2222222222222222,
              "#7201a8"
             ],
             [
              0.3333333333333333,
              "#9c179e"
             ],
             [
              0.4444444444444444,
              "#bd3786"
             ],
             [
              0.5555555555555556,
              "#d8576b"
             ],
             [
              0.6666666666666666,
              "#ed7953"
             ],
             [
              0.7777777777777778,
              "#fb9f3a"
             ],
             [
              0.8888888888888888,
              "#fdca26"
             ],
             [
              1,
              "#f0f921"
             ]
            ],
            "type": "surface"
           }
          ],
          "table": [
           {
            "cells": {
             "fill": {
              "color": "#EBF0F8"
             },
             "line": {
              "color": "white"
             }
            },
            "header": {
             "fill": {
              "color": "#C8D4E3"
             },
             "line": {
              "color": "white"
             }
            },
            "type": "table"
           }
          ]
         },
         "layout": {
          "annotationdefaults": {
           "arrowcolor": "#2a3f5f",
           "arrowhead": 0,
           "arrowwidth": 1
          },
          "autotypenumbers": "strict",
          "coloraxis": {
           "colorbar": {
            "outlinewidth": 0,
            "ticks": ""
           }
          },
          "colorscale": {
           "diverging": [
            [
             0,
             "#8e0152"
            ],
            [
             0.1,
             "#c51b7d"
            ],
            [
             0.2,
             "#de77ae"
            ],
            [
             0.3,
             "#f1b6da"
            ],
            [
             0.4,
             "#fde0ef"
            ],
            [
             0.5,
             "#f7f7f7"
            ],
            [
             0.6,
             "#e6f5d0"
            ],
            [
             0.7,
             "#b8e186"
            ],
            [
             0.8,
             "#7fbc41"
            ],
            [
             0.9,
             "#4d9221"
            ],
            [
             1,
             "#276419"
            ]
           ],
           "sequential": [
            [
             0,
             "#0d0887"
            ],
            [
             0.1111111111111111,
             "#46039f"
            ],
            [
             0.2222222222222222,
             "#7201a8"
            ],
            [
             0.3333333333333333,
             "#9c179e"
            ],
            [
             0.4444444444444444,
             "#bd3786"
            ],
            [
             0.5555555555555556,
             "#d8576b"
            ],
            [
             0.6666666666666666,
             "#ed7953"
            ],
            [
             0.7777777777777778,
             "#fb9f3a"
            ],
            [
             0.8888888888888888,
             "#fdca26"
            ],
            [
             1,
             "#f0f921"
            ]
           ],
           "sequentialminus": [
            [
             0,
             "#0d0887"
            ],
            [
             0.1111111111111111,
             "#46039f"
            ],
            [
             0.2222222222222222,
             "#7201a8"
            ],
            [
             0.3333333333333333,
             "#9c179e"
            ],
            [
             0.4444444444444444,
             "#bd3786"
            ],
            [
             0.5555555555555556,
             "#d8576b"
            ],
            [
             0.6666666666666666,
             "#ed7953"
            ],
            [
             0.7777777777777778,
             "#fb9f3a"
            ],
            [
             0.8888888888888888,
             "#fdca26"
            ],
            [
             1,
             "#f0f921"
            ]
           ]
          },
          "colorway": [
           "#636efa",
           "#EF553B",
           "#00cc96",
           "#ab63fa",
           "#FFA15A",
           "#19d3f3",
           "#FF6692",
           "#B6E880",
           "#FF97FF",
           "#FECB52"
          ],
          "font": {
           "color": "#2a3f5f"
          },
          "geo": {
           "bgcolor": "white",
           "lakecolor": "white",
           "landcolor": "#E5ECF6",
           "showlakes": true,
           "showland": true,
           "subunitcolor": "white"
          },
          "hoverlabel": {
           "align": "left"
          },
          "hovermode": "closest",
          "mapbox": {
           "style": "light"
          },
          "paper_bgcolor": "white",
          "plot_bgcolor": "#E5ECF6",
          "polar": {
           "angularaxis": {
            "gridcolor": "white",
            "linecolor": "white",
            "ticks": ""
           },
           "bgcolor": "#E5ECF6",
           "radialaxis": {
            "gridcolor": "white",
            "linecolor": "white",
            "ticks": ""
           }
          },
          "scene": {
           "xaxis": {
            "backgroundcolor": "#E5ECF6",
            "gridcolor": "white",
            "gridwidth": 2,
            "linecolor": "white",
            "showbackground": true,
            "ticks": "",
            "zerolinecolor": "white"
           },
           "yaxis": {
            "backgroundcolor": "#E5ECF6",
            "gridcolor": "white",
            "gridwidth": 2,
            "linecolor": "white",
            "showbackground": true,
            "ticks": "",
            "zerolinecolor": "white"
           },
           "zaxis": {
            "backgroundcolor": "#E5ECF6",
            "gridcolor": "white",
            "gridwidth": 2,
            "linecolor": "white",
            "showbackground": true,
            "ticks": "",
            "zerolinecolor": "white"
           }
          },
          "shapedefaults": {
           "line": {
            "color": "#2a3f5f"
           }
          },
          "ternary": {
           "aaxis": {
            "gridcolor": "white",
            "linecolor": "white",
            "ticks": ""
           },
           "baxis": {
            "gridcolor": "white",
            "linecolor": "white",
            "ticks": ""
           },
           "bgcolor": "#E5ECF6",
           "caxis": {
            "gridcolor": "white",
            "linecolor": "white",
            "ticks": ""
           }
          },
          "title": {
           "x": 0.05
          },
          "xaxis": {
           "automargin": true,
           "gridcolor": "white",
           "linecolor": "white",
           "ticks": "",
           "title": {
            "standoff": 15
           },
           "zerolinecolor": "white",
           "zerolinewidth": 2
          },
          "yaxis": {
           "automargin": true,
           "gridcolor": "white",
           "linecolor": "white",
           "ticks": "",
           "title": {
            "standoff": 15
           },
           "zerolinecolor": "white",
           "zerolinewidth": 2
          }
         }
        },
        "title": {
         "text": "Emissioni annuali gas serra"
        },
        "xaxis": {
         "anchor": "y",
         "domain": [
          0,
          1
         ],
         "title": {
          "text": "Year"
         }
        },
        "yaxis": {
         "anchor": "x",
         "domain": [
          0,
          1
         ],
         "title": {
          "text": "Yearly gas serra emissions(Tonnes)"
         }
        }
       }
      }
     },
     "metadata": {},
     "output_type": "display_data"
    }
   ],
   "source": [
    "fig = px.bar(\n",
    "     temp_df,\n",
    "     x=temp_df.index,\n",
    "     y=\"Yearly gas serra emissions(Tonnes)\",\n",
    "     color=\"Yearly gas serra emissions(Tonnes)\",\n",
    "     height=500,\n",
    "     title=\"Emissioni annuali gas serra\"\n",
    ")\n",
    "fig.show()"
   ]
  },
  {
   "cell_type": "markdown",
   "metadata": {},
   "source": [
    "# Grafico con l'estrazione delle risorse d'aqua anno per anno\n",
    "#### Grafico che mostra l'aumento delle risorse d'acqua richieste anno per anno"
   ]
  },
  {
   "cell_type": "code",
   "execution_count": 811,
   "metadata": {},
   "outputs": [
    {
     "data": {
      "application/vnd.plotly.v1+json": {
       "config": {
        "plotlyServerURL": "https://plot.ly"
       },
       "data": [
        {
         "alignmentgroup": "True",
         "hovertemplate": "Year=%{x}<br>Yearly water usage(Tonnes)=%{marker.color}<extra></extra>",
         "legendgroup": "",
         "marker": {
          "color": [
           890262989.3000001,
           926860172.7,
           962244342.3000001,
           1001602844.2,
           1018063895.6,
           1051686627.7,
           1072417653.4,
           1129643643.2,
           1141529386.8,
           1173825173.9,
           1193100723.3,
           1217540169.5,
           1225533430.2,
           1250753880.4,
           1288809920.1000001,
           1313839485.4,
           1349887521.6,
           1392422822.3,
           1427669271.9,
           1443929513.7,
           1475701168.1,
           1534635143.9,
           1581036410.5,
           1634081727.8,
           1685456776.2,
           1710558042.6,
           1770289853.9,
           1808385309,
           1844022919.3,
           1872647089.3,
           1871138700.1,
           1912960632,
           1970141690.4,
           2049518758.3,
           2114071044.7,
           2159089429.5,
           2202104271,
           2219147035,
           2296092889.7,
           2348797610.4,
           2365495000.5,
           2405294866.5,
           2432079787.7,
           2492263050.7,
           2551493829.8,
           2608196106.8,
           2676403837.5,
           2752649680.5,
           2805067194.8,
           2855152541.2,
           2924340432.1,
           2975125521.4,
           2998854719.9
          ],
          "coloraxis": "coloraxis",
          "pattern": {
           "shape": ""
          }
         },
         "name": "",
         "offsetgroup": "",
         "orientation": "v",
         "showlegend": false,
         "textposition": "auto",
         "type": "bar",
         "x": [
          1961,
          1962,
          1963,
          1964,
          1965,
          1966,
          1967,
          1968,
          1969,
          1970,
          1971,
          1972,
          1973,
          1974,
          1975,
          1976,
          1977,
          1978,
          1979,
          1980,
          1981,
          1982,
          1983,
          1984,
          1985,
          1986,
          1987,
          1988,
          1989,
          1990,
          1991,
          1992,
          1993,
          1994,
          1995,
          1996,
          1997,
          1998,
          1999,
          2000,
          2001,
          2002,
          2003,
          2004,
          2005,
          2006,
          2007,
          2008,
          2009,
          2010,
          2011,
          2012,
          2013
         ],
         "xaxis": "x",
         "y": [
          890262989.3000001,
          926860172.7,
          962244342.3000001,
          1001602844.2,
          1018063895.6,
          1051686627.7,
          1072417653.4,
          1129643643.2,
          1141529386.8,
          1173825173.9,
          1193100723.3,
          1217540169.5,
          1225533430.2,
          1250753880.4,
          1288809920.1000001,
          1313839485.4,
          1349887521.6,
          1392422822.3,
          1427669271.9,
          1443929513.7,
          1475701168.1,
          1534635143.9,
          1581036410.5,
          1634081727.8,
          1685456776.2,
          1710558042.6,
          1770289853.9,
          1808385309,
          1844022919.3,
          1872647089.3,
          1871138700.1,
          1912960632,
          1970141690.4,
          2049518758.3,
          2114071044.7,
          2159089429.5,
          2202104271,
          2219147035,
          2296092889.7,
          2348797610.4,
          2365495000.5,
          2405294866.5,
          2432079787.7,
          2492263050.7,
          2551493829.8,
          2608196106.8,
          2676403837.5,
          2752649680.5,
          2805067194.8,
          2855152541.2,
          2924340432.1,
          2975125521.4,
          2998854719.9
         ],
         "yaxis": "y"
        }
       ],
       "layout": {
        "barmode": "relative",
        "coloraxis": {
         "colorbar": {
          "title": {
           "text": "Yearly water usage(Tonnes)"
          }
         },
         "colorscale": [
          [
           0,
           "#0d0887"
          ],
          [
           0.1111111111111111,
           "#46039f"
          ],
          [
           0.2222222222222222,
           "#7201a8"
          ],
          [
           0.3333333333333333,
           "#9c179e"
          ],
          [
           0.4444444444444444,
           "#bd3786"
          ],
          [
           0.5555555555555556,
           "#d8576b"
          ],
          [
           0.6666666666666666,
           "#ed7953"
          ],
          [
           0.7777777777777778,
           "#fb9f3a"
          ],
          [
           0.8888888888888888,
           "#fdca26"
          ],
          [
           1,
           "#f0f921"
          ]
         ]
        },
        "height": 500,
        "legend": {
         "tracegroupgap": 0
        },
        "template": {
         "data": {
          "bar": [
           {
            "error_x": {
             "color": "#2a3f5f"
            },
            "error_y": {
             "color": "#2a3f5f"
            },
            "marker": {
             "line": {
              "color": "#E5ECF6",
              "width": 0.5
             },
             "pattern": {
              "fillmode": "overlay",
              "size": 10,
              "solidity": 0.2
             }
            },
            "type": "bar"
           }
          ],
          "barpolar": [
           {
            "marker": {
             "line": {
              "color": "#E5ECF6",
              "width": 0.5
             },
             "pattern": {
              "fillmode": "overlay",
              "size": 10,
              "solidity": 0.2
             }
            },
            "type": "barpolar"
           }
          ],
          "carpet": [
           {
            "aaxis": {
             "endlinecolor": "#2a3f5f",
             "gridcolor": "white",
             "linecolor": "white",
             "minorgridcolor": "white",
             "startlinecolor": "#2a3f5f"
            },
            "baxis": {
             "endlinecolor": "#2a3f5f",
             "gridcolor": "white",
             "linecolor": "white",
             "minorgridcolor": "white",
             "startlinecolor": "#2a3f5f"
            },
            "type": "carpet"
           }
          ],
          "choropleth": [
           {
            "colorbar": {
             "outlinewidth": 0,
             "ticks": ""
            },
            "type": "choropleth"
           }
          ],
          "contour": [
           {
            "colorbar": {
             "outlinewidth": 0,
             "ticks": ""
            },
            "colorscale": [
             [
              0,
              "#0d0887"
             ],
             [
              0.1111111111111111,
              "#46039f"
             ],
             [
              0.2222222222222222,
              "#7201a8"
             ],
             [
              0.3333333333333333,
              "#9c179e"
             ],
             [
              0.4444444444444444,
              "#bd3786"
             ],
             [
              0.5555555555555556,
              "#d8576b"
             ],
             [
              0.6666666666666666,
              "#ed7953"
             ],
             [
              0.7777777777777778,
              "#fb9f3a"
             ],
             [
              0.8888888888888888,
              "#fdca26"
             ],
             [
              1,
              "#f0f921"
             ]
            ],
            "type": "contour"
           }
          ],
          "contourcarpet": [
           {
            "colorbar": {
             "outlinewidth": 0,
             "ticks": ""
            },
            "type": "contourcarpet"
           }
          ],
          "heatmap": [
           {
            "colorbar": {
             "outlinewidth": 0,
             "ticks": ""
            },
            "colorscale": [
             [
              0,
              "#0d0887"
             ],
             [
              0.1111111111111111,
              "#46039f"
             ],
             [
              0.2222222222222222,
              "#7201a8"
             ],
             [
              0.3333333333333333,
              "#9c179e"
             ],
             [
              0.4444444444444444,
              "#bd3786"
             ],
             [
              0.5555555555555556,
              "#d8576b"
             ],
             [
              0.6666666666666666,
              "#ed7953"
             ],
             [
              0.7777777777777778,
              "#fb9f3a"
             ],
             [
              0.8888888888888888,
              "#fdca26"
             ],
             [
              1,
              "#f0f921"
             ]
            ],
            "type": "heatmap"
           }
          ],
          "heatmapgl": [
           {
            "colorbar": {
             "outlinewidth": 0,
             "ticks": ""
            },
            "colorscale": [
             [
              0,
              "#0d0887"
             ],
             [
              0.1111111111111111,
              "#46039f"
             ],
             [
              0.2222222222222222,
              "#7201a8"
             ],
             [
              0.3333333333333333,
              "#9c179e"
             ],
             [
              0.4444444444444444,
              "#bd3786"
             ],
             [
              0.5555555555555556,
              "#d8576b"
             ],
             [
              0.6666666666666666,
              "#ed7953"
             ],
             [
              0.7777777777777778,
              "#fb9f3a"
             ],
             [
              0.8888888888888888,
              "#fdca26"
             ],
             [
              1,
              "#f0f921"
             ]
            ],
            "type": "heatmapgl"
           }
          ],
          "histogram": [
           {
            "marker": {
             "pattern": {
              "fillmode": "overlay",
              "size": 10,
              "solidity": 0.2
             }
            },
            "type": "histogram"
           }
          ],
          "histogram2d": [
           {
            "colorbar": {
             "outlinewidth": 0,
             "ticks": ""
            },
            "colorscale": [
             [
              0,
              "#0d0887"
             ],
             [
              0.1111111111111111,
              "#46039f"
             ],
             [
              0.2222222222222222,
              "#7201a8"
             ],
             [
              0.3333333333333333,
              "#9c179e"
             ],
             [
              0.4444444444444444,
              "#bd3786"
             ],
             [
              0.5555555555555556,
              "#d8576b"
             ],
             [
              0.6666666666666666,
              "#ed7953"
             ],
             [
              0.7777777777777778,
              "#fb9f3a"
             ],
             [
              0.8888888888888888,
              "#fdca26"
             ],
             [
              1,
              "#f0f921"
             ]
            ],
            "type": "histogram2d"
           }
          ],
          "histogram2dcontour": [
           {
            "colorbar": {
             "outlinewidth": 0,
             "ticks": ""
            },
            "colorscale": [
             [
              0,
              "#0d0887"
             ],
             [
              0.1111111111111111,
              "#46039f"
             ],
             [
              0.2222222222222222,
              "#7201a8"
             ],
             [
              0.3333333333333333,
              "#9c179e"
             ],
             [
              0.4444444444444444,
              "#bd3786"
             ],
             [
              0.5555555555555556,
              "#d8576b"
             ],
             [
              0.6666666666666666,
              "#ed7953"
             ],
             [
              0.7777777777777778,
              "#fb9f3a"
             ],
             [
              0.8888888888888888,
              "#fdca26"
             ],
             [
              1,
              "#f0f921"
             ]
            ],
            "type": "histogram2dcontour"
           }
          ],
          "mesh3d": [
           {
            "colorbar": {
             "outlinewidth": 0,
             "ticks": ""
            },
            "type": "mesh3d"
           }
          ],
          "parcoords": [
           {
            "line": {
             "colorbar": {
              "outlinewidth": 0,
              "ticks": ""
             }
            },
            "type": "parcoords"
           }
          ],
          "pie": [
           {
            "automargin": true,
            "type": "pie"
           }
          ],
          "scatter": [
           {
            "fillpattern": {
             "fillmode": "overlay",
             "size": 10,
             "solidity": 0.2
            },
            "type": "scatter"
           }
          ],
          "scatter3d": [
           {
            "line": {
             "colorbar": {
              "outlinewidth": 0,
              "ticks": ""
             }
            },
            "marker": {
             "colorbar": {
              "outlinewidth": 0,
              "ticks": ""
             }
            },
            "type": "scatter3d"
           }
          ],
          "scattercarpet": [
           {
            "marker": {
             "colorbar": {
              "outlinewidth": 0,
              "ticks": ""
             }
            },
            "type": "scattercarpet"
           }
          ],
          "scattergeo": [
           {
            "marker": {
             "colorbar": {
              "outlinewidth": 0,
              "ticks": ""
             }
            },
            "type": "scattergeo"
           }
          ],
          "scattergl": [
           {
            "marker": {
             "colorbar": {
              "outlinewidth": 0,
              "ticks": ""
             }
            },
            "type": "scattergl"
           }
          ],
          "scattermapbox": [
           {
            "marker": {
             "colorbar": {
              "outlinewidth": 0,
              "ticks": ""
             }
            },
            "type": "scattermapbox"
           }
          ],
          "scatterpolar": [
           {
            "marker": {
             "colorbar": {
              "outlinewidth": 0,
              "ticks": ""
             }
            },
            "type": "scatterpolar"
           }
          ],
          "scatterpolargl": [
           {
            "marker": {
             "colorbar": {
              "outlinewidth": 0,
              "ticks": ""
             }
            },
            "type": "scatterpolargl"
           }
          ],
          "scatterternary": [
           {
            "marker": {
             "colorbar": {
              "outlinewidth": 0,
              "ticks": ""
             }
            },
            "type": "scatterternary"
           }
          ],
          "surface": [
           {
            "colorbar": {
             "outlinewidth": 0,
             "ticks": ""
            },
            "colorscale": [
             [
              0,
              "#0d0887"
             ],
             [
              0.1111111111111111,
              "#46039f"
             ],
             [
              0.2222222222222222,
              "#7201a8"
             ],
             [
              0.3333333333333333,
              "#9c179e"
             ],
             [
              0.4444444444444444,
              "#bd3786"
             ],
             [
              0.5555555555555556,
              "#d8576b"
             ],
             [
              0.6666666666666666,
              "#ed7953"
             ],
             [
              0.7777777777777778,
              "#fb9f3a"
             ],
             [
              0.8888888888888888,
              "#fdca26"
             ],
             [
              1,
              "#f0f921"
             ]
            ],
            "type": "surface"
           }
          ],
          "table": [
           {
            "cells": {
             "fill": {
              "color": "#EBF0F8"
             },
             "line": {
              "color": "white"
             }
            },
            "header": {
             "fill": {
              "color": "#C8D4E3"
             },
             "line": {
              "color": "white"
             }
            },
            "type": "table"
           }
          ]
         },
         "layout": {
          "annotationdefaults": {
           "arrowcolor": "#2a3f5f",
           "arrowhead": 0,
           "arrowwidth": 1
          },
          "autotypenumbers": "strict",
          "coloraxis": {
           "colorbar": {
            "outlinewidth": 0,
            "ticks": ""
           }
          },
          "colorscale": {
           "diverging": [
            [
             0,
             "#8e0152"
            ],
            [
             0.1,
             "#c51b7d"
            ],
            [
             0.2,
             "#de77ae"
            ],
            [
             0.3,
             "#f1b6da"
            ],
            [
             0.4,
             "#fde0ef"
            ],
            [
             0.5,
             "#f7f7f7"
            ],
            [
             0.6,
             "#e6f5d0"
            ],
            [
             0.7,
             "#b8e186"
            ],
            [
             0.8,
             "#7fbc41"
            ],
            [
             0.9,
             "#4d9221"
            ],
            [
             1,
             "#276419"
            ]
           ],
           "sequential": [
            [
             0,
             "#0d0887"
            ],
            [
             0.1111111111111111,
             "#46039f"
            ],
            [
             0.2222222222222222,
             "#7201a8"
            ],
            [
             0.3333333333333333,
             "#9c179e"
            ],
            [
             0.4444444444444444,
             "#bd3786"
            ],
            [
             0.5555555555555556,
             "#d8576b"
            ],
            [
             0.6666666666666666,
             "#ed7953"
            ],
            [
             0.7777777777777778,
             "#fb9f3a"
            ],
            [
             0.8888888888888888,
             "#fdca26"
            ],
            [
             1,
             "#f0f921"
            ]
           ],
           "sequentialminus": [
            [
             0,
             "#0d0887"
            ],
            [
             0.1111111111111111,
             "#46039f"
            ],
            [
             0.2222222222222222,
             "#7201a8"
            ],
            [
             0.3333333333333333,
             "#9c179e"
            ],
            [
             0.4444444444444444,
             "#bd3786"
            ],
            [
             0.5555555555555556,
             "#d8576b"
            ],
            [
             0.6666666666666666,
             "#ed7953"
            ],
            [
             0.7777777777777778,
             "#fb9f3a"
            ],
            [
             0.8888888888888888,
             "#fdca26"
            ],
            [
             1,
             "#f0f921"
            ]
           ]
          },
          "colorway": [
           "#636efa",
           "#EF553B",
           "#00cc96",
           "#ab63fa",
           "#FFA15A",
           "#19d3f3",
           "#FF6692",
           "#B6E880",
           "#FF97FF",
           "#FECB52"
          ],
          "font": {
           "color": "#2a3f5f"
          },
          "geo": {
           "bgcolor": "white",
           "lakecolor": "white",
           "landcolor": "#E5ECF6",
           "showlakes": true,
           "showland": true,
           "subunitcolor": "white"
          },
          "hoverlabel": {
           "align": "left"
          },
          "hovermode": "closest",
          "mapbox": {
           "style": "light"
          },
          "paper_bgcolor": "white",
          "plot_bgcolor": "#E5ECF6",
          "polar": {
           "angularaxis": {
            "gridcolor": "white",
            "linecolor": "white",
            "ticks": ""
           },
           "bgcolor": "#E5ECF6",
           "radialaxis": {
            "gridcolor": "white",
            "linecolor": "white",
            "ticks": ""
           }
          },
          "scene": {
           "xaxis": {
            "backgroundcolor": "#E5ECF6",
            "gridcolor": "white",
            "gridwidth": 2,
            "linecolor": "white",
            "showbackground": true,
            "ticks": "",
            "zerolinecolor": "white"
           },
           "yaxis": {
            "backgroundcolor": "#E5ECF6",
            "gridcolor": "white",
            "gridwidth": 2,
            "linecolor": "white",
            "showbackground": true,
            "ticks": "",
            "zerolinecolor": "white"
           },
           "zaxis": {
            "backgroundcolor": "#E5ECF6",
            "gridcolor": "white",
            "gridwidth": 2,
            "linecolor": "white",
            "showbackground": true,
            "ticks": "",
            "zerolinecolor": "white"
           }
          },
          "shapedefaults": {
           "line": {
            "color": "#2a3f5f"
           }
          },
          "ternary": {
           "aaxis": {
            "gridcolor": "white",
            "linecolor": "white",
            "ticks": ""
           },
           "baxis": {
            "gridcolor": "white",
            "linecolor": "white",
            "ticks": ""
           },
           "bgcolor": "#E5ECF6",
           "caxis": {
            "gridcolor": "white",
            "linecolor": "white",
            "ticks": ""
           }
          },
          "title": {
           "x": 0.05
          },
          "xaxis": {
           "automargin": true,
           "gridcolor": "white",
           "linecolor": "white",
           "ticks": "",
           "title": {
            "standoff": 15
           },
           "zerolinecolor": "white",
           "zerolinewidth": 2
          },
          "yaxis": {
           "automargin": true,
           "gridcolor": "white",
           "linecolor": "white",
           "ticks": "",
           "title": {
            "standoff": 15
           },
           "zerolinecolor": "white",
           "zerolinewidth": 2
          }
         }
        },
        "title": {
         "text": "Uso annuale di acqua"
        },
        "xaxis": {
         "anchor": "y",
         "domain": [
          0,
          1
         ],
         "title": {
          "text": "Year"
         }
        },
        "yaxis": {
         "anchor": "x",
         "domain": [
          0,
          1
         ],
         "title": {
          "text": "Yearly water usage(Tonnes)"
         }
        }
       }
      }
     },
     "metadata": {},
     "output_type": "display_data"
    }
   ],
   "source": [
    "# Adattare i dati per mostrare l'aumento delle risorse d'acqua anno per anno\n",
    "fig = px.bar(\n",
    "     temp_df,\n",
    "     x=temp_df.index,\n",
    "     y=\"Yearly water usage(Tonnes)\",\n",
    "     color=\"Yearly water usage(Tonnes)\",\n",
    "     height=500,\n",
    "     title=\"Uso annuale di acqua\"\n",
    ")\n",
    "fig.show()"
   ]
  },
  {
   "cell_type": "markdown",
   "metadata": {},
   "source": [
    "# Geolocalizzazione dei luoghi inquinanti\n",
    "#### Grafico del pianeta con l'impatto ambientale ogni paese dal 1961 al 2013."
   ]
  },
  {
   "cell_type": "code",
   "execution_count": 812,
   "metadata": {},
   "outputs": [
    {
     "data": {
      "application/vnd.plotly.v1+json": {
       "config": {
        "plotlyServerURL": "https://plot.ly"
       },
       "data": [
        {
         "customdata": [
          [
           740128300,
           3605384.5,
           128157413.80000001,
           92848388.7249209
          ],
          [
           638707400,
           4545989.64,
           78216543.5,
           119728397.4703405
          ],
          [
           302462600,
           1490480.6500000001,
           53129963.2,
           35999614.197450615
          ],
          [
           281941400,
           2152400.71,
           64011302.3,
           38068544.668783896
          ],
          [
           9131537200,
           47654424.1,
           732157498.5,
           1571785774.8320894
          ],
          [
           7919200,
           74971.75,
           1560748.9000000001,
           1245453.950441027
          ],
          [
           4499818700,
           27255434.23,
           581978453.2,
           698124604.855386
          ],
          [
           1781861100,
           11346506.48,
           319042269.3,
           230472971.30883813
          ],
          [
           39443100,
           282341.81,
           5452703.9,
           6594512.581132045
          ],
          [
           194460200,
           1553885.51,
           41426283.8,
           32973344.750709604
          ],
          [
           306145900,
           1941548.35,
           55288152.1,
           45971913.844348826
          ],
          [
           5254328800,
           52684031.09,
           2432266090.3,
           394903562.3833865
          ],
          [
           1016402000.0000001,
           6252529.79,
           183889491.5,
           131164557.95292519
          ],
          [
           16738400,
           138222.42,
           3457684.7,
           2406202.092715076
          ],
          [
           12466000,
           91901.45000000001,
           1561968,
           2118292.796899788
          ],
          [
           595620400,
           3419811.3200000003,
           65517878.3,
           102257066.18467933
          ],
          [
           23597552300,
           132223015.25,
           2843044314.5,
           3846662941.492081
          ],
          [
           31605900,
           261307.65,
           5622408.2,
           5024764.883052735
          ],
          [
           32573400,
           301742.75,
           7054376.9,
           4963576.236708002
          ],
          [
           95731000,
           529007.65,
           14410872.8,
           13050572.415184481
          ],
          [
           191736800,
           1027609.3200000001,
           12437552.2,
           36733634.815618604
          ],
          [
           6339380000,
           40832447.2,
           873319432.5,
           980494326.5186481
          ],
          [
           1795479800.0000002,
           11876815.82,
           339538511.7,
           226516284.9758946
          ],
          [
           1762921500,
           18703403.150000002,
           349857770.1,
           287884663.69503206
          ],
          [
           60535195800,
           670039366.21,
           21299198830.5,
           6996092039.485689
          ],
          [
           515877700,
           4821593.25,
           147127255,
           70341682.44070426
          ],
          [
           538703100,
           4335815.78,
           102489361.8,
           88437655.46649016
          ],
          [
           108005600,
           1071810.46,
           19988107.6,
           20261377.721023064
          ],
          [
           3797361600,
           21846261.62,
           530695479.2,
           564135202.6508404
          ],
          [
           19799900,
           174499.48,
           5407027.2,
           2236391.998397586
          ],
          [
           399169500,
           2298550.16,
           62232575.900000006,
           54838931.108684786
          ],
          [
           1429572700,
           10510978.07,
           306890435,
           194542459.1125444
          ],
          [
           90551100,
           847079.67,
           20488554.6,
           12569193.812861597
          ],
          [
           16310375500,
           106437403.82000001,
           2889256178.2000003,
           2153308400.3401194
          ],
          [
           24398400,
           136965.44,
           4663320.1,
           3065909.1678970642
          ],
          [
           5969200,
           52619.63,
           1281341.6,
           859492.626481216
          ],
          [
           1488505400,
           12341588.1,
           321100524.90000004,
           186086028.70184985
          ],
          [
           552028700,
           3672294.79,
           101761792,
           74726168.24044566
          ],
          [
           1336381800,
           7500860.11,
           236699881.1,
           154300595.9914478
          ],
          [
           1229963300,
           8031339.53,
           229380429.4,
           171209283.88534
          ],
          [
           4057394300,
           29174303.21,
           822992703.7,
           574630556.7059911
          ],
          [
           6139696300,
           53574792.480000004,
           1321730979.2,
           851078004.5059277
          ],
          [
           1266193000,
           10289429.85,
           261051221.8,
           159655529.09494182
          ],
          [
           64846300,
           610375.0700000001,
           14403528.700000001,
           9726193.007500248
          ],
          [
           13998669800,
           89721271.98,
           2278848675.3,
           1900930684.2889836
          ],
          [
           79427700,
           792023.27,
           14982726.2,
           14093852.441486262
          ],
          [
           10867396200,
           80812014.83,
           1924914079.7,
           1553068471.4521847
          ],
          [
           518692400,
           6496939.71,
           133479459.5,
           96734300.81502996
          ],
          [
           310914600,
           2395306.31,
           87173196.9,
           36521146.36792311
          ],
          [
           42375700,
           468196.5,
           13908915.9,
           5378393.082315384
          ],
          [
           44712500,
           336618.18,
           14908848.2,
           4726336.622748011
          ],
          [
           1812853300,
           13110171.77,
           355771445.40000004,
           245691959.6239231
          ],
          [
           8389900,
           78287.77,
           1783544.9000000001,
           1245433.094040852
          ],
          [
           413413700,
           2392314.37,
           59235710.300000004,
           57073902.07208671
          ],
          [
           89746900,
           848364.9400000001,
           27419180.5,
           11240988.454225194
          ],
          [
           371696000,
           2106407.06,
           57561221.1,
           49787842.79258729
          ],
          [
           288748400,
           1893944.83,
           56088524.4,
           37853783.37730359
          ],
          [
           1652137000,
           11911699.51,
           297279751.2,
           230720172.9857632
          ],
          [
           8600412400,
           94449654.97,
           3580349969.4,
           875004849.102401
          ],
          [
           41324394300,
           281072095.13,
           12951313581.4,
           3696871843.956325
          ],
          [
           969733400.0000001,
           5933031.48,
           177936919.6,
           122747082.48787864
          ],
          [
           3190459500,
           21747081.73,
           764010724.7,
           387725866.38576883
          ],
          [
           805733800,
           4569680.51,
           166711646.9,
           93240341.0910905
          ],
          [
           55120600.00000001,
           583653.06,
           13910295.2,
           6886014.0946233375
          ],
          [
           820536800,
           5831297.91,
           137338586.4,
           120387136.18116017
          ],
          [
           11865010700,
           75155785.2,
           1976522468.8,
           1601183453.88925
          ],
          [
           189798600,
           1627590.11,
           38442418.1,
           28185104.34672723
          ],
          [
           217391200,
           1381535.22,
           42252274.5,
           28059179.666088738
          ],
          [
           12347935900,
           184857526.27,
           4113944541.8,
           1776830863.0459082
          ],
          [
           1652999700,
           8764931.82,
           228794248.4,
           236614271.69915897
          ],
          [
           579191900,
           6156804.47,
           237318395.4,
           59350634.5459288
          ],
          [
           3824900,
           74960.76,
           1498776.1,
           638485.116552714
          ],
          [
           3463800,
           34798.72,
           737970.5,
           554564.6378263191
          ],
          [
           765648300,
           9992215.72,
           322039985.5,
           77900838.07987599
          ],
          [
           187379600,
           1210412.05,
           38417332.6,
           24100048.822830424
          ],
          [
           300372600,
           2744609.06,
           113472844.4,
           29244740.19340935
          ],
          [
           305223500,
           1824724.3,
           49757517.5,
           42983769.23714674
          ],
          [
           102918700,
           799721.95,
           31983986.1,
           11923340.122916257
          ],
          [
           12392800,
           102662.16,
           2237859.7,
           1952471.6774596102
          ],
          [
           776980700,
           8499379.66,
           302972172.7,
           80603566.2039125
          ],
          [
           49561800,
           266955.33,
           5052368.3,
           8147746.44374293
          ],
          [
           1054104100,
           8491057.1,
           193535359.9,
           154809936.76292488
          ],
          [
           1047000200,
           7017669.12,
           245337314.2,
           138648906.9804351
          ],
          [
           16081200,
           394947.03,
           7939052.4,
           2581962.275494509
          ],
          [
           8185844600,
           54035820.24,
           1203074076.9,
           1249518084.668033
          ],
          [
           506370000,
           3554238.09,
           107686703.8,
           66673984.21565966
          ],
          [
           62448400,
           457749.62,
           10176815.8,
           9276902.662936984
          ],
          [
           2716330700,
           29852055.5,
           1212052796,
           241595755.20119715
          ],
          [
           264636700,
           1255046.5,
           26558935.2,
           41702220.99565267
          ],
          [
           422468800,
           2290134.39,
           61511107.7,
           77582606.78444105
          ],
          [
           179262500,
           1224205,
           39269977.300000004,
           21522793.63107533
          ],
          [
           81202800,
           684130.43,
           21120479.3,
           10120894.700229576
          ],
          [
           189745300,
           1610871.76,
           35827363.8,
           32242882.30943301
          ],
          [
           1520947000,
           20438750.13,
           515929506,
           212093541.35468948
          ],
          [
           95571300,
           1027323.6900000001,
           19009654.9,
           15533871.375060692
          ],
          [
           23908900,
           193026.99,
           4120433.8000000003,
           3653068.423330965
          ],
          [
           456996200,
           2427060.82,
           63329935.7,
           66777411.267568015
          ],
          [
           3546068100,
           26947545.330000002,
           695827333.1,
           583760390.7363507
          ],
          [
           253192800,
           1435830,
           46829389,
           32841471.372169547
          ],
          [
           4212358800.0000005,
           26290933.86,
           793870974.4,
           522719701.5913288
          ],
          [
           1065227300,
           15695940.85,
           310761854.5,
           157391425.645479
          ],
          [
           1172682700,
           7367201.470000001,
           314092510,
           128851435.03839073
          ],
          [
           983748300,
           5688799.43,
           143542235.1,
           140468601.4373185
          ],
          [
           8059673600,
           40332135.02,
           1519966653.3,
           931294618.3601403
          ],
          [
           302645900,
           2434848.6,
           50423099,
           49782526.525800064
          ],
          [
           1250558800,
           15193631.74,
           356528324.7,
           174956910.738688
          ],
          [
           4082688700,
           50311128.94,
           1474043963.4,
           497447778.74423873
          ],
          [
           6589991700.000001,
           42010045.3,
           1263155488.4,
           817161715.1606642
          ],
          [
           1408019200,
           13898886.16,
           309501049.4,
           203941171.81894875
          ],
          [
           726126600,
           3637771.79,
           67933452.4,
           129917638.9618547
          ],
          [
           28535000,
           241078.11000000002,
           4279794.4,
           4848500.037904568
          ],
          [
           3460802300,
           43741080.69,
           1143307560.7,
           460410838.56753075
          ],
          [
           2611134100,
           15877332.32,
           493903705.2,
           319915346.5120444
          ],
          [
           215717500,
           1003282.4400000001,
           28549077.8,
           33976316.17192588
          ],
          [
           1020348400,
           6924284.58,
           209147792,
           132317881.95184997
          ],
          [
           406960200,
           4501461.96,
           125282984.8,
           55365749.45886508
          ],
          [
           14293400,
           230481.61,
           5028624.4,
           2162387.363339806
          ],
          [
           180904200,
           1977289.5,
           66945880.2,
           19986442.31704509
          ],
          [
           309110300,
           1748541.52,
           49814180.6,
           40871220.828252755
          ],
          [
           3501100,
           51222.23,
           1235248,
           462512.75043674
          ],
          [
           42738100,
           334131.71,
           10441938.8,
           5855454.936246258
          ],
          [
           1985714000,
           15329531.700000001,
           392261704.8,
           252118656.53645018
          ],
          [
           70710400,
           373127.5,
           6792435.600000001,
           11999145.615674224
          ],
          [
           272201700,
           1671198.6,
           38032497,
           45579324.97247754
          ],
          [
           89584900,
           824720.48,
           19259101.3,
           14973962.263301918
          ],
          [
           4283766100,
           49456179.85,
           1535253089.3,
           526766751.36207443
          ],
          [
           26972700,
           199718.35,
           8260640.7,
           2997144.687885845
          ],
          [
           97128700,
           728310.29,
           20434295.7,
           13103411.008316716
          ],
          [
           476929300,
           3137223.28,
           93437085.4,
           61429152.30237581
          ],
          [
           4987661200,
           28764535.490000002,
           1068775824.9,
           560605379.832436
          ],
          [
           1248883200,
           8221589.2700000005,
           189355568.2,
           206401745.0442968
          ],
          [
           767837400,
           5711482.38,
           115989895.8,
           131983494.89723839
          ],
          [
           820801300,
           4208163.19,
           80271800,
           133823297.80719374
          ],
          [
           67436458900,
           412442599.57000005,
           8384315471,
           10754059817.67677
          ],
          [
           6659200,
           54582.85,
           1362740,
           999900.635752137
          ],
          [
           2241763600,
           14945458.180000002,
           312098056.4,
           352109956.8399305
          ],
          [
           4110955500,
           45823445.9,
           1697550671.8,
           437309868.42028964
          ],
          [
           11967600,
           125040.42,
           2633826,
           1984520.688047727
          ],
          [
           12394500,
           143480.69,
           2506344.4,
           2155944.041680266
          ],
          [
           423912100,
           2859841.21,
           75763599.8,
           57369422.92650188
          ],
          [
           3379642800,
           25877605.96,
           487436793.40000004,
           557195943.6938593
          ],
          [
           248323100,
           2002426.76,
           33128940.4,
           45115072.58838096
          ],
          [
           364136500,
           2089632.9400000002,
           46492155.2,
           58016150.282643355
          ]
         ],
         "geo": "geo",
         "hovertemplate": "<b>%{hovertext}</b><br><br>Quantity(Tonnes)=%{marker.size}<br>Area Abbreviation=%{location}<br>Yearly TonnesCO2=%{customdata[0]}<br>Yearly Tonnes PO4 producted=%{customdata[1]}<br>Yearly water usage(Tonnes)=%{customdata[2]}<br>Yearly gas serra emissions(Tonnes)=%{marker.color}<extra></extra>",
         "hovertext": [
          "Afghanistan",
          "Angola",
          "Albania",
          "United Arab Emirates",
          "Argentina",
          "Antigua and Barbuda",
          "Australia",
          "Austria",
          "Bahamas",
          "Benin",
          "Burkina Faso",
          "Bangladesh",
          "Bulgaria",
          "Belize",
          "Bermuda",
          "Bolivia (Plurinational State of)",
          "Brazil",
          "Barbados",
          "Brunei Darussalam",
          "Botswana",
          "Central African Republic",
          "Canada",
          "Switzerland",
          "Chile",
          "China, mainland",
          "Cï¿½te d'Ivoire",
          "Cameroon",
          "Congo",
          "Colombia",
          "Cabo Verde",
          "Costa Rica",
          "Cuba",
          "Cyprus",
          "Germany",
          "Djibouti",
          "Dominica",
          "Denmark",
          "Dominican Republic",
          "Algeria",
          "Ecuador",
          "Egypt",
          "Spain",
          "Finland",
          "Fiji",
          "France",
          "Gabon",
          "United Kingdom",
          "Ghana",
          "Guinea",
          "Gambia",
          "Guinea-Bissau",
          "Greece",
          "Grenada",
          "Guatemala",
          "Guyana",
          "Honduras",
          "Haiti",
          "Hungary",
          "Indonesia",
          "India",
          "Ireland",
          "Iran (Islamic Republic of)",
          "Iraq",
          "Iceland",
          "Israel",
          "Italy",
          "Jamaica",
          "Jordan",
          "Japan",
          "Kenya",
          "Cambodia",
          "Kiribati",
          "Saint Kitts and Nevis",
          "Democratic People's Republic of Korea",
          "Kuwait",
          "Lao People's Democratic Republic",
          "Lebanon",
          "Liberia",
          "Saint Lucia",
          "Sri Lanka",
          "Lesotho",
          "Morocco",
          "Madagascar",
          "Maldives",
          "Mexico",
          "Mali",
          "Malta",
          "Myanmar",
          "Mongolia",
          "Mozambique",
          "Mauritania",
          "Mauritius",
          "Malawi",
          "Malaysia",
          "Namibia",
          "New Caledonia",
          "Niger",
          "Nigeria",
          "Nicaragua",
          "Netherlands",
          "Norway",
          "Nepal",
          "New Zealand",
          "Pakistan",
          "Panama",
          "Peru",
          "Philippines",
          "Poland",
          "Portugal",
          "Paraguay",
          "French Polynesia",
          "Republic of Korea",
          "Romania",
          "Rwanda",
          "Saudi Arabia",
          "Senegal",
          "Solomon Islands",
          "Sierra Leone",
          "El Salvador",
          "Sao Tome and Principe",
          "Suriname",
          "Sweden",
          "Swaziland",
          "Chad",
          "Togo",
          "Thailand",
          "Timor-Leste",
          "Trinidad and Tobago",
          "Tunisia",
          "Turkey",
          "United Republic of Tanzania",
          "Uganda",
          "Uruguay",
          "United States of America",
          "Saint Vincent and the Grenadines",
          "Venezuela (Bolivarian Republic of)",
          "Viet Nam",
          "Vanuatu",
          "Samoa",
          "Yemen",
          "South Africa",
          "Zambia",
          "Zimbabwe"
         ],
         "legendgroup": "",
         "locations": [
          "AFG",
          "AGO",
          "ALB",
          "ARE",
          "ARG",
          "ATG",
          "AUS",
          "AUT",
          "AZE",
          "BEN",
          "BFA",
          "BGD",
          "BGR",
          "BLZ",
          "BMU",
          "BOL",
          "BRA",
          "BRB",
          "BRN",
          "BWA",
          "CAF",
          "CAN",
          "CHE",
          "CHL",
          "CHN",
          "CIV",
          "CMR",
          "COD",
          "COL",
          "CPV",
          "CRI",
          "CUB",
          "CYP",
          "DEU",
          "DJI",
          "DMA",
          "DNK",
          "DOM",
          "DZA",
          "ECU",
          "EGY",
          "ESP",
          "FIN",
          "FJI",
          "FRA",
          "GAB",
          "GBR",
          "GHA",
          "GIN",
          "GMB",
          "GNB",
          "GRC",
          "GRD",
          "GTM",
          "GUY",
          "HND",
          "HTI",
          "HUN",
          "IDN",
          "IND",
          "IRL",
          "IRN",
          "IRQ",
          "ISL",
          "ISR",
          "ITA",
          "JAM",
          "JOR",
          "JPN",
          "KEN",
          "KHM",
          "KIR",
          "KNA",
          "KOR",
          "KWT",
          "LAO",
          "LBN",
          "LBR",
          "LCA",
          "LKA",
          "LSO",
          "MAR",
          "MDG",
          "MDV",
          "MEX",
          "MLI",
          "MLT",
          "MMR",
          "MNG",
          "MOZ",
          "MRT",
          "MUS",
          "MWI",
          "MYS",
          "NAM",
          "NCL",
          "NER",
          "NGA",
          "NIC",
          "NLD",
          "NOR",
          "NPL",
          "NZL",
          "PAK",
          "PAN",
          "PER",
          "PHL",
          "POL",
          "PRT",
          "PRY",
          "PYF",
          "QAT",
          "ROU",
          "RWA",
          "SAU",
          "SEN",
          "SLB",
          "SLE",
          "SLV",
          "STP",
          "SUR",
          "SWE",
          "SWZ",
          "TCD",
          "TGO",
          "THA",
          "TLS",
          "TTO",
          "TUN",
          "TUR",
          "TZA",
          "UGA",
          "URY",
          "USA",
          "VCT",
          "VEN",
          "VNM",
          "VUT",
          "WSM",
          "YEM",
          "ZAF",
          "ZMB",
          "ZWE"
         ],
         "marker": {
          "color": [
           92848388.7249209,
           119728397.4703405,
           35999614.197450615,
           38068544.668783896,
           1571785774.8320894,
           1245453.950441027,
           698124604.855386,
           230472971.30883813,
           6594512.581132045,
           32973344.750709604,
           45971913.844348826,
           394903562.3833865,
           131164557.95292519,
           2406202.092715076,
           2118292.796899788,
           102257066.18467933,
           3846662941.492081,
           5024764.883052735,
           4963576.236708002,
           13050572.415184481,
           36733634.815618604,
           980494326.5186481,
           226516284.9758946,
           287884663.69503206,
           6996092039.485689,
           70341682.44070426,
           88437655.46649016,
           20261377.721023064,
           564135202.6508404,
           2236391.998397586,
           54838931.108684786,
           194542459.1125444,
           12569193.812861597,
           2153308400.3401194,
           3065909.1678970642,
           859492.626481216,
           186086028.70184985,
           74726168.24044566,
           154300595.9914478,
           171209283.88534,
           574630556.7059911,
           851078004.5059277,
           159655529.09494182,
           9726193.007500248,
           1900930684.2889836,
           14093852.441486262,
           1553068471.4521847,
           96734300.81502996,
           36521146.36792311,
           5378393.082315384,
           4726336.622748011,
           245691959.6239231,
           1245433.094040852,
           57073902.07208671,
           11240988.454225194,
           49787842.79258729,
           37853783.37730359,
           230720172.9857632,
           875004849.102401,
           3696871843.956325,
           122747082.48787864,
           387725866.38576883,
           93240341.0910905,
           6886014.0946233375,
           120387136.18116017,
           1601183453.88925,
           28185104.34672723,
           28059179.666088738,
           1776830863.0459082,
           236614271.69915897,
           59350634.5459288,
           638485.116552714,
           554564.6378263191,
           77900838.07987599,
           24100048.822830424,
           29244740.19340935,
           42983769.23714674,
           11923340.122916257,
           1952471.6774596102,
           80603566.2039125,
           8147746.44374293,
           154809936.76292488,
           138648906.9804351,
           2581962.275494509,
           1249518084.668033,
           66673984.21565966,
           9276902.662936984,
           241595755.20119715,
           41702220.99565267,
           77582606.78444105,
           21522793.63107533,
           10120894.700229576,
           32242882.30943301,
           212093541.35468948,
           15533871.375060692,
           3653068.423330965,
           66777411.267568015,
           583760390.7363507,
           32841471.372169547,
           522719701.5913288,
           157391425.645479,
           128851435.03839073,
           140468601.4373185,
           931294618.3601403,
           49782526.525800064,
           174956910.738688,
           497447778.74423873,
           817161715.1606642,
           203941171.81894875,
           129917638.9618547,
           4848500.037904568,
           460410838.56753075,
           319915346.5120444,
           33976316.17192588,
           132317881.95184997,
           55365749.45886508,
           2162387.363339806,
           19986442.31704509,
           40871220.828252755,
           462512.75043674,
           5855454.936246258,
           252118656.53645018,
           11999145.615674224,
           45579324.97247754,
           14973962.263301918,
           526766751.36207443,
           2997144.687885845,
           13103411.008316716,
           61429152.30237581,
           560605379.832436,
           206401745.0442968,
           131983494.89723839,
           133823297.80719374,
           10754059817.67677,
           999900.635752137,
           352109956.8399305,
           437309868.42028964,
           1984520.688047727,
           2155944.041680266,
           57369422.92650188,
           557195943.6938593,
           45115072.58838096,
           58016150.282643355
          ],
          "coloraxis": "coloraxis",
          "size": [
           349298000,
           290082000,
           125391000,
           101730000,
           1415975000,
           2165000,
           1016521000,
           560904000,
           8421000,
           93870000,
           64899000,
           1595245000,
           448101000,
           4517000,
           2473000,
           140590000,
           5183133000,
           7761000,
           7038000,
           24881000,
           53665000,
           1570141000,
           548657000,
           500322000,
           27711821000,
           185745000,
           221239000,
           59152000,
           885144000,
           7841000,
           90419000,
           467572000,
           33488000,
           5534524000,
           7860000,
           2063000,
           529996000,
           156427000,
           710503000,
           369477000,
           1758244000,
           2290506000,
           367668000,
           18769000,
           4287894000,
           21746000,
           3409075000,
           282212000,
           125350000,
           11046000,
           11798000,
           664003000,
           2748000,
           121545000,
           29565000,
           104630000,
           105656000,
           608483000,
           2836045000,
           17639428000,
           331020000,
           1803007000,
           451925000,
           17302000,
           267141000,
           3754298000,
           58037000,
           98132000,
           3677445000,
           480629000,
           145790000,
           1233000,
           880000,
           390507000,
           68595000,
           79158000,
           121861000,
           45555000,
           4389000,
           268758000,
           15103000,
           573638000,
           292527000,
           5354000,
           1947625000,
           133881000,
           17864000,
           756911000,
           64571000,
           286109000,
           54218000,
           27001000,
           134407000,
           426325000,
           21907000,
           5912000,
           110632000,
           2028695000,
           61547000,
           1517072000,
           303988000,
           378924000,
           250515000,
           3009069000,
           55384000,
           472816000,
           1401891000,
           3269885000,
           511922000,
           227728000,
           5797000,
           1194561000,
           1206361000,
           189166000,
           405761000,
           108804000,
           3648000,
           68210000,
           87428000,
           2073000,
           11766000,
           587061000,
           10628000,
           54687000,
           43507000,
           1205485000,
           8757000,
           31953000,
           266856000,
           2910414000,
           520902000,
           292559000,
           144562000,
           13604448000,
           2458000,
           487952000,
           1275447000,
           2770000,
           3430000,
           188255000,
           755918000,
           72223000,
           80686000
          ],
          "sizemode": "area",
          "sizeref": 69279552.5,
          "symbol": "circle"
         },
         "mode": "markers",
         "name": "",
         "showlegend": false,
         "type": "scattergeo"
        }
       ],
       "layout": {
        "coloraxis": {
         "colorbar": {
          "title": {
           "text": "Yearly gas serra emissions(Tonnes)"
          }
         },
         "colorscale": [
          [
           0,
           "#0d0887"
          ],
          [
           0.1111111111111111,
           "#46039f"
          ],
          [
           0.2222222222222222,
           "#7201a8"
          ],
          [
           0.3333333333333333,
           "#9c179e"
          ],
          [
           0.4444444444444444,
           "#bd3786"
          ],
          [
           0.5555555555555556,
           "#d8576b"
          ],
          [
           0.6666666666666666,
           "#ed7953"
          ],
          [
           0.7777777777777778,
           "#fb9f3a"
          ],
          [
           0.8888888888888888,
           "#fdca26"
          ],
          [
           1,
           "#f0f921"
          ]
         ]
        },
        "geo": {
         "center": {},
         "domain": {
          "x": [
           0,
           1
          ],
          "y": [
           0,
           1
          ]
         },
         "projection": {
          "type": "orthographic"
         }
        },
        "height": 800,
        "legend": {
         "itemsizing": "constant",
         "tracegroupgap": 0
        },
        "template": {
         "data": {
          "bar": [
           {
            "error_x": {
             "color": "#2a3f5f"
            },
            "error_y": {
             "color": "#2a3f5f"
            },
            "marker": {
             "line": {
              "color": "#E5ECF6",
              "width": 0.5
             },
             "pattern": {
              "fillmode": "overlay",
              "size": 10,
              "solidity": 0.2
             }
            },
            "type": "bar"
           }
          ],
          "barpolar": [
           {
            "marker": {
             "line": {
              "color": "#E5ECF6",
              "width": 0.5
             },
             "pattern": {
              "fillmode": "overlay",
              "size": 10,
              "solidity": 0.2
             }
            },
            "type": "barpolar"
           }
          ],
          "carpet": [
           {
            "aaxis": {
             "endlinecolor": "#2a3f5f",
             "gridcolor": "white",
             "linecolor": "white",
             "minorgridcolor": "white",
             "startlinecolor": "#2a3f5f"
            },
            "baxis": {
             "endlinecolor": "#2a3f5f",
             "gridcolor": "white",
             "linecolor": "white",
             "minorgridcolor": "white",
             "startlinecolor": "#2a3f5f"
            },
            "type": "carpet"
           }
          ],
          "choropleth": [
           {
            "colorbar": {
             "outlinewidth": 0,
             "ticks": ""
            },
            "type": "choropleth"
           }
          ],
          "contour": [
           {
            "colorbar": {
             "outlinewidth": 0,
             "ticks": ""
            },
            "colorscale": [
             [
              0,
              "#0d0887"
             ],
             [
              0.1111111111111111,
              "#46039f"
             ],
             [
              0.2222222222222222,
              "#7201a8"
             ],
             [
              0.3333333333333333,
              "#9c179e"
             ],
             [
              0.4444444444444444,
              "#bd3786"
             ],
             [
              0.5555555555555556,
              "#d8576b"
             ],
             [
              0.6666666666666666,
              "#ed7953"
             ],
             [
              0.7777777777777778,
              "#fb9f3a"
             ],
             [
              0.8888888888888888,
              "#fdca26"
             ],
             [
              1,
              "#f0f921"
             ]
            ],
            "type": "contour"
           }
          ],
          "contourcarpet": [
           {
            "colorbar": {
             "outlinewidth": 0,
             "ticks": ""
            },
            "type": "contourcarpet"
           }
          ],
          "heatmap": [
           {
            "colorbar": {
             "outlinewidth": 0,
             "ticks": ""
            },
            "colorscale": [
             [
              0,
              "#0d0887"
             ],
             [
              0.1111111111111111,
              "#46039f"
             ],
             [
              0.2222222222222222,
              "#7201a8"
             ],
             [
              0.3333333333333333,
              "#9c179e"
             ],
             [
              0.4444444444444444,
              "#bd3786"
             ],
             [
              0.5555555555555556,
              "#d8576b"
             ],
             [
              0.6666666666666666,
              "#ed7953"
             ],
             [
              0.7777777777777778,
              "#fb9f3a"
             ],
             [
              0.8888888888888888,
              "#fdca26"
             ],
             [
              1,
              "#f0f921"
             ]
            ],
            "type": "heatmap"
           }
          ],
          "heatmapgl": [
           {
            "colorbar": {
             "outlinewidth": 0,
             "ticks": ""
            },
            "colorscale": [
             [
              0,
              "#0d0887"
             ],
             [
              0.1111111111111111,
              "#46039f"
             ],
             [
              0.2222222222222222,
              "#7201a8"
             ],
             [
              0.3333333333333333,
              "#9c179e"
             ],
             [
              0.4444444444444444,
              "#bd3786"
             ],
             [
              0.5555555555555556,
              "#d8576b"
             ],
             [
              0.6666666666666666,
              "#ed7953"
             ],
             [
              0.7777777777777778,
              "#fb9f3a"
             ],
             [
              0.8888888888888888,
              "#fdca26"
             ],
             [
              1,
              "#f0f921"
             ]
            ],
            "type": "heatmapgl"
           }
          ],
          "histogram": [
           {
            "marker": {
             "pattern": {
              "fillmode": "overlay",
              "size": 10,
              "solidity": 0.2
             }
            },
            "type": "histogram"
           }
          ],
          "histogram2d": [
           {
            "colorbar": {
             "outlinewidth": 0,
             "ticks": ""
            },
            "colorscale": [
             [
              0,
              "#0d0887"
             ],
             [
              0.1111111111111111,
              "#46039f"
             ],
             [
              0.2222222222222222,
              "#7201a8"
             ],
             [
              0.3333333333333333,
              "#9c179e"
             ],
             [
              0.4444444444444444,
              "#bd3786"
             ],
             [
              0.5555555555555556,
              "#d8576b"
             ],
             [
              0.6666666666666666,
              "#ed7953"
             ],
             [
              0.7777777777777778,
              "#fb9f3a"
             ],
             [
              0.8888888888888888,
              "#fdca26"
             ],
             [
              1,
              "#f0f921"
             ]
            ],
            "type": "histogram2d"
           }
          ],
          "histogram2dcontour": [
           {
            "colorbar": {
             "outlinewidth": 0,
             "ticks": ""
            },
            "colorscale": [
             [
              0,
              "#0d0887"
             ],
             [
              0.1111111111111111,
              "#46039f"
             ],
             [
              0.2222222222222222,
              "#7201a8"
             ],
             [
              0.3333333333333333,
              "#9c179e"
             ],
             [
              0.4444444444444444,
              "#bd3786"
             ],
             [
              0.5555555555555556,
              "#d8576b"
             ],
             [
              0.6666666666666666,
              "#ed7953"
             ],
             [
              0.7777777777777778,
              "#fb9f3a"
             ],
             [
              0.8888888888888888,
              "#fdca26"
             ],
             [
              1,
              "#f0f921"
             ]
            ],
            "type": "histogram2dcontour"
           }
          ],
          "mesh3d": [
           {
            "colorbar": {
             "outlinewidth": 0,
             "ticks": ""
            },
            "type": "mesh3d"
           }
          ],
          "parcoords": [
           {
            "line": {
             "colorbar": {
              "outlinewidth": 0,
              "ticks": ""
             }
            },
            "type": "parcoords"
           }
          ],
          "pie": [
           {
            "automargin": true,
            "type": "pie"
           }
          ],
          "scatter": [
           {
            "fillpattern": {
             "fillmode": "overlay",
             "size": 10,
             "solidity": 0.2
            },
            "type": "scatter"
           }
          ],
          "scatter3d": [
           {
            "line": {
             "colorbar": {
              "outlinewidth": 0,
              "ticks": ""
             }
            },
            "marker": {
             "colorbar": {
              "outlinewidth": 0,
              "ticks": ""
             }
            },
            "type": "scatter3d"
           }
          ],
          "scattercarpet": [
           {
            "marker": {
             "colorbar": {
              "outlinewidth": 0,
              "ticks": ""
             }
            },
            "type": "scattercarpet"
           }
          ],
          "scattergeo": [
           {
            "marker": {
             "colorbar": {
              "outlinewidth": 0,
              "ticks": ""
             }
            },
            "type": "scattergeo"
           }
          ],
          "scattergl": [
           {
            "marker": {
             "colorbar": {
              "outlinewidth": 0,
              "ticks": ""
             }
            },
            "type": "scattergl"
           }
          ],
          "scattermapbox": [
           {
            "marker": {
             "colorbar": {
              "outlinewidth": 0,
              "ticks": ""
             }
            },
            "type": "scattermapbox"
           }
          ],
          "scatterpolar": [
           {
            "marker": {
             "colorbar": {
              "outlinewidth": 0,
              "ticks": ""
             }
            },
            "type": "scatterpolar"
           }
          ],
          "scatterpolargl": [
           {
            "marker": {
             "colorbar": {
              "outlinewidth": 0,
              "ticks": ""
             }
            },
            "type": "scatterpolargl"
           }
          ],
          "scatterternary": [
           {
            "marker": {
             "colorbar": {
              "outlinewidth": 0,
              "ticks": ""
             }
            },
            "type": "scatterternary"
           }
          ],
          "surface": [
           {
            "colorbar": {
             "outlinewidth": 0,
             "ticks": ""
            },
            "colorscale": [
             [
              0,
              "#0d0887"
             ],
             [
              0.1111111111111111,
              "#46039f"
             ],
             [
              0.2222222222222222,
              "#7201a8"
             ],
             [
              0.3333333333333333,
              "#9c179e"
             ],
             [
              0.4444444444444444,
              "#bd3786"
             ],
             [
              0.5555555555555556,
              "#d8576b"
             ],
             [
              0.6666666666666666,
              "#ed7953"
             ],
             [
              0.7777777777777778,
              "#fb9f3a"
             ],
             [
              0.8888888888888888,
              "#fdca26"
             ],
             [
              1,
              "#f0f921"
             ]
            ],
            "type": "surface"
           }
          ],
          "table": [
           {
            "cells": {
             "fill": {
              "color": "#EBF0F8"
             },
             "line": {
              "color": "white"
             }
            },
            "header": {
             "fill": {
              "color": "#C8D4E3"
             },
             "line": {
              "color": "white"
             }
            },
            "type": "table"
           }
          ]
         },
         "layout": {
          "annotationdefaults": {
           "arrowcolor": "#2a3f5f",
           "arrowhead": 0,
           "arrowwidth": 1
          },
          "autotypenumbers": "strict",
          "coloraxis": {
           "colorbar": {
            "outlinewidth": 0,
            "ticks": ""
           }
          },
          "colorscale": {
           "diverging": [
            [
             0,
             "#8e0152"
            ],
            [
             0.1,
             "#c51b7d"
            ],
            [
             0.2,
             "#de77ae"
            ],
            [
             0.3,
             "#f1b6da"
            ],
            [
             0.4,
             "#fde0ef"
            ],
            [
             0.5,
             "#f7f7f7"
            ],
            [
             0.6,
             "#e6f5d0"
            ],
            [
             0.7,
             "#b8e186"
            ],
            [
             0.8,
             "#7fbc41"
            ],
            [
             0.9,
             "#4d9221"
            ],
            [
             1,
             "#276419"
            ]
           ],
           "sequential": [
            [
             0,
             "#0d0887"
            ],
            [
             0.1111111111111111,
             "#46039f"
            ],
            [
             0.2222222222222222,
             "#7201a8"
            ],
            [
             0.3333333333333333,
             "#9c179e"
            ],
            [
             0.4444444444444444,
             "#bd3786"
            ],
            [
             0.5555555555555556,
             "#d8576b"
            ],
            [
             0.6666666666666666,
             "#ed7953"
            ],
            [
             0.7777777777777778,
             "#fb9f3a"
            ],
            [
             0.8888888888888888,
             "#fdca26"
            ],
            [
             1,
             "#f0f921"
            ]
           ],
           "sequentialminus": [
            [
             0,
             "#0d0887"
            ],
            [
             0.1111111111111111,
             "#46039f"
            ],
            [
             0.2222222222222222,
             "#7201a8"
            ],
            [
             0.3333333333333333,
             "#9c179e"
            ],
            [
             0.4444444444444444,
             "#bd3786"
            ],
            [
             0.5555555555555556,
             "#d8576b"
            ],
            [
             0.6666666666666666,
             "#ed7953"
            ],
            [
             0.7777777777777778,
             "#fb9f3a"
            ],
            [
             0.8888888888888888,
             "#fdca26"
            ],
            [
             1,
             "#f0f921"
            ]
           ]
          },
          "colorway": [
           "#636efa",
           "#EF553B",
           "#00cc96",
           "#ab63fa",
           "#FFA15A",
           "#19d3f3",
           "#FF6692",
           "#B6E880",
           "#FF97FF",
           "#FECB52"
          ],
          "font": {
           "color": "#2a3f5f"
          },
          "geo": {
           "bgcolor": "white",
           "lakecolor": "white",
           "landcolor": "#E5ECF6",
           "showlakes": true,
           "showland": true,
           "subunitcolor": "white"
          },
          "hoverlabel": {
           "align": "left"
          },
          "hovermode": "closest",
          "mapbox": {
           "style": "light"
          },
          "paper_bgcolor": "white",
          "plot_bgcolor": "#E5ECF6",
          "polar": {
           "angularaxis": {
            "gridcolor": "white",
            "linecolor": "white",
            "ticks": ""
           },
           "bgcolor": "#E5ECF6",
           "radialaxis": {
            "gridcolor": "white",
            "linecolor": "white",
            "ticks": ""
           }
          },
          "scene": {
           "xaxis": {
            "backgroundcolor": "#E5ECF6",
            "gridcolor": "white",
            "gridwidth": 2,
            "linecolor": "white",
            "showbackground": true,
            "ticks": "",
            "zerolinecolor": "white"
           },
           "yaxis": {
            "backgroundcolor": "#E5ECF6",
            "gridcolor": "white",
            "gridwidth": 2,
            "linecolor": "white",
            "showbackground": true,
            "ticks": "",
            "zerolinecolor": "white"
           },
           "zaxis": {
            "backgroundcolor": "#E5ECF6",
            "gridcolor": "white",
            "gridwidth": 2,
            "linecolor": "white",
            "showbackground": true,
            "ticks": "",
            "zerolinecolor": "white"
           }
          },
          "shapedefaults": {
           "line": {
            "color": "#2a3f5f"
           }
          },
          "ternary": {
           "aaxis": {
            "gridcolor": "white",
            "linecolor": "white",
            "ticks": ""
           },
           "baxis": {
            "gridcolor": "white",
            "linecolor": "white",
            "ticks": ""
           },
           "bgcolor": "#E5ECF6",
           "caxis": {
            "gridcolor": "white",
            "linecolor": "white",
            "ticks": ""
           }
          },
          "title": {
           "x": 0.05
          },
          "xaxis": {
           "automargin": true,
           "gridcolor": "white",
           "linecolor": "white",
           "ticks": "",
           "title": {
            "standoff": 15
           },
           "zerolinecolor": "white",
           "zerolinewidth": 2
          },
          "yaxis": {
           "automargin": true,
           "gridcolor": "white",
           "linecolor": "white",
           "ticks": "",
           "title": {
            "standoff": 15
           },
           "zerolinecolor": "white",
           "zerolinewidth": 2
          }
         }
        },
        "title": {
         "text": "Impatto ambientale dal 1961 al 2013"
        }
       }
      }
     },
     "metadata": {},
     "output_type": "display_data"
    }
   ],
   "source": [
    "# Adattamento dei dati per mostrare una cartina geografica che mostra l'impatto ambientale dei vari paesi usa il grafico con la larghezza dei cerchi\n",
    "geo_df = graphics_df.groupby(\"Area Abbreviation\").sum(numeric_only=True).reset_index().drop(columns=\"Year\")\n",
    "areas_abbr = graphics_df[[\"Area\", \"Area Abbreviation\"]].drop_duplicates()\n",
    "values = areas_abbr[\"Area\"].to_list()\n",
    "keys = areas_abbr[\"Area Abbreviation\"].to_list()\n",
    "areas_abbr_dict = {keys[i]: values[i] for i in range(len(keys))}\n",
    "for index, value in geo_df.iterrows():\n",
    "     geo_df.at[index, \"Area\"] = areas_abbr_dict[value[\"Area Abbreviation\"]]\n",
    "\n",
    "fig = px.scatter_geo(\n",
    "     geo_df,\n",
    "     locations=\"Area Abbreviation\",\n",
    "     hover_name=\"Area\",\n",
    "     hover_data=[\"Yearly TonnesCO2\", \"Yearly Tonnes PO4 producted\", \"Yearly water usage(Tonnes)\", \"Yearly gas serra emissions(Tonnes)\"],\n",
    "     size=\"Quantity(Tonnes)\",\n",
    "     color=\"Yearly gas serra emissions(Tonnes)\",\n",
    "     projection=\"orthographic\",\n",
    "     height=800,\n",
    "     title=\"Impatto ambientale dal 1961 al 2013\"\n",
    ")\n",
    "fig.show()\n"
   ]
  },
  {
   "cell_type": "markdown",
   "metadata": {},
   "source": [
    "# Confronto carni - vegetali\n",
    "#### Grafico che mostra le differenze tra l'inquinamento da cibi animali (compreso il pesce) e cibi vegetali."
   ]
  },
  {
   "cell_type": "markdown",
   "metadata": {},
   "source": [
    "#### Come primo step vado a prendere tutti i cibi a base animale."
   ]
  },
  {
   "cell_type": "code",
   "execution_count": 813,
   "metadata": {},
   "outputs": [
    {
     "data": {
      "text/html": [
       "<div>\n",
       "<style scoped>\n",
       "    .dataframe tbody tr th:only-of-type {\n",
       "        vertical-align: middle;\n",
       "    }\n",
       "\n",
       "    .dataframe tbody tr th {\n",
       "        vertical-align: top;\n",
       "    }\n",
       "\n",
       "    .dataframe thead th {\n",
       "        text-align: right;\n",
       "    }\n",
       "</style>\n",
       "<table border=\"1\" class=\"dataframe\">\n",
       "  <thead>\n",
       "    <tr style=\"text-align: right;\">\n",
       "      <th></th>\n",
       "      <th>graphics_df_fk</th>\n",
       "      <th>Area</th>\n",
       "      <th>Area Abbreviation</th>\n",
       "      <th>Item</th>\n",
       "      <th>Element</th>\n",
       "      <th>Year</th>\n",
       "      <th>Quantity(Tonnes)</th>\n",
       "      <th>Yearly gas serra emissions(Tonnes)</th>\n",
       "      <th>Yearly TonnesCO2</th>\n",
       "      <th>Yearly Tonnes PO4 producted</th>\n",
       "      <th>Yearly water usage(Tonnes)</th>\n",
       "    </tr>\n",
       "  </thead>\n",
       "  <tbody>\n",
       "    <tr>\n",
       "      <th>0</th>\n",
       "      <td>9</td>\n",
       "      <td>Afghanistan</td>\n",
       "      <td>AFG</td>\n",
       "      <td>Milk</td>\n",
       "      <td>Feed</td>\n",
       "      <td>1961</td>\n",
       "      <td>28000.0</td>\n",
       "      <td>6174.0</td>\n",
       "      <td>78400.0</td>\n",
       "      <td>298.20</td>\n",
       "      <td>17589.6</td>\n",
       "    </tr>\n",
       "    <tr>\n",
       "      <th>1</th>\n",
       "      <td>10</td>\n",
       "      <td>Afghanistan</td>\n",
       "      <td>AFG</td>\n",
       "      <td>Milk</td>\n",
       "      <td>Feed</td>\n",
       "      <td>1962</td>\n",
       "      <td>28000.0</td>\n",
       "      <td>6174.0</td>\n",
       "      <td>78400.0</td>\n",
       "      <td>298.20</td>\n",
       "      <td>17589.6</td>\n",
       "    </tr>\n",
       "    <tr>\n",
       "      <th>2</th>\n",
       "      <td>11</td>\n",
       "      <td>Afghanistan</td>\n",
       "      <td>AFG</td>\n",
       "      <td>Milk</td>\n",
       "      <td>Feed</td>\n",
       "      <td>1963</td>\n",
       "      <td>32000.0</td>\n",
       "      <td>7056.0</td>\n",
       "      <td>89600.0</td>\n",
       "      <td>340.80</td>\n",
       "      <td>20102.4</td>\n",
       "    </tr>\n",
       "    <tr>\n",
       "      <th>3</th>\n",
       "      <td>12</td>\n",
       "      <td>Afghanistan</td>\n",
       "      <td>AFG</td>\n",
       "      <td>Milk</td>\n",
       "      <td>Feed</td>\n",
       "      <td>1964</td>\n",
       "      <td>32000.0</td>\n",
       "      <td>7056.0</td>\n",
       "      <td>89600.0</td>\n",
       "      <td>340.80</td>\n",
       "      <td>20102.4</td>\n",
       "    </tr>\n",
       "    <tr>\n",
       "      <th>4</th>\n",
       "      <td>13</td>\n",
       "      <td>Afghanistan</td>\n",
       "      <td>AFG</td>\n",
       "      <td>Milk</td>\n",
       "      <td>Feed</td>\n",
       "      <td>1965</td>\n",
       "      <td>36000.0</td>\n",
       "      <td>7938.0</td>\n",
       "      <td>100800.0</td>\n",
       "      <td>383.40</td>\n",
       "      <td>22615.2</td>\n",
       "    </tr>\n",
       "    <tr>\n",
       "      <th>...</th>\n",
       "      <td>...</td>\n",
       "      <td>...</td>\n",
       "      <td>...</td>\n",
       "      <td>...</td>\n",
       "      <td>...</td>\n",
       "      <td>...</td>\n",
       "      <td>...</td>\n",
       "      <td>...</td>\n",
       "      <td>...</td>\n",
       "      <td>...</td>\n",
       "      <td>...</td>\n",
       "    </tr>\n",
       "    <tr>\n",
       "      <th>72764</th>\n",
       "      <td>251214</td>\n",
       "      <td>Zimbabwe</td>\n",
       "      <td>ZWE</td>\n",
       "      <td>Milk</td>\n",
       "      <td>Food</td>\n",
       "      <td>1991</td>\n",
       "      <td>313000.0</td>\n",
       "      <td>69016.5</td>\n",
       "      <td>876400.0</td>\n",
       "      <td>3333.45</td>\n",
       "      <td>196626.6</td>\n",
       "    </tr>\n",
       "    <tr>\n",
       "      <th>72765</th>\n",
       "      <td>251215</td>\n",
       "      <td>Zimbabwe</td>\n",
       "      <td>ZWE</td>\n",
       "      <td>Milk</td>\n",
       "      <td>Food</td>\n",
       "      <td>1990</td>\n",
       "      <td>374000.0</td>\n",
       "      <td>82467.0</td>\n",
       "      <td>1047200.0</td>\n",
       "      <td>3983.10</td>\n",
       "      <td>234946.8</td>\n",
       "    </tr>\n",
       "    <tr>\n",
       "      <th>72766</th>\n",
       "      <td>251216</td>\n",
       "      <td>Zimbabwe</td>\n",
       "      <td>ZWE</td>\n",
       "      <td>Milk</td>\n",
       "      <td>Food</td>\n",
       "      <td>1989</td>\n",
       "      <td>381000.0</td>\n",
       "      <td>84010.5</td>\n",
       "      <td>1066800.0</td>\n",
       "      <td>4057.65</td>\n",
       "      <td>239344.2</td>\n",
       "    </tr>\n",
       "    <tr>\n",
       "      <th>72767</th>\n",
       "      <td>251217</td>\n",
       "      <td>Zimbabwe</td>\n",
       "      <td>ZWE</td>\n",
       "      <td>Milk</td>\n",
       "      <td>Food</td>\n",
       "      <td>1988</td>\n",
       "      <td>366000.0</td>\n",
       "      <td>80703.0</td>\n",
       "      <td>1024800.0</td>\n",
       "      <td>3897.90</td>\n",
       "      <td>229921.2</td>\n",
       "    </tr>\n",
       "    <tr>\n",
       "      <th>72768</th>\n",
       "      <td>251218</td>\n",
       "      <td>Zimbabwe</td>\n",
       "      <td>ZWE</td>\n",
       "      <td>Milk</td>\n",
       "      <td>Food</td>\n",
       "      <td>2001</td>\n",
       "      <td>439000.0</td>\n",
       "      <td>96799.5</td>\n",
       "      <td>1229200.0</td>\n",
       "      <td>4675.35</td>\n",
       "      <td>275779.8</td>\n",
       "    </tr>\n",
       "  </tbody>\n",
       "</table>\n",
       "<p>72769 rows × 11 columns</p>\n",
       "</div>"
      ],
      "text/plain": [
       "       graphics_df_fk         Area Area Abbreviation  Item Element  Year  \\\n",
       "0                   9  Afghanistan               AFG  Milk    Feed  1961   \n",
       "1                  10  Afghanistan               AFG  Milk    Feed  1962   \n",
       "2                  11  Afghanistan               AFG  Milk    Feed  1963   \n",
       "3                  12  Afghanistan               AFG  Milk    Feed  1964   \n",
       "4                  13  Afghanistan               AFG  Milk    Feed  1965   \n",
       "...               ...          ...               ...   ...     ...   ...   \n",
       "72764          251214     Zimbabwe               ZWE  Milk    Food  1991   \n",
       "72765          251215     Zimbabwe               ZWE  Milk    Food  1990   \n",
       "72766          251216     Zimbabwe               ZWE  Milk    Food  1989   \n",
       "72767          251217     Zimbabwe               ZWE  Milk    Food  1988   \n",
       "72768          251218     Zimbabwe               ZWE  Milk    Food  2001   \n",
       "\n",
       "       Quantity(Tonnes)  Yearly gas serra emissions(Tonnes)  Yearly TonnesCO2  \\\n",
       "0               28000.0                              6174.0           78400.0   \n",
       "1               28000.0                              6174.0           78400.0   \n",
       "2               32000.0                              7056.0           89600.0   \n",
       "3               32000.0                              7056.0           89600.0   \n",
       "4               36000.0                              7938.0          100800.0   \n",
       "...                 ...                                 ...               ...   \n",
       "72764          313000.0                             69016.5          876400.0   \n",
       "72765          374000.0                             82467.0         1047200.0   \n",
       "72766          381000.0                             84010.5         1066800.0   \n",
       "72767          366000.0                             80703.0         1024800.0   \n",
       "72768          439000.0                             96799.5         1229200.0   \n",
       "\n",
       "       Yearly Tonnes PO4 producted  Yearly water usage(Tonnes)  \n",
       "0                           298.20                     17589.6  \n",
       "1                           298.20                     17589.6  \n",
       "2                           340.80                     20102.4  \n",
       "3                           340.80                     20102.4  \n",
       "4                           383.40                     22615.2  \n",
       "...                            ...                         ...  \n",
       "72764                      3333.45                    196626.6  \n",
       "72765                      3983.10                    234946.8  \n",
       "72766                      4057.65                    239344.2  \n",
       "72767                      3897.90                    229921.2  \n",
       "72768                      4675.35                    275779.8  \n",
       "\n",
       "[72769 rows x 11 columns]"
      ]
     },
     "execution_count": 813,
     "metadata": {},
     "output_type": "execute_result"
    }
   ],
   "source": [
    "# Estrazione di tutti i cibi a base animale\n",
    "condition_beef_herd = graphics_df[\"Item\"] == \"Beef (beef herd)\"\n",
    "condition_poultry_meat = graphics_df[\"Item\"] == \"Poultry Meat\"\n",
    "condition_pig_meat = graphics_df[\"Item\"] == \"Pig Meat\"\n",
    "condition_fish = graphics_df[\"Item\"] == \"Fish (farmed)\"\n",
    "condition_milk = graphics_df[\"Item\"] == \"Milk\"\n",
    "condition_mutton = graphics_df[\"Item\"] == \"Mutton\"\n",
    "condition_eggs = graphics_df[\"Item\"] == \"Eggs\"\n",
    "beef_subdf = graphics_df[condition_beef_herd | condition_poultry_meat | condition_pig_meat | condition_fish | condition_milk | condition_mutton].copy().reset_index()\n",
    "beef_subdf.rename(columns={\"index\": \"graphics_df_fk\"}, inplace=True)\n",
    "beef_subdf"
   ]
  },
  {
   "cell_type": "markdown",
   "metadata": {},
   "source": [
    "#### A questo punto prendo tutti i cibi a base vegetale."
   ]
  },
  {
   "cell_type": "code",
   "execution_count": 814,
   "metadata": {},
   "outputs": [
    {
     "data": {
      "text/html": [
       "<div>\n",
       "<style scoped>\n",
       "    .dataframe tbody tr th:only-of-type {\n",
       "        vertical-align: middle;\n",
       "    }\n",
       "\n",
       "    .dataframe tbody tr th {\n",
       "        vertical-align: top;\n",
       "    }\n",
       "\n",
       "    .dataframe thead th {\n",
       "        text-align: right;\n",
       "    }\n",
       "</style>\n",
       "<table border=\"1\" class=\"dataframe\">\n",
       "  <thead>\n",
       "    <tr style=\"text-align: right;\">\n",
       "      <th></th>\n",
       "      <th>index</th>\n",
       "      <th>Area</th>\n",
       "      <th>Area Abbreviation</th>\n",
       "      <th>Item</th>\n",
       "      <th>Element</th>\n",
       "      <th>Year</th>\n",
       "      <th>Quantity(Tonnes)</th>\n",
       "      <th>Yearly gas serra emissions(Tonnes)</th>\n",
       "      <th>Yearly TonnesCO2</th>\n",
       "      <th>Yearly Tonnes PO4 producted</th>\n",
       "      <th>Yearly water usage(Tonnes)</th>\n",
       "    </tr>\n",
       "  </thead>\n",
       "  <tbody>\n",
       "    <tr>\n",
       "      <th>0</th>\n",
       "      <td>0</td>\n",
       "      <td>Afghanistan</td>\n",
       "      <td>AFG</td>\n",
       "      <td>Other Pulses</td>\n",
       "      <td>Food</td>\n",
       "      <td>1985</td>\n",
       "      <td>23000.0</td>\n",
       "      <td>2185.269794</td>\n",
       "      <td>36800.0</td>\n",
       "      <td>392.84</td>\n",
       "      <td>10021.1</td>\n",
       "    </tr>\n",
       "    <tr>\n",
       "      <th>1</th>\n",
       "      <td>1</td>\n",
       "      <td>Afghanistan</td>\n",
       "      <td>AFG</td>\n",
       "      <td>Other Fruit</td>\n",
       "      <td>Food</td>\n",
       "      <td>1967</td>\n",
       "      <td>330000.0</td>\n",
       "      <td>0.000000</td>\n",
       "      <td>231000.0</td>\n",
       "      <td>801.90</td>\n",
       "      <td>50655.0</td>\n",
       "    </tr>\n",
       "    <tr>\n",
       "      <th>2</th>\n",
       "      <td>2</td>\n",
       "      <td>Afghanistan</td>\n",
       "      <td>AFG</td>\n",
       "      <td>Other Fruit</td>\n",
       "      <td>Food</td>\n",
       "      <td>1966</td>\n",
       "      <td>275000.0</td>\n",
       "      <td>0.000000</td>\n",
       "      <td>192500.0</td>\n",
       "      <td>668.25</td>\n",
       "      <td>42212.5</td>\n",
       "    </tr>\n",
       "    <tr>\n",
       "      <th>3</th>\n",
       "      <td>3</td>\n",
       "      <td>Afghanistan</td>\n",
       "      <td>AFG</td>\n",
       "      <td>Other Fruit</td>\n",
       "      <td>Food</td>\n",
       "      <td>1965</td>\n",
       "      <td>261000.0</td>\n",
       "      <td>0.000000</td>\n",
       "      <td>182700.0</td>\n",
       "      <td>634.23</td>\n",
       "      <td>40063.5</td>\n",
       "    </tr>\n",
       "    <tr>\n",
       "      <th>4</th>\n",
       "      <td>4</td>\n",
       "      <td>Afghanistan</td>\n",
       "      <td>AFG</td>\n",
       "      <td>Other Fruit</td>\n",
       "      <td>Food</td>\n",
       "      <td>1964</td>\n",
       "      <td>245000.0</td>\n",
       "      <td>0.000000</td>\n",
       "      <td>171500.0</td>\n",
       "      <td>595.35</td>\n",
       "      <td>37607.5</td>\n",
       "    </tr>\n",
       "    <tr>\n",
       "      <th>...</th>\n",
       "      <td>...</td>\n",
       "      <td>...</td>\n",
       "      <td>...</td>\n",
       "      <td>...</td>\n",
       "      <td>...</td>\n",
       "      <td>...</td>\n",
       "      <td>...</td>\n",
       "      <td>...</td>\n",
       "      <td>...</td>\n",
       "      <td>...</td>\n",
       "      <td>...</td>\n",
       "    </tr>\n",
       "    <tr>\n",
       "      <th>162970</th>\n",
       "      <td>251155</td>\n",
       "      <td>Zimbabwe</td>\n",
       "      <td>ZWE</td>\n",
       "      <td>Tomatoes</td>\n",
       "      <td>Food</td>\n",
       "      <td>1963</td>\n",
       "      <td>7000.0</td>\n",
       "      <td>1386.000000</td>\n",
       "      <td>9800.0</td>\n",
       "      <td>52.57</td>\n",
       "      <td>2588.6</td>\n",
       "    </tr>\n",
       "    <tr>\n",
       "      <th>162971</th>\n",
       "      <td>251156</td>\n",
       "      <td>Zimbabwe</td>\n",
       "      <td>ZWE</td>\n",
       "      <td>Tomatoes</td>\n",
       "      <td>Food</td>\n",
       "      <td>1962</td>\n",
       "      <td>6000.0</td>\n",
       "      <td>1188.000000</td>\n",
       "      <td>8400.0</td>\n",
       "      <td>45.06</td>\n",
       "      <td>2218.8</td>\n",
       "    </tr>\n",
       "    <tr>\n",
       "      <th>162972</th>\n",
       "      <td>251157</td>\n",
       "      <td>Zimbabwe</td>\n",
       "      <td>ZWE</td>\n",
       "      <td>Tomatoes</td>\n",
       "      <td>Food</td>\n",
       "      <td>1961</td>\n",
       "      <td>6000.0</td>\n",
       "      <td>1188.000000</td>\n",
       "      <td>8400.0</td>\n",
       "      <td>45.06</td>\n",
       "      <td>2218.8</td>\n",
       "    </tr>\n",
       "    <tr>\n",
       "      <th>162973</th>\n",
       "      <td>251187</td>\n",
       "      <td>Zimbabwe</td>\n",
       "      <td>ZWE</td>\n",
       "      <td>Citrus Fruit</td>\n",
       "      <td>Food</td>\n",
       "      <td>2013</td>\n",
       "      <td>2000.0</td>\n",
       "      <td>175.500000</td>\n",
       "      <td>600.0</td>\n",
       "      <td>4.48</td>\n",
       "      <td>165.4</td>\n",
       "    </tr>\n",
       "    <tr>\n",
       "      <th>162974</th>\n",
       "      <td>251219</td>\n",
       "      <td>Zimbabwe</td>\n",
       "      <td>ZWE</td>\n",
       "      <td>Potatoes</td>\n",
       "      <td>Food</td>\n",
       "      <td>1963</td>\n",
       "      <td>19000.0</td>\n",
       "      <td>919.371585</td>\n",
       "      <td>5700.0</td>\n",
       "      <td>66.12</td>\n",
       "      <td>1122.9</td>\n",
       "    </tr>\n",
       "  </tbody>\n",
       "</table>\n",
       "<p>162975 rows × 11 columns</p>\n",
       "</div>"
      ],
      "text/plain": [
       "         index         Area Area Abbreviation          Item Element  Year  \\\n",
       "0            0  Afghanistan               AFG  Other Pulses    Food  1985   \n",
       "1            1  Afghanistan               AFG   Other Fruit    Food  1967   \n",
       "2            2  Afghanistan               AFG   Other Fruit    Food  1966   \n",
       "3            3  Afghanistan               AFG   Other Fruit    Food  1965   \n",
       "4            4  Afghanistan               AFG   Other Fruit    Food  1964   \n",
       "...        ...          ...               ...           ...     ...   ...   \n",
       "162970  251155     Zimbabwe               ZWE      Tomatoes    Food  1963   \n",
       "162971  251156     Zimbabwe               ZWE      Tomatoes    Food  1962   \n",
       "162972  251157     Zimbabwe               ZWE      Tomatoes    Food  1961   \n",
       "162973  251187     Zimbabwe               ZWE  Citrus Fruit    Food  2013   \n",
       "162974  251219     Zimbabwe               ZWE      Potatoes    Food  1963   \n",
       "\n",
       "        Quantity(Tonnes)  Yearly gas serra emissions(Tonnes)  \\\n",
       "0                23000.0                         2185.269794   \n",
       "1               330000.0                            0.000000   \n",
       "2               275000.0                            0.000000   \n",
       "3               261000.0                            0.000000   \n",
       "4               245000.0                            0.000000   \n",
       "...                  ...                                 ...   \n",
       "162970            7000.0                         1386.000000   \n",
       "162971            6000.0                         1188.000000   \n",
       "162972            6000.0                         1188.000000   \n",
       "162973            2000.0                          175.500000   \n",
       "162974           19000.0                          919.371585   \n",
       "\n",
       "        Yearly TonnesCO2  Yearly Tonnes PO4 producted  \\\n",
       "0                36800.0                       392.84   \n",
       "1               231000.0                       801.90   \n",
       "2               192500.0                       668.25   \n",
       "3               182700.0                       634.23   \n",
       "4               171500.0                       595.35   \n",
       "...                  ...                          ...   \n",
       "162970            9800.0                        52.57   \n",
       "162971            8400.0                        45.06   \n",
       "162972            8400.0                        45.06   \n",
       "162973             600.0                         4.48   \n",
       "162974            5700.0                        66.12   \n",
       "\n",
       "        Yearly water usage(Tonnes)  \n",
       "0                          10021.1  \n",
       "1                          50655.0  \n",
       "2                          42212.5  \n",
       "3                          40063.5  \n",
       "4                          37607.5  \n",
       "...                            ...  \n",
       "162970                      2588.6  \n",
       "162971                      2218.8  \n",
       "162972                      2218.8  \n",
       "162973                       165.4  \n",
       "162974                      1122.9  \n",
       "\n",
       "[162975 rows x 11 columns]"
      ]
     },
     "execution_count": 814,
     "metadata": {},
     "output_type": "execute_result"
    }
   ],
   "source": [
    "condition_beef_herd = graphics_df[\"Item\"] != \"Beef (beef herd)\"\n",
    "condition_poultry_meat = graphics_df[\"Item\"] != \"Poultry Meat\"\n",
    "condition_pig_meat = graphics_df[\"Item\"] != \"Pig Meat\"\n",
    "condition_fish = graphics_df[\"Item\"] != \"Fish (farmed)\"\n",
    "condition_milk = graphics_df[\"Item\"] != \"Milk\"\n",
    "condition_mutton = graphics_df[\"Item\"] != \"Mutton\"\n",
    "condition_eggs = graphics_df[\"Item\"] != \"Eggs\"\n",
    "\n",
    "veg_subdf = graphics_df[condition_beef_herd & condition_poultry_meat & condition_pig_meat & condition_fish & condition_milk & condition_mutton & condition_eggs].copy().reset_index()\n",
    "veg_subdf\n"
   ]
  },
  {
   "cell_type": "markdown",
   "metadata": {},
   "source": [
    "# Grafico prodotti animali VS prodotti vegetali"
   ]
  },
  {
   "cell_type": "markdown",
   "metadata": {},
   "source": [
    "#### Iniziamo visualizzando i luoghi di produzione con la quantità ed i relativi inquinamenti prodotti. Se si va sorpa ai puntini con il mouse compariranno informazioni aggiuntive."
   ]
  },
  {
   "cell_type": "code",
   "execution_count": 815,
   "metadata": {},
   "outputs": [
    {
     "data": {
      "application/vnd.plotly.v1+json": {
       "config": {
        "plotlyServerURL": "https://plot.ly"
       },
       "data": [
        {
         "customdata": [
          [
           129630000,
           87521399.78979585,
           630335500,
           2807993.41,
           81534458.60000001
          ],
          [
           44889000,
           76428959.28956074,
           412189900,
           4071843.94,
           62527770.2
          ],
          [
           65077000,
           33885325.4972748,
           270461700,
           1302337.82,
           43948151
          ],
          [
           46089000,
           34002769.97349132,
           219257800,
           1703648.48,
           38095549.5
          ],
          [
           813891000,
           1541235092.8738925,
           8666117700,
           45251368.550000004,
           652142997.3000001
          ],
          [
           1246000,
           1226104.3121494402,
           7279000,
           71449.8,
           1360221.9000000001
          ],
          [
           633474000,
           676583329.2571837,
           4187667700,
           25291069.6,
           509687224.6
          ],
          [
           345471000,
           219015577.78406182,
           1599386700,
           10241518.93,
           282683995.2
          ],
          [
           4178000,
           6374330.145595331,
           35452800,
           257628.25,
           4226183
          ],
          [
           10943000,
           18036139.4549891,
           91963600,
           1153108.23,
           17360306.1
          ],
          [
           26652000,
           41395986.74408322,
           236335500,
           1427365.19,
           22694737.8
          ],
          [
           280865000,
           227317034.2896682,
           1402951500,
           19857297.27,
           376134594.3
          ],
          [
           195195000,
           121261289.30433914,
           883084300.0000001,
           5521362.12,
           153713423.20000002
          ],
          [
           2705000,
           2291477.67205114,
           14532900,
           122445.92,
           2617806.8000000003
          ],
          [
           1297000,
           2059204.22094214,
           11503300,
           87596.99,
           1402763.2
          ],
          [
           40332000,
           93933813.4732329,
           501643400,
           2799964.4000000004,
           35619255.800000004
          ],
          [
           2124141000,
           3307924458.6924696,
           18976376800,
           106851982.72,
           1758435386.7
          ],
          [
           4522000,
           4846794.0025969,
           28673000,
           240800.53,
           4590156.8
          ],
          [
           3132000,
           4520105.76426109,
           24472300,
           245416.15,
           3952797
          ],
          [
           17115000,
           12721944.255967941,
           88697900,
           481253.94,
           12398171.700000001
          ],
          [
           8125000,
           28315273.977676682,
           146291900,
           922737.3400000001,
           9702669.4
          ],
          [
           871550000,
           942206569.1998347,
           5806292000,
           37582426.14,
           760154626
          ],
          [
           372077000,
           217365510.55229732,
           1634829200.0000002,
           10919813.530000001,
           303015865.7
          ],
          [
           241936000,
           277132891.9663847,
           1600156900,
           17769084.7,
           313976851.7
          ],
          [
           4255700000,
           5191132580.603019,
           27839761000,
           432803835.19,
           7691129773
          ],
          [
           27553000,
           43882749.39721595,
           230460700,
           3208678.83,
           49439485.3
          ],
          [
           33168000,
           57084112.31781651,
           305062300,
           3273692.3200000003,
           49286586.5
          ],
          [
           7339000,
           10915542.00310524,
           55299200,
           951821.25,
           14863619
          ],
          [
           466351000,
           511718545.6541675,
           3172247000,
           18115365.150000002,
           367562555.6
          ],
          [
           3315000,
           1656642.1690150201,
           12624000,
           125459.56999999999,
           3224835
          ],
          [
           54034000,
           50269582.47955635,
           325519500,
           1832409.3800000001,
           41487398.300000004
          ],
          [
           151287000,
           132591815.51635504,
           852732800,
           6674689.22,
           142577758.6
          ],
          [
           16882000,
           11724553.84071693,
           77952500,
           770918.72,
           17298403.9
          ],
          [
           3058506000,
           1999966676.2540257,
           14414724700,
           95225844.94,
           2563965651
          ],
          [
           3251000,
           2792620.9127658303,
           18444900,
           94883.90000000001,
           2212384
          ],
          [
           1095000,
           797837.37470403,
           5235300,
           48358.21,
           1082444.7
          ],
          [
           332705000,
           178298839.02577105,
           1358792000,
           11554523.07,
           302535798.2
          ],
          [
           64738000,
           64974479.116973855,
           397906000,
           2694219.98,
           55469830.300000004
          ],
          [
           278959000,
           139424336.24274102,
           1107677800,
           6093738.32,
           193898206.20000002
          ],
          [
           150546000,
           129318782.12032458,
           845913300,
           5674086.62,
           128018597.60000001
          ],
          [
           395411000,
           449320887.4495354,
           2701674500,
           20002514.72,
           371679345.1
          ],
          [
           1022147000,
           762037894.6024129,
           5022223200,
           47144903.69,
           1051396601.9
          ],
          [
           276150000,
           154428603.17194134,
           1162227300,
           9622102.3,
           248852875.70000002
          ],
          [
           9546000,
           8884509.20618242,
           54420000,
           538601.71,
           10346665.8
          ],
          [
           2447754000,
           1815447457.646669,
           12502611000,
           81568181.49000001,
           2022356923.1000001
          ],
          [
           6138000,
           11693029.40329507,
           60123200,
           702603.13,
           10292618.8
          ],
          [
           1942925000,
           1472750218.4840817,
           9898579400,
           75110733.93,
           1740548100.4
          ],
          [
           35922000,
           48474389.91559054,
           237070100,
           5622457.38,
           88372528.2
          ],
          [
           13223000,
           21374330.10339427,
           117305100,
           1165164.87,
           17978622.1
          ],
          [
           3939000,
           4328638.49387292,
           24708700,
           339159.63,
           5849312.4
          ],
          [
           2842000,
           3541155.2859291504,
           21029700,
           152156.34,
           2926195.5
          ],
          [
           299959000,
           220826182.83728033,
           1498713800,
           11241498.67,
           263029638.8
          ],
          [
           1314000,
           1109569.49228971,
           6888300,
           69508.26,
           1412251.8
          ],
          [
           51590000,
           49018462.94837843,
           308958400,
           1802769.31,
           39901036.5
          ],
          [
           8564000,
           6298864.84786515,
           39913000,
           488832.69,
           9912473.700000001
          ],
          [
           51842000,
           39875897.93057174,
           270920700,
           1555063.71,
           39090233.800000004
          ],
          [
           16459000,
           25275410.27775498,
           143462400,
           991047.55,
           16523769.1
          ],
          [
           282846000,
           215621599.29515907,
           1447097600,
           10781916.64,
           261525107.70000002
          ],
          [
           374674000,
           512007965.4125266,
           2600386600,
           49457739.49,
           789837639.4
          ],
          [
           6111307000,
           2645252971.2239747,
           22718280600,
           135462981.73,
           4492920791.1
          ],
          [
           220679000,
           117739134.02908838,
           917439800.0000001,
           5602520.17,
           168327832.70000002
          ],
          [
           511399000,
           330363890.7079601,
           2307078900,
           15561780.700000001,
           393645425.3
          ],
          [
           94391000,
           70737940.30200444,
           478600100.00000006,
           2650152.83,
           66784475.300000004
          ],
          [
           13680000,
           6678831.68387518,
           50795400.00000001,
           557375.16,
           13458949.7
          ],
          [
           128346000,
           111393180.53345825,
           704721000,
           5180235.49,
           110979953.3
          ],
          [
           1916063000,
           1495163009.2669103,
           10138128900,
           65765306.330000006,
           1593453149
          ],
          [
           30229000,
           26409038.33677388,
           161684400,
           1448191.1300000001,
           29438193.6
          ],
          [
           33861000,
           23818739.87392896,
           158009900,
           1013052.91,
           24881175.8
          ],
          [
           1603602000,
           1566954243.4578333,
           8753626600,
           159593320.64,
           2805828035.1
          ],
          [
           245473000,
           208022175.95510685,
           1402228000,
           7478111.44,
           179775165.3
          ],
          [
           18995000,
           42224412.33536789,
           209384200,
           3098687.7600000002,
           45397031
          ],
          [
           431000,
           590272.64193762,
           2884500,
           68083.94,
           1092069.7
          ],
          [
           535000,
           545298.63386119,
           3168000,
           32594.88,
           599603.3
          ],
          [
           39050000,
           56041987.19151215,
           275090300,
           6248080.42,
           100621070.9
          ],
          [
           32635000,
           21084015.928232282,
           142827100,
           916176.73,
           23362488.5
          ],
          [
           6908000,
           19255941.24189277,
           95832700,
           1082159.36,
           14700294.6
          ],
          [
           38341000,
           38473380.05210545,
           238949100,
           1402535.8800000001,
           29279922.5
          ],
          [
           3142000,
           4111799.84105979,
           21447100,
           332328.62,
           5459957.7
          ],
          [
           1795000,
           1823084.4782066,
           10596100,
           94085.94,
           1807289.8
          ],
          [
           69876000,
           54695807.10369166,
           338225600,
           5005512.89,
           95504212.4
          ],
          [
           5078000,
           7881665.431757861,
           45221800,
           237451.48,
           3807238.6
          ],
          [
           148834000,
           138743051.7604643,
           851789400,
           7260063.54,
           142337709.3
          ],
          [
           63474000,
           102878074.39285241,
           584114000,
           3833449.4,
           61008961.2
          ],
          [
           2486000,
           2399557.9340733998,
           12159700,
           365065.51,
           6062605.7
          ],
          [
           1123492000,
           1163033657.705382,
           7175887200,
           48609440.480000004,
           994826851.5
          ],
          [
           73148000,
           61958960.88940904,
           405727000,
           2769245.32,
           60472735.300000004
          ],
          [
           9182000,
           8716786.37139802,
           55176700,
           415079.35,
           8677293.6
          ],
          [
           139115000,
           166529577.49531093,
           890152700,
           14419687.120000001,
           241795418.5
          ],
          [
           40038000,
           41323036.098619394,
           258298600,
           1207524.75,
           24463367.3
          ],
          [
           20054000,
           28340137.76599014,
           156970800,
           1570329.4,
           26452531.1
          ],
          [
           37953000,
           20286403.29498915,
           156103900,
           1045868.4600000001,
           29175327.400000002
          ],
          [
           13115000,
           9037803.3359076,
           60920400,
           526036.01,
           12006405.6
          ],
          [
           10743000,
           16887709.77531025,
           89125500,
           1158876.2,
           18132838.8
          ],
          [
           170788000,
           174292393.69323507,
           938121100,
           16357688.81,
           283964292.9
          ],
          [
           14723000,
           15297422.56417077,
           90089700,
           991736.48,
           17800285.7
          ],
          [
           3274000,
           3505152.46561521,
           20927500,
           174344.57,
           3301329
          ],
          [
           58068000,
           61436879.20642457,
           387388500,
           1932436.6500000001,
           40134155
          ],
          [
           176774000,
           278430392.9992481,
           1465952200,
           19170131.44,
           294420089.9
          ],
          [
           38481000,
           29361905.27139996,
           201601300,
           1080678.1,
           28039604.400000002
          ],
          [
           926921000,
           458186380.2060695,
           3687374600.0000005,
           24001429.5,
           730838731.9
          ],
          [
           216024000,
           152551838.44104764,
           977566300,
           15144284.21,
           297909982.2
          ],
          [
           107873000,
           102537108.52241023,
           671595900,
           3299191.2,
           75799155.4
          ],
          [
           174266000,
           135806530.55506063,
           921777100,
           5337074.22,
           130514536.7
          ],
          [
           1694117000,
           820675056.0323458,
           6781255900,
           32158391.970000003,
           1130804882.2
          ],
          [
           25793000,
           45878542.65771348,
           249211000,
           2056655.07,
           31005154.2
          ],
          [
           184880000,
           152705737.36516997,
           929998900,
           12940737.64,
           246189355.4
          ],
          [
           290466000,
           368711636.98472416,
           1928690800,
           34650343.45,
           580292528.8
          ],
          [
           1426557000,
           732419317.455742,
           5813783500,
           35794642.19,
           1117262929.1
          ],
          [
           208076000,
           183604593.31524917,
           1135421500,
           12413599.14,
           246496413
          ],
          [
           40394000,
           89888954.31121342,
           492551500,
           2784362.12,
           38959899.2
          ],
          [
           2709000,
           4616554.22453237,
           24878400,
           218444.34,
           3330364.5
          ],
          [
           307764000,
           401666005.459567,
           2149463000,
           33946536.14,
           565805220.3
          ],
          [
           527881000,
           286075037.51162726,
           2199939100,
           13573950.93,
           411237587.40000004
          ],
          [
           11646000,
           12424633.65981344,
           78041900,
           444252.68,
           9092582.9
          ],
          [
           166207000,
           113786733.76726776,
           746198100,
           5275303.91,
           127181379.60000001
          ],
          [
           39997000,
           47480348.830273144,
           267949200,
           3437503.18,
           58109276.6
          ],
          [
           1211000,
           1992370.78523165,
           9914700,
           196965.45,
           3044451.8
          ],
          [
           8333000,
           10560304.52641658,
           53660100,
           1154707.96,
           18518720.1
          ],
          [
           48117000,
           35486981.12617272,
           245416600,
           1365500.03,
           35591682.7
          ],
          [
           434000,
           316204.21128928,
           1842300,
           41760.49,
           762896.4
          ],
          [
           4066000,
           4582706.55308805,
           26736300,
           214539.76,
           3974621.5
          ],
          [
           408075000,
           240803454.68049148,
           1781721400,
           14086724.65,
           363745350.5
          ],
          [
           6385000,
           11733889.91225121,
           66404500,
           342405.04000000004,
           4985061.100000001
          ],
          [
           25022000,
           41127719.31811044,
           233875600,
           1464239.56,
           22403596.8
          ],
          [
           5276000,
           8333197.43134397,
           42012000,
           644753.48,
           9860887.3
          ],
          [
           254478000,
           371559638.4448506,
           1898722000,
           31653846.240000002,
           505622124.7
          ],
          [
           1408000,
           2034487.4386947902,
           11256300,
           86537.46,
           1563089.4000000001
          ],
          [
           17198000,
           12243247.12746326,
           81559800,
           615577.43,
           14584120.3
          ],
          [
           77193000,
           51840295.66650044,
           360413800,
           2467138.34,
           60928205.5
          ],
          [
           1060236000,
           469863047.17981064,
           3939297300.0000005,
           22570883.98,
           750979021.9
          ],
          [
           104788000,
           140083870.75151607,
           814098900,
           6592661.54,
           111997463.7
          ],
          [
           77122000,
           93495139.55292669,
           547545300,
           5026664.0200000005,
           88816477.7
          ],
          [
           93713000,
           129507155.18627627,
           771717300,
           3918908.35,
           69437882
          ],
          [
           8596516000,
           10360108499.756464,
           62303882500,
           382568222.79,
           7337875475.7
          ],
          [
           1072000,
           883126.4704992501,
           5409000,
           47403.49,
           1011843.4
          ],
          [
           282321000,
           331913633.1232129,
           1975383400,
           13377484.25,
           251043436.8
          ],
          [
           192708000,
           305958991.4633341,
           1558593500,
           25428366.88,
           416049400.6
          ],
          [
           926000,
           1849748.96040522,
           9651700,
           108483.37,
           1623618.7
          ],
          [
           1155000,
           2019140.37963913,
           10210800,
           131708.52,
           1976332.8
          ],
          [
           60040000,
           50432286.29120647,
           322286000,
           2272528.27,
           49174837.4
          ],
          [
           402429000,
           536020791.9355328,
           3067721100,
           24002241.96,
           408032840.8
          ],
          [
           16914000,
           36697146.15208474,
           191665300,
           1819314.96,
           25277543.3
          ],
          [
           46017000,
           54447453.04921543,
           332478900,
           1934699.2000000002,
           37270069.4
          ]
         ],
         "geo": "geo",
         "hovertemplate": "<b>%{hovertext}</b><br><br>Yearly gas serra emissions(Tonnes)=%{customdata[1]}<br>Area Abbreviation=%{location}<br>Quantity(Tonnes)=%{marker.color}<br>Yearly TonnesCO2=%{customdata[2]}<br>Yearly Tonnes PO4 producted=%{customdata[3]}<br>Yearly water usage(Tonnes)=%{customdata[4]}<extra></extra>",
         "hovertext": [
          "Afghanistan",
          "Angola",
          "Albania",
          "United Arab Emirates",
          "Argentina",
          "Antigua and Barbuda",
          "Australia",
          "Austria",
          "Bahamas",
          "Benin",
          "Burkina Faso",
          "Bangladesh",
          "Bulgaria",
          "Belize",
          "Bermuda",
          "Bolivia (Plurinational State of)",
          "Brazil",
          "Barbados",
          "Brunei Darussalam",
          "Botswana",
          "Central African Republic",
          "Canada",
          "Switzerland",
          "Chile",
          "China, mainland",
          "Cï¿½te d'Ivoire",
          "Cameroon",
          "Congo",
          "Colombia",
          "Cabo Verde",
          "Costa Rica",
          "Cuba",
          "Cyprus",
          "Germany",
          "Djibouti",
          "Dominica",
          "Denmark",
          "Dominican Republic",
          "Algeria",
          "Ecuador",
          "Egypt",
          "Spain",
          "Finland",
          "Fiji",
          "France",
          "Gabon",
          "United Kingdom",
          "Ghana",
          "Guinea",
          "Gambia",
          "Guinea-Bissau",
          "Greece",
          "Grenada",
          "Guatemala",
          "Guyana",
          "Honduras",
          "Haiti",
          "Hungary",
          "Indonesia",
          "India",
          "Ireland",
          "Iran (Islamic Republic of)",
          "Iraq",
          "Iceland",
          "Israel",
          "Italy",
          "Jamaica",
          "Jordan",
          "Japan",
          "Kenya",
          "Cambodia",
          "Kiribati",
          "Saint Kitts and Nevis",
          "Democratic People's Republic of Korea",
          "Kuwait",
          "Lao People's Democratic Republic",
          "Lebanon",
          "Liberia",
          "Saint Lucia",
          "Sri Lanka",
          "Lesotho",
          "Morocco",
          "Madagascar",
          "Maldives",
          "Mexico",
          "Mali",
          "Malta",
          "Myanmar",
          "Mongolia",
          "Mozambique",
          "Mauritania",
          "Mauritius",
          "Malawi",
          "Malaysia",
          "Namibia",
          "New Caledonia",
          "Niger",
          "Nigeria",
          "Nicaragua",
          "Netherlands",
          "Norway",
          "Nepal",
          "New Zealand",
          "Pakistan",
          "Panama",
          "Peru",
          "Philippines",
          "Poland",
          "Portugal",
          "Paraguay",
          "French Polynesia",
          "Republic of Korea",
          "Romania",
          "Rwanda",
          "Saudi Arabia",
          "Senegal",
          "Solomon Islands",
          "Sierra Leone",
          "El Salvador",
          "Sao Tome and Principe",
          "Suriname",
          "Sweden",
          "Swaziland",
          "Chad",
          "Togo",
          "Thailand",
          "Timor-Leste",
          "Trinidad and Tobago",
          "Tunisia",
          "Turkey",
          "United Republic of Tanzania",
          "Uganda",
          "Uruguay",
          "United States of America",
          "Saint Vincent and the Grenadines",
          "Venezuela (Bolivarian Republic of)",
          "Viet Nam",
          "Vanuatu",
          "Samoa",
          "Yemen",
          "South Africa",
          "Zambia",
          "Zimbabwe"
         ],
         "legendgroup": "",
         "locations": [
          "AFG",
          "AGO",
          "ALB",
          "ARE",
          "ARG",
          "ATG",
          "AUS",
          "AUT",
          "AZE",
          "BEN",
          "BFA",
          "BGD",
          "BGR",
          "BLZ",
          "BMU",
          "BOL",
          "BRA",
          "BRB",
          "BRN",
          "BWA",
          "CAF",
          "CAN",
          "CHE",
          "CHL",
          "CHN",
          "CIV",
          "CMR",
          "COD",
          "COL",
          "CPV",
          "CRI",
          "CUB",
          "CYP",
          "DEU",
          "DJI",
          "DMA",
          "DNK",
          "DOM",
          "DZA",
          "ECU",
          "EGY",
          "ESP",
          "FIN",
          "FJI",
          "FRA",
          "GAB",
          "GBR",
          "GHA",
          "GIN",
          "GMB",
          "GNB",
          "GRC",
          "GRD",
          "GTM",
          "GUY",
          "HND",
          "HTI",
          "HUN",
          "IDN",
          "IND",
          "IRL",
          "IRN",
          "IRQ",
          "ISL",
          "ISR",
          "ITA",
          "JAM",
          "JOR",
          "JPN",
          "KEN",
          "KHM",
          "KIR",
          "KNA",
          "KOR",
          "KWT",
          "LAO",
          "LBN",
          "LBR",
          "LCA",
          "LKA",
          "LSO",
          "MAR",
          "MDG",
          "MDV",
          "MEX",
          "MLI",
          "MLT",
          "MMR",
          "MNG",
          "MOZ",
          "MRT",
          "MUS",
          "MWI",
          "MYS",
          "NAM",
          "NCL",
          "NER",
          "NGA",
          "NIC",
          "NLD",
          "NOR",
          "NPL",
          "NZL",
          "PAK",
          "PAN",
          "PER",
          "PHL",
          "POL",
          "PRT",
          "PRY",
          "PYF",
          "QAT",
          "ROU",
          "RWA",
          "SAU",
          "SEN",
          "SLB",
          "SLE",
          "SLV",
          "STP",
          "SUR",
          "SWE",
          "SWZ",
          "TCD",
          "TGO",
          "THA",
          "TLS",
          "TTO",
          "TUN",
          "TUR",
          "TZA",
          "UGA",
          "URY",
          "USA",
          "VCT",
          "VEN",
          "VNM",
          "VUT",
          "WSM",
          "YEM",
          "ZAF",
          "ZMB",
          "ZWE"
         ],
         "marker": {
          "color": [
           129630000,
           44889000,
           65077000,
           46089000,
           813891000,
           1246000,
           633474000,
           345471000,
           4178000,
           10943000,
           26652000,
           280865000,
           195195000,
           2705000,
           1297000,
           40332000,
           2124141000,
           4522000,
           3132000,
           17115000,
           8125000,
           871550000,
           372077000,
           241936000,
           4255700000,
           27553000,
           33168000,
           7339000,
           466351000,
           3315000,
           54034000,
           151287000,
           16882000,
           3058506000,
           3251000,
           1095000,
           332705000,
           64738000,
           278959000,
           150546000,
           395411000,
           1022147000,
           276150000,
           9546000,
           2447754000,
           6138000,
           1942925000,
           35922000,
           13223000,
           3939000,
           2842000,
           299959000,
           1314000,
           51590000,
           8564000,
           51842000,
           16459000,
           282846000,
           374674000,
           6111307000,
           220679000,
           511399000,
           94391000,
           13680000,
           128346000,
           1916063000,
           30229000,
           33861000,
           1603602000,
           245473000,
           18995000,
           431000,
           535000,
           39050000,
           32635000,
           6908000,
           38341000,
           3142000,
           1795000,
           69876000,
           5078000,
           148834000,
           63474000,
           2486000,
           1123492000,
           73148000,
           9182000,
           139115000,
           40038000,
           20054000,
           37953000,
           13115000,
           10743000,
           170788000,
           14723000,
           3274000,
           58068000,
           176774000,
           38481000,
           926921000,
           216024000,
           107873000,
           174266000,
           1694117000,
           25793000,
           184880000,
           290466000,
           1426557000,
           208076000,
           40394000,
           2709000,
           307764000,
           527881000,
           11646000,
           166207000,
           39997000,
           1211000,
           8333000,
           48117000,
           434000,
           4066000,
           408075000,
           6385000,
           25022000,
           5276000,
           254478000,
           1408000,
           17198000,
           77193000,
           1060236000,
           104788000,
           77122000,
           93713000,
           8596516000,
           1072000,
           282321000,
           192708000,
           926000,
           1155000,
           60040000,
           402429000,
           16914000,
           46017000
          ],
          "coloraxis": "coloraxis",
          "size": [
           87521399.78979585,
           76428959.28956074,
           33885325.4972748,
           34002769.97349132,
           1541235092.8738925,
           1226104.3121494402,
           676583329.2571837,
           219015577.78406182,
           6374330.145595331,
           18036139.4549891,
           41395986.74408322,
           227317034.2896682,
           121261289.30433914,
           2291477.67205114,
           2059204.22094214,
           93933813.4732329,
           3307924458.6924696,
           4846794.0025969,
           4520105.76426109,
           12721944.255967941,
           28315273.977676682,
           942206569.1998347,
           217365510.55229732,
           277132891.9663847,
           5191132580.603019,
           43882749.39721595,
           57084112.31781651,
           10915542.00310524,
           511718545.6541675,
           1656642.1690150201,
           50269582.47955635,
           132591815.51635504,
           11724553.84071693,
           1999966676.2540257,
           2792620.9127658303,
           797837.37470403,
           178298839.02577105,
           64974479.116973855,
           139424336.24274102,
           129318782.12032458,
           449320887.4495354,
           762037894.6024129,
           154428603.17194134,
           8884509.20618242,
           1815447457.646669,
           11693029.40329507,
           1472750218.4840817,
           48474389.91559054,
           21374330.10339427,
           4328638.49387292,
           3541155.2859291504,
           220826182.83728033,
           1109569.49228971,
           49018462.94837843,
           6298864.84786515,
           39875897.93057174,
           25275410.27775498,
           215621599.29515907,
           512007965.4125266,
           2645252971.2239747,
           117739134.02908838,
           330363890.7079601,
           70737940.30200444,
           6678831.68387518,
           111393180.53345825,
           1495163009.2669103,
           26409038.33677388,
           23818739.87392896,
           1566954243.4578333,
           208022175.95510685,
           42224412.33536789,
           590272.64193762,
           545298.63386119,
           56041987.19151215,
           21084015.928232282,
           19255941.24189277,
           38473380.05210545,
           4111799.84105979,
           1823084.4782066,
           54695807.10369166,
           7881665.431757861,
           138743051.7604643,
           102878074.39285241,
           2399557.9340733998,
           1163033657.705382,
           61958960.88940904,
           8716786.37139802,
           166529577.49531093,
           41323036.098619394,
           28340137.76599014,
           20286403.29498915,
           9037803.3359076,
           16887709.77531025,
           174292393.69323507,
           15297422.56417077,
           3505152.46561521,
           61436879.20642457,
           278430392.9992481,
           29361905.27139996,
           458186380.2060695,
           152551838.44104764,
           102537108.52241023,
           135806530.55506063,
           820675056.0323458,
           45878542.65771348,
           152705737.36516997,
           368711636.98472416,
           732419317.455742,
           183604593.31524917,
           89888954.31121342,
           4616554.22453237,
           401666005.459567,
           286075037.51162726,
           12424633.65981344,
           113786733.76726776,
           47480348.830273144,
           1992370.78523165,
           10560304.52641658,
           35486981.12617272,
           316204.21128928,
           4582706.55308805,
           240803454.68049148,
           11733889.91225121,
           41127719.31811044,
           8333197.43134397,
           371559638.4448506,
           2034487.4386947902,
           12243247.12746326,
           51840295.66650044,
           469863047.17981064,
           140083870.75151607,
           93495139.55292669,
           129507155.18627627,
           10360108499.756464,
           883126.4704992501,
           331913633.1232129,
           305958991.4633341,
           1849748.96040522,
           2019140.37963913,
           50432286.29120647,
           536020791.9355328,
           36697146.15208474,
           54447453.04921543
          ],
          "sizemode": "area",
          "sizeref": 25900271.24939116,
          "symbol": "circle"
         },
         "mode": "markers",
         "name": "",
         "showlegend": false,
         "type": "scattergeo"
        }
       ],
       "layout": {
        "coloraxis": {
         "colorbar": {
          "title": {
           "text": "Quantity(Tonnes)"
          }
         },
         "colorscale": [
          [
           0,
           "#0d0887"
          ],
          [
           0.1111111111111111,
           "#46039f"
          ],
          [
           0.2222222222222222,
           "#7201a8"
          ],
          [
           0.3333333333333333,
           "#9c179e"
          ],
          [
           0.4444444444444444,
           "#bd3786"
          ],
          [
           0.5555555555555556,
           "#d8576b"
          ],
          [
           0.6666666666666666,
           "#ed7953"
          ],
          [
           0.7777777777777778,
           "#fb9f3a"
          ],
          [
           0.8888888888888888,
           "#fdca26"
          ],
          [
           1,
           "#f0f921"
          ]
         ]
        },
        "geo": {
         "center": {},
         "domain": {
          "x": [
           0,
           1
          ],
          "y": [
           0,
           1
          ]
         },
         "projection": {
          "type": "natural earth"
         }
        },
        "height": 600,
        "legend": {
         "itemsizing": "constant",
         "tracegroupgap": 0
        },
        "template": {
         "data": {
          "bar": [
           {
            "error_x": {
             "color": "#2a3f5f"
            },
            "error_y": {
             "color": "#2a3f5f"
            },
            "marker": {
             "line": {
              "color": "#E5ECF6",
              "width": 0.5
             },
             "pattern": {
              "fillmode": "overlay",
              "size": 10,
              "solidity": 0.2
             }
            },
            "type": "bar"
           }
          ],
          "barpolar": [
           {
            "marker": {
             "line": {
              "color": "#E5ECF6",
              "width": 0.5
             },
             "pattern": {
              "fillmode": "overlay",
              "size": 10,
              "solidity": 0.2
             }
            },
            "type": "barpolar"
           }
          ],
          "carpet": [
           {
            "aaxis": {
             "endlinecolor": "#2a3f5f",
             "gridcolor": "white",
             "linecolor": "white",
             "minorgridcolor": "white",
             "startlinecolor": "#2a3f5f"
            },
            "baxis": {
             "endlinecolor": "#2a3f5f",
             "gridcolor": "white",
             "linecolor": "white",
             "minorgridcolor": "white",
             "startlinecolor": "#2a3f5f"
            },
            "type": "carpet"
           }
          ],
          "choropleth": [
           {
            "colorbar": {
             "outlinewidth": 0,
             "ticks": ""
            },
            "type": "choropleth"
           }
          ],
          "contour": [
           {
            "colorbar": {
             "outlinewidth": 0,
             "ticks": ""
            },
            "colorscale": [
             [
              0,
              "#0d0887"
             ],
             [
              0.1111111111111111,
              "#46039f"
             ],
             [
              0.2222222222222222,
              "#7201a8"
             ],
             [
              0.3333333333333333,
              "#9c179e"
             ],
             [
              0.4444444444444444,
              "#bd3786"
             ],
             [
              0.5555555555555556,
              "#d8576b"
             ],
             [
              0.6666666666666666,
              "#ed7953"
             ],
             [
              0.7777777777777778,
              "#fb9f3a"
             ],
             [
              0.8888888888888888,
              "#fdca26"
             ],
             [
              1,
              "#f0f921"
             ]
            ],
            "type": "contour"
           }
          ],
          "contourcarpet": [
           {
            "colorbar": {
             "outlinewidth": 0,
             "ticks": ""
            },
            "type": "contourcarpet"
           }
          ],
          "heatmap": [
           {
            "colorbar": {
             "outlinewidth": 0,
             "ticks": ""
            },
            "colorscale": [
             [
              0,
              "#0d0887"
             ],
             [
              0.1111111111111111,
              "#46039f"
             ],
             [
              0.2222222222222222,
              "#7201a8"
             ],
             [
              0.3333333333333333,
              "#9c179e"
             ],
             [
              0.4444444444444444,
              "#bd3786"
             ],
             [
              0.5555555555555556,
              "#d8576b"
             ],
             [
              0.6666666666666666,
              "#ed7953"
             ],
             [
              0.7777777777777778,
              "#fb9f3a"
             ],
             [
              0.8888888888888888,
              "#fdca26"
             ],
             [
              1,
              "#f0f921"
             ]
            ],
            "type": "heatmap"
           }
          ],
          "heatmapgl": [
           {
            "colorbar": {
             "outlinewidth": 0,
             "ticks": ""
            },
            "colorscale": [
             [
              0,
              "#0d0887"
             ],
             [
              0.1111111111111111,
              "#46039f"
             ],
             [
              0.2222222222222222,
              "#7201a8"
             ],
             [
              0.3333333333333333,
              "#9c179e"
             ],
             [
              0.4444444444444444,
              "#bd3786"
             ],
             [
              0.5555555555555556,
              "#d8576b"
             ],
             [
              0.6666666666666666,
              "#ed7953"
             ],
             [
              0.7777777777777778,
              "#fb9f3a"
             ],
             [
              0.8888888888888888,
              "#fdca26"
             ],
             [
              1,
              "#f0f921"
             ]
            ],
            "type": "heatmapgl"
           }
          ],
          "histogram": [
           {
            "marker": {
             "pattern": {
              "fillmode": "overlay",
              "size": 10,
              "solidity": 0.2
             }
            },
            "type": "histogram"
           }
          ],
          "histogram2d": [
           {
            "colorbar": {
             "outlinewidth": 0,
             "ticks": ""
            },
            "colorscale": [
             [
              0,
              "#0d0887"
             ],
             [
              0.1111111111111111,
              "#46039f"
             ],
             [
              0.2222222222222222,
              "#7201a8"
             ],
             [
              0.3333333333333333,
              "#9c179e"
             ],
             [
              0.4444444444444444,
              "#bd3786"
             ],
             [
              0.5555555555555556,
              "#d8576b"
             ],
             [
              0.6666666666666666,
              "#ed7953"
             ],
             [
              0.7777777777777778,
              "#fb9f3a"
             ],
             [
              0.8888888888888888,
              "#fdca26"
             ],
             [
              1,
              "#f0f921"
             ]
            ],
            "type": "histogram2d"
           }
          ],
          "histogram2dcontour": [
           {
            "colorbar": {
             "outlinewidth": 0,
             "ticks": ""
            },
            "colorscale": [
             [
              0,
              "#0d0887"
             ],
             [
              0.1111111111111111,
              "#46039f"
             ],
             [
              0.2222222222222222,
              "#7201a8"
             ],
             [
              0.3333333333333333,
              "#9c179e"
             ],
             [
              0.4444444444444444,
              "#bd3786"
             ],
             [
              0.5555555555555556,
              "#d8576b"
             ],
             [
              0.6666666666666666,
              "#ed7953"
             ],
             [
              0.7777777777777778,
              "#fb9f3a"
             ],
             [
              0.8888888888888888,
              "#fdca26"
             ],
             [
              1,
              "#f0f921"
             ]
            ],
            "type": "histogram2dcontour"
           }
          ],
          "mesh3d": [
           {
            "colorbar": {
             "outlinewidth": 0,
             "ticks": ""
            },
            "type": "mesh3d"
           }
          ],
          "parcoords": [
           {
            "line": {
             "colorbar": {
              "outlinewidth": 0,
              "ticks": ""
             }
            },
            "type": "parcoords"
           }
          ],
          "pie": [
           {
            "automargin": true,
            "type": "pie"
           }
          ],
          "scatter": [
           {
            "fillpattern": {
             "fillmode": "overlay",
             "size": 10,
             "solidity": 0.2
            },
            "type": "scatter"
           }
          ],
          "scatter3d": [
           {
            "line": {
             "colorbar": {
              "outlinewidth": 0,
              "ticks": ""
             }
            },
            "marker": {
             "colorbar": {
              "outlinewidth": 0,
              "ticks": ""
             }
            },
            "type": "scatter3d"
           }
          ],
          "scattercarpet": [
           {
            "marker": {
             "colorbar": {
              "outlinewidth": 0,
              "ticks": ""
             }
            },
            "type": "scattercarpet"
           }
          ],
          "scattergeo": [
           {
            "marker": {
             "colorbar": {
              "outlinewidth": 0,
              "ticks": ""
             }
            },
            "type": "scattergeo"
           }
          ],
          "scattergl": [
           {
            "marker": {
             "colorbar": {
              "outlinewidth": 0,
              "ticks": ""
             }
            },
            "type": "scattergl"
           }
          ],
          "scattermapbox": [
           {
            "marker": {
             "colorbar": {
              "outlinewidth": 0,
              "ticks": ""
             }
            },
            "type": "scattermapbox"
           }
          ],
          "scatterpolar": [
           {
            "marker": {
             "colorbar": {
              "outlinewidth": 0,
              "ticks": ""
             }
            },
            "type": "scatterpolar"
           }
          ],
          "scatterpolargl": [
           {
            "marker": {
             "colorbar": {
              "outlinewidth": 0,
              "ticks": ""
             }
            },
            "type": "scatterpolargl"
           }
          ],
          "scatterternary": [
           {
            "marker": {
             "colorbar": {
              "outlinewidth": 0,
              "ticks": ""
             }
            },
            "type": "scatterternary"
           }
          ],
          "surface": [
           {
            "colorbar": {
             "outlinewidth": 0,
             "ticks": ""
            },
            "colorscale": [
             [
              0,
              "#0d0887"
             ],
             [
              0.1111111111111111,
              "#46039f"
             ],
             [
              0.2222222222222222,
              "#7201a8"
             ],
             [
              0.3333333333333333,
              "#9c179e"
             ],
             [
              0.4444444444444444,
              "#bd3786"
             ],
             [
              0.5555555555555556,
              "#d8576b"
             ],
             [
              0.6666666666666666,
              "#ed7953"
             ],
             [
              0.7777777777777778,
              "#fb9f3a"
             ],
             [
              0.8888888888888888,
              "#fdca26"
             ],
             [
              1,
              "#f0f921"
             ]
            ],
            "type": "surface"
           }
          ],
          "table": [
           {
            "cells": {
             "fill": {
              "color": "#EBF0F8"
             },
             "line": {
              "color": "white"
             }
            },
            "header": {
             "fill": {
              "color": "#C8D4E3"
             },
             "line": {
              "color": "white"
             }
            },
            "type": "table"
           }
          ]
         },
         "layout": {
          "annotationdefaults": {
           "arrowcolor": "#2a3f5f",
           "arrowhead": 0,
           "arrowwidth": 1
          },
          "autotypenumbers": "strict",
          "coloraxis": {
           "colorbar": {
            "outlinewidth": 0,
            "ticks": ""
           }
          },
          "colorscale": {
           "diverging": [
            [
             0,
             "#8e0152"
            ],
            [
             0.1,
             "#c51b7d"
            ],
            [
             0.2,
             "#de77ae"
            ],
            [
             0.3,
             "#f1b6da"
            ],
            [
             0.4,
             "#fde0ef"
            ],
            [
             0.5,
             "#f7f7f7"
            ],
            [
             0.6,
             "#e6f5d0"
            ],
            [
             0.7,
             "#b8e186"
            ],
            [
             0.8,
             "#7fbc41"
            ],
            [
             0.9,
             "#4d9221"
            ],
            [
             1,
             "#276419"
            ]
           ],
           "sequential": [
            [
             0,
             "#0d0887"
            ],
            [
             0.1111111111111111,
             "#46039f"
            ],
            [
             0.2222222222222222,
             "#7201a8"
            ],
            [
             0.3333333333333333,
             "#9c179e"
            ],
            [
             0.4444444444444444,
             "#bd3786"
            ],
            [
             0.5555555555555556,
             "#d8576b"
            ],
            [
             0.6666666666666666,
             "#ed7953"
            ],
            [
             0.7777777777777778,
             "#fb9f3a"
            ],
            [
             0.8888888888888888,
             "#fdca26"
            ],
            [
             1,
             "#f0f921"
            ]
           ],
           "sequentialminus": [
            [
             0,
             "#0d0887"
            ],
            [
             0.1111111111111111,
             "#46039f"
            ],
            [
             0.2222222222222222,
             "#7201a8"
            ],
            [
             0.3333333333333333,
             "#9c179e"
            ],
            [
             0.4444444444444444,
             "#bd3786"
            ],
            [
             0.5555555555555556,
             "#d8576b"
            ],
            [
             0.6666666666666666,
             "#ed7953"
            ],
            [
             0.7777777777777778,
             "#fb9f3a"
            ],
            [
             0.8888888888888888,
             "#fdca26"
            ],
            [
             1,
             "#f0f921"
            ]
           ]
          },
          "colorway": [
           "#636efa",
           "#EF553B",
           "#00cc96",
           "#ab63fa",
           "#FFA15A",
           "#19d3f3",
           "#FF6692",
           "#B6E880",
           "#FF97FF",
           "#FECB52"
          ],
          "font": {
           "color": "#2a3f5f"
          },
          "geo": {
           "bgcolor": "white",
           "lakecolor": "white",
           "landcolor": "#E5ECF6",
           "showlakes": true,
           "showland": true,
           "subunitcolor": "white"
          },
          "hoverlabel": {
           "align": "left"
          },
          "hovermode": "closest",
          "mapbox": {
           "style": "light"
          },
          "paper_bgcolor": "white",
          "plot_bgcolor": "#E5ECF6",
          "polar": {
           "angularaxis": {
            "gridcolor": "white",
            "linecolor": "white",
            "ticks": ""
           },
           "bgcolor": "#E5ECF6",
           "radialaxis": {
            "gridcolor": "white",
            "linecolor": "white",
            "ticks": ""
           }
          },
          "scene": {
           "xaxis": {
            "backgroundcolor": "#E5ECF6",
            "gridcolor": "white",
            "gridwidth": 2,
            "linecolor": "white",
            "showbackground": true,
            "ticks": "",
            "zerolinecolor": "white"
           },
           "yaxis": {
            "backgroundcolor": "#E5ECF6",
            "gridcolor": "white",
            "gridwidth": 2,
            "linecolor": "white",
            "showbackground": true,
            "ticks": "",
            "zerolinecolor": "white"
           },
           "zaxis": {
            "backgroundcolor": "#E5ECF6",
            "gridcolor": "white",
            "gridwidth": 2,
            "linecolor": "white",
            "showbackground": true,
            "ticks": "",
            "zerolinecolor": "white"
           }
          },
          "shapedefaults": {
           "line": {
            "color": "#2a3f5f"
           }
          },
          "ternary": {
           "aaxis": {
            "gridcolor": "white",
            "linecolor": "white",
            "ticks": ""
           },
           "baxis": {
            "gridcolor": "white",
            "linecolor": "white",
            "ticks": ""
           },
           "bgcolor": "#E5ECF6",
           "caxis": {
            "gridcolor": "white",
            "linecolor": "white",
            "ticks": ""
           }
          },
          "title": {
           "x": 0.05
          },
          "xaxis": {
           "automargin": true,
           "gridcolor": "white",
           "linecolor": "white",
           "ticks": "",
           "title": {
            "standoff": 15
           },
           "zerolinecolor": "white",
           "zerolinewidth": 2
          },
          "yaxis": {
           "automargin": true,
           "gridcolor": "white",
           "linecolor": "white",
           "ticks": "",
           "title": {
            "standoff": 15
           },
           "zerolinecolor": "white",
           "zerolinewidth": 2
          }
         }
        },
        "title": {
         "text": "Inquinamento dei prodotti a base animale dal 1961 al 2013"
        }
       }
      }
     },
     "metadata": {},
     "output_type": "display_data"
    },
    {
     "data": {
      "application/vnd.plotly.v1+json": {
       "config": {
        "plotlyServerURL": "https://plot.ly"
       },
       "data": [
        {
         "customdata": [
          [
           218138000,
           4557898.310019656,
           102907800,
           764098.29,
           45739074.2
          ],
          [
           244289000,
           42845021.23627304,
           222449500,
           454474.66,
           15166532.5
          ],
          [
           58940000,
           1423615.158414498,
           25817900,
           158244.59,
           8388052.4
          ],
          [
           53235000,
           2856341.986793495,
           51856600,
           396397.67,
           24525806.6
          ],
          [
           575652000,
           17264013.067487113,
           346475500,
           1827895.23,
           64744734.8
          ],
          [
           911000,
           15328.249402147001,
           604200,
           3347.87,
           195905.4
          ],
          [
           367891000,
           13922754.347158317,
           243949000,
           1634570.0699999998,
           63535607.4
          ],
          [
           204127000,
           5774165.676775247,
           131597400.00000001,
           858968.99,
           29826797.9
          ],
          [
           4175000,
           186000.629976475,
           3684300,
           23233.88,
           1187237.3
          ],
          [
           82339000,
           14641633.212346664,
           99850600,
           387982.39999999997,
           23726290.1
          ],
          [
           36465000,
           3680162.725142841,
           61791400,
           475406.83999999997,
           31563952.9
          ],
          [
           1303802000,
           162269246.63465628,
           3803776300,
           32596556.54,
           2050020585.4
          ],
          [
           244126000,
           5489794.342425643,
           93807700,
           540114.87,
           25103862.3
          ],
          [
           1722000,
           69483.795657736,
           1800500,
           13818.1,
           787884.9
          ],
          [
           1086000,
           13847.950951448,
           557700,
           2346.06,
           107211.8
          ],
          [
           97236000,
           6804173.058460471,
           80378000,
           554088.2,
           28152813.1
          ],
          [
           2962940000,
           490455677.0985498,
           4188941500,
           23280941.01,
           1029119687.4
          ],
          [
           3121000,
           118655.39433659399,
           2401900,
           17939.44,
           964082.8
          ],
          [
           3560000,
           269545.402978632,
           6544100,
           48797.64,
           2901695.7
          ],
          [
           7566000,
           228093.43698054,
           6133100,
           43401.71,
           1897161.1
          ],
          [
           45388000,
           8341954.4490425605,
           44760900,
           101564.45999999999,
           2647072.4
          ],
          [
           664273000,
           21037004.330338214,
           378657000,
           2503261.38,
           93339297.9
          ],
          [
           168874000,
           5277171.5758441705,
           125973600,
           789319.73,
           32070889.8
          ],
          [
           249904000,
           6488094.15861858,
           124595600,
           749750.13,
           30980867
          ],
          [
           22363775000,
           1255865950.404642,
           27779877800,
           213466082.06,
           12977020773.3
          ],
          [
           156758000,
           25738099.085056186,
           278964000,
           1581710.58,
           96859347.9
          ],
          [
           187297000,
           30964473.77362033,
           230157800,
           1045281.22,
           52755635.5
          ],
          [
           51697000,
           9287525.579020945,
           52184400,
           117465.05,
           5057475.4
          ],
          [
           396527000,
           41224126.370139055,
           524917600,
           3246388.31,
           150269855.4
          ],
          [
           4434000,
           533503.857154006,
           6761900,
           47037.99,
           2129043.8
          ],
          [
           33639000,
           3189006.892828152,
           61293000,
           406387.82,
           19158813.4
          ],
          [
           308289000,
           57931265.40119407,
           540857900,
           3662295.89,
           159693387.2
          ],
          [
           15944000,
           511870.04154350597,
           9619600,
           61755.83,
           2807713.3
          ],
          [
           2356034000,
           93028933.52227236,
           1355722800,
           8600707.04,
           255975770.4
          ],
          [
           4603000,
           270272.213464154,
           5926500,
           41950.98,
           2447469.9
          ],
          [
           968000,
           61655.251777186,
           733900,
           4261.42,
           198896.9
          ],
          [
           189383000,
           3812046.758867344,
           94127400.00000001,
           614986.95,
           13996275.1
          ],
          [
           88355000,
           8075775.303797684,
           139119700,
           905526.97,
           44365909.9
          ],
          [
           422280000,
           10219491.414735274,
           187016000,
           1205537.15,
           37449862.1
          ],
          [
           214369000,
           39597304.75081228,
           363521000,
           2257983.79,
           98726364.4
          ],
          [
           1349865000,
           118790997.86667345,
           1297363800,
           8889604.81,
           443821745
          ],
          [
           1212207000,
           60813981.288535416,
           864789100,
           5208021.27,
           237895366.9
          ],
          [
           86454000,
           2681386.755984975,
           81177700.00000001,
           557134.91,
           9272873.3
          ],
          [
           8995000,
           727074.217968788,
           9400300,
           66812.08,
           3925147.3
          ],
          [
           1757884000,
           44135306.08109241,
           1125906800,
           6363199.93,
           208972461
          ],
          [
           15486000,
           2339496.8576272316,
           18755500,
           86765.42,
           4619628
          ],
          [
           1392052000,
           43071143.72688714,
           635375800,
           4088908.42,
           141559564.7
          ],
          [
           245066000,
           47644638.3993551,
           276114300,
           847848.09,
           44399826.5
          ],
          [
           111249000,
           14705468.8339128,
           189658500,
           1211036.16,
           68687354.2
          ],
          [
           7011000,
           1001497.9217691841,
           17235000,
           126947.91,
           8004144.3
          ],
          [
           8920000,
           1167085.086816381,
           23520800,
           183678.48,
           11961855.5
          ],
          [
           353520000,
           19575639.70258443,
           266781500,
           1639670.86,
           86662091.8
          ],
          [
           1328000,
           82580.198966062,
           1024600,
           6472.95,
           310056.9
          ],
          [
           61241000,
           3675141.275885753,
           65242300,
           399928.42,
           14300596
          ],
          [
           20741000,
           4811428.467453244,
           48663900,
           353874.65,
           17356504.8
          ],
          [
           50136000,
           8578854.445166187,
           88841300,
           493635.83,
           16938926.9
          ],
          [
           88851000,
           12404448.030080335,
           143729000,
           895368.3200000001,
           39364871.1
          ],
          [
           308129000,
           6297764.106064705,
           126253400,
           748808.79,
           25640271.9
          ],
          [
           2415681000,
           340029726.39506024,
           5794420800,
           43997701.08,
           2764117217
          ],
          [
           11411395000,
           992943792.793754,
           18080846700,
           143069155.64000002,
           8390960180.1
          ],
          [
           106709000,
           3182237.9029844906,
           35949600,
           251478.99,
           7510880.5
          ],
          [
           1260944000,
           41947992.06458517,
           745392600,
           5518052.39,
           352650706.6
          ],
          [
           350706000,
           19070145.371949017,
           296407700,
           1770950.4,
           95982636
          ],
          [
           3386000,
           88551.438509677,
           3263200.0000000005,
           21142.54,
           315008.3
          ],
          [
           131457000,
           5305336.688863067,
           82794800,
           491387.54,
           22119470.5
          ],
          [
           1769701000,
           71570211.35372967,
           1418478800,
           7899179.03,
           343477228
          ],
          [
           26884000,
           1311595.5932230281,
           23956200,
           159292.74,
           8470429.7
          ],
          [
           62085000,
           3141595.278120295,
           49544300,
           320914.95,
           16108246.5
          ],
          [
           1857681000,
           101217686.44818395,
           2621580300,
           20560520.51,
           1183239719.3
          ],
          [
           231728000,
           26868930.604927078,
           235345700,
           1212227.1,
           47038727.5
          ],
          [
           125667000,
           16559206.377149867,
           364731700,
           3033571.43,
           191269718.8
          ],
          [
           802000,
           48212.474615094005,
           940400,
           6876.82,
           406706.4
          ],
          [
           345000,
           9266.003965129,
           295800,
           2203.84,
           138367.2
          ],
          [
           342063000,
           17136734.984938923,
           448285000,
           3539721.86,
           215992000.8
          ],
          [
           33958000,
           2009680.325015783,
           35543500,
           250671.8,
           13898288.7
          ],
          [
           71698000,
           9711323.118145218,
           202055900,
           1650438.18,
           98453659.4
          ],
          [
           81360000,
           3424614.184892492,
           56554400,
           375186.82,
           19229763
          ],
          [
           41981000,
           7594385.281826707,
           79527600,
           457993.01,
           26274462
          ],
          [
           2558000,
           111290.94925053,
           1634700,
           7792.860000000001,
           409772.7
          ],
          [
           195316000,
           24115225.002752952,
           422708100,
           3416270.61,
           205407882.1
          ],
          [
           9899000,
           202744.13697639,
           3773000,
           26762.09,
           1172339.5
          ],
          [
           412630000,
           9947336.459955256,
           147531700,
           966087.32,
           44164730.8
          ],
          [
           227851000,
           35166618.906944335,
           457477200,
           3158064.2,
           183633957.6
          ],
          [
           2754000,
           125099.54974658901,
           3408500,
           27400.88,
           1810588.9
          ],
          [
           724177000,
           36239183.483542666,
           560155400,
           3251337.2,
           150502644.2
          ],
          [
           60061000,
           4377226.659537664,
           97619000,
           770370.05,
           46825754.1
          ],
          [
           8126000,
           280629.763722884,
           4769700,
           30571.71,
           1178321
          ],
          [
           609322000,
           70806521.5247469,
           1788045000,
           15247974.14,
           965361947.7
          ],
          [
           24417000,
           320874.758136397,
           5816100,
           44997.59,
           2028554.7
          ],
          [
           265603000,
           49015260.546197556,
           263464000,
           709969.47,
           34797456.2
          ],
          [
           15925000,
           1065481.3082849781,
           21628600,
           170938.13999999998,
           9898231.9
          ],
          [
           13422000,
           849850.808734455,
           18194400,
           147997.78,
           8846020.9
          ],
          [
           122442000,
           14740905.381260797,
           95120800,
           425404.83999999997,
           16988575.6
          ],
          [
           235173000,
           27564702.243384887,
           491187900,
           3637940.68,
           220200930.3
          ],
          [
           7038000,
           163058.463657642,
           4824600,
           32410.25,
           1125025
          ],
          [
           2546000,
           101669.985487195,
           2567400,
           16680.5,
           765956.4
          ],
          [
           52134000,
           5124382.4083360415,
           67672700,
           485267.37,
           22947369.7
          ],
          [
           1822483000,
           290532291.9711857,
           1947644900,
           7136843.01,
           384400910.6
          ],
          [
           20754000,
           2317384.711721426,
           41187500,
           304842.78,
           17454142.2
          ],
          [
           568707000,
           53753988.46711536,
           428486200,
           1822882.92,
           50644043.7
          ],
          [
           83302000,
           2496122.829110189,
           66682000.00000001,
           450211.52,
           10158634.9
          ],
          [
           269181000,
           25374326.86307389,
           492671800,
           4027319.07,
           237213055.6
          ],
          [
           71407000,
           2228125.2569243237,
           40182200,
           246363.29,
           10230475
          ],
          [
           1295604000,
           100893833.2986839,
           1191351700,
           7752730.57,
           377984431.5
          ],
          [
           28423000,
           3316861.090228339,
           48178900,
           352777.85,
           18743191.2
          ],
          [
           279046000,
           17782404.970127814,
           280554900,
           2059447.7,
           105203216.3
          ],
          [
           1087781000,
           116850926.89677466,
           2047599900,
           15146292.05,
           880092295.8
          ],
          [
           1802730000,
           64334854.43823665,
           593517200,
           5331990.63,
           122439094.7
          ],
          [
           296870000,
           16829927.392107874,
           241205700,
           1333489.26,
           58974601.2
          ],
          [
           182368000,
           37532407.497521386,
           211228100,
           745349.51,
           26104695
          ],
          [
           2972000,
           173635.674475318,
           3134600,
           20109.61,
           882416.7
          ],
          [
           854211000,
           42364710.814052254,
           1164702300,
           9085473.19,
           558677408.2
          ],
          [
           653550000,
           21308655.873699795,
           299010000,
           1760904.59,
           68264056.8
          ],
          [
           177388000,
           21485329.59543668,
           137081600,
           556157.44,
           19380238.5
          ],
          [
           232522000,
           14996347.350764444,
           242506300,
           1495964.35,
           77904026
          ],
          [
           67775000,
           7366641.461854174,
           134367000,
           1041502.46,
           66577521.8
          ],
          [
           2419000,
           160968.45310691601,
           4297700,
           33124.48,
           1973774
          ],
          [
           59397000,
           9184854.45726211,
           125084100,
           812136.74,
           48149864.1
          ],
          [
           35433000,
           3434871.437923993,
           46242700,
           298656.21,
           11982177.3
          ],
          [
           1627000,
           140276.4558133,
           1604800,
           9200.619999999999,
           465419.2
          ],
          [
           7458000,
           1151101.369252648,
           14912800,
           114326.03,
           6327513.9
          ],
          [
           168094000,
           5840080.882986117,
           154978600,
           1005797.13,
           22224045.9
          ],
          [
           4093000,
           189854.661746013,
           3630900,
           27458.46,
           1720719.5
          ],
          [
           29379000,
           4307841.0015696185,
           37039100,
           200735.68,
           15463678
          ],
          [
           37915000,
           6481919.970825069,
           46150900,
           173090.84,
           9215660.8
          ],
          [
           901267000,
           130204127.49713062,
           2161214100,
           16719991.21,
           1000896166.6
          ],
          [
           7229000,
           902336.4158494549,
           15176400,
           110569.69,
           6628227.3
          ],
          [
           14237000,
           599778.950262216,
           13237900,
           101461.18,
           5550926.8
          ],
          [
           185195000,
           7342910.941123122,
           96409500,
           572861.26,
           29927716.3
          ],
          [
           1814094000,
           72603858.06680624,
           885985900,
           5408463.67,
           296951076.2
          ],
          [
           413516000,
           65011928.25093508,
           423093300,
           1572395.25,
           75857239.9
          ],
          [
           214105000,
           37818794.09421994,
           214298100,
           655834.04,
           26403921.7
          ],
          [
           48399000,
           3084592.273526474,
           38059000,
           235942.84,
           9418553
          ],
          [
           4608216000,
           193024632.7538799,
           3333854400,
           21176556.62,
           815524062.1
          ],
          [
           1330000,
           88624.443026807,
           998200,
           5960.8,
           318545.4
          ],
          [
           194385000,
           14543256.28538732,
           215773200,
           1323260.97,
           54557805.4
          ],
          [
           1070357000,
           125126772.30332479,
           2496643000,
           20125646.7,
           1274348189.8
          ],
          [
           1830000,
           127734.29708598701,
           2252900,
           16252.41,
           1002119.5
          ],
          [
           2255000,
           126750.18981753601,
           2093700,
           11336.97,
           518457.60000000003
          ],
          [
           126163000,
           5905650.385154049,
           92392100,
           542661.42,
           25403322
          ],
          [
           334635000,
           11697743.49313878,
           227078700,
           1465100.96,
           68511996.8
          ],
          [
           52707000,
           7109969.70000586,
           44948800,
           126492.28,
           6348221.7
          ],
          [
           33365000,
           2913210.8444492007,
           25789600,
           126558.7,
           8468765
          ]
         ],
         "geo": "geo",
         "hovertemplate": "<b>%{hovertext}</b><br><br>Yearly gas serra emissions(Tonnes)=%{customdata[1]}<br>Area Abbreviation=%{location}<br>Quantity(Tonnes)=%{marker.color}<br>Yearly TonnesCO2=%{customdata[2]}<br>Yearly Tonnes PO4 producted=%{customdata[3]}<br>Yearly water usage(Tonnes)=%{customdata[4]}<extra></extra>",
         "hovertext": [
          "Afghanistan",
          "Angola",
          "Albania",
          "United Arab Emirates",
          "Argentina",
          "Antigua and Barbuda",
          "Australia",
          "Austria",
          "Bahamas",
          "Benin",
          "Burkina Faso",
          "Bangladesh",
          "Bulgaria",
          "Belize",
          "Bermuda",
          "Bolivia (Plurinational State of)",
          "Brazil",
          "Barbados",
          "Brunei Darussalam",
          "Botswana",
          "Central African Republic",
          "Canada",
          "Switzerland",
          "Chile",
          "China, mainland",
          "Cï¿½te d'Ivoire",
          "Cameroon",
          "Congo",
          "Colombia",
          "Cabo Verde",
          "Costa Rica",
          "Cuba",
          "Cyprus",
          "Germany",
          "Djibouti",
          "Dominica",
          "Denmark",
          "Dominican Republic",
          "Algeria",
          "Ecuador",
          "Egypt",
          "Spain",
          "Finland",
          "Fiji",
          "France",
          "Gabon",
          "United Kingdom",
          "Ghana",
          "Guinea",
          "Gambia",
          "Guinea-Bissau",
          "Greece",
          "Grenada",
          "Guatemala",
          "Guyana",
          "Honduras",
          "Haiti",
          "Hungary",
          "Indonesia",
          "India",
          "Ireland",
          "Iran (Islamic Republic of)",
          "Iraq",
          "Iceland",
          "Israel",
          "Italy",
          "Jamaica",
          "Jordan",
          "Japan",
          "Kenya",
          "Cambodia",
          "Kiribati",
          "Saint Kitts and Nevis",
          "Democratic People's Republic of Korea",
          "Kuwait",
          "Lao People's Democratic Republic",
          "Lebanon",
          "Liberia",
          "Saint Lucia",
          "Sri Lanka",
          "Lesotho",
          "Morocco",
          "Madagascar",
          "Maldives",
          "Mexico",
          "Mali",
          "Malta",
          "Myanmar",
          "Mongolia",
          "Mozambique",
          "Mauritania",
          "Mauritius",
          "Malawi",
          "Malaysia",
          "Namibia",
          "New Caledonia",
          "Niger",
          "Nigeria",
          "Nicaragua",
          "Netherlands",
          "Norway",
          "Nepal",
          "New Zealand",
          "Pakistan",
          "Panama",
          "Peru",
          "Philippines",
          "Poland",
          "Portugal",
          "Paraguay",
          "French Polynesia",
          "Republic of Korea",
          "Romania",
          "Rwanda",
          "Saudi Arabia",
          "Senegal",
          "Solomon Islands",
          "Sierra Leone",
          "El Salvador",
          "Sao Tome and Principe",
          "Suriname",
          "Sweden",
          "Swaziland",
          "Chad",
          "Togo",
          "Thailand",
          "Timor-Leste",
          "Trinidad and Tobago",
          "Tunisia",
          "Turkey",
          "United Republic of Tanzania",
          "Uganda",
          "Uruguay",
          "United States of America",
          "Saint Vincent and the Grenadines",
          "Venezuela (Bolivarian Republic of)",
          "Viet Nam",
          "Vanuatu",
          "Samoa",
          "Yemen",
          "South Africa",
          "Zambia",
          "Zimbabwe"
         ],
         "legendgroup": "",
         "locations": [
          "AFG",
          "AGO",
          "ALB",
          "ARE",
          "ARG",
          "ATG",
          "AUS",
          "AUT",
          "AZE",
          "BEN",
          "BFA",
          "BGD",
          "BGR",
          "BLZ",
          "BMU",
          "BOL",
          "BRA",
          "BRB",
          "BRN",
          "BWA",
          "CAF",
          "CAN",
          "CHE",
          "CHL",
          "CHN",
          "CIV",
          "CMR",
          "COD",
          "COL",
          "CPV",
          "CRI",
          "CUB",
          "CYP",
          "DEU",
          "DJI",
          "DMA",
          "DNK",
          "DOM",
          "DZA",
          "ECU",
          "EGY",
          "ESP",
          "FIN",
          "FJI",
          "FRA",
          "GAB",
          "GBR",
          "GHA",
          "GIN",
          "GMB",
          "GNB",
          "GRC",
          "GRD",
          "GTM",
          "GUY",
          "HND",
          "HTI",
          "HUN",
          "IDN",
          "IND",
          "IRL",
          "IRN",
          "IRQ",
          "ISL",
          "ISR",
          "ITA",
          "JAM",
          "JOR",
          "JPN",
          "KEN",
          "KHM",
          "KIR",
          "KNA",
          "KOR",
          "KWT",
          "LAO",
          "LBN",
          "LBR",
          "LCA",
          "LKA",
          "LSO",
          "MAR",
          "MDG",
          "MDV",
          "MEX",
          "MLI",
          "MLT",
          "MMR",
          "MNG",
          "MOZ",
          "MRT",
          "MUS",
          "MWI",
          "MYS",
          "NAM",
          "NCL",
          "NER",
          "NGA",
          "NIC",
          "NLD",
          "NOR",
          "NPL",
          "NZL",
          "PAK",
          "PAN",
          "PER",
          "PHL",
          "POL",
          "PRT",
          "PRY",
          "PYF",
          "QAT",
          "ROU",
          "RWA",
          "SAU",
          "SEN",
          "SLB",
          "SLE",
          "SLV",
          "STP",
          "SUR",
          "SWE",
          "SWZ",
          "TCD",
          "TGO",
          "THA",
          "TLS",
          "TTO",
          "TUN",
          "TUR",
          "TZA",
          "UGA",
          "URY",
          "USA",
          "VCT",
          "VEN",
          "VNM",
          "VUT",
          "WSM",
          "YEM",
          "ZAF",
          "ZMB",
          "ZWE"
         ],
         "marker": {
          "color": [
           218138000,
           244289000,
           58940000,
           53235000,
           575652000,
           911000,
           367891000,
           204127000,
           4175000,
           82339000,
           36465000,
           1303802000,
           244126000,
           1722000,
           1086000,
           97236000,
           2962940000,
           3121000,
           3560000,
           7566000,
           45388000,
           664273000,
           168874000,
           249904000,
           22363775000,
           156758000,
           187297000,
           51697000,
           396527000,
           4434000,
           33639000,
           308289000,
           15944000,
           2356034000,
           4603000,
           968000,
           189383000,
           88355000,
           422280000,
           214369000,
           1349865000,
           1212207000,
           86454000,
           8995000,
           1757884000,
           15486000,
           1392052000,
           245066000,
           111249000,
           7011000,
           8920000,
           353520000,
           1328000,
           61241000,
           20741000,
           50136000,
           88851000,
           308129000,
           2415681000,
           11411395000,
           106709000,
           1260944000,
           350706000,
           3386000,
           131457000,
           1769701000,
           26884000,
           62085000,
           1857681000,
           231728000,
           125667000,
           802000,
           345000,
           342063000,
           33958000,
           71698000,
           81360000,
           41981000,
           2558000,
           195316000,
           9899000,
           412630000,
           227851000,
           2754000,
           724177000,
           60061000,
           8126000,
           609322000,
           24417000,
           265603000,
           15925000,
           13422000,
           122442000,
           235173000,
           7038000,
           2546000,
           52134000,
           1822483000,
           20754000,
           568707000,
           83302000,
           269181000,
           71407000,
           1295604000,
           28423000,
           279046000,
           1087781000,
           1802730000,
           296870000,
           182368000,
           2972000,
           854211000,
           653550000,
           177388000,
           232522000,
           67775000,
           2419000,
           59397000,
           35433000,
           1627000,
           7458000,
           168094000,
           4093000,
           29379000,
           37915000,
           901267000,
           7229000,
           14237000,
           185195000,
           1814094000,
           413516000,
           214105000,
           48399000,
           4608216000,
           1330000,
           194385000,
           1070357000,
           1830000,
           2255000,
           126163000,
           334635000,
           52707000,
           33365000
          ],
          "coloraxis": "coloraxis",
          "size": [
           4557898.310019656,
           42845021.23627304,
           1423615.158414498,
           2856341.986793495,
           17264013.067487113,
           15328.249402147001,
           13922754.347158317,
           5774165.676775247,
           186000.629976475,
           14641633.212346664,
           3680162.725142841,
           162269246.63465628,
           5489794.342425643,
           69483.795657736,
           13847.950951448,
           6804173.058460471,
           490455677.0985498,
           118655.39433659399,
           269545.402978632,
           228093.43698054,
           8341954.4490425605,
           21037004.330338214,
           5277171.5758441705,
           6488094.15861858,
           1255865950.404642,
           25738099.085056186,
           30964473.77362033,
           9287525.579020945,
           41224126.370139055,
           533503.857154006,
           3189006.892828152,
           57931265.40119407,
           511870.04154350597,
           93028933.52227236,
           270272.213464154,
           61655.251777186,
           3812046.758867344,
           8075775.303797684,
           10219491.414735274,
           39597304.75081228,
           118790997.86667345,
           60813981.288535416,
           2681386.755984975,
           727074.217968788,
           44135306.08109241,
           2339496.8576272316,
           43071143.72688714,
           47644638.3993551,
           14705468.8339128,
           1001497.9217691841,
           1167085.086816381,
           19575639.70258443,
           82580.198966062,
           3675141.275885753,
           4811428.467453244,
           8578854.445166187,
           12404448.030080335,
           6297764.106064705,
           340029726.39506024,
           992943792.793754,
           3182237.9029844906,
           41947992.06458517,
           19070145.371949017,
           88551.438509677,
           5305336.688863067,
           71570211.35372967,
           1311595.5932230281,
           3141595.278120295,
           101217686.44818395,
           26868930.604927078,
           16559206.377149867,
           48212.474615094005,
           9266.003965129,
           17136734.984938923,
           2009680.325015783,
           9711323.118145218,
           3424614.184892492,
           7594385.281826707,
           111290.94925053,
           24115225.002752952,
           202744.13697639,
           9947336.459955256,
           35166618.906944335,
           125099.54974658901,
           36239183.483542666,
           4377226.659537664,
           280629.763722884,
           70806521.5247469,
           320874.758136397,
           49015260.546197556,
           1065481.3082849781,
           849850.808734455,
           14740905.381260797,
           27564702.243384887,
           163058.463657642,
           101669.985487195,
           5124382.4083360415,
           290532291.9711857,
           2317384.711721426,
           53753988.46711536,
           2496122.829110189,
           25374326.86307389,
           2228125.2569243237,
           100893833.2986839,
           3316861.090228339,
           17782404.970127814,
           116850926.89677466,
           64334854.43823665,
           16829927.392107874,
           37532407.497521386,
           173635.674475318,
           42364710.814052254,
           21308655.873699795,
           21485329.59543668,
           14996347.350764444,
           7366641.461854174,
           160968.45310691601,
           9184854.45726211,
           3434871.437923993,
           140276.4558133,
           1151101.369252648,
           5840080.882986117,
           189854.661746013,
           4307841.0015696185,
           6481919.970825069,
           130204127.49713062,
           902336.4158494549,
           599778.950262216,
           7342910.941123122,
           72603858.06680624,
           65011928.25093508,
           37818794.09421994,
           3084592.273526474,
           193024632.7538799,
           88624.443026807,
           14543256.28538732,
           125126772.30332479,
           127734.29708598701,
           126750.18981753601,
           5905650.385154049,
           11697743.49313878,
           7109969.70000586,
           2913210.8444492007
          ],
          "sizemode": "area",
          "sizeref": 3139664.8760116054,
          "symbol": "circle"
         },
         "mode": "markers",
         "name": "",
         "showlegend": false,
         "type": "scattergeo"
        }
       ],
       "layout": {
        "coloraxis": {
         "colorbar": {
          "title": {
           "text": "Quantity(Tonnes)"
          }
         },
         "colorscale": [
          [
           0,
           "#0d0887"
          ],
          [
           0.1111111111111111,
           "#46039f"
          ],
          [
           0.2222222222222222,
           "#7201a8"
          ],
          [
           0.3333333333333333,
           "#9c179e"
          ],
          [
           0.4444444444444444,
           "#bd3786"
          ],
          [
           0.5555555555555556,
           "#d8576b"
          ],
          [
           0.6666666666666666,
           "#ed7953"
          ],
          [
           0.7777777777777778,
           "#fb9f3a"
          ],
          [
           0.8888888888888888,
           "#fdca26"
          ],
          [
           1,
           "#f0f921"
          ]
         ]
        },
        "geo": {
         "center": {},
         "domain": {
          "x": [
           0,
           1
          ],
          "y": [
           0,
           1
          ]
         },
         "projection": {
          "type": "natural earth"
         }
        },
        "height": 600,
        "legend": {
         "itemsizing": "constant",
         "tracegroupgap": 0
        },
        "template": {
         "data": {
          "bar": [
           {
            "error_x": {
             "color": "#2a3f5f"
            },
            "error_y": {
             "color": "#2a3f5f"
            },
            "marker": {
             "line": {
              "color": "#E5ECF6",
              "width": 0.5
             },
             "pattern": {
              "fillmode": "overlay",
              "size": 10,
              "solidity": 0.2
             }
            },
            "type": "bar"
           }
          ],
          "barpolar": [
           {
            "marker": {
             "line": {
              "color": "#E5ECF6",
              "width": 0.5
             },
             "pattern": {
              "fillmode": "overlay",
              "size": 10,
              "solidity": 0.2
             }
            },
            "type": "barpolar"
           }
          ],
          "carpet": [
           {
            "aaxis": {
             "endlinecolor": "#2a3f5f",
             "gridcolor": "white",
             "linecolor": "white",
             "minorgridcolor": "white",
             "startlinecolor": "#2a3f5f"
            },
            "baxis": {
             "endlinecolor": "#2a3f5f",
             "gridcolor": "white",
             "linecolor": "white",
             "minorgridcolor": "white",
             "startlinecolor": "#2a3f5f"
            },
            "type": "carpet"
           }
          ],
          "choropleth": [
           {
            "colorbar": {
             "outlinewidth": 0,
             "ticks": ""
            },
            "type": "choropleth"
           }
          ],
          "contour": [
           {
            "colorbar": {
             "outlinewidth": 0,
             "ticks": ""
            },
            "colorscale": [
             [
              0,
              "#0d0887"
             ],
             [
              0.1111111111111111,
              "#46039f"
             ],
             [
              0.2222222222222222,
              "#7201a8"
             ],
             [
              0.3333333333333333,
              "#9c179e"
             ],
             [
              0.4444444444444444,
              "#bd3786"
             ],
             [
              0.5555555555555556,
              "#d8576b"
             ],
             [
              0.6666666666666666,
              "#ed7953"
             ],
             [
              0.7777777777777778,
              "#fb9f3a"
             ],
             [
              0.8888888888888888,
              "#fdca26"
             ],
             [
              1,
              "#f0f921"
             ]
            ],
            "type": "contour"
           }
          ],
          "contourcarpet": [
           {
            "colorbar": {
             "outlinewidth": 0,
             "ticks": ""
            },
            "type": "contourcarpet"
           }
          ],
          "heatmap": [
           {
            "colorbar": {
             "outlinewidth": 0,
             "ticks": ""
            },
            "colorscale": [
             [
              0,
              "#0d0887"
             ],
             [
              0.1111111111111111,
              "#46039f"
             ],
             [
              0.2222222222222222,
              "#7201a8"
             ],
             [
              0.3333333333333333,
              "#9c179e"
             ],
             [
              0.4444444444444444,
              "#bd3786"
             ],
             [
              0.5555555555555556,
              "#d8576b"
             ],
             [
              0.6666666666666666,
              "#ed7953"
             ],
             [
              0.7777777777777778,
              "#fb9f3a"
             ],
             [
              0.8888888888888888,
              "#fdca26"
             ],
             [
              1,
              "#f0f921"
             ]
            ],
            "type": "heatmap"
           }
          ],
          "heatmapgl": [
           {
            "colorbar": {
             "outlinewidth": 0,
             "ticks": ""
            },
            "colorscale": [
             [
              0,
              "#0d0887"
             ],
             [
              0.1111111111111111,
              "#46039f"
             ],
             [
              0.2222222222222222,
              "#7201a8"
             ],
             [
              0.3333333333333333,
              "#9c179e"
             ],
             [
              0.4444444444444444,
              "#bd3786"
             ],
             [
              0.5555555555555556,
              "#d8576b"
             ],
             [
              0.6666666666666666,
              "#ed7953"
             ],
             [
              0.7777777777777778,
              "#fb9f3a"
             ],
             [
              0.8888888888888888,
              "#fdca26"
             ],
             [
              1,
              "#f0f921"
             ]
            ],
            "type": "heatmapgl"
           }
          ],
          "histogram": [
           {
            "marker": {
             "pattern": {
              "fillmode": "overlay",
              "size": 10,
              "solidity": 0.2
             }
            },
            "type": "histogram"
           }
          ],
          "histogram2d": [
           {
            "colorbar": {
             "outlinewidth": 0,
             "ticks": ""
            },
            "colorscale": [
             [
              0,
              "#0d0887"
             ],
             [
              0.1111111111111111,
              "#46039f"
             ],
             [
              0.2222222222222222,
              "#7201a8"
             ],
             [
              0.3333333333333333,
              "#9c179e"
             ],
             [
              0.4444444444444444,
              "#bd3786"
             ],
             [
              0.5555555555555556,
              "#d8576b"
             ],
             [
              0.6666666666666666,
              "#ed7953"
             ],
             [
              0.7777777777777778,
              "#fb9f3a"
             ],
             [
              0.8888888888888888,
              "#fdca26"
             ],
             [
              1,
              "#f0f921"
             ]
            ],
            "type": "histogram2d"
           }
          ],
          "histogram2dcontour": [
           {
            "colorbar": {
             "outlinewidth": 0,
             "ticks": ""
            },
            "colorscale": [
             [
              0,
              "#0d0887"
             ],
             [
              0.1111111111111111,
              "#46039f"
             ],
             [
              0.2222222222222222,
              "#7201a8"
             ],
             [
              0.3333333333333333,
              "#9c179e"
             ],
             [
              0.4444444444444444,
              "#bd3786"
             ],
             [
              0.5555555555555556,
              "#d8576b"
             ],
             [
              0.6666666666666666,
              "#ed7953"
             ],
             [
              0.7777777777777778,
              "#fb9f3a"
             ],
             [
              0.8888888888888888,
              "#fdca26"
             ],
             [
              1,
              "#f0f921"
             ]
            ],
            "type": "histogram2dcontour"
           }
          ],
          "mesh3d": [
           {
            "colorbar": {
             "outlinewidth": 0,
             "ticks": ""
            },
            "type": "mesh3d"
           }
          ],
          "parcoords": [
           {
            "line": {
             "colorbar": {
              "outlinewidth": 0,
              "ticks": ""
             }
            },
            "type": "parcoords"
           }
          ],
          "pie": [
           {
            "automargin": true,
            "type": "pie"
           }
          ],
          "scatter": [
           {
            "fillpattern": {
             "fillmode": "overlay",
             "size": 10,
             "solidity": 0.2
            },
            "type": "scatter"
           }
          ],
          "scatter3d": [
           {
            "line": {
             "colorbar": {
              "outlinewidth": 0,
              "ticks": ""
             }
            },
            "marker": {
             "colorbar": {
              "outlinewidth": 0,
              "ticks": ""
             }
            },
            "type": "scatter3d"
           }
          ],
          "scattercarpet": [
           {
            "marker": {
             "colorbar": {
              "outlinewidth": 0,
              "ticks": ""
             }
            },
            "type": "scattercarpet"
           }
          ],
          "scattergeo": [
           {
            "marker": {
             "colorbar": {
              "outlinewidth": 0,
              "ticks": ""
             }
            },
            "type": "scattergeo"
           }
          ],
          "scattergl": [
           {
            "marker": {
             "colorbar": {
              "outlinewidth": 0,
              "ticks": ""
             }
            },
            "type": "scattergl"
           }
          ],
          "scattermapbox": [
           {
            "marker": {
             "colorbar": {
              "outlinewidth": 0,
              "ticks": ""
             }
            },
            "type": "scattermapbox"
           }
          ],
          "scatterpolar": [
           {
            "marker": {
             "colorbar": {
              "outlinewidth": 0,
              "ticks": ""
             }
            },
            "type": "scatterpolar"
           }
          ],
          "scatterpolargl": [
           {
            "marker": {
             "colorbar": {
              "outlinewidth": 0,
              "ticks": ""
             }
            },
            "type": "scatterpolargl"
           }
          ],
          "scatterternary": [
           {
            "marker": {
             "colorbar": {
              "outlinewidth": 0,
              "ticks": ""
             }
            },
            "type": "scatterternary"
           }
          ],
          "surface": [
           {
            "colorbar": {
             "outlinewidth": 0,
             "ticks": ""
            },
            "colorscale": [
             [
              0,
              "#0d0887"
             ],
             [
              0.1111111111111111,
              "#46039f"
             ],
             [
              0.2222222222222222,
              "#7201a8"
             ],
             [
              0.3333333333333333,
              "#9c179e"
             ],
             [
              0.4444444444444444,
              "#bd3786"
             ],
             [
              0.5555555555555556,
              "#d8576b"
             ],
             [
              0.6666666666666666,
              "#ed7953"
             ],
             [
              0.7777777777777778,
              "#fb9f3a"
             ],
             [
              0.8888888888888888,
              "#fdca26"
             ],
             [
              1,
              "#f0f921"
             ]
            ],
            "type": "surface"
           }
          ],
          "table": [
           {
            "cells": {
             "fill": {
              "color": "#EBF0F8"
             },
             "line": {
              "color": "white"
             }
            },
            "header": {
             "fill": {
              "color": "#C8D4E3"
             },
             "line": {
              "color": "white"
             }
            },
            "type": "table"
           }
          ]
         },
         "layout": {
          "annotationdefaults": {
           "arrowcolor": "#2a3f5f",
           "arrowhead": 0,
           "arrowwidth": 1
          },
          "autotypenumbers": "strict",
          "coloraxis": {
           "colorbar": {
            "outlinewidth": 0,
            "ticks": ""
           }
          },
          "colorscale": {
           "diverging": [
            [
             0,
             "#8e0152"
            ],
            [
             0.1,
             "#c51b7d"
            ],
            [
             0.2,
             "#de77ae"
            ],
            [
             0.3,
             "#f1b6da"
            ],
            [
             0.4,
             "#fde0ef"
            ],
            [
             0.5,
             "#f7f7f7"
            ],
            [
             0.6,
             "#e6f5d0"
            ],
            [
             0.7,
             "#b8e186"
            ],
            [
             0.8,
             "#7fbc41"
            ],
            [
             0.9,
             "#4d9221"
            ],
            [
             1,
             "#276419"
            ]
           ],
           "sequential": [
            [
             0,
             "#0d0887"
            ],
            [
             0.1111111111111111,
             "#46039f"
            ],
            [
             0.2222222222222222,
             "#7201a8"
            ],
            [
             0.3333333333333333,
             "#9c179e"
            ],
            [
             0.4444444444444444,
             "#bd3786"
            ],
            [
             0.5555555555555556,
             "#d8576b"
            ],
            [
             0.6666666666666666,
             "#ed7953"
            ],
            [
             0.7777777777777778,
             "#fb9f3a"
            ],
            [
             0.8888888888888888,
             "#fdca26"
            ],
            [
             1,
             "#f0f921"
            ]
           ],
           "sequentialminus": [
            [
             0,
             "#0d0887"
            ],
            [
             0.1111111111111111,
             "#46039f"
            ],
            [
             0.2222222222222222,
             "#7201a8"
            ],
            [
             0.3333333333333333,
             "#9c179e"
            ],
            [
             0.4444444444444444,
             "#bd3786"
            ],
            [
             0.5555555555555556,
             "#d8576b"
            ],
            [
             0.6666666666666666,
             "#ed7953"
            ],
            [
             0.7777777777777778,
             "#fb9f3a"
            ],
            [
             0.8888888888888888,
             "#fdca26"
            ],
            [
             1,
             "#f0f921"
            ]
           ]
          },
          "colorway": [
           "#636efa",
           "#EF553B",
           "#00cc96",
           "#ab63fa",
           "#FFA15A",
           "#19d3f3",
           "#FF6692",
           "#B6E880",
           "#FF97FF",
           "#FECB52"
          ],
          "font": {
           "color": "#2a3f5f"
          },
          "geo": {
           "bgcolor": "white",
           "lakecolor": "white",
           "landcolor": "#E5ECF6",
           "showlakes": true,
           "showland": true,
           "subunitcolor": "white"
          },
          "hoverlabel": {
           "align": "left"
          },
          "hovermode": "closest",
          "mapbox": {
           "style": "light"
          },
          "paper_bgcolor": "white",
          "plot_bgcolor": "#E5ECF6",
          "polar": {
           "angularaxis": {
            "gridcolor": "white",
            "linecolor": "white",
            "ticks": ""
           },
           "bgcolor": "#E5ECF6",
           "radialaxis": {
            "gridcolor": "white",
            "linecolor": "white",
            "ticks": ""
           }
          },
          "scene": {
           "xaxis": {
            "backgroundcolor": "#E5ECF6",
            "gridcolor": "white",
            "gridwidth": 2,
            "linecolor": "white",
            "showbackground": true,
            "ticks": "",
            "zerolinecolor": "white"
           },
           "yaxis": {
            "backgroundcolor": "#E5ECF6",
            "gridcolor": "white",
            "gridwidth": 2,
            "linecolor": "white",
            "showbackground": true,
            "ticks": "",
            "zerolinecolor": "white"
           },
           "zaxis": {
            "backgroundcolor": "#E5ECF6",
            "gridcolor": "white",
            "gridwidth": 2,
            "linecolor": "white",
            "showbackground": true,
            "ticks": "",
            "zerolinecolor": "white"
           }
          },
          "shapedefaults": {
           "line": {
            "color": "#2a3f5f"
           }
          },
          "ternary": {
           "aaxis": {
            "gridcolor": "white",
            "linecolor": "white",
            "ticks": ""
           },
           "baxis": {
            "gridcolor": "white",
            "linecolor": "white",
            "ticks": ""
           },
           "bgcolor": "#E5ECF6",
           "caxis": {
            "gridcolor": "white",
            "linecolor": "white",
            "ticks": ""
           }
          },
          "title": {
           "x": 0.05
          },
          "xaxis": {
           "automargin": true,
           "gridcolor": "white",
           "linecolor": "white",
           "ticks": "",
           "title": {
            "standoff": 15
           },
           "zerolinecolor": "white",
           "zerolinewidth": 2
          },
          "yaxis": {
           "automargin": true,
           "gridcolor": "white",
           "linecolor": "white",
           "ticks": "",
           "title": {
            "standoff": 15
           },
           "zerolinecolor": "white",
           "zerolinewidth": 2
          }
         }
        },
        "title": {
         "text": "Inquinamento dei prodotti a base vegetale dal 1961 al 2013"
        }
       }
      }
     },
     "metadata": {},
     "output_type": "display_data"
    }
   ],
   "source": [
    "# Creare un multiplot con grafico della carne e vegetali con i rispettivi inquinamenti\n",
    "beef_subdf_grouped = beef_subdf.groupby(\"Area Abbreviation\").sum(numeric_only=True).reset_index()\n",
    "for index, record in beef_subdf_grouped.iterrows():\n",
    "     beef_subdf_grouped.at[index, \"Area\" ] = areas_abbr_dict[record[\"Area Abbreviation\"]]\n",
    "\n",
    "veg_subdf_grouped = veg_subdf.groupby(\"Area Abbreviation\").sum(numeric_only=True).reset_index()\n",
    "for index, record in veg_subdf_grouped.iterrows():\n",
    "     veg_subdf_grouped.at[index, \"Area\" ] = areas_abbr_dict[record[\"Area Abbreviation\"]]\n",
    "\n",
    "\n",
    "fig = px.scatter_geo(\n",
    "     beef_subdf_grouped,\n",
    "     locations=\"Area Abbreviation\",\n",
    "     hover_name=\"Area\",\n",
    "     # hover_data=[\"Quantity(Tonnes)\", \"Yearly gas serra emissions(Tonnes)\", \"Yearly Tonnes CO2\", \"Yearly Tonnes PO4 producted\", \"Yearly water usage(Tonnes)\"],\n",
    "     hover_data=[\"Quantity(Tonnes)\", \"Yearly gas serra emissions(Tonnes)\", \"Yearly TonnesCO2\", \"Yearly Tonnes PO4 producted\", \"Yearly water usage(Tonnes)\"],\n",
    "     color=\"Quantity(Tonnes)\",\n",
    "     size=\"Yearly gas serra emissions(Tonnes)\",\n",
    "     height=600,\n",
    "     title=\"Inquinamento dei prodotti a base animale dal 1961 al 2013\",\n",
    "     projection=\"natural earth\" \n",
    ")\n",
    "fig.show()\n",
    "fig = px.scatter_geo(\n",
    "     veg_subdf_grouped,\n",
    "     locations=\"Area Abbreviation\",\n",
    "     hover_name=\"Area\",\n",
    "     # hover_data=[\"Quantity(Tonnes)\", \"Yearly gas serra emissions(Tonnes)\", \"Yearly Tonnes CO2\", \"Yearly Tonnes PO4 producted\", \"Yearly water usage(Tonnes)\"],\n",
    "     hover_data=[\"Quantity(Tonnes)\", \"Yearly gas serra emissions(Tonnes)\", \"Yearly TonnesCO2\", \"Yearly Tonnes PO4 producted\", \"Yearly water usage(Tonnes)\"],\n",
    "     color=\"Quantity(Tonnes)\",\n",
    "     size=\"Yearly gas serra emissions(Tonnes)\",\n",
    "     height=600,\n",
    "     title=\"Inquinamento dei prodotti a base vegetale dal 1961 al 2013\",\n",
    "     projection=\"natural earth\" \n",
    ")\n",
    "fig.show()"
   ]
  },
  {
   "cell_type": "markdown",
   "metadata": {},
   "source": [
    "# Comparazione tra i vari tipi di inquinamento (base animale VS base vegetale)"
   ]
  },
  {
   "cell_type": "code",
   "execution_count": 816,
   "metadata": {},
   "outputs": [
    {
     "data": {
      "application/vnd.plotly.v1+json": {
       "config": {
        "plotlyServerURL": "https://plot.ly"
       },
       "data": [
        {
         "alignmentgroup": "True",
         "hovertemplate": "variable=Quantity(Tonnes)<br>Anno=%{x}<br>value=%{y}<extra></extra>",
         "legendgroup": "Quantity(Tonnes)",
         "marker": {
          "color": "#636efa",
          "pattern": {
           "shape": ""
          }
         },
         "name": "Quantity(Tonnes)",
         "offsetgroup": "Quantity(Tonnes)",
         "orientation": "v",
         "showlegend": true,
         "textposition": "auto",
         "type": "bar",
         "x": [
          1961,
          1962,
          1963,
          1964,
          1965,
          1966,
          1967,
          1968,
          1969,
          1970,
          1971,
          1972,
          1973,
          1974,
          1975,
          1976,
          1977,
          1978,
          1979,
          1980,
          1981,
          1982,
          1983,
          1984,
          1985,
          1986,
          1987,
          1988,
          1989,
          1990,
          1991,
          1992,
          1993,
          1994,
          1995,
          1996,
          1997,
          1998,
          1999,
          2000,
          2001,
          2002,
          2003,
          2004,
          2005,
          2006,
          2007,
          2008,
          2009,
          2010,
          2011,
          2012,
          2013
         ],
         "xaxis": "x",
         "y": [
          591127000,
          598254000,
          610938000,
          623905000,
          633541000,
          649383000,
          660353000,
          682397000,
          693142000,
          691649000,
          696902000,
          717161000,
          722641000,
          729884000,
          739679000,
          766269000,
          782291000,
          807353000,
          830835000,
          841935000,
          849954000,
          864899000,
          895087000,
          923106000,
          943062000,
          956088000,
          977738000,
          985314000,
          995864000,
          1011558000,
          1019104000,
          1040225000,
          1056056000,
          1091322000,
          1126860000,
          1148517000,
          1169146000,
          1184519000,
          1223400000,
          1246410000,
          1263392000,
          1293538000,
          1321239000,
          1352977000,
          1393255000,
          1434594000,
          1476690000,
          1504399000,
          1534235000,
          1569313000,
          1613950000,
          1650006000,
          1662032000
         ],
         "yaxis": "y"
        },
        {
         "alignmentgroup": "True",
         "hovertemplate": "variable=Yearly gas serra emissions(Tonnes)<br>Anno=%{x}<br>value=%{y}<extra></extra>",
         "legendgroup": "Yearly gas serra emissions(Tonnes)",
         "marker": {
          "color": "#EF553B",
          "pattern": {
           "shape": ""
          }
         },
         "name": "Yearly gas serra emissions(Tonnes)",
         "offsetgroup": "Yearly gas serra emissions(Tonnes)",
         "orientation": "v",
         "showlegend": true,
         "textposition": "auto",
         "type": "bar",
         "x": [
          1961,
          1962,
          1963,
          1964,
          1965,
          1966,
          1967,
          1968,
          1969,
          1970,
          1971,
          1972,
          1973,
          1974,
          1975,
          1976,
          1977,
          1978,
          1979,
          1980,
          1981,
          1982,
          1983,
          1984,
          1985,
          1986,
          1987,
          1988,
          1989,
          1990,
          1991,
          1992,
          1993,
          1994,
          1995,
          1996,
          1997,
          1998,
          1999,
          2000,
          2001,
          2002,
          2003,
          2004,
          2005,
          2006,
          2007,
          2008,
          2009,
          2010,
          2011,
          2012,
          2013
         ],
         "xaxis": "x",
         "y": [
          486822269.4825632,
          504307317.3657628,
          524747923.256706,
          539674209.2593037,
          547500333.075244,
          570166259.9515101,
          587646922.1977605,
          613342612.0808885,
          627112389.9736656,
          636702342.7812736,
          637928494.1915034,
          652220380.7599592,
          651799902.6107491,
          676714245.840175,
          704629185.6091223,
          741293701.8516899,
          747248269.2857429,
          762800472.4498099,
          758858846.5583628,
          769862899.2980539,
          779347957.3903956,
          788108531.3078604,
          804402722.4044175,
          828203137.4345487,
          851545724.3206168,
          877537212.7719482,
          892054496.5255752,
          903509348.8954983,
          913802682.3695362,
          929079984.0548012,
          947019953.9533079,
          966511773.4579908,
          978365159.0364544,
          1016363811.8644828,
          1047489337.0653057,
          1068956234.9133344,
          1091795975.1065066,
          1104815660.77766,
          1140511608.723034,
          1169048422.9629061,
          1163427663.4017396,
          1192011267.189457,
          1206830066.0563207,
          1231993753.948043,
          1260902668.1844516,
          1295314678.5773258,
          1333602654.7608669,
          1348041802.7405908,
          1365699233.7814884,
          1392103381.860476,
          1410620857.1750352,
          1430934750.631181,
          1441763912.8479974
         ],
         "yaxis": "y"
        },
        {
         "alignmentgroup": "True",
         "hovertemplate": "variable=Yearly TonnesCO2<br>Anno=%{x}<br>value=%{y}<extra></extra>",
         "legendgroup": "Yearly TonnesCO2",
         "marker": {
          "color": "#00cc96",
          "pattern": {
           "shape": ""
          }
         },
         "name": "Yearly TonnesCO2",
         "offsetgroup": "Yearly TonnesCO2",
         "orientation": "v",
         "showlegend": true,
         "textposition": "auto",
         "type": "bar",
         "x": [
          1961,
          1962,
          1963,
          1964,
          1965,
          1966,
          1967,
          1968,
          1969,
          1970,
          1971,
          1972,
          1973,
          1974,
          1975,
          1976,
          1977,
          1978,
          1979,
          1980,
          1981,
          1982,
          1983,
          1984,
          1985,
          1986,
          1987,
          1988,
          1989,
          1990,
          1991,
          1992,
          1993,
          1994,
          1995,
          1996,
          1997,
          1998,
          1999,
          2000,
          2001,
          2002,
          2003,
          2004,
          2005,
          2006,
          2007,
          2008,
          2009,
          2010,
          2011,
          2012,
          2013
         ],
         "xaxis": "x",
         "y": [
          3241916400,
          3331385200,
          3445185000,
          3530823000,
          3578500600,
          3709308200,
          3803028700,
          3949445400,
          4033121400,
          4073573100,
          4082089800,
          4175770800,
          4190146900,
          4317209300,
          4461507800,
          4676341800,
          4727819900,
          4838473700,
          4849061700,
          4917490600,
          4968038200,
          5024795600,
          5151562000,
          5301887000,
          5433666900,
          5566274100,
          5653704000,
          5709321500,
          5767451600,
          5863362200,
          5953533500,
          6067812800,
          6132928000,
          6343657300,
          6535238100,
          6667180700,
          6796023100,
          6892519900,
          7107419500,
          7260140800,
          7258182500,
          7439543800,
          7551181100,
          7705650300,
          7896328900,
          8123422400,
          8363384800,
          8458947000,
          8580727900,
          8750950700,
          8897214200,
          9043727200,
          9110541800
         ],
         "yaxis": "y"
        },
        {
         "alignmentgroup": "True",
         "hovertemplate": "variable=Yearly Tonnes PO4 producted<br>Anno=%{x}<br>value=%{y}<extra></extra>",
         "legendgroup": "Yearly Tonnes PO4 producted",
         "marker": {
          "color": "#ab63fa",
          "pattern": {
           "shape": ""
          }
         },
         "name": "Yearly Tonnes PO4 producted",
         "offsetgroup": "Yearly Tonnes PO4 producted",
         "orientation": "v",
         "showlegend": true,
         "textposition": "auto",
         "type": "bar",
         "x": [
          1961,
          1962,
          1963,
          1964,
          1965,
          1966,
          1967,
          1968,
          1969,
          1970,
          1971,
          1972,
          1973,
          1974,
          1975,
          1976,
          1977,
          1978,
          1979,
          1980,
          1981,
          1982,
          1983,
          1984,
          1985,
          1986,
          1987,
          1988,
          1989,
          1990,
          1991,
          1992,
          1993,
          1994,
          1995,
          1996,
          1997,
          1998,
          1999,
          2000,
          2001,
          2002,
          2003,
          2004,
          2005,
          2006,
          2007,
          2008,
          2009,
          2010,
          2011,
          2012,
          2013
         ],
         "xaxis": "x",
         "y": [
          22547776.84,
          23481774.45,
          24459457.67,
          25465152.16,
          26090385.59,
          27016263.92,
          28104449.990000002,
          29996783.540000003,
          30275316.1,
          30539608.990000002,
          30999778.67,
          32059950.86,
          31425166.78,
          32389920.110000003,
          33535929.540000003,
          34906230.88,
          35356333.01,
          36196812.64,
          36861527.89,
          37219656.4,
          37955982.550000004,
          38977551.86,
          39698770.42,
          41351055.6,
          42955332.43,
          44465616.97,
          46035524.94,
          47009330.13,
          47894883.04,
          48215590.74,
          48854755.75,
          50151067.5,
          51510832.35,
          54768909.27,
          56553858.11,
          57662480.61,
          58957199.88,
          58175126.92,
          60462697.74,
          62644198.32,
          62715827.9,
          63677748.28,
          64386137.27,
          66408822.22,
          68371983.11,
          69726292.38,
          71362827.68,
          72855406.24,
          74261681.22,
          75747075.21000001,
          77334915.35,
          78780530.41,
          78952083.08
         ],
         "yaxis": "y"
        },
        {
         "alignmentgroup": "True",
         "hovertemplate": "variable=Yearly water usage(Tonnes)<br>Anno=%{x}<br>value=%{y}<extra></extra>",
         "legendgroup": "Yearly water usage(Tonnes)",
         "marker": {
          "color": "#FFA15A",
          "pattern": {
           "shape": ""
          }
         },
         "name": "Yearly water usage(Tonnes)",
         "offsetgroup": "Yearly water usage(Tonnes)",
         "orientation": "v",
         "showlegend": true,
         "textposition": "auto",
         "type": "bar",
         "x": [
          1961,
          1962,
          1963,
          1964,
          1965,
          1966,
          1967,
          1968,
          1969,
          1970,
          1971,
          1972,
          1973,
          1974,
          1975,
          1976,
          1977,
          1978,
          1979,
          1980,
          1981,
          1982,
          1983,
          1984,
          1985,
          1986,
          1987,
          1988,
          1989,
          1990,
          1991,
          1992,
          1993,
          1994,
          1995,
          1996,
          1997,
          1998,
          1999,
          2000,
          2001,
          2002,
          2003,
          2004,
          2005,
          2006,
          2007,
          2008,
          2009,
          2010,
          2011,
          2012,
          2013
         ],
         "xaxis": "x",
         "y": [
          514324774.40000004,
          527331608.70000005,
          543462033.2,
          561780214.6,
          574250247.6,
          590096678.9,
          607612779.5,
          640327842.8000001,
          645888231.6,
          646503622.7,
          656987970.2,
          679752167.5,
          673337149.9,
          684922561,
          698474135.4,
          722323662.9000001,
          736238068.1,
          758340633.1,
          783857179.6,
          792846138,
          805243037.5,
          825656796.1,
          848347042,
          881642110.6,
          910299475.1,
          931994295.8000001,
          963288582.8000001,
          979626770.5,
          995688330.1,
          1004440642.8000001,
          1013033343.8,
          1038790219.3000001,
          1064483931.3000001,
          1121546125.2,
          1157787841.8,
          1179677826.6,
          1203004595.1,
          1197475492,
          1241732003.6,
          1278674866.2,
          1290439237.8,
          1312906124,
          1334975378.4,
          1374162316.5,
          1416760850.6,
          1449843440.6000001,
          1485653509.1,
          1519152425.7,
          1551463568,
          1584910587.5,
          1626429209.4,
          1662578084.7,
          1668672629.4
         ],
         "yaxis": "y"
        }
       ],
       "layout": {
        "barmode": "relative",
        "height": 600,
        "legend": {
         "title": {
          "text": "variable"
         },
         "tracegroupgap": 0
        },
        "template": {
         "data": {
          "bar": [
           {
            "error_x": {
             "color": "#2a3f5f"
            },
            "error_y": {
             "color": "#2a3f5f"
            },
            "marker": {
             "line": {
              "color": "#E5ECF6",
              "width": 0.5
             },
             "pattern": {
              "fillmode": "overlay",
              "size": 10,
              "solidity": 0.2
             }
            },
            "type": "bar"
           }
          ],
          "barpolar": [
           {
            "marker": {
             "line": {
              "color": "#E5ECF6",
              "width": 0.5
             },
             "pattern": {
              "fillmode": "overlay",
              "size": 10,
              "solidity": 0.2
             }
            },
            "type": "barpolar"
           }
          ],
          "carpet": [
           {
            "aaxis": {
             "endlinecolor": "#2a3f5f",
             "gridcolor": "white",
             "linecolor": "white",
             "minorgridcolor": "white",
             "startlinecolor": "#2a3f5f"
            },
            "baxis": {
             "endlinecolor": "#2a3f5f",
             "gridcolor": "white",
             "linecolor": "white",
             "minorgridcolor": "white",
             "startlinecolor": "#2a3f5f"
            },
            "type": "carpet"
           }
          ],
          "choropleth": [
           {
            "colorbar": {
             "outlinewidth": 0,
             "ticks": ""
            },
            "type": "choropleth"
           }
          ],
          "contour": [
           {
            "colorbar": {
             "outlinewidth": 0,
             "ticks": ""
            },
            "colorscale": [
             [
              0,
              "#0d0887"
             ],
             [
              0.1111111111111111,
              "#46039f"
             ],
             [
              0.2222222222222222,
              "#7201a8"
             ],
             [
              0.3333333333333333,
              "#9c179e"
             ],
             [
              0.4444444444444444,
              "#bd3786"
             ],
             [
              0.5555555555555556,
              "#d8576b"
             ],
             [
              0.6666666666666666,
              "#ed7953"
             ],
             [
              0.7777777777777778,
              "#fb9f3a"
             ],
             [
              0.8888888888888888,
              "#fdca26"
             ],
             [
              1,
              "#f0f921"
             ]
            ],
            "type": "contour"
           }
          ],
          "contourcarpet": [
           {
            "colorbar": {
             "outlinewidth": 0,
             "ticks": ""
            },
            "type": "contourcarpet"
           }
          ],
          "heatmap": [
           {
            "colorbar": {
             "outlinewidth": 0,
             "ticks": ""
            },
            "colorscale": [
             [
              0,
              "#0d0887"
             ],
             [
              0.1111111111111111,
              "#46039f"
             ],
             [
              0.2222222222222222,
              "#7201a8"
             ],
             [
              0.3333333333333333,
              "#9c179e"
             ],
             [
              0.4444444444444444,
              "#bd3786"
             ],
             [
              0.5555555555555556,
              "#d8576b"
             ],
             [
              0.6666666666666666,
              "#ed7953"
             ],
             [
              0.7777777777777778,
              "#fb9f3a"
             ],
             [
              0.8888888888888888,
              "#fdca26"
             ],
             [
              1,
              "#f0f921"
             ]
            ],
            "type": "heatmap"
           }
          ],
          "heatmapgl": [
           {
            "colorbar": {
             "outlinewidth": 0,
             "ticks": ""
            },
            "colorscale": [
             [
              0,
              "#0d0887"
             ],
             [
              0.1111111111111111,
              "#46039f"
             ],
             [
              0.2222222222222222,
              "#7201a8"
             ],
             [
              0.3333333333333333,
              "#9c179e"
             ],
             [
              0.4444444444444444,
              "#bd3786"
             ],
             [
              0.5555555555555556,
              "#d8576b"
             ],
             [
              0.6666666666666666,
              "#ed7953"
             ],
             [
              0.7777777777777778,
              "#fb9f3a"
             ],
             [
              0.8888888888888888,
              "#fdca26"
             ],
             [
              1,
              "#f0f921"
             ]
            ],
            "type": "heatmapgl"
           }
          ],
          "histogram": [
           {
            "marker": {
             "pattern": {
              "fillmode": "overlay",
              "size": 10,
              "solidity": 0.2
             }
            },
            "type": "histogram"
           }
          ],
          "histogram2d": [
           {
            "colorbar": {
             "outlinewidth": 0,
             "ticks": ""
            },
            "colorscale": [
             [
              0,
              "#0d0887"
             ],
             [
              0.1111111111111111,
              "#46039f"
             ],
             [
              0.2222222222222222,
              "#7201a8"
             ],
             [
              0.3333333333333333,
              "#9c179e"
             ],
             [
              0.4444444444444444,
              "#bd3786"
             ],
             [
              0.5555555555555556,
              "#d8576b"
             ],
             [
              0.6666666666666666,
              "#ed7953"
             ],
             [
              0.7777777777777778,
              "#fb9f3a"
             ],
             [
              0.8888888888888888,
              "#fdca26"
             ],
             [
              1,
              "#f0f921"
             ]
            ],
            "type": "histogram2d"
           }
          ],
          "histogram2dcontour": [
           {
            "colorbar": {
             "outlinewidth": 0,
             "ticks": ""
            },
            "colorscale": [
             [
              0,
              "#0d0887"
             ],
             [
              0.1111111111111111,
              "#46039f"
             ],
             [
              0.2222222222222222,
              "#7201a8"
             ],
             [
              0.3333333333333333,
              "#9c179e"
             ],
             [
              0.4444444444444444,
              "#bd3786"
             ],
             [
              0.5555555555555556,
              "#d8576b"
             ],
             [
              0.6666666666666666,
              "#ed7953"
             ],
             [
              0.7777777777777778,
              "#fb9f3a"
             ],
             [
              0.8888888888888888,
              "#fdca26"
             ],
             [
              1,
              "#f0f921"
             ]
            ],
            "type": "histogram2dcontour"
           }
          ],
          "mesh3d": [
           {
            "colorbar": {
             "outlinewidth": 0,
             "ticks": ""
            },
            "type": "mesh3d"
           }
          ],
          "parcoords": [
           {
            "line": {
             "colorbar": {
              "outlinewidth": 0,
              "ticks": ""
             }
            },
            "type": "parcoords"
           }
          ],
          "pie": [
           {
            "automargin": true,
            "type": "pie"
           }
          ],
          "scatter": [
           {
            "fillpattern": {
             "fillmode": "overlay",
             "size": 10,
             "solidity": 0.2
            },
            "type": "scatter"
           }
          ],
          "scatter3d": [
           {
            "line": {
             "colorbar": {
              "outlinewidth": 0,
              "ticks": ""
             }
            },
            "marker": {
             "colorbar": {
              "outlinewidth": 0,
              "ticks": ""
             }
            },
            "type": "scatter3d"
           }
          ],
          "scattercarpet": [
           {
            "marker": {
             "colorbar": {
              "outlinewidth": 0,
              "ticks": ""
             }
            },
            "type": "scattercarpet"
           }
          ],
          "scattergeo": [
           {
            "marker": {
             "colorbar": {
              "outlinewidth": 0,
              "ticks": ""
             }
            },
            "type": "scattergeo"
           }
          ],
          "scattergl": [
           {
            "marker": {
             "colorbar": {
              "outlinewidth": 0,
              "ticks": ""
             }
            },
            "type": "scattergl"
           }
          ],
          "scattermapbox": [
           {
            "marker": {
             "colorbar": {
              "outlinewidth": 0,
              "ticks": ""
             }
            },
            "type": "scattermapbox"
           }
          ],
          "scatterpolar": [
           {
            "marker": {
             "colorbar": {
              "outlinewidth": 0,
              "ticks": ""
             }
            },
            "type": "scatterpolar"
           }
          ],
          "scatterpolargl": [
           {
            "marker": {
             "colorbar": {
              "outlinewidth": 0,
              "ticks": ""
             }
            },
            "type": "scatterpolargl"
           }
          ],
          "scatterternary": [
           {
            "marker": {
             "colorbar": {
              "outlinewidth": 0,
              "ticks": ""
             }
            },
            "type": "scatterternary"
           }
          ],
          "surface": [
           {
            "colorbar": {
             "outlinewidth": 0,
             "ticks": ""
            },
            "colorscale": [
             [
              0,
              "#0d0887"
             ],
             [
              0.1111111111111111,
              "#46039f"
             ],
             [
              0.2222222222222222,
              "#7201a8"
             ],
             [
              0.3333333333333333,
              "#9c179e"
             ],
             [
              0.4444444444444444,
              "#bd3786"
             ],
             [
              0.5555555555555556,
              "#d8576b"
             ],
             [
              0.6666666666666666,
              "#ed7953"
             ],
             [
              0.7777777777777778,
              "#fb9f3a"
             ],
             [
              0.8888888888888888,
              "#fdca26"
             ],
             [
              1,
              "#f0f921"
             ]
            ],
            "type": "surface"
           }
          ],
          "table": [
           {
            "cells": {
             "fill": {
              "color": "#EBF0F8"
             },
             "line": {
              "color": "white"
             }
            },
            "header": {
             "fill": {
              "color": "#C8D4E3"
             },
             "line": {
              "color": "white"
             }
            },
            "type": "table"
           }
          ]
         },
         "layout": {
          "annotationdefaults": {
           "arrowcolor": "#2a3f5f",
           "arrowhead": 0,
           "arrowwidth": 1
          },
          "autotypenumbers": "strict",
          "coloraxis": {
           "colorbar": {
            "outlinewidth": 0,
            "ticks": ""
           }
          },
          "colorscale": {
           "diverging": [
            [
             0,
             "#8e0152"
            ],
            [
             0.1,
             "#c51b7d"
            ],
            [
             0.2,
             "#de77ae"
            ],
            [
             0.3,
             "#f1b6da"
            ],
            [
             0.4,
             "#fde0ef"
            ],
            [
             0.5,
             "#f7f7f7"
            ],
            [
             0.6,
             "#e6f5d0"
            ],
            [
             0.7,
             "#b8e186"
            ],
            [
             0.8,
             "#7fbc41"
            ],
            [
             0.9,
             "#4d9221"
            ],
            [
             1,
             "#276419"
            ]
           ],
           "sequential": [
            [
             0,
             "#0d0887"
            ],
            [
             0.1111111111111111,
             "#46039f"
            ],
            [
             0.2222222222222222,
             "#7201a8"
            ],
            [
             0.3333333333333333,
             "#9c179e"
            ],
            [
             0.4444444444444444,
             "#bd3786"
            ],
            [
             0.5555555555555556,
             "#d8576b"
            ],
            [
             0.6666666666666666,
             "#ed7953"
            ],
            [
             0.7777777777777778,
             "#fb9f3a"
            ],
            [
             0.8888888888888888,
             "#fdca26"
            ],
            [
             1,
             "#f0f921"
            ]
           ],
           "sequentialminus": [
            [
             0,
             "#0d0887"
            ],
            [
             0.1111111111111111,
             "#46039f"
            ],
            [
             0.2222222222222222,
             "#7201a8"
            ],
            [
             0.3333333333333333,
             "#9c179e"
            ],
            [
             0.4444444444444444,
             "#bd3786"
            ],
            [
             0.5555555555555556,
             "#d8576b"
            ],
            [
             0.6666666666666666,
             "#ed7953"
            ],
            [
             0.7777777777777778,
             "#fb9f3a"
            ],
            [
             0.8888888888888888,
             "#fdca26"
            ],
            [
             1,
             "#f0f921"
            ]
           ]
          },
          "colorway": [
           "#636efa",
           "#EF553B",
           "#00cc96",
           "#ab63fa",
           "#FFA15A",
           "#19d3f3",
           "#FF6692",
           "#B6E880",
           "#FF97FF",
           "#FECB52"
          ],
          "font": {
           "color": "#2a3f5f"
          },
          "geo": {
           "bgcolor": "white",
           "lakecolor": "white",
           "landcolor": "#E5ECF6",
           "showlakes": true,
           "showland": true,
           "subunitcolor": "white"
          },
          "hoverlabel": {
           "align": "left"
          },
          "hovermode": "closest",
          "mapbox": {
           "style": "light"
          },
          "paper_bgcolor": "white",
          "plot_bgcolor": "#E5ECF6",
          "polar": {
           "angularaxis": {
            "gridcolor": "white",
            "linecolor": "white",
            "ticks": ""
           },
           "bgcolor": "#E5ECF6",
           "radialaxis": {
            "gridcolor": "white",
            "linecolor": "white",
            "ticks": ""
           }
          },
          "scene": {
           "xaxis": {
            "backgroundcolor": "#E5ECF6",
            "gridcolor": "white",
            "gridwidth": 2,
            "linecolor": "white",
            "showbackground": true,
            "ticks": "",
            "zerolinecolor": "white"
           },
           "yaxis": {
            "backgroundcolor": "#E5ECF6",
            "gridcolor": "white",
            "gridwidth": 2,
            "linecolor": "white",
            "showbackground": true,
            "ticks": "",
            "zerolinecolor": "white"
           },
           "zaxis": {
            "backgroundcolor": "#E5ECF6",
            "gridcolor": "white",
            "gridwidth": 2,
            "linecolor": "white",
            "showbackground": true,
            "ticks": "",
            "zerolinecolor": "white"
           }
          },
          "shapedefaults": {
           "line": {
            "color": "#2a3f5f"
           }
          },
          "ternary": {
           "aaxis": {
            "gridcolor": "white",
            "linecolor": "white",
            "ticks": ""
           },
           "baxis": {
            "gridcolor": "white",
            "linecolor": "white",
            "ticks": ""
           },
           "bgcolor": "#E5ECF6",
           "caxis": {
            "gridcolor": "white",
            "linecolor": "white",
            "ticks": ""
           }
          },
          "title": {
           "x": 0.05
          },
          "xaxis": {
           "automargin": true,
           "gridcolor": "white",
           "linecolor": "white",
           "ticks": "",
           "title": {
            "standoff": 15
           },
           "zerolinecolor": "white",
           "zerolinewidth": 2
          },
          "yaxis": {
           "automargin": true,
           "gridcolor": "white",
           "linecolor": "white",
           "ticks": "",
           "title": {
            "standoff": 15
           },
           "zerolinecolor": "white",
           "zerolinewidth": 2
          }
         }
        },
        "title": {
         "text": "CIBI A BASE ANIMALE - Inquinamento e quantità prodotte"
        },
        "xaxis": {
         "anchor": "y",
         "domain": [
          0,
          1
         ],
         "title": {
          "text": "Anno"
         }
        },
        "yaxis": {
         "anchor": "x",
         "domain": [
          0,
          1
         ],
         "title": {
          "text": "value"
         }
        }
       }
      }
     },
     "metadata": {},
     "output_type": "display_data"
    },
    {
     "data": {
      "application/vnd.plotly.v1+json": {
       "config": {
        "plotlyServerURL": "https://plot.ly"
       },
       "data": [
        {
         "alignmentgroup": "True",
         "hovertemplate": "variable=Quantity(Tonnes)<br>Anno=%{x}<br>value=%{y}<extra></extra>",
         "legendgroup": "Quantity(Tonnes)",
         "marker": {
          "color": "#636efa",
          "pattern": {
           "shape": ""
          }
         },
         "name": "Quantity(Tonnes)",
         "offsetgroup": "Quantity(Tonnes)",
         "orientation": "v",
         "showlegend": true,
         "textposition": "auto",
         "type": "bar",
         "x": [
          1961,
          1962,
          1963,
          1964,
          1965,
          1966,
          1967,
          1968,
          1969,
          1970,
          1971,
          1972,
          1973,
          1974,
          1975,
          1976,
          1977,
          1978,
          1979,
          1980,
          1981,
          1982,
          1983,
          1984,
          1985,
          1986,
          1987,
          1988,
          1989,
          1990,
          1991,
          1992,
          1993,
          1994,
          1995,
          1996,
          1997,
          1998,
          1999,
          2000,
          2001,
          2002,
          2003,
          2004,
          2005,
          2006,
          2007,
          2008,
          2009,
          2010,
          2011,
          2012,
          2013
         ],
         "xaxis": "x",
         "y": [
          781522000,
          801470000,
          827383000,
          848308000,
          871175000,
          895024000,
          901655000,
          948661000,
          959894000,
          980843000,
          992773000,
          1007754000,
          1031967000,
          1047085000,
          1076302000,
          1081360000,
          1124128000,
          1177074000,
          1201405000,
          1187232000,
          1237321000,
          1286747000,
          1314787000,
          1385078000,
          1424199000,
          1456976000,
          1498858000,
          1526345000,
          1552919000,
          1589353000,
          1599356000,
          1647743000,
          1722441000,
          1768126000,
          1813750000,
          1864931000,
          1918555000,
          1988860000,
          2069507000,
          2164832000,
          2188415000,
          2233553000,
          2252554000,
          2313368000,
          2349867000,
          2402183000,
          2467139000,
          2538902000,
          2586212000,
          2649341000,
          2742183000,
          2804646000,
          2854984000
         ],
         "yaxis": "y"
        },
        {
         "alignmentgroup": "True",
         "hovertemplate": "variable=Yearly gas serra emissions(Tonnes)<br>Anno=%{x}<br>value=%{y}<extra></extra>",
         "legendgroup": "Yearly gas serra emissions(Tonnes)",
         "marker": {
          "color": "#EF553B",
          "pattern": {
           "shape": ""
          }
         },
         "name": "Yearly gas serra emissions(Tonnes)",
         "offsetgroup": "Yearly gas serra emissions(Tonnes)",
         "orientation": "v",
         "showlegend": true,
         "textposition": "auto",
         "type": "bar",
         "x": [
          1961,
          1962,
          1963,
          1964,
          1965,
          1966,
          1967,
          1968,
          1969,
          1970,
          1971,
          1972,
          1973,
          1974,
          1975,
          1976,
          1977,
          1978,
          1979,
          1980,
          1981,
          1982,
          1983,
          1984,
          1985,
          1986,
          1987,
          1988,
          1989,
          1990,
          1991,
          1992,
          1993,
          1994,
          1995,
          1996,
          1997,
          1998,
          1999,
          2000,
          2001,
          2002,
          2003,
          2004,
          2005,
          2006,
          2007,
          2008,
          2009,
          2010,
          2011,
          2012,
          2013
         ],
         "xaxis": "x",
         "y": [
          58123834.44904095,
          61374670.643952124,
          63934014.29916699,
          66501518.48506564,
          66752947.94023757,
          70268636.74957383,
          68786479.81133528,
          75399911.10753666,
          75182170.97016324,
          77280124.13123317,
          77037576.99706838,
          76903976.62023035,
          79063145.07824808,
          82150935.76052038,
          86872688.08781584,
          85537197.8671282,
          88880128.02747142,
          92464811.38387015,
          93916484.11775331,
          91690489.66757151,
          96041134.91691211,
          99197318.8917898,
          98690715.20144789,
          103428046.50366168,
          107856171.35141253,
          107844595.26195545,
          112775553.22119503,
          117191200.05685842,
          120465856.88000455,
          125624992.65803711,
          125407605.2260828,
          128560229.90693566,
          131411554.22690503,
          134450796.650142,
          136811376.71496913,
          135785843.31157842,
          140966850.09257627,
          146730355.11071452,
          153136225.59625003,
          152842436.5172559,
          151034338.61016256,
          154092733.99118426,
          154827857.381664,
          161527550.72888252,
          161901959.9015563,
          167482672.0067351,
          174855408.83127192,
          180200519.5151374,
          185613126.31438646,
          186655490.21144465,
          194186014.53726262,
          196363863.9823472,
          199315276.96247423
         ],
         "yaxis": "y"
        },
        {
         "alignmentgroup": "True",
         "hovertemplate": "variable=Yearly TonnesCO2<br>Anno=%{x}<br>value=%{y}<extra></extra>",
         "legendgroup": "Yearly TonnesCO2",
         "marker": {
          "color": "#00cc96",
          "pattern": {
           "shape": ""
          }
         },
         "name": "Yearly TonnesCO2",
         "offsetgroup": "Yearly TonnesCO2",
         "orientation": "v",
         "showlegend": true,
         "textposition": "auto",
         "type": "bar",
         "x": [
          1961,
          1962,
          1963,
          1964,
          1965,
          1966,
          1967,
          1968,
          1969,
          1970,
          1971,
          1972,
          1973,
          1974,
          1975,
          1976,
          1977,
          1978,
          1979,
          1980,
          1981,
          1982,
          1983,
          1984,
          1985,
          1986,
          1987,
          1988,
          1989,
          1990,
          1991,
          1992,
          1993,
          1994,
          1995,
          1996,
          1997,
          1998,
          1999,
          2000,
          2001,
          2002,
          2003,
          2004,
          2005,
          2006,
          2007,
          2008,
          2009,
          2010,
          2011,
          2012,
          2013
         ],
         "xaxis": "x",
         "y": [
          929857100,
          981838000,
          1024251100,
          1064622400,
          1074486400,
          1118959600,
          1116723700,
          1189538800,
          1197839100,
          1250824400,
          1268186700,
          1268567200,
          1300237200,
          1336313900,
          1396128600,
          1396843500,
          1434754200,
          1487781200,
          1517902300,
          1518365200,
          1573307300,
          1648303000,
          1684572500,
          1737688600,
          1790751200,
          1805724600,
          1875332600,
          1925724600,
          1976134000,
          2028878200,
          2006032100,
          2050769200,
          2118231300,
          2168655500,
          2223734000,
          2258440400,
          2317170200,
          2383271100,
          2478878900,
          2518139800,
          2529924100,
          2576848500,
          2594035000,
          2657725200,
          2686071200,
          2753748900,
          2837844900,
          2924227300,
          2979407700,
          3015917500,
          3099840200,
          3142605900,
          3186037900
         ],
         "yaxis": "y"
        },
        {
         "alignmentgroup": "True",
         "hovertemplate": "variable=Yearly Tonnes PO4 producted<br>Anno=%{x}<br>value=%{y}<extra></extra>",
         "legendgroup": "Yearly Tonnes PO4 producted",
         "marker": {
          "color": "#ab63fa",
          "pattern": {
           "shape": ""
          }
         },
         "name": "Yearly Tonnes PO4 producted",
         "offsetgroup": "Yearly Tonnes PO4 producted",
         "orientation": "v",
         "showlegend": true,
         "textposition": "auto",
         "type": "bar",
         "x": [
          1961,
          1962,
          1963,
          1964,
          1965,
          1966,
          1967,
          1968,
          1969,
          1970,
          1971,
          1972,
          1973,
          1974,
          1975,
          1976,
          1977,
          1978,
          1979,
          1980,
          1981,
          1982,
          1983,
          1984,
          1985,
          1986,
          1987,
          1988,
          1989,
          1990,
          1991,
          1992,
          1993,
          1994,
          1995,
          1996,
          1997,
          1998,
          1999,
          2000,
          2001,
          2002,
          2003,
          2004,
          2005,
          2006,
          2007,
          2008,
          2009,
          2010,
          2011,
          2012,
          2013
         ],
         "xaxis": "x",
         "y": [
          6827908.91,
          7226835.52,
          7559994.65,
          7872980.569999999,
          7935895.79,
          8247718.649999999,
          8236991.86,
          8748188.35,
          8806616.65,
          9277853.76,
          9396485.540000001,
          9400375.57,
          9647095.26,
          9891606.469999999,
          10302947.04,
          10304518.85,
          10593947.01,
          10964687.32,
          11179680.52,
          11176427.89,
          11545060.74,
          12133102.040000001,
          12491061.540000001,
          12844760.68,
          13197703.72,
          13244150.41,
          13761453.28,
          14113177.64,
          14495474.63,
          14807584.18,
          14586602.07,
          14857212.290000001,
          15376519.04,
          15667656.69,
          16103258.290000001,
          16377624.09,
          16787691.72,
          17215478.28,
          17789348.13,
          17996224.11,
          18011514.83,
          18305238.03,
          18348201.39,
          18737799.85,
          18926547.46,
          19276202.37,
          19857223.57,
          20514661.82,
          20812654.73,
          21093268.3,
          21615350.06,
          21854595.78,
          22121867.48
         ],
         "yaxis": "y"
        },
        {
         "alignmentgroup": "True",
         "hovertemplate": "variable=Yearly water usage(Tonnes)<br>Anno=%{x}<br>value=%{y}<extra></extra>",
         "legendgroup": "Yearly water usage(Tonnes)",
         "marker": {
          "color": "#FFA15A",
          "pattern": {
           "shape": ""
          }
         },
         "name": "Yearly water usage(Tonnes)",
         "offsetgroup": "Yearly water usage(Tonnes)",
         "orientation": "v",
         "showlegend": true,
         "textposition": "auto",
         "type": "bar",
         "x": [
          1961,
          1962,
          1963,
          1964,
          1965,
          1966,
          1967,
          1968,
          1969,
          1970,
          1971,
          1972,
          1973,
          1974,
          1975,
          1976,
          1977,
          1978,
          1979,
          1980,
          1981,
          1982,
          1983,
          1984,
          1985,
          1986,
          1987,
          1988,
          1989,
          1990,
          1991,
          1992,
          1993,
          1994,
          1995,
          1996,
          1997,
          1998,
          1999,
          2000,
          2001,
          2002,
          2003,
          2004,
          2005,
          2006,
          2007,
          2008,
          2009,
          2010,
          2011,
          2012,
          2013
         ],
         "xaxis": "x",
         "y": [
          362098833.7,
          385328698,
          404351363.1,
          424645295.2,
          428327821.8,
          445829137.40000004,
          448386639.90000004,
          472460825.2,
          478051345.6,
          508964556,
          517325949.09999996,
          518508997.59999996,
          532936917.7,
          546276174.4,
          570144014.3000001,
          570883844.7,
          592289573.7,
          611816475.8,
          621025293.5,
          627647242.1,
          646651113.6,
          684391435.8000001,
          707655316.7,
          725955538.4,
          746971318.1,
          749608267.4,
          777295937.1,
          797600866.7,
          816864959.4,
          835731618.7,
          823743760.3,
          838653416.7,
          868337183.7,
          886727163.9,
          912708447.3,
          932359093.3,
          952072585.1,
          973036135.4,
          1003745122.9,
          1017936792.4,
          1021965132.6999999,
          1038038726.5,
          1041733019.7,
          1061550836.6,
          1077188282.2,
          1099833967,
          1130387610.8,
          1170913858.3999999,
          1189902958.6,
          1205417081.3,
          1232106571.1,
          1245152954.7,
          1260969008.9
         ],
         "yaxis": "y"
        }
       ],
       "layout": {
        "barmode": "relative",
        "height": 600,
        "legend": {
         "title": {
          "text": "variable"
         },
         "tracegroupgap": 0
        },
        "template": {
         "data": {
          "bar": [
           {
            "error_x": {
             "color": "#2a3f5f"
            },
            "error_y": {
             "color": "#2a3f5f"
            },
            "marker": {
             "line": {
              "color": "#E5ECF6",
              "width": 0.5
             },
             "pattern": {
              "fillmode": "overlay",
              "size": 10,
              "solidity": 0.2
             }
            },
            "type": "bar"
           }
          ],
          "barpolar": [
           {
            "marker": {
             "line": {
              "color": "#E5ECF6",
              "width": 0.5
             },
             "pattern": {
              "fillmode": "overlay",
              "size": 10,
              "solidity": 0.2
             }
            },
            "type": "barpolar"
           }
          ],
          "carpet": [
           {
            "aaxis": {
             "endlinecolor": "#2a3f5f",
             "gridcolor": "white",
             "linecolor": "white",
             "minorgridcolor": "white",
             "startlinecolor": "#2a3f5f"
            },
            "baxis": {
             "endlinecolor": "#2a3f5f",
             "gridcolor": "white",
             "linecolor": "white",
             "minorgridcolor": "white",
             "startlinecolor": "#2a3f5f"
            },
            "type": "carpet"
           }
          ],
          "choropleth": [
           {
            "colorbar": {
             "outlinewidth": 0,
             "ticks": ""
            },
            "type": "choropleth"
           }
          ],
          "contour": [
           {
            "colorbar": {
             "outlinewidth": 0,
             "ticks": ""
            },
            "colorscale": [
             [
              0,
              "#0d0887"
             ],
             [
              0.1111111111111111,
              "#46039f"
             ],
             [
              0.2222222222222222,
              "#7201a8"
             ],
             [
              0.3333333333333333,
              "#9c179e"
             ],
             [
              0.4444444444444444,
              "#bd3786"
             ],
             [
              0.5555555555555556,
              "#d8576b"
             ],
             [
              0.6666666666666666,
              "#ed7953"
             ],
             [
              0.7777777777777778,
              "#fb9f3a"
             ],
             [
              0.8888888888888888,
              "#fdca26"
             ],
             [
              1,
              "#f0f921"
             ]
            ],
            "type": "contour"
           }
          ],
          "contourcarpet": [
           {
            "colorbar": {
             "outlinewidth": 0,
             "ticks": ""
            },
            "type": "contourcarpet"
           }
          ],
          "heatmap": [
           {
            "colorbar": {
             "outlinewidth": 0,
             "ticks": ""
            },
            "colorscale": [
             [
              0,
              "#0d0887"
             ],
             [
              0.1111111111111111,
              "#46039f"
             ],
             [
              0.2222222222222222,
              "#7201a8"
             ],
             [
              0.3333333333333333,
              "#9c179e"
             ],
             [
              0.4444444444444444,
              "#bd3786"
             ],
             [
              0.5555555555555556,
              "#d8576b"
             ],
             [
              0.6666666666666666,
              "#ed7953"
             ],
             [
              0.7777777777777778,
              "#fb9f3a"
             ],
             [
              0.8888888888888888,
              "#fdca26"
             ],
             [
              1,
              "#f0f921"
             ]
            ],
            "type": "heatmap"
           }
          ],
          "heatmapgl": [
           {
            "colorbar": {
             "outlinewidth": 0,
             "ticks": ""
            },
            "colorscale": [
             [
              0,
              "#0d0887"
             ],
             [
              0.1111111111111111,
              "#46039f"
             ],
             [
              0.2222222222222222,
              "#7201a8"
             ],
             [
              0.3333333333333333,
              "#9c179e"
             ],
             [
              0.4444444444444444,
              "#bd3786"
             ],
             [
              0.5555555555555556,
              "#d8576b"
             ],
             [
              0.6666666666666666,
              "#ed7953"
             ],
             [
              0.7777777777777778,
              "#fb9f3a"
             ],
             [
              0.8888888888888888,
              "#fdca26"
             ],
             [
              1,
              "#f0f921"
             ]
            ],
            "type": "heatmapgl"
           }
          ],
          "histogram": [
           {
            "marker": {
             "pattern": {
              "fillmode": "overlay",
              "size": 10,
              "solidity": 0.2
             }
            },
            "type": "histogram"
           }
          ],
          "histogram2d": [
           {
            "colorbar": {
             "outlinewidth": 0,
             "ticks": ""
            },
            "colorscale": [
             [
              0,
              "#0d0887"
             ],
             [
              0.1111111111111111,
              "#46039f"
             ],
             [
              0.2222222222222222,
              "#7201a8"
             ],
             [
              0.3333333333333333,
              "#9c179e"
             ],
             [
              0.4444444444444444,
              "#bd3786"
             ],
             [
              0.5555555555555556,
              "#d8576b"
             ],
             [
              0.6666666666666666,
              "#ed7953"
             ],
             [
              0.7777777777777778,
              "#fb9f3a"
             ],
             [
              0.8888888888888888,
              "#fdca26"
             ],
             [
              1,
              "#f0f921"
             ]
            ],
            "type": "histogram2d"
           }
          ],
          "histogram2dcontour": [
           {
            "colorbar": {
             "outlinewidth": 0,
             "ticks": ""
            },
            "colorscale": [
             [
              0,
              "#0d0887"
             ],
             [
              0.1111111111111111,
              "#46039f"
             ],
             [
              0.2222222222222222,
              "#7201a8"
             ],
             [
              0.3333333333333333,
              "#9c179e"
             ],
             [
              0.4444444444444444,
              "#bd3786"
             ],
             [
              0.5555555555555556,
              "#d8576b"
             ],
             [
              0.6666666666666666,
              "#ed7953"
             ],
             [
              0.7777777777777778,
              "#fb9f3a"
             ],
             [
              0.8888888888888888,
              "#fdca26"
             ],
             [
              1,
              "#f0f921"
             ]
            ],
            "type": "histogram2dcontour"
           }
          ],
          "mesh3d": [
           {
            "colorbar": {
             "outlinewidth": 0,
             "ticks": ""
            },
            "type": "mesh3d"
           }
          ],
          "parcoords": [
           {
            "line": {
             "colorbar": {
              "outlinewidth": 0,
              "ticks": ""
             }
            },
            "type": "parcoords"
           }
          ],
          "pie": [
           {
            "automargin": true,
            "type": "pie"
           }
          ],
          "scatter": [
           {
            "fillpattern": {
             "fillmode": "overlay",
             "size": 10,
             "solidity": 0.2
            },
            "type": "scatter"
           }
          ],
          "scatter3d": [
           {
            "line": {
             "colorbar": {
              "outlinewidth": 0,
              "ticks": ""
             }
            },
            "marker": {
             "colorbar": {
              "outlinewidth": 0,
              "ticks": ""
             }
            },
            "type": "scatter3d"
           }
          ],
          "scattercarpet": [
           {
            "marker": {
             "colorbar": {
              "outlinewidth": 0,
              "ticks": ""
             }
            },
            "type": "scattercarpet"
           }
          ],
          "scattergeo": [
           {
            "marker": {
             "colorbar": {
              "outlinewidth": 0,
              "ticks": ""
             }
            },
            "type": "scattergeo"
           }
          ],
          "scattergl": [
           {
            "marker": {
             "colorbar": {
              "outlinewidth": 0,
              "ticks": ""
             }
            },
            "type": "scattergl"
           }
          ],
          "scattermapbox": [
           {
            "marker": {
             "colorbar": {
              "outlinewidth": 0,
              "ticks": ""
             }
            },
            "type": "scattermapbox"
           }
          ],
          "scatterpolar": [
           {
            "marker": {
             "colorbar": {
              "outlinewidth": 0,
              "ticks": ""
             }
            },
            "type": "scatterpolar"
           }
          ],
          "scatterpolargl": [
           {
            "marker": {
             "colorbar": {
              "outlinewidth": 0,
              "ticks": ""
             }
            },
            "type": "scatterpolargl"
           }
          ],
          "scatterternary": [
           {
            "marker": {
             "colorbar": {
              "outlinewidth": 0,
              "ticks": ""
             }
            },
            "type": "scatterternary"
           }
          ],
          "surface": [
           {
            "colorbar": {
             "outlinewidth": 0,
             "ticks": ""
            },
            "colorscale": [
             [
              0,
              "#0d0887"
             ],
             [
              0.1111111111111111,
              "#46039f"
             ],
             [
              0.2222222222222222,
              "#7201a8"
             ],
             [
              0.3333333333333333,
              "#9c179e"
             ],
             [
              0.4444444444444444,
              "#bd3786"
             ],
             [
              0.5555555555555556,
              "#d8576b"
             ],
             [
              0.6666666666666666,
              "#ed7953"
             ],
             [
              0.7777777777777778,
              "#fb9f3a"
             ],
             [
              0.8888888888888888,
              "#fdca26"
             ],
             [
              1,
              "#f0f921"
             ]
            ],
            "type": "surface"
           }
          ],
          "table": [
           {
            "cells": {
             "fill": {
              "color": "#EBF0F8"
             },
             "line": {
              "color": "white"
             }
            },
            "header": {
             "fill": {
              "color": "#C8D4E3"
             },
             "line": {
              "color": "white"
             }
            },
            "type": "table"
           }
          ]
         },
         "layout": {
          "annotationdefaults": {
           "arrowcolor": "#2a3f5f",
           "arrowhead": 0,
           "arrowwidth": 1
          },
          "autotypenumbers": "strict",
          "coloraxis": {
           "colorbar": {
            "outlinewidth": 0,
            "ticks": ""
           }
          },
          "colorscale": {
           "diverging": [
            [
             0,
             "#8e0152"
            ],
            [
             0.1,
             "#c51b7d"
            ],
            [
             0.2,
             "#de77ae"
            ],
            [
             0.3,
             "#f1b6da"
            ],
            [
             0.4,
             "#fde0ef"
            ],
            [
             0.5,
             "#f7f7f7"
            ],
            [
             0.6,
             "#e6f5d0"
            ],
            [
             0.7,
             "#b8e186"
            ],
            [
             0.8,
             "#7fbc41"
            ],
            [
             0.9,
             "#4d9221"
            ],
            [
             1,
             "#276419"
            ]
           ],
           "sequential": [
            [
             0,
             "#0d0887"
            ],
            [
             0.1111111111111111,
             "#46039f"
            ],
            [
             0.2222222222222222,
             "#7201a8"
            ],
            [
             0.3333333333333333,
             "#9c179e"
            ],
            [
             0.4444444444444444,
             "#bd3786"
            ],
            [
             0.5555555555555556,
             "#d8576b"
            ],
            [
             0.6666666666666666,
             "#ed7953"
            ],
            [
             0.7777777777777778,
             "#fb9f3a"
            ],
            [
             0.8888888888888888,
             "#fdca26"
            ],
            [
             1,
             "#f0f921"
            ]
           ],
           "sequentialminus": [
            [
             0,
             "#0d0887"
            ],
            [
             0.1111111111111111,
             "#46039f"
            ],
            [
             0.2222222222222222,
             "#7201a8"
            ],
            [
             0.3333333333333333,
             "#9c179e"
            ],
            [
             0.4444444444444444,
             "#bd3786"
            ],
            [
             0.5555555555555556,
             "#d8576b"
            ],
            [
             0.6666666666666666,
             "#ed7953"
            ],
            [
             0.7777777777777778,
             "#fb9f3a"
            ],
            [
             0.8888888888888888,
             "#fdca26"
            ],
            [
             1,
             "#f0f921"
            ]
           ]
          },
          "colorway": [
           "#636efa",
           "#EF553B",
           "#00cc96",
           "#ab63fa",
           "#FFA15A",
           "#19d3f3",
           "#FF6692",
           "#B6E880",
           "#FF97FF",
           "#FECB52"
          ],
          "font": {
           "color": "#2a3f5f"
          },
          "geo": {
           "bgcolor": "white",
           "lakecolor": "white",
           "landcolor": "#E5ECF6",
           "showlakes": true,
           "showland": true,
           "subunitcolor": "white"
          },
          "hoverlabel": {
           "align": "left"
          },
          "hovermode": "closest",
          "mapbox": {
           "style": "light"
          },
          "paper_bgcolor": "white",
          "plot_bgcolor": "#E5ECF6",
          "polar": {
           "angularaxis": {
            "gridcolor": "white",
            "linecolor": "white",
            "ticks": ""
           },
           "bgcolor": "#E5ECF6",
           "radialaxis": {
            "gridcolor": "white",
            "linecolor": "white",
            "ticks": ""
           }
          },
          "scene": {
           "xaxis": {
            "backgroundcolor": "#E5ECF6",
            "gridcolor": "white",
            "gridwidth": 2,
            "linecolor": "white",
            "showbackground": true,
            "ticks": "",
            "zerolinecolor": "white"
           },
           "yaxis": {
            "backgroundcolor": "#E5ECF6",
            "gridcolor": "white",
            "gridwidth": 2,
            "linecolor": "white",
            "showbackground": true,
            "ticks": "",
            "zerolinecolor": "white"
           },
           "zaxis": {
            "backgroundcolor": "#E5ECF6",
            "gridcolor": "white",
            "gridwidth": 2,
            "linecolor": "white",
            "showbackground": true,
            "ticks": "",
            "zerolinecolor": "white"
           }
          },
          "shapedefaults": {
           "line": {
            "color": "#2a3f5f"
           }
          },
          "ternary": {
           "aaxis": {
            "gridcolor": "white",
            "linecolor": "white",
            "ticks": ""
           },
           "baxis": {
            "gridcolor": "white",
            "linecolor": "white",
            "ticks": ""
           },
           "bgcolor": "#E5ECF6",
           "caxis": {
            "gridcolor": "white",
            "linecolor": "white",
            "ticks": ""
           }
          },
          "title": {
           "x": 0.05
          },
          "xaxis": {
           "automargin": true,
           "gridcolor": "white",
           "linecolor": "white",
           "ticks": "",
           "title": {
            "standoff": 15
           },
           "zerolinecolor": "white",
           "zerolinewidth": 2
          },
          "yaxis": {
           "automargin": true,
           "gridcolor": "white",
           "linecolor": "white",
           "ticks": "",
           "title": {
            "standoff": 15
           },
           "zerolinecolor": "white",
           "zerolinewidth": 2
          }
         }
        },
        "title": {
         "text": "CIBI A BASE VEGETALE - Inquinamento e quantità prodotte"
        },
        "xaxis": {
         "anchor": "y",
         "domain": [
          0,
          1
         ],
         "title": {
          "text": "Anno"
         }
        },
        "yaxis": {
         "anchor": "x",
         "domain": [
          0,
          1
         ],
         "title": {
          "text": "value"
         }
        }
       }
      }
     },
     "metadata": {},
     "output_type": "display_data"
    }
   ],
   "source": [
    "from plotly.subplots import make_subplots\n",
    "import plotly.graph_objects as go\n",
    "\n",
    "beef_subdf_yearly_grouped = beef_subdf.groupby(\"Year\").sum(numeric_only=True).reset_index()\n",
    "veg_subdf_yearly_grouped = veg_subdf.groupby(\"Year\").sum(numeric_only=True).reset_index()\n",
    "\n",
    "fig = px.bar(\n",
    "     beef_subdf_yearly_grouped,\n",
    "     x=\"Year\",\n",
    "     y=[\"Quantity(Tonnes)\", \"Yearly gas serra emissions(Tonnes)\", \"Yearly TonnesCO2\", \"Yearly Tonnes PO4 producted\", \"Yearly water usage(Tonnes)\"],\n",
    "     labels={\n",
    "          \"Year\": \"Anno\",\n",
    "          \"Quantity(Tonnes)\": \"Quantità(Tonnellate)\",\n",
    "          \"Yearly gas serra emissions(Tonnes)\": \"Gas serra annuo(Tonnellate)\",\n",
    "          \"Yearly TonnesCO2\": \"CO2 annua(Tonnellate)\",\n",
    "          \"Yearly Tonnes PO4 producted\": \"PO4 annua(Tonnellate)\",\n",
    "          \"Yearly water usage(Tonnes)\": \"Utilizzo acqua annuo(Tonnellate)\",\n",
    "     },\n",
    "     title=\"CIBI A BASE ANIMALE - Inquinamento e quantità prodotte\",\n",
    "     height=600\n",
    ")\n",
    "\n",
    "fig.show()\n",
    "\n",
    "fig = px.bar(\n",
    "     veg_subdf_yearly_grouped,\n",
    "     x=\"Year\",\n",
    "     y=[\"Quantity(Tonnes)\", \"Yearly gas serra emissions(Tonnes)\", \"Yearly TonnesCO2\", \"Yearly Tonnes PO4 producted\", \"Yearly water usage(Tonnes)\"],\n",
    "     labels={\n",
    "          \"Year\": \"Anno\",\n",
    "          \"Quantity(Tonnes)\": \"Quantità(Tonnellate)\",\n",
    "          \"Yearly gas serra emissions(Tonnes)\": \"Gas serra annuo(Tonnellate)\",\n",
    "          \"Yearly TonnesCO2\": \"CO2 annua(Tonnellate)\",\n",
    "          \"Yearly Tonnes PO4 producted\": \"PO4 annua(Tonnellate)\",\n",
    "          \"Yearly water usage(Tonnes)\": \"Utilizzo acqua annuo(Tonnellate)\",\n",
    "     },\n",
    "     title=\"CIBI A BASE VEGETALE - Inquinamento e quantità prodotte\",\n",
    "     height=600\n",
    ")\n",
    "\n",
    "fig.show()"
   ]
  },
  {
   "cell_type": "markdown",
   "metadata": {},
   "source": [
    "# Rapporto quantità inquinamento\n",
    "#### Andremo a vedere quanto vale il rapporto tra inquinamento e quantità prodotta"
   ]
  },
  {
   "cell_type": "code",
   "execution_count": 821,
   "metadata": {},
   "outputs": [
    {
     "data": {
      "application/vnd.plotly.v1+json": {
       "config": {
        "plotlyServerURL": "https://plot.ly"
       },
       "data": [
        {
         "alignmentgroup": "True",
         "hovertemplate": "variable=gas_serra/Quantity<br>Anno=%{x}<br>value=%{y}<extra></extra>",
         "legendgroup": "gas_serra/Quantity",
         "marker": {
          "color": "#636efa",
          "pattern": {
           "shape": ""
          }
         },
         "name": "gas_serra/Quantity",
         "offsetgroup": "gas_serra/Quantity",
         "orientation": "v",
         "showlegend": true,
         "textposition": "auto",
         "type": "bar",
         "x": [
          1961,
          1962,
          1963,
          1964,
          1965,
          1966,
          1967,
          1968,
          1969,
          1970,
          1971,
          1972,
          1973,
          1974,
          1975,
          1976,
          1977,
          1978,
          1979,
          1980,
          1981,
          1982,
          1983,
          1984,
          1985,
          1986,
          1987,
          1988,
          1989,
          1990,
          1991,
          1992,
          1993,
          1994,
          1995,
          1996,
          1997,
          1998,
          1999,
          2000,
          2001,
          2002,
          2003,
          2004,
          2005,
          2006,
          2007,
          2008,
          2009,
          2010,
          2011,
          2012,
          2013
         ],
         "xaxis": "x",
         "y": [
          0.8235493717637042,
          0.8429652244126455,
          0.8589217289752904,
          0.8649942046614527,
          0.8641908464886155,
          0.8780122977526514,
          0.8898981638574527,
          0.8988061378946398,
          0.904738697083232,
          0.9205570206582726,
          0.9153776200836035,
          0.9094476425237279,
          0.901969169491835,
          0.9271531446643234,
          0.9526148310403868,
          0.9674066181089016,
          0.9552049931364963,
          0.9448165454885409,
          0.9133688958197029,
          0.9143970725745502,
          0.9169295719420059,
          0.9112145248264368,
          0.8986866331478588,
          0.8971918040122681,
          0.9029583678704229,
          0.9178414672832922,
          0.912365579046304,
          0.9169760593024135,
          0.9175978671480606,
          0.9184643728335906,
          0.9292672327390609,
          0.9291372284438374,
          0.9264330291541873,
          0.9313143250704033,
          0.9295647525560458,
          0.9307273944689842,
          0.9338405768881787,
          0.9327124856398756,
          0.9322475140780071,
          0.9379324804541893,
          0.9208762311315408,
          0.9215123693230944,
          0.9134078437408528,
          0.9105799684311287,
          0.9050049475397193,
          0.9029137711278075,
          0.903102651714894,
          0.8960666703052786,
          0.8901499664533064,
          0.8870782194887037,
          0.8740176939651385,
          0.8672300286369753,
          0.8674706099810338
         ],
         "yaxis": "y"
        },
        {
         "alignmentgroup": "True",
         "hovertemplate": "variable=CO2/Quantity<br>Anno=%{x}<br>value=%{y}<extra></extra>",
         "legendgroup": "CO2/Quantity",
         "marker": {
          "color": "#EF553B",
          "pattern": {
           "shape": ""
          }
         },
         "name": "CO2/Quantity",
         "offsetgroup": "CO2/Quantity",
         "orientation": "v",
         "showlegend": true,
         "textposition": "auto",
         "type": "bar",
         "x": [
          1961,
          1962,
          1963,
          1964,
          1965,
          1966,
          1967,
          1968,
          1969,
          1970,
          1971,
          1972,
          1973,
          1974,
          1975,
          1976,
          1977,
          1978,
          1979,
          1980,
          1981,
          1982,
          1983,
          1984,
          1985,
          1986,
          1987,
          1988,
          1989,
          1990,
          1991,
          1992,
          1993,
          1994,
          1995,
          1996,
          1997,
          1998,
          1999,
          2000,
          2001,
          2002,
          2003,
          2004,
          2005,
          2006,
          2007,
          2008,
          2009,
          2010,
          2011,
          2012,
          2013
         ],
         "xaxis": "x",
         "y": [
          5.4842976213233365,
          5.568513039611937,
          5.6391728784262884,
          5.659231774068167,
          5.648412020690058,
          5.712050053666326,
          5.759084459372487,
          5.787606627813428,
          5.8186077311719675,
          5.889653711636972,
          5.857480391791098,
          5.822640662278066,
          5.798379693374718,
          5.914925248395636,
          6.031681040018711,
          6.102741726469425,
          6.043556553763241,
          5.993008882112285,
          5.836371481702143,
          5.840701004234294,
          5.84506714481019,
          5.809690611273687,
          5.755375734425815,
          5.7435299954718095,
          5.761728179059277,
          5.821926538142932,
          5.782432512595399,
          5.794418327558525,
          5.791404850461509,
          5.796367781185063,
          5.841929282977988,
          5.83317339998558,
          5.807389002098374,
          5.812819039660155,
          5.799512006815399,
          5.805034405237363,
          5.812809606328038,
          5.818834396071317,
          5.809563102828184,
          5.824841585032212,
          5.744996406499329,
          5.75131445693903,
          5.715227222326922,
          5.695329854092124,
          5.667540328224194,
          5.662523612952515,
          5.6636022455627115,
          5.62280817788366,
          5.592838059358573,
          5.5762940216515124,
          5.512695064902878,
          5.4810268568720355,
          5.481568224919857
         ],
         "yaxis": "y"
        },
        {
         "alignmentgroup": "True",
         "hovertemplate": "variable=PO4/Quantity<br>Anno=%{x}<br>value=%{y}<extra></extra>",
         "legendgroup": "PO4/Quantity",
         "marker": {
          "color": "#00cc96",
          "pattern": {
           "shape": ""
          }
         },
         "name": "PO4/Quantity",
         "offsetgroup": "PO4/Quantity",
         "orientation": "v",
         "showlegend": true,
         "textposition": "auto",
         "type": "bar",
         "x": [
          1961,
          1962,
          1963,
          1964,
          1965,
          1966,
          1967,
          1968,
          1969,
          1970,
          1971,
          1972,
          1973,
          1974,
          1975,
          1976,
          1977,
          1978,
          1979,
          1980,
          1981,
          1982,
          1983,
          1984,
          1985,
          1986,
          1987,
          1988,
          1989,
          1990,
          1991,
          1992,
          1993,
          1994,
          1995,
          1996,
          1997,
          1998,
          1999,
          2000,
          2001,
          2002,
          2003,
          2004,
          2005,
          2006,
          2007,
          2008,
          2009,
          2010,
          2011,
          2012,
          2013
         ],
         "xaxis": "x",
         "y": [
          0.038143709964187054,
          0.039250509733323974,
          0.04003590817726185,
          0.04081575265465095,
          0.04118184235905806,
          0.04160297377664645,
          0.042559736974012385,
          0.04395796514345755,
          0.04367837484959792,
          0.044154779360629455,
          0.044482263890762264,
          0.04470397980369819,
          0.04348655387668289,
          0.044376805232064276,
          0.04533849080479506,
          0.045553494764893274,
          0.045195883641765015,
          0.044833935886780626,
          0.04436684527011982,
          0.04420728013445218,
          0.04465651382310102,
          0.045066015638820255,
          0.04435185676923026,
          0.04479556583967605,
          0.04554878940090895,
          0.046507870583042565,
          0.047083702321071695,
          0.04770999917792704,
          0.04809379899263353,
          0.04766468234149698,
          0.047938930423195275,
          0.04821174986180874,
          0.04877661066269213,
          0.05018583815775729,
          0.05018712005927977,
          0.050206031438803256,
          0.050427576949328826,
          0.04911286937567063,
          0.049421855272192255,
          0.0502597045274027,
          0.04964083032028064,
          0.04922758224342849,
          0.048731635434618566,
          0.0490834819956289,
          0.049073560195369834,
          0.048603502022174914,
          0.04832620772132269,
          0.04842824692119577,
          0.04840306812189788,
          0.048267665666441306,
          0.047916549676260106,
          0.04774560238568829,
          0.047503347155770766
         ],
         "yaxis": "y"
        },
        {
         "alignmentgroup": "True",
         "hovertemplate": "variable=water_usage/Quantity<br>Anno=%{x}<br>value=%{y}<extra></extra>",
         "legendgroup": "water_usage/Quantity",
         "marker": {
          "color": "#ab63fa",
          "pattern": {
           "shape": ""
          }
         },
         "name": "water_usage/Quantity",
         "offsetgroup": "water_usage/Quantity",
         "orientation": "v",
         "showlegend": true,
         "textposition": "auto",
         "type": "bar",
         "x": [
          1961,
          1962,
          1963,
          1964,
          1965,
          1966,
          1967,
          1968,
          1969,
          1970,
          1971,
          1972,
          1973,
          1974,
          1975,
          1976,
          1977,
          1978,
          1979,
          1980,
          1981,
          1982,
          1983,
          1984,
          1985,
          1986,
          1987,
          1988,
          1989,
          1990,
          1991,
          1992,
          1993,
          1994,
          1995,
          1996,
          1997,
          1998,
          1999,
          2000,
          2001,
          2002,
          2003,
          2004,
          2005,
          2006,
          2007,
          2008,
          2009,
          2010,
          2011,
          2012,
          2013
         ],
         "xaxis": "x",
         "y": [
          0.870074915204347,
          0.8814510370177217,
          0.8895534951173443,
          0.9004258895184364,
          0.9064137089785823,
          0.9087036138919559,
          0.920133291587984,
          0.9383509054113662,
          0.9318267131410303,
          0.9347279077971631,
          0.9427264811982173,
          0.9478376089887766,
          0.931772691972916,
          0.938399199050808,
          0.9442935860014953,
          0.9426502480199513,
          0.9411306893470589,
          0.9392925190096526,
          0.9434570999055167,
          0.9416951878707976,
          0.947396020843481,
          0.9546279925170453,
          0.947781659213015,
          0.9550822013939895,
          0.9652594157117984,
          0.9747997002367984,
          0.9852215857417836,
          0.9942280029513434,
          0.9998236005117165,
          0.9929639652891876,
          0.994043143584953,
          0.9986207015789854,
          1.0079805723370732,
          1.0276949655555372,
          1.0274460374846919,
          1.0271313586128894,
          1.0289601085749769,
          1.010938188412343,
          1.014984472453817,
          1.0258862382362144,
          1.0214084288961778,
          1.0149729841720923,
          1.0103965886565565,
          1.0156582975911639,
          1.0168711762024898,
          1.0106297953288528,
          1.006070000541752,
          1.0098068568910243,
          1.0112294192219575,
          1.0099391182638517,
          1.0077320917004864,
          1.0076194175657542,
          1.0039954882938475
         ],
         "yaxis": "y"
        }
       ],
       "layout": {
        "barmode": "relative",
        "height": 600,
        "legend": {
         "title": {
          "text": "variable"
         },
         "tracegroupgap": 0
        },
        "template": {
         "data": {
          "bar": [
           {
            "error_x": {
             "color": "#2a3f5f"
            },
            "error_y": {
             "color": "#2a3f5f"
            },
            "marker": {
             "line": {
              "color": "#E5ECF6",
              "width": 0.5
             },
             "pattern": {
              "fillmode": "overlay",
              "size": 10,
              "solidity": 0.2
             }
            },
            "type": "bar"
           }
          ],
          "barpolar": [
           {
            "marker": {
             "line": {
              "color": "#E5ECF6",
              "width": 0.5
             },
             "pattern": {
              "fillmode": "overlay",
              "size": 10,
              "solidity": 0.2
             }
            },
            "type": "barpolar"
           }
          ],
          "carpet": [
           {
            "aaxis": {
             "endlinecolor": "#2a3f5f",
             "gridcolor": "white",
             "linecolor": "white",
             "minorgridcolor": "white",
             "startlinecolor": "#2a3f5f"
            },
            "baxis": {
             "endlinecolor": "#2a3f5f",
             "gridcolor": "white",
             "linecolor": "white",
             "minorgridcolor": "white",
             "startlinecolor": "#2a3f5f"
            },
            "type": "carpet"
           }
          ],
          "choropleth": [
           {
            "colorbar": {
             "outlinewidth": 0,
             "ticks": ""
            },
            "type": "choropleth"
           }
          ],
          "contour": [
           {
            "colorbar": {
             "outlinewidth": 0,
             "ticks": ""
            },
            "colorscale": [
             [
              0,
              "#0d0887"
             ],
             [
              0.1111111111111111,
              "#46039f"
             ],
             [
              0.2222222222222222,
              "#7201a8"
             ],
             [
              0.3333333333333333,
              "#9c179e"
             ],
             [
              0.4444444444444444,
              "#bd3786"
             ],
             [
              0.5555555555555556,
              "#d8576b"
             ],
             [
              0.6666666666666666,
              "#ed7953"
             ],
             [
              0.7777777777777778,
              "#fb9f3a"
             ],
             [
              0.8888888888888888,
              "#fdca26"
             ],
             [
              1,
              "#f0f921"
             ]
            ],
            "type": "contour"
           }
          ],
          "contourcarpet": [
           {
            "colorbar": {
             "outlinewidth": 0,
             "ticks": ""
            },
            "type": "contourcarpet"
           }
          ],
          "heatmap": [
           {
            "colorbar": {
             "outlinewidth": 0,
             "ticks": ""
            },
            "colorscale": [
             [
              0,
              "#0d0887"
             ],
             [
              0.1111111111111111,
              "#46039f"
             ],
             [
              0.2222222222222222,
              "#7201a8"
             ],
             [
              0.3333333333333333,
              "#9c179e"
             ],
             [
              0.4444444444444444,
              "#bd3786"
             ],
             [
              0.5555555555555556,
              "#d8576b"
             ],
             [
              0.6666666666666666,
              "#ed7953"
             ],
             [
              0.7777777777777778,
              "#fb9f3a"
             ],
             [
              0.8888888888888888,
              "#fdca26"
             ],
             [
              1,
              "#f0f921"
             ]
            ],
            "type": "heatmap"
           }
          ],
          "heatmapgl": [
           {
            "colorbar": {
             "outlinewidth": 0,
             "ticks": ""
            },
            "colorscale": [
             [
              0,
              "#0d0887"
             ],
             [
              0.1111111111111111,
              "#46039f"
             ],
             [
              0.2222222222222222,
              "#7201a8"
             ],
             [
              0.3333333333333333,
              "#9c179e"
             ],
             [
              0.4444444444444444,
              "#bd3786"
             ],
             [
              0.5555555555555556,
              "#d8576b"
             ],
             [
              0.6666666666666666,
              "#ed7953"
             ],
             [
              0.7777777777777778,
              "#fb9f3a"
             ],
             [
              0.8888888888888888,
              "#fdca26"
             ],
             [
              1,
              "#f0f921"
             ]
            ],
            "type": "heatmapgl"
           }
          ],
          "histogram": [
           {
            "marker": {
             "pattern": {
              "fillmode": "overlay",
              "size": 10,
              "solidity": 0.2
             }
            },
            "type": "histogram"
           }
          ],
          "histogram2d": [
           {
            "colorbar": {
             "outlinewidth": 0,
             "ticks": ""
            },
            "colorscale": [
             [
              0,
              "#0d0887"
             ],
             [
              0.1111111111111111,
              "#46039f"
             ],
             [
              0.2222222222222222,
              "#7201a8"
             ],
             [
              0.3333333333333333,
              "#9c179e"
             ],
             [
              0.4444444444444444,
              "#bd3786"
             ],
             [
              0.5555555555555556,
              "#d8576b"
             ],
             [
              0.6666666666666666,
              "#ed7953"
             ],
             [
              0.7777777777777778,
              "#fb9f3a"
             ],
             [
              0.8888888888888888,
              "#fdca26"
             ],
             [
              1,
              "#f0f921"
             ]
            ],
            "type": "histogram2d"
           }
          ],
          "histogram2dcontour": [
           {
            "colorbar": {
             "outlinewidth": 0,
             "ticks": ""
            },
            "colorscale": [
             [
              0,
              "#0d0887"
             ],
             [
              0.1111111111111111,
              "#46039f"
             ],
             [
              0.2222222222222222,
              "#7201a8"
             ],
             [
              0.3333333333333333,
              "#9c179e"
             ],
             [
              0.4444444444444444,
              "#bd3786"
             ],
             [
              0.5555555555555556,
              "#d8576b"
             ],
             [
              0.6666666666666666,
              "#ed7953"
             ],
             [
              0.7777777777777778,
              "#fb9f3a"
             ],
             [
              0.8888888888888888,
              "#fdca26"
             ],
             [
              1,
              "#f0f921"
             ]
            ],
            "type": "histogram2dcontour"
           }
          ],
          "mesh3d": [
           {
            "colorbar": {
             "outlinewidth": 0,
             "ticks": ""
            },
            "type": "mesh3d"
           }
          ],
          "parcoords": [
           {
            "line": {
             "colorbar": {
              "outlinewidth": 0,
              "ticks": ""
             }
            },
            "type": "parcoords"
           }
          ],
          "pie": [
           {
            "automargin": true,
            "type": "pie"
           }
          ],
          "scatter": [
           {
            "fillpattern": {
             "fillmode": "overlay",
             "size": 10,
             "solidity": 0.2
            },
            "type": "scatter"
           }
          ],
          "scatter3d": [
           {
            "line": {
             "colorbar": {
              "outlinewidth": 0,
              "ticks": ""
             }
            },
            "marker": {
             "colorbar": {
              "outlinewidth": 0,
              "ticks": ""
             }
            },
            "type": "scatter3d"
           }
          ],
          "scattercarpet": [
           {
            "marker": {
             "colorbar": {
              "outlinewidth": 0,
              "ticks": ""
             }
            },
            "type": "scattercarpet"
           }
          ],
          "scattergeo": [
           {
            "marker": {
             "colorbar": {
              "outlinewidth": 0,
              "ticks": ""
             }
            },
            "type": "scattergeo"
           }
          ],
          "scattergl": [
           {
            "marker": {
             "colorbar": {
              "outlinewidth": 0,
              "ticks": ""
             }
            },
            "type": "scattergl"
           }
          ],
          "scattermapbox": [
           {
            "marker": {
             "colorbar": {
              "outlinewidth": 0,
              "ticks": ""
             }
            },
            "type": "scattermapbox"
           }
          ],
          "scatterpolar": [
           {
            "marker": {
             "colorbar": {
              "outlinewidth": 0,
              "ticks": ""
             }
            },
            "type": "scatterpolar"
           }
          ],
          "scatterpolargl": [
           {
            "marker": {
             "colorbar": {
              "outlinewidth": 0,
              "ticks": ""
             }
            },
            "type": "scatterpolargl"
           }
          ],
          "scatterternary": [
           {
            "marker": {
             "colorbar": {
              "outlinewidth": 0,
              "ticks": ""
             }
            },
            "type": "scatterternary"
           }
          ],
          "surface": [
           {
            "colorbar": {
             "outlinewidth": 0,
             "ticks": ""
            },
            "colorscale": [
             [
              0,
              "#0d0887"
             ],
             [
              0.1111111111111111,
              "#46039f"
             ],
             [
              0.2222222222222222,
              "#7201a8"
             ],
             [
              0.3333333333333333,
              "#9c179e"
             ],
             [
              0.4444444444444444,
              "#bd3786"
             ],
             [
              0.5555555555555556,
              "#d8576b"
             ],
             [
              0.6666666666666666,
              "#ed7953"
             ],
             [
              0.7777777777777778,
              "#fb9f3a"
             ],
             [
              0.8888888888888888,
              "#fdca26"
             ],
             [
              1,
              "#f0f921"
             ]
            ],
            "type": "surface"
           }
          ],
          "table": [
           {
            "cells": {
             "fill": {
              "color": "#EBF0F8"
             },
             "line": {
              "color": "white"
             }
            },
            "header": {
             "fill": {
              "color": "#C8D4E3"
             },
             "line": {
              "color": "white"
             }
            },
            "type": "table"
           }
          ]
         },
         "layout": {
          "annotationdefaults": {
           "arrowcolor": "#2a3f5f",
           "arrowhead": 0,
           "arrowwidth": 1
          },
          "autotypenumbers": "strict",
          "coloraxis": {
           "colorbar": {
            "outlinewidth": 0,
            "ticks": ""
           }
          },
          "colorscale": {
           "diverging": [
            [
             0,
             "#8e0152"
            ],
            [
             0.1,
             "#c51b7d"
            ],
            [
             0.2,
             "#de77ae"
            ],
            [
             0.3,
             "#f1b6da"
            ],
            [
             0.4,
             "#fde0ef"
            ],
            [
             0.5,
             "#f7f7f7"
            ],
            [
             0.6,
             "#e6f5d0"
            ],
            [
             0.7,
             "#b8e186"
            ],
            [
             0.8,
             "#7fbc41"
            ],
            [
             0.9,
             "#4d9221"
            ],
            [
             1,
             "#276419"
            ]
           ],
           "sequential": [
            [
             0,
             "#0d0887"
            ],
            [
             0.1111111111111111,
             "#46039f"
            ],
            [
             0.2222222222222222,
             "#7201a8"
            ],
            [
             0.3333333333333333,
             "#9c179e"
            ],
            [
             0.4444444444444444,
             "#bd3786"
            ],
            [
             0.5555555555555556,
             "#d8576b"
            ],
            [
             0.6666666666666666,
             "#ed7953"
            ],
            [
             0.7777777777777778,
             "#fb9f3a"
            ],
            [
             0.8888888888888888,
             "#fdca26"
            ],
            [
             1,
             "#f0f921"
            ]
           ],
           "sequentialminus": [
            [
             0,
             "#0d0887"
            ],
            [
             0.1111111111111111,
             "#46039f"
            ],
            [
             0.2222222222222222,
             "#7201a8"
            ],
            [
             0.3333333333333333,
             "#9c179e"
            ],
            [
             0.4444444444444444,
             "#bd3786"
            ],
            [
             0.5555555555555556,
             "#d8576b"
            ],
            [
             0.6666666666666666,
             "#ed7953"
            ],
            [
             0.7777777777777778,
             "#fb9f3a"
            ],
            [
             0.8888888888888888,
             "#fdca26"
            ],
            [
             1,
             "#f0f921"
            ]
           ]
          },
          "colorway": [
           "#636efa",
           "#EF553B",
           "#00cc96",
           "#ab63fa",
           "#FFA15A",
           "#19d3f3",
           "#FF6692",
           "#B6E880",
           "#FF97FF",
           "#FECB52"
          ],
          "font": {
           "color": "#2a3f5f"
          },
          "geo": {
           "bgcolor": "white",
           "lakecolor": "white",
           "landcolor": "#E5ECF6",
           "showlakes": true,
           "showland": true,
           "subunitcolor": "white"
          },
          "hoverlabel": {
           "align": "left"
          },
          "hovermode": "closest",
          "mapbox": {
           "style": "light"
          },
          "paper_bgcolor": "white",
          "plot_bgcolor": "#E5ECF6",
          "polar": {
           "angularaxis": {
            "gridcolor": "white",
            "linecolor": "white",
            "ticks": ""
           },
           "bgcolor": "#E5ECF6",
           "radialaxis": {
            "gridcolor": "white",
            "linecolor": "white",
            "ticks": ""
           }
          },
          "scene": {
           "xaxis": {
            "backgroundcolor": "#E5ECF6",
            "gridcolor": "white",
            "gridwidth": 2,
            "linecolor": "white",
            "showbackground": true,
            "ticks": "",
            "zerolinecolor": "white"
           },
           "yaxis": {
            "backgroundcolor": "#E5ECF6",
            "gridcolor": "white",
            "gridwidth": 2,
            "linecolor": "white",
            "showbackground": true,
            "ticks": "",
            "zerolinecolor": "white"
           },
           "zaxis": {
            "backgroundcolor": "#E5ECF6",
            "gridcolor": "white",
            "gridwidth": 2,
            "linecolor": "white",
            "showbackground": true,
            "ticks": "",
            "zerolinecolor": "white"
           }
          },
          "shapedefaults": {
           "line": {
            "color": "#2a3f5f"
           }
          },
          "ternary": {
           "aaxis": {
            "gridcolor": "white",
            "linecolor": "white",
            "ticks": ""
           },
           "baxis": {
            "gridcolor": "white",
            "linecolor": "white",
            "ticks": ""
           },
           "bgcolor": "#E5ECF6",
           "caxis": {
            "gridcolor": "white",
            "linecolor": "white",
            "ticks": ""
           }
          },
          "title": {
           "x": 0.05
          },
          "xaxis": {
           "automargin": true,
           "gridcolor": "white",
           "linecolor": "white",
           "ticks": "",
           "title": {
            "standoff": 15
           },
           "zerolinecolor": "white",
           "zerolinewidth": 2
          },
          "yaxis": {
           "automargin": true,
           "gridcolor": "white",
           "linecolor": "white",
           "ticks": "",
           "title": {
            "standoff": 15
           },
           "zerolinecolor": "white",
           "zerolinewidth": 2
          }
         }
        },
        "title": {
         "text": "CIBI A BASE ANIMALE - Inquinamento/quantità"
        },
        "xaxis": {
         "anchor": "y",
         "domain": [
          0,
          1
         ],
         "title": {
          "text": "Anno"
         }
        },
        "yaxis": {
         "anchor": "x",
         "domain": [
          0,
          1
         ],
         "title": {
          "text": "value"
         }
        }
       }
      }
     },
     "metadata": {},
     "output_type": "display_data"
    },
    {
     "data": {
      "application/vnd.plotly.v1+json": {
       "config": {
        "plotlyServerURL": "https://plot.ly"
       },
       "data": [
        {
         "alignmentgroup": "True",
         "hovertemplate": "variable=gas_serra/Quantity<br>Anno=%{x}<br>value=%{y}<extra></extra>",
         "legendgroup": "gas_serra/Quantity",
         "marker": {
          "color": "#636efa",
          "pattern": {
           "shape": ""
          }
         },
         "name": "gas_serra/Quantity",
         "offsetgroup": "gas_serra/Quantity",
         "orientation": "v",
         "showlegend": true,
         "textposition": "auto",
         "type": "bar",
         "x": [
          1961,
          1962,
          1963,
          1964,
          1965,
          1966,
          1967,
          1968,
          1969,
          1970,
          1971,
          1972,
          1973,
          1974,
          1975,
          1976,
          1977,
          1978,
          1979,
          1980,
          1981,
          1982,
          1983,
          1984,
          1985,
          1986,
          1987,
          1988,
          1989,
          1990,
          1991,
          1992,
          1993,
          1994,
          1995,
          1996,
          1997,
          1998,
          1999,
          2000,
          2001,
          2002,
          2003,
          2004,
          2005,
          2006,
          2007,
          2008,
          2009,
          2010,
          2011,
          2012,
          2013
         ],
         "xaxis": "x",
         "y": [
          0.0743726145252993,
          0.07657762691548295,
          0.07727257424816196,
          0.07839312901100265,
          0.07662403987745008,
          0.0785103379904604,
          0.07628913477032266,
          0.07948035294750881,
          0.07832340963706746,
          0.07878949447692768,
          0.0775983804928905,
          0.07631225142269873,
          0.07661402455528915,
          0.07845679745247079,
          0.08071404502436662,
          0.07910149984013483,
          0.07906584306010653,
          0.0785547989199236,
          0.07817221013542754,
          0.07723047362905608,
          0.07762022540384597,
          0.07709154860418543,
          0.07506213189014486,
          0.0746730844787526,
          0.07573111015483969,
          0.07401947270370648,
          0.07524098561784708,
          0.07677897202589089,
          0.07757381864733741,
          0.0790415928104311,
          0.07841131382011435,
          0.07802201551269565,
          0.07629379132690468,
          0.07604141144360867,
          0.07543011810611668,
          0.07281011646628129,
          0.07347553241506043,
          0.07377611049079097,
          0.0739964762604089,
          0.07060244698769046,
          0.0690154009226598,
          0.06898996083423328,
          0.0687343599228538,
          0.06982354330520804,
          0.06889835037538564,
          0.06972102958298143,
          0.07087375653794614,
          0.07097576807420586,
          0.07177026721490212,
          0.070453554378785,
          0.07081438931583436,
          0.07001377855969958,
          0.06981309771349829
         ],
         "yaxis": "y"
        },
        {
         "alignmentgroup": "True",
         "hovertemplate": "variable=CO2/Quantity<br>Anno=%{x}<br>value=%{y}<extra></extra>",
         "legendgroup": "CO2/Quantity",
         "marker": {
          "color": "#EF553B",
          "pattern": {
           "shape": ""
          }
         },
         "name": "CO2/Quantity",
         "offsetgroup": "CO2/Quantity",
         "orientation": "v",
         "showlegend": true,
         "textposition": "auto",
         "type": "bar",
         "x": [
          1961,
          1962,
          1963,
          1964,
          1965,
          1966,
          1967,
          1968,
          1969,
          1970,
          1971,
          1972,
          1973,
          1974,
          1975,
          1976,
          1977,
          1978,
          1979,
          1980,
          1981,
          1982,
          1983,
          1984,
          1985,
          1986,
          1987,
          1988,
          1989,
          1990,
          1991,
          1992,
          1993,
          1994,
          1995,
          1996,
          1997,
          1998,
          1999,
          2000,
          2001,
          2002,
          2003,
          2004,
          2005,
          2006,
          2007,
          2008,
          2009,
          2010,
          2011,
          2012,
          2013
         ],
         "xaxis": "x",
         "y": [
          1.1898028462410528,
          1.2250464770983318,
          1.2379407118589576,
          1.2549951196970912,
          1.2333760725456997,
          1.2502006650101003,
          1.238526598310884,
          1.253913463291945,
          1.247886850006355,
          1.275254449488858,
          1.277418604252936,
          1.258806415057643,
          1.2599600568622833,
          1.2762229427410383,
          1.2971532153614878,
          1.29174696678257,
          1.2763263614108002,
          1.2639657319760695,
          1.2634393064786646,
          1.2789119565510363,
          1.2715433585948999,
          1.2809845292042648,
          1.2812512597097476,
          1.2545781537213068,
          1.257374285475555,
          1.2393646841128474,
          1.2511742940291875,
          1.2616574889687455,
          1.2725287023985152,
          1.2765434739796635,
          1.2542749081505307,
          1.2445928764376484,
          1.2297845325326093,
          1.2265276908998566,
          1.226042177808408,
          1.2110048039310837,
          1.2077684507350583,
          1.198310137465684,
          1.1978113144821447,
          1.1632033340231482,
          1.1560531709022284,
          1.1536992853986452,
          1.1515972536063508,
          1.1488553485653816,
          1.1430737143846865,
          1.1463526717156853,
          1.1502574034134274,
          1.1517684810205358,
          1.152035370650202,
          1.1383651632613545,
          1.1304279109016429,
          1.1205000203234206,
          1.1159564817175858
         ],
         "yaxis": "y"
        },
        {
         "alignmentgroup": "True",
         "hovertemplate": "variable=PO4/Quantity<br>Anno=%{x}<br>value=%{y}<extra></extra>",
         "legendgroup": "PO4/Quantity",
         "marker": {
          "color": "#00cc96",
          "pattern": {
           "shape": ""
          }
         },
         "name": "PO4/Quantity",
         "offsetgroup": "PO4/Quantity",
         "orientation": "v",
         "showlegend": true,
         "textposition": "auto",
         "type": "bar",
         "x": [
          1961,
          1962,
          1963,
          1964,
          1965,
          1966,
          1967,
          1968,
          1969,
          1970,
          1971,
          1972,
          1973,
          1974,
          1975,
          1976,
          1977,
          1978,
          1979,
          1980,
          1981,
          1982,
          1983,
          1984,
          1985,
          1986,
          1987,
          1988,
          1989,
          1990,
          1991,
          1992,
          1993,
          1994,
          1995,
          1996,
          1997,
          1998,
          1999,
          2000,
          2001,
          2002,
          2003,
          2004,
          2005,
          2006,
          2007,
          2008,
          2009,
          2010,
          2011,
          2012,
          2013
         ],
         "xaxis": "x",
         "y": [
          0.00873668164171962,
          0.009016975707138133,
          0.009137237107844856,
          0.00928080434229077,
          0.009109416351479323,
          0.009215080992241548,
          0.009135414166172206,
          0.009221616942195367,
          0.009174572036078984,
          0.009459060991412489,
          0.009464888287654882,
          0.009328045902075309,
          0.009348259450156837,
          0.009446803716985726,
          0.00957254287365442,
          0.00952922139712954,
          0.009424146547368272,
          0.009315206452610456,
          0.009305505237617622,
          0.009413853307525404,
          0.00933069166368307,
          0.009429283332310082,
          0.009500444969413298,
          0.00927367316497699,
          0.009266755362136893,
          0.009090163743260013,
          0.009181292210469571,
          0.009246387703959458,
          0.009334340445316208,
          0.00931673717544183,
          0.009120297213378386,
          0.009016704844141351,
          0.008927167339839216,
          0.008861165261977935,
          0.008878433240523778,
          0.008781892783164632,
          0.008750174855555352,
          0.008655952797079735,
          0.008595935229984725,
          0.008312988772338915,
          0.008230392695169791,
          0.008195569135811867,
          0.008145510114296928,
          0.008099792099657296,
          0.00805430582241463,
          0.008024452079629237,
          0.008048684557294907,
          0.008080131419014992,
          0.008047543948446608,
          0.007961703797283929,
          0.007882533755041147,
          0.007792283154451578,
          0.007748508390940195
         ],
         "yaxis": "y"
        },
        {
         "alignmentgroup": "True",
         "hovertemplate": "variable=water_usage/Quantity<br>Anno=%{x}<br>value=%{y}<extra></extra>",
         "legendgroup": "water_usage/Quantity",
         "marker": {
          "color": "#ab63fa",
          "pattern": {
           "shape": ""
          }
         },
         "name": "water_usage/Quantity",
         "offsetgroup": "water_usage/Quantity",
         "orientation": "v",
         "showlegend": true,
         "textposition": "auto",
         "type": "bar",
         "x": [
          1961,
          1962,
          1963,
          1964,
          1965,
          1966,
          1967,
          1968,
          1969,
          1970,
          1971,
          1972,
          1973,
          1974,
          1975,
          1976,
          1977,
          1978,
          1979,
          1980,
          1981,
          1982,
          1983,
          1984,
          1985,
          1986,
          1987,
          1988,
          1989,
          1990,
          1991,
          1992,
          1993,
          1994,
          1995,
          1996,
          1997,
          1998,
          1999,
          2000,
          2001,
          2002,
          2003,
          2004,
          2005,
          2006,
          2007,
          2008,
          2009,
          2010,
          2011,
          2012,
          2013
         ],
         "xaxis": "x",
         "y": [
          0.46332519583581777,
          0.4807774439467479,
          0.4887112293822813,
          0.5005791471965371,
          0.49166679691221626,
          0.4981197570121025,
          0.49729291125763186,
          0.49802914339263443,
          0.4980251419427562,
          0.5189052233639838,
          0.52109188011761,
          0.5145194140633528,
          0.5164282556515858,
          0.521711393439883,
          0.5297249417914304,
          0.5279313500591848,
          0.5268880178235931,
          0.5197774105961053,
          0.5169158556023988,
          0.5286643571770303,
          0.5226219498416337,
          0.5318772344524604,
          0.5382281059213394,
          0.5241261058221992,
          0.5244852145662229,
          0.5144959610865244,
          0.5185921128619255,
          0.5225560844370047,
          0.5260190385976345,
          0.525831340614703,
          0.5150471566680589,
          0.5089710086463727,
          0.5041317430901843,
          0.5015067726508179,
          0.5032162355892488,
          0.4999429433582261,
          0.49624461383697627,
          0.48924315205695723,
          0.4850165391564271,
          0.4702151448241711,
          0.4669887259500597,
          0.4647477478707691,
          0.4624675012008591,
          0.4588767704057461,
          0.4584039361376623,
          0.4578477022774701,
          0.4581775128195047,
          0.46118907244155144,
          0.4600949027380586,
          0.45498751625404205,
          0.44931595415039766,
          0.44396082596520203,
          0.44167288114399245
         ],
         "yaxis": "y"
        }
       ],
       "layout": {
        "barmode": "relative",
        "height": 600,
        "legend": {
         "title": {
          "text": "variable"
         },
         "tracegroupgap": 0
        },
        "template": {
         "data": {
          "bar": [
           {
            "error_x": {
             "color": "#2a3f5f"
            },
            "error_y": {
             "color": "#2a3f5f"
            },
            "marker": {
             "line": {
              "color": "#E5ECF6",
              "width": 0.5
             },
             "pattern": {
              "fillmode": "overlay",
              "size": 10,
              "solidity": 0.2
             }
            },
            "type": "bar"
           }
          ],
          "barpolar": [
           {
            "marker": {
             "line": {
              "color": "#E5ECF6",
              "width": 0.5
             },
             "pattern": {
              "fillmode": "overlay",
              "size": 10,
              "solidity": 0.2
             }
            },
            "type": "barpolar"
           }
          ],
          "carpet": [
           {
            "aaxis": {
             "endlinecolor": "#2a3f5f",
             "gridcolor": "white",
             "linecolor": "white",
             "minorgridcolor": "white",
             "startlinecolor": "#2a3f5f"
            },
            "baxis": {
             "endlinecolor": "#2a3f5f",
             "gridcolor": "white",
             "linecolor": "white",
             "minorgridcolor": "white",
             "startlinecolor": "#2a3f5f"
            },
            "type": "carpet"
           }
          ],
          "choropleth": [
           {
            "colorbar": {
             "outlinewidth": 0,
             "ticks": ""
            },
            "type": "choropleth"
           }
          ],
          "contour": [
           {
            "colorbar": {
             "outlinewidth": 0,
             "ticks": ""
            },
            "colorscale": [
             [
              0,
              "#0d0887"
             ],
             [
              0.1111111111111111,
              "#46039f"
             ],
             [
              0.2222222222222222,
              "#7201a8"
             ],
             [
              0.3333333333333333,
              "#9c179e"
             ],
             [
              0.4444444444444444,
              "#bd3786"
             ],
             [
              0.5555555555555556,
              "#d8576b"
             ],
             [
              0.6666666666666666,
              "#ed7953"
             ],
             [
              0.7777777777777778,
              "#fb9f3a"
             ],
             [
              0.8888888888888888,
              "#fdca26"
             ],
             [
              1,
              "#f0f921"
             ]
            ],
            "type": "contour"
           }
          ],
          "contourcarpet": [
           {
            "colorbar": {
             "outlinewidth": 0,
             "ticks": ""
            },
            "type": "contourcarpet"
           }
          ],
          "heatmap": [
           {
            "colorbar": {
             "outlinewidth": 0,
             "ticks": ""
            },
            "colorscale": [
             [
              0,
              "#0d0887"
             ],
             [
              0.1111111111111111,
              "#46039f"
             ],
             [
              0.2222222222222222,
              "#7201a8"
             ],
             [
              0.3333333333333333,
              "#9c179e"
             ],
             [
              0.4444444444444444,
              "#bd3786"
             ],
             [
              0.5555555555555556,
              "#d8576b"
             ],
             [
              0.6666666666666666,
              "#ed7953"
             ],
             [
              0.7777777777777778,
              "#fb9f3a"
             ],
             [
              0.8888888888888888,
              "#fdca26"
             ],
             [
              1,
              "#f0f921"
             ]
            ],
            "type": "heatmap"
           }
          ],
          "heatmapgl": [
           {
            "colorbar": {
             "outlinewidth": 0,
             "ticks": ""
            },
            "colorscale": [
             [
              0,
              "#0d0887"
             ],
             [
              0.1111111111111111,
              "#46039f"
             ],
             [
              0.2222222222222222,
              "#7201a8"
             ],
             [
              0.3333333333333333,
              "#9c179e"
             ],
             [
              0.4444444444444444,
              "#bd3786"
             ],
             [
              0.5555555555555556,
              "#d8576b"
             ],
             [
              0.6666666666666666,
              "#ed7953"
             ],
             [
              0.7777777777777778,
              "#fb9f3a"
             ],
             [
              0.8888888888888888,
              "#fdca26"
             ],
             [
              1,
              "#f0f921"
             ]
            ],
            "type": "heatmapgl"
           }
          ],
          "histogram": [
           {
            "marker": {
             "pattern": {
              "fillmode": "overlay",
              "size": 10,
              "solidity": 0.2
             }
            },
            "type": "histogram"
           }
          ],
          "histogram2d": [
           {
            "colorbar": {
             "outlinewidth": 0,
             "ticks": ""
            },
            "colorscale": [
             [
              0,
              "#0d0887"
             ],
             [
              0.1111111111111111,
              "#46039f"
             ],
             [
              0.2222222222222222,
              "#7201a8"
             ],
             [
              0.3333333333333333,
              "#9c179e"
             ],
             [
              0.4444444444444444,
              "#bd3786"
             ],
             [
              0.5555555555555556,
              "#d8576b"
             ],
             [
              0.6666666666666666,
              "#ed7953"
             ],
             [
              0.7777777777777778,
              "#fb9f3a"
             ],
             [
              0.8888888888888888,
              "#fdca26"
             ],
             [
              1,
              "#f0f921"
             ]
            ],
            "type": "histogram2d"
           }
          ],
          "histogram2dcontour": [
           {
            "colorbar": {
             "outlinewidth": 0,
             "ticks": ""
            },
            "colorscale": [
             [
              0,
              "#0d0887"
             ],
             [
              0.1111111111111111,
              "#46039f"
             ],
             [
              0.2222222222222222,
              "#7201a8"
             ],
             [
              0.3333333333333333,
              "#9c179e"
             ],
             [
              0.4444444444444444,
              "#bd3786"
             ],
             [
              0.5555555555555556,
              "#d8576b"
             ],
             [
              0.6666666666666666,
              "#ed7953"
             ],
             [
              0.7777777777777778,
              "#fb9f3a"
             ],
             [
              0.8888888888888888,
              "#fdca26"
             ],
             [
              1,
              "#f0f921"
             ]
            ],
            "type": "histogram2dcontour"
           }
          ],
          "mesh3d": [
           {
            "colorbar": {
             "outlinewidth": 0,
             "ticks": ""
            },
            "type": "mesh3d"
           }
          ],
          "parcoords": [
           {
            "line": {
             "colorbar": {
              "outlinewidth": 0,
              "ticks": ""
             }
            },
            "type": "parcoords"
           }
          ],
          "pie": [
           {
            "automargin": true,
            "type": "pie"
           }
          ],
          "scatter": [
           {
            "fillpattern": {
             "fillmode": "overlay",
             "size": 10,
             "solidity": 0.2
            },
            "type": "scatter"
           }
          ],
          "scatter3d": [
           {
            "line": {
             "colorbar": {
              "outlinewidth": 0,
              "ticks": ""
             }
            },
            "marker": {
             "colorbar": {
              "outlinewidth": 0,
              "ticks": ""
             }
            },
            "type": "scatter3d"
           }
          ],
          "scattercarpet": [
           {
            "marker": {
             "colorbar": {
              "outlinewidth": 0,
              "ticks": ""
             }
            },
            "type": "scattercarpet"
           }
          ],
          "scattergeo": [
           {
            "marker": {
             "colorbar": {
              "outlinewidth": 0,
              "ticks": ""
             }
            },
            "type": "scattergeo"
           }
          ],
          "scattergl": [
           {
            "marker": {
             "colorbar": {
              "outlinewidth": 0,
              "ticks": ""
             }
            },
            "type": "scattergl"
           }
          ],
          "scattermapbox": [
           {
            "marker": {
             "colorbar": {
              "outlinewidth": 0,
              "ticks": ""
             }
            },
            "type": "scattermapbox"
           }
          ],
          "scatterpolar": [
           {
            "marker": {
             "colorbar": {
              "outlinewidth": 0,
              "ticks": ""
             }
            },
            "type": "scatterpolar"
           }
          ],
          "scatterpolargl": [
           {
            "marker": {
             "colorbar": {
              "outlinewidth": 0,
              "ticks": ""
             }
            },
            "type": "scatterpolargl"
           }
          ],
          "scatterternary": [
           {
            "marker": {
             "colorbar": {
              "outlinewidth": 0,
              "ticks": ""
             }
            },
            "type": "scatterternary"
           }
          ],
          "surface": [
           {
            "colorbar": {
             "outlinewidth": 0,
             "ticks": ""
            },
            "colorscale": [
             [
              0,
              "#0d0887"
             ],
             [
              0.1111111111111111,
              "#46039f"
             ],
             [
              0.2222222222222222,
              "#7201a8"
             ],
             [
              0.3333333333333333,
              "#9c179e"
             ],
             [
              0.4444444444444444,
              "#bd3786"
             ],
             [
              0.5555555555555556,
              "#d8576b"
             ],
             [
              0.6666666666666666,
              "#ed7953"
             ],
             [
              0.7777777777777778,
              "#fb9f3a"
             ],
             [
              0.8888888888888888,
              "#fdca26"
             ],
             [
              1,
              "#f0f921"
             ]
            ],
            "type": "surface"
           }
          ],
          "table": [
           {
            "cells": {
             "fill": {
              "color": "#EBF0F8"
             },
             "line": {
              "color": "white"
             }
            },
            "header": {
             "fill": {
              "color": "#C8D4E3"
             },
             "line": {
              "color": "white"
             }
            },
            "type": "table"
           }
          ]
         },
         "layout": {
          "annotationdefaults": {
           "arrowcolor": "#2a3f5f",
           "arrowhead": 0,
           "arrowwidth": 1
          },
          "autotypenumbers": "strict",
          "coloraxis": {
           "colorbar": {
            "outlinewidth": 0,
            "ticks": ""
           }
          },
          "colorscale": {
           "diverging": [
            [
             0,
             "#8e0152"
            ],
            [
             0.1,
             "#c51b7d"
            ],
            [
             0.2,
             "#de77ae"
            ],
            [
             0.3,
             "#f1b6da"
            ],
            [
             0.4,
             "#fde0ef"
            ],
            [
             0.5,
             "#f7f7f7"
            ],
            [
             0.6,
             "#e6f5d0"
            ],
            [
             0.7,
             "#b8e186"
            ],
            [
             0.8,
             "#7fbc41"
            ],
            [
             0.9,
             "#4d9221"
            ],
            [
             1,
             "#276419"
            ]
           ],
           "sequential": [
            [
             0,
             "#0d0887"
            ],
            [
             0.1111111111111111,
             "#46039f"
            ],
            [
             0.2222222222222222,
             "#7201a8"
            ],
            [
             0.3333333333333333,
             "#9c179e"
            ],
            [
             0.4444444444444444,
             "#bd3786"
            ],
            [
             0.5555555555555556,
             "#d8576b"
            ],
            [
             0.6666666666666666,
             "#ed7953"
            ],
            [
             0.7777777777777778,
             "#fb9f3a"
            ],
            [
             0.8888888888888888,
             "#fdca26"
            ],
            [
             1,
             "#f0f921"
            ]
           ],
           "sequentialminus": [
            [
             0,
             "#0d0887"
            ],
            [
             0.1111111111111111,
             "#46039f"
            ],
            [
             0.2222222222222222,
             "#7201a8"
            ],
            [
             0.3333333333333333,
             "#9c179e"
            ],
            [
             0.4444444444444444,
             "#bd3786"
            ],
            [
             0.5555555555555556,
             "#d8576b"
            ],
            [
             0.6666666666666666,
             "#ed7953"
            ],
            [
             0.7777777777777778,
             "#fb9f3a"
            ],
            [
             0.8888888888888888,
             "#fdca26"
            ],
            [
             1,
             "#f0f921"
            ]
           ]
          },
          "colorway": [
           "#636efa",
           "#EF553B",
           "#00cc96",
           "#ab63fa",
           "#FFA15A",
           "#19d3f3",
           "#FF6692",
           "#B6E880",
           "#FF97FF",
           "#FECB52"
          ],
          "font": {
           "color": "#2a3f5f"
          },
          "geo": {
           "bgcolor": "white",
           "lakecolor": "white",
           "landcolor": "#E5ECF6",
           "showlakes": true,
           "showland": true,
           "subunitcolor": "white"
          },
          "hoverlabel": {
           "align": "left"
          },
          "hovermode": "closest",
          "mapbox": {
           "style": "light"
          },
          "paper_bgcolor": "white",
          "plot_bgcolor": "#E5ECF6",
          "polar": {
           "angularaxis": {
            "gridcolor": "white",
            "linecolor": "white",
            "ticks": ""
           },
           "bgcolor": "#E5ECF6",
           "radialaxis": {
            "gridcolor": "white",
            "linecolor": "white",
            "ticks": ""
           }
          },
          "scene": {
           "xaxis": {
            "backgroundcolor": "#E5ECF6",
            "gridcolor": "white",
            "gridwidth": 2,
            "linecolor": "white",
            "showbackground": true,
            "ticks": "",
            "zerolinecolor": "white"
           },
           "yaxis": {
            "backgroundcolor": "#E5ECF6",
            "gridcolor": "white",
            "gridwidth": 2,
            "linecolor": "white",
            "showbackground": true,
            "ticks": "",
            "zerolinecolor": "white"
           },
           "zaxis": {
            "backgroundcolor": "#E5ECF6",
            "gridcolor": "white",
            "gridwidth": 2,
            "linecolor": "white",
            "showbackground": true,
            "ticks": "",
            "zerolinecolor": "white"
           }
          },
          "shapedefaults": {
           "line": {
            "color": "#2a3f5f"
           }
          },
          "ternary": {
           "aaxis": {
            "gridcolor": "white",
            "linecolor": "white",
            "ticks": ""
           },
           "baxis": {
            "gridcolor": "white",
            "linecolor": "white",
            "ticks": ""
           },
           "bgcolor": "#E5ECF6",
           "caxis": {
            "gridcolor": "white",
            "linecolor": "white",
            "ticks": ""
           }
          },
          "title": {
           "x": 0.05
          },
          "xaxis": {
           "automargin": true,
           "gridcolor": "white",
           "linecolor": "white",
           "ticks": "",
           "title": {
            "standoff": 15
           },
           "zerolinecolor": "white",
           "zerolinewidth": 2
          },
          "yaxis": {
           "automargin": true,
           "gridcolor": "white",
           "linecolor": "white",
           "ticks": "",
           "title": {
            "standoff": 15
           },
           "zerolinecolor": "white",
           "zerolinewidth": 2
          }
         }
        },
        "title": {
         "text": "CIBI A BASE VEGETALE - Inquinamento/quantità"
        },
        "xaxis": {
         "anchor": "y",
         "domain": [
          0,
          1
         ],
         "title": {
          "text": "Anno"
         }
        },
        "yaxis": {
         "anchor": "x",
         "domain": [
          0,
          1
         ],
         "title": {
          "text": "value"
         }
        }
       }
      }
     },
     "metadata": {},
     "output_type": "display_data"
    }
   ],
   "source": [
    "pollution_column = [\"Yearly gas serra emissions(Tonnes)\", \"Yearly TonnesCO2\", \"Yearly Tonnes PO4 producted\", \"Yearly water usage(Tonnes)\"]\n",
    "def rapporto_inquinamento(df):\n",
    "     df[\"gas_serra/Quantity\"] = df[\"Yearly gas serra emissions(Tonnes)\"]/df[\"Quantity(Tonnes)\"]\n",
    "     df[\"CO2/Quantity\"] = df[\"Yearly TonnesCO2\"]/df[\"Quantity(Tonnes)\"]\n",
    "     df[\"PO4/Quantity\"] = df[\"Yearly Tonnes PO4 producted\"]/df[\"Quantity(Tonnes)\"]\n",
    "     df[\"water_usage/Quantity\"] = df[\"Yearly water usage(Tonnes)\"]/df[\"Quantity(Tonnes)\"]\n",
    "     return df\n",
    "\n",
    "veg_subdf_yearly_grouped = rapporto_inquinamento(veg_subdf_yearly_grouped)\n",
    "beef_subdf_yearly_grouped = rapporto_inquinamento(beef_subdf_yearly_grouped)\n",
    "\n",
    "fig = px.bar(\n",
    "     beef_subdf_yearly_grouped,\n",
    "     x=\"Year\",\n",
    "     y=[\"gas_serra/Quantity\", \"CO2/Quantity\", \"PO4/Quantity\", \"water_usage/Quantity\"],\n",
    "     labels={\n",
    "          \"Year\": \"Anno\",\n",
    "          \"Quantity(Tonnes)\": \"Quantità(Tonnellate)\",\n",
    "          \"Yearly gas serra emissions(Tonnes)\": \"Gas serra annuo(Tonnellate)\",\n",
    "          \"Yearly TonnesCO2\": \"CO2 annua(Tonnellate)\",\n",
    "          \"Yearly Tonnes PO4 producted\": \"PO4 annua(Tonnellate)\",\n",
    "          \"Yearly water usage(Tonnes)\": \"Utilizzo acqua annuo(Tonnellate)\",\n",
    "     },\n",
    "     title=\"CIBI A BASE ANIMALE - Inquinamento/quantità\",\n",
    "     height=600\n",
    ")\n",
    "\n",
    "fig.show()\n",
    "\n",
    "fig = px.bar(\n",
    "     veg_subdf_yearly_grouped,\n",
    "     x=\"Year\",\n",
    "     y=[\"gas_serra/Quantity\", \"CO2/Quantity\", \"PO4/Quantity\", \"water_usage/Quantity\"],\n",
    "     labels={\n",
    "          \"Year\": \"Anno\",\n",
    "          \"Quantity(Tonnes)\": \"Quantità(Tonnellate)\",\n",
    "          \"Yearly gas serra emissions(Tonnes)\": \"Gas serra annuo(Tonnellate)\",\n",
    "          \"Yearly TonnesCO2\": \"CO2 annua(Tonnellate)\",\n",
    "          \"Yearly Tonnes PO4 producted\": \"PO4 annua(Tonnellate)\",\n",
    "          \"Yearly water usage(Tonnes)\": \"Utilizzo acqua annuo(Tonnellate)\",\n",
    "     },\n",
    "     title=\"CIBI A BASE VEGETALE - Inquinamento/quantità\",\n",
    "     height=600\n",
    ")\n",
    "\n",
    "fig.show()"
   ]
  },
  {
   "cell_type": "markdown",
   "metadata": {},
   "source": [
    "# Conclusioni \n",
    "#### Da ciò che mostrano i dati si può chiaramente evincere che i prodotti di base animale tendono ad inquinare nettamente di più. Avendo anche un rapporto inquinamento/produzione molto più elevato rispetto a quello vegetale."
   ]
  },
  {
   "cell_type": "markdown",
   "metadata": {},
   "source": [
    "#### Si evince dunque che sarebbe opportuno spostare il focus produttivo su prodotti di tipo vegetale piuttosto che animale."
   ]
  }
 ],
 "metadata": {
  "kernelspec": {
   "display_name": "Python 3.10.1 64-bit",
   "language": "python",
   "name": "python3"
  },
  "language_info": {
   "codemirror_mode": {
    "name": "ipython",
    "version": 3
   },
   "file_extension": ".py",
   "mimetype": "text/x-python",
   "name": "python",
   "nbconvert_exporter": "python",
   "pygments_lexer": "ipython3",
   "version": "3.10.1"
  },
  "vscode": {
   "interpreter": {
    "hash": "aee8b7b246df8f9039afb4144a1f6fd8d2ca17a180786b69acc140d282b71a49"
   }
  }
 },
 "nbformat": 4,
 "nbformat_minor": 2
}
